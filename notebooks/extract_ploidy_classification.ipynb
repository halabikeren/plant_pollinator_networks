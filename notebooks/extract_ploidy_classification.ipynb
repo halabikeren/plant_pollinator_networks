{
 "cells": [
  {
   "cell_type": "code",
   "execution_count": 45,
   "id": "27b6b65e-9638-4b90-942a-03fc2af80096",
   "metadata": {},
   "outputs": [],
   "source": [
    "import pandas as pd\n",
    "import numpy as np\n",
    "import os\n",
    "import sys\n",
    "sys.path.append(\"../code/data_processing/name_resolution/\")\n",
    "from resolved_names_curator import ResolvedNamesCurator\n",
    "\n",
    "import matplotlib.pyplot as plt\n",
    "from ete3 import Tree"
   ]
  },
  {
   "cell_type": "code",
   "execution_count": 46,
   "id": "dcd2995d-5fa1-4709-ad6c-3a8e1039c9c7",
   "metadata": {},
   "outputs": [],
   "source": [
    "group_by = \"genus\"\n",
    "\n",
    "polyploidy_threshold = 0.75\n",
    "diploidy_threshold = 0.25\n",
    "\n",
    "conservative_ploidb_path = f\"/groups/itay_mayrose/halabikeren/PloiDB/chromevol/results/with_model_weighting/ploidb_by_{group_by}_without_missing.csv\"\n",
    "with_missing_ploidb_path = f\"/groups/itay_mayrose/halabikeren/PloiDB/chromevol/results/with_model_weighting/ploidb_by_{group_by}_with_missing.csv\"\n",
    "qdb_path = \"/groups/itay_mayrose/halabikeren/PloiDB/chromevol/results/cvalues_db.csv\"\n",
    "\n",
    "unresolved_plant_names_path = f\"../data/name_resolution/unresolved_plant_names.csv\"\n",
    "resolved_plant_names_path = f\"/groups/itay_mayrose/halabikeren/plant_pollinator_networks/name_resolution/resolved_plant_names.csv\"\n",
    "\n",
    "tree_path = \"/groups/itay_mayrose/halabikeren/PloiDB/trees/ALLMB.tre\"\n",
    "ccdb_path = \"/groups/itay_mayrose/halabikeren/PloiDB/ccdb/all_data_with_ALLMB_mapped_names.csv\"\n",
    "classification_data_path = \"/groups/itay_mayrose/halabikeren/PloiDB/trees/wfo_classification_data.csv\"\n",
    "missing_names_path = \"/groups/itay_mayrose/halabikeren/PloiDB/trees/names_to_add_for_ppn_project.csv\"\n",
    "\n",
    "networks_types = [\"weighted\", \"binary\"]\n",
    "all_networks_dir = \"/groups/itay_mayrose/halabikeren/plant_pollinator_networks/networks/all/\"\n",
    "\n",
    "plant_classification_path = f\"{os.getcwd()}/plant_classification.csv\"\n",
    "network_classification_path = f\"{os.getcwd()}/network_classification.csv\"\n",
    "\n",
    "all_networks_dir = \"/groups/itay_mayrose/halabikeren/plant_pollinator_networks/networks/all/\"\n",
    "networks_types = [\"weighted\", \"binary\"]"
   ]
  },
  {
   "cell_type": "markdown",
   "id": "facc5abe-231c-4b4f-9482-d9a259be620c",
   "metadata": {
    "tags": []
   },
   "source": [
    "# Extract classification at plant species level"
   ]
  },
  {
   "cell_type": "code",
   "execution_count": 47,
   "id": "925d9292-8806-4700-8ba8-7c4b92865266",
   "metadata": {},
   "outputs": [
    {
     "name": "stderr",
     "output_type": "stream",
     "text": [
      "/tmp/ipykernel_35913/894337745.py:10: DtypeWarning: Columns (22,23) have mixed types. Specify dtype option on import or set low_memory=False.\n",
      "  non_conservative_ploidy_df = pd.read_csv(with_missing_ploidb_path)\n"
     ]
    }
   ],
   "source": [
    "plant_classification_df = pd.read_csv(resolved_plant_names_path)[[\"original_name\",\"matched_name\", \"resolved_name\"]]\n",
    "plant_classification_df.original_name = plant_classification_df.original_name.str.lower()\n",
    "plant_classification_df.matched_name = plant_classification_df.matched_name.str.lower()\n",
    "plant_classification_df.resolved_name = plant_classification_df.resolved_name.str.lower()\n",
    "\n",
    "conservative_ploidy_df = pd.read_csv(conservative_ploidb_path)\n",
    "conservative_ploidy_df[\"Ploidy inference\"] = conservative_ploidy_df[\"Ploidy transitions frequency\"].apply(lambda f: 1 if f >= polyploidy_threshold else (0 if f < diploidy_threshold else np.nan))\n",
    "convervative_classification_data = conservative_ploidy_df.set_index(\"Taxon\")[\"Ploidy inference\"].to_dict()\n",
    "\n",
    "non_conservative_ploidy_df = pd.read_csv(with_missing_ploidb_path)\n",
    "non_conservative_ploidy_df[\"Ploidy inference\"] =non_conservative_ploidy_df[\"Ploidy transitions frequency\"].apply(lambda f: 1 if f >= polyploidy_threshold else (0 if f < diploidy_threshold else np.nan))\n",
    "non_convervative_classification_data = non_conservative_ploidy_df.set_index(\"Taxon\")[\"Ploidy inference\"].to_dict()\n",
    "\n",
    "plant_classification_df.set_index(\"original_name\", inplace=True)\n",
    "plant_classification_df[\"conservative_is_polyploid_by_original\"] = np.nan\n",
    "plant_classification_df[\"non_conservative_is_polyploid_by_original\"] = np.nan\n",
    "plant_classification_df[\"conservative_is_polyploid_by_original\"].fillna(value=convervative_classification_data, inplace=True)\n",
    "plant_classification_df[\"non_conservative_is_polyploid_by_original\"].fillna(value=non_convervative_classification_data, inplace=True)\n",
    "plant_classification_df.reset_index(inplace=True)\n",
    "\n",
    "plant_classification_df.set_index(\"matched_name\", inplace=True)\n",
    "plant_classification_df[\"conservative_is_polyploid_by_matched\"] = np.nan\n",
    "plant_classification_df[\"non_conservative_is_polyploid_by_matched\"] = np.nan\n",
    "plant_classification_df[\"conservative_is_polyploid_by_matched\"].fillna(value=convervative_classification_data, inplace=True)\n",
    "plant_classification_df[\"non_conservative_is_polyploid_by_matched\"].fillna(value=non_convervative_classification_data, inplace=True)\n",
    "plant_classification_df.reset_index(inplace=True)\n",
    "\n",
    "plant_classification_df.set_index(\"resolved_name\", inplace=True)\n",
    "plant_classification_df[\"conservative_is_polyploid_by_resolved\"] = np.nan\n",
    "plant_classification_df[\"non_conservative_is_polyploid_by_resolved\"] = np.nan\n",
    "plant_classification_df[\"conservative_is_polyploid_by_resolved\"].fillna(value=convervative_classification_data, inplace=True)\n",
    "plant_classification_df[\"non_conservative_is_polyploid_by_resolved\"].fillna(value=non_convervative_classification_data, inplace=True)\n",
    "plant_classification_df.reset_index(inplace=True)"
   ]
  },
  {
   "cell_type": "code",
   "execution_count": 48,
   "id": "d5383802-e09a-459f-ad34-c6ff363deba6",
   "metadata": {},
   "outputs": [],
   "source": [
    "plant_classification_df[\"conservative_is_polyploid\"] = plant_classification_df[[\"conservative_is_polyploid_by_original\",\n",
    "                                                                                \"conservative_is_polyploid_by_matched\",\n",
    "                                                                                \"conservative_is_polyploid_by_resolved\"]].apply(lambda labels: np.nan if len(labels.dropna())==0 else labels.dropna()[0], axis=1) \n",
    "\n",
    "plant_classification_df[\"non_conservative_is_polyploid\"] = plant_classification_df[[\"non_conservative_is_polyploid_by_original\",\n",
    "                                                                                \"non_conservative_is_polyploid_by_matched\",\n",
    "                                                                                \"non_conservative_is_polyploid_by_resolved\"]].apply(lambda labels: np.nan if len(labels.dropna())==0 else labels.dropna()[0], axis=1) "
   ]
  },
  {
   "cell_type": "code",
   "execution_count": 49,
   "id": "67aa0203-a8dc-4144-ad5a-02ce85851a18",
   "metadata": {},
   "outputs": [
    {
     "name": "stdout",
     "output_type": "stream",
     "text": [
      "% conservatively classified by original name = 30.87% (1,620)\n",
      "% non-conservatively classified by original name = 36.48% (1,914)\n",
      "% conservatively classified by matched name = 0.0% (0)\n",
      "% non-conservatively classified by matched name = 0.0% (0)\n",
      "% conservatively classified by resolved name = 33.75% (1,771)\n",
      "% non-conservatively classified by resolved name = 39.68% (2,082)\n",
      "% conservatively classified by any name = 34.5% (1,810)\n",
      "% non-conservatively classified by any name = 41.01% (2,152)\n"
     ]
    }
   ],
   "source": [
    "print(f\"% conservatively classified by original name = {np.round(plant_classification_df.dropna(subset=['conservative_is_polyploid_by_original']).shape[0]/plant_classification_df.shape[0]*100, 2)}% ({plant_classification_df.dropna(subset=['conservative_is_polyploid_by_original']).shape[0]:,})\")\n",
    "print(f\"% non-conservatively classified by original name = {np.round(plant_classification_df.dropna(subset=['non_conservative_is_polyploid_by_original']).shape[0]/plant_classification_df.shape[0]*100, 2)}% ({plant_classification_df.dropna(subset=['non_conservative_is_polyploid_by_original']).shape[0]:,})\")\n",
    "\n",
    "print(f\"% conservatively classified by matched name = {np.round(plant_classification_df.dropna(subset=['conservative_is_polyploid_by_matched']).shape[0]/plant_classification_df.shape[0]*100, 2)}% ({plant_classification_df.dropna(subset=['conservative_is_polyploid_by_matched']).shape[0]:,})\")\n",
    "print(f\"% non-conservatively classified by matched name = {np.round(plant_classification_df.dropna(subset=['non_conservative_is_polyploid_by_matched']).shape[0]/plant_classification_df.shape[0]*100, 2)}% ({plant_classification_df.dropna(subset=['non_conservative_is_polyploid_by_matched']).shape[0]:,})\")\n",
    "\n",
    "print(f\"% conservatively classified by resolved name = {np.round(plant_classification_df.dropna(subset=['conservative_is_polyploid_by_resolved']).shape[0]/plant_classification_df.shape[0]*100, 2)}% ({plant_classification_df.dropna(subset=['conservative_is_polyploid_by_resolved']).shape[0]:,})\")\n",
    "print(f\"% non-conservatively classified by resolved name = {np.round(plant_classification_df.dropna(subset=['non_conservative_is_polyploid_by_resolved']).shape[0]/plant_classification_df.shape[0]*100, 2)}% ({plant_classification_df.dropna(subset=['non_conservative_is_polyploid_by_resolved']).shape[0]:,})\")\n",
    "\n",
    "print(f\"% conservatively classified by any name = {np.round(plant_classification_df.dropna(subset=['conservative_is_polyploid']).shape[0]/plant_classification_df.shape[0]*100, 2)}% ({plant_classification_df.dropna(subset=['conservative_is_polyploid']).shape[0]:,})\")\n",
    "print(f\"% non-conservatively classified by any name = {np.round(plant_classification_df.dropna(subset=['non_conservative_is_polyploid']).shape[0]/plant_classification_df.shape[0]*100, 2)}% ({plant_classification_df.dropna(subset=['non_conservative_is_polyploid']).shape[0]:,})\")"
   ]
  },
  {
   "cell_type": "code",
   "execution_count": 50,
   "id": "b6709eb6-4554-4d05-b1a8-186d8dfcb2ec",
   "metadata": {},
   "outputs": [],
   "source": [
    "avail_plant_classification_df = plant_classification_df.query(\"conservative_is_polyploid.notna()\")\n",
    "avail_plant_classification_df.to_csv(plant_classification_path, index=False)"
   ]
  },
  {
   "cell_type": "code",
   "execution_count": 51,
   "id": "92a36d6a-46b2-41cf-84ec-64d8fbf5f9c5",
   "metadata": {},
   "outputs": [
    {
     "name": "stdout",
     "output_type": "stream",
     "text": [
      "% polyploids = 12.35% (648)\n",
      "% diploids = 21.4% (1,123)\n",
      "% undetermined = 66.25% (3,476)\n"
     ]
    }
   ],
   "source": [
    "debug = plant_classification_df\n",
    "print(f\"% polyploids = {np.round(debug.loc[debug.conservative_is_polyploid_by_resolved == 1].shape[0]/debug.shape[0]*100,2)}% ({debug.loc[debug.conservative_is_polyploid_by_resolved == 1].shape[0]:,})\")\n",
    "print(f\"% diploids = {np.round(debug.loc[debug.conservative_is_polyploid_by_resolved == 0].shape[0]/debug.shape[0]*100,2)}% ({debug.loc[debug.conservative_is_polyploid_by_resolved == 0].shape[0]:,})\")\n",
    "print(f\"% undetermined = {np.round(debug.loc[debug.conservative_is_polyploid_by_resolved.isna()].shape[0]/debug.shape[0]*100,2)}% ({debug.loc[debug.conservative_is_polyploid_by_resolved.isna()].shape[0]:,})\")"
   ]
  },
  {
   "cell_type": "code",
   "execution_count": 52,
   "id": "c940e334-a5ad-4bd6-a985-02157060b543",
   "metadata": {},
   "outputs": [
    {
     "name": "stdout",
     "output_type": "stream",
     "text": [
      "% polyploids = 11.51% (604)\n",
      "% diploids = 19.36% (1,016)\n",
      "% undetermined = 69.13% (3,627)\n"
     ]
    }
   ],
   "source": [
    "debug = plant_classification_df\n",
    "print(f\"% polyploids = {np.round(debug.loc[debug.conservative_is_polyploid_by_original == 1].shape[0]/debug.shape[0]*100,2)}% ({debug.loc[debug.conservative_is_polyploid_by_original == 1].shape[0]:,})\")\n",
    "print(f\"% diploids = {np.round(debug.loc[debug.conservative_is_polyploid_by_original == 0].shape[0]/debug.shape[0]*100,2)}% ({debug.loc[debug.conservative_is_polyploid_by_original == 0].shape[0]:,})\")\n",
    "print(f\"% undetermined = {np.round(debug.loc[debug.conservative_is_polyploid_by_original.isna()].shape[0]/debug.shape[0]*100,2)}% ({debug.loc[debug.conservative_is_polyploid_by_original.isna()].shape[0]:,})\")"
   ]
  },
  {
   "cell_type": "code",
   "execution_count": 53,
   "id": "0a0f240a-22fa-40b4-ae0e-b4ba009de991",
   "metadata": {},
   "outputs": [],
   "source": [
    "species_names_dfs = []\n",
    "for networks_type in networks_types:\n",
    "    networks_dir = f\"/groups/itay_mayrose/halabikeren/plant_pollinator_networks/networks/all/{networks_type}/\"\n",
    "    for path in os.listdir(networks_dir):\n",
    "        if path.endswith(\".csv\"):\n",
    "            network_path = f\"{networks_dir}{path}\"\n",
    "            network = pd.read_csv(network_path)\n",
    "            network_species = pd.DataFrame(columns=[\"network_type\", \"network_id\", \"original_name\"])\n",
    "            network_species[\"original_name\"] = network.Plant.tolist()\n",
    "            network_species[\"network_type\"] = networks_type\n",
    "            network_species[\"network_id\"] = int(path.replace(\".csv\", \"\"))\n",
    "            species_names_dfs.append(network_species)\n",
    "features_by_network = pd.concat(species_names_dfs)\n",
    "features_by_network.original_name = features_by_network.original_name.str.lower()\n",
    "features_by_network.original_name = features_by_network.original_name.apply(lambda name: name.replace(\"_\", \" \"))\n",
    "features_by_network = features_by_network.merge(plant_classification_df[[\"original_name\", \"conservative_is_polyploid\", \"non_conservative_is_polyploid\"]], on=\"original_name\", how=\"left\")"
   ]
  },
  {
   "cell_type": "code",
   "execution_count": 54,
   "id": "4dd13395-c9fa-4952-bb94-b5f3c597074f",
   "metadata": {},
   "outputs": [
    {
     "name": "stderr",
     "output_type": "stream",
     "text": [
      "/tmp/ipykernel_35913/1407971644.py:4: RuntimeWarning: invalid value encountered in long_scalars\n",
      "  return poly/(di+poly)\n"
     ]
    }
   ],
   "source": [
    "def get_poly_frac(labels):\n",
    "    poly = (labels == 1).sum()\n",
    "    di = (labels == 0).dropna().sum()\n",
    "    return poly/(di+poly)\n",
    "\n",
    "def get_missing_frac(labels):\n",
    "    missing = (labels.isna()).sum()\n",
    "    return missing/len(labels)         \n",
    "\n",
    "network_classification = features_by_network.groupby([\"network_type\", \"network_id\"]).agg({\"conservative_is_polyploid\": [get_poly_frac, get_missing_frac],\n",
    "                                                                                          \"non_conservative_is_polyploid\": [get_poly_frac, get_missing_frac]}).reset_index()\n",
    "network_classification.columns = [f\"{c[0]}{c[1].replace('get','')}\" for c in network_classification.columns]"
   ]
  },
  {
   "cell_type": "code",
   "execution_count": 55,
   "id": "8352df84-d5d1-41d4-88af-3585002c97bc",
   "metadata": {},
   "outputs": [],
   "source": [
    "network_classification.to_csv(f\"{os.getcwd()}/network_classification.csv\", index=False)"
   ]
  },
  {
   "cell_type": "code",
   "execution_count": 56,
   "id": "2cfbb0db-aedb-417f-adb8-06087703c61c",
   "metadata": {},
   "outputs": [],
   "source": [
    "suspects = plant_classification_df.query(\"conservative_is_polyploid.isna() and resolved_name.isna()\").original_name.tolist()"
   ]
  },
  {
   "cell_type": "code",
   "execution_count": 57,
   "id": "a6e7bea6-aa69-4558-9de2-77b00d150fc9",
   "metadata": {},
   "outputs": [],
   "source": [
    "bad_networks = features_by_network.loc[(features_by_network.original_name.isin(suspects)) & (~features_by_network.original_name.str.contains(\" \"))].drop_duplicates([\"network_type\",\"network_id\"])\n",
    "bad_networks = bad_networks.merge(network_classification, on=[\"network_type\", \"network_id\"], how=\"left\").query(\"conservative_is_polyploid_missing_frac < 1\")[[\"network_id\", \"network_type\"]]\n",
    "\n",
    "# flag bad networks from features data\n",
    "flag_name = \"multiple_plant_taxonomic_levels\"\n",
    "features_dir=\"/groups/itay_mayrose/halabikeren/plant_pollinator_networks/features/\"\n",
    "features_types = [\"plant\", \"network\"]\n",
    "networks_types = [\"binary\", \"weighted\", \"binarized_weighted\"]\n",
    "for feature_type in features_types:\n",
    "    for network_type in  networks_types:\n",
    "        path = f\"{features_dir}/{feature_type}_features/{network_type}/{feature_type}_features.csv\"\n",
    "        if os.path.exists(path):\n",
    "            df = pd.read_csv(path)\n",
    "            relevant_bad_networks = set(bad_networks.query(f\"network_type == '{network_type}'\").network_id.tolist())\n",
    "            df[flag_name] = df[\"network\"].apply(lambda i: 1 if i in relevant_bad_networks else 0)\n",
    "            df.to_csv(path, index=False)"
   ]
  },
  {
   "cell_type": "code",
   "execution_count": null,
   "id": "e36043c7-9af4-41fd-853d-6cf92839977a",
   "metadata": {},
   "outputs": [
    {
     "name": "stdout",
     "output_type": "stream",
     "text": [
      "feature type = plant\n",
      "network_type = binary\n",
      "# records = 4,429\n",
      "# classified records = 1,147\n",
      "feature type = plant\n",
      "network_type = weighted\n",
      "# records = 8,351\n",
      "# classified records = 3,730\n",
      "feature type = plant\n",
      "network_type = binarized_weighted\n",
      "# records = 8,009\n",
      "# classified records = 4,035\n",
      "feature type = network\n",
      "network_type = binary\n",
      "# records = 89\n",
      "# classified records = 49\n",
      "feature type = network\n",
      "network_type = weighted\n",
      "# records = 579\n",
      "# classified records = 61\n",
      "feature type = network\n",
      "network_type = binarized_weighted\n",
      "# records = 572\n",
      "# classified records = 57\n"
     ]
    }
   ],
   "source": [
    "# update classification of features data\n",
    "name_to_is_poly = plant_classification_df.set_index(\"original_name\")[\"conservative_is_polyploid\"].to_dict()\n",
    "features_types = [\"plant\", \"network\"]\n",
    "networks_types = [\"binary\", \"weighted\", \"binarized_weighted\"]\n",
    "all_features_dir=\"/groups/itay_mayrose/halabikeren/plant_pollinator_networks/features/\"\n",
    "for feature_type in features_types:\n",
    "    for network_type in  networks_types:\n",
    "        print(f\"feature type = {feature_type}\")\n",
    "        print(f\"network_type = {network_type}\")\n",
    "        features_dir = f\"{all_features_dir}/{feature_type}_features/{network_type}/features_by_network/\"\n",
    "        features_df = pd.concat([pd.read_csv(f\"{features_dir}{path}\") for path in os.listdir(features_dir) if \"null\" not in path and path.endswith(\"csv\")])\n",
    "        print(f\"# records = {features_df.shape[0]:,}\")\n",
    "        if feature_type == \"plant\":\n",
    "            features_df.rename(columns={\"Unnamed: 0\": \"original_name\"}, inplace=True)\n",
    "            features_df.original_name = features_df.original_name.str.lower()\n",
    "            features_df[\"is_polyploid\"] = features_df[\"original_name\"].apply(lambda n: name_to_is_poly.get(n, np.nan))\n",
    "            print(f\"# classified records = {features_df.is_polyploid.notna().sum():,}\")\n",
    "        else:\n",
    "            class_df = network_classification.query(\"network_type == 'binary'\") if networks_type == \"binary\" else network_classification.query(\"network_type == 'weighted'\")\n",
    "            features_df[\"network_id\"] = features_df[\"network\"].apply(lambda n: int(n.replace(\".csv\",\"\")) if type(n) == str else n)\n",
    "            features_df = features_df.merge(class_df[[\"network_id\", \"conservative_is_polyploid_poly_frac\", \"conservative_is_polyploid_missing_frac\"]],\n",
    "                                            on=\"network_id\",\n",
    "                                            how=\"left\").rename(columns={\"conservative_is_polyploid_poly_frac\": \"is_polyploid_poly_frac\",\n",
    "                                                                        \"conservative_is_polyploid_missing_frac\": \"is_polyploid_missing_frac\"})\n",
    "            print(f\"# classified records = {features_df.is_polyploid_poly_frac.notna().sum():,}\")\n",
    "        features_df.to_csv(f\"{all_features_dir}/{feature_type}_features/{network_type}/features_with_classification.csv\", index=False)\n",
    "                                                    "
   ]
  },
  {
   "cell_type": "markdown",
   "id": "a012ee56-e209-4d68-b0eb-179aab395c9b",
   "metadata": {
    "tags": []
   },
   "source": [
    "# Extract network level classification (#polyploids / (#polyploids + #diploids)) + %missing"
   ]
  },
  {
   "cell_type": "code",
   "execution_count": 61,
   "id": "15dab1ac-2443-470f-9616-13f49c815635",
   "metadata": {},
   "outputs": [],
   "source": [
    "def get_poly_frac(labels) -> tuple:\n",
    "    num_diploids = (labels == 0).sum()\n",
    "    num_polyploids = (labels == 1).sum()\n",
    "    if (num_diploids+num_polyploids) == 0:\n",
    "        return np.nan\n",
    "    poly_frac = num_polyploids/(num_diploids+num_polyploids)\n",
    "    return poly_frac\n",
    "\n",
    "def get_missing_frac(labels) -> tuple:\n",
    "    num_missing = (labels.isna()).sum()\n",
    "    missing_frac = num_missing/len(labels)\n",
    "    return missing_frac\n",
    "\n",
    "\n",
    "species_names_dfs = []\n",
    "for networks_type in networks_types:\n",
    "    networks_dir = f\"{all_networks_dir}{networks_type}/\"\n",
    "    for path in os.listdir(networks_dir):\n",
    "        if path.endswith(\".csv\"):\n",
    "            network_path = f\"{networks_dir}{path}\"\n",
    "            network = pd.read_csv(network_path)\n",
    "            network_species = pd.DataFrame(columns=[\"network_type\", \"network_id\", \"original_name\"])\n",
    "            network_species[\"original_name\"] = network.Plant.tolist()\n",
    "            network_species[\"network_type\"] = networks_type\n",
    "            network_species[\"network_id\"] = int(path.replace(\".csv\", \"\"))\n",
    "            species_names_dfs.append(network_species)\n",
    "network_level_classification = pd.concat(species_names_dfs)\n",
    "network_level_classification = network_level_classification.loc[~network_level_classification.original_name.str.startswith('abundance\"')]\n",
    "network_level_classification.original_name = network_level_classification.original_name.str.lower()\n",
    "network_level_classification.original_name = network_level_classification.original_name.apply(lambda name: name.replace(\"_\", \" \"))\n",
    "\n",
    "network_classification = network_level_classification.merge(plant_classification_df, on=\"original_name\", how=\"left\")\n",
    "\n",
    "network_classification = network_classification.groupby([\"network_type\",\"network_id\"]).agg({\"conservative_is_polyploid_by_original\": [get_poly_frac, get_missing_frac],\n",
    "                                                                                                         \"non_conservative_is_polyploid_by_original\": [get_poly_frac, get_missing_frac],\n",
    "                                                                                                         \"conservative_is_polyploid_by_matched\":  [get_poly_frac, get_missing_frac],\n",
    "                                                                                                         \"non_conservative_is_polyploid_by_matched\": [get_poly_frac, get_missing_frac],\n",
    "                                                                                                         \"conservative_is_polyploid_by_resolved\": [get_poly_frac, get_missing_frac],\n",
    "                                                                                                         \"non_conservative_is_polyploid_by_resolved\": [get_poly_frac, get_missing_frac]}).reset_index()\n",
    "old_to_new_col = {c:f\"{c[0]}{c[1].replace('get','')}\" for c in network_classification.columns}\n",
    "network_classification.columns = [old_to_new_col[c] for c in network_classification.columns]"
   ]
  },
  {
   "cell_type": "code",
   "execution_count": 62,
   "id": "79592bec-57c1-4445-8e4a-9541a33d7579",
   "metadata": {},
   "outputs": [],
   "source": [
    "# add classification to network features files\n",
    "network_features_dir = \"/groups/itay_mayrose/halabikeren/plant_pollinator_networks/features/network_features/\"\n",
    "network_types = [\"binary\", \"weighted\", \"binarized_weighted\"]\n",
    "for net_type in network_types:\n",
    "    out_path = f\"{network_features_dir}{net_type}/network_features.csv\"\n",
    "    relevant_network_classification_data = network_classification.loc[network_classification.network_type == net_type.replace(\"binarized_\",\"\")]\n",
    "    df = pd.read_csv(out_path)\n",
    "    df.network = df.network.apply(lambda n: int(n.replace('.csv','')) if type(n) == str else n)\n",
    "    df = df.merge(relevant_network_classification_data, left_on=\"network\", right_on=\"network_id\", how=\"left\")\n",
    "    df.to_csv(f\"{network_features_dir}{net_type}/network_features_wioth_classification.csv\", index=False)"
   ]
  },
  {
   "cell_type": "code",
   "execution_count": 63,
   "id": "d3f48028-6f81-41b5-9dcf-36d36b73e467",
   "metadata": {},
   "outputs": [],
   "source": [
    "network_level_classification.to_csv(network_classification_path, index=False)"
   ]
  },
  {
   "cell_type": "markdown",
   "id": "11022c63-f4a9-4da1-aa23-dc8b321c2e1a",
   "metadata": {
    "jp-MarkdownHeadingCollapsed": true,
    "tags": []
   },
   "source": [
    "# deprecated -  add classification by genera to species that are reproted at genus level, based on the mean polidy inference across members in the genus"
   ]
  },
  {
   "cell_type": "code",
   "execution_count": 48,
   "id": "0acccd3f-3d3b-4488-9199-a1097dccaf94",
   "metadata": {},
   "outputs": [],
   "source": [
    "ploidb_genera = set(ploidb.genus.unique().tolist())\n",
    "classified_unresolved_plant_names[\"genus_in_ploidb\"] = classified_unresolved_plant_names.Species.apply(lambda name: name.split(\" \")[0] in ploidb_genera)\n",
    "classified_unresolved_plant_names[\"genus\"] = classified_unresolved_plant_names.Species.apply(lambda name: name.split(\" \")[0])"
   ]
  },
  {
   "cell_type": "code",
   "execution_count": 49,
   "id": "b273af8c-d37e-46fa-b0a2-2e9ca9f60ae1",
   "metadata": {},
   "outputs": [
    {
     "name": "stdout",
     "output_type": "stream",
     "text": [
      "# genera with missing classification that pipeline was executed on = 642, and # species = 1,161\n",
      "# genera with missing classification that pipeline wasn't executed on = 1,358, and # species = 2,967\n"
     ]
    }
   ],
   "source": [
    "yes_way = classified_unresolved_plant_names.loc[(~classified_unresolved_plant_names.Species.isin(ploidb.taxon)) & (classified_unresolved_plant_names.genus_in_ploidb)]\n",
    "no_way = classified_unresolved_plant_names.loc[(~classified_unresolved_plant_names.Species.isin(ploidb.taxon)) & (~classified_unresolved_plant_names.genus_in_ploidb)]\n",
    "print(f\"# genera with missing classification that pipeline was executed on = {len(debug.genus.unique()):,}, and # species = {yes_way.shape[0]:,}\")\n",
    "print(f\"# genera with missing classification that pipeline wasn't executed on = {len(no_way.genus.unique()):,}, and # species = {no_way.shape[0]:,}\")"
   ]
  },
  {
   "cell_type": "code",
   "execution_count": 57,
   "id": "86081130-8e1e-4c07-a4d7-739fc15d4dd4",
   "metadata": {},
   "outputs": [
    {
     "name": "stdout",
     "output_type": "stream",
     "text": [
      "# ppn members reported at genus level that ploidb pipeline was executed on = 497\n",
      "# ppn members reported at species level that the ploidb pipeline was executed on their genus = 664\n"
     ]
    }
   ],
   "source": [
    "to_add_to_tree = yes_way.Species.tolist()\n",
    "genera_in_missing = [s for s in to_add_to_tree if \" \" not in s]\n",
    "species_in_missing = [s for s in to_add_to_tree if \" \" in s]\n",
    "print(f\"# ppn members reported at genus level that ploidb pipeline was executed on = {len(genera_in_missing):,}\")\n",
    "print(f\"# ppn members reported at species level that the ploidb pipeline was executed on their genus = {len(species_in_missing):,}\")"
   ]
  },
  {
   "cell_type": "code",
   "execution_count": 56,
   "id": "68a43bf2-3468-4d08-a497-1aec6fb6602d",
   "metadata": {},
   "outputs": [
    {
     "name": "stdout",
     "output_type": "stream",
     "text": [
      "% unresolved plant names with ploidy classification = 31.88% (1,699)\n"
     ]
    }
   ],
   "source": [
    "genus_to_mean_ploidy_inference = ploidb.loc[ploidb.genus.isin(genera_in_missing)].groupby(\"genus\")[\"ploidy_inference\"].mean().to_dict()\n",
    "classified_unresolved_plant_names.set_index(\"Species\", inplace=True)\n",
    "classified_unresolved_plant_names[\"is_polyploid\"].fillna(value=genus_to_mean_ploidy_inference, inplace=True)\n",
    "classified_unresolved_plant_names.reset_index(inplace=True)\n",
    "print(f\"% unresolved plant names with ploidy classification = {np.round(classified_unresolved_plant_names.loc[classified_unresolved_plant_names.is_polyploid.notna()].shape[0] / classified_unresolved_plant_names.shape[0] * 100, 2)}% ({classified_unresolved_plant_names.loc[classified_unresolved_plant_names.is_polyploid.notna()].shape[0]:,})\")"
   ]
  },
  {
   "cell_type": "code",
   "execution_count": 63,
   "id": "2a3df979-c07e-4b61-8897-90c43c6f40f5",
   "metadata": {},
   "outputs": [
    {
     "data": {
      "text/html": [
       "<div>\n",
       "<style scoped>\n",
       "    .dataframe tbody tr th:only-of-type {\n",
       "        vertical-align: middle;\n",
       "    }\n",
       "\n",
       "    .dataframe tbody tr th {\n",
       "        vertical-align: top;\n",
       "    }\n",
       "\n",
       "    .dataframe thead th {\n",
       "        text-align: right;\n",
       "    }\n",
       "</style>\n",
       "<table border=\"1\" class=\"dataframe\">\n",
       "  <thead>\n",
       "    <tr style=\"text-align: right;\">\n",
       "      <th></th>\n",
       "      <th>index</th>\n",
       "      <th>taxon</th>\n",
       "      <th>genus</th>\n",
       "      <th>family</th>\n",
       "      <th>ploidy_inference</th>\n",
       "      <th>chromosome_count</th>\n",
       "      <th>ploidy inference support</th>\n",
       "    </tr>\n",
       "  </thead>\n",
       "  <tbody>\n",
       "    <tr>\n",
       "      <th>135773</th>\n",
       "      <td>NaN</td>\n",
       "      <td>youngia fuscipappa</td>\n",
       "      <td>youngia</td>\n",
       "      <td>asteraceae</td>\n",
       "      <td>1.0</td>\n",
       "      <td>8</td>\n",
       "      <td>0.6</td>\n",
       "    </tr>\n",
       "    <tr>\n",
       "      <th>135774</th>\n",
       "      <td>NaN</td>\n",
       "      <td>youngia longiflora</td>\n",
       "      <td>youngia</td>\n",
       "      <td>asteraceae</td>\n",
       "      <td>1.0</td>\n",
       "      <td>8</td>\n",
       "      <td>0.5</td>\n",
       "    </tr>\n",
       "    <tr>\n",
       "      <th>135775</th>\n",
       "      <td>NaN</td>\n",
       "      <td>youngia scaposa</td>\n",
       "      <td>youngia</td>\n",
       "      <td>asteraceae</td>\n",
       "      <td>1.0</td>\n",
       "      <td>4</td>\n",
       "      <td>0.5</td>\n",
       "    </tr>\n",
       "    <tr>\n",
       "      <th>135776</th>\n",
       "      <td>NaN</td>\n",
       "      <td>youngia heterophylla</td>\n",
       "      <td>youngia</td>\n",
       "      <td>asteraceae</td>\n",
       "      <td>1.0</td>\n",
       "      <td>6</td>\n",
       "      <td>0.7</td>\n",
       "    </tr>\n",
       "    <tr>\n",
       "      <th>135777</th>\n",
       "      <td>NaN</td>\n",
       "      <td>youngia paleacea</td>\n",
       "      <td>youngia</td>\n",
       "      <td>asteraceae</td>\n",
       "      <td>1.0</td>\n",
       "      <td>16</td>\n",
       "      <td>0.8</td>\n",
       "    </tr>\n",
       "    <tr>\n",
       "      <th>135778</th>\n",
       "      <td>NaN</td>\n",
       "      <td>youngia erythrocarpa</td>\n",
       "      <td>youngia</td>\n",
       "      <td>asteraceae</td>\n",
       "      <td>1.0</td>\n",
       "      <td>8</td>\n",
       "      <td>0.6</td>\n",
       "    </tr>\n",
       "    <tr>\n",
       "      <th>135779</th>\n",
       "      <td>NaN</td>\n",
       "      <td>youngia japonica subsp. japonica</td>\n",
       "      <td>youngia</td>\n",
       "      <td>asteraceae</td>\n",
       "      <td>1.0</td>\n",
       "      <td>x</td>\n",
       "      <td>0.6</td>\n",
       "    </tr>\n",
       "    <tr>\n",
       "      <th>135780</th>\n",
       "      <td>NaN</td>\n",
       "      <td>youngia japonica</td>\n",
       "      <td>youngia</td>\n",
       "      <td>asteraceae</td>\n",
       "      <td>1.0</td>\n",
       "      <td>8</td>\n",
       "      <td>0.5</td>\n",
       "    </tr>\n",
       "  </tbody>\n",
       "</table>\n",
       "</div>"
      ],
      "text/plain": [
       "        index                             taxon    genus      family  \\\n",
       "135773    NaN                youngia fuscipappa  youngia  asteraceae   \n",
       "135774    NaN                youngia longiflora  youngia  asteraceae   \n",
       "135775    NaN                   youngia scaposa  youngia  asteraceae   \n",
       "135776    NaN              youngia heterophylla  youngia  asteraceae   \n",
       "135777    NaN                  youngia paleacea  youngia  asteraceae   \n",
       "135778    NaN              youngia erythrocarpa  youngia  asteraceae   \n",
       "135779    NaN  youngia japonica subsp. japonica  youngia  asteraceae   \n",
       "135780    NaN                  youngia japonica  youngia  asteraceae   \n",
       "\n",
       "        ploidy_inference chromosome_count  ploidy inference support  \n",
       "135773               1.0                8                       0.6  \n",
       "135774               1.0                8                       0.5  \n",
       "135775               1.0                4                       0.5  \n",
       "135776               1.0                6                       0.7  \n",
       "135777               1.0               16                       0.8  \n",
       "135778               1.0                8                       0.6  \n",
       "135779               1.0                x                       0.6  \n",
       "135780               1.0                8                       0.5  "
      ]
     },
     "execution_count": 63,
     "metadata": {},
     "output_type": "execute_result"
    }
   ],
   "source": [
    "df = ploidb.loc[ploidb.genus.isin(genera_in_missing)].groupby(\"genus\")[\"ploidy_inference\"].mean().reset_index()\n",
    "ploidb.loc[ploidb.genus == \"youngia\"]"
   ]
  },
  {
   "cell_type": "code",
   "execution_count": 74,
   "id": "4e50236e-2139-4ca3-90bb-795c1b1ee873",
   "metadata": {},
   "outputs": [
    {
     "ename": "KeyError",
     "evalue": "\"None of ['resolved_Species'] are in the columns\"",
     "output_type": "error",
     "traceback": [
      "\u001b[0;31m---------------------------------------------------------------------------\u001b[0m",
      "\u001b[0;31mKeyError\u001b[0m                                  Traceback (most recent call last)",
      "Input \u001b[0;32mIn [74]\u001b[0m, in \u001b[0;36m<cell line: 1>\u001b[0;34m()\u001b[0m\n\u001b[0;32m----> 1\u001b[0m \u001b[43mclassified_unresolved_plant_names\u001b[49m\u001b[38;5;241;43m.\u001b[39;49m\u001b[43mset_index\u001b[49m\u001b[43m(\u001b[49m\u001b[38;5;124;43m\"\u001b[39;49m\u001b[38;5;124;43mresolved_Species\u001b[39;49m\u001b[38;5;124;43m\"\u001b[39;49m\u001b[43m,\u001b[49m\u001b[43m \u001b[49m\u001b[43minplace\u001b[49m\u001b[38;5;241;43m=\u001b[39;49m\u001b[38;5;28;43;01mTrue\u001b[39;49;00m\u001b[43m)\u001b[49m\n\u001b[1;32m      2\u001b[0m classified_unresolved_plant_names[\u001b[38;5;124m\"\u001b[39m\u001b[38;5;124mis_polyploid\u001b[39m\u001b[38;5;124m\"\u001b[39m]\u001b[38;5;241m.\u001b[39mfillna(value\u001b[38;5;241m=\u001b[39mgenus_to_mean_ploidy_inference, inplace\u001b[38;5;241m=\u001b[39m\u001b[38;5;28;01mTrue\u001b[39;00m)\n\u001b[1;32m      3\u001b[0m classified_unresolved_plant_names\u001b[38;5;241m.\u001b[39mreset_index(inplace\u001b[38;5;241m=\u001b[39m\u001b[38;5;28;01mTrue\u001b[39;00m)\n",
      "File \u001b[0;32m~/miniconda3/envs/ppn/lib/python3.10/site-packages/pandas/util/_decorators.py:311\u001b[0m, in \u001b[0;36mdeprecate_nonkeyword_arguments.<locals>.decorate.<locals>.wrapper\u001b[0;34m(*args, **kwargs)\u001b[0m\n\u001b[1;32m    305\u001b[0m \u001b[38;5;28;01mif\u001b[39;00m \u001b[38;5;28mlen\u001b[39m(args) \u001b[38;5;241m>\u001b[39m num_allow_args:\n\u001b[1;32m    306\u001b[0m     warnings\u001b[38;5;241m.\u001b[39mwarn(\n\u001b[1;32m    307\u001b[0m         msg\u001b[38;5;241m.\u001b[39mformat(arguments\u001b[38;5;241m=\u001b[39marguments),\n\u001b[1;32m    308\u001b[0m         \u001b[38;5;167;01mFutureWarning\u001b[39;00m,\n\u001b[1;32m    309\u001b[0m         stacklevel\u001b[38;5;241m=\u001b[39mstacklevel,\n\u001b[1;32m    310\u001b[0m     )\n\u001b[0;32m--> 311\u001b[0m \u001b[38;5;28;01mreturn\u001b[39;00m \u001b[43mfunc\u001b[49m\u001b[43m(\u001b[49m\u001b[38;5;241;43m*\u001b[39;49m\u001b[43margs\u001b[49m\u001b[43m,\u001b[49m\u001b[43m \u001b[49m\u001b[38;5;241;43m*\u001b[39;49m\u001b[38;5;241;43m*\u001b[39;49m\u001b[43mkwargs\u001b[49m\u001b[43m)\u001b[49m\n",
      "File \u001b[0;32m~/miniconda3/envs/ppn/lib/python3.10/site-packages/pandas/core/frame.py:5488\u001b[0m, in \u001b[0;36mDataFrame.set_index\u001b[0;34m(self, keys, drop, append, inplace, verify_integrity)\u001b[0m\n\u001b[1;32m   5485\u001b[0m                 missing\u001b[38;5;241m.\u001b[39mappend(col)\n\u001b[1;32m   5487\u001b[0m \u001b[38;5;28;01mif\u001b[39;00m missing:\n\u001b[0;32m-> 5488\u001b[0m     \u001b[38;5;28;01mraise\u001b[39;00m \u001b[38;5;167;01mKeyError\u001b[39;00m(\u001b[38;5;124mf\u001b[39m\u001b[38;5;124m\"\u001b[39m\u001b[38;5;124mNone of \u001b[39m\u001b[38;5;132;01m{\u001b[39;00mmissing\u001b[38;5;132;01m}\u001b[39;00m\u001b[38;5;124m are in the columns\u001b[39m\u001b[38;5;124m\"\u001b[39m)\n\u001b[1;32m   5490\u001b[0m \u001b[38;5;28;01mif\u001b[39;00m inplace:\n\u001b[1;32m   5491\u001b[0m     frame \u001b[38;5;241m=\u001b[39m \u001b[38;5;28mself\u001b[39m\n",
      "\u001b[0;31mKeyError\u001b[0m: \"None of ['resolved_Species'] are in the columns\""
     ]
    }
   ],
   "source": [
    "classified_unresolved_plant_names.set_index(\"resolved_Species\", inplace=True)\n",
    "classified_unresolved_plant_names[\"is_polyploid\"].fillna(value=genus_to_mean_ploidy_inference, inplace=True)\n",
    "classified_unresolved_plant_names.reset_index(inplace=True)\n",
    "print(f\"% resolved plant names with ploidy classification = {np.round(classified_resolved_plant_names.loc[classified_resolved_plant_names.is_polyploid.notna()].shape[0] / classified_resolved_plant_names.shape[0] * 100, 2)}% ({classified_resolved_plant_names.loc[classified_resolved_plant_names.is_polyploid.notna()].shape[0]:,})\")"
   ]
  },
  {
   "cell_type": "code",
   "execution_count": 7,
   "id": "b51ca85d-bdff-4abe-bc72-c92dfa36039d",
   "metadata": {},
   "outputs": [],
   "source": [
    "classified_unresolved_plant_names.to_csv(\"./classified_unresolved_plant_names.csv\", index=False)\n",
    "classified_resolved_plant_names.to_csv(\"./classified_resolved_plant_names.csv\", index=False)"
   ]
  },
  {
   "cell_type": "code",
   "execution_count": 8,
   "id": "bf4e5cc1-2c0b-45dc-b118-c94a86fa79d0",
   "metadata": {},
   "outputs": [
    {
     "name": "stdout",
     "output_type": "stream",
     "text": [
      "num_unresolved_diploids = 1,034\n",
      "num_unresolved_polyploids = 535\n",
      "num_unresolved_missing = 3,761\n"
     ]
    }
   ],
   "source": [
    "num_unresolved_diploids = classified_unresolved_plant_names.loc[classified_unresolved_plant_names.is_polyploid == 0].shape[0]\n",
    "num_unresolved_polyploids = classified_unresolved_plant_names.loc[classified_unresolved_plant_names.is_polyploid == 1].shape[0]\n",
    "num_unresolved_missing = classified_unresolved_plant_names.loc[classified_unresolved_plant_names.is_polyploid.isna()].shape[0]\n",
    "\n",
    "print(f\"num_unresolved_diploids = {num_unresolved_diploids:,}\\nnum_unresolved_polyploids = {num_unresolved_polyploids:,}\\nnum_unresolved_missing = {num_unresolved_missing:,}\")"
   ]
  },
  {
   "cell_type": "code",
   "execution_count": 9,
   "id": "431e5c71-00c8-463d-9019-078bd06faa86",
   "metadata": {},
   "outputs": [
    {
     "name": "stdout",
     "output_type": "stream",
     "text": [
      "num_resolved_diploids = 1,227\n",
      "num_resolved_polyploids = 632\n",
      "num_resolved_missing = 3,401\n"
     ]
    }
   ],
   "source": [
    "num_resolved_diploids = classified_resolved_plant_names.loc[classified_resolved_plant_names.is_polyploid == 0].shape[0]\n",
    "num_resolved_polyploids = classified_resolved_plant_names.loc[classified_resolved_plant_names.is_polyploid == 1].shape[0]\n",
    "num_resolved_missing = classified_resolved_plant_names.loc[classified_resolved_plant_names.is_polyploid.isna()].shape[0]\n",
    "\n",
    "print(f\"num_resolved_diploids = {num_resolved_diploids:,}\\nnum_resolved_polyploids = {num_resolved_polyploids:,}\\nnum_resolved_missing = {num_resolved_missing:,}\")"
   ]
  },
  {
   "cell_type": "code",
   "execution_count": 65,
   "id": "32eb4ffa-dca7-4ec7-a7ab-dd6e043b0e1a",
   "metadata": {},
   "outputs": [],
   "source": [
    "# parse networks\n",
    "binary_networks_dir = \"/groups/itay_mayrose/halabikeren/plant_pollinator_networks/networks/all/binary/\"\n",
    "binary_networks_paths = [f\"{binary_networks_dir}{path}\" for path in os.listdir(binary_networks_dir) if path.endswith(\".csv\")]\n",
    "weighted_networks_dir = \"/groups/itay_mayrose/halabikeren/plant_pollinator_networks/networks/all/weighted/\"\n",
    "weighted_networks_paths = [f\"{weighted_networks_dir}{path}\" for path in os.listdir(weighted_networks_dir) if path.endswith(\".csv\")]"
   ]
  },
  {
   "cell_type": "code",
   "execution_count": 66,
   "id": "ea94fe59-3e0b-417a-9a93-1b428a8a88de",
   "metadata": {},
   "outputs": [],
   "source": [
    "binary_networks = {os.path.basename(path): pd.read_csv(path) for path in binary_networks_paths}\n",
    "weighted_networks = {os.path.basename(path): pd.read_csv(path) for path in weighted_networks_paths}\n",
    "networks = {\"binary\": binary_networks, \"weighted\": weighted_networks}"
   ]
  },
  {
   "cell_type": "code",
   "execution_count": 67,
   "id": "49cc9a0b-a331-4fc4-a8b6-4f6b06825854",
   "metadata": {},
   "outputs": [],
   "source": [
    "network_classification = pd.DataFrame(columns=[\"network_type\", \"network_name\", \"num_plants\", \"num_polyploids\", \"num_diploids\", \"num_missing\"])\n",
    "network_classification[\"network_type\"] = [\"binary\"]*len(binary_networks) + [\"weighted\"]*len(weighted_networks)\n",
    "network_classification[\"network_name\"] = list(binary_networks.keys()) + list(weighted_networks.keys())"
   ]
  },
  {
   "cell_type": "code",
   "execution_count": 68,
   "id": "b851877c-ec0a-4e24-adec-74d331186cb2",
   "metadata": {},
   "outputs": [],
   "source": [
    "def get_ploidy_stats(network_type: str, network_name: str, networks: dict[str, dict[str, pd.DataFrame]], ploidy_data: pd.DataFrame) -> tuple[int, int, int, int]:\n",
    "    network = networks[network_type][network_name]\n",
    "    plant_species = network.Plant.apply(ResolvedNamesCurator.fix_name).str.lower().tolist()\n",
    "    num_plants = len(plant_species)\n",
    "    num_pollinators = network.shape[1]-1\n",
    "    network_ploidy_data = ploidy_data.loc[ploidy_data.unresolved_Species.isin(plant_species)]\n",
    "    num_polyploids = network_ploidy_data.loc[network_ploidy_data.is_polyploid == 1].shape[0]\n",
    "    num_diploids = network_ploidy_data.loc[network_ploidy_data.is_polyploid == 0].shape[0]\n",
    "    num_missing = network_ploidy_data.loc[network_ploidy_data.is_polyploid.isna()].shape[0] + num_plants-network_ploidy_data.shape[0]\n",
    "    return num_plants, num_pollinators, num_polyploids, num_diploids, num_missing\n",
    "                                                                             \n",
    "network_classification[[\"num_plants\", \"num_pollinators\", \"num_polyploids\", \"num_diploids\", \"num_missing\"]] = network_classification[[\"network_type\", \"network_name\"]].apply(lambda rec: get_ploidy_stats(network_type=rec.network_type, network_name=rec.network_name, networks=networks, ploidy_data=classified_resolved_plant_names), axis=1, result_type=\"expand\")"
   ]
  },
  {
   "cell_type": "code",
   "execution_count": 69,
   "id": "354ef85e-6aa4-4bd4-8c30-6cc5f8c3f0a9",
   "metadata": {},
   "outputs": [],
   "source": [
    "network_classification[\"has_polyploids\"] = network_classification[\"num_polyploids\"] > 0\n",
    "network_classification[\"frac_polyploids\"] = network_classification[\"num_polyploids\"] / (network_classification[\"num_polyploids\"]+network_classification[\"num_diploids\"])\n",
    "network_classification[\"frac_diploids\"] = network_classification[\"num_diploids\"] / (network_classification[\"num_polyploids\"]+network_classification[\"num_diploids\"])\n",
    "network_classification[\"frac_missing\"] = network_classification[\"num_missing\"] / network_classification[\"num_plants\"]"
   ]
  },
  {
   "cell_type": "code",
   "execution_count": 70,
   "id": "9829ce02-c5bc-4ac2-b9a5-b2c058ed5a5f",
   "metadata": {},
   "outputs": [
    {
     "name": "stdout",
     "output_type": "stream",
     "text": [
      "# netowrks with less than 50% missing classification = 170\n"
     ]
    }
   ],
   "source": [
    "print(f\"# netowrks with less than 50% missing classification = {network_classification.loc[network_classification.frac_missing <= 0.5].shape[0]:,}\")"
   ]
  },
  {
   "cell_type": "code",
   "execution_count": 71,
   "id": "c68e0558-2173-41bf-934f-969f30a263fa",
   "metadata": {},
   "outputs": [
    {
     "data": {
      "text/plain": [
       "Text(0, 0.5, '#networks')"
      ]
     },
     "execution_count": 71,
     "metadata": {},
     "output_type": "execute_result"
    },
    {
     "data": {
      "image/png": "[encoded data removed]",
      "text/plain": [
       "<Figure size 2000x500 with 3 Axes>"
      ]
     },
     "metadata": {},
     "output_type": "display_data"
    }
   ],
   "source": [
    "fig, axes = plt.subplots(nrows=1, ncols=3, figsize=(20,5))\n",
    "network_classification.loc[network_classification.frac_missing <= 0.5][[\"num_plants\", \"num_pollinators\"]].plot(kind='hist', bins=20, stacked=False, alpha=.5, ax=axes[0])\n",
    "axes[0].set_ylabel(\"#networks\", fontsize=16)\n",
    "network_classification.loc[network_classification.frac_missing <= 0.5][[\"frac_polyploids\", \"frac_diploids\"]].plot(kind='hist', bins=10, stacked=False, alpha=.5, ax=axes[1])\n",
    "axes[1].set_ylabel(\"#networks\", fontsize=16)\n",
    "network_classification.loc[network_classification.frac_missing <= 0.5][[\"frac_missing\"]].plot(kind='hist', bins=10, stacked=False, alpha=.5, ax=axes[2])\n",
    "axes[2].set_ylabel(\"#networks\", fontsize=16)"
   ]
  },
  {
   "cell_type": "code",
   "execution_count": 17,
   "id": "a3c8d72c-ce8c-4fc9-ae55-90d0263ce06b",
   "metadata": {},
   "outputs": [
    {
     "data": {
      "text/plain": [
       "<AxesSubplot:>"
      ]
     },
     "execution_count": 17,
     "metadata": {},
     "output_type": "execute_result"
    },
    {
     "data": {
      "image/png": "[encoded data removed]",
      "text/plain": [
       "<Figure size 640x480 with 1 Axes>"
      ]
     },
     "metadata": {},
     "output_type": "display_data"
    }
   ],
   "source": [
    "network_classification.frac_polyploids.hist()"
   ]
  },
  {
   "cell_type": "code",
   "execution_count": 18,
   "id": "3529f370-fd56-499c-a9a7-586e8469c900",
   "metadata": {},
   "outputs": [],
   "source": [
    "network_classification.to_csv(\"./network_classification.csv\", index=False)"
   ]
  },
  {
   "cell_type": "markdown",
   "id": "71090d98-d0db-41cb-a284-df966286a026",
   "metadata": {
    "jp-MarkdownHeadingCollapsed": true,
    "tags": []
   },
   "source": [
    "# deprecated - attempt to find missing classifications in q db"
   ]
  },
  {
   "cell_type": "code",
   "execution_count": 19,
   "id": "13591f32-336b-4aad-bebd-4e670326f16d",
   "metadata": {},
   "outputs": [],
   "source": [
    "qdb = pd.read_excel(qdb_path)"
   ]
  },
  {
   "cell_type": "code",
   "execution_count": 20,
   "id": "655ad16f-63a8-4b9b-bad9-69a0dd4e06f3",
   "metadata": {},
   "outputs": [],
   "source": [
    "qdb[\"taxon\"] = qdb[[\"Genus\", \"Species\", \"Subspecies\"]].apply(lambda record: f\"{record.Genus} {record.Species} {'' if pd.isna(record.Subspecies) else record.Subspecies}\".lower(), axis=1)"
   ]
  },
  {
   "cell_type": "code",
   "execution_count": 21,
   "id": "8642ebe9-738c-491b-ae56-60f0b935eefd",
   "metadata": {},
   "outputs": [],
   "source": [
    "missing_resolved_names = classified_resolved_plant_names.loc[classified_resolved_plant_names.is_polyploid.isna()].resolved_Species.tolist()\n",
    "missing_unresolved_names = classified_unresolved_plant_names.loc[classified_unresolved_plant_names.is_polyploid.isna()].Species.tolist()"
   ]
  },
  {
   "cell_type": "code",
   "execution_count": 22,
   "id": "7c89f7b8-2dd1-47f7-814e-ec5315f54da0",
   "metadata": {},
   "outputs": [
    {
     "name": "stdout",
     "output_type": "stream",
     "text": [
      "qdb has 0 resolved names ploidy level that is missing from ploidb\n",
      "qdb has 5 unresolved names ploidy level that is missing from ploidb\n"
     ]
    }
   ],
   "source": [
    "qdb_complementary_data_by_resolved_names = qdb.loc[qdb.taxon.isin(missing_resolved_names)]\n",
    "qdb_complementary_data_by_unresolved_names = qdb.loc[qdb.taxon.isin(missing_unresolved_names)]\n",
    "\n",
    "print(f\"qdb has {qdb_complementary_data_by_resolved_names.shape[0]:,} resolved names ploidy level that is missing from ploidb\")\n",
    "print(f\"qdb has {qdb_complementary_data_by_unresolved_names.shape[0]:,} unresolved names ploidy level that is missing from ploidb\")"
   ]
  },
  {
   "cell_type": "code",
   "execution_count": 23,
   "id": "1c81c740-4272-45c4-9116-7703e27967df",
   "metadata": {},
   "outputs": [
    {
     "data": {
      "text/html": [
       "<div>\n",
       "<style scoped>\n",
       "    .dataframe tbody tr th:only-of-type {\n",
       "        vertical-align: middle;\n",
       "    }\n",
       "\n",
       "    .dataframe tbody tr th {\n",
       "        vertical-align: top;\n",
       "    }\n",
       "\n",
       "    .dataframe thead th {\n",
       "        text-align: right;\n",
       "    }\n",
       "</style>\n",
       "<table border=\"1\" class=\"dataframe\">\n",
       "  <thead>\n",
       "    <tr style=\"text-align: right;\">\n",
       "      <th></th>\n",
       "      <th>Higher Group</th>\n",
       "      <th>Genus</th>\n",
       "      <th>Species</th>\n",
       "      <th>Subspecies</th>\n",
       "      <th>Family (APG III)</th>\n",
       "      <th>Order</th>\n",
       "      <th>1C-value (pg)</th>\n",
       "      <th>Life cycle</th>\n",
       "      <th>Chromosome number (2n) (if reported)</th>\n",
       "      <th>Chromosome Footnote</th>\n",
       "      <th>Ploidy level (x)</th>\n",
       "      <th>Ploidy Footnote</th>\n",
       "      <th>Estimation Method</th>\n",
       "      <th>Original reference No.</th>\n",
       "      <th>Reference</th>\n",
       "      <th>taxon</th>\n",
       "    </tr>\n",
       "  </thead>\n",
       "  <tbody>\n",
       "    <tr>\n",
       "      <th>1507</th>\n",
       "      <td>E</td>\n",
       "      <td>Phytolacca</td>\n",
       "      <td>rivinoides</td>\n",
       "      <td>NaN</td>\n",
       "      <td>Phytolaccaceae</td>\n",
       "      <td>Caryophyllales</td>\n",
       "      <td>1.3</td>\n",
       "      <td>P</td>\n",
       "      <td>36.0</td>\n",
       "      <td>NaN</td>\n",
       "      <td>4.0</td>\n",
       "      <td>NaN</td>\n",
       "      <td>Fe</td>\n",
       "      <td>354.0</td>\n",
       "      <td>Poggio L, Greizerstein EJ, Bottini MCJ, Guagli...</td>\n",
       "      <td>phytolacca rivinoides</td>\n",
       "    </tr>\n",
       "    <tr>\n",
       "      <th>1701</th>\n",
       "      <td>E</td>\n",
       "      <td>Momordica</td>\n",
       "      <td>charantia</td>\n",
       "      <td>NaN</td>\n",
       "      <td>Cucurbitaceae</td>\n",
       "      <td>Cucurbitales</td>\n",
       "      <td>2.1</td>\n",
       "      <td>A</td>\n",
       "      <td>22.0</td>\n",
       "      <td>o</td>\n",
       "      <td>2.0</td>\n",
       "      <td>z</td>\n",
       "      <td>Fe</td>\n",
       "      <td>69.0</td>\n",
       "      <td>Ingle J,  Timmis JN, Sinclair J. 1975. Relatio...</td>\n",
       "      <td>momordica charantia</td>\n",
       "    </tr>\n",
       "    <tr>\n",
       "      <th>1798</th>\n",
       "      <td>E</td>\n",
       "      <td>Viburnum</td>\n",
       "      <td>opulus</td>\n",
       "      <td>NaN</td>\n",
       "      <td>Adoxaceae</td>\n",
       "      <td>Dipsacales</td>\n",
       "      <td>4.1</td>\n",
       "      <td>P</td>\n",
       "      <td>18.0</td>\n",
       "      <td>o</td>\n",
       "      <td>2.0</td>\n",
       "      <td>z</td>\n",
       "      <td>Fe</td>\n",
       "      <td>154.0</td>\n",
       "      <td>Band SR. (pers. comm. 1984).</td>\n",
       "      <td>viburnum opulus</td>\n",
       "    </tr>\n",
       "    <tr>\n",
       "      <th>3688</th>\n",
       "      <td>E</td>\n",
       "      <td>Caltha</td>\n",
       "      <td>palustris</td>\n",
       "      <td>NaN</td>\n",
       "      <td>Ranunculaceae</td>\n",
       "      <td>Ranunculales</td>\n",
       "      <td>16.5</td>\n",
       "      <td>P</td>\n",
       "      <td>56.0</td>\n",
       "      <td>o</td>\n",
       "      <td>7.0</td>\n",
       "      <td>z</td>\n",
       "      <td>Fe</td>\n",
       "      <td>1.0</td>\n",
       "      <td>Bennett MD. 1972.  Nuclear DNA content and min...</td>\n",
       "      <td>caltha palustris</td>\n",
       "    </tr>\n",
       "    <tr>\n",
       "      <th>8248</th>\n",
       "      <td>E</td>\n",
       "      <td>Petasites</td>\n",
       "      <td>frigidus</td>\n",
       "      <td>NaN</td>\n",
       "      <td>Asteraceae</td>\n",
       "      <td>Asterales</td>\n",
       "      <td>3.2</td>\n",
       "      <td>P</td>\n",
       "      <td>NaN</td>\n",
       "      <td>n</td>\n",
       "      <td>NaN</td>\n",
       "      <td>p</td>\n",
       "      <td>FC:PI</td>\n",
       "      <td>721.0</td>\n",
       "      <td>Bai C, Alverson WS, Follansbee A, Waller DM. 2...</td>\n",
       "      <td>petasites frigidus</td>\n",
       "    </tr>\n",
       "  </tbody>\n",
       "</table>\n",
       "</div>"
      ],
      "text/plain": [
       "     Higher Group       Genus     Species Subspecies Family (APG III)  \\\n",
       "1507            E  Phytolacca  rivinoides        NaN   Phytolaccaceae   \n",
       "1701            E   Momordica   charantia        NaN    Cucurbitaceae   \n",
       "1798            E    Viburnum      opulus        NaN        Adoxaceae   \n",
       "3688            E      Caltha   palustris        NaN    Ranunculaceae   \n",
       "8248            E   Petasites    frigidus        NaN       Asteraceae   \n",
       "\n",
       "               Order  1C-value (pg) Life cycle  \\\n",
       "1507  Caryophyllales            1.3          P   \n",
       "1701    Cucurbitales            2.1          A   \n",
       "1798      Dipsacales            4.1          P   \n",
       "3688    Ranunculales           16.5          P   \n",
       "8248       Asterales            3.2          P   \n",
       "\n",
       "      Chromosome number (2n) (if reported) Chromosome Footnote   \\\n",
       "1507                                  36.0                  NaN   \n",
       "1701                                  22.0                    o   \n",
       "1798                                  18.0                    o   \n",
       "3688                                  56.0                    o   \n",
       "8248                                   NaN                    n   \n",
       "\n",
       "      Ploidy level (x) Ploidy Footnote Estimation Method  \\\n",
       "1507               4.0             NaN                Fe   \n",
       "1701               2.0               z                Fe   \n",
       "1798               2.0               z                Fe   \n",
       "3688               7.0               z                Fe   \n",
       "8248               NaN               p             FC:PI   \n",
       "\n",
       "      Original reference No.  \\\n",
       "1507                   354.0   \n",
       "1701                    69.0   \n",
       "1798                   154.0   \n",
       "3688                     1.0   \n",
       "8248                   721.0   \n",
       "\n",
       "                                              Reference  \\\n",
       "1507  Poggio L, Greizerstein EJ, Bottini MCJ, Guagli...   \n",
       "1701  Ingle J,  Timmis JN, Sinclair J. 1975. Relatio...   \n",
       "1798                       Band SR. (pers. comm. 1984).   \n",
       "3688  Bennett MD. 1972.  Nuclear DNA content and min...   \n",
       "8248  Bai C, Alverson WS, Follansbee A, Waller DM. 2...   \n",
       "\n",
       "                       taxon  \n",
       "1507  phytolacca rivinoides   \n",
       "1701    momordica charantia   \n",
       "1798        viburnum opulus   \n",
       "3688       caltha palustris   \n",
       "8248     petasites frigidus   "
      ]
     },
     "execution_count": 23,
     "metadata": {},
     "output_type": "execute_result"
    }
   ],
   "source": [
    "qdb_complementary_data_by_unresolved_names"
   ]
  },
  {
   "cell_type": "markdown",
   "id": "24b3930a-dc9a-4970-ae29-5fdae0ac6dac",
   "metadata": {
    "jp-MarkdownHeadingCollapsed": true,
    "tags": []
   },
   "source": [
    "# deprecated - check which names without ploidy level can have their ploidy level inferred based on their parent node"
   ]
  },
  {
   "cell_type": "code",
   "execution_count": 24,
   "id": "a00c14ef-08ad-46c6-875f-2baed06eb87d",
   "metadata": {},
   "outputs": [],
   "source": [
    "names_with_missing_classification = classified_resolved_plant_names.loc[classified_resolved_plant_names.is_polyploid.isna()].unresolved_Species.tolist()"
   ]
  },
  {
   "cell_type": "code",
   "execution_count": 25,
   "id": "cb5f895f-589b-4d69-99c6-0759339fc66b",
   "metadata": {},
   "outputs": [],
   "source": [
    "tree = Tree(tree_path, format=1)\n",
    "ccdb = pd.read_csv(ccdb_path)\n",
    "classification_data = pd.read_csv(classification_data_path)"
   ]
  },
  {
   "cell_type": "code",
   "execution_count": 26,
   "id": "c0fa4784-73ad-4ba7-bdca-12444e1f17da",
   "metadata": {},
   "outputs": [],
   "source": [
    "for leaf in tree.get_leaves():\n",
    "    leaf.name = leaf.name.lower().replace(\"_\",\" \")\n",
    "leaf_names = set(tree.get_leaf_names())\n",
    "names_present_in_tree = [n for n in names_with_missing_classification if n in leaf_names]"
   ]
  },
  {
   "cell_type": "code",
   "execution_count": 27,
   "id": "1c178a21-09e1-4c68-8391-b7579b769667",
   "metadata": {},
   "outputs": [
    {
     "name": "stdout",
     "output_type": "stream",
     "text": [
      "# names for which ploidy inference can be reliably extracted based on parent node = 758\n"
     ]
    }
   ],
   "source": [
    "# for each name present in the tree, check if there is a sibling with available chromosome count\n",
    "names_that_can_be_inferred = []\n",
    "for name in names_present_in_tree:\n",
    "    node = tree.search_nodes(name=name)[0]\n",
    "    parent = node.up\n",
    "    siblings = set(parent.get_leaf_names())-set([name])\n",
    "    if ccdb.loc[ccdb.mapped_name.isin(siblings)].shape[0] > 0:\n",
    "        names_that_can_be_inferred.append(name)\n",
    "print(f\"# names for which ploidy inference can be reliably extracted based on parent node = {len(names_that_can_be_inferred):,}\")"
   ]
  },
  {
   "cell_type": "code",
   "execution_count": 28,
   "id": "0caf5959-327c-4711-8ebb-ce100cbe168b",
   "metadata": {},
   "outputs": [],
   "source": [
    "df = pd.DataFrame(columns=[\"name\", \"genus\", \"family\"])\n",
    "df.name = names_that_can_be_inferred\n",
    "df.genus = df.name.apply(lambda name: name.split(\" \")[0])\n",
    "df.set_index(\"genus\", inplace=True)\n",
    "df.family.fillna(classification_data.set_index(\"genus\")[\"family\"].to_dict(), inplace=True)\n",
    "df.reset_index(inplace=True)"
   ]
  },
  {
   "cell_type": "code",
   "execution_count": 29,
   "id": "0005c27e-5673-4e02-9f35-dccf24aed62b",
   "metadata": {},
   "outputs": [],
   "source": [
    "df.to_csv(missing_names_path, index=False)"
   ]
  },
  {
   "cell_type": "code",
   "execution_count": 12,
   "id": "b643a4b2-6d04-4f7b-ad9d-436fa10885e2",
   "metadata": {},
   "outputs": [],
   "source": [
    "plant_classification_data = pd.read_csv(\"/groups/itay_mayrose/halabikeren/plant_pollinator_networks/classification/plant_classification_data.csv\")\n",
    "plant_name_to_class = plant_classification_data.set_index(\"original_name\")[\"conservative_is_polyploid_by_resolved\"].to_dict()"
   ]
  },
  {
   "cell_type": "code",
   "execution_count": 13,
   "id": "cef0ca96-560d-4dff-a5fe-a12b4a46a320",
   "metadata": {},
   "outputs": [],
   "source": [
    "plant_network_data = pd.read_csv(\"/groups/itay_mayrose/halabikeren/plant_pollinator_networks/features/taxonomic_features/taxonomic_features.csv\", usecols=[\"original_name\",\"network_type\",\"network_id\"])\n",
    "plant_network_data[\"is_polyploid\"] = np.nan\n",
    "plant_network_data.set_index(\"original_name\", inplace=True)\n",
    "plant_network_data.is_polyploid.fillna(plant_name_to_class, inplace=True)\n",
    "plant_network_data.reset_index(inplace=True)"
   ]
  },
  {
   "cell_type": "code",
   "execution_count": 26,
   "id": "0fe51adf-db02-48ae-bae3-c584e5384777",
   "metadata": {},
   "outputs": [],
   "source": [
    "network_classification_data = plant_network_data.groupby([\"network_type\",\"network_id\"])[\"is_polyploid\"].apply(lambda x: np.any(x==1)).reset_index().rename(columns={\"is_polyploid\":\"has_polyploids\"})\n",
    "binary_network_classification_data = df.query(\"network_type == 'binary'\").drop([\"network_type\"], axis=1)\n",
    "weighted_network_classification_data = df.query(\"network_type == 'weighted'\").drop([\"network_type\"], axis=1)\n",
    "binary_network_classification_data.to_csv(\"./binary_network_classification.csv\", index=False)\n",
    "weighted_network_classification_data.to_csv(\"./weighted_network_classification.csv\", index=False)"
   ]
  }
 ],
 "metadata": {
  "kernelspec": {
   "display_name": "Python 3 (ipykernel)",
   "language": "python",
   "name": "python3"
  },
  "language_info": {
   "codemirror_mode": {
    "name": "ipython",
    "version": 3
   },
   "file_extension": ".py",
   "mimetype": "text/x-python",
   "name": "python",
   "nbconvert_exporter": "python",
   "pygments_lexer": "ipython3",
   "version": "3.10.6"
  }
 },
 "nbformat": 4,
 "nbformat_minor": 5
}
