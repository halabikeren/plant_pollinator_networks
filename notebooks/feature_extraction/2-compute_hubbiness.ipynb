{
 "cells": [
  {
   "cell_type": "code",
   "execution_count": 38,
   "id": "7952f32f-9c5d-4784-a9a3-4fed05d0fa37",
   "metadata": {
    "tags": []
   },
   "outputs": [
    {
     "name": "stdout",
     "output_type": "stream",
     "text": [
      "INFO: Pandarallel will run on 30 workers.\n",
      "INFO: Pandarallel will use standard multiprocessing data transfer (pipe) to transfer data between the main process and workers.\n"
     ]
    }
   ],
   "source": [
    "import networkx as nx\n",
    "import os\n",
    "import pandas as pd\n",
    "import numpy as np\n",
    "import itertools\n",
    "import matplotlib.pyplot as plt\n",
    "import glob\n",
    "from pandarallel import pandarallel\n",
    "pandarallel.initialize(progress_bar=True, nb_workers=30, use_memory_fs=False)\n",
    "\n",
    "import warnings\n",
    "warnings.filterwarnings(\"ignore\")"
   ]
  },
  {
   "cell_type": "code",
   "execution_count": 39,
   "id": "aa63a9c8-cc7a-4bc7-88ac-9176f492961f",
   "metadata": {},
   "outputs": [
    {
     "name": "stdout",
     "output_type": "stream",
     "text": [
      "# networks = 1,257\n"
     ]
    }
   ],
   "source": [
    "compute_on_null = False\n",
    "\n",
    "networks_dir = f\"../../data/networks/{'null' if compute_on_null else 'all'}/\"\n",
    "plant_features_dir = f\"../../data/features/plant/\"\n",
    "networks_types = [\"binary\", \"weighted\", \"binarized_weighted\"]\n",
    "\n",
    "networks_paths_data = []\n",
    "for net_type in networks_types:\n",
    "    paths = glob.glob(f'{networks_dir}{net_type}/**/**/**.csv', recursive=True)\n",
    "    df = pd.DataFrame({\"path\": paths}) #[f\"{networks_dir}{net_type}/{p}\" for p in os.listdir(f\"{networks_dir}{net_type}/\") if p.endswith(\".csv\")]})\n",
    "    df[\"net_type\"] = net_type\n",
    "    networks_paths_data.append(df)\n",
    "networks_paths_data = pd.concat(networks_paths_data)\n",
    "print(f\"# networks = {networks_paths_data.shape[0]:,}\")"
   ]
  },
  {
   "cell_type": "code",
   "execution_count": 40,
   "id": "01656a06-2457-420e-baa4-8fdc5809332c",
   "metadata": {},
   "outputs": [],
   "source": [
    "def get_network(network_path):\n",
    "    ep_network = pd.read_csv(network_path)\n",
    "    if \"Plant\" not in ep_network.columns:\n",
    "        ep_network = ep_network.rename(columns={\"Unnamed: 0\": \"Plant\"})\n",
    "    ep_network = ep_network.set_index(\"Plant\")\n",
    "    plants = ep_network.index.tolist()\n",
    "    pollinators = list(ep_network.columns)\n",
    "    pp_pairs = {pair: ep_network.loc[pair[0]][pair[1]] for pair in list(itertools.product(plants, pollinators))}\n",
    "    G = nx.Graph()\n",
    "    G.add_nodes_from(plants, bipartite=0)\n",
    "    G.add_nodes_from(pollinators, bipartite=1)\n",
    "    G.add_weighted_edges_from(\n",
    "        [(pair[0], pair[1], pp_pairs[pair]) for pair in pp_pairs if pp_pairs[pair] > 0])\n",
    "    return G \n",
    "\n",
    "def draw_network(G):\n",
    "    nx.draw_networkx(G,\n",
    "                     pos=nx.kamada_kawai_layout(G, weight='Value'),\n",
    "                     node_size=200,\n",
    "                     with_labels=True)\n",
    "    plt.show()"
   ]
  },
  {
   "cell_type": "code",
   "execution_count": 41,
   "id": "12c14649-69ca-4f28-8c9d-496f92514a54",
   "metadata": {},
   "outputs": [
    {
     "data": {
      "application/vnd.jupyter.widget-view+json": {
       "model_id": "10e55f0719c94c5380d45c1688f61985",
       "version_major": 2,
       "version_minor": 0
      },
      "text/plain": [
       "VBox(children=(HBox(children=(IntProgress(value=0, description='0.00%', max=42), Label(value='0 / 42'))), HBox…"
      ]
     },
     "metadata": {},
     "output_type": "display_data"
    }
   ],
   "source": [
    "networks_paths_data[\"network_id\"] = networks_paths_data.path.parallel_apply(lambda p: os.path.basename(p).replace(\".csv\",\"\"))"
   ]
  },
  {
   "cell_type": "code",
   "execution_count": 42,
   "id": "921d7d12-ae80-4134-aecf-ad18cacfcefa",
   "metadata": {},
   "outputs": [
    {
     "data": {
      "application/vnd.jupyter.widget-view+json": {
       "model_id": "bb0691ff75ab45aaa1d6b9cdb1ca9dcf",
       "version_major": 2,
       "version_minor": 0
      },
      "text/plain": [
       "VBox(children=(HBox(children=(IntProgress(value=0, description='0.00%', max=42), Label(value='0 / 42'))), HBox…"
      ]
     },
     "metadata": {},
     "output_type": "display_data"
    }
   ],
   "source": [
    "def get_hubiness_scores(path: str) -> dict: \n",
    "    try:\n",
    "        network = get_network(path)\n",
    "        (hubs,authorities) = nx.hits(network)\n",
    "        return hubs\n",
    "    except Exception as e:\n",
    "        print(f\"couldn't compute hubbiness for {path} due to error {e}\")\n",
    "        return np.nan\n",
    "    \n",
    "networks_paths_data[\"hubbiness\"] = networks_paths_data.parallel_apply(lambda rec: get_hubiness_scores(rec.path), axis=1)"
   ]
  },
  {
   "cell_type": "code",
   "execution_count": 43,
   "id": "4d809b07-56f5-43a7-b329-5d68ab4b49d6",
   "metadata": {},
   "outputs": [],
   "source": [
    "hubbiness_data_across_networks = networks_paths_data[[\"network_id\", \"net_type\", \"hubbiness\"]]"
   ]
  },
  {
   "cell_type": "code",
   "execution_count": 44,
   "id": "7bc0e182-200f-4e7e-9a9f-94e4d21520c3",
   "metadata": {},
   "outputs": [],
   "source": [
    "hubbiness_data = []\n",
    "for i, row in hubbiness_data_across_networks.iterrows():\n",
    "    if pd.notna(row.hubbiness):\n",
    "        df = pd.DataFrame.from_dict(row.hubbiness, orient=\"index\").reset_index().rename(columns={\"index\": \"plant\", 0: \"hubbiness_score\"})\n",
    "        df[\"network_type\"] = row.net_type\n",
    "        df[\"network_id\"] = row.network_id\n",
    "        hubbiness_data.append(df)\n",
    "    else:\n",
    "        print(f\"no hubbiness data for {row.net_type}-{row.network_id}\")"
   ]
  },
  {
   "cell_type": "code",
   "execution_count": 45,
   "id": "35307850-abc8-4333-883c-2c3293142666",
   "metadata": {},
   "outputs": [
    {
     "data": {
      "text/html": [
       "<div>\n",
       "<style scoped>\n",
       "    .dataframe tbody tr th:only-of-type {\n",
       "        vertical-align: middle;\n",
       "    }\n",
       "\n",
       "    .dataframe tbody tr th {\n",
       "        vertical-align: top;\n",
       "    }\n",
       "\n",
       "    .dataframe thead th {\n",
       "        text-align: right;\n",
       "    }\n",
       "</style>\n",
       "<table border=\"1\" class=\"dataframe\">\n",
       "  <thead>\n",
       "    <tr style=\"text-align: right;\">\n",
       "      <th></th>\n",
       "      <th>plant</th>\n",
       "      <th>hubbiness_score</th>\n",
       "      <th>network_type</th>\n",
       "      <th>network_id</th>\n",
       "    </tr>\n",
       "  </thead>\n",
       "  <tbody>\n",
       "    <tr>\n",
       "      <th>0</th>\n",
       "      <td>Aechmea cylindrata</td>\n",
       "      <td>-1.600884e-18</td>\n",
       "      <td>binary</td>\n",
       "      <td>0</td>\n",
       "    </tr>\n",
       "    <tr>\n",
       "      <th>1</th>\n",
       "      <td>Nidularium campo-alegrensis</td>\n",
       "      <td>7.072577e-02</td>\n",
       "      <td>binary</td>\n",
       "      <td>0</td>\n",
       "    </tr>\n",
       "    <tr>\n",
       "      <th>2</th>\n",
       "      <td>Vriesea altodaserrae</td>\n",
       "      <td>3.110280e-01</td>\n",
       "      <td>binary</td>\n",
       "      <td>0</td>\n",
       "    </tr>\n",
       "    <tr>\n",
       "      <th>3</th>\n",
       "      <td>Vriesea guttata</td>\n",
       "      <td>7.072577e-02</td>\n",
       "      <td>binary</td>\n",
       "      <td>0</td>\n",
       "    </tr>\n",
       "    <tr>\n",
       "      <th>4</th>\n",
       "      <td>Vriesea heterostachys</td>\n",
       "      <td>7.072577e-02</td>\n",
       "      <td>binary</td>\n",
       "      <td>0</td>\n",
       "    </tr>\n",
       "  </tbody>\n",
       "</table>\n",
       "</div>"
      ],
      "text/plain": [
       "                         plant  hubbiness_score network_type network_id\n",
       "0           Aechmea cylindrata    -1.600884e-18       binary          0\n",
       "1  Nidularium campo-alegrensis     7.072577e-02       binary          0\n",
       "2         Vriesea altodaserrae     3.110280e-01       binary          0\n",
       "3              Vriesea guttata     7.072577e-02       binary          0\n",
       "4        Vriesea heterostachys     7.072577e-02       binary          0"
      ]
     },
     "execution_count": 45,
     "metadata": {},
     "output_type": "execute_result"
    }
   ],
   "source": [
    "hubbiness_data = pd.concat(hubbiness_data)\n",
    "hubbiness_data.head()"
   ]
  },
  {
   "cell_type": "code",
   "execution_count": 46,
   "id": "51705f2f-8d0a-4234-b2cb-4c285a294a86",
   "metadata": {},
   "outputs": [
    {
     "data": {
      "application/vnd.jupyter.widget-view+json": {
       "model_id": "c1c63e2decfd4f84b4be1a64ed4ca5b0",
       "version_major": 2,
       "version_minor": 0
      },
      "text/plain": [
       "VBox(children=(HBox(children=(IntProgress(value=0, description='0.00%', max=42), Label(value='0 / 42'))), HBox…"
      ]
     },
     "metadata": {},
     "output_type": "display_data"
    }
   ],
   "source": [
    "def get_ranked_hubbiness_df(df: pd.DataFrame) -> pd.DataFrame:\n",
    "    if df.shape[0] == 0:\n",
    "        return df\n",
    "    feature = \"hubbiness_score\"\n",
    "    df[f\"standardized_{feature}\"] = df[feature].rank()\n",
    "    nranks = df[f\"standardized_{feature}\"].max()\n",
    "    df[f\"standardized_{feature}\"] = df[f\"standardized_{feature}\"] / nranks\n",
    "    return df\n",
    "\n",
    "hubbiness_data = hubbiness_data.groupby([\"network_type\", \"network_id\"]).parallel_apply(lambda df: get_ranked_hubbiness_df(df))"
   ]
  },
  {
   "cell_type": "code",
   "execution_count": 47,
   "id": "76a07239-2b6a-41cc-9f76-c18709b0dd1b",
   "metadata": {},
   "outputs": [],
   "source": [
    "hubbiness_data = hubbiness_data.reset_index(drop=True)"
   ]
  },
  {
   "cell_type": "code",
   "execution_count": 48,
   "id": "55e1ac58-b87e-43c8-b09b-6240ef38c569",
   "metadata": {},
   "outputs": [],
   "source": [
    "assert(hubbiness_data.standardized_hubbiness_score.max() == 1)"
   ]
  },
  {
   "cell_type": "code",
   "execution_count": 49,
   "id": "d7e717f1-3ee9-4c88-9f20-7735f62750b0",
   "metadata": {},
   "outputs": [],
   "source": [
    "hubbiness_data.network_id = hubbiness_data.network_id.astype(int)"
   ]
  },
  {
   "cell_type": "code",
   "execution_count": 51,
   "id": "8fbe82d0-b3dc-459b-9ae7-ca87b81cc96e",
   "metadata": {},
   "outputs": [],
   "source": [
    "for net_type in hubbiness_data.network_type.unique():\n",
    "    features_df = pd.read_csv(f\"{plant_features_dir}{net_type}/features.csv\")\n",
    "    if \"Plant\" not in features_df.columns:\n",
    "        features_df = features_df.rename(columns={\"Unnamed: 0\": \"Plant\"})\n",
    "    if \"network\" in features_df.columns:\n",
    "        features_df[\"network_id\"] = features_df.network\n",
    "    relevant_hubbiness_data = hubbiness_data.query(f\"network_type == '{net_type}'\").rename(columns={\"plant\": \"Plant\"})\n",
    "    features_df = features_df.merge(relevant_hubbiness_data, on=['network_type', 'network_id', \"Plant\"], how=\"left\")\n",
    "    features_df = features_df.drop([c for c in features_df.columns if \"Unnamed\" in c], axis=1)\n",
    "    features_df.to_csv(f\"{plant_features_dir}{net_type}/features.csv\")"
   ]
  },
  {
   "cell_type": "code",
   "execution_count": 52,
   "id": "8bc3f7e8-dcd4-4986-a2ea-51bf338c93e6",
   "metadata": {},
   "outputs": [],
   "source": [
    "for net_type in hubbiness_data.network_type.unique():\n",
    "    features_df = pd.read_csv(f\"{plant_features_dir}{net_type}/features_with_classification.csv\")\n",
    "    if \"hubbiness_score_x\" in features_df.columns:\n",
    "        features_df[\"hubbiness_score\"] = features_df.hubbiness_score_x\n",
    "    if \"hubbiness_score\" not in features_df.columns:\n",
    "        features_df[\"network_id\"] = features_df.network\n",
    "        relevant_hubbiness_data = hubbiness_data.query(f\"network_type == '{net_type}'\").rename(columns={\"plant\": \"Plant\"})\n",
    "        features_df = features_df.merge(relevant_hubbiness_data, on=['network_type', 'network_id', \"Plant\"], how=\"left\")\n",
    "        features_df = features_df.drop([c for c in features_df.columns if \"Unnamed\" in c], axis=1)      \n",
    "        features_df = features_df[[c for c in features_df.columns if not c.startswith(\"hubbiness_score_\")]]\n",
    "    features_df.to_csv(f\"{plant_features_dir}{net_type}/features_with_classification.csv\")"
   ]
  }
 ],
 "metadata": {
  "kernelspec": {
   "display_name": "Python 3 (ipykernel)",
   "language": "python",
   "name": "python3"
  },
  "language_info": {
   "codemirror_mode": {
    "name": "ipython",
    "version": 3
   },
   "file_extension": ".py",
   "mimetype": "text/x-python",
   "name": "python",
   "nbconvert_exporter": "python",
   "pygments_lexer": "ipython3",
   "version": "3.10.6"
  }
 },
 "nbformat": 4,
 "nbformat_minor": 5
}
