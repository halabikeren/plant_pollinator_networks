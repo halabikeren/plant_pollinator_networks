{
 "cells": [
  {
   "cell_type": "code",
   "execution_count": 4,
   "id": "9e042950-7bfb-4d64-bcc5-2860a3f642fc",
   "metadata": {},
   "outputs": [
    {
     "name": "stdout",
     "output_type": "stream",
     "text": [
      "Error in download.file(url, destfile, method, mode = \"wb\", ...) : \n",
      "  ignoring SIGPIPE signal\n"
     ]
    },
    {
     "name": "stderr",
     "output_type": "stream",
     "text": [
      "Warning message in download.packages(pkgs, destdir = tmpd, available = available, :\n",
      "“download of package ‘comprehenr’ failed”\n"
     ]
    }
   ],
   "source": [
    "install.packages(\"comprehenr\")"
   ]
  },
  {
   "cell_type": "code",
   "execution_count": 5,
   "id": "71349abd-041a-4385-8a78-ffdb5cce07f1",
   "metadata": {},
   "outputs": [
    {
     "name": "stderr",
     "output_type": "stream",
     "text": [
      "── \u001b[1mAttaching packages\u001b[22m ─────────────────────────────────────── tidyverse 1.3.1 ──\n",
      "\n",
      "\u001b[32m✔\u001b[39m \u001b[34mggplot2\u001b[39m 3.3.6      \u001b[32m✔\u001b[39m \u001b[34mpurrr  \u001b[39m 0.3.5 \n",
      "\u001b[32m✔\u001b[39m \u001b[34mtibble \u001b[39m 3.1.8      \u001b[32m✔\u001b[39m \u001b[34mdplyr  \u001b[39m 1.0.10\n",
      "\u001b[32m✔\u001b[39m \u001b[34mtidyr  \u001b[39m 1.2.1      \u001b[32m✔\u001b[39m \u001b[34mstringr\u001b[39m 1.4.1 \n",
      "\u001b[32m✔\u001b[39m \u001b[34mreadr  \u001b[39m 2.1.3      \u001b[32m✔\u001b[39m \u001b[34mforcats\u001b[39m 0.5.2 \n",
      "\n",
      "── \u001b[1mConflicts\u001b[22m ────────────────────────────────────────── tidyverse_conflicts() ──\n",
      "\u001b[31m✖\u001b[39m \u001b[34mdplyr\u001b[39m::\u001b[32mfilter()\u001b[39m masks \u001b[34mstats\u001b[39m::filter()\n",
      "\u001b[31m✖\u001b[39m \u001b[34mdplyr\u001b[39m::\u001b[32mlag()\u001b[39m    masks \u001b[34mstats\u001b[39m::lag()\n",
      "\n",
      "Loading required package: vegan\n",
      "\n",
      "Loading required package: permute\n",
      "\n",
      "Loading required package: lattice\n",
      "\n",
      "This is vegan 2.6-4\n",
      "\n",
      "Loading required package: sna\n",
      "\n",
      "Loading required package: statnet.common\n",
      "\n",
      "\n",
      "Attaching package: ‘statnet.common’\n",
      "\n",
      "\n",
      "The following objects are masked from ‘package:base’:\n",
      "\n",
      "    attr, order\n",
      "\n",
      "\n",
      "Loading required package: network\n",
      "\n",
      "\n",
      "‘network’ 1.17.1 (2021-06-12), part of the Statnet Project\n",
      "* ‘news(package=\"network\")’ for changes since last version\n",
      "* ‘citation(\"network\")’ for citation information\n",
      "* ‘https://statnet.org’ for help, support, and other information\n",
      "\n",
      "\n",
      "sna: Tools for Social Network Analysis\n",
      "Version 2.7 created on 2022-05-09.\n",
      "copyright (c) 2005, Carter T. Butts, University of California-Irvine\n",
      " For citation information, type citation(\"sna\").\n",
      " Type help(package=\"sna\") to get started.\n",
      "\n",
      "\n",
      " This is bipartite 2.16.\n",
      " For latest changes see versionlog in ?\"bipartite-package\". For citation see: citation(\"bipartite\").\n",
      " Have a nice time plotting and analysing two-mode networks.\n",
      "\n",
      "\n",
      "Attaching package: ‘bipartite’\n",
      "\n",
      "\n",
      "The following object is masked from ‘package:vegan’:\n",
      "\n",
      "    nullmodel\n",
      "\n",
      "\n",
      "\n",
      "Attaching package: ‘matrixStats’\n",
      "\n",
      "\n",
      "The following object is masked from ‘package:dplyr’:\n",
      "\n",
      "    count\n",
      "\n",
      "\n"
     ]
    }
   ],
   "source": [
    "library(tidyverse)\n",
    "library(bipartite)\n",
    "library(comprehenr)\n",
    "library(stringr)\n",
    "library(parallel)\n",
    "library(pbmcapply)\n",
    "source(\"/groups/itay_mayrose/halabikeren/tmp/plant_pollinator_inter/feature_computation/utils.R\")"
   ]
  },
  {
   "cell_type": "code",
   "execution_count": 11,
   "id": "61b762ce-3fea-4724-a672-6a36273ae896",
   "metadata": {},
   "outputs": [],
   "source": [
    "networks_dir = \"../../data/networks/all/\"\n",
    "networks_types = c(\"binary\", \"weighted\", \"binarized_weighted\")\n",
    "null_networks_dir = \"../../data/networks/null/\"\n",
    "skip=c()\n",
    "#skip = c('../../data/networks/all/weighted/10.csv', '../../data/networks/all/weighted/11.csv', '../../data/networks/all/weighted/12.csv', '../../data/networks/all/weighted/51.csv', '../../data/networks/all/weighted/190.csv', '../../data/networks/all/weighted/192.csv', '../../data/networks/all/weighted/196.csv', '../../data/networks/all/weighted/588.csv')"
   ]
  },
  {
   "cell_type": "code",
   "execution_count": 12,
   "id": "0efee269-763c-4a5d-b134-f21a0aad5db9",
   "metadata": {},
   "outputs": [
    {
     "name": "stderr",
     "output_type": "stream",
     "text": [
      "Warning message in dir.create(null_networks_dir):\n",
      "“'../../data/networks/null' already exists”\n",
      "Warning message in dir.create(paste(null_networks_dir, net_type, sep = \"\")):\n",
      "“'../../data/networks/null/binary' already exists”\n",
      "Warning message in dir.create(paste(null_networks_dir, net_type, sep = \"\")):\n",
      "“'../../data/networks/null/weighted' already exists”\n",
      "Warning message in dir.create(paste(null_networks_dir, net_type, sep = \"\")):\n",
      "“'../../data/networks/null/binarized_weighted' already exists”\n"
     ]
    }
   ],
   "source": [
    "dir.create(null_networks_dir)\n",
    "for (net_type in networks_types)\n",
    "    {\n",
    "        dir.create(paste(null_networks_dir, net_type, sep=\"\"))\n",
    "    }"
   ]
  },
  {
   "cell_type": "code",
   "execution_count": 13,
   "id": "95698f94-a41f-4a97-973a-8e252f0d551b",
   "metadata": {},
   "outputs": [],
   "source": [
    "full_network_paths = c()\n",
    "for (net_type in networks_types)\n",
    "    {\n",
    "        net_type_dir = paste(networks_dir, net_type, \"/\", sep=\"\")\n",
    "        networks_paths = list.files(net_type_dir) \n",
    "        full_network_paths <- append(full_network_paths, to_vec(for(p in networks_paths) paste(net_type_dir, p, sep=\"\")))\n",
    "    }"
   ]
  },
  {
   "cell_type": "code",
   "execution_count": 14,
   "id": "01a0b1a8-6167-4326-9944-e31de3d9fcd1",
   "metadata": {},
   "outputs": [
    {
     "data": {
      "text/html": [
       "1257"
      ],
      "text/latex": [
       "1257"
      ],
      "text/markdown": [
       "1257"
      ],
      "text/plain": [
       "[1] 1257"
      ]
     },
     "metadata": {},
     "output_type": "display_data"
    }
   ],
   "source": [
    "length(full_network_paths)"
   ]
  },
  {
   "cell_type": "code",
   "execution_count": 11,
   "id": "aef6ddd7-84c5-48e3-84f3-67c46c2ebccd",
   "metadata": {},
   "outputs": [],
   "source": [
    "generate_null_networks <- function(path, nsim=100) \n",
    "{\n",
    "    network = process_network(path) \n",
    "    output_dir = str_replace(str_replace(path, networks_dir, null_networks_dir), \".csv\", \"/\")\n",
    "    dir.create(output_dir, showWarnings = FALSE)\n",
    "    print(output_dir)\n",
    "    num_files <- length(list.files(output_dir))\n",
    "    print(num_files)\n",
    "    if (num_files == nsim)\n",
    "    {\n",
    "        return(0)\n",
    "    }\n",
    "    null_networks = r2dtable(n=nsim, r=rowSums(network), c=colSums(network))\n",
    "    for (i in 1:length(null_networks))\n",
    "    {\n",
    "        output_path = paste(output_dir, i, \".csv\", sep=\"\")\n",
    "        null_network = data.frame(null_networks[i])\n",
    "        colnames(null_network) = colnames(network)\n",
    "        rownames(null_network) = rownames(network)\n",
    "        write.csv(null_network, output_path)\n",
    "    }   \n",
    "    return(0)\n",
    "}"
   ]
  },
  {
   "cell_type": "code",
   "execution_count": 9,
   "id": "acbbcf42-8e43-48f1-972b-3f44e90c1bb0",
   "metadata": {},
   "outputs": [],
   "source": [
    "i = 0\n",
    "for (path in full_network_paths)\n",
    "    {\n",
    "        print(i)\n",
    "        res = generate_null_networks(path)\n",
    "        i = i + 1\n",
    "    }"
   ]
  },
  {
   "cell_type": "code",
   "execution_count": null,
   "id": "3bbcdfcc-3680-4d12-a311-6b8b2bcbfa9f",
   "metadata": {},
   "outputs": [],
   "source": [
    "# pbmclapply(X=full_network_paths,\n",
    "#            FUN=generate_null_networks,\n",
    "#            mc.cores=30,\n",
    "#            ignore.interactive=TRUE)"
   ]
  },
  {
   "cell_type": "code",
   "execution_count": null,
   "id": "db39e619-2692-4a5a-b53d-a3f033bfdef3",
   "metadata": {},
   "outputs": [],
   "source": []
  }
 ],
 "metadata": {
  "kernelspec": {
   "display_name": "R",
   "language": "R",
   "name": "ir"
  },
  "language_info": {
   "codemirror_mode": "r",
   "file_extension": ".r",
   "mimetype": "text/x-r-source",
   "name": "R",
   "pygments_lexer": "r",
   "version": "4.1.3"
  }
 },
 "nbformat": 4,
 "nbformat_minor": 5
}
