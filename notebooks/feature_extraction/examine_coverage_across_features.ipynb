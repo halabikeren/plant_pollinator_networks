{
 "cells": [
  {
   "cell_type": "code",
   "execution_count": 2,
   "id": "8a3c6706-48d6-4bcc-94b4-6a6305bf32bf",
   "metadata": {},
   "outputs": [],
   "source": [
    "import pandas as pd\n",
    "import statsmodels.api as sm\n",
    "import statsmodels.formula.api as smf"
   ]
  },
  {
   "cell_type": "code",
   "execution_count": 9,
   "id": "9d18a759-bf81-4726-806f-461361b94315",
   "metadata": {},
   "outputs": [
    {
     "name": "stdout",
     "output_type": "stream",
     "text": [
      "### species level analysis ###\n",
      "\n",
      "\n",
      "# binary plants = 4,429\n",
      "# binary plants with classification = 1,161\n",
      "# binary networks with classification = 62\n",
      "# missing = \n"
     ]
    },
    {
     "data": {
      "text/plain": [
       "d                                             0\n",
       "delta_transformed_ d                          0\n",
       "nestedness_contribution                       0\n",
       "delta_transformed_ proportional.generality    0\n",
       "interaction.push.pull                         0\n",
       "original_name                                 0\n",
       "network                                       0\n",
       "is_polyploid                                  0\n",
       "dtype: int64"
      ]
     },
     "metadata": {},
     "output_type": "display_data"
    },
    {
     "name": "stdout",
     "output_type": "stream",
     "text": [
      "\n",
      "\n",
      "# binarized weighted plants = 8,016\n",
      "# binarized weighted plants with classification = 4,079\n",
      "# binarized weighted networks with classification = 516\n",
      "# missing = \n"
     ]
    },
    {
     "data": {
      "text/plain": [
       "d                                             0\n",
       "delta_transformed_ d                          0\n",
       "nestedness_contribution                       0\n",
       "delta_transformed_ proportional.generality    0\n",
       "interaction.push.pull                         0\n",
       "original_name                                 0\n",
       "network                                       0\n",
       "is_polyploid                                  0\n",
       "dtype: int64"
      ]
     },
     "metadata": {},
     "output_type": "display_data"
    },
    {
     "name": "stdout",
     "output_type": "stream",
     "text": [
      "\n",
      "\n",
      "# weighted plants = 8,351\n",
      "# weighted plants with classification = 3,775\n",
      "# weighted networks with classification = 440\n",
      "# missing = \n"
     ]
    },
    {
     "data": {
      "text/plain": [
       "d                                             0\n",
       "delta_transformed_ d                          0\n",
       "nestedness_contribution                       0\n",
       "delta_transformed_ proportional.generality    0\n",
       "interaction.push.pull                         0\n",
       "original_name                                 0\n",
       "network                                       0\n",
       "is_polyploid                                  0\n",
       "dtype: int64"
      ]
     },
     "metadata": {},
     "output_type": "display_data"
    },
    {
     "name": "stdout",
     "output_type": "stream",
     "text": [
      "\n",
      "\n",
      "# all binary plants with classification = 5,240\n",
      "# all binary networks with classification = 578\n",
      "# missing = \n"
     ]
    },
    {
     "data": {
      "text/plain": [
       "d                                             0\n",
       "delta_transformed_ d                          0\n",
       "nestedness_contribution                       0\n",
       "delta_transformed_ proportional.generality    0\n",
       "interaction.push.pull                         0\n",
       "original_name                                 0\n",
       "network                                       0\n",
       "is_polyploid                                  0\n",
       "dtype: int64"
      ]
     },
     "metadata": {},
     "output_type": "display_data"
    }
   ],
   "source": [
    "print(f\"### species level analysis ###\\n\\n\")\n",
    "\n",
    "species_cols = ['d','delta_transformed_ d', 'nestedness_contribution', 'delta_transformed_ proportional.generality', 'interaction.push.pull', \"original_name\", \"network\", \"is_polyploid\"]\n",
    "\n",
    "binary_df = pd.read_csv(\"../data/features/plant_features/binary/features_with_classification.csv\").drop_duplicates()\n",
    "binary_df.to_csv(\"/groups/itay_mayrose/halabikeren/plant_pollinator_networks/features/plant_features/binary/features_with_classification.csv\")\n",
    "print(f\"# binary plants = {binary_df.shape[0]:,}\")\n",
    "binary_df = binary_df.query(\"is_polyploid.notna()\")\n",
    "binary_df = binary_df.loc[~binary_df.network.isin(['46.csv','48.csv','50.csv','51.csv','54.csv','55.csv','56.csv','57.csv','61.csv','62.csv','63.csv','64.csv','66.csv','70.csv','71.csv','72.csv','73.csv'])]\n",
    "print(f\"# binary plants with classification = {binary_df.shape[0]:,}\")\n",
    "print(f\"# binary networks with classification = {len(binary_df.network.unique()):,}\")\n",
    "print(\"# missing = \")\n",
    "display(binary_df[species_cols].isna().sum())\n",
    "\n",
    "binarized_weighted_df = pd.read_csv(\"/groups/itay_mayrose/halabikeren/plant_pollinator_networks/features/plant_features/binarized_weighted/features_with_classification.csv\").drop_duplicates()\n",
    "binarized_weighted_df.to_csv(\"/groups/itay_mayrose/halabikeren/plant_pollinator_networks/features/plant_features/binarized_weighted/features_with_classification.csv\")\n",
    "print(f\"\\n\\n# binarized weighted plants = {binarized_weighted_df.shape[0]:,}\")\n",
    "binarized_weighted_df = binarized_weighted_df.query(\"is_polyploid.notna()\")\n",
    "binarized_weighted_df = binarized_weighted_df.loc[~binarized_weighted_df.network.isin(['106.csv','107.csv','156.csv','157.csv','158.csv','159.csv'])]\n",
    "print(f\"# binarized weighted plants with classification = {binarized_weighted_df.shape[0]:,}\")\n",
    "print(f\"# binarized weighted networks with classification = {len(binarized_weighted_df.network.unique()):,}\")\n",
    "print(\"# missing = \")\n",
    "display(binarized_weighted_df[species_cols].isna().sum())\n",
    "\n",
    "weighted_df = pd.read_csv(\"/groups/itay_mayrose/halabikeren/plant_pollinator_networks/features/plant_features/weighted/features_with_classification.csv\").drop_duplicates()\n",
    "weighted_df.to_csv(\"/groups/itay_mayrose/halabikeren/plant_pollinator_networks/features/plant_features/weighted/features_with_classification.csv\")\n",
    "print(f\"\\n\\n# weighted plants = {weighted_df.shape[0]:,}\")\n",
    "weighted_df = weighted_df.query(\"is_polyploid.notna()\")\n",
    "weighted_df = weighted_df.loc[~weighted_df.network.isin(['106.csv','107.csv','156.csv','157.csv','158.csv','159.csv'])]\n",
    "print(f\"# weighted plants with classification = {weighted_df.shape[0]:,}\")\n",
    "print(f\"# weighted networks with classification = {len(weighted_df.network.unique()):,}\")\n",
    "print(\"# missing = \")\n",
    "display(weighted_df[species_cols].isna().sum())\n",
    "\n",
    "\n",
    "binary_df[\"network_type\"] = \"binary\"\n",
    "binary_df[\"network_id\"] = binary_df[\"network\"].apply(lambda n: int(n.replace(\".csv\",\"\")) if type(n) == str else n)\n",
    "binarized_weighted_df[\"network_type\"] = \"weighted\"\n",
    "binarized_weighted_df[\"network_id\"] = binarized_weighted_df[\"network\"].apply(lambda n: int(n.replace(\".csv\",\"\")) if type(n) == str else n)\n",
    "all_binary_df = pd.concat([binary_df, binarized_weighted_df])\n",
    "print(f\"\\n\\n# all binary plants with classification = {all_binary_df.shape[0]:,}\")\n",
    "print(f\"# all binary networks with classification = {all_binary_df[['network_id', 'network_type']].drop_duplicates().shape[0]:,}\")\n",
    "print(\"# missing = \")\n",
    "display(all_binary_df[species_cols].isna().sum())"
   ]
  }
 ],
 "metadata": {
  "kernelspec": {
   "display_name": "Python 3 (ipykernel)",
   "language": "python",
   "name": "python3"
  },
  "language_info": {
   "codemirror_mode": {
    "name": "ipython",
    "version": 3
   },
   "file_extension": ".py",
   "mimetype": "text/x-python",
   "name": "python",
   "nbconvert_exporter": "python",
   "pygments_lexer": "ipython3",
   "version": "3.10.6"
  }
 },
 "nbformat": 4,
 "nbformat_minor": 5
}
