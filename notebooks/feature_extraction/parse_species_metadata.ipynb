{
 "cells": [
  {
   "cell_type": "code",
   "execution_count": 31,
   "id": "3d57038f-d52e-4f18-b007-9a6fe612f4e3",
   "metadata": {},
   "outputs": [],
   "source": [
    "import pandas as pd\n",
    "import numpy as np"
   ]
  },
  {
   "cell_type": "code",
   "execution_count": 32,
   "id": "b1c28c3b-0026-490c-a6a5-4ddc37e9ec01",
   "metadata": {},
   "outputs": [],
   "source": [
    "metadata_path_1 = \"../../data/features/plant_features/metadata/Database_BioGeo_mating.csv\"\n",
    "metadata_path_2 = \"../../data/features/plant_features/metadata/SpeciesTmData_Whitehead_etal.csv\"\n",
    "metadata_path_3 = \"../../data/features/plant_features/metadata/Mixed mating outcrossing rate database.xls\"\n",
    "# metadata_path_4 = \"../../data/features/plant_features/metadata/Dena_Grossenbacher_SI-SC_nph14534-sup-0002-tabless1-s3._with_counts.xlsx\" # this is a union of referneces - but it has not been parsed yet and required OCR\n",
    "metadata_path_4 = \"../../data/features/plant_features/metadata/Outcrossing rates and floral display for species in Gleason and Cronquist.xls\""
   ]
  },
  {
   "cell_type": "code",
   "execution_count": 33,
   "id": "31da4da0-b6ca-4b07-8792-c52f43685717",
   "metadata": {},
   "outputs": [],
   "source": [
    "columns_map = {\"cot\": {1: \"m.d.g\", 2: np.nan, 3: \"Monocot/Dicot/Gymno\"},\n",
    "               \"life_form\": {1: \"life.history\", 3: \"Lform(0=ann,1=Hper,2=Wper)\"}}             "
   ]
  },
  {
   "cell_type": "code",
   "execution_count": 35,
   "id": "79d9b118-68cd-4fe7-819c-33830b94842c",
   "metadata": {},
   "outputs": [],
   "source": [
    "def parse_metadata_1(path: str, columns_map: dict = columns_map) -> pd.DataFrame:\n",
    "    df = pd.read_csv(path, encoding= 'unicode_escape')\n",
    "    df[\"taxon\"] = (df[\"genus\"] + \" \" + df[\"species\"]).str.lower().str.replace(\"_\", \" \")\n",
    "    metadata_columns_naming = {columns_map[c][1]: c for c in columns_map}\n",
    "    df = df.rename(columns=metadata_columns_naming)\n",
    "    df = df.rename(columns={c: c.replace(\".\", \"_\").lower() for c in df.columns})\n",
    "    df.biome = df.biome.replace({1: \"Desert/arid scrub\",\n",
    "                                 2: \"Temperate grasslands\",\n",
    "                                 3: \"Shrubland/chaparral\",\n",
    "                                 4: \"Taiga\",\n",
    "                                 5: \"Tropical savannah\",\n",
    "                                 6: \"Temperate deciduous forest and rainforest\",\n",
    "                                 7: \"Tropical seasonal forest\",\n",
    "                                 8: \"Tropical rainforest\"})\n",
    "    df.growth = df.growth.replace({1: \"Herbaceous\",\n",
    "                                   2: \"Vine\",\n",
    "                                   3: \"Schrub\",\n",
    "                                   4: \"Woody\",\n",
    "                                   5: \"Varies\"})\n",
    "    df.life_form = df.life_form.replace({1: \"Annual\",\n",
    "                                        2: \"Biennial\",\n",
    "                                        3: \"Semelparous perennial\",\n",
    "                                        4: \"Iteroparous perennial\",\n",
    "                                        5: \"Varies\"})\n",
    "    df.si = df.si.replace({0: \"Self-incompatible\",\n",
    "                           1: \"Self-compatible\"})\n",
    "    \n",
    "    df = df[[\"taxon\", \"genus\", \"family\", \"cot\", \"latitude\", 'hemisphere', 'biome', 'growth', 'life_form', 'si', 'mean_tm', 'references']]\n",
    "    df[\"source\"] = \"Database_BioGeo_mating\"\n",
    "    return df\n",
    "\n",
    "metadata1 = parse_metadata_1(metadata_path_1)"
   ]
  },
  {
   "cell_type": "code",
   "execution_count": 36,
   "id": "fbba373f-bcdb-4855-b3e2-d3b70d203b7f",
   "metadata": {},
   "outputs": [],
   "source": [
    "def parse_metadata_2(path: str, columns_map: dict = columns_map) -> pd.DataFrame:\n",
    "    df = pd.read_csv(path)\n",
    "    df[\"taxon\"] = df.species.str.lower().str.replace(\"_\", \" \")\n",
    "    df = df[[\"taxon\", \"genus\", \"family\", \"mean_tm\"]]\n",
    "    df[\"source\"] = \"SpeciesTmData_Whitehead_etal\"\n",
    "    return df\n",
    "\n",
    "metadata2 = parse_metadata_2(metadata_path_2)"
   ]
  },
  {
   "cell_type": "code",
   "execution_count": 37,
   "id": "dd2e078f-b398-4a45-86fd-419804644d87",
   "metadata": {},
   "outputs": [],
   "source": [
    "def parse_metadata_3(path: str,  columns_map: dict = columns_map) -> pd.DataFrame:\n",
    "    df = pd.read_excel(path)\n",
    "    df[\"taxon\"] = df[\"Genus species\"].str.lower().str.replace(\"_\", \" \")\n",
    "    metadata_columns_naming = {columns_map[c][3]: c for c in columns_map}\n",
    "    df = df.rename(columns=metadata_columns_naming)\n",
    "    df = df.rename(columns={c: c.replace(\".\", \"_\").replace(\"-\",\"_\").lower() for c in df.columns})\n",
    "    df[\"life_form\"] = df.life_form.replace({0: \"Annual\",\n",
    "                                            1: \"Herbaceous\",\n",
    "                                            2: \"Woody\"})\n",
    "    df[\"pollination_mode\"] = df[\"pollination(0=anim,1=wind,2=water)\"].replace({0: \"Animal\",\n",
    "                                                                                1: \"Wind\",\n",
    "                                                                                2: \"Water\"})\n",
    "    df[\"selfing_mode\"] = df[\"mech of selfing\"].replace({\"auton\": \"Autonomous\",\n",
    "                                                      \"geit\": \"Geitonogamous\",\n",
    "                                                      \"none\": \"No selfing\",\n",
    "                                                      0: np.nan,\n",
    "                                                      \"cleis\": \"Cleistogamous\",\n",
    "                                                      'auton,geit': \"Autonomous, Geitonogamous\",\n",
    "                                                      'facil, auton, geit': \"Autonomous, Geitonogamous\"})\n",
    "    df = df[[\"taxon\", \"genus\", \"family\", \"cot\", \"life_form\", \"pollination_mode\", \"selfing_mode\", \"mean_tm\"]]\n",
    "    df[\"source\"] = \"Mixed mating outcrossing rate database\"\n",
    "    return df\n",
    "    \n",
    "metadata3 = parse_metadata_3(metadata_path_3)"
   ]
  },
  {
   "cell_type": "code",
   "execution_count": 42,
   "id": "ad24ae8e-5177-47a4-b92a-5f561fd189bb",
   "metadata": {},
   "outputs": [],
   "source": [
    "def parse_metadata_4(path: str, columns_map: dict = columns_map) -> pd.DataFrame:\n",
    "    df = pd.read_excel(path)\n",
    "    df[\"taxon\"] = df.species.str.lower().str.replace(\"_\", \" \")\n",
    "    metadata_columns_naming = {columns_map[c][1]: c for c in columns_map}\n",
    "    df = df.rename(columns={\"outcrossing\": \"mean_tm\", \"fl size\": \"flower_size\"})\n",
    "    df = df[[\"taxon\", \"mean_tm\", \"flower_size\"]]\n",
    "    df[\"source\"] = \"Ferguson_2016\"\n",
    "    return df\n",
    "\n",
    "metadata4 = parse_metadata_4(metadata_path_4)"
   ]
  },
  {
   "cell_type": "code",
   "execution_count": 43,
   "id": "54d806f6-82e4-457d-9359-0b28f5bfcc43",
   "metadata": {},
   "outputs": [],
   "source": [
    "complete_metadata = pd.concat([metadata1, metadata2, metadata3, metadata4])"
   ]
  },
  {
   "cell_type": "code",
   "execution_count": 46,
   "id": "aeddd963-8598-46bf-a8d1-ddb5966c8f18",
   "metadata": {},
   "outputs": [],
   "source": [
    "categorigal_cols = ['genus', 'family', 'cot', 'hemisphere', 'biome', 'source', 'references', 'growth', 'life_form', 'si', 'pollination_mode', 'selfing_mode', 'flower_size']\n",
    "agg_dict = {c:  lambda x: x.dropna().unique() if len(x.dropna().unique()) > 1 else (x.dropna().unique()[0] if len(x.dropna().unique()) == 1 else np.nan) for c in categorigal_cols}\n",
    "agg_dict[\"mean_tm\"] = np.mean\n",
    "complete_metadata_by_taxon = complete_metadata.groupby(\"taxon\").agg(agg_dict).reset_index()"
   ]
  },
  {
   "cell_type": "code",
   "execution_count": 47,
   "id": "f5d96266-a594-4a6e-9901-4af1f4ddb363",
   "metadata": {},
   "outputs": [
    {
     "data": {
      "text/plain": [
       "taxon               1.000000\n",
       "genus               0.986945\n",
       "family              0.986945\n",
       "cot                 0.915144\n",
       "hemisphere          0.626632\n",
       "biome               0.480418\n",
       "source              1.000000\n",
       "references          0.532637\n",
       "growth              0.642298\n",
       "life_form           0.912533\n",
       "si                  0.433420\n",
       "pollination_mode    0.468668\n",
       "selfing_mode        0.045692\n",
       "flower_size         0.078329\n",
       "mean_tm             1.000000\n",
       "dtype: float64"
      ]
     },
     "execution_count": 47,
     "metadata": {},
     "output_type": "execute_result"
    }
   ],
   "source": [
    "complete_metadata_by_taxon.notna().sum() / complete_metadata_by_taxon.shape[0]"
   ]
  },
  {
   "cell_type": "code",
   "execution_count": 48,
   "id": "acf9d7a5-97b7-411e-9818-8a1470106912",
   "metadata": {},
   "outputs": [],
   "source": [
    "complete_metadata_by_taxon.to_csv(\"../../data/features/plant_features/metadata/joined_metadata.csv\")"
   ]
  }
 ],
 "metadata": {
  "kernelspec": {
   "display_name": "Python 3 (ipykernel)",
   "language": "python",
   "name": "python3"
  },
  "language_info": {
   "codemirror_mode": {
    "name": "ipython",
    "version": 3
   },
   "file_extension": ".py",
   "mimetype": "text/x-python",
   "name": "python",
   "nbconvert_exporter": "python",
   "pygments_lexer": "ipython3",
   "version": "3.10.6"
  }
 },
 "nbformat": 4,
 "nbformat_minor": 5
}
