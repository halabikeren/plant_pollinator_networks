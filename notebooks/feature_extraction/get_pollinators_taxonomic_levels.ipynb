{
 "cells": [
  {
   "cell_type": "code",
   "execution_count": 3,
   "id": "d094e6c0-7cdf-4905-a10f-4ddccff4e763",
   "metadata": {},
   "outputs": [
    {
     "name": "stderr",
     "output_type": "stream",
     "text": [
      "Python-dotenv could not parse statement starting at line 4\n"
     ]
    },
    {
     "name": "stdout",
     "output_type": "stream",
     "text": [
      "INFO: Pandarallel will run on 5 workers.\n",
      "INFO: Pandarallel will use standard multiprocessing data transfer (pipe) to transfer data between the main process and workers.\n"
     ]
    }
   ],
   "source": [
    "import pandas as pd\n",
    "import numpy as np\n",
    "import os\n",
    "\n",
    "import sys\n",
    "sys.path.append(\"../../code/data_processing/\")\n",
    "import taxonomy"
   ]
  },
  {
   "cell_type": "code",
   "execution_count": 4,
   "id": "b49c19de-c0a0-4c2a-88b0-5815c28ab112",
   "metadata": {},
   "outputs": [],
   "source": [
    "networks_types = [\"weighted\", \"binary\"]\n",
    "classification_db_path = \"../../data/name_resolution/v.1.12/classification.txt\"\n",
    "name_resolution_path = \"../../data/name_resolution/resolved_plant_names.csv\"\n",
    "output_path = \"../../data/features/taxonomic_features/pollinators_taxonomic_classification.csv\"\n",
    "network_level_output_path = \"../../data/features/taxonomic_features/net_to_pollinators_taxonomic_classification.csv\"\n",
    "itis_db_link = \"https://www.itis.gov/downloads/itisSqlite.zip\""
   ]
  },
  {
   "cell_type": "code",
   "execution_count": 6,
   "id": "2ec08e76-d155-4abe-a12b-7a3f90d1366c",
   "metadata": {},
   "outputs": [],
   "source": [
    "species_names_dfs = []\n",
    "for networks_type in networks_types:\n",
    "    networks_dir = f\"../../data/networks/all/{networks_type}/\"\n",
    "    for path in os.listdir(networks_dir):\n",
    "        if path.endswith(\".csv\"):\n",
    "            network_path = f\"{networks_dir}{path}\"\n",
    "            network = pd.read_csv(network_path)\n",
    "            network_species = pd.DataFrame(columns=[\"network_type\", \"network_id\", \"original_name\"])\n",
    "            network_species[\"original_name\"] = network.set_index(\"Plant\").columns.tolist()\n",
    "            network_species[\"network_type\"] = networks_type\n",
    "            network_species[\"network_id\"] = int(path.replace(\".csv\", \"\"))\n",
    "            species_names_dfs.append(network_species)\n",
    "taxonomic_features = pd.concat(species_names_dfs)\n",
    "taxonomic_features = taxonomic_features.loc[~taxonomic_features.original_name.str.startswith('abundance\"')]\n",
    "taxonomic_features.original_name = taxonomic_features.original_name.str.lower()\n",
    "taxonomic_features.original_name = taxonomic_features.original_name.apply(lambda name: name.replace(\"_\", \" \"))"
   ]
  },
  {
   "cell_type": "code",
   "execution_count": 8,
   "id": "a29404a4-1f04-4a60-91c2-8b01aa010dee",
   "metadata": {},
   "outputs": [
    {
     "ename": "IndexError",
     "evalue": "list index out of range",
     "output_type": "error",
     "traceback": [
      "\u001b[0;31m---------------------------------------------------------------------------\u001b[0m",
      "\u001b[0;31mIndexError\u001b[0m                                Traceback (most recent call last)",
      "Cell \u001b[0;32mIn [8], line 1\u001b[0m\n\u001b[0;32m----> 1\u001b[0m taxonomic_features \u001b[38;5;241m=\u001b[39m \u001b[43mtaxonomy\u001b[49m\u001b[38;5;241;43m.\u001b[39;49m\u001b[43mfill_missing_data_from_itis\u001b[49m\u001b[43m(\u001b[49m\u001b[43minput_df\u001b[49m\u001b[43m \u001b[49m\u001b[38;5;241;43m=\u001b[39;49m\u001b[43m \u001b[49m\u001b[43mtaxonomic_features\u001b[49m\u001b[43m,\u001b[49m\n\u001b[1;32m      2\u001b[0m \u001b[43m                                                \u001b[49m\u001b[43minput_col\u001b[49m\u001b[43m \u001b[49m\u001b[38;5;241;43m=\u001b[39;49m\u001b[43m \u001b[49m\u001b[38;5;124;43m\"\u001b[39;49m\u001b[38;5;124;43moriginal_name\u001b[39;49m\u001b[38;5;124;43m\"\u001b[39;49m\u001b[43m,\u001b[49m\n\u001b[1;32m      3\u001b[0m \u001b[43m                                                \u001b[49m\u001b[43mdb_link\u001b[49m\u001b[43m \u001b[49m\u001b[38;5;241;43m=\u001b[39;49m\u001b[43m \u001b[49m\u001b[43mitis_db_link\u001b[49m\u001b[43m,\u001b[49m\n\u001b[1;32m      4\u001b[0m \u001b[43m                                                \u001b[49m\u001b[43mdb_dir\u001b[49m\u001b[43m \u001b[49m\u001b[38;5;241;43m=\u001b[39;49m\u001b[43m \u001b[49m\u001b[43mos\u001b[49m\u001b[38;5;241;43m.\u001b[39;49m\u001b[43mgetcwd\u001b[49m\u001b[43m(\u001b[49m\u001b[43m)\u001b[49m\u001b[43m)\u001b[49m\n",
      "File \u001b[0;32m~/plant_pollinator_networks/notebooks/feature_extraction/../../code/data_processing/taxonomy.py:125\u001b[0m, in \u001b[0;36mfill_missing_data_from_itis\u001b[0;34m(input_df, input_col, db_link, db_dir)\u001b[0m\n\u001b[1;32m    121\u001b[0m \u001b[38;5;28;01mdef\u001b[39;00m \u001b[38;5;21mfill_missing_data_from_itis\u001b[39m(\n\u001b[1;32m    122\u001b[0m     input_df: pd\u001b[38;5;241m.\u001b[39mDataFrame, input_col: \u001b[38;5;28mstr\u001b[39m, db_link: \u001b[38;5;28mstr\u001b[39m, db_dir: \u001b[38;5;28mstr\u001b[39m\n\u001b[1;32m    123\u001b[0m ):\n\u001b[0;32m--> 125\u001b[0m     db_path \u001b[38;5;241m=\u001b[39m \u001b[43mget_itis_db\u001b[49m\u001b[43m(\u001b[49m\u001b[43mdb_link\u001b[49m\u001b[38;5;241;43m=\u001b[39;49m\u001b[43mdb_link\u001b[49m\u001b[43m,\u001b[49m\u001b[43m \u001b[49m\u001b[43mdb_dir\u001b[49m\u001b[38;5;241;43m=\u001b[39;49m\u001b[43mdb_dir\u001b[49m\u001b[43m)\u001b[49m\n\u001b[1;32m    126\u001b[0m     connection \u001b[38;5;241m=\u001b[39m sqlite3\u001b[38;5;241m.\u001b[39mconnect(db_path)\n\u001b[1;32m    128\u001b[0m     plant_kingdom_id \u001b[38;5;241m=\u001b[39m get_plant_kingdom_id(db_connection\u001b[38;5;241m=\u001b[39mconnection)\n",
      "File \u001b[0;32m~/plant_pollinator_networks/notebooks/feature_extraction/../../code/data_processing/taxonomy.py:30\u001b[0m, in \u001b[0;36mget_itis_db\u001b[0;34m(db_link, db_dir)\u001b[0m\n\u001b[1;32m     28\u001b[0m \u001b[38;5;28;01mif\u001b[39;00m \u001b[38;5;129;01mnot\u001b[39;00m os\u001b[38;5;241m.\u001b[39mpath\u001b[38;5;241m.\u001b[39mexists(\u001b[38;5;124mf\u001b[39m\u001b[38;5;124m\"\u001b[39m\u001b[38;5;132;01m{\u001b[39;00mdb_dir\u001b[38;5;132;01m}\u001b[39;00m\u001b[38;5;124m/itisSqlite.zip\u001b[39m\u001b[38;5;124m\"\u001b[39m):\n\u001b[1;32m     29\u001b[0m     res \u001b[38;5;241m=\u001b[39m os\u001b[38;5;241m.\u001b[39msystem(\u001b[38;5;124mf\u001b[39m\u001b[38;5;124m\"\u001b[39m\u001b[38;5;124mcd \u001b[39m\u001b[38;5;132;01m{\u001b[39;00mdb_dir\u001b[38;5;132;01m}\u001b[39;00m\u001b[38;5;124m; wget \u001b[39m\u001b[38;5;132;01m{\u001b[39;00mdb_link\u001b[38;5;132;01m}\u001b[39;00m\u001b[38;5;124m; unzip itisSqlite.zip\u001b[39m\u001b[38;5;124m\"\u001b[39m)\n\u001b[0;32m---> 30\u001b[0m db_prefix \u001b[38;5;241m=\u001b[39m \u001b[43m[\u001b[49m\n\u001b[1;32m     31\u001b[0m \u001b[43m    \u001b[49m\u001b[43mpath\u001b[49m\n\u001b[1;32m     32\u001b[0m \u001b[43m    \u001b[49m\u001b[38;5;28;43;01mfor\u001b[39;49;00m\u001b[43m \u001b[49m\u001b[43mpath\u001b[49m\u001b[43m \u001b[49m\u001b[38;5;129;43;01min\u001b[39;49;00m\u001b[43m \u001b[49m\u001b[43mos\u001b[49m\u001b[38;5;241;43m.\u001b[39;49m\u001b[43mlistdir\u001b[49m\u001b[43m(\u001b[49m\u001b[43mdb_dir\u001b[49m\u001b[43m)\u001b[49m\n\u001b[1;32m     33\u001b[0m \u001b[43m    \u001b[49m\u001b[38;5;28;43;01mif\u001b[39;49;00m\u001b[43m \u001b[49m\u001b[43mpath\u001b[49m\u001b[38;5;241;43m.\u001b[39;49m\u001b[43mstartswith\u001b[49m\u001b[43m(\u001b[49m\u001b[38;5;124;43m\"\u001b[39;49m\u001b[38;5;124;43mitis\u001b[39;49m\u001b[38;5;124;43m\"\u001b[39;49m\u001b[43m)\u001b[49m\u001b[43m \u001b[49m\u001b[38;5;129;43;01mand\u001b[39;49;00m\u001b[43m \u001b[49m\u001b[43mos\u001b[49m\u001b[38;5;241;43m.\u001b[39;49m\u001b[43mpath\u001b[49m\u001b[38;5;241;43m.\u001b[39;49m\u001b[43misdir\u001b[49m\u001b[43m(\u001b[49m\u001b[38;5;124;43mf\u001b[39;49m\u001b[38;5;124;43m\"\u001b[39;49m\u001b[38;5;132;43;01m{\u001b[39;49;00m\u001b[43mdb_dir\u001b[49m\u001b[38;5;132;43;01m}\u001b[39;49;00m\u001b[38;5;124;43m/\u001b[39;49m\u001b[38;5;132;43;01m{\u001b[39;49;00m\u001b[43mpath\u001b[49m\u001b[38;5;132;43;01m}\u001b[39;49;00m\u001b[38;5;124;43m\"\u001b[39;49m\u001b[43m)\u001b[49m\n\u001b[1;32m     34\u001b[0m \u001b[43m\u001b[49m\u001b[43m]\u001b[49m\u001b[43m[\u001b[49m\u001b[38;5;241;43m0\u001b[39;49m\u001b[43m]\u001b[49m\n\u001b[1;32m     35\u001b[0m db_path \u001b[38;5;241m=\u001b[39m \u001b[38;5;124mf\u001b[39m\u001b[38;5;124m\"\u001b[39m\u001b[38;5;132;01m{\u001b[39;00mdb_dir\u001b[38;5;132;01m}\u001b[39;00m\u001b[38;5;124m/\u001b[39m\u001b[38;5;132;01m{\u001b[39;00mdb_prefix\u001b[38;5;132;01m}\u001b[39;00m\u001b[38;5;124m/ITIS.sqlite\u001b[39m\u001b[38;5;124m\"\u001b[39m\n\u001b[1;32m     36\u001b[0m \u001b[38;5;28;01mreturn\u001b[39;00m db_path\n",
      "\u001b[0;31mIndexError\u001b[0m: list index out of range"
     ]
    }
   ],
   "source": [
    "taxonomic_features = taxonomy.fill_missing_data_from_itis(input_df = taxonomic_features,\n",
    "                                                input_col = \"original_name\",\n",
    "                                                db_link = itis_db_link,\n",
    "                                                db_dir = os.getcwd())"
   ]
  },
  {
   "cell_type": "code",
   "execution_count": null,
   "id": "b7fcaf34-96f5-46df-9fb7-2d739495c3b1",
   "metadata": {},
   "outputs": [],
   "source": [
    "missing_data = taxonomic_features.loc[(taxonomic_features.taxon_rank.isna())]\n",
    "complementary_data = taxonomy.fill_missing_data_from_ncbi(data=missing_data, search_by_col=\"original_name\")"
   ]
  },
  {
   "cell_type": "code",
   "execution_count": null,
   "id": "5cce01ef-b034-40b4-834b-72a126430efa",
   "metadata": {},
   "outputs": [],
   "source": [
    "taxonomic_features.set_index(\"original_name\", inplace=True)\n",
    "complementary_data.set_index(taxonomic_features.index.name, inplace=True)\n",
    "for c in taxonomic_features.columns:\n",
    "    if c in complementary_data.columns:\n",
    "        taxonomic_features[c].fillna(value=complementary_data[c].to_dict(), inplace=True)\n",
    "taxonomic_features.reset_index(inplace=True)\n",
    "if \"original_name_capitalized\" in taxonomic_features.columns:\n",
    "    taxonomic_features.drop(\"original_name_capitalized\", axis=1, inplace=True)"
   ]
  },
  {
   "cell_type": "code",
   "execution_count": null,
   "id": "8258d6c3-b50d-419a-9ad6-7b831d85711a",
   "metadata": {},
   "outputs": [],
   "source": [
    "taxonomic_features.to_csv(output_path, index=False)"
   ]
  },
  {
   "cell_type": "code",
   "execution_count": null,
   "id": "7560a040-2744-42d9-b61f-d691b031d6fe",
   "metadata": {},
   "outputs": [],
   "source": [
    "missing_names = taxonomic_features.query(\"taxon_rank.isna()\").original_name.unique().tolist()\n",
    "print(f\"# unresolved names = {len(missing_names):,}\")"
   ]
  },
  {
   "cell_type": "code",
   "execution_count": null,
   "id": "47219e49-5b80-4169-9bce-6e09978bed47",
   "metadata": {},
   "outputs": [],
   "source": [
    "from pygbif import species\n",
    "\n",
    "def extract_taxonomic_data(record):\n",
    "    name = record.original_name\n",
    "    rank, genus, family = np.nan, np.nan, np.nan\n",
    "    # try:\n",
    "    taxonomic_data = species.name_suggest(q=name)\n",
    "    if len(taxonomic_data) == 0:\n",
    "        return rank, genus, family\n",
    "    taxonomic_data = taxonomic_data[0]\n",
    "    rank = taxonomic_data[\"rank\"].lower()\n",
    "    if rank == \"family\":\n",
    "        family = name\n",
    "    elif \"family\" in taxonomic_data:\n",
    "        family = taxonomic_data[\"family\"].lower()\n",
    "    if rank == \"genus\":\n",
    "        genus = name\n",
    "    elif \"genus\" in taxonomic_data:\n",
    "        genus = taxonomic_data[\"genus\"].lower()\n",
    "    return rank, genus, family\n",
    "\n",
    "missing = taxonomic_features.query(\"taxon_rank.isna()\")\n",
    "missing[[\"taxon_rank\", \"genus\", \"family\"]] = missing[[\"original_name\"]].parallel_apply(extract_taxonomic_data, axis=1, result_type=\"expand\")\n",
    "taxonomic_features.update(missing)"
   ]
  },
  {
   "cell_type": "code",
   "execution_count": null,
   "id": "67e12db0-3c22-4ace-bf8d-d846759743b0",
   "metadata": {},
   "outputs": [],
   "source": [
    "taxonomic_features.update(missing)"
   ]
  },
  {
   "cell_type": "code",
   "execution_count": null,
   "id": "a7a1acb0-d765-4f3b-a337-3ccf8aabffb1",
   "metadata": {},
   "outputs": [],
   "source": [
    "missing_names = taxonomic_features.query(\"taxon_rank.isna()\").original_name.unique().tolist()\n",
    "print(f\"# unresolved names = {len(missing_names):,}\")"
   ]
  },
  {
   "cell_type": "code",
   "execution_count": null,
   "id": "9a60e4a8-6dae-40a9-a4bd-b0c931ec367c",
   "metadata": {},
   "outputs": [],
   "source": [
    "taxonomic_features.to_csv(output_path, index=False)"
   ]
  },
  {
   "cell_type": "code",
   "execution_count": null,
   "id": "9c6bf583-ba94-4617-8551-5317bc20511d",
   "metadata": {},
   "outputs": [],
   "source": [
    "num_net_witt_missing_rank = taxonomic_features.query(\"taxon_rank.isna()\")[[\"network_type\",\t\"network_id\"]].drop_duplicates().shape[0]\n",
    "num_net = taxonomic_features[[\"network_type\",\t\"network_id\"]].drop_duplicates().shape[0]\n",
    "print(f\"% networks with missing pollinator ranks = {np.round(num_net_witt_missing_rank/num_net*100)} ({num_net_witt_missing_rank:,}/{num_net:,})\")"
   ]
  },
  {
   "cell_type": "code",
   "execution_count": null,
   "id": "a466e52f-50b7-4039-9081-2e8fa997adb6",
   "metadata": {},
   "outputs": [],
   "source": [
    "net_to_pollinator_ranks = taxonomic_features.groupby([\"network_type\",\t\"network_id\"])[\"taxon_rank\"].apply(lambda ranks: list(ranks.dropna().unique())).reset_index()"
   ]
  },
  {
   "cell_type": "code",
   "execution_count": null,
   "id": "cbcea821-82d5-4591-9d84-7a1d8a9d5593",
   "metadata": {},
   "outputs": [],
   "source": [
    "net_to_pollinator_ranks[\"num_ranks\"] = net_to_pollinator_ranks.taxon_rank.apply(lambda ranks: len(ranks))\n",
    "net_to_pollinator_ranks.sort_values(\"num_ranks\", ascending=False).query(\"num_ranks > 0\").iloc[:719-621]"
   ]
  },
  {
   "cell_type": "markdown",
   "id": "e19d3726-22b9-4e30-bff8-1625beadcc9a",
   "metadata": {},
   "source": [
    "# add after the full analysis with all networks analysos noly on networks with known taxonomy"
   ]
  },
  {
   "cell_type": "code",
   "execution_count": null,
   "id": "221a436c-aa45-4c15-b7b5-77ff79de5132",
   "metadata": {},
   "outputs": [],
   "source": [
    "def get_highest_taxonomic_rank(rank):\n",
    "    sorted_taxonomic_ranks = [\"variety\", \"form\", \"subspecies\", \"species\", \"subgenus\", \"genus\", \"subfamily\", \"family\", \"superfamily\", \n",
    "                              \"suborder\", \"order\", \"infraclass\", \"subdivision\", \"subclass\", \"class\"]\n",
    "    return sorted_taxonomic_ranks.index(rank)\n",
    "net_to_pollinator_ranks[\"highest_taxon_rank\"] = net_to_pollinator_ranks.taxon_rank.apply(lambda l: sorted(l, key=get_highest_taxonomic_rank)[-1] if len(l) > 0 else np.nan)"
   ]
  },
  {
   "cell_type": "code",
   "execution_count": null,
   "id": "8c16007a-7635-454a-9a60-133c7365dd38",
   "metadata": {},
   "outputs": [],
   "source": [
    "net_to_pollinator_ranks.to_csv(network_level_output_path, index=False)"
   ]
  },
  {
   "cell_type": "code",
   "execution_count": null,
   "id": "b53f2204-27ac-49da-99f1-1dd205c91c4e",
   "metadata": {},
   "outputs": [],
   "source": []
  }
 ],
 "metadata": {
  "kernelspec": {
   "display_name": "Python 3 (ipykernel)",
   "language": "python",
   "name": "python3"
  },
  "language_info": {
   "codemirror_mode": {
    "name": "ipython",
    "version": 3
   },
   "file_extension": ".py",
   "mimetype": "text/x-python",
   "name": "python",
   "nbconvert_exporter": "python",
   "pygments_lexer": "ipython3",
   "version": "3.10.6"
  }
 },
 "nbformat": 4,
 "nbformat_minor": 5
}
