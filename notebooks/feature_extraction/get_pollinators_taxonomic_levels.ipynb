{
 "cells": [
  {
   "cell_type": "code",
   "execution_count": 1,
   "id": "d094e6c0-7cdf-4905-a10f-4ddccff4e763",
   "metadata": {},
   "outputs": [
    {
     "name": "stdout",
     "output_type": "stream",
     "text": [
      "INFO: Pandarallel will run on 5 workers.\n",
      "INFO: Pandarallel will use standard multiprocessing data transfer (pipe) to transfer data between the main process and workers.\n"
     ]
    }
   ],
   "source": [
    "import pandas as pd\n",
    "import numpy as np\n",
    "import os\n",
    "\n",
    "import sys\n",
    "sys.path.append(\"../../code/data_generation/\")\n",
    "import taxonomy"
   ]
  },
  {
   "cell_type": "code",
   "execution_count": 2,
   "id": "b49c19de-c0a0-4c2a-88b0-5815c28ab112",
   "metadata": {},
   "outputs": [],
   "source": [
    "networks_types = [\"weighted\", \"binary\"]\n",
    "classification_db_path = \"../PloiDB/name_resolution/final_name_resolution/taxonome/WFO/v.2022.07/classification.txt\"\n",
    "name_resolution_path = \"../data/name_resolution/resolved_plant_names.csv\"\n",
    "output_path = \"../data/features/taxonomic_features/pollinators_taxonomic_classification.csv\"\n",
    "network_level_output_path = \"../data/features/taxonomic_features/net_to_pollinators_taxonomic_classification.csv\"\n",
    "itis_db_link = \"https://www.itis.gov/downloads/itisSqlite.zip\""
   ]
  },
  {
   "cell_type": "code",
   "execution_count": 3,
   "id": "2ec08e76-d155-4abe-a12b-7a3f90d1366c",
   "metadata": {},
   "outputs": [],
   "source": [
    "species_names_dfs = []\n",
    "for networks_type in networks_types:\n",
    "    networks_dir = f\"../data/networks/all/{networks_type}/\"\n",
    "    for path in os.listdir(networks_dir):\n",
    "        if path.endswith(\".csv\"):\n",
    "            network_path = f\"{networks_dir}{path}\"\n",
    "            network = pd.read_csv(network_path)\n",
    "            network_species = pd.DataFrame(columns=[\"network_type\", \"network_id\", \"original_name\"])\n",
    "            network_species[\"original_name\"] = network.set_index(\"Plant\").columns.tolist()\n",
    "            network_species[\"network_type\"] = networks_type\n",
    "            network_species[\"network_id\"] = int(path.replace(\".csv\", \"\"))\n",
    "            species_names_dfs.append(network_species)\n",
    "taxonomic_features = pd.concat(species_names_dfs)\n",
    "taxonomic_features = taxonomic_features.loc[~taxonomic_features.original_name.str.startswith('abundance\"')]\n",
    "taxonomic_features.original_name = taxonomic_features.original_name.str.lower()\n",
    "taxonomic_features.original_name = taxonomic_features.original_name.apply(lambda name: name.replace(\"_\", \" \"))"
   ]
  },
  {
   "cell_type": "code",
   "execution_count": 4,
   "id": "a29404a4-1f04-4a60-91c2-8b01aa010dee",
   "metadata": {},
   "outputs": [],
   "source": [
    "taxonomic_features = taxonomy.fill_missing_data_from_itis(input_df = taxonomic_features,\n",
    "                                                input_col = \"original_name\",\n",
    "                                                db_link = itis_db_link,\n",
    "                                                db_dir = os.getcwd())"
   ]
  },
  {
   "cell_type": "code",
   "execution_count": 6,
   "id": "b7fcaf34-96f5-46df-9fb7-2d739495c3b1",
   "metadata": {},
   "outputs": [
    {
     "data": {
      "application/vnd.jupyter.widget-view+json": {
       "model_id": "031fc3df2c16432488bb37173ff2e8e1",
       "version_major": 2,
       "version_minor": 0
      },
      "text/plain": [
       "VBox(children=(HBox(children=(IntProgress(value=0, description='0.00%', max=6734), Label(value='0 / 6734'))), …"
      ]
     },
     "metadata": {},
     "output_type": "display_data"
    },
    {
     "name": "stderr",
     "output_type": "stream",
     "text": [
      "/groups/itay_mayrose/halabikeren/tmp/ploidb/data_generation/taxonomy.py:212: SettingWithCopyWarning: \n",
      "A value is trying to be set on a copy of a slice from a DataFrame.\n",
      "Try using .loc[row_indexer,col_indexer] = value instead\n",
      "\n",
      "See the caveats in the documentation: https://pandas.pydata.org/pandas-docs/stable/user_guide/indexing.html#returning-a-view-versus-a-copy\n",
      "  data[\"ncbi_tax_id\"] = data[search_by_col].parallel_apply(get_ncbi_tax_id)\n",
      "/groups/itay_mayrose/halabikeren/tmp/ploidb/data_generation/taxonomy.py:225: SettingWithCopyWarning: \n",
      "A value is trying to be set on a copy of a slice from a DataFrame\n",
      "\n",
      "See the caveats in the documentation: https://pandas.pydata.org/pandas-docs/stable/user_guide/indexing.html#returning-a-view-versus-a-copy\n",
      "  data[\"genus\"].fillna(value=tax_id_to_genus, inplace=True)\n",
      "/groups/itay_mayrose/halabikeren/tmp/ploidb/data_generation/taxonomy.py:226: SettingWithCopyWarning: \n",
      "A value is trying to be set on a copy of a slice from a DataFrame\n",
      "\n",
      "See the caveats in the documentation: https://pandas.pydata.org/pandas-docs/stable/user_guide/indexing.html#returning-a-view-versus-a-copy\n",
      "  data[\"family\"].fillna(value=tax_id_to_family, inplace=True)\n",
      "/groups/itay_mayrose/halabikeren/tmp/ploidb/data_generation/taxonomy.py:228: SettingWithCopyWarning: \n",
      "A value is trying to be set on a copy of a slice from a DataFrame\n",
      "\n",
      "See the caveats in the documentation: https://pandas.pydata.org/pandas-docs/stable/user_guide/indexing.html#returning-a-view-versus-a-copy\n",
      "  data[\"taxon_rank\"].fillna(value=tax_id_to_rank, inplace=True)\n"
     ]
    },
    {
     "data": {
      "application/vnd.jupyter.widget-view+json": {
       "model_id": "7b58b4761b024fd39d63b002fbc8e01a",
       "version_major": 2,
       "version_minor": 0
      },
      "text/plain": [
       "VBox(children=(HBox(children=(IntProgress(value=0, description='0.00%', max=6734), Label(value='0 / 6734'))), …"
      ]
     },
     "metadata": {},
     "output_type": "display_data"
    },
    {
     "name": "stderr",
     "output_type": "stream",
     "text": [
      "/groups/itay_mayrose/halabikeren/tmp/ploidb/data_generation/taxonomy.py:229: SettingWithCopyWarning: \n",
      "A value is trying to be set on a copy of a slice from a DataFrame.\n",
      "Try using .loc[row_indexer,col_indexer] = value instead\n",
      "\n",
      "See the caveats in the documentation: https://pandas.pydata.org/pandas-docs/stable/user_guide/indexing.html#returning-a-view-versus-a-copy\n",
      "  data.genus = data.parallel_apply(lambda record: record[search_by_col] if record.taxon_rank == \"genus\" else np.nan, axis=1)\n"
     ]
    },
    {
     "data": {
      "application/vnd.jupyter.widget-view+json": {
       "model_id": "f5b27fa30cdc422c8786937a4f97bfe5",
       "version_major": 2,
       "version_minor": 0
      },
      "text/plain": [
       "VBox(children=(HBox(children=(IntProgress(value=0, description='0.00%', max=6734), Label(value='0 / 6734'))), …"
      ]
     },
     "metadata": {},
     "output_type": "display_data"
    },
    {
     "name": "stderr",
     "output_type": "stream",
     "text": [
      "/groups/itay_mayrose/halabikeren/tmp/ploidb/data_generation/taxonomy.py:230: SettingWithCopyWarning: \n",
      "A value is trying to be set on a copy of a slice from a DataFrame.\n",
      "Try using .loc[row_indexer,col_indexer] = value instead\n",
      "\n",
      "See the caveats in the documentation: https://pandas.pydata.org/pandas-docs/stable/user_guide/indexing.html#returning-a-view-versus-a-copy\n",
      "  data.family = data.parallel_apply(lambda record: record[search_by_col] if record.taxon_rank == \"family\" else np.nan, axis=1)\n"
     ]
    }
   ],
   "source": [
    "missing_data = taxonomic_features.loc[(taxonomic_features.taxon_rank.isna())]\n",
    "complementary_data = taxonomy.fill_missing_data_from_ncbi(data=missing_data, search_by_col=\"original_name\")"
   ]
  },
  {
   "cell_type": "code",
   "execution_count": 10,
   "id": "5cce01ef-b034-40b4-834b-72a126430efa",
   "metadata": {},
   "outputs": [],
   "source": [
    "taxonomic_features.set_index(\"original_name\", inplace=True)\n",
    "complementary_data.set_index(taxonomic_features.index.name, inplace=True)\n",
    "for c in taxonomic_features.columns:\n",
    "    if c in complementary_data.columns:\n",
    "        taxonomic_features[c].fillna(value=complementary_data[c].to_dict(), inplace=True)\n",
    "taxonomic_features.reset_index(inplace=True)\n",
    "if \"original_name_capitalized\" in taxonomic_features.columns:\n",
    "    taxonomic_features.drop(\"original_name_capitalized\", axis=1, inplace=True)"
   ]
  },
  {
   "cell_type": "code",
   "execution_count": 13,
   "id": "8258d6c3-b50d-419a-9ad6-7b831d85711a",
   "metadata": {},
   "outputs": [],
   "source": [
    "taxonomic_features.to_csv(output_path, index=False)"
   ]
  },
  {
   "cell_type": "code",
   "execution_count": 4,
   "id": "7560a040-2744-42d9-b61f-d691b031d6fe",
   "metadata": {},
   "outputs": [
    {
     "name": "stdout",
     "output_type": "stream",
     "text": [
      "# unresolved names = 14,414\n"
     ]
    }
   ],
   "source": [
    "missing_names = taxonomic_features.query(\"taxon_rank.isna()\").original_name.unique().tolist()\n",
    "print(f\"# unresolved names = {len(missing_names):,}\")"
   ]
  },
  {
   "cell_type": "code",
   "execution_count": 12,
   "id": "47219e49-5b80-4169-9bce-6e09978bed47",
   "metadata": {},
   "outputs": [
    {
     "data": {
      "application/vnd.jupyter.widget-view+json": {
       "model_id": "1877cdfc7d2645c1bc1d05ac2b3915bd",
       "version_major": 2,
       "version_minor": 0
      },
      "text/plain": [
       "VBox(children=(HBox(children=(IntProgress(value=0, description='0.00%', max=6469), Label(value='0 / 6469'))), …"
      ]
     },
     "metadata": {},
     "output_type": "display_data"
    },
    {
     "name": "stderr",
     "output_type": "stream",
     "text": [
      "/tmp/ipykernel_33999/2321358607.py:23: SettingWithCopyWarning: \n",
      "A value is trying to be set on a copy of a slice from a DataFrame.\n",
      "Try using .loc[row_indexer,col_indexer] = value instead\n",
      "\n",
      "See the caveats in the documentation: https://pandas.pydata.org/pandas-docs/stable/user_guide/indexing.html#returning-a-view-versus-a-copy\n",
      "  missing[[\"taxon_rank\", \"genus\", \"family\"]] = missing[[\"original_name\"]].parallel_apply(extract_taxonomic_data, axis=1, result_type=\"expand\")\n"
     ]
    },
    {
     "ename": "NameError",
     "evalue": "name 'taxonomic_feautres' is not defined",
     "output_type": "error",
     "traceback": [
      "\u001b[0;31m---------------------------------------------------------------------------\u001b[0m",
      "\u001b[0;31mNameError\u001b[0m                                 Traceback (most recent call last)",
      "Input \u001b[0;32mIn [12]\u001b[0m, in \u001b[0;36m<cell line: 24>\u001b[0;34m()\u001b[0m\n\u001b[1;32m     22\u001b[0m missing \u001b[38;5;241m=\u001b[39m taxonomic_features\u001b[38;5;241m.\u001b[39mquery(\u001b[38;5;124m\"\u001b[39m\u001b[38;5;124mtaxon_rank.isna()\u001b[39m\u001b[38;5;124m\"\u001b[39m)\n\u001b[1;32m     23\u001b[0m missing[[\u001b[38;5;124m\"\u001b[39m\u001b[38;5;124mtaxon_rank\u001b[39m\u001b[38;5;124m\"\u001b[39m, \u001b[38;5;124m\"\u001b[39m\u001b[38;5;124mgenus\u001b[39m\u001b[38;5;124m\"\u001b[39m, \u001b[38;5;124m\"\u001b[39m\u001b[38;5;124mfamily\u001b[39m\u001b[38;5;124m\"\u001b[39m]] \u001b[38;5;241m=\u001b[39m missing[[\u001b[38;5;124m\"\u001b[39m\u001b[38;5;124moriginal_name\u001b[39m\u001b[38;5;124m\"\u001b[39m]]\u001b[38;5;241m.\u001b[39mparallel_apply(extract_taxonomic_data, axis\u001b[38;5;241m=\u001b[39m\u001b[38;5;241m1\u001b[39m, result_type\u001b[38;5;241m=\u001b[39m\u001b[38;5;124m\"\u001b[39m\u001b[38;5;124mexpand\u001b[39m\u001b[38;5;124m\"\u001b[39m)\n\u001b[0;32m---> 24\u001b[0m \u001b[43mtaxonomic_feautres\u001b[49m\u001b[38;5;241m.\u001b[39mupdate(missing)\n",
      "\u001b[0;31mNameError\u001b[0m: name 'taxonomic_feautres' is not defined"
     ]
    }
   ],
   "source": [
    "from pygbif import species\n",
    "\n",
    "def extract_taxonomic_data(record):\n",
    "    name = record.original_name\n",
    "    rank, genus, family = np.nan, np.nan, np.nan\n",
    "    # try:\n",
    "    taxonomic_data = species.name_suggest(q=name)\n",
    "    if len(taxonomic_data) == 0:\n",
    "        return rank, genus, family\n",
    "    taxonomic_data = taxonomic_data[0]\n",
    "    rank = taxonomic_data[\"rank\"].lower()\n",
    "    if rank == \"family\":\n",
    "        family = name\n",
    "    elif \"family\" in taxonomic_data:\n",
    "        family = taxonomic_data[\"family\"].lower()\n",
    "    if rank == \"genus\":\n",
    "        genus = name\n",
    "    elif \"genus\" in taxonomic_data:\n",
    "        genus = taxonomic_data[\"genus\"].lower()\n",
    "    return rank, genus, family\n",
    "\n",
    "missing = taxonomic_features.query(\"taxon_rank.isna()\")\n",
    "missing[[\"taxon_rank\", \"genus\", \"family\"]] = missing[[\"original_name\"]].parallel_apply(extract_taxonomic_data, axis=1, result_type=\"expand\")\n",
    "taxonomic_features.update(missing)"
   ]
  },
  {
   "cell_type": "code",
   "execution_count": 13,
   "id": "67e12db0-3c22-4ace-bf8d-d846759743b0",
   "metadata": {},
   "outputs": [],
   "source": [
    "taxonomic_features.update(missing)"
   ]
  },
  {
   "cell_type": "code",
   "execution_count": 14,
   "id": "a7a1acb0-d765-4f3b-a337-3ccf8aabffb1",
   "metadata": {},
   "outputs": [
    {
     "name": "stdout",
     "output_type": "stream",
     "text": [
      "# unresolved names = 8,325\n"
     ]
    }
   ],
   "source": [
    "missing_names = taxonomic_features.query(\"taxon_rank.isna()\").original_name.unique().tolist()\n",
    "print(f\"# unresolved names = {len(missing_names):,}\")"
   ]
  },
  {
   "cell_type": "code",
   "execution_count": 15,
   "id": "9a60e4a8-6dae-40a9-a4bd-b0c931ec367c",
   "metadata": {},
   "outputs": [],
   "source": [
    "taxonomic_features.to_csv(output_path, index=False)"
   ]
  },
  {
   "cell_type": "code",
   "execution_count": 9,
   "id": "9c6bf583-ba94-4617-8551-5317bc20511d",
   "metadata": {},
   "outputs": [
    {
     "name": "stdout",
     "output_type": "stream",
     "text": [
      "% networks with missing pollinator ranks = 86.0 (621/719)\n"
     ]
    }
   ],
   "source": [
    "num_net_witt_missing_rank = taxonomic_features.query(\"taxon_rank.isna()\")[[\"network_type\",\t\"network_id\"]].drop_duplicates().shape[0]\n",
    "num_net = taxonomic_features[[\"network_type\",\t\"network_id\"]].drop_duplicates().shape[0]\n",
    "print(f\"% networks with missing pollinator ranks = {np.round(num_net_witt_missing_rank/num_net*100)} ({num_net_witt_missing_rank:,}/{num_net:,})\")"
   ]
  },
  {
   "cell_type": "code",
   "execution_count": 10,
   "id": "a466e52f-50b7-4039-9081-2e8fa997adb6",
   "metadata": {},
   "outputs": [],
   "source": [
    "net_to_pollinator_ranks = taxonomic_features.groupby([\"network_type\",\t\"network_id\"])[\"taxon_rank\"].apply(lambda ranks: list(ranks.dropna().unique())).reset_index()"
   ]
  },
  {
   "cell_type": "code",
   "execution_count": 11,
   "id": "cbcea821-82d5-4591-9d84-7a1d8a9d5593",
   "metadata": {},
   "outputs": [
    {
     "data": {
      "text/html": [
       "<div>\n",
       "<style scoped>\n",
       "    .dataframe tbody tr th:only-of-type {\n",
       "        vertical-align: middle;\n",
       "    }\n",
       "\n",
       "    .dataframe tbody tr th {\n",
       "        vertical-align: top;\n",
       "    }\n",
       "\n",
       "    .dataframe thead th {\n",
       "        text-align: right;\n",
       "    }\n",
       "</style>\n",
       "<table border=\"1\" class=\"dataframe\">\n",
       "  <thead>\n",
       "    <tr style=\"text-align: right;\">\n",
       "      <th></th>\n",
       "      <th>network_type</th>\n",
       "      <th>network_id</th>\n",
       "      <th>taxon_rank</th>\n",
       "      <th>num_ranks</th>\n",
       "    </tr>\n",
       "  </thead>\n",
       "  <tbody>\n",
       "    <tr>\n",
       "      <th>20</th>\n",
       "      <td>binary</td>\n",
       "      <td>20.0</td>\n",
       "      <td>[genus, family, superfamily, species, order]</td>\n",
       "      <td>5</td>\n",
       "    </tr>\n",
       "    <tr>\n",
       "      <th>8</th>\n",
       "      <td>binary</td>\n",
       "      <td>8.0</td>\n",
       "      <td>[genus, subfamily, family, order, species]</td>\n",
       "      <td>5</td>\n",
       "    </tr>\n",
       "    <tr>\n",
       "      <th>122</th>\n",
       "      <td>binary</td>\n",
       "      <td>122.0</td>\n",
       "      <td>[species, subspecies, infraclass, genus]</td>\n",
       "      <td>4</td>\n",
       "    </tr>\n",
       "    <tr>\n",
       "      <th>23</th>\n",
       "      <td>binary</td>\n",
       "      <td>23.0</td>\n",
       "      <td>[genus, order, family, superfamily]</td>\n",
       "      <td>4</td>\n",
       "    </tr>\n",
       "    <tr>\n",
       "      <th>21</th>\n",
       "      <td>binary</td>\n",
       "      <td>21.0</td>\n",
       "      <td>[genus, species, family, order]</td>\n",
       "      <td>4</td>\n",
       "    </tr>\n",
       "    <tr>\n",
       "      <th>...</th>\n",
       "      <td>...</td>\n",
       "      <td>...</td>\n",
       "      <td>...</td>\n",
       "      <td>...</td>\n",
       "    </tr>\n",
       "    <tr>\n",
       "      <th>187</th>\n",
       "      <td>weighted</td>\n",
       "      <td>63.0</td>\n",
       "      <td>[species, form]</td>\n",
       "      <td>2</td>\n",
       "    </tr>\n",
       "    <tr>\n",
       "      <th>595</th>\n",
       "      <td>weighted</td>\n",
       "      <td>471.0</td>\n",
       "      <td>[species, subspecies]</td>\n",
       "      <td>2</td>\n",
       "    </tr>\n",
       "    <tr>\n",
       "      <th>189</th>\n",
       "      <td>weighted</td>\n",
       "      <td>65.0</td>\n",
       "      <td>[species, genus]</td>\n",
       "      <td>2</td>\n",
       "    </tr>\n",
       "    <tr>\n",
       "      <th>190</th>\n",
       "      <td>weighted</td>\n",
       "      <td>66.0</td>\n",
       "      <td>[species, genus]</td>\n",
       "      <td>2</td>\n",
       "    </tr>\n",
       "    <tr>\n",
       "      <th>191</th>\n",
       "      <td>weighted</td>\n",
       "      <td>67.0</td>\n",
       "      <td>[species, subspecies]</td>\n",
       "      <td>2</td>\n",
       "    </tr>\n",
       "  </tbody>\n",
       "</table>\n",
       "<p>98 rows × 4 columns</p>\n",
       "</div>"
      ],
      "text/plain": [
       "    network_type  network_id                                    taxon_rank  \\\n",
       "20        binary        20.0  [genus, family, superfamily, species, order]   \n",
       "8         binary         8.0    [genus, subfamily, family, order, species]   \n",
       "122       binary       122.0      [species, subspecies, infraclass, genus]   \n",
       "23        binary        23.0           [genus, order, family, superfamily]   \n",
       "21        binary        21.0               [genus, species, family, order]   \n",
       "..           ...         ...                                           ...   \n",
       "187     weighted        63.0                               [species, form]   \n",
       "595     weighted       471.0                         [species, subspecies]   \n",
       "189     weighted        65.0                              [species, genus]   \n",
       "190     weighted        66.0                              [species, genus]   \n",
       "191     weighted        67.0                         [species, subspecies]   \n",
       "\n",
       "     num_ranks  \n",
       "20           5  \n",
       "8            5  \n",
       "122          4  \n",
       "23           4  \n",
       "21           4  \n",
       "..         ...  \n",
       "187          2  \n",
       "595          2  \n",
       "189          2  \n",
       "190          2  \n",
       "191          2  \n",
       "\n",
       "[98 rows x 4 columns]"
      ]
     },
     "execution_count": 11,
     "metadata": {},
     "output_type": "execute_result"
    }
   ],
   "source": [
    "net_to_pollinator_ranks[\"num_ranks\"] = net_to_pollinator_ranks.taxon_rank.apply(lambda ranks: len(ranks))\n",
    "net_to_pollinator_ranks.sort_values(\"num_ranks\", ascending=False).query(\"num_ranks > 0\").iloc[:719-621]"
   ]
  },
  {
   "cell_type": "code",
   "execution_count": null,
   "id": "4cba39f3-b4b3-40f1-984d-f6388b7b03dc",
   "metadata": {},
   "outputs": [],
   "source": [
    "# add after the full analysis with all networks analysos noly on networks with known taxonomy"
   ]
  },
  {
   "cell_type": "code",
   "execution_count": 30,
   "id": "221a436c-aa45-4c15-b7b5-77ff79de5132",
   "metadata": {},
   "outputs": [],
   "source": [
    "def get_highest_taxonomic_rank(rank):\n",
    "    sorted_taxonomic_ranks = [\"variety\", \"form\", \"subspecies\", \"species\", \"subgenus\", \"genus\", \"subfamily\", \"family\", \"superfamily\", \n",
    "                              \"suborder\", \"order\", \"infraclass\", \"subdivision\", \"subclass\", \"class\"]\n",
    "    return sorted_taxonomic_ranks.index(rank)\n",
    "net_to_pollinator_ranks[\"highest_taxon_rank\"] = net_to_pollinator_ranks.taxon_rank.apply(lambda l: sorted(l, key=get_highest_taxonomic_rank)[-1] if len(l) > 0 else np.nan)"
   ]
  },
  {
   "cell_type": "code",
   "execution_count": 32,
   "id": "8c16007a-7635-454a-9a60-133c7365dd38",
   "metadata": {},
   "outputs": [],
   "source": [
    "net_to_pollinator_ranks.to_csv(network_level_output_path, index=False)"
   ]
  }
 ],
 "metadata": {
  "kernelspec": {
   "display_name": "Python 3 (ipykernel)",
   "language": "python",
   "name": "python3"
  },
  "language_info": {
   "codemirror_mode": {
    "name": "ipython",
    "version": 3
   },
   "file_extension": ".py",
   "mimetype": "text/x-python",
   "name": "python",
   "nbconvert_exporter": "python",
   "pygments_lexer": "ipython3",
   "version": "3.10.6"
  }
 },
 "nbformat": 4,
 "nbformat_minor": 5
}
