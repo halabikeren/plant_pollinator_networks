{
 "cells": [
  {
   "cell_type": "code",
   "execution_count": 38,
   "id": "c5a12fde-fc04-47cd-85e3-685334bc1af3",
   "metadata": {},
   "outputs": [],
   "source": [
    "import pandas as pd\n",
    "import numpy as np\n",
    "import os"
   ]
  },
  {
   "cell_type": "code",
   "execution_count": 39,
   "id": "cdc8443f-809b-4456-9ceb-b2a5d9025e0a",
   "metadata": {},
   "outputs": [],
   "source": [
    "features_type = \"network\"\n",
    "\n",
    "features_of_interest = {\"plant\": [\"partner.diversity\", \"d\", \"normalised.degree\", \"weighted.betweenness\", \"weighted.closeness\"],\n",
    "                        \"network\": [\"connectance\", \"NODF\", \"modularity\", \"robustness\", \"robustness_mean\", \"robustness.LL\"]}\n",
    "\n",
    "features_dir = f\"/groups/itay_mayrose/halabikeren/plant_pollinator_networks/data/features/{features_type}/\"\n",
    "networks_dir = f\"/groups/itay_mayrose/halabikeren/plant_pollinator_networks/data/networks/all/\"\n",
    "network_types = [\"binary\", \"weighted\", \"binarized_weighted\"]"
   ]
  },
  {
   "cell_type": "code",
   "execution_count": 40,
   "id": "dcff88a3-1f7d-4731-9a4c-34c198a26607",
   "metadata": {},
   "outputs": [
    {
     "name": "stdout",
     "output_type": "stream",
     "text": [
      "# output_paths = 1,239\n",
      "# result paths = 1,229\n",
      "# unsubmitted jobs = 18\n"
     ]
    }
   ],
   "source": [
    "output_paths = []\n",
    "features_paths = []\n",
    "to_submit = []\n",
    "for nt in network_types:\n",
    "    outdir = f\"{features_dir}{nt}/jobs_output/\"\n",
    "    resdir = f\"{features_dir}{nt}/features_by_network/\"\n",
    "    jobsdir = f\"{features_dir}{nt}/jobs/\"\n",
    "    unsubmitted = set([p.replace(\".sh\",\"\") for p in os.listdir(jobsdir)])-set([p.replace(\".out\",\"\") for p in os.listdir(outdir)])\n",
    "    to_submit += [f\"{jobsdir}{j}.sh\" for j in unsubmitted]\n",
    "    l1 = [f\"{outdir}{p}\" for p in os.listdir(outdir) if p.endswith(\".out\")]\n",
    "    l2 = [f\"{resdir}{p}\" for p in os.listdir(resdir) if p.endswith(\".csv\") and \"null\" not in p]\n",
    "    output_paths += l1\n",
    "    features_paths += l2\n",
    "print(f\"# output_paths = {len(output_paths):,}\\n# result paths = {len(features_paths):,}\")\n",
    "print(f\"# unsubmitted jobs = {len(to_submit):,}\")"
   ]
  },
  {
   "cell_type": "code",
   "execution_count": 41,
   "id": "c46555f9-fb8a-450c-a399-9fa1b45201c5",
   "metadata": {},
   "outputs": [],
   "source": [
    "import re\n",
    "from subprocess import *\n",
    "from collections import defaultdict\n",
    "\n",
    "job_path_regex = re.compile(\"Submit_arguments\\s=.*?(\\/.*?)\\s\")\n",
    "\n",
    "jobs_log = str(Popen([\"qstat\", \"-u\", \"halabikeren\"], stdout=PIPE).communicate()[0]).split(\"\\\\n\")[5:]\n",
    "jobs_ids = [item.split(\".\")[0] for item in jobs_log if len(item.split(\".\")[0]) > 1]\n",
    "job_path_to_id = defaultdict(list)\n",
    "for job_id in jobs_ids:\n",
    "    try:\n",
    "        job_log = str(Popen([\"qstat\", \"-f\", job_id], stdout=PIPE).communicate()[0]).replace(\"\\\\n\",\"\").replace(\"\\\\t\",\"\")\n",
    "        job_path = job_path_regex.search(job_log).group(1)\n",
    "        job_path_to_id[job_path].append(job_id)\n",
    "    except:\n",
    "        continue"
   ]
  },
  {
   "cell_type": "code",
   "execution_count": 42,
   "id": "00fe7608-5545-437a-b98f-e09a4fb5e60b",
   "metadata": {},
   "outputs": [
    {
     "name": "stdout",
     "output_type": "stream",
     "text": [
      "/groups/itay_mayrose/halabikeren/plant_pollinator_networks/data/features/network/weighted/jobs/47.sh\n",
      "/groups/itay_mayrose/halabikeren/plant_pollinator_networks/data/features/network/weighted/jobs/43.sh\n"
     ]
    }
   ],
   "source": [
    "for jp in to_submit:\n",
    "    if jp not in job_path_to_id:\n",
    "        print(jp)\n",
    "        res=os.system(f\"qsub -q itay_75 {jp}\")"
   ]
  },
  {
   "cell_type": "code",
   "execution_count": 43,
   "id": "313d05b5-cca2-48bc-9aa2-fd3a99f6de47",
   "metadata": {},
   "outputs": [
    {
     "name": "stdout",
     "output_type": "stream",
     "text": [
      "# failed by unknown reason = 0\n",
      "# failed by memory = 0\n",
      "# failed by size = 0\n",
      "jobs_to_rerun = 0\n"
     ]
    }
   ],
   "source": [
    "failed = []\n",
    "failed_mem = []\n",
    "failed_too_small = []\n",
    "to_rerun = []\n",
    "for p in output_paths:\n",
    "    res_path = p.replace(\"jobs_output\", \"features_by_network\").replace(\".out\", \"_features.csv\")\n",
    "    job_path = p.replace(\"jobs_output\", \"jobs\").replace(\".out\", \".sh\")\n",
    "    \n",
    "    if job_path in job_path_to_id:\n",
    "        continue\n",
    "\n",
    "    with open(p, \"r\") as f:\n",
    "        c=f.read()\n",
    "    if \"duration\" not in c and not os.path.exists(res_path):\n",
    "        failed.append(p)\n",
    "    if \"PBS: job killed: mem\" in c:\n",
    "        failed_mem.append(p)\n",
    "    if \"too small\" in c:\n",
    "        failed_too_small.append(p)\n",
    "    if \"does not exist\" in c:\n",
    "        to_rerun.append(p)\n",
    "failed_other = set(failed)-set(failed_mem)-set(failed_too_small)-set(to_rerun)       \n",
    "print(f\"# failed by unknown reason = {len(failed_other):,}\\n# failed by memory = {len(failed_mem):,}\\n# failed by size = {len(failed_too_small):,}\\njobs_to_rerun = {len(to_rerun)}\")"
   ]
  },
  {
   "cell_type": "code",
   "execution_count": 44,
   "id": "4ff0e59b-ebdf-42c6-aeaf-8510e162cd42",
   "metadata": {},
   "outputs": [
    {
     "name": "stdout",
     "output_type": "stream",
     "text": [
      "# missing output = 28\n"
     ]
    }
   ],
   "source": [
    "missing = {}\n",
    "nmissing = 0\n",
    "for nt in network_types:\n",
    "    networks = [p.replace(\".csv\", \"\") for p in os.listdir(f\"{networks_dir}{nt}/\") if p.endswith(\".csv\")]\n",
    "    results_dir = f\"{features_dir}{nt}/features_by_network/\"\n",
    "    resulting_networks = [p.replace(\"_features.csv\",\"\") for p in os.listdir(results_dir) if \"null\" not in p and p.endswith(\".csv\")]\n",
    "    missing[nt] = set(networks)-set(resulting_networks)\n",
    "    nmissing += len(missing[nt])\n",
    "print(f\"# missing output = {nmissing}\")"
   ]
  },
  {
   "cell_type": "code",
   "execution_count": 45,
   "id": "cebc48d4-82d7-4fc6-ab12-24f71981ea3d",
   "metadata": {},
   "outputs": [
    {
     "data": {
      "text/plain": [
       "{'binary': {'28', '44', '45', '78', '96'},\n",
       " 'weighted': {'11',\n",
       "  '153',\n",
       "  '154',\n",
       "  '157',\n",
       "  '183',\n",
       "  '290',\n",
       "  '530',\n",
       "  '536',\n",
       "  '8',\n",
       "  '9',\n",
       "  '93'},\n",
       " 'binarized_weighted': {'10',\n",
       "  '11',\n",
       "  '153',\n",
       "  '154',\n",
       "  '157',\n",
       "  '183',\n",
       "  '290',\n",
       "  '530',\n",
       "  '536',\n",
       "  '8',\n",
       "  '9',\n",
       "  '93'}}"
      ]
     },
     "execution_count": 45,
     "metadata": {},
     "output_type": "execute_result"
    }
   ],
   "source": [
    "missing"
   ]
  },
  {
   "cell_type": "code",
   "execution_count": 46,
   "id": "49843a84-e093-4b50-8fc8-8c2f5e0bd122",
   "metadata": {},
   "outputs": [],
   "source": [
    "for nt in missing:\n",
    "    for m in missing[nt]:\n",
    "        jp = f\"{features_dir}{nt}/jobs/{m}.sh\"\n",
    "        with open(jp, \"r\") as f:\n",
    "            c=f.read()\n",
    "        c=c.replace(\"/_features/\", \"/features/\").replace(\"/features/_by_network/\", \"/features_by_network/\")\n",
    "        with open(jp, \"w\") as f:\n",
    "            f.write(c)"
   ]
  },
  {
   "cell_type": "code",
   "execution_count": 47,
   "id": "338f1cab-394c-4a12-ba58-b36bb15cc256",
   "metadata": {},
   "outputs": [],
   "source": [
    "for nt in missing:\n",
    "    for m in missing[nt]:\n",
    "        jp = f\"{features_dir}{nt}/jobs/{m}.sh\"\n",
    "        res = os.system(f\"qsub -q itay_75 {jp}\")"
   ]
  },
  {
   "cell_type": "code",
   "execution_count": 48,
   "id": "9d2a7961-051f-4c39-a65e-2802d2ec6173",
   "metadata": {},
   "outputs": [],
   "source": [
    "for jop in failed_mem:\n",
    "    jp = jop.replace(\"jobs_output\", \"jobs\").replace(\".out\", \".sh\")\n",
    "    with open(jp, \"r\") as f:\n",
    "        c=f.read()\n",
    "    c=c.replace(\"/features\", \"/_features/\").replace(\"20gb\", \"30gb\").replace(\"15gb\", \"20gb\").replace(\"10gb\", \"15gb\").replace(\"4gb\", \"10gb\")\n",
    "    with open(jp, \"w\") as f:\n",
    "        f.write(c)\n",
    "    if os.path.exists(jop):\n",
    "        os.remove(jop)\n",
    "    res=os.system(f\"qsub -q itay_75 {jp}\")"
   ]
  },
  {
   "cell_type": "code",
   "execution_count": 49,
   "id": "7868b4b7-c57e-415c-a19a-7da986ad60a6",
   "metadata": {},
   "outputs": [],
   "source": [
    "for f in to_rerun:\n",
    "    if os.path.exists(f):\n",
    "        os.remove(f)\n",
    "    jp = f.replace(\"jobs_output\", \"jobs\").replace(\".out\", \".sh\")\n",
    "    res = os.system(f\"qsub -q itay_75 {jp}\")"
   ]
  },
  {
   "cell_type": "code",
   "execution_count": 50,
   "id": "92b2cb30-d385-4bfe-82b4-82df0d5924cb",
   "metadata": {},
   "outputs": [],
   "source": [
    "features = []\n",
    "for p in features_paths:\n",
    "    nt = p.split(\"/\")[-3]\n",
    "    df = pd.read_csv(p)\n",
    "    sd_cols = [col for col in df.columns if col.startswith(\"standardized_\")]\n",
    "    for c in sd_cols:\n",
    "        df[c] = df[c].apply(lambda x: np.nan if x < -10000 or x > 10000 else x)\n",
    "    df[\"network_type\"] = nt\n",
    "    features.append(df)\n",
    "features = pd.concat(features)\n",
    "features.to_csv(f\"{features_dir}/all_features.csv\")\n",
    "for nt in network_types:\n",
    "    features.loc[features.network_type == nt].to_csv(f\"{features_dir}/{nt}/features.csv\")"
   ]
  },
  {
   "cell_type": "code",
   "execution_count": null,
   "id": "d0d4e27c-5845-4716-86d5-83026d4aa568",
   "metadata": {},
   "outputs": [],
   "source": []
  }
 ],
 "metadata": {
  "kernelspec": {
   "display_name": "Python 3 (ipykernel)",
   "language": "python",
   "name": "python3"
  },
  "language_info": {
   "codemirror_mode": {
    "name": "ipython",
    "version": 3
   },
   "file_extension": ".py",
   "mimetype": "text/x-python",
   "name": "python",
   "nbconvert_exporter": "python",
   "pygments_lexer": "ipython3",
   "version": "3.10.6"
  }
 },
 "nbformat": 4,
 "nbformat_minor": 5
}
