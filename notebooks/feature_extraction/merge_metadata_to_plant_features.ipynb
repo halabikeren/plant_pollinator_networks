{
 "cells": [
  {
   "cell_type": "code",
   "execution_count": 5,
   "id": "dd53d5e7-e4d2-4c11-85ca-ff5f072e9c33",
   "metadata": {},
   "outputs": [],
   "source": [
    "import pandas as pd\n",
    "import numpy as np"
   ]
  },
  {
   "cell_type": "code",
   "execution_count": 6,
   "id": "3fa879f2-0a1c-49d0-b11b-a4ab1e34e306",
   "metadata": {},
   "outputs": [],
   "source": [
    "network_type_to_plant_features_paths = {\"binary\": [\"../../data/_features/plant_features/binary/features.csv\", \"../../data/_features/plant_features/binary/hubbiness.csv\"], \n",
    "                                        \"weighted\": [\"../../data/_features/plant_features/weighted/features.csv\", \"../../data/_features/plant_features/weighted/hubbiness.csv\"],\n",
    "                                        \"binarized_weighted\": [\"../../data/_features/plant_features/binarized_weighted/features.csv\", \"../../data/_features/plant_features/binarized_weighted/hubbiness.csv\"]}\n",
    "                        \n",
    "metadata_features_path = \"../../data/_features/plant_features/metadata/joined_metadata.csv\"\n",
    "taxonomic_features_path = \"../../data/_features/taxonomic_features/taxonomic_features.csv\"\n",
    "name_resolution_path = \"../..//data/name_resolution/resolved_plant_names.csv\""
   ]
  },
  {
   "cell_type": "code",
   "execution_count": 7,
   "id": "8d5227dc-2d87-4e28-b7b3-51872e2c4bcf",
   "metadata": {},
   "outputs": [],
   "source": [
    "name_resolution = pd.read_csv(name_resolution_path)"
   ]
  },
  {
   "cell_type": "code",
   "execution_count": 8,
   "id": "818d0839-15fd-4efb-990b-6753d1140eef",
   "metadata": {},
   "outputs": [],
   "source": [
    "metadata_features = pd.read_csv(metadata_features_path)\n",
    "metadata_features.taxon = metadata_features.taxon.apply(lambda n: n[:-1] if pd.notna(n) and n.endswith(\" \") else n)\n",
    "metadata_features.genus = metadata_features.genus.apply(lambda n: n[:-1] if pd.notna(n) and n.endswith(\" \") else n).str.lower()\n",
    "metadata_features = metadata_features.drop(\"genus\", axis=1)"
   ]
  },
  {
   "cell_type": "code",
   "execution_count": 9,
   "id": "c2f633c1-55e9-4ab1-9740-5de2693b9be5",
   "metadata": {},
   "outputs": [],
   "source": [
    "taxonomic_features = pd.read_csv(taxonomic_features_path)\n",
    "taxonomic_data_by_name = taxonomic_features.groupby(\"original_name\")[[\"taxonomic_rank\", \"genus\"]].agg({\"taxonomic_rank\": lambda x: x.dropna().unique()[0] if len(x.dropna()) > 0 else np.nan,\n",
    "                                                                                                       \"genus\": lambda x: x.values[0]}).reset_index()"
   ]
  },
  {
   "cell_type": "code",
   "execution_count": 26,
   "id": "777d0d82-b097-40f2-942f-ce762519b9e6",
   "metadata": {},
   "outputs": [
    {
     "name": "stderr",
     "output_type": "stream",
     "text": [
      "/tmp/ipykernel_17943/3644627397.py:29: FutureWarning: Passing a set as an indexer is deprecated and will raise in a future version. Use a list instead.\n",
      "  plant_features[cols-drop_cols].to_csv(network_type_to_plant_features_paths[network_type][0], index=False)\n",
      "/tmp/ipykernel_17943/3644627397.py:29: FutureWarning: Passing a set as an indexer is deprecated and will raise in a future version. Use a list instead.\n",
      "  plant_features[cols-drop_cols].to_csv(network_type_to_plant_features_paths[network_type][0], index=False)\n",
      "/tmp/ipykernel_17943/3644627397.py:29: FutureWarning: Passing a set as an indexer is deprecated and will raise in a future version. Use a list instead.\n",
      "  plant_features[cols-drop_cols].to_csv(network_type_to_plant_features_paths[network_type][0], index=False)\n"
     ]
    }
   ],
   "source": [
    "for network_type in network_type_to_plant_features_paths:\n",
    "    plant_features = pd.read_csv(network_type_to_plant_features_paths[network_type][0]).rename(columns={\"Plant\": \"original_name\"})\n",
    "    if \"hubbiness_score\" not in plant_features.columns:\n",
    "        hubbiness_feature = pd.read_csv(network_type_to_plant_features_paths[network_type][1]).rename(columns={\"plant\": \"original_name\"}).drop([\"network_type\"], axis=1)\n",
    "    plant_features = plant_features.merge(hubbiness_feature, on=[\"original_name\", \"network_id\"], how=\"left\")\n",
    "    plant_features.original_name = plant_features.original_name.str.lower()\n",
    "    if \"taxonomic_rank\" not in plant_features.columns:\n",
    "        plant_features = plant_features.merge(taxonomic_data_by_name,\n",
    "                                              on=\"original_name\",\n",
    "                                              how=\"left\")\n",
    "    \n",
    "    if \"resolved_name\" not in plant_features.columns:\n",
    "        plant_features = plant_features.merge(name_resolution[[\"original_name\", \"resolved_name\"]], \n",
    "                                              on=\"original_name\", \n",
    "                                              how=\"left\")\n",
    "    \n",
    "    if not \"mean_tm\" in plant_features.columns:\n",
    "        plant_features = plant_features.merge(metadata_features,\n",
    "                                              left_on=\"original_name\",\n",
    "                                              right_on=\"taxon\",\n",
    "                                              how=\"left\")\n",
    "\n",
    "        plant_features.set_index(\"resolved_name\", inplace=True)\n",
    "        plant_features.update(metadata_features)\n",
    "        plant_features.reset_index(inplace=True)\n",
    "    \n",
    "    cols = set(plant_features.columns)\n",
    "    drop_cols = set([c for c in plant_features.columns if \"Unnamed\" in c or (c.startswith(\"hubbiness_score\") and not c.endswith(\"_score\"))])\n",
    "    plant_features[cols-drop_cols].to_csv(network_type_to_plant_features_paths[network_type][0], index=False)"
   ]
  },
  {
   "cell_type": "code",
   "execution_count": 28,
   "id": "409f4e11-2985-41ef-b9db-36f9e7a79e17",
   "metadata": {},
   "outputs": [],
   "source": [
    "metadata_features = metadata_features[[c for c in metadata_features.columns if \"Unnamed\" not in c]]"
   ]
  },
  {
   "cell_type": "code",
   "execution_count": 29,
   "id": "3682eb66-1b32-4409-a2f5-c6221aea3afc",
   "metadata": {},
   "outputs": [
    {
     "data": {
      "text/plain": [
       "taxon               2.614841\n",
       "family              2.614841\n",
       "cot                 2.449941\n",
       "hemisphere          2.367491\n",
       "biome               1.319199\n",
       "source              2.614841\n",
       "references          2.167256\n",
       "growth              2.438163\n",
       "life_form           2.449941\n",
       "si                  1.967020\n",
       "pollination_mode    1.272085\n",
       "selfing_mode        0.011779\n",
       "flower_size         0.235571\n",
       "mean_tm             2.614841\n",
       "dtype: float64"
      ]
     },
     "execution_count": 29,
     "metadata": {},
     "output_type": "execute_result"
    }
   ],
   "source": [
    "classified_plant_features = plant_features\n",
    "classified_plant_features[metadata_features.columns].notna().sum()/classified_plant_features.shape[0] * 100"
   ]
  },
  {
   "cell_type": "code",
   "execution_count": 30,
   "id": "df186fce-0170-499b-8424-3d06975efd38",
   "metadata": {},
   "outputs": [
    {
     "data": {
      "text/plain": [
       "2311"
      ]
     },
     "execution_count": 30,
     "metadata": {},
     "output_type": "execute_result"
    }
   ],
   "source": [
    "missing = set(classified_plant_features.original_name)-set(metadata_features.taxon)\n",
    "len(missing)"
   ]
  },
  {
   "cell_type": "code",
   "execution_count": 31,
   "id": "830c8334-20fa-4588-bb0b-5eb2976e64e9",
   "metadata": {},
   "outputs": [
    {
     "data": {
      "text/plain": [
       "['heracleum candicans',\n",
       " 'ceiba aesculifolia',\n",
       " 'lupinus lepidus confertus',\n",
       " 'premna serratifolia',\n",
       " 'alstroemeria aurea',\n",
       " 'weigela decora',\n",
       " 'dryas integrifolia',\n",
       " 'dichorisandra thyrsiflora',\n",
       " 'potentilla brevifolia',\n",
       " 'scabiosa lucida']"
      ]
     },
     "execution_count": 31,
     "metadata": {},
     "output_type": "execute_result"
    }
   ],
   "source": [
    "list(missing)[:10]"
   ]
  },
  {
   "cell_type": "code",
   "execution_count": null,
   "id": "629f529e-473d-4f5a-85c5-340b24ac8921",
   "metadata": {},
   "outputs": [],
   "source": []
  }
 ],
 "metadata": {
  "kernelspec": {
   "display_name": "Python 3 (ipykernel)",
   "language": "python",
   "name": "python3"
  },
  "language_info": {
   "codemirror_mode": {
    "name": "ipython",
    "version": 3
   },
   "file_extension": ".py",
   "mimetype": "text/x-python",
   "name": "python",
   "nbconvert_exporter": "python",
   "pygments_lexer": "ipython3",
   "version": "3.10.6"
  }
 },
 "nbformat": 4,
 "nbformat_minor": 5
}
