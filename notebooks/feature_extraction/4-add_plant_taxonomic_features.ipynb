{
 "cells": [
  {
   "cell_type": "code",
   "execution_count": 6,
   "id": "5ba1a006-6909-4bf5-a82d-5aa89280a26d",
   "metadata": {},
   "outputs": [],
   "source": [
    "import pandas as pd\n",
    "import numpy as np\n",
    "import os\n",
    "\n",
    "from Bio import Entrez\n",
    "Entrez.email = \"halabikeren@gmail.com\""
   ]
  },
  {
   "cell_type": "code",
   "execution_count": 8,
   "id": "ea2dd2a8-e2af-497c-8c66-bd1f97ec38fa",
   "metadata": {},
   "outputs": [],
   "source": [
    "networks_types = [\"weighted\", \"binary\"]\n",
    "classification_db_path = \"../../data/name_resolution/wfo_20230107/classification.txt\"\n",
    "name_resolution_path = \"../../data/name_resolution/resolved_plant_names.csv\"\n",
    "networks_metadata_path = \"../../data/networks/all/networks_metadata.csv\"\n",
    "taxonomic_features_path = \"../../data/features/taxonomic_features/taxonomic_features.csv\"\n",
    "all_networks_dir = f\"../../data/networks/all/\""
   ]
  },
  {
   "cell_type": "code",
   "execution_count": 9,
   "id": "beb1c533-61e8-4bf6-a670-d7c2c33c79d4",
   "metadata": {},
   "outputs": [],
   "source": [
    "species_names_dfs = []\n",
    "for networks_type in networks_types:\n",
    "    networks_dir = f\"{all_networks_dir}/{networks_type}/\"\n",
    "    for path in os.listdir(networks_dir):\n",
    "        if path.endswith(\".csv\"):\n",
    "            network_path = f\"{networks_dir}{path}\"\n",
    "            network = pd.read_csv(network_path)\n",
    "            network_species = pd.DataFrame(columns=[\"network_type\", \"network_id\", \"original_name\"])\n",
    "            network_species[\"original_name\"] = network.Plant.tolist()\n",
    "            network_species[\"network_type\"] = networks_type\n",
    "            network_species[\"network_id\"] = int(path.replace(\".csv\", \"\"))\n",
    "            species_names_dfs.append(network_species)\n",
    "taxonomic_features = pd.concat(species_names_dfs)\n",
    "taxonomic_features = taxonomic_features.loc[~taxonomic_features.original_name.str.startswith('abundance\"')]\n",
    "taxonomic_features.original_name = taxonomic_features.original_name.str.lower()\n",
    "taxonomic_features.original_name = taxonomic_features.original_name.apply(lambda name: name.replace(\"_\", \" \"))"
   ]
  },
  {
   "cell_type": "code",
   "execution_count": 10,
   "id": "95b9924b-2485-4c69-81e3-2a7da204faaa",
   "metadata": {},
   "outputs": [],
   "source": [
    "name_resolution = pd.read_csv(name_resolution_path)\n",
    "name_resolution.original_name = name_resolution.original_name.str.lower()\n",
    "name_resolution.resolved_name = name_resolution.resolved_name.str.lower()\n",
    "\n",
    "taxonomic_features[\"resolved_name\"] = np.nan\n",
    "taxonomic_features.set_index(\"original_name\", inplace=True)\n",
    "taxonomic_features.resolved_name.fillna(value=name_resolution.set_index(\"original_name\")[\"resolved_name\"].to_dict(), inplace=True)\n",
    "taxonomic_features.reset_index(inplace=True)"
   ]
  },
  {
   "cell_type": "code",
   "execution_count": 11,
   "id": "1db84e74-ee9a-4643-8c15-5129251ef8f8",
   "metadata": {},
   "outputs": [
    {
     "name": "stderr",
     "output_type": "stream",
     "text": [
      "/tmp/ipykernel_18110/3646978645.py:1: DtypeWarning: Columns (2,13,14,15,16,18,21,22,27,29) have mixed types. Specify dtype option on import or set low_memory=False.\n",
      "  classification_data = pd.read_csv(classification_db_path, sep=\"\\t\")\n"
     ]
    }
   ],
   "source": [
    "classification_data = pd.read_csv(classification_db_path, sep=\"\\t\")\n",
    "classification_data.scientificName = classification_data.scientificName.str.lower()\n",
    "\n",
    "# join by original name to scientificName\n",
    "taxonomic_features.set_index(\"original_name\", inplace=True)\n",
    "classification_data.set_index(\"scientificName\", inplace=True)\n",
    "taxonomic_features = taxonomic_features.join(classification_data)\n",
    "\n",
    "cols_to_keep = [\"network_type\", \"network_id\", \"original_name\", \"resolved_name\", \"taxonRank\", \"genus\", \"family\"]\n",
    "cols_to_drop = [c for c in taxonomic_features.columns if c not in cols_to_keep]\n",
    "taxonomic_features.drop(cols_to_drop, axis=1, inplace=True)\n",
    "taxonomic_features.reset_index(inplace=True)\n",
    "taxonomic_features.rename(columns={\"taxonRank\": \"taxonomic_rank\", \"index\": \"original_name\"}, inplace=True)"
   ]
  },
  {
   "cell_type": "code",
   "execution_count": 12,
   "id": "0e265a4a-fa22-49a6-9dc8-6ffd5aac60f3",
   "metadata": {},
   "outputs": [],
   "source": [
    "def get_genus(name):\n",
    "    if len(name) == 1:\n",
    "        return np.nan\n",
    "    components = name.split(\" \")\n",
    "    if \".\" in components[0]:\n",
    "        return np.nan\n",
    "    return components[0]\n",
    "\n",
    "taxonomic_features.loc[taxonomic_features.taxonomic_rank == \"GENUS\", \"genus\"] = taxonomic_features.loc[taxonomic_features.taxonomic_rank == \"GENUS\", \"original_name\"]\n",
    "taxonomic_features.loc[taxonomic_features.taxonomic_rank == \"FAMILY\", \"family\"] = taxonomic_features.loc[taxonomic_features.taxonomic_rank == \"FAMILY\", \"original_name\"]\n",
    "taxonomic_features.loc[(taxonomic_features.genus.isna()) & (taxonomic_features.resolved_name.notna()), \"genus\"] = taxonomic_features.loc[(taxonomic_features.genus.isna()) & (taxonomic_features.resolved_name.notna()), \"resolved_name\"].apply(lambda name: name.split(\" \")[0])\n",
    "taxonomic_features.loc[taxonomic_features.genus.isna(), \"genus\"] = taxonomic_features.loc[taxonomic_features.genus.isna(), \"original_name\"].apply(get_genus)\n",
    "\n",
    "genus_to_family = taxonomic_features[[\"genus\", \"family\"]].drop_duplicates().dropna().set_index(\"genus\")[\"family\"].to_dict()\n",
    "taxonomic_features.set_index(\"genus\", inplace=True)\n",
    "taxonomic_features.family.fillna(value=genus_to_family, inplace=True)\n",
    "taxonomic_features.reset_index(inplace=True)                              "
   ]
  },
  {
   "cell_type": "code",
   "execution_count": 13,
   "id": "fa33412f-4774-4475-96b5-6b520df3be97",
   "metadata": {},
   "outputs": [
    {
     "data": {
      "text/plain": [
       "genus             0.986812\n",
       "original_name     1.000000\n",
       "network_type      1.000000\n",
       "network_id        1.000000\n",
       "resolved_name     0.797926\n",
       "taxonomic_rank    0.848040\n",
       "family            0.900731\n",
       "dtype: float64"
      ]
     },
     "execution_count": 13,
     "metadata": {},
     "output_type": "execute_result"
    }
   ],
   "source": [
    "taxonomic_features.notna().sum() / taxonomic_features.shape[0]"
   ]
  },
  {
   "cell_type": "code",
   "execution_count": 14,
   "id": "3f1af915-a82d-459a-9162-d493bca87d43",
   "metadata": {},
   "outputs": [
    {
     "name": "stdout",
     "output_type": "stream",
     "text": [
      "could not find id for genus abundance\" due to error list index out of range\n",
      "could not find id for genus actea due to error list index out of range\n",
      "could not find id for genus adehis due to error list index out of range\n",
      "could not find id for genus alium due to error list index out of range\n",
      "could not find id for genus allibertia due to error list index out of range\n",
      "could not find id for genus amoebophyllum due to error list index out of range\n",
      "could not find id for genus ampetopsis due to error list index out of range\n",
      "could not find id for genus appolonias due to error list index out of range\n",
      "could not find id for genus aragalus due to error list index out of range\n",
      "could not find id for genus armcae due to error list index out of range\n",
      "could not find id for genus as due to error list index out of range\n",
      "could not find id for genus ascerates due to error list index out of range\n",
      "could not find id for genus baeckia due to error list index out of range\n",
      "could not find id for genus befaria due to error list index out of range\n",
      "could not find id for genus benthamida due to error list index out of range\n",
      "could not find id for genus besella due to error list index out of range\n",
      "could not find id for genus besmoscelis due to error list index out of range\n",
      "could not find id for genus bisint due to error list index out of range\n",
      "could not find id for genus blechum due to error list index out of range\n",
      "could not find id for genus boerhaavia due to error list index out of range\n",
      "could not find id for genus brickelia due to error list index out of range\n",
      "could not find id for genus bromeliacea due to error list index out of range\n",
      "could not find id for genus byrsonia due to error list index out of range\n",
      "could not find id for genus cepahaelis due to error list index out of range\n",
      "could not find id for genus chamaenerium due to error list index out of range\n",
      "could not find id for genus chamomila due to error list index out of range\n",
      "could not find id for genus chlorophora due to error list index out of range\n",
      "could not find id for genus chrithmum due to error list index out of range\n",
      "could not find id for genus chromolanea due to error list index out of range\n",
      "could not find id for genus coccosypselum due to error list index out of range\n",
      "could not find id for genus concostegia due to error list index out of range\n",
      "could not find id for genus concostegiaspeciosa due to error list index out of range\n",
      "could not find id for genus cystisus due to error list index out of range\n",
      "could not find id for genus cytoro due to error list index out of range\n",
      "could not find id for genus daisy due to error list index out of range\n",
      "could not find id for genus dorichnium due to error list index out of range\n",
      "could not find id for genus dorychnium due to error list index out of range\n",
      "could not find id for genus dracantomelon due to error list index out of range\n",
      "could not find id for genus elephantella due to error list index out of range\n",
      "could not find id for genus elmerillia due to error list index out of range\n",
      "could not find id for genus epiphyte due to error list index out of range\n",
      "could not find id for genus equium due to error list index out of range\n",
      "could not find id for genus erysimium due to error list index out of range\n",
      "could not find id for genus erythroxylon due to error list index out of range\n",
      "could not find id for genus euphorbea due to error list index out of range\n",
      "could not find id for genus eupwil due to error list index out of range\n",
      "could not find id for genus eusteratis due to error list index out of range\n",
      "could not find id for genus evonymus due to error list index out of range\n",
      "could not find id for genus fragraea due to error list index out of range\n",
      "could not find id for genus frequency due to error list index out of range\n",
      "could not find id for genus gagnev due to error list index out of range\n",
      "could not find id for genus genlut due to error list index out of range\n",
      "could not find id for genus groton due to error list index out of range\n",
      "could not find id for genus gypsophylla due to error list index out of range\n",
      "could not find id for genus heliotropum due to error list index out of range\n",
      "could not find id for genus hiease due to error list index out of range\n",
      "could not find id for genus hiebla due to error list index out of range\n",
      "could not find id for genus hiesp due to error list index out of range\n",
      "could not find id for genus hydrocleis due to error list index out of range\n",
      "could not find id for genus hymenocarpus due to error list index out of range\n",
      "could not find id for genus hymenopteraocarpos due to error list index out of range\n",
      "could not find id for genus ipomea due to error list index out of range\n",
      "could not find id for genus jascri due to error list index out of range\n",
      "could not find id for genus jurhum due to error list index out of range\n",
      "could not find id for genus kandetia due to error list index out of range\n",
      "could not find id for genus lamiastrum due to error list index out of range\n",
      "could not find id for genus leualp due to error list index out of range\n",
      "could not find id for genus leuceria due to error list index out of range\n",
      "could not find id for genus liana due to error list index out of range\n",
      "could not find id for genus linociera due to error list index out of range\n",
      "could not find id for genus linsax due to error list index out of range\n",
      "could not find id for genus metothria due to error list index out of range\n",
      "could not find id for genus moreae due to error list index out of range\n",
      "could not find id for genus mormordica due to error list index out of range\n",
      "could not find id for genus mustisia due to error list index out of range\n",
      "could not find id for genus noechamaelea due to error list index out of range\n",
      "could not find id for genus orange due to error list index out of range\n",
      "could not find id for genus osmoxylum due to error list index out of range\n",
      "could not find id for genus ozmorhiza due to error list index out of range\n",
      "could not find id for genus pentaphlloides due to error list index out of range\n",
      "could not find id for genus pentstemon due to error list index out of range\n",
      "could not find id for genus petalostemum due to error list index out of range\n",
      "could not find id for genus pink due to error list index out of range\n",
      "could not find id for genus plagiobothyrs due to error list index out of range\n",
      "could not find id for genus plantanthera due to error list index out of range\n",
      "could not find id for genus poacea due to error list index out of range\n",
      "could not find id for genus pseudallosterna due to error list index out of range\n",
      "could not find id for genus pslicourea due to error list index out of range\n",
      "could not find id for genus psoralia due to error list index out of range\n",
      "could not find id for genus psychotriasp due to error list index out of range\n",
      "could not find id for genus ptantago due to error list index out of range\n",
      "could not find id for genus pyrrhocactus due to error list index out of range\n",
      "could not find id for genus ransp due to error list index out of range\n",
      "could not find id for genus rhaphanus due to error list index out of range\n",
      "could not find id for genus rhinantus due to error list index out of range\n",
      "could not find id for genus rosamrinus due to error list index out of range\n",
      "could not find id for genus rumace due to error list index out of range\n",
      "could not find id for genus rydbergia due to error list index out of range\n",
      "could not find id for genus saggitaria due to error list index out of range\n",
      "could not find id for genus salpiglossus due to error list index out of range\n",
      "could not find id for genus sarconia due to error list index out of range\n",
      "could not find id for genus satchys due to error list index out of range\n",
      "could not find id for genus sebatia due to error list index out of range\n",
      "could not find id for genus sedbre due to error list index out of range\n",
      "could not find id for genus sedcan due to error list index out of range\n",
      "could not find id for genus senpyr due to error list index out of range\n",
      "could not find id for genus sg2 due to error list index out of range\n",
      "could not find id for genus shultesia due to error list index out of range\n",
      "could not find id for genus silcil due to error list index out of range\n",
      "could not find id for genus solvir due to error list index out of range\n",
      "could not find id for genus stenactis due to error list index out of range\n",
      "could not find id for genus symplocarpon due to error list index out of range\n",
      "could not find id for genus syzigium due to error list index out of range\n",
      "could not find id for genus thick due to error list index out of range\n",
      "could not find id for genus thypra due to error list index out of range\n",
      "could not find id for genus tourneortia due to error list index out of range\n",
      "could not find id for genus tremastelma due to error list index out of range\n",
      "could not find id for genus trfolium due to error list index out of range\n",
      "could not find id for genus tristagama due to error list index out of range\n",
      "could not find id for genus trysterix due to error list index out of range\n",
      "could not find id for genus tyttnera due to error list index out of range\n",
      "could not find id for genus umbellifer due to error list index out of range\n",
      "could not find id for genus velloziela due to error list index out of range\n",
      "could not find id for genus vvedelia due to error list index out of range\n",
      "could not find id for genus wendtandia due to error list index out of range\n",
      "could not find id for genus wittrochia due to error list index out of range\n",
      "could not find id for genus zalacca due to error list index out of range\n"
     ]
    }
   ],
   "source": [
    "# fill missing genera data using Entrez\n",
    "missing_genera = taxonomic_features.loc[taxonomic_features.family.isna()].genus.dropna().unique().tolist()\n",
    "genus_to_id = dict()\n",
    "for genus in missing_genera:\n",
    "    try:\n",
    "        genus_to_id[genus] = Entrez.read(Entrez.esearch(term=genus, db=\"taxonomy\", retmode=\"xml\"))[\"IdList\"][0]\n",
    "    except Exception as e:\n",
    "        print(f\"could not find id for genus {genus} due to error {e}\")"
   ]
  },
  {
   "cell_type": "code",
   "execution_count": 15,
   "id": "a59bd11e-bf68-4a6a-98a6-ca07b928305b",
   "metadata": {},
   "outputs": [
    {
     "name": "stdout",
     "output_type": "stream",
     "text": [
      "failed to get family for genus magnoliidae due to error list index out of range\n",
      "failed to get family for genus unidentified due to error list index out of range\n"
     ]
    }
   ],
   "source": [
    "def get_family(genus_id):\n",
    "    d = list(Entrez.parse(Entrez.efetch(id=genus_id, db=\"taxonomy\", retmode=\"xml\")))[0]\n",
    "    family = [item for item in d[\"LineageEx\"] if item[\"Rank\"] == \"family\"][0][\"ScientificName\"]\n",
    "    return family\n",
    "\n",
    "failed_genera = []\n",
    "genus_to_family = dict()\n",
    "for genus in genus_to_id:\n",
    "    try:\n",
    "        genus_to_family[genus] = get_family(genus_to_id[genus])\n",
    "    except Exception as e:\n",
    "        print(f\"failed to get family for genus {genus} due to error {e}\")\n",
    "        failed_genera.append(genus)\n",
    "# all appear to be pollinator families coming from the unreversed network binary/31"
   ]
  },
  {
   "cell_type": "code",
   "execution_count": 16,
   "id": "15f73387-cf52-46a4-b9a0-6672494ccef3",
   "metadata": {},
   "outputs": [
    {
     "data": {
      "text/plain": [
       "genus             0.986812\n",
       "original_name     1.000000\n",
       "network_type      1.000000\n",
       "network_id        1.000000\n",
       "resolved_name     0.797926\n",
       "taxonomic_rank    0.848040\n",
       "family            0.974044\n",
       "dtype: float64"
      ]
     },
     "execution_count": 16,
     "metadata": {},
     "output_type": "execute_result"
    }
   ],
   "source": [
    "taxonomic_features.set_index(\"genus\", inplace=True)\n",
    "taxonomic_features.family.fillna(genus_to_family, inplace=True)\n",
    "taxonomic_features.reset_index(inplace=True)\n",
    "taxonomic_features.notna().sum() / taxonomic_features.shape[0]"
   ]
  },
  {
   "cell_type": "code",
   "execution_count": 17,
   "id": "a917d098-b903-4cc1-91f5-fcdbe329abf2",
   "metadata": {},
   "outputs": [],
   "source": [
    "taxonomic_features.to_csv(\"../../data/features/taxonomic_features.csv\", index=False)"
   ]
  },
  {
   "cell_type": "code",
   "execution_count": 18,
   "id": "70e662de-c385-4e6d-a1c3-b9ba361bc745",
   "metadata": {},
   "outputs": [],
   "source": [
    "binary_plant_features_path = \"../../data/features/plant/binary/features_with_classification.csv\"\n",
    "weighted_plant_features_path = \"../../data/features/plant/weighted/features_with_classification.csv\"\n",
    "binarized_weighted_plant_features_path = \"../../data/features/plant/binarized_weighted/features_with_classification.csv\"\n",
    "\n",
    "binary_plant_features = pd.read_csv(binary_plant_features_path)\n",
    "weighted_plant_features = pd.read_csv(weighted_plant_features_path)\n",
    "binarized_weighted_plant_features = pd.read_csv(binarized_weighted_plant_features_path)"
   ]
  },
  {
   "cell_type": "code",
   "execution_count": 19,
   "id": "92a2fcde-ec9f-404b-932c-d561e7ff56c0",
   "metadata": {},
   "outputs": [],
   "source": [
    "name_to_genus = taxonomic_features.set_index(\"original_name\")[\"genus\"].to_dict()\n",
    "name_to_family = taxonomic_features.set_index(\"original_name\")[\"family\"].to_dict()"
   ]
  },
  {
   "cell_type": "code",
   "execution_count": 20,
   "id": "7cf8c625-1b22-47c9-9aec-92cb3f06d445",
   "metadata": {},
   "outputs": [],
   "source": [
    "taxonomic_features.set_index(\"original_name\", inplace=True)\n",
    "binary_plant_features.set_index(\"original_name\", inplace=True)\n",
    "weighted_plant_features.set_index(\"original_name\", inplace=True)\n",
    "binarized_weighted_plant_features.set_index(\"original_name\", inplace=True)\n",
    "\n",
    "binary_plant_features[[\"genus\", \"family\"]] = np.nan\n",
    "binary_plant_features[\"genus\"].fillna(name_to_genus, inplace=True)\n",
    "binary_plant_features[\"family\"].fillna(name_to_family, inplace=True)\n",
    "\n",
    "weighted_plant_features[[\"genus\", \"family\"]] = np.nan\n",
    "weighted_plant_features[\"genus\"].fillna(name_to_genus, inplace=True)\n",
    "weighted_plant_features[\"family\"].fillna(name_to_family, inplace=True)\n",
    "\n",
    "binarized_weighted_plant_features[[\"genus\", \"family\"]] = np.nan\n",
    "binarized_weighted_plant_features[\"genus\"].fillna(name_to_genus, inplace=True)\n",
    "binarized_weighted_plant_features[\"family\"].fillna(name_to_family, inplace=True)\n",
    "\n",
    "taxonomic_features.reset_index(inplace=True)\n",
    "binary_plant_features.reset_index(inplace=True)\n",
    "weighted_plant_features.reset_index(inplace=True)\n",
    "binarized_weighted_plant_features.reset_index(inplace=True)"
   ]
  },
  {
   "cell_type": "code",
   "execution_count": 21,
   "id": "41b60aa9-d580-4cfa-bcd8-44f4a3688236",
   "metadata": {},
   "outputs": [],
   "source": [
    "binary_plant_features.to_csv(binary_plant_features_path)\n",
    "weighted_plant_features.to_csv(weighted_plant_features_path)\n",
    "binarized_weighted_plant_features.to_csv(binarized_weighted_plant_features_path)"
   ]
  },
  {
   "cell_type": "code",
   "execution_count": 22,
   "id": "5a69daf7-ea27-4021-90e1-0f4015c5ad78",
   "metadata": {},
   "outputs": [],
   "source": [
    "networks_with_missing_taxonomy_data = taxonomic_features.groupby([\"network_type\", \"network_id\"])[[\"taxonomic_rank\", \"resolved_name\"]].agg({\"taxonomic_rank\": lambda fams: 1 if len(fams.dropna()) > 0 else 0,\n",
    "                                                                                                                                           \"resolved_name\": lambda fams: 1 if len(fams.dropna()) > 0 else 0}).reset_index()"
   ]
  },
  {
   "cell_type": "code",
   "execution_count": null,
   "id": "8761b88f-af89-4498-82b9-40d6226466ff",
   "metadata": {},
   "outputs": [
    {
     "data": {
      "text/html": [
       "<div>\n",
       "<style scoped>\n",
       "    .dataframe tbody tr th:only-of-type {\n",
       "        vertical-align: middle;\n",
       "    }\n",
       "\n",
       "    .dataframe tbody tr th {\n",
       "        vertical-align: top;\n",
       "    }\n",
       "\n",
       "    .dataframe thead th {\n",
       "        text-align: right;\n",
       "    }\n",
       "</style>\n",
       "<table border=\"1\" class=\"dataframe\">\n",
       "  <thead>\n",
       "    <tr style=\"text-align: right;\">\n",
       "      <th></th>\n",
       "      <th>network_type</th>\n",
       "      <th>network_id</th>\n",
       "      <th>taxonomic_rank</th>\n",
       "      <th>resolved_name</th>\n",
       "    </tr>\n",
       "  </thead>\n",
       "  <tbody>\n",
       "    <tr>\n",
       "      <th>0</th>\n",
       "      <td>binary</td>\n",
       "      <td>0</td>\n",
       "      <td>1</td>\n",
       "      <td>1</td>\n",
       "    </tr>\n",
       "    <tr>\n",
       "      <th>1</th>\n",
       "      <td>binary</td>\n",
       "      <td>1</td>\n",
       "      <td>0</td>\n",
       "      <td>0</td>\n",
       "    </tr>\n",
       "    <tr>\n",
       "      <th>2</th>\n",
       "      <td>binary</td>\n",
       "      <td>2</td>\n",
       "      <td>1</td>\n",
       "      <td>1</td>\n",
       "    </tr>\n",
       "    <tr>\n",
       "      <th>3</th>\n",
       "      <td>binary</td>\n",
       "      <td>3</td>\n",
       "      <td>1</td>\n",
       "      <td>1</td>\n",
       "    </tr>\n",
       "    <tr>\n",
       "      <th>4</th>\n",
       "      <td>binary</td>\n",
       "      <td>4</td>\n",
       "      <td>1</td>\n",
       "      <td>1</td>\n",
       "    </tr>\n",
       "    <tr>\n",
       "      <th>...</th>\n",
       "      <td>...</td>\n",
       "      <td>...</td>\n",
       "      <td>...</td>\n",
       "      <td>...</td>\n",
       "    </tr>\n",
       "    <tr>\n",
       "      <th>714</th>\n",
       "      <td>weighted</td>\n",
       "      <td>533</td>\n",
       "      <td>1</td>\n",
       "      <td>1</td>\n",
       "    </tr>\n",
       "    <tr>\n",
       "      <th>715</th>\n",
       "      <td>weighted</td>\n",
       "      <td>534</td>\n",
       "      <td>1</td>\n",
       "      <td>1</td>\n",
       "    </tr>\n",
       "    <tr>\n",
       "      <th>716</th>\n",
       "      <td>weighted</td>\n",
       "      <td>535</td>\n",
       "      <td>1</td>\n",
       "      <td>1</td>\n",
       "    </tr>\n",
       "    <tr>\n",
       "      <th>717</th>\n",
       "      <td>weighted</td>\n",
       "      <td>536</td>\n",
       "      <td>1</td>\n",
       "      <td>1</td>\n",
       "    </tr>\n",
       "    <tr>\n",
       "      <th>718</th>\n",
       "      <td>weighted</td>\n",
       "      <td>537</td>\n",
       "      <td>1</td>\n",
       "      <td>1</td>\n",
       "    </tr>\n",
       "  </tbody>\n",
       "</table>\n",
       "<p>719 rows × 4 columns</p>\n",
       "</div>"
      ],
      "text/plain": [
       "    network_type  network_id  taxonomic_rank  resolved_name\n",
       "0         binary           0               1              1\n",
       "1         binary           1               0              0\n",
       "2         binary           2               1              1\n",
       "3         binary           3               1              1\n",
       "4         binary           4               1              1\n",
       "..           ...         ...             ...            ...\n",
       "714     weighted         533               1              1\n",
       "715     weighted         534               1              1\n",
       "716     weighted         535               1              1\n",
       "717     weighted         536               1              1\n",
       "718     weighted         537               1              1\n",
       "\n",
       "[719 rows x 4 columns]"
      ]
     },
     "execution_count": 23,
     "metadata": {},
     "output_type": "execute_result"
    }
   ],
   "source": [
    "networks_with_missing_taxonomy_data"
   ]
  },
  {
   "cell_type": "code",
   "execution_count": 52,
   "id": "9ab0acf1-e951-40a8-9eca-25a03bdeb7e3",
   "metadata": {},
   "outputs": [],
   "source": [
    "# reversed:\n",
    "# binary: 31, \n",
    "\n",
    "# marine: \n",
    "# binary: 46, 48, 50, 51, 54, 55, 56, 57, 61, 62, 63, 64, 66, 70, 71, 72, 73\n",
    "\n",
    "# in codes:\n",
    "# weighted: 106, 107, 156, 157, 158, 159"
   ]
  }
 ],
 "metadata": {
  "kernelspec": {
   "display_name": "Python 3 (ipykernel)",
   "language": "python",
   "name": "python3"
  },
  "language_info": {
   "codemirror_mode": {
    "name": "ipython",
    "version": 3
   },
   "file_extension": ".py",
   "mimetype": "text/x-python",
   "name": "python",
   "nbconvert_exporter": "python",
   "pygments_lexer": "ipython3",
   "version": "3.10.6"
  }
 },
 "nbformat": 4,
 "nbformat_minor": 5
}
