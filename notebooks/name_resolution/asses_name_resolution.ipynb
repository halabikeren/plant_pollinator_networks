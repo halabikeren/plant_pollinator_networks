{
 "cells": [
  {
   "cell_type": "code",
   "execution_count": 1,
   "id": "1ba2eda3-bfa5-45fd-a600-0c817e00e552",
   "metadata": {},
   "outputs": [],
   "source": [
    "import pandas as pd\n",
    "import numpy as np\n",
    "import os\n",
    "import sys\n",
    "sys.path.append(\"../../code/data_processing/name_resolution/\")\n",
    "from resolved_names_curator import ResolvedNamesCurator"
   ]
  },
  {
   "cell_type": "markdown",
   "id": "047a05b3-a64c-4bd2-9ac7-792a1e02c2ce",
   "metadata": {},
   "source": [
    "# plant name resolution"
   ]
  },
  {
   "cell_type": "code",
   "execution_count": 2,
   "id": "42654927-682f-4286-b445-2aa562f5e007",
   "metadata": {},
   "outputs": [],
   "source": [
    "unresolved_names_path=f\"../../data/name_resolution/unresolved_plant_names.csv\"\n",
    "resolved_names_path=f\"../../data/name_resolution/resolved_plant_names.csv\"\n",
    "\n",
    "unresolved_names = pd.read_csv(unresolved_names_path)\n",
    "resolved_names = pd.read_csv(resolved_names_path).rename(columns={\"Coded Name\": \"resolved_name\",\n",
    "                                                                  \"Original name\": \"original_name\",\n",
    "                                                                  \"Matched Name\": \"matched_name\",\n",
    "                                                                  \"Coded Authority\": \"authority\"})\n",
    "resolved_names.resolved_name = resolved_names.resolved_name.apply(lambda name: name.replace(\"_\", \" \") if pd.notna(name) else np.nan)\n",
    "try:\n",
    "    resolved_names.loc[resolved_names.resolved_name.notna(), \"matched_name_wo_authority\"] = resolved_names.loc[resolved_names.resolved_name.notna()][[\"matched_name\", \"authority\"]].apply(lambda record: record.matched_name.replace(f\" {record.authority}\", \"\").replace(\" None\",\"\"), axis=1)\n",
    "except:\n",
    "    pass"
   ]
  },
  {
   "cell_type": "code",
   "execution_count": 4,
   "id": "ece1e114-81b0-414a-a9cc-6a12fc2a4072",
   "metadata": {},
   "outputs": [
    {
     "name": "stdout",
     "output_type": "stream",
     "text": [
      "# unresovled names = 5,334\n",
      "# resolved names = 3,927\n",
      "# unique resolved names = 3,845\n",
      "% coverage by name resolution = 73.79%\n"
     ]
    }
   ],
   "source": [
    "print(f\"# unresovled names = {unresolved_names.shape[0]:,}\")\n",
    "print(f\"# resolved names = {len(resolved_names.dropna(subset=['resolved_name']).original_name.unique()):,}\")\n",
    "print(f\"# unique resolved names = {len(resolved_names.dropna(subset=['resolved_name']).resolved_name.unique()):,}\")\n",
    "print(f\"% coverage by name resolution = {np.round(resolved_names.query('resolved_name.notna()').shape[0]/unresolved_names.shape[0]*100,2)}%\")"
   ]
  },
  {
   "cell_type": "code",
   "execution_count": 5,
   "id": "3b664123-b381-4ba4-8eab-2aa4191985d6",
   "metadata": {},
   "outputs": [
    {
     "name": "stdout",
     "output_type": "stream",
     "text": [
      "# names resolved at genus level = 2,201\n"
     ]
    }
   ],
   "source": [
    "genus_names = resolved_names.loc[~resolved_names.resolved_name.str.contains(\" \", na=False), \"resolved_name\"].tolist()\n",
    "print(f\"# names resolved at genus level = {len(genus_names):,}\")"
   ]
  },
  {
   "cell_type": "code",
   "execution_count": 6,
   "id": "d2e52762-b12d-420b-9d52-c61f1eab522d",
   "metadata": {},
   "outputs": [],
   "source": [
    "resolved_names.reset_index(inplace=True)"
   ]
  },
  {
   "cell_type": "code",
   "execution_count": 7,
   "id": "eabfb047-b437-485b-af7f-f4267483b800",
   "metadata": {},
   "outputs": [
    {
     "name": "stdout",
     "output_type": "stream",
     "text": [
      "# missing names = 1,263\n"
     ]
    }
   ],
   "source": [
    "missing_names = resolved_names.query(\"resolved_name.isna()\").original_name.tolist()\n",
    "print(f\"# missing names = {len(missing_names):,}\")"
   ]
  },
  {
   "cell_type": "code",
   "execution_count": 8,
   "id": "635a748a-80e6-4206-a2c9-4428b0fa1309",
   "metadata": {},
   "outputs": [
    {
     "name": "stderr",
     "output_type": "stream",
     "text": [
      "/tmp/ipykernel_9578/3461428001.py:2: SettingWithCopyWarning: \n",
      "A value is trying to be set on a copy of a slice from a DataFrame.\n",
      "Try using .loc[row_indexer,col_indexer] = value instead\n",
      "\n",
      "See the caveats in the documentation: https://pandas.pydata.org/pandas-docs/stable/user_guide/indexing.html#returning-a-view-versus-a-copy\n",
      "  resolved_names_to_doc.original_name = resolved_names_to_doc.original_name.str.lower()\n",
      "/tmp/ipykernel_9578/3461428001.py:3: SettingWithCopyWarning: \n",
      "A value is trying to be set on a copy of a slice from a DataFrame.\n",
      "Try using .loc[row_indexer,col_indexer] = value instead\n",
      "\n",
      "See the caveats in the documentation: https://pandas.pydata.org/pandas-docs/stable/user_guide/indexing.html#returning-a-view-versus-a-copy\n",
      "  resolved_names_to_doc.matched_name = resolved_names_to_doc.matched_name.str.lower()\n",
      "/tmp/ipykernel_9578/3461428001.py:4: SettingWithCopyWarning: \n",
      "A value is trying to be set on a copy of a slice from a DataFrame.\n",
      "Try using .loc[row_indexer,col_indexer] = value instead\n",
      "\n",
      "See the caveats in the documentation: https://pandas.pydata.org/pandas-docs/stable/user_guide/indexing.html#returning-a-view-versus-a-copy\n",
      "  resolved_names_to_doc.resolved_name = resolved_names_to_doc.resolved_name.str.lower()\n"
     ]
    }
   ],
   "source": [
    "resolved_names_to_doc = resolved_names[[\"original_name\", \"matched_name\", \"resolved_name\"]]\n",
    "resolved_names_to_doc.original_name = resolved_names_to_doc.original_name.str.lower()\n",
    "resolved_names_to_doc.matched_name = resolved_names_to_doc.matched_name.str.lower()\n",
    "resolved_names_to_doc.resolved_name = resolved_names_to_doc.resolved_name.str.lower()\n",
    "resolved_names_to_doc.to_csv(resolved_names_path, index=False)"
   ]
  },
  {
   "cell_type": "markdown",
   "id": "eae6fb33-e32f-458b-ba60-45274264f062",
   "metadata": {},
   "source": [
    "# pollinators name resolution"
   ]
  },
  {
   "cell_type": "code",
   "execution_count": 9,
   "id": "f6faa494-d1e6-4478-abc5-2b7a149c0c6b",
   "metadata": {},
   "outputs": [],
   "source": [
    "unresolved_names_path=f\"../../data/name_resolution/unresolved_pollinator_names.csv\"\n",
    "resolved_names_path=f\"../../data/name_resolution/resolved_pollinator_names.csv\"\n",
    "tax_data_path = \"../../data/name_resolution/itis_taxonomic_data.csv\"\n",
    "\n",
    "unresolved_names = pd.read_csv(unresolved_names_path)"
   ]
  },
  {
   "cell_type": "code",
   "execution_count": 10,
   "id": "7ca9b445-0fe3-40de-9fde-3f484275042a",
   "metadata": {},
   "outputs": [],
   "source": [
    "resolved_names = pd.read_csv(resolved_names_path).rename(columns={\"Coded Name\": \"resolved_name\",\n",
    "                                                                  \"Original name\": \"original_name\",\n",
    "                                                                  \"Matched Name\": \"matched_name\",\n",
    "                                                                  \"Coded Authority\": \"authority\"})\n",
    "resolved_names.resolved_name = resolved_names.resolved_name.apply(lambda name: name.replace(\"_\", \" \") if pd.notna(name) else np.nan)\n",
    "try:\n",
    "    resolved_names.loc[resolved_names.resolved_name.notna(), \"matched_name_wo_authority\"] = resolved_names.loc[resolved_names.resolved_name.notna()][[\"matched_name\", \"authority\"]].apply(lambda record: record.matched_name.replace(f\" {record.authority}\", \"\").replace(\" None\",\"\"), axis=1)\n",
    "except:\n",
    "    pass"
   ]
  },
  {
   "cell_type": "code",
   "execution_count": 11,
   "id": "0bac4b97-9af0-4109-a3c0-d9ed9e84d298",
   "metadata": {},
   "outputs": [
    {
     "data": {
      "text/html": [
       "<div>\n",
       "<style scoped>\n",
       "    .dataframe tbody tr th:only-of-type {\n",
       "        vertical-align: middle;\n",
       "    }\n",
       "\n",
       "    .dataframe tbody tr th {\n",
       "        vertical-align: top;\n",
       "    }\n",
       "\n",
       "    .dataframe thead th {\n",
       "        text-align: right;\n",
       "    }\n",
       "</style>\n",
       "<table border=\"1\" class=\"dataframe\">\n",
       "  <thead>\n",
       "    <tr style=\"text-align: right;\">\n",
       "      <th></th>\n",
       "      <th>original_name</th>\n",
       "      <th>matched_name</th>\n",
       "      <th>resolved_name</th>\n",
       "      <th>complete_name</th>\n",
       "      <th>rank_name</th>\n",
       "    </tr>\n",
       "  </thead>\n",
       "  <tbody>\n",
       "    <tr>\n",
       "      <th>0</th>\n",
       "      <td>miridae</td>\n",
       "      <td>miridae</td>\n",
       "      <td>miridae</td>\n",
       "      <td>miridae</td>\n",
       "      <td>Family</td>\n",
       "    </tr>\n",
       "    <tr>\n",
       "      <th>1</th>\n",
       "      <td>miridae</td>\n",
       "      <td>miridae</td>\n",
       "      <td>miridae</td>\n",
       "      <td>miridae</td>\n",
       "      <td>Family</td>\n",
       "    </tr>\n",
       "    <tr>\n",
       "      <th>2</th>\n",
       "      <td>miridae</td>\n",
       "      <td>miridae</td>\n",
       "      <td>miridae</td>\n",
       "      <td>miridae</td>\n",
       "      <td>Family</td>\n",
       "    </tr>\n",
       "    <tr>\n",
       "      <th>3</th>\n",
       "      <td>miridae</td>\n",
       "      <td>miridae</td>\n",
       "      <td>miridae</td>\n",
       "      <td>miridae</td>\n",
       "      <td>Family</td>\n",
       "    </tr>\n",
       "    <tr>\n",
       "      <th>4</th>\n",
       "      <td>miridae</td>\n",
       "      <td>miridae</td>\n",
       "      <td>miridae</td>\n",
       "      <td>miridae</td>\n",
       "      <td>Family</td>\n",
       "    </tr>\n",
       "    <tr>\n",
       "      <th>...</th>\n",
       "      <td>...</td>\n",
       "      <td>...</td>\n",
       "      <td>...</td>\n",
       "      <td>...</td>\n",
       "      <td>...</td>\n",
       "    </tr>\n",
       "    <tr>\n",
       "      <th>42202</th>\n",
       "      <td>coleothorpa</td>\n",
       "      <td>coleothorpa moldenke@ 1981</td>\n",
       "      <td>coleothorpa</td>\n",
       "      <td>coleothorpa</td>\n",
       "      <td>Genus</td>\n",
       "    </tr>\n",
       "    <tr>\n",
       "      <th>42203</th>\n",
       "      <td>unidentified sp1</td>\n",
       "      <td>NaN</td>\n",
       "      <td>NaN</td>\n",
       "      <td>NaN</td>\n",
       "      <td>NaN</td>\n",
       "    </tr>\n",
       "    <tr>\n",
       "      <th>42204</th>\n",
       "      <td>pogonomyoides segnis</td>\n",
       "      <td>NaN</td>\n",
       "      <td>NaN</td>\n",
       "      <td>NaN</td>\n",
       "      <td>NaN</td>\n",
       "    </tr>\n",
       "    <tr>\n",
       "      <th>42205</th>\n",
       "      <td>dasyphora albofasciata</td>\n",
       "      <td>NaN</td>\n",
       "      <td>NaN</td>\n",
       "      <td>NaN</td>\n",
       "      <td>NaN</td>\n",
       "    </tr>\n",
       "    <tr>\n",
       "      <th>42206</th>\n",
       "      <td>unidentified sp1 subsp. m_pl_072_03</td>\n",
       "      <td>NaN</td>\n",
       "      <td>NaN</td>\n",
       "      <td>NaN</td>\n",
       "      <td>NaN</td>\n",
       "    </tr>\n",
       "  </tbody>\n",
       "</table>\n",
       "<p>42207 rows × 5 columns</p>\n",
       "</div>"
      ],
      "text/plain": [
       "                             original_name                matched_name  \\\n",
       "0                                  miridae                    miridae    \n",
       "1                                  miridae                    miridae    \n",
       "2                                  miridae                    miridae    \n",
       "3                                  miridae                    miridae    \n",
       "4                                  miridae                    miridae    \n",
       "...                                    ...                         ...   \n",
       "42202                          coleothorpa  coleothorpa moldenke@ 1981   \n",
       "42203                     unidentified sp1                         NaN   \n",
       "42204                 pogonomyoides segnis                         NaN   \n",
       "42205               dasyphora albofasciata                         NaN   \n",
       "42206  unidentified sp1 subsp. m_pl_072_03                         NaN   \n",
       "\n",
       "      resolved_name complete_name rank_name  \n",
       "0           miridae       miridae    Family  \n",
       "1           miridae       miridae    Family  \n",
       "2           miridae       miridae    Family  \n",
       "3           miridae       miridae    Family  \n",
       "4           miridae       miridae    Family  \n",
       "...             ...           ...       ...  \n",
       "42202   coleothorpa   coleothorpa     Genus  \n",
       "42203           NaN           NaN       NaN  \n",
       "42204           NaN           NaN       NaN  \n",
       "42205           NaN           NaN       NaN  \n",
       "42206           NaN           NaN       NaN  \n",
       "\n",
       "[42207 rows x 5 columns]"
      ]
     },
     "execution_count": 11,
     "metadata": {},
     "output_type": "execute_result"
    }
   ],
   "source": [
    "resolved_names"
   ]
  },
  {
   "cell_type": "code",
   "execution_count": 25,
   "id": "0a55867a-7ead-423e-9e1c-e1cd2c8a3e82",
   "metadata": {},
   "outputs": [
    {
     "name": "stdout",
     "output_type": "stream",
     "text": [
      "# unresovled names = 14,868\n",
      "# resolved names = 4,432\n",
      "# unique resolved names = 3,677\n",
      "% coverage by name resolution = 29.81%\n"
     ]
    }
   ],
   "source": [
    "print(f\"# unresovled names = {unresolved_names.shape[0]:,}\")\n",
    "print(f\"# resolved names = {len(resolved_names.dropna(subset=['resolved_name']).original_name.unique()):,}\")\n",
    "print(f\"# unique resolved names = {len(resolved_names.dropna(subset=['resolved_name']).resolved_name.unique()):,}\")\n",
    "print(f\"% coverage by name resolution = {np.round(resolved_names.query('resolved_name.notna()').drop_duplicates(subset=['original_name']).shape[0]/unresolved_names.shape[0]*100,2)}%\")"
   ]
  },
  {
   "cell_type": "code",
   "execution_count": 27,
   "id": "26df381a-1eea-4149-b266-030b7261cfc8",
   "metadata": {},
   "outputs": [
    {
     "name": "stdout",
     "output_type": "stream",
     "text": [
      "# names resolved at genus level = 1,088\n"
     ]
    }
   ],
   "source": [
    "genus_names = resolved_names.loc[~resolved_names.resolved_name.str.contains(\" \", na=False), \"resolved_name\"].drop_duplicates().tolist()\n",
    "print(f\"# names resolved at genus level = {len(genus_names):,}\")"
   ]
  },
  {
   "cell_type": "code",
   "execution_count": 28,
   "id": "ec4787b9-be86-43b3-83fe-23ffe9e5d454",
   "metadata": {},
   "outputs": [],
   "source": [
    "resolved_names.reset_index(inplace=True)"
   ]
  },
  {
   "cell_type": "code",
   "execution_count": 29,
   "id": "003786cd-f3ca-4295-8549-7fa19be989b4",
   "metadata": {},
   "outputs": [
    {
     "name": "stdout",
     "output_type": "stream",
     "text": [
      "# missing names = 9,622\n"
     ]
    }
   ],
   "source": [
    "missing_names = resolved_names.query(\"resolved_name.isna()\").original_name.tolist()\n",
    "print(f\"# missing names = {len(missing_names):,}\")"
   ]
  },
  {
   "cell_type": "code",
   "execution_count": 30,
   "id": "58cccd15-5d2f-4cb7-bdc7-99b9eaeff9d8",
   "metadata": {},
   "outputs": [
    {
     "name": "stderr",
     "output_type": "stream",
     "text": [
      "/tmp/ipykernel_9578/1714739904.py:2: SettingWithCopyWarning: \n",
      "A value is trying to be set on a copy of a slice from a DataFrame.\n",
      "Try using .loc[row_indexer,col_indexer] = value instead\n",
      "\n",
      "See the caveats in the documentation: https://pandas.pydata.org/pandas-docs/stable/user_guide/indexing.html#returning-a-view-versus-a-copy\n",
      "  resolved_names_to_doc.original_name = resolved_names_to_doc.original_name.str.lower()\n",
      "/tmp/ipykernel_9578/1714739904.py:3: SettingWithCopyWarning: \n",
      "A value is trying to be set on a copy of a slice from a DataFrame.\n",
      "Try using .loc[row_indexer,col_indexer] = value instead\n",
      "\n",
      "See the caveats in the documentation: https://pandas.pydata.org/pandas-docs/stable/user_guide/indexing.html#returning-a-view-versus-a-copy\n",
      "  resolved_names_to_doc.matched_name = resolved_names_to_doc.matched_name.str.lower()\n",
      "/tmp/ipykernel_9578/1714739904.py:4: SettingWithCopyWarning: \n",
      "A value is trying to be set on a copy of a slice from a DataFrame.\n",
      "Try using .loc[row_indexer,col_indexer] = value instead\n",
      "\n",
      "See the caveats in the documentation: https://pandas.pydata.org/pandas-docs/stable/user_guide/indexing.html#returning-a-view-versus-a-copy\n",
      "  resolved_names_to_doc.resolved_name = resolved_names_to_doc.resolved_name.str.lower()\n"
     ]
    }
   ],
   "source": [
    "resolved_names_to_doc = resolved_names[[\"original_name\", \"matched_name\", \"resolved_name\"]]\n",
    "resolved_names_to_doc.original_name = resolved_names_to_doc.original_name.str.lower()\n",
    "resolved_names_to_doc.matched_name = resolved_names_to_doc.matched_name.str.lower()\n",
    "resolved_names_to_doc.resolved_name = resolved_names_to_doc.resolved_name.str.lower()"
   ]
  },
  {
   "cell_type": "code",
   "execution_count": 31,
   "id": "64ec9218-424b-4f83-8df1-a20fc565af9d",
   "metadata": {},
   "outputs": [
    {
     "name": "stderr",
     "output_type": "stream",
     "text": [
      "/tmp/ipykernel_9578/3777383490.py:1: DtypeWarning: Columns (5,6,7,8,9,10,12,14,15,24) have mixed types. Specify dtype option on import or set low_memory=False.\n",
      "  tax_data = pd.read_csv(tax_data_path)\n",
      "/tmp/ipykernel_9578/3777383490.py:3: SettingWithCopyWarning: \n",
      "A value is trying to be set on a copy of a slice from a DataFrame.\n",
      "Try using .loc[row_indexer,col_indexer] = value instead\n",
      "\n",
      "See the caveats in the documentation: https://pandas.pydata.org/pandas-docs/stable/user_guide/indexing.html#returning-a-view-versus-a-copy\n",
      "  tax_data[\"complete_name\"] = tax_data[\"complete_name\"].str.lower()\n"
     ]
    }
   ],
   "source": [
    "tax_data = pd.read_csv(tax_data_path)\n",
    "tax_data = tax_data[[\"complete_name\", \"rank_name\"]]\n",
    "tax_data[\"complete_name\"] = tax_data[\"complete_name\"].str.lower()"
   ]
  },
  {
   "cell_type": "code",
   "execution_count": 32,
   "id": "aded37eb-8a36-4cb8-8b90-f8df9b1bfe72",
   "metadata": {},
   "outputs": [],
   "source": [
    "resolved_names_to_doc = resolved_names_to_doc.merge(tax_data, left_on=\"resolved_name\", right_on=\"complete_name\", how=\"left\")\n",
    "resolved_names_to_doc.set_index(\"original_name\", inplace=True)\n",
    "resolved_names_to_doc.fillna(tax_data.set_index(\"complete_name\")[\"rank_name\"].to_dict(), inplace=True)\n",
    "resolved_names_to_doc.reset_index(inplace=True)\n",
    "resolved_names_to_doc.to_csv(resolved_names_path, index=False)"
   ]
  },
  {
   "cell_type": "code",
   "execution_count": 33,
   "id": "8db35c24-e477-4368-974f-c418f9c137fd",
   "metadata": {},
   "outputs": [],
   "source": [
    "resolved_names_to_doc = pd.read_csv(resolved_names_path)\n",
    "resolved_names_to_doc = resolved_names_to_doc.drop_duplicates()"
   ]
  },
  {
   "cell_type": "code",
   "execution_count": 34,
   "id": "feb02815-36b2-472d-a696-1699e3a13269",
   "metadata": {},
   "outputs": [
    {
     "name": "stdout",
     "output_type": "stream",
     "text": [
      "# unresovled names = 14,868\n",
      "# resolved names = 4,432\n",
      "# unique resolved names = 3,677\n",
      "% coverage by name resolution = 29.83%\n",
      "% records with available rank = 29.51%\n"
     ]
    }
   ],
   "source": [
    "print(f\"# unresovled names = {unresolved_names.shape[0]:,}\")\n",
    "print(f\"# resolved names = {len(resolved_names_to_doc.dropna(subset=['resolved_name']).original_name.unique()):,}\")\n",
    "print(f\"# unique resolved names = {len(resolved_names_to_doc.dropna(subset=['resolved_name']).resolved_name.unique()):,}\")\n",
    "print(f\"% coverage by name resolution = {np.round(resolved_names_to_doc.query('resolved_name.notna()').shape[0]/unresolved_names.shape[0]*100,2)}%\")\n",
    "print(f\"% records with available rank = {np.round(resolved_names_to_doc.query('rank_name.notna()').shape[0]/unresolved_names.shape[0]*100,2)}%\")"
   ]
  },
  {
   "cell_type": "code",
   "execution_count": 35,
   "id": "5719c341-342d-4826-820d-f3105763deb6",
   "metadata": {},
   "outputs": [
    {
     "data": {
      "text/plain": [
       "0.31947276434605304"
      ]
     },
     "execution_count": 35,
     "metadata": {},
     "output_type": "execute_result"
    }
   ],
   "source": [
    "resolved_names_to_doc.loc[(resolved_names_to_doc.rank_name.notna())].shape[0] / resolved_names_to_doc.shape[0]"
   ]
  },
  {
   "cell_type": "code",
   "execution_count": 36,
   "id": "8accb97e-0b98-487a-a3c2-dd196517f718",
   "metadata": {},
   "outputs": [
    {
     "name": "stdout",
     "output_type": "stream",
     "text": [
      "# unique pollinator names = 14,829\n"
     ]
    }
   ],
   "source": [
    "print(f\"# unique pollinator names = {len(unresolved_names.Name.unique()):,}\")"
   ]
  },
  {
   "cell_type": "code",
   "execution_count": 37,
   "id": "9415ba11-0b38-4b7e-9189-42456a0f3c85",
   "metadata": {},
   "outputs": [
    {
     "data": {
      "text/plain": [
       "rank_name\n",
       "Class             2\n",
       "Family          443\n",
       "Genus          1013\n",
       "Order            55\n",
       "Species        2784\n",
       "Subclass          2\n",
       "Subfamily        42\n",
       "Suborder          9\n",
       "Subtribe          2\n",
       "Superfamily      15\n",
       "Tribe            20\n",
       "Name: resolved_name, dtype: int64"
      ]
     },
     "execution_count": 37,
     "metadata": {},
     "output_type": "execute_result"
    }
   ],
   "source": [
    "test = resolved_names_to_doc.dropna(subset=[\"resolved_name\"])\n",
    "test.groupby(\"rank_name\")[\"resolved_name\"].count()"
   ]
  }
 ],
 "metadata": {
  "kernelspec": {
   "display_name": "Python 3 (ipykernel)",
   "language": "python",
   "name": "python3"
  },
  "language_info": {
   "codemirror_mode": {
    "name": "ipython",
    "version": 3
   },
   "file_extension": ".py",
   "mimetype": "text/x-python",
   "name": "python",
   "nbconvert_exporter": "python",
   "pygments_lexer": "ipython3",
   "version": "3.10.6"
  }
 },
 "nbformat": 4,
 "nbformat_minor": 5
}
