{
 "cells": [
  {
   "cell_type": "code",
   "execution_count": 1,
   "id": "1ba2eda3-bfa5-45fd-a600-0c817e00e552",
   "metadata": {},
   "outputs": [],
   "source": [
    "import pandas as pd\n",
    "import numpy as np\n",
    "import os\n",
    "import sys\n",
    "sys.path.append(\"../../code/data_processing/name_resolution/\")\n",
    "from resolved_names_curator import ResolvedNamesCurator"
   ]
  },
  {
   "cell_type": "code",
   "execution_count": 2,
   "id": "42654927-682f-4286-b445-2aa562f5e007",
   "metadata": {},
   "outputs": [],
   "source": [
    "unresolved_names_path=f\"../../data/name_resolution/unresolved_plant_names.csv\"\n",
    "resolved_names_path=f\"../../data/name_resolution/resolved_plant_names.csv\"\n",
    "\n",
    "unresolved_names = pd.read_csv(unresolved_names_path)\n",
    "resolved_names = pd.read_csv(resolved_names_path).rename(columns={\"Coded Name\": \"resolved_name\",\n",
    "                                                                  \"Original name\": \"original_name\",\n",
    "                                                                  \"Matched Name\": \"matched_name\",\n",
    "                                                                  \"Coded Authority\": \"authority\"})\n",
    "resolved_names.resolved_name = resolved_names.resolved_name.apply(lambda name: name.replace(\"_\", \" \") if pd.notna(name) else np.nan)\n",
    "resolved_names.loc[resolved_names.resolved_name.notna(), \"matched_name_wo_authority\"] = resolved_names.loc[resolved_names.resolved_name.notna()][[\"matched_name\", \"authority\"]].apply(lambda record: record.matched_name.replace(f\" {record.authority}\", \"\").replace(\" None\",\"\"), axis=1)"
   ]
  },
  {
   "cell_type": "code",
   "execution_count": 6,
   "id": "ece1e114-81b0-414a-a9cc-6a12fc2a4072",
   "metadata": {},
   "outputs": [
    {
     "name": "stdout",
     "output_type": "stream",
     "text": [
      "# unresovled names = 5,390\n",
      "# resolved names = 3,859\n",
      "% coverage by name resolution = 73.34%\n",
      "# resolved names that were declared as synonyms = 1,135\n"
     ]
    }
   ],
   "source": [
    "print(f\"# unresovled names = {unresolved_names.shape[0]:,}\")\n",
    "print(f\"# resolved names = {len(resolved_names.resolved_name.unique()):,}\")\n",
    "print(f\"% coverage by name resolution = {np.round(resolved_names.query('resolved_name.notna()').shape[0]/unresolved_names.shape[0]*100,2)}%\")\n",
    "print(f\"# resolved names that were declared as synonyms = {len(resolved_names.loc[resolved_names.matched_name_wo_authority != resolved_names.resolved_name].resolved_name.unique()):,}\")"
   ]
  },
  {
   "cell_type": "code",
   "execution_count": 7,
   "id": "3b664123-b381-4ba4-8eab-2aa4191985d6",
   "metadata": {},
   "outputs": [
    {
     "name": "stdout",
     "output_type": "stream",
     "text": [
      "# names resolved at genus level = 2,306\n"
     ]
    }
   ],
   "source": [
    "genus_names = resolved_names.loc[~resolved_names.resolved_name.str.contains(\" \", na=False), \"resolved_name\"].tolist()\n",
    "print(f\"# names resolved at genus level = {len(genus_names):,}\")"
   ]
  },
  {
   "cell_type": "code",
   "execution_count": 10,
   "id": "d2e52762-b12d-420b-9d52-c61f1eab522d",
   "metadata": {},
   "outputs": [],
   "source": [
    "resolved_names.reset_index(inplace=True)"
   ]
  },
  {
   "cell_type": "code",
   "execution_count": 11,
   "id": "eabfb047-b437-485b-af7f-f4267483b800",
   "metadata": {},
   "outputs": [
    {
     "name": "stdout",
     "output_type": "stream",
     "text": [
      "# missing names = 1,368\n"
     ]
    }
   ],
   "source": [
    "missing_names = resolved_names.query(\"resolved_name.isna()\").original_name.tolist()\n",
    "print(f\"# missing names = {len(missing_names):,}\")"
   ]
  },
  {
   "cell_type": "code",
   "execution_count": 13,
   "id": "635a748a-80e6-4206-a2c9-4428b0fa1309",
   "metadata": {},
   "outputs": [
    {
     "name": "stderr",
     "output_type": "stream",
     "text": [
      "/tmp/ipykernel_11363/3461428001.py:2: SettingWithCopyWarning: \n",
      "A value is trying to be set on a copy of a slice from a DataFrame.\n",
      "Try using .loc[row_indexer,col_indexer] = value instead\n",
      "\n",
      "See the caveats in the documentation: https://pandas.pydata.org/pandas-docs/stable/user_guide/indexing.html#returning-a-view-versus-a-copy\n",
      "  resolved_names_to_doc.original_name = resolved_names_to_doc.original_name.str.lower()\n",
      "/tmp/ipykernel_11363/3461428001.py:3: SettingWithCopyWarning: \n",
      "A value is trying to be set on a copy of a slice from a DataFrame.\n",
      "Try using .loc[row_indexer,col_indexer] = value instead\n",
      "\n",
      "See the caveats in the documentation: https://pandas.pydata.org/pandas-docs/stable/user_guide/indexing.html#returning-a-view-versus-a-copy\n",
      "  resolved_names_to_doc.matched_name = resolved_names_to_doc.matched_name.str.lower()\n",
      "/tmp/ipykernel_11363/3461428001.py:4: SettingWithCopyWarning: \n",
      "A value is trying to be set on a copy of a slice from a DataFrame.\n",
      "Try using .loc[row_indexer,col_indexer] = value instead\n",
      "\n",
      "See the caveats in the documentation: https://pandas.pydata.org/pandas-docs/stable/user_guide/indexing.html#returning-a-view-versus-a-copy\n",
      "  resolved_names_to_doc.resolved_name = resolved_names_to_doc.resolved_name.str.lower()\n"
     ]
    }
   ],
   "source": [
    "resolved_names_to_doc = resolved_names[[\"original_name\", \"matched_name\", \"resolved_name\"]]\n",
    "resolved_names_to_doc.original_name = resolved_names_to_doc.original_name.str.lower()\n",
    "resolved_names_to_doc.matched_name = resolved_names_to_doc.matched_name.str.lower()\n",
    "resolved_names_to_doc.resolved_name = resolved_names_to_doc.resolved_name.str.lower()\n",
    "resolved_names_to_doc.to_csv(resolved_names_path, index=False)"
   ]
  }
 ],
 "metadata": {
  "kernelspec": {
   "display_name": "Python 3 (ipykernel)",
   "language": "python",
   "name": "python3"
  },
  "language_info": {
   "codemirror_mode": {
    "name": "ipython",
    "version": 3
   },
   "file_extension": ".py",
   "mimetype": "text/x-python",
   "name": "python",
   "nbconvert_exporter": "python",
   "pygments_lexer": "ipython3",
   "version": "3.10.6"
  }
 },
 "nbformat": 4,
 "nbformat_minor": 5
}
