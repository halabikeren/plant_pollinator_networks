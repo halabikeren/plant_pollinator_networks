{
 "cells": [
  {
   "cell_type": "code",
   "execution_count": 1,
   "id": "1ba2eda3-bfa5-45fd-a600-0c817e00e552",
   "metadata": {},
   "outputs": [],
   "source": [
    "import pandas as pd\n",
    "import numpy as np\n",
    "import os\n",
    "import sys\n",
    "sys.path.append(\"../../code/data_processing/name_resolution/\")\n",
    "from resolved_names_curator import ResolvedNamesCurator"
   ]
  },
  {
   "cell_type": "code",
   "execution_count": 2,
   "id": "b4c650a6-8d7d-4ad3-a99f-1997dc62bd16",
   "metadata": {},
   "outputs": [],
   "source": [
    "networks_dir = f\"../../data/networks/all/\"\n",
    "networks_metadata_path = f\"../../data/networks/networks_metadata.csv\""
   ]
  },
  {
   "cell_type": "code",
   "execution_count": 3,
   "id": "f971f2ed-c2c0-4632-91c7-d3125104b28b",
   "metadata": {},
   "outputs": [],
   "source": [
    "networks_metadata = pd.read_csv(networks_metadata_path)\n",
    "networks_metadata[\"plants\"] = np.nan\n",
    "networks_metadata[\"pollinators\"] = np.nan\n",
    "\n",
    "for nt in [\"binary\", \"weighted\", \"binarized_weighted\"]:\n",
    "    for p in os.listdir(f\"{networks_dir}/{nt}/\"):\n",
    "        if not p.endswith(\".csv\"):\n",
    "            continue\n",
    "        ni = int(p.replace(\".csv\", \"\"))\n",
    "        net = pd.read_csv(f\"{networks_dir}/{nt}/{p}\")\n",
    "        plants = net.Plant.str.lower().tolist()\n",
    "        pollinators = [s.lower() for s in net.columns if s != \"Plant\"]\n",
    "        networks_metadata.loc[(networks_metadata.network_type == nt) & (networks_metadata.network_index == ni), \"plants\"] = str(plants)\n",
    "        networks_metadata.loc[(networks_metadata.network_type == nt) & (networks_metadata.network_index == ni), \"pollinators\"] = str(pollinators)"
   ]
  },
  {
   "cell_type": "code",
   "execution_count": 4,
   "id": "ad66dfd2-5201-4c51-a453-ec8aff77dc00",
   "metadata": {},
   "outputs": [],
   "source": [
    "def get_taxonomic_level(unresovled_names):\n",
    "    names = resolved_names.loc[resolved_names.original_name.isin(unresovled_names), \"resolved_name\"].dropna().unique()\n",
    "    if len(names) == 0:\n",
    "        return np.nan\n",
    "    for name in names:\n",
    "        if \" \" in name:\n",
    "            return \"species\"\n",
    "    return \"genus or above\""
   ]
  },
  {
   "cell_type": "markdown",
   "id": "047a05b3-a64c-4bd2-9ac7-792a1e02c2ce",
   "metadata": {
    "tags": []
   },
   "source": [
    "# plant name resolution"
   ]
  },
  {
   "cell_type": "code",
   "execution_count": 2,
   "id": "42654927-682f-4286-b445-2aa562f5e007",
   "metadata": {},
   "outputs": [],
   "source": [
    "unresolved_names_path=f\"../../data/name_resolution/unresolved_plant_names.csv\"\n",
    "resolved_names_path=f\"../../data/name_resolution/resolved_plant_names.csv\"\n",
    "\n",
    "unresolved_names = pd.read_csv(unresolved_names_path)\n",
    "resolved_names = pd.read_csv(resolved_names_path).rename(columns={\"Coded Name\": \"resolved_name\",\n",
    "                                                                  \"Original name\": \"original_name\",\n",
    "                                                                  \"Matched Name\": \"matched_name\",\n",
    "                                                                  \"Coded Authority\": \"authority\"})\n",
    "resolved_names.resolved_name = resolved_names.resolved_name.apply(lambda name: name.replace(\"_\", \" \") if pd.notna(name) else np.nan)\n",
    "try:\n",
    "    resolved_names.loc[resolved_names.resolved_name.notna(), \"matched_name_wo_authority\"] = resolved_names.loc[resolved_names.resolved_name.notna()][[\"matched_name\", \"authority\"]].apply(lambda record: record.matched_name.replace(f\" {record.authority}\", \"\").replace(\" None\",\"\"), axis=1)\n",
    "except:\n",
    "    pass"
   ]
  },
  {
   "cell_type": "code",
   "execution_count": 3,
   "id": "ece1e114-81b0-414a-a9cc-6a12fc2a4072",
   "metadata": {},
   "outputs": [
    {
     "name": "stdout",
     "output_type": "stream",
     "text": [
      "# unresovled names = 5,400\n",
      "# resolved names = 3,954\n",
      "# unique resolved names = 3,874\n",
      "% coverage by name resolution = 73.41%\n"
     ]
    }
   ],
   "source": [
    "print(f\"# unresovled names = {unresolved_names.shape[0]:,}\")\n",
    "print(f\"# resolved names = {len(resolved_names.dropna(subset=['resolved_name']).original_name.unique()):,}\")\n",
    "print(f\"# unique resolved names = {len(resolved_names.dropna(subset=['resolved_name']).resolved_name.unique()):,}\")\n",
    "print(f\"% coverage by name resolution = {np.round(resolved_names.query('resolved_name.notna()').shape[0]/unresolved_names.shape[0]*100,2)}%\")"
   ]
  },
  {
   "cell_type": "code",
   "execution_count": 4,
   "id": "3b664123-b381-4ba4-8eab-2aa4191985d6",
   "metadata": {},
   "outputs": [
    {
     "name": "stdout",
     "output_type": "stream",
     "text": [
      "# names resolved at genus level = 2,204\n"
     ]
    }
   ],
   "source": [
    "genus_names = resolved_names.loc[~resolved_names.resolved_name.str.contains(\" \", na=False), \"resolved_name\"].tolist()\n",
    "print(f\"# names resolved at genus level = {len(genus_names):,}\")"
   ]
  },
  {
   "cell_type": "markdown",
   "id": "dadc3085-cc5a-4ab5-b19f-9344c870fe0f",
   "metadata": {},
   "source": [
    "## compute taxonomic level of plants within the networks"
   ]
  },
  {
   "cell_type": "code",
   "execution_count": 37,
   "id": "25a5a040-496c-44ec-90e6-31ea397a93d1",
   "metadata": {},
   "outputs": [
    {
     "name": "stdout",
     "output_type": "stream",
     "text": [
      "number of networks with plants resovled at species level\n"
     ]
    },
    {
     "data": {
      "text/plain": [
       "network_type\n",
       "binarized_weighted    705\n",
       "binary                121\n",
       "weighted              705\n",
       "Name: network_index, dtype: int64"
      ]
     },
     "execution_count": 37,
     "metadata": {},
     "output_type": "execute_result"
    }
   ],
   "source": [
    "networks_metadata[\"plants_taxonomic_level\"] = networks_metadata.plants.apply(lambda plants: get_taxonomic_level([s.split(\"'\")[1] for s in plants.split(\",\")]))\n",
    "print(f\"number of networks with plants resovled at species level\")\n",
    "networks_metadata.query(\"plants_taxonomic_level == 'species'\").groupby(\"network_type\")[\"network_index\"].count()"
   ]
  },
  {
   "cell_type": "code",
   "execution_count": 38,
   "id": "d2e52762-b12d-420b-9d52-c61f1eab522d",
   "metadata": {},
   "outputs": [],
   "source": [
    "resolved_names.reset_index(inplace=True)"
   ]
  },
  {
   "cell_type": "code",
   "execution_count": 39,
   "id": "eabfb047-b437-485b-af7f-f4267483b800",
   "metadata": {},
   "outputs": [
    {
     "name": "stdout",
     "output_type": "stream",
     "text": [
      "# missing names = 1,266\n"
     ]
    }
   ],
   "source": [
    "missing_names = resolved_names.query(\"resolved_name.isna()\").original_name.tolist()\n",
    "print(f\"# missing names = {len(missing_names):,}\")"
   ]
  },
  {
   "cell_type": "code",
   "execution_count": 40,
   "id": "635a748a-80e6-4206-a2c9-4428b0fa1309",
   "metadata": {},
   "outputs": [
    {
     "name": "stderr",
     "output_type": "stream",
     "text": [
      "/tmp/ipykernel_30300/3461428001.py:2: SettingWithCopyWarning: \n",
      "A value is trying to be set on a copy of a slice from a DataFrame.\n",
      "Try using .loc[row_indexer,col_indexer] = value instead\n",
      "\n",
      "See the caveats in the documentation: https://pandas.pydata.org/pandas-docs/stable/user_guide/indexing.html#returning-a-view-versus-a-copy\n",
      "  resolved_names_to_doc.original_name = resolved_names_to_doc.original_name.str.lower()\n",
      "/tmp/ipykernel_30300/3461428001.py:3: SettingWithCopyWarning: \n",
      "A value is trying to be set on a copy of a slice from a DataFrame.\n",
      "Try using .loc[row_indexer,col_indexer] = value instead\n",
      "\n",
      "See the caveats in the documentation: https://pandas.pydata.org/pandas-docs/stable/user_guide/indexing.html#returning-a-view-versus-a-copy\n",
      "  resolved_names_to_doc.matched_name = resolved_names_to_doc.matched_name.str.lower()\n",
      "/tmp/ipykernel_30300/3461428001.py:4: SettingWithCopyWarning: \n",
      "A value is trying to be set on a copy of a slice from a DataFrame.\n",
      "Try using .loc[row_indexer,col_indexer] = value instead\n",
      "\n",
      "See the caveats in the documentation: https://pandas.pydata.org/pandas-docs/stable/user_guide/indexing.html#returning-a-view-versus-a-copy\n",
      "  resolved_names_to_doc.resolved_name = resolved_names_to_doc.resolved_name.str.lower()\n"
     ]
    }
   ],
   "source": [
    "resolved_names_to_doc = resolved_names[[\"original_name\", \"matched_name\", \"resolved_name\"]]\n",
    "resolved_names_to_doc.original_name = resolved_names_to_doc.original_name.str.lower()\n",
    "resolved_names_to_doc.matched_name = resolved_names_to_doc.matched_name.str.lower()\n",
    "resolved_names_to_doc.resolved_name = resolved_names_to_doc.resolved_name.str.lower()\n",
    "resolved_names_to_doc.to_csv(resolved_names_path, index=False)"
   ]
  },
  {
   "cell_type": "markdown",
   "id": "eae6fb33-e32f-458b-ba60-45274264f062",
   "metadata": {},
   "source": [
    "# pollinators name resolution"
   ]
  },
  {
   "cell_type": "code",
   "execution_count": 6,
   "id": "f6faa494-d1e6-4478-abc5-2b7a149c0c6b",
   "metadata": {},
   "outputs": [],
   "source": [
    "unresolved_names_path=f\"../../data/name_resolution/unresolved_pollinator_names.csv\"\n",
    "resolved_names_path=f\"../../data/name_resolution/resolved_pollinator_names.csv\"\n",
    "tax_data_path = \"../../data/name_resolution/itis_taxonomic_data.csv\"\n",
    "\n",
    "unresolved_names = pd.read_csv(unresolved_names_path)"
   ]
  },
  {
   "cell_type": "code",
   "execution_count": 7,
   "id": "7ca9b445-0fe3-40de-9fde-3f484275042a",
   "metadata": {},
   "outputs": [],
   "source": [
    "resolved_names = pd.read_csv(resolved_names_path).rename(columns={\"Coded Name\": \"resolved_name\",\n",
    "                                                                  \"Original name\": \"original_name\",\n",
    "                                                                  \"Matched Name\": \"matched_name\",\n",
    "                                                                  \"Coded Authority\": \"authority\"})\n",
    "resolved_names.resolved_name = resolved_names.resolved_name.apply(lambda name: name.replace(\"_\", \" \") if pd.notna(name) else np.nan)\n",
    "try:\n",
    "    resolved_names.loc[resolved_names.resolved_name.notna(), \"matched_name_wo_authority\"] = resolved_names.loc[resolved_names.resolved_name.notna()][[\"matched_name\", \"authority\"]].apply(lambda record: record.matched_name.replace(f\" {record.authority}\", \"\").replace(\" None\",\"\"), axis=1)\n",
    "except:\n",
    "    pass"
   ]
  },
  {
   "cell_type": "code",
   "execution_count": 8,
   "id": "0a55867a-7ead-423e-9e1c-e1cd2c8a3e82",
   "metadata": {},
   "outputs": [
    {
     "name": "stdout",
     "output_type": "stream",
     "text": [
      "# unresovled names = 15,073\n",
      "# resolved names = 4,486\n",
      "# unique resolved names = 3,725\n",
      "% coverage by name resolution = 29.76%\n"
     ]
    }
   ],
   "source": [
    "print(f\"# unresovled names = {unresolved_names.shape[0]:,}\")\n",
    "print(f\"# resolved names = {len(resolved_names.dropna(subset=['resolved_name']).original_name.unique()):,}\")\n",
    "print(f\"# unique resolved names = {len(resolved_names.dropna(subset=['resolved_name']).resolved_name.unique()):,}\")\n",
    "print(f\"% coverage by name resolution = {np.round(resolved_names.query('resolved_name.notna()').drop_duplicates(subset=['original_name']).shape[0]/unresolved_names.shape[0]*100,2)}%\")"
   ]
  },
  {
   "cell_type": "code",
   "execution_count": 9,
   "id": "26df381a-1eea-4149-b266-030b7261cfc8",
   "metadata": {},
   "outputs": [
    {
     "name": "stdout",
     "output_type": "stream",
     "text": [
      "# names resolved at genus level = 1,087\n"
     ]
    }
   ],
   "source": [
    "genus_names = resolved_names.loc[~resolved_names.resolved_name.str.contains(\" \", na=False), \"resolved_name\"].drop_duplicates().tolist()\n",
    "print(f\"# names resolved at genus level = {len(genus_names):,}\")"
   ]
  },
  {
   "cell_type": "code",
   "execution_count": 10,
   "id": "ec4787b9-be86-43b3-83fe-23ffe9e5d454",
   "metadata": {},
   "outputs": [],
   "source": [
    "resolved_names.reset_index(inplace=True)"
   ]
  },
  {
   "cell_type": "code",
   "execution_count": 11,
   "id": "003786cd-f3ca-4295-8549-7fa19be989b4",
   "metadata": {},
   "outputs": [
    {
     "name": "stdout",
     "output_type": "stream",
     "text": [
      "# missing names = 9,732\n"
     ]
    }
   ],
   "source": [
    "missing_names = resolved_names.query(\"resolved_name.isna()\").original_name.tolist()\n",
    "print(f\"# missing names = {len(missing_names):,}\")"
   ]
  },
  {
   "cell_type": "code",
   "execution_count": 12,
   "id": "a298d4d4-157e-49e8-967b-a61c276e9fdc",
   "metadata": {},
   "outputs": [
    {
     "name": "stdout",
     "output_type": "stream",
     "text": [
      "number of networks with pollinators resovled at species level\n"
     ]
    },
    {
     "data": {
      "text/plain": [
       "network_type\n",
       "binarized_weighted    691\n",
       "binary                137\n",
       "weighted              691\n",
       "Name: network_index, dtype: int64"
      ]
     },
     "execution_count": 12,
     "metadata": {},
     "output_type": "execute_result"
    }
   ],
   "source": [
    "networks_metadata[\"pollinators_taxonomic_level\"] = networks_metadata.pollinators.apply(lambda pollinators: get_taxonomic_level([s.replace(\"[\", \"\").replace(\"]\",\"\").replace(\"'\", \"\").strip() for s in pollinators.split(\"', '\")]))\n",
    "networks_metadata = networks_metadata.drop([\"plants\", \"pollinators\"], axis=1)\n",
    "print(f\"number of networks with pollinators resovled at species level\")\n",
    "networks_metadata.query(\"pollinators_taxonomic_level == 'species'\").groupby(\"network_type\")[\"network_index\"].count()"
   ]
  },
  {
   "cell_type": "code",
   "execution_count": 13,
   "id": "2b1b294a-97e4-4af2-8944-b13b10a12fb6",
   "metadata": {},
   "outputs": [
    {
     "name": "stdout",
     "output_type": "stream",
     "text": [
      "number of networks with plants and pollinators resovled at species level\n"
     ]
    },
    {
     "data": {
      "text/plain": [
       "network_type\n",
       "binarized_weighted    688\n",
       "binary                119\n",
       "weighted              688\n",
       "Name: network_index, dtype: int64"
      ]
     },
     "execution_count": 13,
     "metadata": {},
     "output_type": "execute_result"
    }
   ],
   "source": [
    "print(f\"number of networks with plants and pollinators resovled at species level\")\n",
    "networks_metadata.to_csv(networks_metadata_path, index=False)\n",
    "networks_metadata.loc[(networks_metadata.pollinators_taxonomic_level == 'species') & (networks_metadata.plants_taxonomic_level == 'species')].groupby(\"network_type\")[\"network_index\"].count()"
   ]
  },
  {
   "cell_type": "code",
   "execution_count": 14,
   "id": "58cccd15-5d2f-4cb7-bdc7-99b9eaeff9d8",
   "metadata": {},
   "outputs": [
    {
     "name": "stderr",
     "output_type": "stream",
     "text": [
      "/var/tmp/pbs.419017.power9.tau.ac.il/ipykernel_41544/1714739904.py:2: SettingWithCopyWarning: \n",
      "A value is trying to be set on a copy of a slice from a DataFrame.\n",
      "Try using .loc[row_indexer,col_indexer] = value instead\n",
      "\n",
      "See the caveats in the documentation: https://pandas.pydata.org/pandas-docs/stable/user_guide/indexing.html#returning-a-view-versus-a-copy\n",
      "  resolved_names_to_doc.original_name = resolved_names_to_doc.original_name.str.lower()\n",
      "/var/tmp/pbs.419017.power9.tau.ac.il/ipykernel_41544/1714739904.py:3: SettingWithCopyWarning: \n",
      "A value is trying to be set on a copy of a slice from a DataFrame.\n",
      "Try using .loc[row_indexer,col_indexer] = value instead\n",
      "\n",
      "See the caveats in the documentation: https://pandas.pydata.org/pandas-docs/stable/user_guide/indexing.html#returning-a-view-versus-a-copy\n",
      "  resolved_names_to_doc.matched_name = resolved_names_to_doc.matched_name.str.lower()\n",
      "/var/tmp/pbs.419017.power9.tau.ac.il/ipykernel_41544/1714739904.py:4: SettingWithCopyWarning: \n",
      "A value is trying to be set on a copy of a slice from a DataFrame.\n",
      "Try using .loc[row_indexer,col_indexer] = value instead\n",
      "\n",
      "See the caveats in the documentation: https://pandas.pydata.org/pandas-docs/stable/user_guide/indexing.html#returning-a-view-versus-a-copy\n",
      "  resolved_names_to_doc.resolved_name = resolved_names_to_doc.resolved_name.str.lower()\n"
     ]
    }
   ],
   "source": [
    "resolved_names_to_doc = resolved_names[[\"original_name\", \"matched_name\", \"resolved_name\"]]\n",
    "resolved_names_to_doc.original_name = resolved_names_to_doc.original_name.str.lower()\n",
    "resolved_names_to_doc.matched_name = resolved_names_to_doc.matched_name.str.lower()\n",
    "resolved_names_to_doc.resolved_name = resolved_names_to_doc.resolved_name.str.lower()"
   ]
  },
  {
   "cell_type": "code",
   "execution_count": 16,
   "id": "64ec9218-424b-4f83-8df1-a20fc565af9d",
   "metadata": {},
   "outputs": [
    {
     "name": "stderr",
     "output_type": "stream",
     "text": [
      "/var/tmp/pbs.419017.power9.tau.ac.il/ipykernel_41544/3777383490.py:1: DtypeWarning: Columns (5,6,7,8,9,10,12,14,15,24) have mixed types. Specify dtype option on import or set low_memory=False.\n",
      "  tax_data = pd.read_csv(tax_data_path)\n",
      "/var/tmp/pbs.419017.power9.tau.ac.il/ipykernel_41544/3777383490.py:3: SettingWithCopyWarning: \n",
      "A value is trying to be set on a copy of a slice from a DataFrame.\n",
      "Try using .loc[row_indexer,col_indexer] = value instead\n",
      "\n",
      "See the caveats in the documentation: https://pandas.pydata.org/pandas-docs/stable/user_guide/indexing.html#returning-a-view-versus-a-copy\n",
      "  tax_data[\"complete_name\"] = tax_data[\"complete_name\"].str.lower()\n"
     ]
    }
   ],
   "source": [
    "tax_data = pd.read_csv(tax_data_path)\n",
    "tax_data = tax_data[[\"complete_name\", \"rank_name\"]]\n",
    "tax_data[\"complete_name\"] = tax_data[\"complete_name\"].str.lower()"
   ]
  },
  {
   "cell_type": "code",
   "execution_count": 17,
   "id": "aded37eb-8a36-4cb8-8b90-f8df9b1bfe72",
   "metadata": {},
   "outputs": [],
   "source": [
    "resolved_names_to_doc = resolved_names_to_doc.merge(tax_data, left_on=\"resolved_name\", right_on=\"complete_name\", how=\"left\")\n",
    "resolved_names_to_doc.set_index(\"original_name\", inplace=True)\n",
    "resolved_names_to_doc.fillna(tax_data.set_index(\"complete_name\")[\"rank_name\"].to_dict(), inplace=True)\n",
    "resolved_names_to_doc.reset_index(inplace=True)\n",
    "resolved_names_to_doc.to_csv(resolved_names_path, index=False)"
   ]
  },
  {
   "cell_type": "code",
   "execution_count": 18,
   "id": "8db35c24-e477-4368-974f-c418f9c137fd",
   "metadata": {},
   "outputs": [],
   "source": [
    "resolved_names_to_doc = pd.read_csv(resolved_names_path)\n",
    "resolved_names_to_doc = resolved_names_to_doc.drop_duplicates()"
   ]
  },
  {
   "cell_type": "code",
   "execution_count": 19,
   "id": "feb02815-36b2-472d-a696-1699e3a13269",
   "metadata": {},
   "outputs": [
    {
     "name": "stdout",
     "output_type": "stream",
     "text": [
      "# unresovled names = 15,073\n",
      "# resolved names = 4,486\n",
      "# unique resolved names = 3,725\n",
      "% coverage by name resolution = 29.78%\n",
      "% records with available rank = 29.46%\n"
     ]
    }
   ],
   "source": [
    "print(f\"# unresovled names = {unresolved_names.shape[0]:,}\")\n",
    "print(f\"# resolved names = {len(resolved_names_to_doc.dropna(subset=['resolved_name']).original_name.unique()):,}\")\n",
    "print(f\"# unique resolved names = {len(resolved_names_to_doc.dropna(subset=['resolved_name']).resolved_name.unique()):,}\")\n",
    "print(f\"% coverage by name resolution = {np.round(resolved_names_to_doc.query('resolved_name.notna()').shape[0]/unresolved_names.shape[0]*100,2)}%\")\n",
    "print(f\"% records with available rank = {np.round(resolved_names_to_doc.query('rank_name.notna()').shape[0]/unresolved_names.shape[0]*100,2)}%\")"
   ]
  },
  {
   "cell_type": "code",
   "execution_count": 20,
   "id": "5719c341-342d-4826-820d-f3105763deb6",
   "metadata": {},
   "outputs": [
    {
     "data": {
      "text/plain": [
       "0.3205572397863433"
      ]
     },
     "execution_count": 20,
     "metadata": {},
     "output_type": "execute_result"
    }
   ],
   "source": [
    "resolved_names_to_doc.loc[(resolved_names_to_doc.rank_name.notna())].shape[0] / resolved_names_to_doc.shape[0]"
   ]
  },
  {
   "cell_type": "code",
   "execution_count": 36,
   "id": "958ab9b8-1e3c-412c-9474-952aa1b0f3dc",
   "metadata": {},
   "outputs": [
    {
     "data": {
      "text/plain": [
       "array([nan, 'Species', 'Genus', 'Order', 'Family', 'Subfamily', 'Tribe',\n",
       "       'Superfamily', 'Suborder', 'Subclass', 'Class'], dtype=object)"
      ]
     },
     "execution_count": 36,
     "metadata": {},
     "output_type": "execute_result"
    }
   ],
   "source": [
    "resolved_names_to_doc.rank_name.unique()"
   ]
  },
  {
   "cell_type": "code",
   "execution_count": 21,
   "id": "8accb97e-0b98-487a-a3c2-dd196517f718",
   "metadata": {},
   "outputs": [
    {
     "name": "stdout",
     "output_type": "stream",
     "text": [
      "# unique pollinator names = 15,033\n"
     ]
    }
   ],
   "source": [
    "print(f\"# unique pollinator names = {len(unresolved_names.Name.unique()):,}\")"
   ]
  },
  {
   "cell_type": "code",
   "execution_count": 50,
   "id": "9415ba11-0b38-4b7e-9189-42456a0f3c85",
   "metadata": {},
   "outputs": [
    {
     "data": {
      "text/plain": [
       "rank_name\n",
       "Class             2\n",
       "Family          443\n",
       "Genus          1014\n",
       "Order            55\n",
       "Species        2837\n",
       "Subclass          2\n",
       "Subfamily        41\n",
       "Suborder         10\n",
       "Superfamily      15\n",
       "Tribe            22\n",
       "Name: resolved_name, dtype: int64"
      ]
     },
     "execution_count": 50,
     "metadata": {},
     "output_type": "execute_result"
    }
   ],
   "source": [
    "test = resolved_names_to_doc.dropna(subset=[\"resolved_name\"])\n",
    "test.groupby(\"rank_name\")[\"resolved_name\"].count()"
   ]
  },
  {
   "cell_type": "markdown",
   "id": "5c498e4e-b6a2-4446-9e87-0039ee6a4919",
   "metadata": {},
   "source": [
    "## update networks pollinator indices"
   ]
  },
  {
   "cell_type": "code",
   "execution_count": 44,
   "id": "32c5e7f6-bf75-42c6-a73b-2ad7922697a2",
   "metadata": {},
   "outputs": [],
   "source": [
    "df = pd.read_csv(networks_metadata_path)"
   ]
  },
  {
   "cell_type": "code",
   "execution_count": 45,
   "id": "3c4c56e0-eb89-485d-bd6c-156f1f4b5a22",
   "metadata": {},
   "outputs": [],
   "source": [
    "rank_name_to_index= {'Species': 0, 'Genus': 1, 'Subfamily': 2, 'Family': 3,  'Superfamily': 4, 'Suborder': 5, 'Order': 6, 'Subclass': 7, 'Class': 8, 'Tribe': 9, np.nan: 10}\n",
    "resolved_names_to_doc[\"rank_index\"] = resolved_names_to_doc.rank_name.replace(rank_name_to_index)\n",
    "\n",
    "def get_pollinators_ranks(path: str):\n",
    "    network = pd.read_csv(path)\n",
    "    pollinators =  [s.lower() for s in set(network.columns)-{\"Unnamed: 0\", \"Plant\"}]\n",
    "    resolved_pollinators_ranks = resolved_names_to_doc.loc[resolved_names_to_doc.original_name.isin(pollinators)][[\"rank_name\", \"rank_index\"]].sort_values(\"rank_index\")\n",
    "    if resolved_pollinators_ranks.shape[0] == 0:\n",
    "        return np.nan, 10\n",
    "    rec = resolved_pollinators_ranks.iloc[0]\n",
    "    return rec.rank_name, rec.rank_index\n",
    "    \n",
    "df[[\"lowest_pollinator_rank_name\", \"lowest_pollinator_rank_index\"]] = df.apply(lambda rec: get_pollinators_ranks(rec.processed_path), axis=1, result_type=\"expand\")"
   ]
  },
  {
   "cell_type": "code",
   "execution_count": 47,
   "id": "517c4ae2-04e6-40f3-a59d-43fea5d163e4",
   "metadata": {},
   "outputs": [
    {
     "data": {
      "text/html": [
       "<div>\n",
       "<style scoped>\n",
       "    .dataframe tbody tr th:only-of-type {\n",
       "        vertical-align: middle;\n",
       "    }\n",
       "\n",
       "    .dataframe tbody tr th {\n",
       "        vertical-align: top;\n",
       "    }\n",
       "\n",
       "    .dataframe thead th {\n",
       "        text-align: right;\n",
       "    }\n",
       "</style>\n",
       "<table border=\"1\" class=\"dataframe\">\n",
       "  <thead>\n",
       "    <tr style=\"text-align: right;\">\n",
       "      <th></th>\n",
       "      <th>network_type</th>\n",
       "      <th>network_index</th>\n",
       "      <th>lowest_pollinator_rank_name</th>\n",
       "      <th>highest_pollinator_rank_name</th>\n",
       "      <th>lowest_pollinator_rank_index</th>\n",
       "      <th>highest_pollinator_rank_index</th>\n",
       "    </tr>\n",
       "  </thead>\n",
       "  <tbody>\n",
       "    <tr>\n",
       "      <th>0</th>\n",
       "      <td>binarized_weighted</td>\n",
       "      <td>0</td>\n",
       "      <td>Family</td>\n",
       "      <td>Family</td>\n",
       "      <td>3.0</td>\n",
       "      <td>6.0</td>\n",
       "    </tr>\n",
       "    <tr>\n",
       "      <th>1</th>\n",
       "      <td>binarized_weighted</td>\n",
       "      <td>1</td>\n",
       "      <td>Family</td>\n",
       "      <td>Family</td>\n",
       "      <td>3.0</td>\n",
       "      <td>6.0</td>\n",
       "    </tr>\n",
       "    <tr>\n",
       "      <th>2</th>\n",
       "      <td>binarized_weighted</td>\n",
       "      <td>2</td>\n",
       "      <td>Family</td>\n",
       "      <td>Family</td>\n",
       "      <td>3.0</td>\n",
       "      <td>6.0</td>\n",
       "    </tr>\n",
       "    <tr>\n",
       "      <th>3</th>\n",
       "      <td>binarized_weighted</td>\n",
       "      <td>3</td>\n",
       "      <td>Family</td>\n",
       "      <td>Family</td>\n",
       "      <td>3.0</td>\n",
       "      <td>6.0</td>\n",
       "    </tr>\n",
       "    <tr>\n",
       "      <th>4</th>\n",
       "      <td>binarized_weighted</td>\n",
       "      <td>4</td>\n",
       "      <td>Family</td>\n",
       "      <td>Family</td>\n",
       "      <td>3.0</td>\n",
       "      <td>6.0</td>\n",
       "    </tr>\n",
       "  </tbody>\n",
       "</table>\n",
       "</div>"
      ],
      "text/plain": [
       "         network_type  network_index lowest_pollinator_rank_name  \\\n",
       "0  binarized_weighted              0                      Family   \n",
       "1  binarized_weighted              1                      Family   \n",
       "2  binarized_weighted              2                      Family   \n",
       "3  binarized_weighted              3                      Family   \n",
       "4  binarized_weighted              4                      Family   \n",
       "\n",
       "  highest_pollinator_rank_name  lowest_pollinator_rank_index  \\\n",
       "0                       Family                           3.0   \n",
       "1                       Family                           3.0   \n",
       "2                       Family                           3.0   \n",
       "3                       Family                           3.0   \n",
       "4                       Family                           3.0   \n",
       "\n",
       "   highest_pollinator_rank_index  \n",
       "0                            6.0  \n",
       "1                            6.0  \n",
       "2                            6.0  \n",
       "3                            6.0  \n",
       "4                            6.0  "
      ]
     },
     "execution_count": 47,
     "metadata": {},
     "output_type": "execute_result"
    }
   ],
   "source": [
    "df[[\"network_type\", \"network_index\", \"lowest_pollinator_rank_name\", \"highest_pollinator_rank_name\", \"lowest_pollinator_rank_index\", \"highest_pollinator_rank_index\"]].head()"
   ]
  },
  {
   "cell_type": "code",
   "execution_count": 52,
   "id": "4d7fea59-d0b5-4000-b5ce-706a10a9ca3e",
   "metadata": {},
   "outputs": [],
   "source": [
    "df = df.drop([\"highest_pollinator_rank_name\", \"highest_pollinator_rank_index\"], axis=1).rename(columns={\"lowest_pollinator_rank_name\": \"pollinators_rank_name\",\n",
    "                                                                                                        \"lowest_pollinator_rank_index\": \"pollinators_rank_index\"})\n",
    "df.to_csv(networks_metadata_path, index=False)"
   ]
  }
 ],
 "metadata": {
  "kernelspec": {
   "display_name": "Python 3 (ipykernel)",
   "language": "python",
   "name": "python3"
  },
  "language_info": {
   "codemirror_mode": {
    "name": "ipython",
    "version": 3
   },
   "file_extension": ".py",
   "mimetype": "text/x-python",
   "name": "python",
   "nbconvert_exporter": "python",
   "pygments_lexer": "ipython3",
   "version": "3.10.6"
  }
 },
 "nbformat": 4,
 "nbformat_minor": 5
}
