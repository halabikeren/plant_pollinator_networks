{
 "cells": [
  {
   "cell_type": "code",
   "execution_count": 2,
   "id": "1ba2eda3-bfa5-45fd-a600-0c817e00e552",
   "metadata": {},
   "outputs": [],
   "source": [
    "import pandas as pd\n",
    "import numpy as np\n",
    "import os\n",
    "import sys\n",
    "sys.path.append(\"../../code/data_processing/name_resolution/\")\n",
    "from resolved_names_curator import ResolvedNamesCurator"
   ]
  },
  {
   "cell_type": "markdown",
   "id": "047a05b3-a64c-4bd2-9ac7-792a1e02c2ce",
   "metadata": {},
   "source": [
    "# plant name resolution"
   ]
  },
  {
   "cell_type": "code",
   "execution_count": 2,
   "id": "42654927-682f-4286-b445-2aa562f5e007",
   "metadata": {},
   "outputs": [],
   "source": [
    "unresolved_names_path=f\"../../data/name_resolution/unresolved_plant_names.csv\"\n",
    "resolved_names_path=f\"../../data/name_resolution/resolved_plant_names.csv\"\n",
    "\n",
    "unresolved_names = pd.read_csv(unresolved_names_path)\n",
    "resolved_names = pd.read_csv(resolved_names_path).rename(columns={\"Coded Name\": \"resolved_name\",\n",
    "                                                                  \"Original name\": \"original_name\",\n",
    "                                                                  \"Matched Name\": \"matched_name\",\n",
    "                                                                  \"Coded Authority\": \"authority\"})\n",
    "resolved_names.resolved_name = resolved_names.resolved_name.apply(lambda name: name.replace(\"_\", \" \") if pd.notna(name) else np.nan)\n",
    "try:\n",
    "    resolved_names.loc[resolved_names.resolved_name.notna(), \"matched_name_wo_authority\"] = resolved_names.loc[resolved_names.resolved_name.notna()][[\"matched_name\", \"authority\"]].apply(lambda record: record.matched_name.replace(f\" {record.authority}\", \"\").replace(\" None\",\"\"), axis=1)\n",
    "except:\n",
    "    pass"
   ]
  },
  {
   "cell_type": "code",
   "execution_count": 3,
   "id": "ece1e114-81b0-414a-a9cc-6a12fc2a4072",
   "metadata": {},
   "outputs": [
    {
     "name": "stdout",
     "output_type": "stream",
     "text": [
      "# unresovled names = 5,400\n",
      "# resolved names = 3,954\n",
      "# unique resolved names = 3,874\n",
      "% coverage by name resolution = 73.41%\n"
     ]
    }
   ],
   "source": [
    "print(f\"# unresovled names = {unresolved_names.shape[0]:,}\")\n",
    "print(f\"# resolved names = {len(resolved_names.dropna(subset=['resolved_name']).original_name.unique()):,}\")\n",
    "print(f\"# unique resolved names = {len(resolved_names.dropna(subset=['resolved_name']).resolved_name.unique()):,}\")\n",
    "print(f\"% coverage by name resolution = {np.round(resolved_names.query('resolved_name.notna()').shape[0]/unresolved_names.shape[0]*100,2)}%\")"
   ]
  },
  {
   "cell_type": "code",
   "execution_count": 4,
   "id": "3b664123-b381-4ba4-8eab-2aa4191985d6",
   "metadata": {},
   "outputs": [
    {
     "name": "stdout",
     "output_type": "stream",
     "text": [
      "# names resolved at genus level = 2,204\n"
     ]
    }
   ],
   "source": [
    "genus_names = resolved_names.loc[~resolved_names.resolved_name.str.contains(\" \", na=False), \"resolved_name\"].tolist()\n",
    "print(f\"# names resolved at genus level = {len(genus_names):,}\")"
   ]
  },
  {
   "cell_type": "code",
   "execution_count": 5,
   "id": "d2e52762-b12d-420b-9d52-c61f1eab522d",
   "metadata": {},
   "outputs": [],
   "source": [
    "resolved_names.reset_index(inplace=True)"
   ]
  },
  {
   "cell_type": "code",
   "execution_count": 6,
   "id": "eabfb047-b437-485b-af7f-f4267483b800",
   "metadata": {},
   "outputs": [
    {
     "name": "stdout",
     "output_type": "stream",
     "text": [
      "# missing names = 1,266\n"
     ]
    }
   ],
   "source": [
    "missing_names = resolved_names.query(\"resolved_name.isna()\").original_name.tolist()\n",
    "print(f\"# missing names = {len(missing_names):,}\")"
   ]
  },
  {
   "cell_type": "code",
   "execution_count": 7,
   "id": "635a748a-80e6-4206-a2c9-4428b0fa1309",
   "metadata": {},
   "outputs": [
    {
     "name": "stderr",
     "output_type": "stream",
     "text": [
      "/tmp/ipykernel_6539/3461428001.py:2: SettingWithCopyWarning: \n",
      "A value is trying to be set on a copy of a slice from a DataFrame.\n",
      "Try using .loc[row_indexer,col_indexer] = value instead\n",
      "\n",
      "See the caveats in the documentation: https://pandas.pydata.org/pandas-docs/stable/user_guide/indexing.html#returning-a-view-versus-a-copy\n",
      "  resolved_names_to_doc.original_name = resolved_names_to_doc.original_name.str.lower()\n",
      "/tmp/ipykernel_6539/3461428001.py:3: SettingWithCopyWarning: \n",
      "A value is trying to be set on a copy of a slice from a DataFrame.\n",
      "Try using .loc[row_indexer,col_indexer] = value instead\n",
      "\n",
      "See the caveats in the documentation: https://pandas.pydata.org/pandas-docs/stable/user_guide/indexing.html#returning-a-view-versus-a-copy\n",
      "  resolved_names_to_doc.matched_name = resolved_names_to_doc.matched_name.str.lower()\n",
      "/tmp/ipykernel_6539/3461428001.py:4: SettingWithCopyWarning: \n",
      "A value is trying to be set on a copy of a slice from a DataFrame.\n",
      "Try using .loc[row_indexer,col_indexer] = value instead\n",
      "\n",
      "See the caveats in the documentation: https://pandas.pydata.org/pandas-docs/stable/user_guide/indexing.html#returning-a-view-versus-a-copy\n",
      "  resolved_names_to_doc.resolved_name = resolved_names_to_doc.resolved_name.str.lower()\n"
     ]
    }
   ],
   "source": [
    "resolved_names_to_doc = resolved_names[[\"original_name\", \"matched_name\", \"resolved_name\"]]\n",
    "resolved_names_to_doc.original_name = resolved_names_to_doc.original_name.str.lower()\n",
    "resolved_names_to_doc.matched_name = resolved_names_to_doc.matched_name.str.lower()\n",
    "resolved_names_to_doc.resolved_name = resolved_names_to_doc.resolved_name.str.lower()\n",
    "resolved_names_to_doc.to_csv(resolved_names_path, index=False)"
   ]
  },
  {
   "cell_type": "markdown",
   "id": "eae6fb33-e32f-458b-ba60-45274264f062",
   "metadata": {},
   "source": [
    "# pollinators name resolution"
   ]
  },
  {
   "cell_type": "code",
   "execution_count": 3,
   "id": "f6faa494-d1e6-4478-abc5-2b7a149c0c6b",
   "metadata": {},
   "outputs": [],
   "source": [
    "unresolved_names_path=f\"../../data/name_resolution/unresolved_pollinator_names.csv\"\n",
    "resolved_names_path=f\"../../data/name_resolution/resolved_pollinator_names.csv\"\n",
    "tax_data_path = \"../../data/name_resolution/itis_taxonomic_data.csv\"\n",
    "\n",
    "unresolved_names = pd.read_csv(unresolved_names_path)"
   ]
  },
  {
   "cell_type": "code",
   "execution_count": 4,
   "id": "7ca9b445-0fe3-40de-9fde-3f484275042a",
   "metadata": {},
   "outputs": [],
   "source": [
    "resolved_names = pd.read_csv(resolved_names_path).rename(columns={\"Coded Name\": \"resolved_name\",\n",
    "                                                                  \"Original name\": \"original_name\",\n",
    "                                                                  \"Matched Name\": \"matched_name\",\n",
    "                                                                  \"Coded Authority\": \"authority\"})\n",
    "resolved_names.resolved_name = resolved_names.resolved_name.apply(lambda name: name.replace(\"_\", \" \") if pd.notna(name) else np.nan)\n",
    "try:\n",
    "    resolved_names.loc[resolved_names.resolved_name.notna(), \"matched_name_wo_authority\"] = resolved_names.loc[resolved_names.resolved_name.notna()][[\"matched_name\", \"authority\"]].apply(lambda record: record.matched_name.replace(f\" {record.authority}\", \"\").replace(\" None\",\"\"), axis=1)\n",
    "except:\n",
    "    pass"
   ]
  },
  {
   "cell_type": "code",
   "execution_count": 5,
   "id": "0a55867a-7ead-423e-9e1c-e1cd2c8a3e82",
   "metadata": {},
   "outputs": [
    {
     "name": "stdout",
     "output_type": "stream",
     "text": [
      "# unresovled names = 15,073\n",
      "# resolved names = 4,486\n",
      "# unique resolved names = 3,725\n",
      "% coverage by name resolution = 29.76%\n"
     ]
    }
   ],
   "source": [
    "print(f\"# unresovled names = {unresolved_names.shape[0]:,}\")\n",
    "print(f\"# resolved names = {len(resolved_names.dropna(subset=['resolved_name']).original_name.unique()):,}\")\n",
    "print(f\"# unique resolved names = {len(resolved_names.dropna(subset=['resolved_name']).resolved_name.unique()):,}\")\n",
    "print(f\"% coverage by name resolution = {np.round(resolved_names.query('resolved_name.notna()').drop_duplicates(subset=['original_name']).shape[0]/unresolved_names.shape[0]*100,2)}%\")"
   ]
  },
  {
   "cell_type": "code",
   "execution_count": 6,
   "id": "26df381a-1eea-4149-b266-030b7261cfc8",
   "metadata": {},
   "outputs": [
    {
     "name": "stdout",
     "output_type": "stream",
     "text": [
      "# names resolved at genus level = 1,087\n"
     ]
    }
   ],
   "source": [
    "genus_names = resolved_names.loc[~resolved_names.resolved_name.str.contains(\" \", na=False), \"resolved_name\"].drop_duplicates().tolist()\n",
    "print(f\"# names resolved at genus level = {len(genus_names):,}\")"
   ]
  },
  {
   "cell_type": "code",
   "execution_count": 7,
   "id": "ec4787b9-be86-43b3-83fe-23ffe9e5d454",
   "metadata": {},
   "outputs": [],
   "source": [
    "resolved_names.reset_index(inplace=True)"
   ]
  },
  {
   "cell_type": "code",
   "execution_count": 8,
   "id": "003786cd-f3ca-4295-8549-7fa19be989b4",
   "metadata": {},
   "outputs": [
    {
     "name": "stdout",
     "output_type": "stream",
     "text": [
      "# missing names = 9,732\n"
     ]
    }
   ],
   "source": [
    "missing_names = resolved_names.query(\"resolved_name.isna()\").original_name.tolist()\n",
    "print(f\"# missing names = {len(missing_names):,}\")"
   ]
  },
  {
   "cell_type": "code",
   "execution_count": 9,
   "id": "58cccd15-5d2f-4cb7-bdc7-99b9eaeff9d8",
   "metadata": {},
   "outputs": [
    {
     "name": "stderr",
     "output_type": "stream",
     "text": [
      "/tmp/ipykernel_1270/1714739904.py:2: SettingWithCopyWarning: \n",
      "A value is trying to be set on a copy of a slice from a DataFrame.\n",
      "Try using .loc[row_indexer,col_indexer] = value instead\n",
      "\n",
      "See the caveats in the documentation: https://pandas.pydata.org/pandas-docs/stable/user_guide/indexing.html#returning-a-view-versus-a-copy\n",
      "  resolved_names_to_doc.original_name = resolved_names_to_doc.original_name.str.lower()\n",
      "/tmp/ipykernel_1270/1714739904.py:3: SettingWithCopyWarning: \n",
      "A value is trying to be set on a copy of a slice from a DataFrame.\n",
      "Try using .loc[row_indexer,col_indexer] = value instead\n",
      "\n",
      "See the caveats in the documentation: https://pandas.pydata.org/pandas-docs/stable/user_guide/indexing.html#returning-a-view-versus-a-copy\n",
      "  resolved_names_to_doc.matched_name = resolved_names_to_doc.matched_name.str.lower()\n",
      "/tmp/ipykernel_1270/1714739904.py:4: SettingWithCopyWarning: \n",
      "A value is trying to be set on a copy of a slice from a DataFrame.\n",
      "Try using .loc[row_indexer,col_indexer] = value instead\n",
      "\n",
      "See the caveats in the documentation: https://pandas.pydata.org/pandas-docs/stable/user_guide/indexing.html#returning-a-view-versus-a-copy\n",
      "  resolved_names_to_doc.resolved_name = resolved_names_to_doc.resolved_name.str.lower()\n"
     ]
    }
   ],
   "source": [
    "resolved_names_to_doc = resolved_names[[\"original_name\", \"matched_name\", \"resolved_name\"]]\n",
    "resolved_names_to_doc.original_name = resolved_names_to_doc.original_name.str.lower()\n",
    "resolved_names_to_doc.matched_name = resolved_names_to_doc.matched_name.str.lower()\n",
    "resolved_names_to_doc.resolved_name = resolved_names_to_doc.resolved_name.str.lower()"
   ]
  },
  {
   "cell_type": "code",
   "execution_count": 10,
   "id": "64ec9218-424b-4f83-8df1-a20fc565af9d",
   "metadata": {},
   "outputs": [
    {
     "name": "stderr",
     "output_type": "stream",
     "text": [
      "/tmp/ipykernel_1270/3777383490.py:1: DtypeWarning: Columns (5,6,7,8,9,10,12,14,15,24) have mixed types. Specify dtype option on import or set low_memory=False.\n",
      "  tax_data = pd.read_csv(tax_data_path)\n",
      "/tmp/ipykernel_1270/3777383490.py:3: SettingWithCopyWarning: \n",
      "A value is trying to be set on a copy of a slice from a DataFrame.\n",
      "Try using .loc[row_indexer,col_indexer] = value instead\n",
      "\n",
      "See the caveats in the documentation: https://pandas.pydata.org/pandas-docs/stable/user_guide/indexing.html#returning-a-view-versus-a-copy\n",
      "  tax_data[\"complete_name\"] = tax_data[\"complete_name\"].str.lower()\n"
     ]
    }
   ],
   "source": [
    "tax_data = pd.read_csv(tax_data_path)\n",
    "tax_data = tax_data[[\"complete_name\", \"rank_name\"]]\n",
    "tax_data[\"complete_name\"] = tax_data[\"complete_name\"].str.lower()"
   ]
  },
  {
   "cell_type": "code",
   "execution_count": 11,
   "id": "aded37eb-8a36-4cb8-8b90-f8df9b1bfe72",
   "metadata": {},
   "outputs": [],
   "source": [
    "resolved_names_to_doc = resolved_names_to_doc.merge(tax_data, left_on=\"resolved_name\", right_on=\"complete_name\", how=\"left\")\n",
    "resolved_names_to_doc.set_index(\"original_name\", inplace=True)\n",
    "resolved_names_to_doc.fillna(tax_data.set_index(\"complete_name\")[\"rank_name\"].to_dict(), inplace=True)\n",
    "resolved_names_to_doc.reset_index(inplace=True)\n",
    "resolved_names_to_doc.to_csv(resolved_names_path, index=False)"
   ]
  },
  {
   "cell_type": "code",
   "execution_count": 12,
   "id": "8db35c24-e477-4368-974f-c418f9c137fd",
   "metadata": {},
   "outputs": [],
   "source": [
    "resolved_names_to_doc = pd.read_csv(resolved_names_path)\n",
    "resolved_names_to_doc = resolved_names_to_doc.drop_duplicates()"
   ]
  },
  {
   "cell_type": "code",
   "execution_count": 13,
   "id": "feb02815-36b2-472d-a696-1699e3a13269",
   "metadata": {},
   "outputs": [
    {
     "name": "stdout",
     "output_type": "stream",
     "text": [
      "# unresovled names = 15,073\n",
      "# resolved names = 4,486\n",
      "# unique resolved names = 3,725\n",
      "% coverage by name resolution = 29.78%\n",
      "% records with available rank = 29.46%\n"
     ]
    }
   ],
   "source": [
    "print(f\"# unresovled names = {unresolved_names.shape[0]:,}\")\n",
    "print(f\"# resolved names = {len(resolved_names_to_doc.dropna(subset=['resolved_name']).original_name.unique()):,}\")\n",
    "print(f\"# unique resolved names = {len(resolved_names_to_doc.dropna(subset=['resolved_name']).resolved_name.unique()):,}\")\n",
    "print(f\"% coverage by name resolution = {np.round(resolved_names_to_doc.query('resolved_name.notna()').shape[0]/unresolved_names.shape[0]*100,2)}%\")\n",
    "print(f\"% records with available rank = {np.round(resolved_names_to_doc.query('rank_name.notna()').shape[0]/unresolved_names.shape[0]*100,2)}%\")"
   ]
  },
  {
   "cell_type": "code",
   "execution_count": 14,
   "id": "5719c341-342d-4826-820d-f3105763deb6",
   "metadata": {},
   "outputs": [
    {
     "data": {
      "text/plain": [
       "0.3205572397863433"
      ]
     },
     "execution_count": 14,
     "metadata": {},
     "output_type": "execute_result"
    }
   ],
   "source": [
    "resolved_names_to_doc.loc[(resolved_names_to_doc.rank_name.notna())].shape[0] / resolved_names_to_doc.shape[0]"
   ]
  },
  {
   "cell_type": "code",
   "execution_count": 15,
   "id": "8accb97e-0b98-487a-a3c2-dd196517f718",
   "metadata": {},
   "outputs": [
    {
     "name": "stdout",
     "output_type": "stream",
     "text": [
      "# unique pollinator names = 15,033\n"
     ]
    }
   ],
   "source": [
    "print(f\"# unique pollinator names = {len(unresolved_names.Name.unique()):,}\")"
   ]
  },
  {
   "cell_type": "code",
   "execution_count": 16,
   "id": "9415ba11-0b38-4b7e-9189-42456a0f3c85",
   "metadata": {},
   "outputs": [
    {
     "data": {
      "text/plain": [
       "rank_name\n",
       "Class             2\n",
       "Family          443\n",
       "Genus          1014\n",
       "Order            55\n",
       "Species        2837\n",
       "Subclass          2\n",
       "Subfamily        41\n",
       "Suborder         10\n",
       "Superfamily      15\n",
       "Tribe            22\n",
       "Name: resolved_name, dtype: int64"
      ]
     },
     "execution_count": 16,
     "metadata": {},
     "output_type": "execute_result"
    }
   ],
   "source": [
    "test = resolved_names_to_doc.dropna(subset=[\"resolved_name\"])\n",
    "test.groupby(\"rank_name\")[\"resolved_name\"].count()"
   ]
  },
  {
   "cell_type": "code",
   "execution_count": 20,
   "id": "32c5e7f6-bf75-42c6-a73b-2ad7922697a2",
   "metadata": {},
   "outputs": [
    {
     "name": "stderr",
     "output_type": "stream",
     "text": [
      "/tmp/ipykernel_1270/3335845958.py:1: DtypeWarning: Columns (8,9,10,11,12,13,15,16,17,18,19,20,35,37,39,40,41,63,98) have mixed types. Specify dtype option on import or set low_memory=False.\n",
      "  df = pd.read_csv(\"/groups/itay_mayrose/halabikeren/plant_pollinator_networks/data/networks/all/networks_metadata.csv\")\n"
     ]
    }
   ],
   "source": [
    "df = pd.read_csv(\"/groups/itay_mayrose/halabikeren/plant_pollinator_networks/data/networks/all/networks_metadata.csv\")"
   ]
  },
  {
   "cell_type": "code",
   "execution_count": 21,
   "id": "3c4c56e0-eb89-485d-bd6c-156f1f4b5a22",
   "metadata": {},
   "outputs": [
    {
     "data": {
      "text/html": [
       "<div>\n",
       "<style scoped>\n",
       "    .dataframe tbody tr th:only-of-type {\n",
       "        vertical-align: middle;\n",
       "    }\n",
       "\n",
       "    .dataframe tbody tr th {\n",
       "        vertical-align: top;\n",
       "    }\n",
       "\n",
       "    .dataframe thead th {\n",
       "        text-align: right;\n",
       "    }\n",
       "</style>\n",
       "<table border=\"1\" class=\"dataframe\">\n",
       "  <thead>\n",
       "    <tr style=\"text-align: right;\">\n",
       "      <th></th>\n",
       "      <th>num_pollinators</th>\n",
       "      <th>highest_pollinator_rank_index</th>\n",
       "      <th>highest_pollinator_rank_name</th>\n",
       "    </tr>\n",
       "  </thead>\n",
       "  <tbody>\n",
       "    <tr>\n",
       "      <th>0</th>\n",
       "      <td>20.0</td>\n",
       "      <td>6.0</td>\n",
       "      <td>Family</td>\n",
       "    </tr>\n",
       "    <tr>\n",
       "      <th>1</th>\n",
       "      <td>20.0</td>\n",
       "      <td>6.0</td>\n",
       "      <td>Family</td>\n",
       "    </tr>\n",
       "    <tr>\n",
       "      <th>2</th>\n",
       "      <td>20.0</td>\n",
       "      <td>6.0</td>\n",
       "      <td>Family</td>\n",
       "    </tr>\n",
       "    <tr>\n",
       "      <th>3</th>\n",
       "      <td>20.0</td>\n",
       "      <td>6.0</td>\n",
       "      <td>Family</td>\n",
       "    </tr>\n",
       "    <tr>\n",
       "      <th>4</th>\n",
       "      <td>20.0</td>\n",
       "      <td>6.0</td>\n",
       "      <td>Family</td>\n",
       "    </tr>\n",
       "  </tbody>\n",
       "</table>\n",
       "</div>"
      ],
      "text/plain": [
       "   num_pollinators  highest_pollinator_rank_index highest_pollinator_rank_name\n",
       "0             20.0                            6.0                       Family\n",
       "1             20.0                            6.0                       Family\n",
       "2             20.0                            6.0                       Family\n",
       "3             20.0                            6.0                       Family\n",
       "4             20.0                            6.0                       Family"
      ]
     },
     "execution_count": 21,
     "metadata": {},
     "output_type": "execute_result"
    }
   ],
   "source": [
    "df.head().filter(like=\"pollin\")"
   ]
  },
  {
   "cell_type": "code",
   "execution_count": 24,
   "id": "4d7fea59-d0b5-4000-b5ce-706a10a9ca3e",
   "metadata": {},
   "outputs": [
    {
     "data": {
      "text/plain": [
       "239"
      ]
     },
     "execution_count": 24,
     "metadata": {},
     "output_type": "execute_result"
    }
   ],
   "source": [
    "df.loc[(df.highest_pollinator_rank_name != 'Species') & (df.network_type != \"binarized_weighted\")].drop_duplicates([\"network_type\",\t\"network_index\"]).shape[0]"
   ]
  },
  {
   "cell_type": "code",
   "execution_count": 27,
   "id": "79e30059-de3a-4a5c-8f9c-2f068692c20a",
   "metadata": {},
   "outputs": [
    {
     "data": {
      "text/plain": [
       "network_type\n",
       "binary       80\n",
       "weighted    643\n",
       "Name: network_index, dtype: int64"
      ]
     },
     "execution_count": 27,
     "metadata": {},
     "output_type": "execute_result"
    }
   ],
   "source": [
    "df.loc[(df.num_classified > 0) & (df.network_type != \"binarized_weighted\")].drop_duplicates([\"network_type\",\t\"network_index\"]).groupby(\"network_type\").network_index.count()"
   ]
  },
  {
   "cell_type": "code",
   "execution_count": null,
   "id": "8a38de4b-b713-4710-9df0-ad70d77f08f7",
   "metadata": {},
   "outputs": [],
   "source": []
  }
 ],
 "metadata": {
  "kernelspec": {
   "display_name": "Python 3 (ipykernel)",
   "language": "python",
   "name": "python3"
  },
  "language_info": {
   "codemirror_mode": {
    "name": "ipython",
    "version": 3
   },
   "file_extension": ".py",
   "mimetype": "text/x-python",
   "name": "python",
   "nbconvert_exporter": "python",
   "pygments_lexer": "ipython3",
   "version": "3.10.6"
  }
 },
 "nbformat": 4,
 "nbformat_minor": 5
}
