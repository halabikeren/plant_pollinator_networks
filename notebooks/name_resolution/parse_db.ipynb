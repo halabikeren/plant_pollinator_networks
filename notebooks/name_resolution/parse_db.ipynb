{
 "cells": [
  {
   "cell_type": "code",
   "execution_count": 2,
   "id": "09fb359e-bac8-4f6c-9193-f4696a33a158",
   "metadata": {},
   "outputs": [
    {
     "name": "stderr",
     "output_type": "stream",
     "text": [
      "Python-dotenv could not parse statement starting at line 4\n"
     ]
    },
    {
     "name": "stdout",
     "output_type": "stream",
     "text": [
      "INFO: Pandarallel will run on 5 workers.\n",
      "INFO: Pandarallel will use standard multiprocessing data transfer (pipe) to transfer data between the main process and workers.\n"
     ]
    }
   ],
   "source": [
    "import pandas as pd\n",
    "import numpy as np\n",
    "import sqlite3\n",
    "import os\n",
    "\n",
    "import sys\n",
    "sys.path.append(\"../../code/data_processing/\")\n",
    "import taxonomy"
   ]
  },
  {
   "cell_type": "markdown",
   "id": "4bc59b7c-e013-4e3d-9601-414d90ae0271",
   "metadata": {},
   "source": [
    "# parse WFO"
   ]
  },
  {
   "cell_type": "code",
   "execution_count": 3,
   "id": "9ba6cd33-2d97-412d-85a7-bc44aab03d66",
   "metadata": {},
   "outputs": [],
   "source": [
    "version = \"v.1.12\"\n",
    "name_resolution_dir = f\"../../data/name_resolution/\"\n",
    "db_dir = f\"{name_resolution_dir}/\"\n",
    "if not os.path.exists(db_dir):\n",
    "    if not os.path.exists(f\"{name_resolution_dir}WFOTaxonomicBackbone_v.1.12_20221221.zip\"):\n",
    "        res = os.system(f\"cd {name_resolution_dir};wget http://104.198.143.165/files/WFO_Backbone/_WFOCompleteBackbone/archive/WFOTaxonomicBackbone_v.1.12_20221221.zip\")\n",
    "if len(os.listdir(db_dir)) == 0:\n",
    "    res = os.system(f\"unzip {name_resolution_dir}WFOTaxonomicBackbone_v.1.12_20221221 {db_dir}\")\n",
    "\n",
    "zip_paths = [p for p in os.listdir(db_dir) if p.endswith('.zip') or p.endswith(\".gz\")]\n",
    "input_path = f\"{db_dir}classification.txt\" #if version != \"current\" else f\"{db_dir}030_name_matching_big.csv\"\n",
    "db_path = f\"{name_resolution_dir}wfo.db\"\n",
    "\n",
    "required_cols = [\"Specie\", \"Author\", \"Accepted_Specie\", \"Accepted_author\", \"Status\"]\n",
    "table_names = [\"Accepted_Names\", \"Synonym_Names\", \"Unresolved_Names\"]"
   ]
  },
  {
   "cell_type": "code",
   "execution_count": 12,
   "id": "27adcce3-c8e9-49b2-a31b-5a289950b2cb",
   "metadata": {},
   "outputs": [],
   "source": [
    "for zip_path in zip_paths:\n",
    "    res = os.system(f\"cd {db_dir}; {'unzip' if zip_path.endswith('zip') else 'gzip -d'} {zip_path}\")"
   ]
  },
  {
   "cell_type": "code",
   "execution_count": 13,
   "id": "5aab3b61-2638-4702-84b9-1b847d280618",
   "metadata": {},
   "outputs": [],
   "source": [
    "classification = pd.read_csv(input_path, sep=\"\\t\" if version != \"current\" else \",\", on_bad_lines=\"skip\", low_memory=False, encoding = \"ISO-8859-1\")\n",
    "taxon_id_col = [c for c in classification.columns if c.endswith(\"taxonID\")][0]\n",
    "classification.rename(columns={\"scientificName\": \"Specie\",\n",
    "                                \"scientificNameAuthorship\" :\"Author\",\n",
    "                                \"taxonomicStatus\": \"Status\",\n",
    "                                taxon_id_col: \"taxonID\"}, inplace=True)\n",
    "\n",
    "classification.replace({\"accepted\": \"ACCEPTED\", \"synonym\": \"SYNONYM\", \"unplaced\": \"UNRESOLVED\"}, inplace=True)\n",
    "\n",
    "if \"acceptedNameUsageID\" in classification.columns:\n",
    "    id_to_name = classification.set_index(\"taxonID\")[\"Specie\"].to_dict()\n",
    "    id_to_author = classification.set_index(\"taxonID\")[\"Author\"].to_dict()\n",
    "    classification[\"Accepted_Specie\"] = classification.apply(lambda record: id_to_name.get(record.acceptedNameUsageID, np.nan) if pd.notna(record.acceptedNameUsageID) else record.Specie, axis=1)\n",
    "    classification[\"Accepted_author\"] = classification.apply(lambda record: id_to_author.get(record.acceptedNameUsageID, np.nan) if pd.notna(record.acceptedNameUsageID) else record.Author, axis=1)      \n",
    "\n",
    "classification[\"New_status\"] = classification[[\"Specie\", \"Accepted_Specie\", \"Status\"]].apply(lambda record: \"ACCEPTED\" if record.Specie == record.Accepted_Specie else record.Status, axis=1)"
   ]
  },
  {
   "cell_type": "code",
   "execution_count": 14,
   "id": "4265c345-ac7d-4568-b0eb-832d46a33034",
   "metadata": {},
   "outputs": [],
   "source": [
    "classification[\"New_status\"] = classification[[\"Specie\", \"Accepted_Specie\", \"Status\"]].apply(lambda record: \"ACCEPTED\" if record.Specie == record.Accepted_Specie else record.Status, axis=1)"
   ]
  },
  {
   "cell_type": "markdown",
   "id": "68448bef-c990-444b-9de0-a6c031816806",
   "metadata": {},
   "source": [
    "curate based on two known discrepancies with the webserver"
   ]
  },
  {
   "cell_type": "code",
   "execution_count": 15,
   "id": "12f7312a-4a70-4ca7-97f8-2916e10ed83b",
   "metadata": {},
   "outputs": [],
   "source": [
    "test_1_success = \"wfo-0000154982\" not in classification.taxonID.tolist()\n",
    "test_2_success = classification.loc[classification.taxonID == \"wfo-0000409033\", \"Status\"].values[0] == \"SYNONYM\"\n",
    "inconsistent_db = not test_1_success or not test_2_success\n",
    "if inconsistent_db:\n",
    "    print(\"warning! db exhibits inconsistencies with the web-server\")"
   ]
  },
  {
   "cell_type": "markdown",
   "id": "3fc03b3a-b189-4d5d-8e8b-0f26aff46de9",
   "metadata": {},
   "source": [
    "write database"
   ]
  },
  {
   "cell_type": "code",
   "execution_count": 16,
   "id": "4596f1e5-ff0e-4ab4-9d70-2e0239fc7f9f",
   "metadata": {},
   "outputs": [
    {
     "name": "stdout",
     "output_type": "stream",
     "text": [
      "# accepted records = 444,571\n",
      "# synonym records = 827,578\n",
      "# unresolved records = 152,912\n"
     ]
    }
   ],
   "source": [
    "accepted = classification.loc[classification.Status == \"ACCEPTED\"]\n",
    "synonyms = classification.loc[classification.Status == \"SYNONYM\"]\n",
    "unres = classification.loc[~classification.Status.isin([\"ACCEPTED\", \"SYNONYM\"])]\n",
    "print(f\"# accepted records = {accepted.shape[0]:,}\\n# synonym records = {synonyms.shape[0]:,}\\n# unresolved records = {unres.shape[0]:,}\")"
   ]
  },
  {
   "cell_type": "code",
   "execution_count": null,
   "id": "f914333f-5fac-4e2c-be29-9a854be69dad",
   "metadata": {},
   "outputs": [],
   "source": [
    "if not os.path.exists(db_path):\n",
    "    con = sqlite3.connect(db_path)\n",
    "    accepted.to_sql(name=\"Accepted_Names\", con=con)\n",
    "    synonyms.to_sql(name=\"Synonym_Names\", con=con)\n",
    "    unres.to_sql(name=\"Unresolved_Names\", con=con)\n",
    "    con.close()"
   ]
  },
  {
   "cell_type": "markdown",
   "id": "f29251b2-7878-48e0-bd40-20e869a40212",
   "metadata": {},
   "source": [
    "# parse ITIS"
   ]
  },
  {
   "cell_type": "code",
   "execution_count": 79,
   "id": "20061b41-3eda-477a-b6f5-11227a3ae89a",
   "metadata": {},
   "outputs": [],
   "source": [
    "itis_db_path = \"../../data/name_resolution/itisSqlite042623/ITIS.sqlite\"\n",
    "itis_processed_db_path = \"../../data/name_resolution/itis.db\"\n",
    "connection = sqlite3.connect(itis_db_path)"
   ]
  },
  {
   "cell_type": "code",
   "execution_count": 27,
   "id": "750f0b5a-148b-461b-8a4e-b3d1f78365fe",
   "metadata": {},
   "outputs": [
    {
     "name": "stdout",
     "output_type": "stream",
     "text": [
      "[('HierarchyToRank',), ('change_comments',), ('change_operations',), ('change_tracks',), ('chg_operation_lkp',), ('comments',), ('experts',), ('geographic_div',), ('hierarchy',), ('jurisdiction',), ('kingdoms',), ('longnames',), ('nodc_ids',), ('other_sources',), ('publications',), ('reference_links',), ('reviews',), ('strippedauthor',), ('synonym_links',), ('taxon_authors_lkp',), ('taxon_unit_types',), ('taxonomic_units',), ('tu_comments_links',), ('vern_ref_links',), ('vernaculars',)]\n"
     ]
    }
   ],
   "source": [
    "cursor = connection.cursor()\n",
    "cursor.execute(\"SELECT name FROM sqlite_master WHERE type='table';\")\n",
    "print(cursor.fetchall())"
   ]
  },
  {
   "cell_type": "code",
   "execution_count": 18,
   "id": "4844da6f-56f0-4a9c-b606-fac257a8eda5",
   "metadata": {},
   "outputs": [
    {
     "data": {
      "text/plain": [
       "5"
      ]
     },
     "execution_count": 18,
     "metadata": {},
     "output_type": "execute_result"
    }
   ],
   "source": [
    "# relevant polllinator kingdoms: Insecta,  Metazoa \n",
    "kingdoms_query = (f\"SELECT * FROM kingdoms\")\n",
    "kingdoms_data = pd.read_sql_query(kingdoms_query, connection)\n",
    "relevant_kingdom_id = kingdoms_data.query(\"kingdom_name == 'Animalia'\").kingdom_id.values[0]\n",
    "relevant_kingdom_id"
   ]
  },
  {
   "cell_type": "code",
   "execution_count": 20,
   "id": "9e40d015-705e-43db-86c6-b61287dd34cb",
   "metadata": {},
   "outputs": [],
   "source": [
    "taxonomic_units_query = f\"SELECT * FROM taxonomic_units WHERE kingdom_id IS {relevant_kingdom_id}\"\n",
    "taxonomic_units_data = pd.read_sql_query(taxonomic_units_query, connection)\n",
    "taxonomic_units_data.complete_name = taxonomic_units_data.complete_name.str.capitalize()"
   ]
  },
  {
   "cell_type": "code",
   "execution_count": 35,
   "id": "e94b7bf3-77d2-4327-a83b-3f53570828f4",
   "metadata": {},
   "outputs": [],
   "source": [
    "tax_author_q = f\"SELECT * FROM taxon_authors_lkp WHERE  kingdom_id IS {relevant_kingdom_id}\"\n",
    "tax_authors_data = pd.read_sql_query(tax_author_q, connection)\n",
    "taxonomic_units_data = taxonomic_units_data.merge(tax_authors_data, on=\"taxon_author_id\", how=\"left\")"
   ]
  },
  {
   "cell_type": "code",
   "execution_count": 59,
   "id": "ba542153-c442-47dc-abcc-4806fd95fb71",
   "metadata": {},
   "outputs": [],
   "source": [
    "rank_data_q = f\"SELECT * FROM taxon_unit_types\"\n",
    "rank_data = pd.read_sql_query(rank_data_q, connection)\n",
    "taxonomic_units_data = taxonomic_units_data.merge(rank_data, on=\"rank_id\", how=\"left\")"
   ]
  },
  {
   "cell_type": "code",
   "execution_count": 100,
   "id": "6e11295a-69f3-4e6d-b12d-8919ec7f21d2",
   "metadata": {},
   "outputs": [],
   "source": [
    "taxonomic_units_data.to_csv(\"../../data/name_resolution/itis_taxonomic_data.csv\")"
   ]
  },
  {
   "cell_type": "code",
   "execution_count": 94,
   "id": "08f4c23d-03fe-4355-87e9-d5490a5323ed",
   "metadata": {},
   "outputs": [],
   "source": [
    "accepted_names = taxonomic_units_data.query(\"unaccept_reason.isna()\")#[[\"complete_name\", \"taxon_author\", \"\n",
    "synonym_names = taxonomic_units_data.loc[taxonomic_units_data.unaccept_reason.isin(['junior synonym', 'junior homonym', 'unnecessary replacement'])]\n",
    "unresolved_names = taxonomic_units_data.loc[(~taxonomic_units_data.unaccept_reason.isin(['junior synonym', 'junior homonym', 'unnecessary replacement'])) & (taxonomic_units_data.unaccept_reason.notna())]"
   ]
  },
  {
   "cell_type": "code",
   "execution_count": 95,
   "id": "3006cd00-b8ca-42bf-97be-8a67d2d6e078",
   "metadata": {},
   "outputs": [],
   "source": [
    "itis_to_tpl_col_names = {\"complete_name\": \"Specie\", \"taxon_author\": \"Author\", \"unaccept_reason\": \"Status\"}\n",
    "accepted_names = accepted_names.rename(columns=itis_to_tpl_col_names)\n",
    "accepted_names[\"Accepted_Specie\"] = accepted_names[\"Specie\"]\n",
    "accepted_names[\"Accepted_author\"] = accepted_names[\"Author\"]\n",
    "accepted_names[\"Status\"] = accepted_names[\"Status\"].fillna(\"accepted\")"
   ]
  },
  {
   "cell_type": "code",
   "execution_count": 96,
   "id": "329abc7a-0476-4c7a-8a7c-a893ba333731",
   "metadata": {},
   "outputs": [],
   "source": [
    "synonym_names = synonym_names.rename(columns=itis_to_tpl_col_names)\n",
    "synonym_names[\"Accepted_Specie\"] = synonym_names[\"Specie\"]\n",
    "synonym_names[\"Accepted_author\"] = synonym_names[\"Author\"]\n",
    "\n",
    "unresolved_names = unresolved_names.rename(columns=itis_to_tpl_col_names)\n",
    "unresolved_names[\"Accepted_Specie\"] = unresolved_names[\"Specie\"]\n",
    "unresolved_names[\"Accepted_author\"] = unresolved_names[\"Author\"]"
   ]
  },
  {
   "cell_type": "code",
   "execution_count": 99,
   "id": "aef1f5a0-0218-478d-92fd-729bdda4c187",
   "metadata": {
    "tags": []
   },
   "outputs": [],
   "source": [
    "if not os.path.exists(itis_processed_db_path):\n",
    "    con = sqlite3.connect(itis_processed_db_path)\n",
    "    accepted_names[[\"Specie\", \"Author\", \"Accepted_Specie\", \"Accepted_author\", \"Status\", \"rank_name\"]].to_sql(name=\"Accepted_Names\", con=con)\n",
    "    synonym_names[[\"Specie\", \"Author\", \"Accepted_Specie\", \"Accepted_author\", \"Status\", \"rank_name\"]].to_sql(name=\"Synonym_Names\", con=con)\n",
    "    unresolved_names[[\"Specie\", \"Author\", \"Accepted_Specie\", \"Accepted_author\", \"Status\", \"rank_name\"]].to_sql(name=\"Unresolved_Names\", con=con)\n",
    "    con.close()"
   ]
  },
  {
   "cell_type": "code",
   "execution_count": null,
   "id": "ad4b9011-40b7-4be3-8516-836b69697d25",
   "metadata": {},
   "outputs": [],
   "source": []
  }
 ],
 "metadata": {
  "kernelspec": {
   "display_name": "Python 3 (ipykernel)",
   "language": "python",
   "name": "python3"
  },
  "language_info": {
   "codemirror_mode": {
    "name": "ipython",
    "version": 3
   },
   "file_extension": ".py",
   "mimetype": "text/x-python",
   "name": "python",
   "nbconvert_exporter": "python",
   "pygments_lexer": "ipython3",
   "version": "3.10.6"
  }
 },
 "nbformat": 4,
 "nbformat_minor": 5
}
