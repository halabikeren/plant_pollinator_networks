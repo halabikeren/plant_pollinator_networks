{
 "cells": [
  {
   "cell_type": "code",
   "execution_count": 15,
   "id": "6e5648c6-47b8-470b-a8a4-201b02300150",
   "metadata": {},
   "outputs": [],
   "source": [
    "import pandas as pd\n",
    "import os"
   ]
  },
  {
   "cell_type": "code",
   "execution_count": 16,
   "id": "645b6235-ef62-436e-b3cd-1bd25859e620",
   "metadata": {},
   "outputs": [
    {
     "name": "stdout",
     "output_type": "stream",
     "text": [
      "# networks = 719\n"
     ]
    }
   ],
   "source": [
    "networks_dir = \"../../data/networks/all/\"\n",
    "network_types = [\"binary\", \"weighted\"]\n",
    "network_paths = []\n",
    "for nt in network_types:\n",
    "    networks_subdir = f\"{networks_dir}{nt}/\"\n",
    "    for path in os.listdir(networks_subdir):\n",
    "        if path.endswith(\".csv\"):\n",
    "            network_paths.append(f\"{networks_subdir}{path}\")\n",
    "print(f\"# networks = {len(network_paths):,}\")"
   ]
  },
  {
   "cell_type": "markdown",
   "id": "c082f4fb-b03b-4e55-b919-e2110e9421a6",
   "metadata": {},
   "source": [
    "# plant names"
   ]
  },
  {
   "cell_type": "code",
   "execution_count": 17,
   "id": "9102203c-f854-4e8e-a7f4-82bb95666c1e",
   "metadata": {},
   "outputs": [
    {
     "name": "stdout",
     "output_type": "stream",
     "text": [
      "# vertices = 13,894\n",
      "# unresolved names = 5,334\n"
     ]
    }
   ],
   "source": [
    "species = []\n",
    "for path in network_paths:\n",
    "    net = pd.read_csv(path).rename(columns={\"Unnamed: 0\": \"Plant\"}).set_index(\"Plant\")\n",
    "    species += net.index.str.capitalize().tolist()\n",
    "print(f\"# vertices = {len(species):,}\")\n",
    "species = list(set(species))\n",
    "print(f\"# unresolved names = {len(species):,}\")"
   ]
  },
  {
   "cell_type": "code",
   "execution_count": 18,
   "id": "8114facd-0b3c-41ff-b76e-ed6642a3aabf",
   "metadata": {},
   "outputs": [],
   "source": [
    "pd.DataFrame({\"Name\": species, \"Id\": range(len(species))}).to_csv(\"../../data/name_resolution/unresolved_plant_names.csv\", index=False)"
   ]
  },
  {
   "cell_type": "markdown",
   "id": "ec928188-d2d5-4064-a2a4-4dd6b24bb1d8",
   "metadata": {},
   "source": [
    "# pollinator names"
   ]
  },
  {
   "cell_type": "code",
   "execution_count": 19,
   "id": "f00278dc-4f24-4333-839a-ad729bb47095",
   "metadata": {},
   "outputs": [
    {
     "name": "stdout",
     "output_type": "stream",
     "text": [
      "# vertices = 33,590\n",
      "# unresolved names = 14,868\n"
     ]
    }
   ],
   "source": [
    "species = []\n",
    "for path in network_paths:\n",
    "    net = pd.read_csv(path).rename(columns={\"Unnamed: 0\": \"Plant\"}).set_index(\"Plant\")\n",
    "    species += net.columns.tolist()\n",
    "print(f\"# vertices = {len(species):,}\")\n",
    "species = list(set(species))\n",
    "print(f\"# unresolved names = {len(species):,}\")"
   ]
  },
  {
   "cell_type": "code",
   "execution_count": 20,
   "id": "ec7cca12-094b-4f42-a2e8-7c4df1e5c828",
   "metadata": {},
   "outputs": [],
   "source": [
    "pd.DataFrame({\"Name\": pd.Series(species).str.capitalize(), \"Id\": range(len(species))}).to_csv(\"../../data/name_resolution/unresolved_pollinator_names.csv\", index=False)"
   ]
  },
  {
   "cell_type": "code",
   "execution_count": null,
   "id": "493fe1ba-22d5-4f4c-917a-7a4232952726",
   "metadata": {},
   "outputs": [],
   "source": []
  },
  {
   "cell_type": "code",
   "execution_count": null,
   "id": "082d29ea-645f-422a-995e-11637a6e80b4",
   "metadata": {},
   "outputs": [],
   "source": []
  },
  {
   "cell_type": "code",
   "execution_count": 22,
   "id": "68509c52-62f9-4536-8b02-bafcea44151f",
   "metadata": {},
   "outputs": [],
   "source": [
    "networks_metadata = pd.read_csv(\"../../data/networks/all/networks_metadata.csv\")"
   ]
  },
  {
   "cell_type": "code",
   "execution_count": 31,
   "id": "343dcaa7-2fda-4850-8b94-30d5cdcdd411",
   "metadata": {},
   "outputs": [],
   "source": [
    "rel_networks_metadata = networks_metadata.query(\"is_parsed_legal\")"
   ]
  },
  {
   "cell_type": "code",
   "execution_count": 32,
   "id": "78c664bc-6fbe-439e-a318-324fdb91fe2b",
   "metadata": {},
   "outputs": [],
   "source": [
    "rel_networks_metadata = rel_networks_metadata.query(\"network_type.isin(['binary', 'weighted'])\")"
   ]
  },
  {
   "cell_type": "code",
   "execution_count": 38,
   "id": "add57b46-8b1a-4597-85dc-3710a60e4cee",
   "metadata": {},
   "outputs": [
    {
     "data": {
      "text/plain": [
       "181"
      ]
     },
     "execution_count": 38,
     "metadata": {},
     "output_type": "execute_result"
    }
   ],
   "source": [
    "rel_networks_metadata.query(\"network_type == 'binary'\").shape[0]"
   ]
  },
  {
   "cell_type": "code",
   "execution_count": null,
   "id": "c3466d7d-18d2-47fc-b9ac-f14464f47055",
   "metadata": {},
   "outputs": [],
   "source": []
  }
 ],
 "metadata": {
  "kernelspec": {
   "display_name": "Python 3 (ipykernel)",
   "language": "python",
   "name": "python3"
  },
  "language_info": {
   "codemirror_mode": {
    "name": "ipython",
    "version": 3
   },
   "file_extension": ".py",
   "mimetype": "text/x-python",
   "name": "python",
   "nbconvert_exporter": "python",
   "pygments_lexer": "ipython3",
   "version": "3.10.6"
  }
 },
 "nbformat": 4,
 "nbformat_minor": 5
}
