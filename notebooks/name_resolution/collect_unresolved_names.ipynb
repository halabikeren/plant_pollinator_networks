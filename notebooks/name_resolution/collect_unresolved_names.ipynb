{
 "cells": [
  {
   "cell_type": "code",
   "execution_count": 1,
   "id": "6e5648c6-47b8-470b-a8a4-201b02300150",
   "metadata": {},
   "outputs": [],
   "source": [
    "import pandas as pd\n",
    "import os"
   ]
  },
  {
   "cell_type": "code",
   "execution_count": 4,
   "id": "645b6235-ef62-436e-b3cd-1bd25859e620",
   "metadata": {},
   "outputs": [
    {
     "name": "stdout",
     "output_type": "stream",
     "text": [
      "# networks = 719\n"
     ]
    }
   ],
   "source": [
    "networks_dir = \"./data/networks/all/\"\n",
    "network_types = [\"binary\", \"weighted\"]\n",
    "network_paths = []\n",
    "for nt in network_types:\n",
    "    networks_subdir = f\"{networks_dir}{nt}/\"\n",
    "    for path in os.listdir(networks_subdir):\n",
    "        if path.endswith(\".csv\"):\n",
    "            network_paths.append(f\"{networks_subdir}{path}\")\n",
    "print(f\"# networks = {len(network_paths):,}\")"
   ]
  },
  {
   "cell_type": "code",
   "execution_count": 5,
   "id": "9102203c-f854-4e8e-a7f4-82bb95666c1e",
   "metadata": {},
   "outputs": [
    {
     "name": "stdout",
     "output_type": "stream",
     "text": [
      "# unresolved names = 5,310\n"
     ]
    }
   ],
   "source": [
    "species = []\n",
    "for path in network_paths:\n",
    "    species += pd.read_csv(path).Plant.tolist()\n",
    "species = list(set(species))\n",
    "print(f\"# unresolved names = {len(species):,}\")"
   ]
  },
  {
   "cell_type": "code",
   "execution_count": 7,
   "id": "8114facd-0b3c-41ff-b76e-ed6642a3aabf",
   "metadata": {},
   "outputs": [],
   "source": [
    "pd.DataFrame({\"Name\": species}).to_csv(\"./data/unresolved_plant_names.csv\", index=False)"
   ]
  }
 ],
 "metadata": {
  "kernelspec": {
   "display_name": "Python 3 (ipykernel)",
   "language": "python",
   "name": "python3"
  },
  "language_info": {
   "codemirror_mode": {
    "name": "ipython",
    "version": 3
   },
   "file_extension": ".py",
   "mimetype": "text/x-python",
   "name": "python",
   "nbconvert_exporter": "python",
   "pygments_lexer": "ipython3",
   "version": "3.10.6"
  }
 },
 "nbformat": 4,
 "nbformat_minor": 5
}
