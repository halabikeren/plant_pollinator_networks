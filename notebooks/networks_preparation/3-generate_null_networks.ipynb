{
 "cells": [
  {
   "cell_type": "code",
   "execution_count": 1,
   "id": "9e042950-7bfb-4d64-bcc5-2860a3f642fc",
   "metadata": {},
   "outputs": [
    {
     "name": "stderr",
     "output_type": "stream",
     "text": [
      "Updating HTML index of packages in '.Library'\n",
      "\n",
      "Making 'packages.html' ...\n",
      " done\n",
      "\n"
     ]
    }
   ],
   "source": [
    "install.packages(\"comprehenr\")"
   ]
  },
  {
   "cell_type": "code",
   "execution_count": 2,
   "id": "71349abd-041a-4385-8a78-ffdb5cce07f1",
   "metadata": {},
   "outputs": [
    {
     "name": "stderr",
     "output_type": "stream",
     "text": [
      "── \u001b[1mAttaching packages\u001b[22m ─────────────────────────────────────── tidyverse 1.3.2 ──\n",
      "\u001b[32m✔\u001b[39m \u001b[34mggplot2\u001b[39m 3.4.1     \u001b[32m✔\u001b[39m \u001b[34mpurrr  \u001b[39m 1.0.1\n",
      "\u001b[32m✔\u001b[39m \u001b[34mtibble \u001b[39m 3.2.1     \u001b[32m✔\u001b[39m \u001b[34mdplyr  \u001b[39m 1.1.1\n",
      "\u001b[32m✔\u001b[39m \u001b[34mtidyr  \u001b[39m 1.3.0     \u001b[32m✔\u001b[39m \u001b[34mstringr\u001b[39m 1.5.0\n",
      "\u001b[32m✔\u001b[39m \u001b[34mreadr  \u001b[39m 2.1.4     \u001b[32m✔\u001b[39m \u001b[34mforcats\u001b[39m 1.0.0\n",
      "── \u001b[1mConflicts\u001b[22m ────────────────────────────────────────── tidyverse_conflicts() ──\n",
      "\u001b[31m✖\u001b[39m \u001b[34mdplyr\u001b[39m::\u001b[32mfilter()\u001b[39m masks \u001b[34mstats\u001b[39m::filter()\n",
      "\u001b[31m✖\u001b[39m \u001b[34mdplyr\u001b[39m::\u001b[32mlag()\u001b[39m    masks \u001b[34mstats\u001b[39m::lag()\n",
      "Loading required package: vegan\n",
      "\n",
      "Loading required package: permute\n",
      "\n",
      "Loading required package: lattice\n",
      "\n",
      "This is vegan 2.6-4\n",
      "\n",
      "Loading required package: sna\n",
      "\n",
      "Loading required package: statnet.common\n",
      "\n",
      "\n",
      "Attaching package: ‘statnet.common’\n",
      "\n",
      "\n",
      "The following objects are masked from ‘package:base’:\n",
      "\n",
      "    attr, order\n",
      "\n",
      "\n",
      "Loading required package: network\n",
      "\n",
      "\n",
      "‘network’ 1.18.1 (2023-01-24), part of the Statnet Project\n",
      "* ‘news(package=\"network\")’ for changes since last version\n",
      "* ‘citation(\"network\")’ for citation information\n",
      "* ‘https://statnet.org’ for help, support, and other information\n",
      "\n",
      "\n",
      "sna: Tools for Social Network Analysis\n",
      "Version 2.7-1 created on 2023-01-24.\n",
      "copyright (c) 2005, Carter T. Butts, University of California-Irvine\n",
      " For citation information, type citation(\"sna\").\n",
      " Type help(package=\"sna\") to get started.\n",
      "\n",
      "\n",
      " This is bipartite 2.18.\n",
      " For latest changes see versionlog in ?\"bipartite-package\". For citation see: citation(\"bipartite\").\n",
      " Have a nice time plotting and analysing two-mode networks.\n",
      "\n",
      "\n",
      "Attaching package: ‘bipartite’\n",
      "\n",
      "\n",
      "The following object is masked from ‘package:vegan’:\n",
      "\n",
      "    nullmodel\n",
      "\n",
      "\n",
      "\n",
      "Attaching package: ‘matrixStats’\n",
      "\n",
      "\n",
      "The following object is masked from ‘package:dplyr’:\n",
      "\n",
      "    count\n",
      "\n",
      "\n"
     ]
    }
   ],
   "source": [
    "library(tidyverse)\n",
    "library(bipartite)\n",
    "library(comprehenr)\n",
    "library(stringr)\n",
    "library(parallel)\n",
    "library(pbmcapply)\n",
    "source(\"../../code/feature_computation/utils.R\")"
   ]
  },
  {
   "cell_type": "code",
   "execution_count": 3,
   "id": "61b762ce-3fea-4724-a672-6a36273ae896",
   "metadata": {},
   "outputs": [],
   "source": [
    "networks_dir = \"../../data/networks/all/\"\n",
    "networks_types = c(\"binary\", \"weighted\", \"binarized_weighted\")\n",
    "null_networks_dir = \"../../data/networks/null/\"\n",
    "skip=c()\n",
    "#skip = c('../../data/networks/all/weighted/10.csv', '../../data/networks/all/weighted/11.csv', '../../data/networks/all/weighted/12.csv', '../../data/networks/all/weighted/51.csv', '../../data/networks/all/weighted/190.csv', '../../data/networks/all/weighted/192.csv', '../../data/networks/all/weighted/196.csv', '../../data/networks/all/weighted/588.csv')"
   ]
  },
  {
   "cell_type": "code",
   "execution_count": 12,
   "id": "0efee269-763c-4a5d-b134-f21a0aad5db9",
   "metadata": {},
   "outputs": [
    {
     "name": "stderr",
     "output_type": "stream",
     "text": [
      "Warning message in dir.create(null_networks_dir):\n",
      "“'../../data/networks/null' already exists”\n",
      "Warning message in dir.create(paste(null_networks_dir, net_type, sep = \"\")):\n",
      "“'../../data/networks/null/binary' already exists”\n",
      "Warning message in dir.create(paste(null_networks_dir, net_type, sep = \"\")):\n",
      "“'../../data/networks/null/weighted' already exists”\n",
      "Warning message in dir.create(paste(null_networks_dir, net_type, sep = \"\")):\n",
      "“'../../data/networks/null/binarized_weighted' already exists”\n"
     ]
    }
   ],
   "source": [
    "dir.create(null_networks_dir)\n",
    "for (net_type in networks_types)\n",
    "    {\n",
    "        dir.create(paste(null_networks_dir, net_type, sep=\"\"))\n",
    "    }"
   ]
  },
  {
   "cell_type": "code",
   "execution_count": 4,
   "id": "95698f94-a41f-4a97-973a-8e252f0d551b",
   "metadata": {},
   "outputs": [],
   "source": [
    "full_network_paths = c()\n",
    "for (net_type in networks_types)\n",
    "    {\n",
    "        net_type_dir = paste(networks_dir, net_type, \"/\", sep=\"\")\n",
    "        networks_paths = list.files(net_type_dir) \n",
    "        full_network_paths <- append(full_network_paths, to_vec(for(p in networks_paths) paste(net_type_dir, p, sep=\"\")))\n",
    "    }"
   ]
  },
  {
   "cell_type": "code",
   "execution_count": 5,
   "id": "01a0b1a8-6167-4326-9944-e31de3d9fcd1",
   "metadata": {},
   "outputs": [
    {
     "data": {
      "text/html": [
       "1621"
      ],
      "text/latex": [
       "1621"
      ],
      "text/markdown": [
       "1621"
      ],
      "text/plain": [
       "[1] 1621"
      ]
     },
     "metadata": {},
     "output_type": "display_data"
    }
   ],
   "source": [
    "length(full_network_paths)"
   ]
  },
  {
   "cell_type": "code",
   "execution_count": 11,
   "id": "aef6ddd7-84c5-48e3-84f3-67c46c2ebccd",
   "metadata": {},
   "outputs": [],
   "source": [
    "generate_null_networks <- function(path, nsim=100) \n",
    "{\n",
    "    network = process_network(path) \n",
    "    if (dim(network)[1] < 2)\n",
    "        {\n",
    "        return (0)\n",
    "        }\n",
    "    if (dim(network)[2] < 2)\n",
    "        {\n",
    "        return (0)\n",
    "        } \n",
    "    output_dir = str_replace(str_replace(path, networks_dir, null_networks_dir), \".csv\", \"/\")\n",
    "    dir.create(output_dir, showWarnings = FALSE)\n",
    "    print(output_dir)\n",
    "    num_files <- length(list.files(output_dir))\n",
    "    print(num_files)\n",
    "    if (num_files == nsim)\n",
    "    {\n",
    "        return(0)\n",
    "    }\n",
    "    null_networks = r2dtable(n=nsim, r=rowSums(network), c=colSums(network))\n",
    "    for (i in 1:length(null_networks))\n",
    "    {\n",
    "        output_path = paste(output_dir, i, \".csv\", sep=\"\")\n",
    "        null_network = data.frame(null_networks[i])\n",
    "        colnames(null_network) = colnames(network)\n",
    "        rownames(null_network) = rownames(network)\n",
    "        write.csv(null_network, output_path)\n",
    "    }   \n",
    "    return(0)\n",
    "}"
   ]
  },
  {
   "cell_type": "code",
   "execution_count": 12,
   "id": "acbbcf42-8e43-48f1-972b-3f44e90c1bb0",
   "metadata": {},
   "outputs": [
    {
     "name": "stdout",
     "output_type": "stream",
     "text": [
      "[1] \"generating null networks\"\n",
      "[1] \"../../data/networks/null/weighted/576/\"\n",
      "[1] 0\n",
      "[1] \"generating null networks\"\n",
      "[1] \"../../data/networks/null/weighted/577/\"\n",
      "[1] 0\n",
      "[1] \"generating null networks\"\n",
      "[1] \"../../data/networks/null/weighted/578/\"\n",
      "[1] 0\n",
      "[1] \"generating null networks\"\n",
      "[1] \"../../data/networks/null/weighted/579/\"\n",
      "[1] 0\n",
      "[1] \"generating null networks\"\n",
      "[1] \"../../data/networks/null/weighted/580/\"\n",
      "[1] 0\n",
      "[1] \"generating null networks\"\n",
      "[1] \"../../data/networks/null/weighted/581/\"\n",
      "[1] 0\n",
      "[1] \"generating null networks\"\n",
      "[1] \"../../data/networks/null/weighted/582/\"\n",
      "[1] 0\n",
      "[1] \"generating null networks\"\n",
      "[1] \"generating null networks\"\n",
      "[1] \"../../data/networks/null/weighted/584/\"\n",
      "[1] 0\n",
      "[1] \"generating null networks\"\n",
      "[1] \"../../data/networks/null/weighted/585/\"\n",
      "[1] 0\n",
      "[1] \"generating null networks\"\n",
      "[1] \"../../data/networks/null/weighted/586/\"\n",
      "[1] 0\n",
      "[1] \"generating null networks\"\n",
      "[1] \"../../data/networks/null/weighted/587/\"\n",
      "[1] 0\n",
      "[1] \"generating null networks\"\n",
      "[1] \"../../data/networks/null/weighted/588/\"\n",
      "[1] 0\n",
      "[1] \"generating null networks\"\n",
      "[1] \"../../data/networks/null/weighted/589/\"\n",
      "[1] 0\n",
      "[1] \"generating null networks\"\n",
      "[1] \"../../data/networks/null/weighted/590/\"\n",
      "[1] 0\n",
      "[1] \"generating null networks\"\n",
      "[1] \"../../data/networks/null/weighted/591/\"\n",
      "[1] 0\n",
      "[1] \"generating null networks\"\n",
      "[1] \"../../data/networks/null/weighted/592/\"\n",
      "[1] 0\n",
      "[1] \"generating null networks\"\n",
      "[1] \"../../data/networks/null/weighted/593/\"\n",
      "[1] 0\n",
      "[1] \"generating null networks\"\n",
      "[1] \"../../data/networks/null/weighted/594/\"\n",
      "[1] 0\n",
      "[1] \"generating null networks\"\n",
      "[1] \"../../data/networks/null/weighted/595/\"\n",
      "[1] 0\n",
      "[1] \"generating null networks\"\n",
      "[1] \"../../data/networks/null/weighted/596/\"\n",
      "[1] 0\n",
      "[1] \"generating null networks\"\n",
      "[1] \"../../data/networks/null/weighted/597/\"\n",
      "[1] 0\n",
      "[1] \"generating null networks\"\n",
      "[1] \"../../data/networks/null/weighted/598/\"\n",
      "[1] 0\n",
      "[1] \"generating null networks\"\n",
      "[1] \"../../data/networks/null/weighted/599/\"\n",
      "[1] 0\n",
      "[1] \"generating null networks\"\n",
      "[1] \"../../data/networks/null/weighted/600/\"\n",
      "[1] 0\n",
      "[1] \"generating null networks\"\n",
      "[1] \"../../data/networks/null/weighted/601/\"\n",
      "[1] 0\n",
      "[1] \"generating null networks\"\n",
      "[1] \"../../data/networks/null/weighted/602/\"\n",
      "[1] 0\n",
      "[1] \"generating null networks\"\n",
      "[1] \"../../data/networks/null/weighted/603/\"\n",
      "[1] 0\n",
      "[1] \"generating null networks\"\n",
      "[1] \"../../data/networks/null/weighted/604/\"\n",
      "[1] 0\n",
      "[1] \"generating null networks\"\n",
      "[1] \"../../data/networks/null/weighted/605/\"\n",
      "[1] 0\n",
      "[1] \"generating null networks\"\n",
      "[1] \"../../data/networks/null/weighted/606/\"\n",
      "[1] 0\n",
      "[1] \"generating null networks\"\n",
      "[1] \"../../data/networks/null/weighted/607/\"\n",
      "[1] 0\n",
      "[1] \"generating null networks\"\n",
      "[1] \"../../data/networks/null/weighted/608/\"\n",
      "[1] 0\n",
      "[1] \"generating null networks\"\n",
      "[1] \"../../data/networks/null/weighted/609/\"\n",
      "[1] 0\n",
      "[1] \"generating null networks\"\n",
      "[1] \"../../data/networks/null/weighted/610/\"\n",
      "[1] 0\n",
      "[1] \"generating null networks\"\n",
      "[1] \"../../data/networks/null/weighted/611/\"\n",
      "[1] 0\n",
      "[1] \"generating null networks\"\n",
      "[1] \"../../data/networks/null/weighted/612/\"\n",
      "[1] 0\n",
      "[1] \"generating null networks\"\n",
      "[1] \"../../data/networks/null/weighted/613/\"\n",
      "[1] 0\n",
      "[1] \"generating null networks\"\n",
      "[1] \"../../data/networks/null/weighted/614/\"\n",
      "[1] 0\n",
      "[1] \"generating null networks\"\n",
      "[1] \"../../data/networks/null/weighted/615/\"\n",
      "[1] 0\n",
      "[1] \"generating null networks\"\n",
      "[1] \"../../data/networks/null/weighted/616/\"\n",
      "[1] 0\n",
      "[1] \"generating null networks\"\n",
      "[1] \"../../data/networks/null/weighted/617/\"\n",
      "[1] 0\n",
      "[1] \"generating null networks\"\n",
      "[1] \"../../data/networks/null/weighted/618/\"\n",
      "[1] 0\n",
      "[1] \"generating null networks\"\n",
      "[1] \"../../data/networks/null/weighted/619/\"\n",
      "[1] 0\n",
      "[1] \"generating null networks\"\n",
      "[1] \"../../data/networks/null/weighted/620/\"\n",
      "[1] 0\n",
      "[1] \"generating null networks\"\n",
      "[1] \"../../data/networks/null/weighted/621/\"\n",
      "[1] 0\n",
      "[1] \"generating null networks\"\n",
      "[1] \"../../data/networks/null/weighted/622/\"\n",
      "[1] 0\n",
      "[1] \"generating null networks\"\n",
      "[1] \"../../data/networks/null/weighted/623/\"\n",
      "[1] 0\n",
      "[1] \"generating null networks\"\n",
      "[1] \"../../data/networks/null/weighted/624/\"\n",
      "[1] 0\n",
      "[1] \"generating null networks\"\n",
      "[1] \"../../data/networks/null/weighted/625/\"\n",
      "[1] 0\n",
      "[1] \"generating null networks\"\n",
      "[1] \"../../data/networks/null/weighted/626/\"\n",
      "[1] 0\n",
      "[1] \"generating null networks\"\n",
      "[1] \"../../data/networks/null/weighted/627/\"\n",
      "[1] 0\n",
      "[1] \"generating null networks\"\n",
      "[1] \"../../data/networks/null/weighted/628/\"\n",
      "[1] 0\n",
      "[1] \"generating null networks\"\n",
      "[1] \"../../data/networks/null/weighted/629/\"\n",
      "[1] 0\n",
      "[1] \"generating null networks\"\n",
      "[1] \"../../data/networks/null/weighted/630/\"\n",
      "[1] 0\n",
      "[1] \"generating null networks\"\n",
      "[1] \"../../data/networks/null/weighted/631/\"\n",
      "[1] 0\n",
      "[1] \"generating null networks\"\n",
      "[1] \"generating null networks\"\n",
      "[1] \"../../data/networks/null/weighted/633/\"\n",
      "[1] 0\n",
      "[1] \"generating null networks\"\n",
      "[1] \"generating null networks\"\n",
      "[1] \"../../data/networks/null/weighted/635/\"\n",
      "[1] 0\n",
      "[1] \"generating null networks\"\n",
      "[1] \"generating null networks\"\n",
      "[1] \"generating null networks\"\n",
      "[1] \"generating null networks\"\n",
      "[1] \"../../data/networks/null/weighted/639/\"\n",
      "[1] 0\n",
      "[1] \"generating null networks\"\n",
      "[1] \"generating null networks\"\n",
      "[1] \"../../data/networks/null/weighted/641/\"\n",
      "[1] 0\n",
      "[1] \"generating null networks\"\n",
      "[1] \"../../data/networks/null/weighted/642/\"\n",
      "[1] 0\n",
      "[1] \"generating null networks\"\n",
      "[1] \"../../data/networks/null/weighted/643/\"\n",
      "[1] 0\n",
      "[1] \"generating null networks\"\n",
      "[1] \"../../data/networks/null/weighted/644/\"\n",
      "[1] 0\n",
      "[1] \"generating null networks\"\n",
      "[1] \"../../data/networks/null/weighted/645/\"\n",
      "[1] 0\n",
      "[1] \"generating null networks\"\n",
      "[1] \"../../data/networks/null/weighted/646/\"\n",
      "[1] 0\n",
      "[1] \"generating null networks\"\n",
      "[1] \"../../data/networks/null/weighted/647/\"\n",
      "[1] 0\n",
      "[1] \"generating null networks\"\n",
      "[1] \"../../data/networks/null/weighted/648/\"\n",
      "[1] 0\n",
      "[1] \"generating null networks\"\n",
      "[1] \"../../data/networks/null/weighted/649/\"\n",
      "[1] 0\n",
      "[1] \"generating null networks\"\n",
      "[1] \"../../data/networks/null/weighted/650/\"\n",
      "[1] 0\n",
      "[1] \"generating null networks\"\n",
      "[1] \"../../data/networks/null/weighted/651/\"\n",
      "[1] 0\n",
      "[1] \"generating null networks\"\n",
      "[1] \"../../data/networks/null/weighted/652/\"\n",
      "[1] 0\n",
      "[1] \"generating null networks\"\n",
      "[1] \"../../data/networks/null/weighted/653/\"\n",
      "[1] 0\n",
      "[1] \"generating null networks\"\n",
      "[1] \"../../data/networks/null/weighted/654/\"\n",
      "[1] 0\n",
      "[1] \"generating null networks\"\n",
      "[1] \"../../data/networks/null/weighted/655/\"\n",
      "[1] 0\n",
      "[1] \"generating null networks\"\n",
      "[1] \"../../data/networks/null/weighted/656/\"\n",
      "[1] 0\n",
      "[1] \"generating null networks\"\n",
      "[1] \"../../data/networks/null/weighted/657/\"\n",
      "[1] 0\n",
      "[1] \"generating null networks\"\n",
      "[1] \"../../data/networks/null/weighted/658/\"\n",
      "[1] 0\n",
      "[1] \"generating null networks\"\n",
      "[1] \"../../data/networks/null/weighted/659/\"\n",
      "[1] 0\n",
      "[1] \"generating null networks\"\n",
      "[1] \"../../data/networks/null/weighted/660/\"\n",
      "[1] 0\n",
      "[1] \"generating null networks\"\n",
      "[1] \"../../data/networks/null/weighted/661/\"\n",
      "[1] 0\n",
      "[1] \"generating null networks\"\n",
      "[1] \"../../data/networks/null/weighted/662/\"\n",
      "[1] 0\n",
      "[1] \"generating null networks\"\n",
      "[1] \"../../data/networks/null/weighted/663/\"\n",
      "[1] 0\n",
      "[1] \"generating null networks\"\n",
      "[1] \"../../data/networks/null/weighted/664/\"\n",
      "[1] 0\n",
      "[1] \"generating null networks\"\n",
      "[1] \"../../data/networks/null/weighted/665/\"\n",
      "[1] 0\n",
      "[1] \"generating null networks\"\n",
      "[1] \"../../data/networks/null/weighted/666/\"\n",
      "[1] 0\n",
      "[1] \"generating null networks\"\n",
      "[1] \"generating null networks\"\n",
      "[1] \"../../data/networks/null/weighted/668/\"\n",
      "[1] 0\n",
      "[1] \"generating null networks\"\n",
      "[1] \"../../data/networks/null/weighted/669/\"\n",
      "[1] 0\n",
      "[1] \"generating null networks\"\n",
      "[1] \"../../data/networks/null/weighted/670/\"\n",
      "[1] 0\n",
      "[1] \"generating null networks\"\n",
      "[1] \"../../data/networks/null/weighted/671/\"\n",
      "[1] 0\n",
      "[1] \"generating null networks\"\n",
      "[1] \"../../data/networks/null/weighted/672/\"\n",
      "[1] 0\n",
      "[1] \"generating null networks\"\n",
      "[1] \"../../data/networks/null/weighted/673/\"\n",
      "[1] 0\n",
      "[1] \"generating null networks\"\n",
      "[1] \"../../data/networks/null/weighted/674/\"\n",
      "[1] 0\n",
      "[1] \"generating null networks\"\n",
      "[1] \"../../data/networks/null/weighted/675/\"\n",
      "[1] 0\n",
      "[1] \"generating null networks\"\n",
      "[1] \"../../data/networks/null/weighted/676/\"\n",
      "[1] 0\n",
      "[1] \"generating null networks\"\n",
      "[1] \"../../data/networks/null/weighted/677/\"\n",
      "[1] 0\n",
      "[1] \"generating null networks\"\n",
      "[1] \"../../data/networks/null/weighted/678/\"\n",
      "[1] 0\n",
      "[1] \"generating null networks\"\n",
      "[1] \"../../data/networks/null/weighted/679/\"\n",
      "[1] 0\n",
      "[1] \"generating null networks\"\n",
      "[1] \"../../data/networks/null/weighted/680/\"\n",
      "[1] 0\n",
      "[1] \"generating null networks\"\n",
      "[1] \"../../data/networks/null/weighted/681/\"\n",
      "[1] 0\n",
      "[1] \"generating null networks\"\n",
      "[1] \"../../data/networks/null/weighted/682/\"\n",
      "[1] 0\n",
      "[1] \"generating null networks\"\n",
      "[1] \"../../data/networks/null/weighted/683/\"\n",
      "[1] 0\n",
      "[1] \"generating null networks\"\n",
      "[1] \"../../data/networks/null/weighted/684/\"\n",
      "[1] 0\n",
      "[1] \"generating null networks\"\n",
      "[1] \"../../data/networks/null/weighted/685/\"\n",
      "[1] 0\n",
      "[1] \"generating null networks\"\n",
      "[1] \"../../data/networks/null/weighted/686/\"\n",
      "[1] 0\n",
      "[1] \"generating null networks\"\n",
      "[1] \"../../data/networks/null/weighted/687/\"\n",
      "[1] 0\n",
      "[1] \"generating null networks\"\n",
      "[1] \"../../data/networks/null/weighted/688/\"\n",
      "[1] 0\n",
      "[1] \"generating null networks\"\n",
      "[1] \"../../data/networks/null/weighted/689/\"\n",
      "[1] 0\n",
      "[1] \"generating null networks\"\n",
      "[1] \"../../data/networks/null/weighted/690/\"\n",
      "[1] 0\n",
      "[1] \"generating null networks\"\n",
      "[1] \"../../data/networks/null/weighted/691/\"\n",
      "[1] 0\n",
      "[1] \"generating null networks\"\n",
      "[1] \"../../data/networks/null/weighted/692/\"\n",
      "[1] 0\n",
      "[1] \"generating null networks\"\n",
      "[1] \"../../data/networks/null/weighted/693/\"\n",
      "[1] 0\n",
      "[1] \"generating null networks\"\n",
      "[1] \"../../data/networks/null/weighted/694/\"\n",
      "[1] 0\n",
      "[1] \"generating null networks\"\n",
      "[1] \"../../data/networks/null/weighted/695/\"\n",
      "[1] 0\n",
      "[1] \"generating null networks\"\n",
      "[1] \"../../data/networks/null/weighted/696/\"\n",
      "[1] 0\n",
      "[1] \"generating null networks\"\n",
      "[1] \"../../data/networks/null/weighted/697/\"\n",
      "[1] 0\n",
      "[1] \"generating null networks\"\n",
      "[1] \"../../data/networks/null/weighted/698/\"\n",
      "[1] 0\n",
      "[1] \"generating null networks\"\n",
      "[1] \"../../data/networks/null/weighted/699/\"\n",
      "[1] 0\n",
      "[1] \"generating null networks\"\n",
      "[1] \"../../data/networks/null/weighted/700/\"\n",
      "[1] 0\n",
      "[1] \"generating null networks\"\n",
      "[1] \"../../data/networks/null/weighted/701/\"\n",
      "[1] 0\n",
      "[1] \"generating null networks\"\n",
      "[1] \"../../data/networks/null/weighted/702/\"\n",
      "[1] 0\n",
      "[1] \"generating null networks\"\n",
      "[1] \"../../data/networks/null/weighted/703/\"\n",
      "[1] 0\n",
      "[1] \"generating null networks\"\n",
      "[1] \"../../data/networks/null/weighted/704/\"\n",
      "[1] 0\n",
      "[1] \"generating null networks\"\n",
      "[1] \"../../data/networks/null/weighted/705/\"\n",
      "[1] 0\n",
      "[1] \"generating null networks\"\n",
      "[1] \"../../data/networks/null/weighted/706/\"\n",
      "[1] 0\n",
      "[1] \"generating null networks\"\n",
      "[1] \"../../data/networks/null/weighted/707/\"\n",
      "[1] 0\n",
      "[1] \"generating null networks\"\n",
      "[1] \"../../data/networks/null/weighted/708/\"\n",
      "[1] 0\n",
      "[1] \"generating null networks\"\n",
      "[1] \"../../data/networks/null/weighted/709/\"\n",
      "[1] 0\n",
      "[1] \"generating null networks\"\n",
      "[1] \"../../data/networks/null/weighted/710/\"\n",
      "[1] 0\n",
      "[1] \"generating null networks\"\n",
      "[1] \"../../data/networks/null/weighted/711/\"\n",
      "[1] 0\n",
      "[1] \"generating null networks\"\n",
      "[1] \"../../data/networks/null/weighted/712/\"\n",
      "[1] 0\n",
      "[1] \"generating null networks\"\n",
      "[1] \"../../data/networks/null/weighted/713/\"\n",
      "[1] 0\n",
      "[1] \"generating null networks\"\n",
      "[1] \"../../data/networks/null/weighted/714/\"\n",
      "[1] 0\n",
      "[1] \"generating null networks\"\n",
      "[1] \"../../data/networks/null/weighted/715/\"\n",
      "[1] 0\n",
      "[1] \"generating null networks\"\n",
      "[1] \"../../data/networks/null/weighted/716/\"\n",
      "[1] 0\n",
      "[1] \"generating null networks\"\n",
      "[1] \"../../data/networks/null/weighted/717/\"\n",
      "[1] 0\n",
      "[1] \"generating null networks\"\n",
      "[1] \"../../data/networks/null/weighted/718/\"\n",
      "[1] 0\n",
      "[1] \"generating null networks\"\n",
      "[1] \"../../data/networks/null/weighted/719/\"\n",
      "[1] 0\n",
      "[1] \"generating null networks\"\n"
     ]
    },
    {
     "name": "stderr",
     "output_type": "stream",
     "text": [
      "\u001b[1m\u001b[22mNew names:\n",
      "\u001b[36m•\u001b[39m `` -> `...1`\n"
     ]
    },
    {
     "name": "stdout",
     "output_type": "stream",
     "text": [
      "[1] \"../../data/networks/null/binarized_weighted/720/\"\n",
      "[1] 0\n",
      "[1] \"generating null networks\"\n"
     ]
    },
    {
     "name": "stderr",
     "output_type": "stream",
     "text": [
      "\u001b[1m\u001b[22mNew names:\n",
      "\u001b[36m•\u001b[39m `` -> `...1`\n"
     ]
    },
    {
     "name": "stdout",
     "output_type": "stream",
     "text": [
      "[1] \"../../data/networks/null/binarized_weighted/721/\"\n",
      "[1] 0\n",
      "[1] \"generating null networks\"\n"
     ]
    },
    {
     "name": "stderr",
     "output_type": "stream",
     "text": [
      "\u001b[1m\u001b[22mNew names:\n",
      "\u001b[36m•\u001b[39m `` -> `...1`\n"
     ]
    },
    {
     "name": "stdout",
     "output_type": "stream",
     "text": [
      "[1] \"../../data/networks/null/binarized_weighted/722/\"\n",
      "[1] 0\n",
      "[1] \"generating null networks\"\n"
     ]
    },
    {
     "name": "stderr",
     "output_type": "stream",
     "text": [
      "\u001b[1m\u001b[22mNew names:\n",
      "\u001b[36m•\u001b[39m `` -> `...1`\n"
     ]
    },
    {
     "name": "stdout",
     "output_type": "stream",
     "text": [
      "[1] \"../../data/networks/null/binarized_weighted/723/\"\n",
      "[1] 0\n",
      "[1] \"generating null networks\"\n"
     ]
    },
    {
     "name": "stderr",
     "output_type": "stream",
     "text": [
      "\u001b[1m\u001b[22mNew names:\n",
      "\u001b[36m•\u001b[39m `` -> `...1`\n"
     ]
    },
    {
     "name": "stdout",
     "output_type": "stream",
     "text": [
      "[1] \"../../data/networks/null/binarized_weighted/724/\"\n",
      "[1] 0\n",
      "[1] \"generating null networks\"\n"
     ]
    },
    {
     "name": "stderr",
     "output_type": "stream",
     "text": [
      "\u001b[1m\u001b[22mNew names:\n",
      "\u001b[36m•\u001b[39m `` -> `...1`\n"
     ]
    },
    {
     "name": "stdout",
     "output_type": "stream",
     "text": [
      "[1] \"../../data/networks/null/binarized_weighted/725/\"\n",
      "[1] 0\n",
      "[1] \"generating null networks\"\n"
     ]
    },
    {
     "name": "stderr",
     "output_type": "stream",
     "text": [
      "\u001b[1m\u001b[22mNew names:\n",
      "\u001b[36m•\u001b[39m `` -> `...1`\n"
     ]
    },
    {
     "name": "stdout",
     "output_type": "stream",
     "text": [
      "[1] \"../../data/networks/null/binarized_weighted/726/\"\n",
      "[1] 0\n",
      "[1] \"generating null networks\"\n"
     ]
    },
    {
     "name": "stderr",
     "output_type": "stream",
     "text": [
      "\u001b[1m\u001b[22mNew names:\n",
      "\u001b[36m•\u001b[39m `` -> `...1`\n"
     ]
    },
    {
     "name": "stdout",
     "output_type": "stream",
     "text": [
      "[1] \"../../data/networks/null/binarized_weighted/727/\"\n",
      "[1] 0\n",
      "[1] \"generating null networks\"\n"
     ]
    },
    {
     "name": "stderr",
     "output_type": "stream",
     "text": [
      "\u001b[1m\u001b[22mNew names:\n",
      "\u001b[36m•\u001b[39m `` -> `...1`\n"
     ]
    },
    {
     "name": "stdout",
     "output_type": "stream",
     "text": [
      "[1] \"../../data/networks/null/binarized_weighted/728/\"\n",
      "[1] 0\n",
      "[1] \"generating null networks\"\n"
     ]
    },
    {
     "name": "stderr",
     "output_type": "stream",
     "text": [
      "\u001b[1m\u001b[22mNew names:\n",
      "\u001b[36m•\u001b[39m `` -> `...1`\n"
     ]
    },
    {
     "name": "stdout",
     "output_type": "stream",
     "text": [
      "[1] \"../../data/networks/null/binarized_weighted/729/\"\n",
      "[1] 0\n",
      "[1] \"generating null networks\"\n"
     ]
    },
    {
     "name": "stderr",
     "output_type": "stream",
     "text": [
      "\u001b[1m\u001b[22mNew names:\n",
      "\u001b[36m•\u001b[39m `` -> `...1`\n"
     ]
    },
    {
     "name": "stdout",
     "output_type": "stream",
     "text": [
      "[1] \"../../data/networks/null/binarized_weighted/730/\"\n",
      "[1] 0\n",
      "[1] \"generating null networks\"\n"
     ]
    },
    {
     "name": "stderr",
     "output_type": "stream",
     "text": [
      "\u001b[1m\u001b[22mNew names:\n",
      "\u001b[36m•\u001b[39m `` -> `...1`\n"
     ]
    },
    {
     "name": "stdout",
     "output_type": "stream",
     "text": [
      "[1] \"../../data/networks/null/binarized_weighted/731/\"\n",
      "[1] 0\n",
      "[1] \"generating null networks\"\n"
     ]
    },
    {
     "name": "stderr",
     "output_type": "stream",
     "text": [
      "\u001b[1m\u001b[22mNew names:\n",
      "\u001b[36m•\u001b[39m `` -> `...1`\n"
     ]
    },
    {
     "name": "stdout",
     "output_type": "stream",
     "text": [
      "[1] \"../../data/networks/null/binarized_weighted/732/\"\n",
      "[1] 0\n",
      "[1] \"generating null networks\"\n"
     ]
    },
    {
     "name": "stderr",
     "output_type": "stream",
     "text": [
      "\u001b[1m\u001b[22mNew names:\n",
      "\u001b[36m•\u001b[39m `` -> `...1`\n"
     ]
    },
    {
     "name": "stdout",
     "output_type": "stream",
     "text": [
      "[1] \"../../data/networks/null/binarized_weighted/733/\"\n",
      "[1] 0\n",
      "[1] \"generating null networks\"\n"
     ]
    },
    {
     "name": "stderr",
     "output_type": "stream",
     "text": [
      "\u001b[1m\u001b[22mNew names:\n",
      "\u001b[36m•\u001b[39m `` -> `...1`\n"
     ]
    },
    {
     "name": "stdout",
     "output_type": "stream",
     "text": [
      "[1] \"../../data/networks/null/binarized_weighted/734/\"\n",
      "[1] 0\n",
      "[1] \"generating null networks\"\n"
     ]
    },
    {
     "name": "stderr",
     "output_type": "stream",
     "text": [
      "\u001b[1m\u001b[22mNew names:\n",
      "\u001b[36m•\u001b[39m `` -> `...1`\n"
     ]
    },
    {
     "name": "stdout",
     "output_type": "stream",
     "text": [
      "[1] \"../../data/networks/null/binarized_weighted/735/\"\n",
      "[1] 0\n",
      "[1] \"generating null networks\"\n"
     ]
    },
    {
     "name": "stderr",
     "output_type": "stream",
     "text": [
      "\u001b[1m\u001b[22mNew names:\n",
      "\u001b[36m•\u001b[39m `` -> `...1`\n"
     ]
    },
    {
     "name": "stdout",
     "output_type": "stream",
     "text": [
      "[1] \"../../data/networks/null/binarized_weighted/736/\"\n",
      "[1] 0\n",
      "[1] \"generating null networks\"\n"
     ]
    },
    {
     "name": "stderr",
     "output_type": "stream",
     "text": [
      "\u001b[1m\u001b[22mNew names:\n",
      "\u001b[36m•\u001b[39m `` -> `...1`\n"
     ]
    },
    {
     "name": "stdout",
     "output_type": "stream",
     "text": [
      "[1] \"../../data/networks/null/binarized_weighted/737/\"\n",
      "[1] 0\n",
      "[1] \"generating null networks\"\n"
     ]
    },
    {
     "name": "stderr",
     "output_type": "stream",
     "text": [
      "\u001b[1m\u001b[22mNew names:\n",
      "\u001b[36m•\u001b[39m `` -> `...1`\n"
     ]
    },
    {
     "name": "stdout",
     "output_type": "stream",
     "text": [
      "[1] \"generating null networks\"\n"
     ]
    },
    {
     "name": "stderr",
     "output_type": "stream",
     "text": [
      "\u001b[1m\u001b[22mNew names:\n",
      "\u001b[36m•\u001b[39m `` -> `...1`\n"
     ]
    },
    {
     "name": "stdout",
     "output_type": "stream",
     "text": [
      "[1] \"../../data/networks/null/binarized_weighted/739/\"\n",
      "[1] 0\n",
      "[1] \"generating null networks\"\n"
     ]
    },
    {
     "name": "stderr",
     "output_type": "stream",
     "text": [
      "\u001b[1m\u001b[22mNew names:\n",
      "\u001b[36m•\u001b[39m `` -> `...1`\n"
     ]
    },
    {
     "name": "stdout",
     "output_type": "stream",
     "text": [
      "[1] \"../../data/networks/null/binarized_weighted/740/\"\n",
      "[1] 0\n",
      "[1] \"generating null networks\"\n"
     ]
    },
    {
     "name": "stderr",
     "output_type": "stream",
     "text": [
      "\u001b[1m\u001b[22mNew names:\n",
      "\u001b[36m•\u001b[39m `` -> `...1`\n"
     ]
    },
    {
     "name": "stdout",
     "output_type": "stream",
     "text": [
      "[1] \"../../data/networks/null/binarized_weighted/741/\"\n",
      "[1] 0\n",
      "[1] \"generating null networks\"\n"
     ]
    },
    {
     "name": "stderr",
     "output_type": "stream",
     "text": [
      "\u001b[1m\u001b[22mNew names:\n",
      "\u001b[36m•\u001b[39m `` -> `...1`\n"
     ]
    },
    {
     "name": "stdout",
     "output_type": "stream",
     "text": [
      "[1] \"../../data/networks/null/binarized_weighted/742/\"\n",
      "[1] 0\n",
      "[1] \"generating null networks\"\n"
     ]
    },
    {
     "name": "stderr",
     "output_type": "stream",
     "text": [
      "\u001b[1m\u001b[22mNew names:\n",
      "\u001b[36m•\u001b[39m `` -> `...1`\n"
     ]
    },
    {
     "name": "stdout",
     "output_type": "stream",
     "text": [
      "[1] \"../../data/networks/null/binarized_weighted/743/\"\n",
      "[1] 0\n",
      "[1] \"generating null networks\"\n"
     ]
    },
    {
     "name": "stderr",
     "output_type": "stream",
     "text": [
      "\u001b[1m\u001b[22mNew names:\n",
      "\u001b[36m•\u001b[39m `` -> `...1`\n"
     ]
    },
    {
     "name": "stdout",
     "output_type": "stream",
     "text": [
      "[1] \"../../data/networks/null/binarized_weighted/744/\"\n",
      "[1] 0\n",
      "[1] \"generating null networks\"\n"
     ]
    },
    {
     "name": "stderr",
     "output_type": "stream",
     "text": [
      "\u001b[1m\u001b[22mNew names:\n",
      "\u001b[36m•\u001b[39m `` -> `...1`\n"
     ]
    },
    {
     "name": "stdout",
     "output_type": "stream",
     "text": [
      "[1] \"../../data/networks/null/binarized_weighted/745/\"\n",
      "[1] 0\n",
      "[1] \"generating null networks\"\n"
     ]
    },
    {
     "name": "stderr",
     "output_type": "stream",
     "text": [
      "\u001b[1m\u001b[22mNew names:\n",
      "\u001b[36m•\u001b[39m `` -> `...1`\n"
     ]
    },
    {
     "name": "stdout",
     "output_type": "stream",
     "text": [
      "[1] \"../../data/networks/null/binarized_weighted/746/\"\n",
      "[1] 0\n",
      "[1] \"generating null networks\"\n"
     ]
    },
    {
     "name": "stderr",
     "output_type": "stream",
     "text": [
      "\u001b[1m\u001b[22mNew names:\n",
      "\u001b[36m•\u001b[39m `` -> `...1`\n"
     ]
    },
    {
     "name": "stdout",
     "output_type": "stream",
     "text": [
      "[1] \"../../data/networks/null/binarized_weighted/747/\"\n",
      "[1] 0\n",
      "[1] \"generating null networks\"\n"
     ]
    },
    {
     "name": "stderr",
     "output_type": "stream",
     "text": [
      "\u001b[1m\u001b[22mNew names:\n",
      "\u001b[36m•\u001b[39m `` -> `...1`\n"
     ]
    },
    {
     "name": "stdout",
     "output_type": "stream",
     "text": [
      "[1] \"../../data/networks/null/binarized_weighted/748/\"\n",
      "[1] 0\n",
      "[1] \"generating null networks\"\n"
     ]
    },
    {
     "name": "stderr",
     "output_type": "stream",
     "text": [
      "\u001b[1m\u001b[22mNew names:\n",
      "\u001b[36m•\u001b[39m `` -> `...1`\n"
     ]
    },
    {
     "name": "stdout",
     "output_type": "stream",
     "text": [
      "[1] \"../../data/networks/null/binarized_weighted/749/\"\n",
      "[1] 0\n",
      "[1] \"generating null networks\"\n"
     ]
    },
    {
     "name": "stderr",
     "output_type": "stream",
     "text": [
      "\u001b[1m\u001b[22mNew names:\n",
      "\u001b[36m•\u001b[39m `` -> `...1`\n"
     ]
    },
    {
     "name": "stdout",
     "output_type": "stream",
     "text": [
      "[1] \"../../data/networks/null/binarized_weighted/750/\"\n",
      "[1] 0\n",
      "[1] \"generating null networks\"\n"
     ]
    },
    {
     "name": "stderr",
     "output_type": "stream",
     "text": [
      "\u001b[1m\u001b[22mNew names:\n",
      "\u001b[36m•\u001b[39m `` -> `...1`\n"
     ]
    },
    {
     "name": "stdout",
     "output_type": "stream",
     "text": [
      "[1] \"../../data/networks/null/binarized_weighted/751/\"\n",
      "[1] 0\n",
      "[1] \"generating null networks\"\n"
     ]
    },
    {
     "name": "stderr",
     "output_type": "stream",
     "text": [
      "\u001b[1m\u001b[22mNew names:\n",
      "\u001b[36m•\u001b[39m `` -> `...1`\n"
     ]
    },
    {
     "name": "stdout",
     "output_type": "stream",
     "text": [
      "[1] \"../../data/networks/null/binarized_weighted/752/\"\n",
      "[1] 0\n",
      "[1] \"generating null networks\"\n"
     ]
    },
    {
     "name": "stderr",
     "output_type": "stream",
     "text": [
      "\u001b[1m\u001b[22mNew names:\n",
      "\u001b[36m•\u001b[39m `` -> `...1`\n"
     ]
    },
    {
     "name": "stdout",
     "output_type": "stream",
     "text": [
      "[1] \"../../data/networks/null/binarized_weighted/753/\"\n",
      "[1] 0\n",
      "[1] \"generating null networks\"\n"
     ]
    },
    {
     "name": "stderr",
     "output_type": "stream",
     "text": [
      "\u001b[1m\u001b[22mNew names:\n",
      "\u001b[36m•\u001b[39m `` -> `...1`\n"
     ]
    },
    {
     "name": "stdout",
     "output_type": "stream",
     "text": [
      "[1] \"../../data/networks/null/binarized_weighted/754/\"\n",
      "[1] 0\n",
      "[1] \"generating null networks\"\n"
     ]
    },
    {
     "name": "stderr",
     "output_type": "stream",
     "text": [
      "\u001b[1m\u001b[22mNew names:\n",
      "\u001b[36m•\u001b[39m `` -> `...1`\n"
     ]
    },
    {
     "name": "stdout",
     "output_type": "stream",
     "text": [
      "[1] \"../../data/networks/null/binarized_weighted/755/\"\n",
      "[1] 0\n",
      "[1] \"generating null networks\"\n"
     ]
    },
    {
     "name": "stderr",
     "output_type": "stream",
     "text": [
      "\u001b[1m\u001b[22mNew names:\n",
      "\u001b[36m•\u001b[39m `` -> `...1`\n"
     ]
    },
    {
     "name": "stdout",
     "output_type": "stream",
     "text": [
      "[1] \"../../data/networks/null/binarized_weighted/756/\"\n",
      "[1] 0\n",
      "[1] \"generating null networks\"\n"
     ]
    },
    {
     "name": "stderr",
     "output_type": "stream",
     "text": [
      "\u001b[1m\u001b[22mNew names:\n",
      "\u001b[36m•\u001b[39m `` -> `...1`\n"
     ]
    },
    {
     "name": "stdout",
     "output_type": "stream",
     "text": [
      "[1] \"generating null networks\"\n"
     ]
    },
    {
     "name": "stderr",
     "output_type": "stream",
     "text": [
      "\u001b[1m\u001b[22mNew names:\n",
      "\u001b[36m•\u001b[39m `` -> `...1`\n"
     ]
    },
    {
     "name": "stdout",
     "output_type": "stream",
     "text": [
      "[1] \"../../data/networks/null/binarized_weighted/758/\"\n",
      "[1] 0\n",
      "[1] \"generating null networks\"\n"
     ]
    },
    {
     "name": "stderr",
     "output_type": "stream",
     "text": [
      "\u001b[1m\u001b[22mNew names:\n",
      "\u001b[36m•\u001b[39m `` -> `...1`\n"
     ]
    },
    {
     "name": "stdout",
     "output_type": "stream",
     "text": [
      "[1] \"../../data/networks/null/binarized_weighted/759/\"\n",
      "[1] 0\n",
      "[1] \"generating null networks\"\n"
     ]
    },
    {
     "name": "stderr",
     "output_type": "stream",
     "text": [
      "\u001b[1m\u001b[22mNew names:\n",
      "\u001b[36m•\u001b[39m `` -> `...1`\n"
     ]
    },
    {
     "name": "stdout",
     "output_type": "stream",
     "text": [
      "[1] \"../../data/networks/null/binarized_weighted/760/\"\n",
      "[1] 0\n",
      "[1] \"generating null networks\"\n"
     ]
    },
    {
     "name": "stderr",
     "output_type": "stream",
     "text": [
      "\u001b[1m\u001b[22mNew names:\n",
      "\u001b[36m•\u001b[39m `` -> `...1`\n"
     ]
    },
    {
     "name": "stdout",
     "output_type": "stream",
     "text": [
      "[1] \"../../data/networks/null/binarized_weighted/761/\"\n",
      "[1] 0\n",
      "[1] \"generating null networks\"\n"
     ]
    },
    {
     "name": "stderr",
     "output_type": "stream",
     "text": [
      "\u001b[1m\u001b[22mNew names:\n",
      "\u001b[36m•\u001b[39m `` -> `...1`\n"
     ]
    },
    {
     "name": "stdout",
     "output_type": "stream",
     "text": [
      "[1] \"../../data/networks/null/binarized_weighted/762/\"\n",
      "[1] 0\n",
      "[1] \"generating null networks\"\n"
     ]
    },
    {
     "name": "stderr",
     "output_type": "stream",
     "text": [
      "\u001b[1m\u001b[22mNew names:\n",
      "\u001b[36m•\u001b[39m `` -> `...1`\n"
     ]
    },
    {
     "name": "stdout",
     "output_type": "stream",
     "text": [
      "[1] \"../../data/networks/null/binarized_weighted/763/\"\n",
      "[1] 0\n",
      "[1] \"generating null networks\"\n"
     ]
    },
    {
     "name": "stderr",
     "output_type": "stream",
     "text": [
      "\u001b[1m\u001b[22mNew names:\n",
      "\u001b[36m•\u001b[39m `` -> `...1`\n"
     ]
    },
    {
     "name": "stdout",
     "output_type": "stream",
     "text": [
      "[1] \"../../data/networks/null/binarized_weighted/764/\"\n",
      "[1] 0\n",
      "[1] \"generating null networks\"\n"
     ]
    },
    {
     "name": "stderr",
     "output_type": "stream",
     "text": [
      "\u001b[1m\u001b[22mNew names:\n",
      "\u001b[36m•\u001b[39m `` -> `...1`\n"
     ]
    },
    {
     "name": "stdout",
     "output_type": "stream",
     "text": [
      "[1] \"generating null networks\"\n"
     ]
    },
    {
     "name": "stderr",
     "output_type": "stream",
     "text": [
      "\u001b[1m\u001b[22mNew names:\n",
      "\u001b[36m•\u001b[39m `` -> `...1`\n"
     ]
    },
    {
     "name": "stdout",
     "output_type": "stream",
     "text": [
      "[1] \"../../data/networks/null/binarized_weighted/766/\"\n",
      "[1] 0\n",
      "[1] \"generating null networks\"\n"
     ]
    },
    {
     "name": "stderr",
     "output_type": "stream",
     "text": [
      "\u001b[1m\u001b[22mNew names:\n",
      "\u001b[36m•\u001b[39m `` -> `...1`\n"
     ]
    },
    {
     "name": "stdout",
     "output_type": "stream",
     "text": [
      "[1] \"../../data/networks/null/binarized_weighted/767/\"\n",
      "[1] 0\n",
      "[1] \"generating null networks\"\n"
     ]
    },
    {
     "name": "stderr",
     "output_type": "stream",
     "text": [
      "\u001b[1m\u001b[22mNew names:\n",
      "\u001b[36m•\u001b[39m `` -> `...1`\n"
     ]
    },
    {
     "name": "stdout",
     "output_type": "stream",
     "text": [
      "[1] \"../../data/networks/null/binarized_weighted/768/\"\n",
      "[1] 0\n",
      "[1] \"generating null networks\"\n"
     ]
    },
    {
     "name": "stderr",
     "output_type": "stream",
     "text": [
      "\u001b[1m\u001b[22mNew names:\n",
      "\u001b[36m•\u001b[39m `` -> `...1`\n"
     ]
    },
    {
     "name": "stdout",
     "output_type": "stream",
     "text": [
      "[1] \"../../data/networks/null/binarized_weighted/769/\"\n",
      "[1] 0\n",
      "[1] \"generating null networks\"\n"
     ]
    },
    {
     "name": "stderr",
     "output_type": "stream",
     "text": [
      "\u001b[1m\u001b[22mNew names:\n",
      "\u001b[36m•\u001b[39m `` -> `...1`\n"
     ]
    },
    {
     "name": "stdout",
     "output_type": "stream",
     "text": [
      "[1] \"../../data/networks/null/binarized_weighted/770/\"\n",
      "[1] 0\n",
      "[1] \"generating null networks\"\n"
     ]
    },
    {
     "name": "stderr",
     "output_type": "stream",
     "text": [
      "\u001b[1m\u001b[22mNew names:\n",
      "\u001b[36m•\u001b[39m `` -> `...1`\n"
     ]
    },
    {
     "name": "stdout",
     "output_type": "stream",
     "text": [
      "[1] \"../../data/networks/null/binarized_weighted/771/\"\n",
      "[1] 0\n",
      "[1] \"generating null networks\"\n"
     ]
    },
    {
     "name": "stderr",
     "output_type": "stream",
     "text": [
      "\u001b[1m\u001b[22mNew names:\n",
      "\u001b[36m•\u001b[39m `` -> `...1`\n"
     ]
    },
    {
     "name": "stdout",
     "output_type": "stream",
     "text": [
      "[1] \"../../data/networks/null/binarized_weighted/772/\"\n",
      "[1] 0\n",
      "[1] \"generating null networks\"\n"
     ]
    },
    {
     "name": "stderr",
     "output_type": "stream",
     "text": [
      "\u001b[1m\u001b[22mNew names:\n",
      "\u001b[36m•\u001b[39m `` -> `...1`\n"
     ]
    },
    {
     "name": "stdout",
     "output_type": "stream",
     "text": [
      "[1] \"../../data/networks/null/binarized_weighted/773/\"\n",
      "[1] 0\n",
      "[1] \"generating null networks\"\n"
     ]
    },
    {
     "name": "stderr",
     "output_type": "stream",
     "text": [
      "\u001b[1m\u001b[22mNew names:\n",
      "\u001b[36m•\u001b[39m `` -> `...1`\n"
     ]
    },
    {
     "name": "stdout",
     "output_type": "stream",
     "text": [
      "[1] \"../../data/networks/null/binarized_weighted/774/\"\n",
      "[1] 0\n",
      "[1] \"generating null networks\"\n"
     ]
    },
    {
     "name": "stderr",
     "output_type": "stream",
     "text": [
      "\u001b[1m\u001b[22mNew names:\n",
      "\u001b[36m•\u001b[39m `` -> `...1`\n"
     ]
    },
    {
     "name": "stdout",
     "output_type": "stream",
     "text": [
      "[1] \"../../data/networks/null/binarized_weighted/775/\"\n",
      "[1] 0\n",
      "[1] \"generating null networks\"\n"
     ]
    },
    {
     "name": "stderr",
     "output_type": "stream",
     "text": [
      "\u001b[1m\u001b[22mNew names:\n",
      "\u001b[36m•\u001b[39m `` -> `...1`\n"
     ]
    },
    {
     "name": "stdout",
     "output_type": "stream",
     "text": [
      "[1] \"../../data/networks/null/binarized_weighted/776/\"\n",
      "[1] 0\n",
      "[1] \"generating null networks\"\n"
     ]
    },
    {
     "name": "stderr",
     "output_type": "stream",
     "text": [
      "\u001b[1m\u001b[22mNew names:\n",
      "\u001b[36m•\u001b[39m `` -> `...1`\n"
     ]
    },
    {
     "name": "stdout",
     "output_type": "stream",
     "text": [
      "[1] \"../../data/networks/null/binarized_weighted/777/\"\n",
      "[1] 0\n",
      "[1] \"generating null networks\"\n"
     ]
    },
    {
     "name": "stderr",
     "output_type": "stream",
     "text": [
      "\u001b[1m\u001b[22mNew names:\n",
      "\u001b[36m•\u001b[39m `` -> `...1`\n"
     ]
    },
    {
     "name": "stdout",
     "output_type": "stream",
     "text": [
      "[1] \"../../data/networks/null/binarized_weighted/778/\"\n",
      "[1] 0\n",
      "[1] \"generating null networks\"\n"
     ]
    },
    {
     "name": "stderr",
     "output_type": "stream",
     "text": [
      "\u001b[1m\u001b[22mNew names:\n",
      "\u001b[36m•\u001b[39m `` -> `...1`\n"
     ]
    },
    {
     "name": "stdout",
     "output_type": "stream",
     "text": [
      "[1] \"../../data/networks/null/binarized_weighted/779/\"\n",
      "[1] 0\n",
      "[1] \"generating null networks\"\n"
     ]
    },
    {
     "name": "stderr",
     "output_type": "stream",
     "text": [
      "\u001b[1m\u001b[22mNew names:\n",
      "\u001b[36m•\u001b[39m `` -> `...1`\n"
     ]
    },
    {
     "name": "stdout",
     "output_type": "stream",
     "text": [
      "[1] \"../../data/networks/null/binarized_weighted/780/\"\n",
      "[1] 0\n",
      "[1] \"generating null networks\"\n"
     ]
    },
    {
     "name": "stderr",
     "output_type": "stream",
     "text": [
      "\u001b[1m\u001b[22mNew names:\n",
      "\u001b[36m•\u001b[39m `` -> `...1`\n"
     ]
    },
    {
     "name": "stdout",
     "output_type": "stream",
     "text": [
      "[1] \"../../data/networks/null/binarized_weighted/781/\"\n",
      "[1] 0\n",
      "[1] \"generating null networks\"\n"
     ]
    },
    {
     "name": "stderr",
     "output_type": "stream",
     "text": [
      "\u001b[1m\u001b[22mNew names:\n",
      "\u001b[36m•\u001b[39m `` -> `...1`\n"
     ]
    },
    {
     "name": "stdout",
     "output_type": "stream",
     "text": [
      "[1] \"../../data/networks/null/binarized_weighted/782/\"\n",
      "[1] 0\n",
      "[1] \"generating null networks\"\n"
     ]
    },
    {
     "name": "stderr",
     "output_type": "stream",
     "text": [
      "\u001b[1m\u001b[22mNew names:\n",
      "\u001b[36m•\u001b[39m `` -> `...1`\n"
     ]
    },
    {
     "name": "stdout",
     "output_type": "stream",
     "text": [
      "[1] \"../../data/networks/null/binarized_weighted/783/\"\n",
      "[1] 0\n",
      "[1] \"generating null networks\"\n"
     ]
    },
    {
     "name": "stderr",
     "output_type": "stream",
     "text": [
      "\u001b[1m\u001b[22mNew names:\n",
      "\u001b[36m•\u001b[39m `` -> `...1`\n"
     ]
    },
    {
     "name": "stdout",
     "output_type": "stream",
     "text": [
      "[1] \"../../data/networks/null/binarized_weighted/784/\"\n",
      "[1] 0\n",
      "[1] \"generating null networks\"\n"
     ]
    },
    {
     "name": "stderr",
     "output_type": "stream",
     "text": [
      "\u001b[1m\u001b[22mNew names:\n",
      "\u001b[36m•\u001b[39m `` -> `...1`\n"
     ]
    },
    {
     "name": "stdout",
     "output_type": "stream",
     "text": [
      "[1] \"../../data/networks/null/binarized_weighted/785/\"\n",
      "[1] 0\n",
      "[1] \"generating null networks\"\n"
     ]
    },
    {
     "name": "stderr",
     "output_type": "stream",
     "text": [
      "\u001b[1m\u001b[22mNew names:\n",
      "\u001b[36m•\u001b[39m `` -> `...1`\n"
     ]
    },
    {
     "name": "stdout",
     "output_type": "stream",
     "text": [
      "[1] \"../../data/networks/null/binarized_weighted/786/\"\n",
      "[1] 0\n",
      "[1] \"generating null networks\"\n"
     ]
    },
    {
     "name": "stderr",
     "output_type": "stream",
     "text": [
      "\u001b[1m\u001b[22mNew names:\n",
      "\u001b[36m•\u001b[39m `` -> `...1`\n"
     ]
    },
    {
     "name": "stdout",
     "output_type": "stream",
     "text": [
      "[1] \"../../data/networks/null/binarized_weighted/787/\"\n",
      "[1] 0\n",
      "[1] \"generating null networks\"\n"
     ]
    },
    {
     "name": "stderr",
     "output_type": "stream",
     "text": [
      "\u001b[1m\u001b[22mNew names:\n",
      "\u001b[36m•\u001b[39m `` -> `...1`\n"
     ]
    },
    {
     "name": "stdout",
     "output_type": "stream",
     "text": [
      "[1] \"../../data/networks/null/binarized_weighted/788/\"\n",
      "[1] 0\n",
      "[1] \"generating null networks\"\n"
     ]
    },
    {
     "name": "stderr",
     "output_type": "stream",
     "text": [
      "\u001b[1m\u001b[22mNew names:\n",
      "\u001b[36m•\u001b[39m `` -> `...1`\n"
     ]
    },
    {
     "name": "stdout",
     "output_type": "stream",
     "text": [
      "[1] \"../../data/networks/null/binarized_weighted/789/\"\n",
      "[1] 0\n",
      "[1] \"generating null networks\"\n"
     ]
    },
    {
     "name": "stderr",
     "output_type": "stream",
     "text": [
      "\u001b[1m\u001b[22mNew names:\n",
      "\u001b[36m•\u001b[39m `` -> `...1`\n"
     ]
    },
    {
     "name": "stdout",
     "output_type": "stream",
     "text": [
      "[1] \"../../data/networks/null/binarized_weighted/790/\"\n",
      "[1] 0\n",
      "[1] \"generating null networks\"\n"
     ]
    },
    {
     "name": "stderr",
     "output_type": "stream",
     "text": [
      "\u001b[1m\u001b[22mNew names:\n",
      "\u001b[36m•\u001b[39m `` -> `...1`\n"
     ]
    },
    {
     "name": "stdout",
     "output_type": "stream",
     "text": [
      "[1] \"../../data/networks/null/binarized_weighted/791/\"\n",
      "[1] 0\n",
      "[1] \"generating null networks\"\n"
     ]
    },
    {
     "name": "stderr",
     "output_type": "stream",
     "text": [
      "\u001b[1m\u001b[22mNew names:\n",
      "\u001b[36m•\u001b[39m `` -> `...1`\n"
     ]
    },
    {
     "name": "stdout",
     "output_type": "stream",
     "text": [
      "[1] \"../../data/networks/null/binarized_weighted/792/\"\n",
      "[1] 0\n",
      "[1] \"generating null networks\"\n"
     ]
    },
    {
     "name": "stderr",
     "output_type": "stream",
     "text": [
      "\u001b[1m\u001b[22mNew names:\n",
      "\u001b[36m•\u001b[39m `` -> `...1`\n"
     ]
    },
    {
     "name": "stdout",
     "output_type": "stream",
     "text": [
      "[1] \"../../data/networks/null/binarized_weighted/793/\"\n",
      "[1] 0\n",
      "[1] \"generating null networks\"\n"
     ]
    },
    {
     "name": "stderr",
     "output_type": "stream",
     "text": [
      "\u001b[1m\u001b[22mNew names:\n",
      "\u001b[36m•\u001b[39m `` -> `...1`\n"
     ]
    },
    {
     "name": "stdout",
     "output_type": "stream",
     "text": [
      "[1] \"../../data/networks/null/binarized_weighted/794/\"\n",
      "[1] 0\n",
      "[1] \"generating null networks\"\n"
     ]
    },
    {
     "name": "stderr",
     "output_type": "stream",
     "text": [
      "\u001b[1m\u001b[22mNew names:\n",
      "\u001b[36m•\u001b[39m `` -> `...1`\n"
     ]
    },
    {
     "name": "stdout",
     "output_type": "stream",
     "text": [
      "[1] \"../../data/networks/null/binarized_weighted/795/\"\n",
      "[1] 0\n",
      "[1] \"generating null networks\"\n"
     ]
    },
    {
     "name": "stderr",
     "output_type": "stream",
     "text": [
      "\u001b[1m\u001b[22mNew names:\n",
      "\u001b[36m•\u001b[39m `` -> `...1`\n"
     ]
    },
    {
     "name": "stdout",
     "output_type": "stream",
     "text": [
      "[1] \"../../data/networks/null/binarized_weighted/796/\"\n",
      "[1] 0\n",
      "[1] \"generating null networks\"\n"
     ]
    },
    {
     "name": "stderr",
     "output_type": "stream",
     "text": [
      "\u001b[1m\u001b[22mNew names:\n",
      "\u001b[36m•\u001b[39m `` -> `...1`\n"
     ]
    },
    {
     "name": "stdout",
     "output_type": "stream",
     "text": [
      "[1] \"../../data/networks/null/binarized_weighted/797/\"\n",
      "[1] 0\n",
      "[1] \"generating null networks\"\n"
     ]
    },
    {
     "name": "stderr",
     "output_type": "stream",
     "text": [
      "\u001b[1m\u001b[22mNew names:\n",
      "\u001b[36m•\u001b[39m `` -> `...1`\n"
     ]
    },
    {
     "name": "stdout",
     "output_type": "stream",
     "text": [
      "[1] \"../../data/networks/null/binarized_weighted/798/\"\n",
      "[1] 0\n",
      "[1] \"generating null networks\"\n"
     ]
    },
    {
     "name": "stderr",
     "output_type": "stream",
     "text": [
      "\u001b[1m\u001b[22mNew names:\n",
      "\u001b[36m•\u001b[39m `` -> `...1`\n"
     ]
    },
    {
     "name": "stdout",
     "output_type": "stream",
     "text": [
      "[1] \"../../data/networks/null/binarized_weighted/799/\"\n",
      "[1] 0\n",
      "[1] \"generating null networks\"\n"
     ]
    },
    {
     "name": "stderr",
     "output_type": "stream",
     "text": [
      "\u001b[1m\u001b[22mNew names:\n",
      "\u001b[36m•\u001b[39m `` -> `...1`\n"
     ]
    },
    {
     "name": "stdout",
     "output_type": "stream",
     "text": [
      "[1] \"../../data/networks/null/binarized_weighted/800/\"\n",
      "[1] 0\n",
      "[1] \"generating null networks\"\n"
     ]
    },
    {
     "name": "stderr",
     "output_type": "stream",
     "text": [
      "\u001b[1m\u001b[22mNew names:\n",
      "\u001b[36m•\u001b[39m `` -> `...1`\n"
     ]
    },
    {
     "name": "stdout",
     "output_type": "stream",
     "text": [
      "[1] \"../../data/networks/null/binarized_weighted/801/\"\n",
      "[1] 0\n",
      "[1] \"generating null networks\"\n"
     ]
    },
    {
     "name": "stderr",
     "output_type": "stream",
     "text": [
      "\u001b[1m\u001b[22mNew names:\n",
      "\u001b[36m•\u001b[39m `` -> `...1`\n"
     ]
    },
    {
     "name": "stdout",
     "output_type": "stream",
     "text": [
      "[1] \"../../data/networks/null/binarized_weighted/802/\"\n",
      "[1] 0\n",
      "[1] \"generating null networks\"\n"
     ]
    },
    {
     "name": "stderr",
     "output_type": "stream",
     "text": [
      "\u001b[1m\u001b[22mNew names:\n",
      "\u001b[36m•\u001b[39m `` -> `...1`\n"
     ]
    },
    {
     "name": "stdout",
     "output_type": "stream",
     "text": [
      "[1] \"../../data/networks/null/binarized_weighted/803/\"\n",
      "[1] 0\n",
      "[1] \"generating null networks\"\n"
     ]
    },
    {
     "name": "stderr",
     "output_type": "stream",
     "text": [
      "\u001b[1m\u001b[22mNew names:\n",
      "\u001b[36m•\u001b[39m `` -> `...1`\n"
     ]
    },
    {
     "name": "stdout",
     "output_type": "stream",
     "text": [
      "[1] \"../../data/networks/null/binarized_weighted/804/\"\n",
      "[1] 0\n",
      "[1] \"generating null networks\"\n"
     ]
    },
    {
     "name": "stderr",
     "output_type": "stream",
     "text": [
      "\u001b[1m\u001b[22mNew names:\n",
      "\u001b[36m•\u001b[39m `` -> `...1`\n"
     ]
    },
    {
     "name": "stdout",
     "output_type": "stream",
     "text": [
      "[1] \"../../data/networks/null/binarized_weighted/805/\"\n",
      "[1] 0\n",
      "[1] \"generating null networks\"\n"
     ]
    },
    {
     "name": "stderr",
     "output_type": "stream",
     "text": [
      "\u001b[1m\u001b[22mNew names:\n",
      "\u001b[36m•\u001b[39m `` -> `...1`\n"
     ]
    },
    {
     "name": "stdout",
     "output_type": "stream",
     "text": [
      "[1] \"../../data/networks/null/binarized_weighted/806/\"\n",
      "[1] 0\n",
      "[1] \"generating null networks\"\n"
     ]
    },
    {
     "name": "stderr",
     "output_type": "stream",
     "text": [
      "\u001b[1m\u001b[22mNew names:\n",
      "\u001b[36m•\u001b[39m `` -> `...1`\n"
     ]
    },
    {
     "name": "stdout",
     "output_type": "stream",
     "text": [
      "[1] \"../../data/networks/null/binarized_weighted/807/\"\n",
      "[1] 0\n",
      "[1] \"generating null networks\"\n"
     ]
    },
    {
     "name": "stderr",
     "output_type": "stream",
     "text": [
      "\u001b[1m\u001b[22mNew names:\n",
      "\u001b[36m•\u001b[39m `` -> `...1`\n"
     ]
    },
    {
     "name": "stdout",
     "output_type": "stream",
     "text": [
      "[1] \"../../data/networks/null/binarized_weighted/808/\"\n",
      "[1] 0\n",
      "[1] \"generating null networks\"\n"
     ]
    },
    {
     "name": "stderr",
     "output_type": "stream",
     "text": [
      "\u001b[1m\u001b[22mNew names:\n",
      "\u001b[36m•\u001b[39m `` -> `...1`\n"
     ]
    },
    {
     "name": "stdout",
     "output_type": "stream",
     "text": [
      "[1] \"../../data/networks/null/binarized_weighted/809/\"\n",
      "[1] 0\n",
      "[1] \"generating null networks\"\n"
     ]
    },
    {
     "name": "stderr",
     "output_type": "stream",
     "text": [
      "\u001b[1m\u001b[22mNew names:\n",
      "\u001b[36m•\u001b[39m `` -> `...1`\n"
     ]
    },
    {
     "name": "stdout",
     "output_type": "stream",
     "text": [
      "[1] \"../../data/networks/null/binarized_weighted/810/\"\n",
      "[1] 0\n",
      "[1] \"generating null networks\"\n"
     ]
    },
    {
     "name": "stderr",
     "output_type": "stream",
     "text": [
      "\u001b[1m\u001b[22mNew names:\n",
      "\u001b[36m•\u001b[39m `` -> `...1`\n"
     ]
    },
    {
     "name": "stdout",
     "output_type": "stream",
     "text": [
      "[1] \"../../data/networks/null/binarized_weighted/811/\"\n",
      "[1] 0\n",
      "[1] \"generating null networks\"\n"
     ]
    },
    {
     "name": "stderr",
     "output_type": "stream",
     "text": [
      "\u001b[1m\u001b[22mNew names:\n",
      "\u001b[36m•\u001b[39m `` -> `...1`\n"
     ]
    },
    {
     "name": "stdout",
     "output_type": "stream",
     "text": [
      "[1] \"../../data/networks/null/binarized_weighted/812/\"\n",
      "[1] 0\n",
      "[1] \"generating null networks\"\n"
     ]
    },
    {
     "name": "stderr",
     "output_type": "stream",
     "text": [
      "\u001b[1m\u001b[22mNew names:\n",
      "\u001b[36m•\u001b[39m `` -> `...1`\n"
     ]
    },
    {
     "name": "stdout",
     "output_type": "stream",
     "text": [
      "[1] \"../../data/networks/null/binarized_weighted/813/\"\n",
      "[1] 0\n",
      "[1] \"generating null networks\"\n"
     ]
    },
    {
     "name": "stderr",
     "output_type": "stream",
     "text": [
      "\u001b[1m\u001b[22mNew names:\n",
      "\u001b[36m•\u001b[39m `` -> `...1`\n"
     ]
    },
    {
     "name": "stdout",
     "output_type": "stream",
     "text": [
      "[1] \"generating null networks\"\n"
     ]
    },
    {
     "name": "stderr",
     "output_type": "stream",
     "text": [
      "\u001b[1m\u001b[22mNew names:\n",
      "\u001b[36m•\u001b[39m `` -> `...1`\n"
     ]
    },
    {
     "name": "stdout",
     "output_type": "stream",
     "text": [
      "[1] \"../../data/networks/null/binarized_weighted/815/\"\n",
      "[1] 0\n",
      "[1] \"generating null networks\"\n"
     ]
    },
    {
     "name": "stderr",
     "output_type": "stream",
     "text": [
      "\u001b[1m\u001b[22mNew names:\n",
      "\u001b[36m•\u001b[39m `` -> `...1`\n"
     ]
    },
    {
     "name": "stdout",
     "output_type": "stream",
     "text": [
      "[1] \"generating null networks\"\n"
     ]
    },
    {
     "name": "stderr",
     "output_type": "stream",
     "text": [
      "\u001b[1m\u001b[22mNew names:\n",
      "\u001b[36m•\u001b[39m `` -> `...1`\n"
     ]
    },
    {
     "name": "stdout",
     "output_type": "stream",
     "text": [
      "[1] \"../../data/networks/null/binarized_weighted/817/\"\n",
      "[1] 0\n",
      "[1] \"generating null networks\"\n"
     ]
    },
    {
     "name": "stderr",
     "output_type": "stream",
     "text": [
      "\u001b[1m\u001b[22mNew names:\n",
      "\u001b[36m•\u001b[39m `` -> `...1`\n"
     ]
    },
    {
     "name": "stdout",
     "output_type": "stream",
     "text": [
      "[1] \"../../data/networks/null/binarized_weighted/818/\"\n",
      "[1] 0\n",
      "[1] \"generating null networks\"\n"
     ]
    },
    {
     "name": "stderr",
     "output_type": "stream",
     "text": [
      "\u001b[1m\u001b[22mNew names:\n",
      "\u001b[36m•\u001b[39m `` -> `...1`\n"
     ]
    },
    {
     "name": "stdout",
     "output_type": "stream",
     "text": [
      "[1] \"generating null networks\"\n"
     ]
    },
    {
     "name": "stderr",
     "output_type": "stream",
     "text": [
      "\u001b[1m\u001b[22mNew names:\n",
      "\u001b[36m•\u001b[39m `` -> `...1`\n"
     ]
    },
    {
     "name": "stdout",
     "output_type": "stream",
     "text": [
      "[1] \"../../data/networks/null/binarized_weighted/820/\"\n",
      "[1] 0\n",
      "[1] \"generating null networks\"\n"
     ]
    },
    {
     "name": "stderr",
     "output_type": "stream",
     "text": [
      "\u001b[1m\u001b[22mNew names:\n",
      "\u001b[36m•\u001b[39m `` -> `...1`\n"
     ]
    },
    {
     "name": "stdout",
     "output_type": "stream",
     "text": [
      "[1] \"../../data/networks/null/binarized_weighted/821/\"\n",
      "[1] 0\n",
      "[1] \"generating null networks\"\n"
     ]
    },
    {
     "name": "stderr",
     "output_type": "stream",
     "text": [
      "\u001b[1m\u001b[22mNew names:\n",
      "\u001b[36m•\u001b[39m `` -> `...1`\n"
     ]
    },
    {
     "name": "stdout",
     "output_type": "stream",
     "text": [
      "[1] \"generating null networks\"\n"
     ]
    },
    {
     "name": "stderr",
     "output_type": "stream",
     "text": [
      "\u001b[1m\u001b[22mNew names:\n",
      "\u001b[36m•\u001b[39m `` -> `...1`\n"
     ]
    },
    {
     "name": "stdout",
     "output_type": "stream",
     "text": [
      "[1] \"../../data/networks/null/binarized_weighted/823/\"\n",
      "[1] 0\n",
      "[1] \"generating null networks\"\n"
     ]
    },
    {
     "name": "stderr",
     "output_type": "stream",
     "text": [
      "\u001b[1m\u001b[22mNew names:\n",
      "\u001b[36m•\u001b[39m `` -> `...1`\n"
     ]
    },
    {
     "name": "stdout",
     "output_type": "stream",
     "text": [
      "[1] \"../../data/networks/null/binarized_weighted/824/\"\n",
      "[1] 0\n",
      "[1] \"generating null networks\"\n"
     ]
    },
    {
     "name": "stderr",
     "output_type": "stream",
     "text": [
      "\u001b[1m\u001b[22mNew names:\n",
      "\u001b[36m•\u001b[39m `` -> `...1`\n"
     ]
    },
    {
     "name": "stdout",
     "output_type": "stream",
     "text": [
      "[1] \"../../data/networks/null/binarized_weighted/825/\"\n",
      "[1] 0\n",
      "[1] \"generating null networks\"\n"
     ]
    },
    {
     "name": "stderr",
     "output_type": "stream",
     "text": [
      "\u001b[1m\u001b[22mNew names:\n",
      "\u001b[36m•\u001b[39m `` -> `...1`\n"
     ]
    },
    {
     "name": "stdout",
     "output_type": "stream",
     "text": [
      "[1] \"../../data/networks/null/binarized_weighted/826/\"\n",
      "[1] 0\n",
      "[1] \"generating null networks\"\n"
     ]
    },
    {
     "name": "stderr",
     "output_type": "stream",
     "text": [
      "\u001b[1m\u001b[22mNew names:\n",
      "\u001b[36m•\u001b[39m `` -> `...1`\n"
     ]
    },
    {
     "name": "stdout",
     "output_type": "stream",
     "text": [
      "[1] \"../../data/networks/null/binarized_weighted/827/\"\n",
      "[1] 0\n",
      "[1] \"generating null networks\"\n"
     ]
    },
    {
     "name": "stderr",
     "output_type": "stream",
     "text": [
      "\u001b[1m\u001b[22mNew names:\n",
      "\u001b[36m•\u001b[39m `` -> `...1`\n"
     ]
    },
    {
     "name": "stdout",
     "output_type": "stream",
     "text": [
      "[1] \"../../data/networks/null/binarized_weighted/828/\"\n",
      "[1] 0\n",
      "[1] \"generating null networks\"\n"
     ]
    },
    {
     "name": "stderr",
     "output_type": "stream",
     "text": [
      "\u001b[1m\u001b[22mNew names:\n",
      "\u001b[36m•\u001b[39m `` -> `...1`\n"
     ]
    },
    {
     "name": "stdout",
     "output_type": "stream",
     "text": [
      "[1] \"../../data/networks/null/binarized_weighted/829/\"\n",
      "[1] 0\n",
      "[1] \"generating null networks\"\n"
     ]
    },
    {
     "name": "stderr",
     "output_type": "stream",
     "text": [
      "\u001b[1m\u001b[22mNew names:\n",
      "\u001b[36m•\u001b[39m `` -> `...1`\n"
     ]
    },
    {
     "name": "stdout",
     "output_type": "stream",
     "text": [
      "[1] \"../../data/networks/null/binarized_weighted/830/\"\n",
      "[1] 0\n",
      "[1] \"generating null networks\"\n"
     ]
    },
    {
     "name": "stderr",
     "output_type": "stream",
     "text": [
      "\u001b[1m\u001b[22mNew names:\n",
      "\u001b[36m•\u001b[39m `` -> `...1`\n"
     ]
    },
    {
     "name": "stdout",
     "output_type": "stream",
     "text": [
      "[1] \"../../data/networks/null/binarized_weighted/831/\"\n",
      "[1] 0\n",
      "[1] \"generating null networks\"\n"
     ]
    },
    {
     "name": "stderr",
     "output_type": "stream",
     "text": [
      "\u001b[1m\u001b[22mNew names:\n",
      "\u001b[36m•\u001b[39m `` -> `...1`\n"
     ]
    },
    {
     "name": "stdout",
     "output_type": "stream",
     "text": [
      "[1] \"../../data/networks/null/binarized_weighted/832/\"\n",
      "[1] 0\n",
      "[1] \"generating null networks\"\n"
     ]
    },
    {
     "name": "stderr",
     "output_type": "stream",
     "text": [
      "\u001b[1m\u001b[22mNew names:\n",
      "\u001b[36m•\u001b[39m `` -> `...1`\n"
     ]
    },
    {
     "name": "stdout",
     "output_type": "stream",
     "text": [
      "[1] \"../../data/networks/null/binarized_weighted/833/\"\n",
      "[1] 0\n",
      "[1] \"generating null networks\"\n"
     ]
    },
    {
     "name": "stderr",
     "output_type": "stream",
     "text": [
      "\u001b[1m\u001b[22mNew names:\n",
      "\u001b[36m•\u001b[39m `` -> `...1`\n"
     ]
    },
    {
     "name": "stdout",
     "output_type": "stream",
     "text": [
      "[1] \"../../data/networks/null/binarized_weighted/834/\"\n",
      "[1] 0\n",
      "[1] \"generating null networks\"\n"
     ]
    },
    {
     "name": "stderr",
     "output_type": "stream",
     "text": [
      "\u001b[1m\u001b[22mNew names:\n",
      "\u001b[36m•\u001b[39m `` -> `...1`\n"
     ]
    },
    {
     "name": "stdout",
     "output_type": "stream",
     "text": [
      "[1] \"../../data/networks/null/binarized_weighted/835/\"\n",
      "[1] 0\n",
      "[1] \"generating null networks\"\n"
     ]
    },
    {
     "name": "stderr",
     "output_type": "stream",
     "text": [
      "\u001b[1m\u001b[22mNew names:\n",
      "\u001b[36m•\u001b[39m `` -> `...1`\n"
     ]
    },
    {
     "name": "stdout",
     "output_type": "stream",
     "text": [
      "[1] \"../../data/networks/null/binarized_weighted/836/\"\n",
      "[1] 0\n",
      "[1] \"generating null networks\"\n"
     ]
    },
    {
     "name": "stderr",
     "output_type": "stream",
     "text": [
      "\u001b[1m\u001b[22mNew names:\n",
      "\u001b[36m•\u001b[39m `` -> `...1`\n"
     ]
    },
    {
     "name": "stdout",
     "output_type": "stream",
     "text": [
      "[1] \"../../data/networks/null/binarized_weighted/837/\"\n",
      "[1] 0\n",
      "[1] \"generating null networks\"\n"
     ]
    },
    {
     "name": "stderr",
     "output_type": "stream",
     "text": [
      "\u001b[1m\u001b[22mNew names:\n",
      "\u001b[36m•\u001b[39m `` -> `...1`\n"
     ]
    },
    {
     "name": "stdout",
     "output_type": "stream",
     "text": [
      "[1] \"../../data/networks/null/binarized_weighted/838/\"\n",
      "[1] 0\n",
      "[1] \"generating null networks\"\n"
     ]
    },
    {
     "name": "stderr",
     "output_type": "stream",
     "text": [
      "\u001b[1m\u001b[22mNew names:\n",
      "\u001b[36m•\u001b[39m `` -> `...1`\n"
     ]
    },
    {
     "name": "stdout",
     "output_type": "stream",
     "text": [
      "[1] \"../../data/networks/null/binarized_weighted/839/\"\n",
      "[1] 0\n",
      "[1] \"generating null networks\"\n"
     ]
    },
    {
     "name": "stderr",
     "output_type": "stream",
     "text": [
      "\u001b[1m\u001b[22mNew names:\n",
      "\u001b[36m•\u001b[39m `` -> `...1`\n"
     ]
    },
    {
     "name": "stdout",
     "output_type": "stream",
     "text": [
      "[1] \"../../data/networks/null/binarized_weighted/840/\"\n",
      "[1] 0\n",
      "[1] \"generating null networks\"\n"
     ]
    },
    {
     "name": "stderr",
     "output_type": "stream",
     "text": [
      "\u001b[1m\u001b[22mNew names:\n",
      "\u001b[36m•\u001b[39m `` -> `...1`\n"
     ]
    },
    {
     "name": "stdout",
     "output_type": "stream",
     "text": [
      "[1] \"../../data/networks/null/binarized_weighted/841/\"\n",
      "[1] 0\n",
      "[1] \"generating null networks\"\n"
     ]
    },
    {
     "name": "stderr",
     "output_type": "stream",
     "text": [
      "\u001b[1m\u001b[22mNew names:\n",
      "\u001b[36m•\u001b[39m `` -> `...1`\n"
     ]
    },
    {
     "name": "stdout",
     "output_type": "stream",
     "text": [
      "[1] \"../../data/networks/null/binarized_weighted/842/\"\n",
      "[1] 0\n",
      "[1] \"generating null networks\"\n"
     ]
    },
    {
     "name": "stderr",
     "output_type": "stream",
     "text": [
      "\u001b[1m\u001b[22mNew names:\n",
      "\u001b[36m•\u001b[39m `` -> `...1`\n"
     ]
    },
    {
     "name": "stdout",
     "output_type": "stream",
     "text": [
      "[1] \"../../data/networks/null/binarized_weighted/843/\"\n",
      "[1] 0\n",
      "[1] \"generating null networks\"\n"
     ]
    },
    {
     "name": "stderr",
     "output_type": "stream",
     "text": [
      "\u001b[1m\u001b[22mNew names:\n",
      "\u001b[36m•\u001b[39m `` -> `...1`\n"
     ]
    },
    {
     "name": "stdout",
     "output_type": "stream",
     "text": [
      "[1] \"../../data/networks/null/binarized_weighted/844/\"\n",
      "[1] 0\n",
      "[1] \"generating null networks\"\n"
     ]
    },
    {
     "name": "stderr",
     "output_type": "stream",
     "text": [
      "\u001b[1m\u001b[22mNew names:\n",
      "\u001b[36m•\u001b[39m `` -> `...1`\n"
     ]
    },
    {
     "name": "stdout",
     "output_type": "stream",
     "text": [
      "[1] \"../../data/networks/null/binarized_weighted/845/\"\n",
      "[1] 0\n",
      "[1] \"generating null networks\"\n"
     ]
    },
    {
     "name": "stderr",
     "output_type": "stream",
     "text": [
      "\u001b[1m\u001b[22mNew names:\n",
      "\u001b[36m•\u001b[39m `` -> `...1`\n"
     ]
    },
    {
     "name": "stdout",
     "output_type": "stream",
     "text": [
      "[1] \"../../data/networks/null/binarized_weighted/846/\"\n",
      "[1] 0\n",
      "[1] \"generating null networks\"\n"
     ]
    },
    {
     "name": "stderr",
     "output_type": "stream",
     "text": [
      "\u001b[1m\u001b[22mNew names:\n",
      "\u001b[36m•\u001b[39m `` -> `...1`\n"
     ]
    },
    {
     "name": "stdout",
     "output_type": "stream",
     "text": [
      "[1] \"../../data/networks/null/binarized_weighted/847/\"\n",
      "[1] 0\n",
      "[1] \"generating null networks\"\n"
     ]
    },
    {
     "name": "stderr",
     "output_type": "stream",
     "text": [
      "\u001b[1m\u001b[22mNew names:\n",
      "\u001b[36m•\u001b[39m `` -> `...1`\n"
     ]
    },
    {
     "name": "stdout",
     "output_type": "stream",
     "text": [
      "[1] \"../../data/networks/null/binarized_weighted/848/\"\n",
      "[1] 0\n",
      "[1] \"generating null networks\"\n"
     ]
    },
    {
     "name": "stderr",
     "output_type": "stream",
     "text": [
      "\u001b[1m\u001b[22mNew names:\n",
      "\u001b[36m•\u001b[39m `` -> `...1`\n"
     ]
    },
    {
     "name": "stdout",
     "output_type": "stream",
     "text": [
      "[1] \"generating null networks\"\n"
     ]
    },
    {
     "name": "stderr",
     "output_type": "stream",
     "text": [
      "\u001b[1m\u001b[22mNew names:\n",
      "\u001b[36m•\u001b[39m `` -> `...1`\n"
     ]
    },
    {
     "name": "stdout",
     "output_type": "stream",
     "text": [
      "[1] \"../../data/networks/null/binarized_weighted/850/\"\n",
      "[1] 0\n",
      "[1] \"generating null networks\"\n"
     ]
    },
    {
     "name": "stderr",
     "output_type": "stream",
     "text": [
      "\u001b[1m\u001b[22mNew names:\n",
      "\u001b[36m•\u001b[39m `` -> `...1`\n"
     ]
    },
    {
     "name": "stdout",
     "output_type": "stream",
     "text": [
      "[1] \"../../data/networks/null/binarized_weighted/851/\"\n",
      "[1] 0\n",
      "[1] \"generating null networks\"\n"
     ]
    },
    {
     "name": "stderr",
     "output_type": "stream",
     "text": [
      "\u001b[1m\u001b[22mNew names:\n",
      "\u001b[36m•\u001b[39m `` -> `...1`\n"
     ]
    },
    {
     "name": "stdout",
     "output_type": "stream",
     "text": [
      "[1] \"../../data/networks/null/binarized_weighted/852/\"\n",
      "[1] 0\n",
      "[1] \"generating null networks\"\n"
     ]
    },
    {
     "name": "stderr",
     "output_type": "stream",
     "text": [
      "\u001b[1m\u001b[22mNew names:\n",
      "\u001b[36m•\u001b[39m `` -> `...1`\n"
     ]
    },
    {
     "name": "stdout",
     "output_type": "stream",
     "text": [
      "[1] \"../../data/networks/null/binarized_weighted/853/\"\n",
      "[1] 0\n",
      "[1] \"generating null networks\"\n"
     ]
    },
    {
     "name": "stderr",
     "output_type": "stream",
     "text": [
      "\u001b[1m\u001b[22mNew names:\n",
      "\u001b[36m•\u001b[39m `` -> `...1`\n"
     ]
    },
    {
     "name": "stdout",
     "output_type": "stream",
     "text": [
      "[1] \"../../data/networks/null/binarized_weighted/854/\"\n",
      "[1] 0\n",
      "[1] \"generating null networks\"\n"
     ]
    },
    {
     "name": "stderr",
     "output_type": "stream",
     "text": [
      "\u001b[1m\u001b[22mNew names:\n",
      "\u001b[36m•\u001b[39m `` -> `...1`\n"
     ]
    },
    {
     "name": "stdout",
     "output_type": "stream",
     "text": [
      "[1] \"../../data/networks/null/binarized_weighted/855/\"\n",
      "[1] 0\n",
      "[1] \"generating null networks\"\n"
     ]
    },
    {
     "name": "stderr",
     "output_type": "stream",
     "text": [
      "\u001b[1m\u001b[22mNew names:\n",
      "\u001b[36m•\u001b[39m `` -> `...1`\n"
     ]
    },
    {
     "name": "stdout",
     "output_type": "stream",
     "text": [
      "[1] \"../../data/networks/null/binarized_weighted/856/\"\n",
      "[1] 0\n",
      "[1] \"generating null networks\"\n"
     ]
    },
    {
     "name": "stderr",
     "output_type": "stream",
     "text": [
      "\u001b[1m\u001b[22mNew names:\n",
      "\u001b[36m•\u001b[39m `` -> `...1`\n"
     ]
    },
    {
     "name": "stdout",
     "output_type": "stream",
     "text": [
      "[1] \"../../data/networks/null/binarized_weighted/857/\"\n",
      "[1] 0\n",
      "[1] \"generating null networks\"\n"
     ]
    },
    {
     "name": "stderr",
     "output_type": "stream",
     "text": [
      "\u001b[1m\u001b[22mNew names:\n",
      "\u001b[36m•\u001b[39m `` -> `...1`\n"
     ]
    },
    {
     "name": "stdout",
     "output_type": "stream",
     "text": [
      "[1] \"../../data/networks/null/binarized_weighted/858/\"\n",
      "[1] 0\n",
      "[1] \"generating null networks\"\n"
     ]
    },
    {
     "name": "stderr",
     "output_type": "stream",
     "text": [
      "\u001b[1m\u001b[22mNew names:\n",
      "\u001b[36m•\u001b[39m `` -> `...1`\n"
     ]
    },
    {
     "name": "stdout",
     "output_type": "stream",
     "text": [
      "[1] \"../../data/networks/null/binarized_weighted/859/\"\n",
      "[1] 0\n",
      "[1] \"generating null networks\"\n"
     ]
    },
    {
     "name": "stderr",
     "output_type": "stream",
     "text": [
      "\u001b[1m\u001b[22mNew names:\n",
      "\u001b[36m•\u001b[39m `` -> `...1`\n"
     ]
    },
    {
     "name": "stdout",
     "output_type": "stream",
     "text": [
      "[1] \"../../data/networks/null/binarized_weighted/860/\"\n",
      "[1] 0\n",
      "[1] \"generating null networks\"\n"
     ]
    },
    {
     "name": "stderr",
     "output_type": "stream",
     "text": [
      "\u001b[1m\u001b[22mNew names:\n",
      "\u001b[36m•\u001b[39m `` -> `...1`\n"
     ]
    },
    {
     "name": "stdout",
     "output_type": "stream",
     "text": [
      "[1] \"../../data/networks/null/binarized_weighted/861/\"\n",
      "[1] 0\n",
      "[1] \"generating null networks\"\n"
     ]
    },
    {
     "name": "stderr",
     "output_type": "stream",
     "text": [
      "\u001b[1m\u001b[22mNew names:\n",
      "\u001b[36m•\u001b[39m `` -> `...1`\n"
     ]
    },
    {
     "name": "stdout",
     "output_type": "stream",
     "text": [
      "[1] \"../../data/networks/null/binarized_weighted/862/\"\n",
      "[1] 0\n",
      "[1] \"generating null networks\"\n"
     ]
    },
    {
     "name": "stderr",
     "output_type": "stream",
     "text": [
      "\u001b[1m\u001b[22mNew names:\n",
      "\u001b[36m•\u001b[39m `` -> `...1`\n"
     ]
    },
    {
     "name": "stdout",
     "output_type": "stream",
     "text": [
      "[1] \"../../data/networks/null/binarized_weighted/863/\"\n",
      "[1] 0\n",
      "[1] \"generating null networks\"\n"
     ]
    },
    {
     "name": "stderr",
     "output_type": "stream",
     "text": [
      "\u001b[1m\u001b[22mNew names:\n",
      "\u001b[36m•\u001b[39m `` -> `...1`\n"
     ]
    },
    {
     "name": "stdout",
     "output_type": "stream",
     "text": [
      "[1] \"../../data/networks/null/binarized_weighted/864/\"\n",
      "[1] 0\n",
      "[1] \"generating null networks\"\n"
     ]
    },
    {
     "name": "stderr",
     "output_type": "stream",
     "text": [
      "\u001b[1m\u001b[22mNew names:\n",
      "\u001b[36m•\u001b[39m `` -> `...1`\n"
     ]
    },
    {
     "name": "stdout",
     "output_type": "stream",
     "text": [
      "[1] \"../../data/networks/null/binarized_weighted/865/\"\n",
      "[1] 0\n",
      "[1] \"generating null networks\"\n"
     ]
    },
    {
     "name": "stderr",
     "output_type": "stream",
     "text": [
      "\u001b[1m\u001b[22mNew names:\n",
      "\u001b[36m•\u001b[39m `` -> `...1`\n"
     ]
    },
    {
     "name": "stdout",
     "output_type": "stream",
     "text": [
      "[1] \"../../data/networks/null/binarized_weighted/866/\"\n",
      "[1] 0\n",
      "[1] \"generating null networks\"\n"
     ]
    },
    {
     "name": "stderr",
     "output_type": "stream",
     "text": [
      "\u001b[1m\u001b[22mNew names:\n",
      "\u001b[36m•\u001b[39m `` -> `...1`\n"
     ]
    },
    {
     "name": "stdout",
     "output_type": "stream",
     "text": [
      "[1] \"../../data/networks/null/binarized_weighted/867/\"\n",
      "[1] 0\n",
      "[1] \"generating null networks\"\n"
     ]
    },
    {
     "name": "stderr",
     "output_type": "stream",
     "text": [
      "\u001b[1m\u001b[22mNew names:\n",
      "\u001b[36m•\u001b[39m `` -> `...1`\n"
     ]
    },
    {
     "name": "stdout",
     "output_type": "stream",
     "text": [
      "[1] \"../../data/networks/null/binarized_weighted/868/\"\n",
      "[1] 0\n",
      "[1] \"generating null networks\"\n"
     ]
    },
    {
     "name": "stderr",
     "output_type": "stream",
     "text": [
      "\u001b[1m\u001b[22mNew names:\n",
      "\u001b[36m•\u001b[39m `` -> `...1`\n"
     ]
    },
    {
     "name": "stdout",
     "output_type": "stream",
     "text": [
      "[1] \"../../data/networks/null/binarized_weighted/869/\"\n",
      "[1] 0\n",
      "[1] \"generating null networks\"\n"
     ]
    },
    {
     "name": "stderr",
     "output_type": "stream",
     "text": [
      "\u001b[1m\u001b[22mNew names:\n",
      "\u001b[36m•\u001b[39m `` -> `...1`\n"
     ]
    },
    {
     "name": "stdout",
     "output_type": "stream",
     "text": [
      "[1] \"../../data/networks/null/binarized_weighted/870/\"\n",
      "[1] 0\n",
      "[1] \"generating null networks\"\n"
     ]
    },
    {
     "name": "stderr",
     "output_type": "stream",
     "text": [
      "\u001b[1m\u001b[22mNew names:\n",
      "\u001b[36m•\u001b[39m `` -> `...1`\n"
     ]
    },
    {
     "name": "stdout",
     "output_type": "stream",
     "text": [
      "[1] \"../../data/networks/null/binarized_weighted/871/\"\n",
      "[1] 0\n",
      "[1] \"generating null networks\"\n"
     ]
    },
    {
     "name": "stderr",
     "output_type": "stream",
     "text": [
      "\u001b[1m\u001b[22mNew names:\n",
      "\u001b[36m•\u001b[39m `` -> `...1`\n"
     ]
    },
    {
     "name": "stdout",
     "output_type": "stream",
     "text": [
      "[1] \"../../data/networks/null/binarized_weighted/872/\"\n",
      "[1] 0\n",
      "[1] \"generating null networks\"\n"
     ]
    },
    {
     "name": "stderr",
     "output_type": "stream",
     "text": [
      "\u001b[1m\u001b[22mNew names:\n",
      "\u001b[36m•\u001b[39m `` -> `...1`\n"
     ]
    },
    {
     "name": "stdout",
     "output_type": "stream",
     "text": [
      "[1] \"../../data/networks/null/binarized_weighted/873/\"\n",
      "[1] 0\n",
      "[1] \"generating null networks\"\n"
     ]
    },
    {
     "name": "stderr",
     "output_type": "stream",
     "text": [
      "\u001b[1m\u001b[22mNew names:\n",
      "\u001b[36m•\u001b[39m `` -> `...1`\n"
     ]
    },
    {
     "name": "stdout",
     "output_type": "stream",
     "text": [
      "[1] \"../../data/networks/null/binarized_weighted/874/\"\n",
      "[1] 0\n",
      "[1] \"generating null networks\"\n"
     ]
    },
    {
     "name": "stderr",
     "output_type": "stream",
     "text": [
      "\u001b[1m\u001b[22mNew names:\n",
      "\u001b[36m•\u001b[39m `` -> `...1`\n"
     ]
    },
    {
     "name": "stdout",
     "output_type": "stream",
     "text": [
      "[1] \"../../data/networks/null/binarized_weighted/875/\"\n",
      "[1] 0\n",
      "[1] \"generating null networks\"\n"
     ]
    },
    {
     "name": "stderr",
     "output_type": "stream",
     "text": [
      "\u001b[1m\u001b[22mNew names:\n",
      "\u001b[36m•\u001b[39m `` -> `...1`\n"
     ]
    },
    {
     "name": "stdout",
     "output_type": "stream",
     "text": [
      "[1] \"../../data/networks/null/binarized_weighted/876/\"\n",
      "[1] 0\n",
      "[1] \"generating null networks\"\n"
     ]
    },
    {
     "name": "stderr",
     "output_type": "stream",
     "text": [
      "\u001b[1m\u001b[22mNew names:\n",
      "\u001b[36m•\u001b[39m `` -> `...1`\n"
     ]
    },
    {
     "name": "stdout",
     "output_type": "stream",
     "text": [
      "[1] \"../../data/networks/null/binarized_weighted/877/\"\n",
      "[1] 0\n",
      "[1] \"generating null networks\"\n"
     ]
    },
    {
     "name": "stderr",
     "output_type": "stream",
     "text": [
      "\u001b[1m\u001b[22mNew names:\n",
      "\u001b[36m•\u001b[39m `` -> `...1`\n"
     ]
    },
    {
     "name": "stdout",
     "output_type": "stream",
     "text": [
      "[1] \"../../data/networks/null/binarized_weighted/878/\"\n",
      "[1] 0\n",
      "[1] \"generating null networks\"\n"
     ]
    },
    {
     "name": "stderr",
     "output_type": "stream",
     "text": [
      "\u001b[1m\u001b[22mNew names:\n",
      "\u001b[36m•\u001b[39m `` -> `...1`\n"
     ]
    },
    {
     "name": "stdout",
     "output_type": "stream",
     "text": [
      "[1] \"../../data/networks/null/binarized_weighted/879/\"\n",
      "[1] 0\n",
      "[1] \"generating null networks\"\n"
     ]
    },
    {
     "name": "stderr",
     "output_type": "stream",
     "text": [
      "\u001b[1m\u001b[22mNew names:\n",
      "\u001b[36m•\u001b[39m `` -> `...1`\n"
     ]
    },
    {
     "name": "stdout",
     "output_type": "stream",
     "text": [
      "[1] \"../../data/networks/null/binarized_weighted/880/\"\n",
      "[1] 0\n",
      "[1] \"generating null networks\"\n"
     ]
    },
    {
     "name": "stderr",
     "output_type": "stream",
     "text": [
      "\u001b[1m\u001b[22mNew names:\n",
      "\u001b[36m•\u001b[39m `` -> `...1`\n"
     ]
    },
    {
     "name": "stdout",
     "output_type": "stream",
     "text": [
      "[1] \"../../data/networks/null/binarized_weighted/881/\"\n",
      "[1] 0\n",
      "[1] \"generating null networks\"\n"
     ]
    },
    {
     "name": "stderr",
     "output_type": "stream",
     "text": [
      "\u001b[1m\u001b[22mNew names:\n",
      "\u001b[36m•\u001b[39m `` -> `...1`\n"
     ]
    },
    {
     "name": "stdout",
     "output_type": "stream",
     "text": [
      "[1] \"../../data/networks/null/binarized_weighted/882/\"\n",
      "[1] 0\n",
      "[1] \"generating null networks\"\n"
     ]
    },
    {
     "name": "stderr",
     "output_type": "stream",
     "text": [
      "\u001b[1m\u001b[22mNew names:\n",
      "\u001b[36m•\u001b[39m `` -> `...1`\n"
     ]
    },
    {
     "name": "stdout",
     "output_type": "stream",
     "text": [
      "[1] \"../../data/networks/null/binarized_weighted/883/\"\n",
      "[1] 0\n",
      "[1] \"generating null networks\"\n"
     ]
    },
    {
     "name": "stderr",
     "output_type": "stream",
     "text": [
      "\u001b[1m\u001b[22mNew names:\n",
      "\u001b[36m•\u001b[39m `` -> `...1`\n"
     ]
    },
    {
     "name": "stdout",
     "output_type": "stream",
     "text": [
      "[1] \"../../data/networks/null/binarized_weighted/884/\"\n",
      "[1] 0\n",
      "[1] \"generating null networks\"\n"
     ]
    },
    {
     "name": "stderr",
     "output_type": "stream",
     "text": [
      "\u001b[1m\u001b[22mNew names:\n",
      "\u001b[36m•\u001b[39m `` -> `...1`\n"
     ]
    },
    {
     "name": "stdout",
     "output_type": "stream",
     "text": [
      "[1] \"../../data/networks/null/binarized_weighted/885/\"\n",
      "[1] 0\n",
      "[1] \"generating null networks\"\n"
     ]
    },
    {
     "name": "stderr",
     "output_type": "stream",
     "text": [
      "\u001b[1m\u001b[22mNew names:\n",
      "\u001b[36m•\u001b[39m `` -> `...1`\n"
     ]
    },
    {
     "name": "stdout",
     "output_type": "stream",
     "text": [
      "[1] \"../../data/networks/null/binarized_weighted/886/\"\n",
      "[1] 0\n",
      "[1] \"generating null networks\"\n"
     ]
    },
    {
     "name": "stderr",
     "output_type": "stream",
     "text": [
      "\u001b[1m\u001b[22mNew names:\n",
      "\u001b[36m•\u001b[39m `` -> `...1`\n"
     ]
    },
    {
     "name": "stdout",
     "output_type": "stream",
     "text": [
      "[1] \"../../data/networks/null/binarized_weighted/887/\"\n",
      "[1] 0\n",
      "[1] \"generating null networks\"\n"
     ]
    },
    {
     "name": "stderr",
     "output_type": "stream",
     "text": [
      "\u001b[1m\u001b[22mNew names:\n",
      "\u001b[36m•\u001b[39m `` -> `...1`\n"
     ]
    },
    {
     "name": "stdout",
     "output_type": "stream",
     "text": [
      "[1] \"../../data/networks/null/binarized_weighted/888/\"\n",
      "[1] 0\n",
      "[1] \"generating null networks\"\n"
     ]
    },
    {
     "name": "stderr",
     "output_type": "stream",
     "text": [
      "\u001b[1m\u001b[22mNew names:\n",
      "\u001b[36m•\u001b[39m `` -> `...1`\n"
     ]
    },
    {
     "name": "stdout",
     "output_type": "stream",
     "text": [
      "[1] \"../../data/networks/null/binarized_weighted/889/\"\n",
      "[1] 0\n",
      "[1] \"generating null networks\"\n"
     ]
    },
    {
     "name": "stderr",
     "output_type": "stream",
     "text": [
      "\u001b[1m\u001b[22mNew names:\n",
      "\u001b[36m•\u001b[39m `` -> `...1`\n"
     ]
    },
    {
     "name": "stdout",
     "output_type": "stream",
     "text": [
      "[1] \"../../data/networks/null/binarized_weighted/890/\"\n",
      "[1] 0\n",
      "[1] \"generating null networks\"\n"
     ]
    },
    {
     "name": "stderr",
     "output_type": "stream",
     "text": [
      "\u001b[1m\u001b[22mNew names:\n",
      "\u001b[36m•\u001b[39m `` -> `...1`\n"
     ]
    },
    {
     "name": "stdout",
     "output_type": "stream",
     "text": [
      "[1] \"../../data/networks/null/binarized_weighted/891/\"\n",
      "[1] 0\n",
      "[1] \"generating null networks\"\n"
     ]
    },
    {
     "name": "stderr",
     "output_type": "stream",
     "text": [
      "\u001b[1m\u001b[22mNew names:\n",
      "\u001b[36m•\u001b[39m `` -> `...1`\n"
     ]
    },
    {
     "name": "stdout",
     "output_type": "stream",
     "text": [
      "[1] \"../../data/networks/null/binarized_weighted/892/\"\n",
      "[1] 0\n",
      "[1] \"generating null networks\"\n"
     ]
    },
    {
     "name": "stderr",
     "output_type": "stream",
     "text": [
      "\u001b[1m\u001b[22mNew names:\n",
      "\u001b[36m•\u001b[39m `` -> `...1`\n"
     ]
    },
    {
     "name": "stdout",
     "output_type": "stream",
     "text": [
      "[1] \"../../data/networks/null/binarized_weighted/893/\"\n",
      "[1] 0\n",
      "[1] \"generating null networks\"\n"
     ]
    },
    {
     "name": "stderr",
     "output_type": "stream",
     "text": [
      "\u001b[1m\u001b[22mNew names:\n",
      "\u001b[36m•\u001b[39m `` -> `...1`\n"
     ]
    },
    {
     "name": "stdout",
     "output_type": "stream",
     "text": [
      "[1] \"../../data/networks/null/binarized_weighted/894/\"\n",
      "[1] 0\n",
      "[1] \"generating null networks\"\n"
     ]
    },
    {
     "name": "stderr",
     "output_type": "stream",
     "text": [
      "\u001b[1m\u001b[22mNew names:\n",
      "\u001b[36m•\u001b[39m `` -> `...1`\n"
     ]
    },
    {
     "name": "stdout",
     "output_type": "stream",
     "text": [
      "[1] \"../../data/networks/null/binarized_weighted/895/\"\n",
      "[1] 0\n",
      "[1] \"generating null networks\"\n"
     ]
    },
    {
     "name": "stderr",
     "output_type": "stream",
     "text": [
      "\u001b[1m\u001b[22mNew names:\n",
      "\u001b[36m•\u001b[39m `` -> `...1`\n"
     ]
    },
    {
     "name": "stdout",
     "output_type": "stream",
     "text": [
      "[1] \"../../data/networks/null/binarized_weighted/896/\"\n",
      "[1] 0\n",
      "[1] \"generating null networks\"\n"
     ]
    },
    {
     "name": "stderr",
     "output_type": "stream",
     "text": [
      "\u001b[1m\u001b[22mNew names:\n",
      "\u001b[36m•\u001b[39m `` -> `...1`\n"
     ]
    },
    {
     "name": "stdout",
     "output_type": "stream",
     "text": [
      "[1] \"../../data/networks/null/binarized_weighted/897/\"\n",
      "[1] 0\n",
      "[1] \"generating null networks\"\n"
     ]
    },
    {
     "name": "stderr",
     "output_type": "stream",
     "text": [
      "\u001b[1m\u001b[22mNew names:\n",
      "\u001b[36m•\u001b[39m `` -> `...1`\n"
     ]
    },
    {
     "name": "stdout",
     "output_type": "stream",
     "text": [
      "[1] \"../../data/networks/null/binarized_weighted/898/\"\n",
      "[1] 0\n",
      "[1] \"generating null networks\"\n"
     ]
    },
    {
     "name": "stderr",
     "output_type": "stream",
     "text": [
      "\u001b[1m\u001b[22mNew names:\n",
      "\u001b[36m•\u001b[39m `` -> `...1`\n"
     ]
    },
    {
     "name": "stdout",
     "output_type": "stream",
     "text": [
      "[1] \"../../data/networks/null/binarized_weighted/899/\"\n",
      "[1] 0\n",
      "[1] \"generating null networks\"\n"
     ]
    },
    {
     "name": "stderr",
     "output_type": "stream",
     "text": [
      "\u001b[1m\u001b[22mNew names:\n",
      "\u001b[36m•\u001b[39m `` -> `...1`\n"
     ]
    },
    {
     "name": "stdout",
     "output_type": "stream",
     "text": [
      "[1] \"../../data/networks/null/binarized_weighted/900/\"\n",
      "[1] 0\n",
      "[1] \"generating null networks\"\n"
     ]
    },
    {
     "name": "stderr",
     "output_type": "stream",
     "text": [
      "\u001b[1m\u001b[22mNew names:\n",
      "\u001b[36m•\u001b[39m `` -> `...1`\n"
     ]
    },
    {
     "name": "stdout",
     "output_type": "stream",
     "text": [
      "[1] \"../../data/networks/null/binarized_weighted/901/\"\n",
      "[1] 0\n",
      "[1] 326\n"
     ]
    }
   ],
   "source": [
    "i = 0\n",
    "for (path in full_network_paths) {\n",
    "  output_dir = str_replace(str_replace(path, networks_dir, null_networks_dir), \".csv\", \"/\")\n",
    "  if (!dir.exists(output_dir)) {\n",
    "      print(\"generating null networks\")\n",
    "      res = generate_null_networks(path)\n",
    "      i = i + 1\n",
    "  }\n",
    "}\n",
    "print(i)"
   ]
  },
  {
   "cell_type": "code",
   "execution_count": null,
   "id": "3bbcdfcc-3680-4d12-a311-6b8b2bcbfa9f",
   "metadata": {},
   "outputs": [],
   "source": [
    "# pbmclapply(X=full_network_paths,\n",
    "#            FUN=generate_null_networks,\n",
    "#            mc.cores=30,\n",
    "#            ignore.interactive=TRUE)"
   ]
  }
 ],
 "metadata": {
  "kernelspec": {
   "display_name": "R",
   "language": "R",
   "name": "ir"
  },
  "language_info": {
   "codemirror_mode": "r",
   "file_extension": ".r",
   "mimetype": "text/x-r-source",
   "name": "R",
   "pygments_lexer": "r",
   "version": "4.2.3"
  }
 },
 "nbformat": 4,
 "nbformat_minor": 5
}
