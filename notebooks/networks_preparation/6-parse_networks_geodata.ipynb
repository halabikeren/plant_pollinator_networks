{
 "cells": [
  {
   "cell_type": "code",
   "execution_count": 3,
   "id": "e9166265-865c-4446-ac34-49ba45ce9699",
   "metadata": {},
   "outputs": [],
   "source": [
    "import pandas as pd\n",
    "import numpy as np\n",
    "import os\n",
    "\n",
    "pd.set_option('display.max_colwidth', None)\n",
    "\n",
    "from geopy.geocoders import Nominatim\n",
    "from geopy.geocoders import GoogleV3\n",
    "\n",
    "from time import sleep"
   ]
  },
  {
   "cell_type": "code",
   "execution_count": 4,
   "id": "0f3dc623-628b-41c6-8493-d179833f7720",
   "metadata": {},
   "outputs": [],
   "source": [
    "networks_metadata_path = \"../../data/networks/networks_metadata.csv\"\n",
    "parsed_geodata_path = \"../../data/networks/all/networks_unparsed_geodata.csv\"\n",
    "\n",
    "complementary_location_data_path = \"../../data/networks/metadata/complementary_location_data.csv\"\n",
    "oik_db_path = \"../../data/networks/metadata/OIK-07303_database.csv\"\n",
    "oik_loc_path = \"../../data/networks/metadata/OIK-07303_original_studies.xlsx\"\n",
    "oik_indices_path = \"../../data/networks/metadata/OIK_07303_network_indices.csv\"\n",
    "loc_to_ecoregion_for_mapping_path = \"../../data/networks/metadata/networks_for_loc_to_ecoregion_mapping_pre_r.csv\"\n",
    "loc_to_ecoregion_for_complementing_path = \"../../data/networks/metadata/networks_for_loc_to_ecoregion_mapping_post_r.csv\"\n",
    "\n",
    "ecoregion_ids_map_path = \"../../data/metadata/network_level/ecoregions.csv\"\n",
    "ecoregion_metadata_path_1 = \"../../data/metadata/network_level/ecoregions_metadata_rice_2019.xlsx\"\n",
    "ecoregion_metadata_path_2 = \"../../data/metadata/network_level/ecoregions_polyfreq_rice_2019.xlsx\"\n",
    "\n",
    "varnames = {\"BioClim_1\": \"Annual Mean Temperature\",\n",
    "\"BioClim_2\": \"Mean Diurnal Range (Mean of monthly (max temp - min temp))\",\n",
    "\"BioClim_3\": \"Isothermality (BioClim_2/BioClim_7) (×100)\",\n",
    "\"BioClim_4\": \"Temperature Seasonality (standard deviation ×100)\",\n",
    "\"BioClim_5\": \"Max Temperature of Warmest Month\",\n",
    "\"BioClim_6\": \"Min Temperature of Coldest Month\",\n",
    "\"BioClim_7\": \"Temperature Annual Range (BioClim_5-BioClim_6)\",\n",
    "\"BioClim_8\": \"Mean Temperature of Wettest Quarter\",\n",
    "\"BioClim_9\": \"Mean Temperature of Driest Quarter\",\n",
    "\"BioClim_10\": \"Mean Temperature of Warmest Quarter\",\n",
    "\"BioClim_11\": \"Mean Temperature of Coldest Quarter\",\n",
    "\"BioClim_12\": \"Annual Precipitation\",\n",
    "\"BioClim_13\": \"Precipitation of Wettest Month\",\n",
    "\"BioClim_14\": \"Precipitation of Driest Month\",\n",
    "\"BioClim_15\": \"Precipitation Seasonality (Coefficient of Variation)\",\n",
    "\"BioClim_16\": \"Precipitation of Wettest Quarter\",\n",
    "\"BioClim_17\": \"Precipitation of Driest Quarter\",\n",
    "\"BioClim_18\": \"Precipitation of Warmest Quarter\",\n",
    "\"BioClim_19\": \"Precipitation of Coldest Quarter\",\n",
    "\"species_richness\": \"species_richness\",\n",
    "\"EcoRegion_name\": \"EcoRegion_name\"}\n",
    "\n",
    "ecoregion_metadata_colnames_map = {\"BIO1\": \"Annual Mean Temperature\",\n",
    "\"BIO2\": \"Mean Diurnal Range (Mean of monthly (max temp - min temp))\",\n",
    "\"BIO3\": \"Isothermality (BioClim_2/BioClim_7) (×100)\",\n",
    "\"BIO4\": \"Temperature Seasonality (standard deviation ×100)\",\n",
    "\"BIO5\": \"Max Temperature of Warmest Month\",\n",
    "\"BIO6\": \"Min Temperature of Coldest Month\",\n",
    "\"BIO7\": \"Temperature Annual Range (BioClim_5-BioClim_6)\",\n",
    "\"BIO8\": \"Mean Temperature of Wettest Quarter\",\n",
    "\"BIO9\": \"Mean Temperature of Driest Quarter\",\n",
    "\"BIO10\": \"Mean Temperature of Warmest Quarter\",\n",
    "\"BIO11\": \"Mean Temperature of Coldest Quarter\",\n",
    "\"BIO12\": \"Annual Precipitation\",\n",
    "\"BIO13\": \"Precipitation of Wettest Month\",\n",
    "\"BIO14\": \"Precipitation of Driest Month\",\n",
    "\"BIO15\": \"Precipitation Seasonality (Coefficient of Variation)\",\n",
    "\"BIO16\": \"Precipitation of Wettest Quarter\",\n",
    "\"BIO17\": \"Precipitation of Driest Quarter\",\n",
    "\"BIO18\": \"Precipitation of Warmest Quarter\",\n",
    "\"BIO19\": \"Precipitation of Coldest Quarter\",\n",
    "\"Paleo1\": \"Annual Mean Temperature present at LGM (~22,000 years ago)\",\n",
    "\"Paleo2\": \"Mean Diurnal Range (Mean of monthly (max temp - min temp)) present at LGM (~22,000 years ago)\",\n",
    "\"Paleo3\": \"Isothermality (Paleo2/Paleo7) (×100) present at LGM (~22,000 years ago)\",\n",
    "\"Paleo4\": \"Temperature Seasonality (standard deviation ×100) present at LGM (~22,000 years ago)\",\n",
    "\"Paleo5\": \"Max Temperature of Warmest Month present at LGM (~22,000 years ago)\",\n",
    "\"Paleo6\": \"Min Temperature of Coldest Month present at LGM (~22,000 years ago)\",\n",
    "\"Paleo7\": \"Temperature Annual Range (Paleo5-Paleo6) present at LGM (~22,000 years ago)\",\n",
    "\"Paleo8\": \"Mean Temperature of Wettest Quarter present at LGM (~22,000 years ago)\",\n",
    "\"Paleo9\": \"Mean Temperature of Driest Quarter present at LGM (~22,000 years ago)\",\n",
    "\"Paleo10\": \"Mean Temperature of Warmest Quarter present at LGM (~22,000 years ago)\",\n",
    "\"Paleo11\": \"Mean Temperature of Coldest Quarter present at LGM (~22,000 years ago)\",\n",
    "\"Paleo12\": \"Annual Precipitation present at LGM (~22,000 years ago)\",\n",
    "\"Paleo13\": \"Precipitation of Wettest Month present at LGM (~22,000 years ago)\",\n",
    "\"Paleo14\": \"Precipitation of Driest Month present at LGM (~22,000 years ago)\",\n",
    "\"Paleo15\": \"Precipitation Seasonality (Coefficient of Variation) present at LGM (~22,000 years ago)\",\n",
    "\"Paleo16\": \"Precipitation of Wettest Quarter present at LGM (~22,000 years ago)\",\n",
    "\"Paleo17\": \"Precipitation of Driest Quarter present at LGM (~22,000 years ago)\",\n",
    "\"Paleo18\": \"Precipitation of Warmest Quarter present at LGM (~22,000 years ago)\",\n",
    "\"Paleo19\": \"Precipitation of Coldest Quarter\"}"
   ]
  },
  {
   "cell_type": "code",
   "execution_count": 5,
   "id": "b7c24234-6c62-4e51-bd9b-bbebe5bf057c",
   "metadata": {},
   "outputs": [],
   "source": [
    "networks_metadata = pd.read_csv(networks_metadata_path)"
   ]
  },
  {
   "cell_type": "markdown",
   "id": "c0a64eb3-589a-49c5-a765-73abbb4647c6",
   "metadata": {
    "jp-MarkdownHeadingCollapsed": true,
    "tags": []
   },
   "source": [
    "# parse existing data"
   ]
  },
  {
   "cell_type": "code",
   "execution_count": 61,
   "id": "44a85654-3c4b-4d98-97bf-c300dc0f2d4a",
   "metadata": {},
   "outputs": [],
   "source": [
    "drop = [c for c in networks_metadata.columns if \"Unnmaed\" in c or c.startswith(\"geom\") or c.startswith(\"X\") or c in varnames.values()]\n",
    "networks_metadata = networks_metadata[[c for c in networks_metadata.columns if c not in drop and not \"Unnamed\" in c]]\n",
    "\n",
    "raw_geodata = pd.read_csv(parsed_geodata_path)"
   ]
  },
  {
   "cell_type": "code",
   "execution_count": 62,
   "id": "e384663d-a9ac-4c04-a71d-d4cf6371f7ac",
   "metadata": {},
   "outputs": [],
   "source": [
    "networks_metadata = networks_metadata.merge(raw_geodata[[\"Obs_ID\"] + list(varnames.keys())], left_on=\"ID\", right_on=\"Obs_ID\", how=\"left\")\n",
    "networks_metadata = networks_metadata.rename(columns=varnames)"
   ]
  },
  {
   "cell_type": "code",
   "execution_count": 63,
   "id": "3cbce421-23b7-41ea-94d2-6010d86ada38",
   "metadata": {},
   "outputs": [
    {
     "data": {
      "text/plain": [
       "Longitude                                                     0.506289\n",
       "Latitude                                                      0.506289\n",
       "Annual Mean Temperature                                       0.410901\n",
       "Mean Diurnal Range (Mean of monthly (max temp - min temp))    0.410901\n",
       "Isothermality (BioClim_2/BioClim_7) (×100)                    0.410901\n",
       "Temperature Seasonality (standard deviation ×100)             0.410901\n",
       "Max Temperature of Warmest Month                              0.410901\n",
       "Min Temperature of Coldest Month                              0.410901\n",
       "Temperature Annual Range (BioClim_5-BioClim_6)                0.410901\n",
       "Mean Temperature of Wettest Quarter                           0.410901\n",
       "Mean Temperature of Driest Quarter                            0.410901\n",
       "Mean Temperature of Warmest Quarter                           0.410901\n",
       "Mean Temperature of Coldest Quarter                           0.410901\n",
       "Annual Precipitation                                          0.410901\n",
       "Precipitation of Wettest Month                                0.410901\n",
       "Precipitation of Driest Month                                 0.410901\n",
       "Precipitation Seasonality (Coefficient of Variation)          0.410901\n",
       "Precipitation of Wettest Quarter                              0.410901\n",
       "Precipitation of Driest Quarter                               0.410901\n",
       "Precipitation of Warmest Quarter                              0.410901\n",
       "Precipitation of Coldest Quarter                              0.410901\n",
       "species_richness                                              0.410901\n",
       "EcoRegion_name                                                0.410901\n",
       "dtype: float64"
      ]
     },
     "execution_count": 63,
     "metadata": {},
     "output_type": "execute_result"
    }
   ],
   "source": [
    "networks_metadata[[\"Longitude\", \"Latitude\"]+list(varnames.values())].notna().sum() / networks_metadata.shape[0]"
   ]
  },
  {
   "cell_type": "code",
   "execution_count": 64,
   "id": "ece69196-3651-4f6e-abcf-345a751fdf68",
   "metadata": {},
   "outputs": [],
   "source": [
    "networks_metadata[\"coord\"] = networks_metadata.apply(lambda rec: f\"({np.round(rec.Longitude,3)},{np.round(rec.Latitude,3)})\", axis=1)\n",
    "coord_to_loc = networks_metadata.dropna(subset=[\"coord\", \"location\"]).set_index(\"coord\")[\"location\"].to_dict()\n",
    "networks_metadata.location = networks_metadata.apply(lambda rec: rec.location if pd.notna(rec.location) else coord_to_loc.get(rec.coord, np.nan), axis=1)\n",
    "networks_metadata = networks_metadata.drop([\"coord\"], axis=1)"
   ]
  },
  {
   "cell_type": "code",
   "execution_count": 70,
   "id": "bc448fab-3b3a-4ab6-98ad-f3d27f18d95f",
   "metadata": {},
   "outputs": [
    {
     "name": "stdout",
     "output_type": "stream",
     "text": [
      "# netwokrs with no location = 942\n",
      "# coordinates with no ecoregions but available location = 182\n",
      "# coordinates with no ecoregions = 17\n"
     ]
    }
   ],
   "source": [
    "print(f\"# netwokrs with no location = {networks_metadata.query('Longitude.isna() and Latitude.isna()').shape[0]:,}\")\n",
    "missing_ecoregions_data = networks_metadata.query(\"EcoRegion_name.isna() and Longitude.notna()\")[[\"Longitude\", \"Latitude\", \"location\", \"EcoRegion_name\"]]\n",
    "print(f\"# coordinates with no ecoregions but available location = {missing_ecoregions_data.shape[0]:,}\")\n",
    "missing_ecoregions_data = missing_ecoregions_data.drop_duplicates()\n",
    "print(f\"# coordinates with no ecoregions = {missing_ecoregions_data.shape[0]:,}\")"
   ]
  },
  {
   "cell_type": "code",
   "execution_count": 71,
   "id": "83b85215-c770-475b-8581-9880d25a54c7",
   "metadata": {},
   "outputs": [],
   "source": [
    "networks_metadata.to_csv(networks_metadata_path)"
   ]
  },
  {
   "cell_type": "markdown",
   "id": "2368e0a9-c9ac-4cb2-94c4-a8eb415099bf",
   "metadata": {
    "tags": []
   },
   "source": [
    "## manually completement the ecoregions of samples with missing ecoregion and available coordinates"
   ]
  },
  {
   "cell_type": "code",
   "execution_count": 190,
   "id": "1b19f592-49a0-4437-8b70-4d41e1926056",
   "metadata": {},
   "outputs": [],
   "source": [
    "# manual coplementation\n",
    "networks_metadata = pd.read_csv(networks_metadata_path)\n",
    "networks_metadata.loc[(networks_metadata.Longitude >= 124) & (networks_metadata.Longitude <= 125) & (networks_metadata.Latitude >= 1) & (networks_metadata.Latitude <= 2), \"location\"] = \"Desa/Dusun/Kelurahan Bunaken Kepulauan, Manado, Sulawesi Utara 95231, Bunaken Kepulauan Manado Indonesia\""
   ]
  },
  {
   "cell_type": "code",
   "execution_count": 192,
   "id": "3b960773-e521-4367-b19d-36cf1e18ba85",
   "metadata": {},
   "outputs": [],
   "source": [
    "# manual cxomplementation\n",
    "location_to_ecoregion = {\"Desa/Dusun/Kelurahan Bunaken Kepulauan, Manado, Sulawesi Utara 95231, Bunaken Kepulauan Manado Indonesia\": \"Wallacea\",\n",
    "                        \"Morne Seychellois National Park, Mahé\": \"Seychelles moist forests\",\n",
    "                        \"Black River Gorges National Park, Mauritius\": \"Madagascar and Indian Ocean Islands forests\",\n",
    "                        \"Denmark\": \"North Atlantic moist mixed forests\",\n",
    "                        \"Galapagos\": \"Galapagos Islands xeric scrub\"}\n",
    "networks_metadata.EcoRegion_name = networks_metadata.apply(lambda rec: rec.EcoRegion_name if pd.notna(rec.EcoRegion_name) else location_to_ecoregion.get(rec.location, np.nan), axis=1)"
   ]
  },
  {
   "cell_type": "code",
   "execution_count": 7,
   "id": "fdbad785-f701-4c2c-b1f0-aba37fb740ba",
   "metadata": {},
   "outputs": [],
   "source": [
    "networks_metadata.loc[436, \"location\"] = \"The western-most island of the Azores\"\n",
    "networks_metadata.loc[436, \"EcoRegion_name\"] = \"Macaronesia forests\"\n",
    "networks_metadata.loc[1485, \"location\"] = \"The western-most island of the Azores\"\n",
    "networks_metadata.loc[1485, \"EcoRegion_name\"] = \"Macaronesia forests\""
   ]
  },
  {
   "cell_type": "code",
   "execution_count": 45,
   "id": "42fb61a4-0be7-4b71-989e-b1b33a74b650",
   "metadata": {},
   "outputs": [],
   "source": [
    "networks_metadata.loc[networks_metadata.location == 'Black River Gorges National Park, Mauritius', 'EcoRegion'] = 30120\n",
    "networks_metadata.loc[networks_metadata.location == 'Black River Gorges National Park, Mauritius', 'EcoRegion_name'] = 'Mascarene forests'\n",
    "networks_metadata.loc[networks_metadata.EcoRegion_name == \"North Atlantic moist mixed forests\", 'EcoRegion'] = 80429\n",
    "networks_metadata.loc[networks_metadata.EcoRegion_name == 'Arctic tundra', 'EcoRegion'] = 51114"
   ]
  },
  {
   "cell_type": "code",
   "execution_count": 75,
   "id": "abfbdbed-d95f-4d86-9546-a3d6403550ce",
   "metadata": {},
   "outputs": [],
   "source": [
    "networks_metadata.set_index([\"Longitude\",\"Latitude\"], inplace=True)\n",
    "missing_ecoregions_data.set_index([\"Longitude\",\"Latitude\"], inplace=True)\n",
    "networks_metadata.fillna(missing_ecoregions_data.reindex(networks_metadata.index), inplace=True)\n",
    "networks_metadata.reset_index(inplace=True)"
   ]
  },
  {
   "cell_type": "code",
   "execution_count": 79,
   "id": "eecb92ec-7152-440e-a442-854ccd83658a",
   "metadata": {},
   "outputs": [
    {
     "name": "stdout",
     "output_type": "stream",
     "text": [
      "# netwokrs with no location = 942\n",
      "# coordinates with no ecoregions = 959\n"
     ]
    }
   ],
   "source": [
    "print(f\"# networks with no location = {networks_metadata.query('Longitude.isna() and Latitude.isna()').shape[0]:,}\")\n",
    "print(f\"# coordinates with no ecoregions = {networks_metadata.query('EcoRegion_name.isna()').shape[0]:,}\")"
   ]
  },
  {
   "cell_type": "code",
   "execution_count": 56,
   "id": "a083b86f-e321-4b2e-811e-a935e5ae1f2f",
   "metadata": {},
   "outputs": [
    {
     "data": {
      "text/plain": [
       "Longitude                                                     0.506289\n",
       "Latitude                                                      0.506289\n",
       "EcoRegion                                                     0.500000\n",
       "Annual Mean Temperature                                       0.493711\n",
       "Mean Diurnal Range (Mean of monthly (max temp - min temp))    0.493711\n",
       "Isothermality (BioClim_2/BioClim_7) (×100)                    0.493711\n",
       "Temperature Seasonality (standard deviation ×100)             0.493711\n",
       "Max Temperature of Warmest Month                              0.493711\n",
       "Min Temperature of Coldest Month                              0.493711\n",
       "Temperature Annual Range (BioClim_5-BioClim_6)                0.493711\n",
       "Mean Temperature of Wettest Quarter                           0.493711\n",
       "Mean Temperature of Driest Quarter                            0.493711\n",
       "Mean Temperature of Warmest Quarter                           0.493711\n",
       "Mean Temperature of Coldest Quarter                           0.493711\n",
       "Annual Precipitation                                          0.493711\n",
       "Precipitation of Wettest Month                                0.493711\n",
       "Precipitation of Driest Month                                 0.493711\n",
       "Precipitation Seasonality (Coefficient of Variation)          0.493711\n",
       "Precipitation of Wettest Quarter                              0.493711\n",
       "Precipitation of Driest Quarter                               0.493711\n",
       "Precipitation of Warmest Quarter                              0.493711\n",
       "Precipitation of Coldest Quarter                              0.493711\n",
       "species_richness                                              0.390461\n",
       "EcoRegion_name                                                0.506289\n",
       "dtype: float64"
      ]
     },
     "execution_count": 56,
     "metadata": {},
     "output_type": "execute_result"
    }
   ],
   "source": [
    "networks_metadata[[\"Longitude\", \"Latitude\", \"EcoRegion\"]+list(varnames.values())].notna().sum() / networks_metadata.shape[0]"
   ]
  },
  {
   "cell_type": "markdown",
   "id": "545c975c-c180-49d1-b6db-8ddbd9a53523",
   "metadata": {
    "jp-MarkdownHeadingCollapsed": true,
    "tags": []
   },
   "source": [
    "## unite parsed data to all networks metadata"
   ]
  },
  {
   "cell_type": "code",
   "execution_count": null,
   "id": "9a3118bc-747d-4c14-9ec7-1071dc623a3a",
   "metadata": {},
   "outputs": [],
   "source": [
    "networks_metadata = pd.read_csv(networks_metadata_path)\n",
    "mangal_metadata = pd.read_csv(parsed_rmangal_metadata_path)"
   ]
  },
  {
   "cell_type": "code",
   "execution_count": null,
   "id": "f5516124-9a81-4eaa-934c-8e4a2fd23ca5",
   "metadata": {},
   "outputs": [],
   "source": [
    "mangal_networks_metadata = networks_metadata.query(\"source == 'mangal'\").merge(mangal_metadata, on=\"network_index\", how=\"left\")"
   ]
  },
  {
   "cell_type": "code",
   "execution_count": null,
   "id": "1fc12650-6b5d-4694-a8f9-c0f4c8c2315c",
   "metadata": {},
   "outputs": [],
   "source": [
    "mangal_networks_metadata = mangal_networks_metadata[[c for c in mangal_networks_metadata.columns if \"Unnamed\" not in c]]"
   ]
  },
  {
   "cell_type": "code",
   "execution_count": null,
   "id": "1905daef-ac0c-4f32-9125-286629938445",
   "metadata": {},
   "outputs": [],
   "source": [
    "for c in set(mangal_networks_metadata.columns)-set(networks_metadata.columns):\n",
    "    networks_metadata[c] = np.nan\n",
    "\n",
    "networks_metadata.set_index([\"network_type\", \"network_index\"], inplace=True)\n",
    "mangal_networks_metadata.set_index([\"network_type\", \"network_index\"], inplace=True)\n",
    "networks_metadata.update(mangal_networks_metadata)\n",
    "networks_metadata = networks_metadata[[c for c in networks_metadata.columns if \"Unnamed\" not in c]]\n",
    "networks_metadata.reset_index(inplace=True)"
   ]
  },
  {
   "cell_type": "code",
   "execution_count": null,
   "id": "a875f19a-9c15-4726-a1a4-89821c30c93f",
   "metadata": {},
   "outputs": [],
   "source": [
    "networks_metadata.to_csv(networks_metadata_path)"
   ]
  },
  {
   "cell_type": "code",
   "execution_count": 4,
   "id": "dbb33a68-7b7f-4275-83f6-f66934c27cc9",
   "metadata": {},
   "outputs": [],
   "source": [
    "networks_metadata_to_complement = pd.read_csv(\"/groups/itay_mayrose/halabikeren/continue_tomorrow.csv\")"
   ]
  },
  {
   "cell_type": "code",
   "execution_count": 5,
   "id": "8da035b1-a000-4bf0-88df-8318c7c6d07b",
   "metadata": {},
   "outputs": [],
   "source": [
    "networks_metadata.set_index([\"network_type\", \"network_index\"], inplace=True)\n",
    "networks_metadata_to_complement.set_index([\"network_type\", \"network_index\"], inplace=True)\n",
    "networks_metadata.update(networks_metadata_to_complement)\n",
    "networks_metadata.reset_index(inplace=True)"
   ]
  },
  {
   "cell_type": "code",
   "execution_count": 10,
   "id": "a3bd503f-d7c8-4cc0-8d60-a3633e2d6fc5",
   "metadata": {},
   "outputs": [
    {
     "name": "stdout",
     "output_type": "stream",
     "text": [
      "locations with no mapping to ecoregion or longitude / latitude = 3\n"
     ]
    }
   ],
   "source": [
    "missing_locations = networks_metadata.query(\"location.notna() and Latitude.isna()\").location.dropna().unique().tolist()\n",
    "print(f\"locations with no mapping to ecoregion or longitude / latitude = {len(missing_locations):,}\")"
   ]
  },
  {
   "cell_type": "code",
   "execution_count": 34,
   "id": "74218b14-6077-45b5-985f-17131204b907",
   "metadata": {},
   "outputs": [],
   "source": [
    "location_to_ecoregion = {'dolomite Ozark glades in Missouri, USA': \"Central U.S. Interior Highlands\",\n",
    "                         'southern Germany within a radius of 50 km around the city of WÃ¼rzburg': \"Central European Mixed Forests\",\n",
    "                         'Germany located in the Schorfheide-Chorin (Sch), Hainich-DÃ¼n (Hai), and SchwÃ¤bische Alb (Alb)': \"Central European Mixed Forests\",\n",
    "                         'woodlands in Carlinville, Illinois': \"Central USA Plains and Prairies\",\n",
    "                         'Gallatin National Forest, Montana, USA (45Â°142N, 110Â°332W) in the Thompson Creek (6979 acres burned in 1991) and Wicked Creek (22,195 acres burned in 2007) wildfires': \"Northern Rockies\",\n",
    "                         'alpine tundra of the Beartooth Plateau located in the Custer and Shoshone National Forests of Carbon County, Montana and Park County, Wyoming, centered approximately at 45Â°002 N 109Â°252 W': \"Rocky Mountain Subalpine Zone\",\n",
    "                         'Tyson Research Center (38.524718N, \\x12 90.562494W), an 800-ha field station of Washington University of St. Louis that is located 40 km southwest from St. Louis, Missouri, USA': \"Eastern Temperate Forests\",\n",
    "                         'Nothofagus dombeyi forest in and around Nahuel Huapi National Park, Argentina.': \"Valdivian Rainforest\"}\n",
    "networks_metadata.loc[networks_metadata.EcoRegion_name.isna(), \"EcoRegion_name\"] = networks_metadata.location.apply(lambda loc: location_to_ecoregion.get(loc, np.nan))\n",
    "\n",
    "doi_to_ecoregion = {\"10.1111/ele.12821\": \"Central Valley\", \n",
    "                    \"10.1371/journal.pbio.0060031\": \"Valdivian Rainforest\"}\n",
    "\n",
    "networks_metadata.loc[networks_metadata.EcoRegion_name.isna(), \"EcoRegion_name\"] = networks_metadata.doi.apply(lambda doi: doi_to_ecoregion.get(doi, np.nan))"
   ]
  },
  {
   "cell_type": "code",
   "execution_count": 71,
   "id": "e9513fd7-56b7-43c3-a377-4c34e6b269b7",
   "metadata": {},
   "outputs": [],
   "source": [
    "networks_metadata.to_csv(networks_metadata_path, index=False)"
   ]
  },
  {
   "cell_type": "code",
   "execution_count": 71,
   "id": "ac8d5de6-670d-488e-85c3-15db07ba256a",
   "metadata": {},
   "outputs": [],
   "source": [
    "geolocator = Nominatim(user_agent=\"keren\", timeout=5)\n",
    "\n",
    "def get_coordinates(location: str)->list:\n",
    "    location_coord = geolocator.geocode(location)\n",
    "    sleep(2)\n",
    "    if location_coord:\n",
    "        return (location_coord.longitude, location_coord.latitude)   \n",
    "    return (np.nan, np.nan)\n",
    "\n",
    "\n",
    "sites = networks_metadata_to_complement.query(\"Latitude.isna()\").site.dropna().unique().tolist()\n",
    "print(f\"# sites = {len(sites):,}\")\n",
    "site_to_coord = {site: get_coordinates(site) for site in sites}\n",
    "networks_metadata_to_complement[[\"Longitude\", \"Latitude\"]] = networks_metadata_to_complement.apply(lambda rec: site_to_coord.get(rec.site, (np.nan, np.nan)) if pd.notna(rec.site) else (np.nan, np.nan), axis=1, result_type=\"expand\")"
   ]
  },
  {
   "cell_type": "code",
   "execution_count": 140,
   "id": "971966cb-4a47-40ae-ad2e-e820ae9370d4",
   "metadata": {},
   "outputs": [],
   "source": [
    "network_indices_map_path = \"../../data/networks/metadata/OIK_07303_network_indices.csv\"\n",
    "\n",
    "def get_network(df: pd.DataFrame) -> pd.DataFrame:\n",
    "    network = df.pivot_table(index='lower', columns='higher', values='freq', aggfunc='sum').fillna(0).reset_index().rename(columns={\"lower\": \"Plant\"}).set_index(\"Plant\")\n",
    "    return network\n",
    "   \n",
    "\n",
    "def get_net_index(rec: pd.Series) -> int:\n",
    "    match = networks_metadata_to_complement.loc[networks_metadata_to_complement.network_name.str.startswith(f\"{rec.study}_{rec.allSites}_{rec.sSite}\"), \"i\"]\n",
    "    if len(match) == 0:\n",
    "        return np.nan\n",
    "    return match.values[0]\n",
    "        \n",
    "    \n",
    "if \"net_oik_index\" not in set(complementary_networks_geodata.columns) and not os.path.exists(network_indices_map_path):\n",
    "\n",
    "    if not os.path.exists(network_indices_map_path):\n",
    "        my_networks = {row.i: pd.read_csv(row.processed_path) for _, row in networks_metadata_to_complement.iterrows()}\n",
    "        oik_networks_data = pd.read_csv(oik_db_path, encoding='latin-1').groupby([\"study\", \"allSites\", \"sSite\"])\n",
    "        oik_networks = {n: get_network(oik_networks_data.get_group(n)) for n in oik_networks_data.groups.keys()}\n",
    "\n",
    "        oik_net_name_to_i = {}\n",
    "        for oik_net_name in oik_networks:\n",
    "            oik_net = oik_networks[oik_net_name]\n",
    "            for i in my_networks:\n",
    "                net = my_networks[i].set_index(\"Plant\")\n",
    "                if set(oik_net.columns) == set(net.columns) and set(oik_net.index) == set(net.index):\n",
    "                    oik_net_name_to_i[oik_net_name] = i\n",
    "\n",
    "        oik_db = pd.read_csv(oik_db_path, encoding='latin-1')[[\"study\", \"allSites\", \"sSite\"]].drop_duplicates()\n",
    "        oik_db[\"net_oik_index\"] = oik_db.apply(get_net_index, axis=1)\n",
    "        oik_db.loc[oik_db.net_oik_index.isna(), \"net_oik_index\"] = oik_db.apply(lambda rec: oik_net_name_to_i.get((rec.study, rec.allSites, rec.sSite), np.nan), axis=1)\n",
    "        oik_db = oik_db.dropna(subset=[\"net_oik_index\"])\n",
    "        oik_db.net_oik_index = oik_db.net_oik_index.astype(int)\n",
    "        oik_db.to_csv(\"../../data/networks/metadata/OIK_07303_network_indices.csv\")\n",
    "    else:\n",
    "        oik_db = pd.read_csv(\"../../data/networks/metadata/OIK_07303_network_indices.csv\")\n",
    "    \n",
    "    if \"net_oik_index\" not in set(complementary_networks_geodata.columns):\n",
    "        complementary_networks_geodata = pd.read_csv(complementary_location_data_path, encoding='latin-1')\n",
    "        complementary_networks_geodata = complementary_networks_geodata.merge(oik_db, on=[\"study\", \"sSite\"], how=\"outer\")\n",
    "        complementary_networks_geodata.to_csv(complementary_location_data_path, index=False)\n",
    "    "
   ]
  },
  {
   "cell_type": "code",
   "execution_count": 229,
   "id": "3dfe35c3-ad22-4d57-9a77-90ed9cc89660",
   "metadata": {},
   "outputs": [],
   "source": [
    "complementary_networks_geodata = complementary_networks_geodata.dropna(subset=[\"net_oik_index\"])\n",
    "complementary_networks_geodata[\"network_name\"] = complementary_networks_geodata.study + \"_\" + complementary_networks_geodata.allSites + \"_\" + complementary_networks_geodata.sSite + \"_\" + complementary_networks_geodata.net_oik_index.astype(int).astype(str)\n",
    "complementary_networks_geodata[\"in_db\"] = complementary_networks_geodata.network_name.apply(lambda x: x in set(networks_metadata_to_complement.network_name))\n",
    "complementary_networks_geodata.loc[complementary_networks_geodata.in_db == False, \"network_name\"] = complementary_networks_geodata.net_oik_index.astype(int)\n",
    "complementary_networks_geodata.to_csv(complementary_location_data_path, index=False)"
   ]
  },
  {
   "cell_type": "code",
   "execution_count": 238,
   "id": "4d0ebec6-ff29-45f9-9f98-c1f6691b5dd4",
   "metadata": {},
   "outputs": [],
   "source": [
    "net_name_to_ssite = complementary_networks_geodata.set_index(\"network_name\")[\"sSite\"].to_dict()\n",
    "net_name_to_loc = complementary_networks_geodata.set_index(\"network_name\")[\"location\"].to_dict()\n",
    "networks_metadata_to_complement.location = networks_metadata_to_complement.network_name.apply(lambda x: net_name_to_loc.get(x, np.nan))\n",
    "networks_metadata_to_complement[\"site\"] = networks_metadata_to_complement.network_name.apply(lambda x: net_name_to_ssite.get(x, np.nan))"
   ]
  },
  {
   "cell_type": "markdown",
   "id": "5366e54e-675c-4951-b53c-b237b88130f8",
   "metadata": {
    "jp-MarkdownHeadingCollapsed": true,
    "tags": []
   },
   "source": [
    "# parse complementary data from Doi 10.1111/oik.07303"
   ]
  },
  {
   "cell_type": "code",
   "execution_count": 79,
   "id": "332dd649-90b8-4eaa-bd8f-84ee5f850c8b",
   "metadata": {},
   "outputs": [],
   "source": [
    "if not os.path.exists(loc_to_ecoregion_for_complementing_path):\n",
    "    cols_translator = {\"Data reference (DOI or URL)\": \"reference\", \"Country\": \"location\", \"approx.Latitude.of.study\": \"Latitude\", \"approx.Longitude.of.study\": \"Longitude\"}\n",
    "    oik_db = pd.read_csv(oik_db_path, encoding=\"latin1\")[[\"study\",\"cdate\",\"sSite\",\"allSites\"]].drop_duplicates()\n",
    "    oik_loc = pd.read_excel(oik_loc_path)\n",
    "    oik_db = oik_db.merge(oik_loc, left_on=\"study\", right_on=\"Study\", how=\"left\")\n",
    "    oik_indices = pd.read_csv(oik_indices_path)\n",
    "    oik_db = oik_db.merge(oik_indices, on=[\"study\",\"allSites\",\"sSite\"], how=\"left\").drop([\"cdate\"], axis=1).drop_duplicates()\n",
    "    oik_db = oik_db.rename(columns=cols_translator)\n",
    "\n",
    "    networks_metadata[\"net_oik_index\"] =  networks_metadata.apply(lambda rec: np.nan if rec.doi != \"10.1111/oik.07303\" else int(rec.path.split(\"_\")[-1].replace(\".csv\",\"\")), axis=1)\n",
    "    for c in cols_translator:\n",
    "        c = cols_translator[c]\n",
    "        d = oik_db.set_index(\"net_oik_index\")[c].to_dict()\n",
    "        networks_metadata[c] = networks_metadata.apply(lambda rec: rec[c] if pd.notna(rec[c]) else d.get(rec.net_oik_index, np.nan), axis=1)\n",
    "    networks_metadata = networks_metadata.drop_duplicates([\"network_type\", \"network_index\"])\n",
    "    \n",
    "    df_for_mapping_loc_to_ecoregion = networks_metadata.loc[networks_metadata.Longitude.notna() & networks_metadata.Latitude.notna() & networks_metadata.EcoRegion_name.isna()]\n",
    "    df_for_mapping_loc_to_ecoregion.to_csv(loc_to_ecoregion_for_mapping_path, index=False)"
   ]
  },
  {
   "cell_type": "code",
   "execution_count": 131,
   "id": "0927ad06-337a-4d7d-a648-a1bf83718748",
   "metadata": {},
   "outputs": [],
   "source": [
    "df_for_complementing_loc_to_ecoregion = pd.read_csv(loc_to_ecoregion_for_complementing_path)\n",
    "comp = df_for_mapping_loc_to_ecoregion.drop([\"EcoRegion\", \"EcoRegion_name\"], axis=1).merge(df_for_complementing_loc_to_ecoregion, left_on=\"ID\", right_on=\"Obs_ID\", how=\"left\")\n",
    "comp.set_index([\"network_type\", \"network_index\"], inplace=True)\n",
    "networks_metadata.set_index([\"network_type\", \"network_index\"], inplace=True)\n",
    "joint_cols =  set(networks_metadata.columns)&set(comp.columns)\n",
    "for c in joint_cols:\n",
    "    networks_metadata[c].fillna(value=comp.dropna(subset=[c])[c].to_dict(), inplace=True)\n",
    "networks_metadata.reset_index(inplace=True)"
   ]
  },
  {
   "cell_type": "code",
   "execution_count": 133,
   "id": "1ed5c4e1-2349-4ead-8023-996e134a27f1",
   "metadata": {},
   "outputs": [
    {
     "data": {
      "text/plain": [
       "EcoRegion         1133\n",
       "EcoRegion_name    1465\n",
       "Longitude         1321\n",
       "Latitude          1465\n",
       "dtype: int64"
      ]
     },
     "execution_count": 133,
     "metadata": {},
     "output_type": "execute_result"
    }
   ],
   "source": [
    "networks_metadata[[\"EcoRegion\", \"EcoRegion_name\", \"Longitude\", \"Latitude\"]].notna().sum()"
   ]
  },
  {
   "cell_type": "code",
   "execution_count": 134,
   "id": "a12a497d-4edb-4bc8-b339-2665d5e212a9",
   "metadata": {},
   "outputs": [],
   "source": [
    "networks_metadata.to_csv(networks_metadata_path, index=False)"
   ]
  },
  {
   "cell_type": "markdown",
   "id": "9ab64050-f921-4a95-aafb-e6c5cfe5c7a8",
   "metadata": {
    "jp-MarkdownHeadingCollapsed": true,
    "tags": []
   },
   "source": [
    "# report geo stats on networks included in the analysis only"
   ]
  },
  {
   "cell_type": "code",
   "execution_count": 135,
   "id": "bc9a4e48-bedb-4745-aad3-44ab005e0dd4",
   "metadata": {},
   "outputs": [],
   "source": [
    "networks_metadata = pd.read_csv(networks_metadata_path)\n",
    "networks_metadata = networks_metadata[[c for c in networks_metadata.columns if \"Unnmamed\" not in c]]\n",
    "\n",
    "max_missing_threshold = 0.5\n",
    "min_classified_threshold = 5\n",
    "min_poly_threhold = 2\n",
    "min_di_threshold = 2\n",
    "\n",
    "networks_metadata[\"included_in_analysis\"] = networks_metadata.apply(lambda rec: rec.is_polyploid_missing_frac <= max_missing_threshold and \n",
    "                                                                    rec.num_classified >= min_classified_threshold and \n",
    "                                                                    rec.num_polyploids >= min_poly_threhold and \n",
    "                                                                    rec.num_diploids >= min_di_threshold, axis=1)"
   ]
  },
  {
   "cell_type": "code",
   "execution_count": 136,
   "id": "a5f8b127-5e04-405e-b2e1-9f65d425fa8a",
   "metadata": {},
   "outputs": [
    {
     "name": "stdout",
     "output_type": "stream",
     "text": [
      "# networks included in the binary analysis = 305\n",
      "# networks included in the weighted analysis = 291\n"
     ]
    }
   ],
   "source": [
    "analyzed_networks_metadata = networks_metadata.query(\"included_in_analysis\")\n",
    "weighted_analyzed_networks_metadata = analyzed_networks_metadata.loc[analyzed_networks_metadata.network_type == 'weighted'] \n",
    "binary_analyzed_networks_metadata = analyzed_networks_metadata.loc[analyzed_networks_metadata.network_type != 'weighted']\n",
    "print(f\"# networks included in the binary analysis = {binary_analyzed_networks_metadata.shape[0]:,}\")\n",
    "print(f\"# networks included in the weighted analysis = {weighted_analyzed_networks_metadata.shape[0]:,}\")"
   ]
  },
  {
   "cell_type": "code",
   "execution_count": 137,
   "id": "3df80227-d88a-4ac6-8c5f-880ecc639b8e",
   "metadata": {},
   "outputs": [
    {
     "name": "stdout",
     "output_type": "stream",
     "text": [
      "# weighted networks with no location = 2\n",
      "# binary networks with no location = 2\n",
      "# coordinates with no ecoregions = 0\n"
     ]
    }
   ],
   "source": [
    "print(f\"# weighted networks with no location = {weighted_analyzed_networks_metadata.query('Longitude.isna() and Latitude.isna()').shape[0]:,}\")\n",
    "print(f\"# binary networks with no location = {binary_analyzed_networks_metadata.query('Longitude.isna() and Latitude.isna()').shape[0]:,}\")\n",
    "print(f\"# coordinates with no ecoregions = {binary_analyzed_networks_metadata.query('Longitude.notna() and EcoRegion_name.isna()').shape[0]:,}\")"
   ]
  },
  {
   "cell_type": "code",
   "execution_count": 138,
   "id": "6ab7185e-299a-4b01-afed-b53fd9564813",
   "metadata": {},
   "outputs": [
    {
     "data": {
      "text/plain": [
       "EcoRegion_name    0.903763\n",
       "EcoRegion         0.701419\n",
       "dtype: float64"
      ]
     },
     "execution_count": 138,
     "metadata": {},
     "output_type": "execute_result"
    }
   ],
   "source": [
    "networks_metadata.EcoRegion_name = networks_metadata.EcoRegion_name.str.lower()\n",
    "eco_name_to_id = networks_metadata.set_index(\"EcoRegion_name\")[\"EcoRegion\"].to_dict()\n",
    "networks_metadata.loc[networks_metadata.EcoRegion.isna(), \"EcoRegion\"] = networks_metadata.EcoRegion_name.apply(lambda x: eco_name_to_id.get(x, np.nan))\n",
    "networks_metadata[[\"EcoRegion_name\", \"EcoRegion\"]].notna().sum() /  networks_metadata.shape[0]  "
   ]
  },
  {
   "cell_type": "code",
   "execution_count": 139,
   "id": "7582e8e7-2b61-4c93-92be-dea94798ca83",
   "metadata": {},
   "outputs": [],
   "source": [
    "networks_metadata.to_csv(networks_metadata_path, index=False)"
   ]
  },
  {
   "cell_type": "code",
   "execution_count": 140,
   "id": "14af30f7-e2cb-46e0-84d1-430ff40901f6",
   "metadata": {},
   "outputs": [
    {
     "data": {
      "text/plain": [
       "array(['peninsular malaysian rain forests', 'macaronesia forests',\n",
       "       'north atlantic moist mixed forests',\n",
       "       'galapagos islands xeric scrub',\n",
       "       'central range montane rain forests', 'middle arctic tundra',\n",
       "       'central usa plains and prairies',\n",
       "       'central european mixed forests',\n",
       "       'northern rockies conifer forests',\n",
       "       'rocky mountain subalpine zone',\n",
       "       'eastern australian temperate forests',\n",
       "       'valdivian temperate forests'], dtype=object)"
      ]
     },
     "execution_count": 140,
     "metadata": {},
     "output_type": "execute_result"
    }
   ],
   "source": [
    "networks_metadata.loc[(networks_metadata.EcoRegion.isna()) & (networks_metadata.Longitude.notna())][[\"location\", \"EcoRegion_name\", \"EcoRegion\",  \"Longitude\", \"Latitude\"]].EcoRegion_name.dropna().unique()"
   ]
  },
  {
   "cell_type": "markdown",
   "id": "e829dc9a-a76c-4140-8485-92d3448426f0",
   "metadata": {},
   "source": [
    "# merge by ecoregion with networks metadata"
   ]
  },
  {
   "cell_type": "code",
   "execution_count": 10,
   "id": "71bc1622-ce54-4eec-8d04-e81a3118dd4b",
   "metadata": {},
   "outputs": [],
   "source": [
    "networks_metadata = pd.read_csv(networks_metadata_path)"
   ]
  },
  {
   "cell_type": "code",
   "execution_count": 16,
   "id": "512167d0-c65c-4472-9cdf-645136bc144c",
   "metadata": {},
   "outputs": [],
   "source": [
    "ecoregion_df = pd.read_csv(ecoregion_ids_map_path).drop_duplicates(\"eco_names\", keep=\"first\")\n",
    "ecoregion_df.eco_names = ecoregion_df.eco_names.str.lower() \n",
    "eco_id_to_name = ecoregion_df.set_index(\"eco_ids\")[\"eco_names\"].to_dict()\n",
    "eco_name_to_id = ecoregion_df.set_index(\"eco_names\")[\"eco_ids\"].to_dict()\n",
    "\n",
    "ecoregion_metadata_1 = pd.read_excel(ecoregion_metadata_path_1, header=6).rename(columns=ecoregion_metadata_colnames_map)\n",
    "ecoregion_metadata_1[\"ECO_NAME\"] = ecoregion_metadata_1['ECO ID'].apply(lambda n: eco_id_to_name.get(n, np.nan))\n",
    "ecoregion_metadata_1.set_index(\"ECO_NAME\", inplace=True)\n",
    "\n",
    "ecoregion_metadata_2 = pd.read_excel(ecoregion_metadata_path_2, header=1)\n",
    "ecoregion_metadata_2[\"Ecoregion name\"] = ecoregion_metadata_2[\"Ecoregion name\"].str.lower() \n",
    "\n",
    "ecoregion_metadata_2.set_index(\"Ecoregion name\", inplace=True)"
   ]
  },
  {
   "cell_type": "code",
   "execution_count": 17,
   "id": "8b3ca39e-1081-4a94-97e8-1f1c40b1c95e",
   "metadata": {},
   "outputs": [],
   "source": [
    "ecoregionsd_net_name_to_format_name = {\"valdivian rainforest\": \"valdivian temperate forests\",\n",
    "                                       \"central valley\": \"california central valley grasslands\",\n",
    "                                       \"peninsular malaysian rain forests\": \"peninsular malaysian rain forests\",\n",
    "                                       \"north atlantic moist mixed forests\": \"north atlantic moist mixed forests\",\n",
    "                                         'central range montane rain forests': \"central range montane rain forests\",\n",
    "                                         'central range papuan montane rain forests': \"central range papuan montane rain forests\",\n",
    "                                         'arctic tundra': \"middle arctic tundra\",\n",
    "                                         'central u.s. interior highlands': \"central us forest-grasslands transition\",\n",
    "                                         'central european mixed forests': \"central european mixed forests\",\n",
    "                                         'northern rockies': \"northern rockies conifer forests\",\n",
    "                                         'eastern temperate forests': \"eastern australian temperate forests\"}\n",
    "networks_metadata.EcoRegion_name = networks_metadata.EcoRegion_name.replace(ecoregionsd_net_name_to_format_name)\n",
    "networks_metadata.EcoRegion = networks_metadata.EcoRegion.replace({'nan': np.nan}).apply(lambda n: str(int(n)) if pd.notna(n) else n) \n",
    "networks_metadata.loc[networks_metadata.EcoRegion.isna(), \"EcoRegion\"] = networks_metadata.EcoRegion_name.apply(lambda n: eco_name_to_id.get(n,np.nan))\n",
    "networks_metadata.EcoRegion_name = networks_metadata.EcoRegion_name.str.lower()"
   ]
  },
  {
   "cell_type": "code",
   "execution_count": 18,
   "id": "1f9b8da4-5096-449d-b72d-07700394afb2",
   "metadata": {},
   "outputs": [],
   "source": [
    "networks_metadata.set_index(\"EcoRegion_name\", inplace=True)\n",
    "networks_metadata.update(ecoregion_metadata_1)\n",
    "networks_metadata.update(ecoregion_metadata_2)\n",
    "networks_metadata.reset_index(inplace=True)"
   ]
  },
  {
   "cell_type": "code",
   "execution_count": 19,
   "id": "038d29b3-81c2-41a0-bd11-1f291b6e6e77",
   "metadata": {},
   "outputs": [],
   "source": [
    "networks_metadata.to_csv(networks_metadata_path, index=False)"
   ]
  },
  {
   "cell_type": "code",
   "execution_count": 20,
   "id": "0795c333-7150-42ae-9545-d9fbbb1307e2",
   "metadata": {},
   "outputs": [],
   "source": [
    "max_missing_threshold = 0.5\n",
    "min_classified_threshold = 5\n",
    "min_poly_threhold = 0\n",
    "min_di_threshold = 2\n",
    "\n",
    "networks_metadata = pd.read_csv(networks_metadata_path)\n",
    "networks_metadata[\"inlcuded_in_analysis\"] = networks_metadata.apply(lambda rec: rec.is_polyploid_missing_frac <= max_missing_threshold and rec.num_classified > min_classified_threshold and rec.num_polyploids >= min_poly_threhold and rec.num_diploids >= min_di_threshold, axis=1)"
   ]
  },
  {
   "cell_type": "code",
   "execution_count": 21,
   "id": "0c030e31-bc6b-4c23-aade-5c9f551635e0",
   "metadata": {},
   "outputs": [
    {
     "data": {
      "text/plain": [
       "EcoRegion_name                   1465\n",
       "EcoRegion                        1452\n",
       "Longitude                        1321\n",
       "Latitude                         1465\n",
       "Annual Mean Temperature          1331\n",
       "Climate_PC1                      1312\n",
       "Climate_PC2                      1312\n",
       "Climate_PC3                      1312\n",
       "network_size                     1621\n",
       "Species richness                 1312\n",
       "Perennial herb %                 1312\n",
       "Polyploid percent                1312\n",
       "highest_pollinator_rank_index    1531\n",
       "dtype: int64"
      ]
     },
     "execution_count": 21,
     "metadata": {},
     "output_type": "execute_result"
    }
   ],
   "source": [
    "networks_metadata[[\"EcoRegion_name\", \"EcoRegion\", \"Longitude\", \"Latitude\",\"Annual Mean Temperature\", \"Climate_PC1\", \"Climate_PC2\", \"Climate_PC3\",\"network_size\", \"Species richness\", 'Perennial herb %', \"Polyploid percent\",\"highest_pollinator_rank_index\"]].notna().sum()"
   ]
  },
  {
   "cell_type": "code",
   "execution_count": 22,
   "id": "53e0c0d4-dbb0-41fd-a13e-102fde80ab83",
   "metadata": {},
   "outputs": [
    {
     "data": {
      "text/plain": [
       "EcoRegion_name                   303\n",
       "EcoRegion                        302\n",
       "Longitude                        288\n",
       "Latitude                         303\n",
       "Climate_PC1                      276\n",
       "Climate_PC2                      276\n",
       "Climate_PC3                      276\n",
       "network_size                     305\n",
       "Species richness                 276\n",
       "Perennial herb %                 276\n",
       "Polyploid percent                276\n",
       "highest_pollinator_rank_index    305\n",
       "dtype: int64"
      ]
     },
     "execution_count": 22,
     "metadata": {},
     "output_type": "execute_result"
    }
   ],
   "source": [
    "networks_metadata.query(\"included_in_analysis and network_type != 'binarized_weighted'\")[[\"EcoRegion_name\", \"EcoRegion\", \"Longitude\", \"Latitude\",\"Climate_PC1\", \"Climate_PC2\", \"Climate_PC3\",\"network_size\", \"Species richness\", 'Perennial herb %', \"Polyploid percent\",\"highest_pollinator_rank_index\"]].notna().sum()"
   ]
  },
  {
   "cell_type": "code",
   "execution_count": 24,
   "id": "515bb8a7-ba74-4c1c-9f00-c22c85e6cac7",
   "metadata": {},
   "outputs": [],
   "source": [
    "networks_metadata.loc[networks_metadata['species_richness'].isna(), \"species_richness\"] = networks_metadata['Species richness']\n",
    "networks_metadata = networks_metadata.drop([\"Species richness\"], axis=1)"
   ]
  },
  {
   "cell_type": "code",
   "execution_count": 26,
   "id": "b78d9be5-10a4-4cc6-864f-c72de2d7c90b",
   "metadata": {},
   "outputs": [],
   "source": [
    "networks_metadata.to_csv(networks_metadata_path, index=False)"
   ]
  }
 ],
 "metadata": {
  "kernelspec": {
   "display_name": "Python 3 (ipykernel)",
   "language": "python",
   "name": "python3"
  },
  "language_info": {
   "codemirror_mode": {
    "name": "ipython",
    "version": 3
   },
   "file_extension": ".py",
   "mimetype": "text/x-python",
   "name": "python",
   "nbconvert_exporter": "python",
   "pygments_lexer": "ipython3",
   "version": "3.10.6"
  }
 },
 "nbformat": 4,
 "nbformat_minor": 5
}
