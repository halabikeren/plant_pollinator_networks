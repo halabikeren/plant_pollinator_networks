{
 "cells": [
  {
   "cell_type": "code",
   "execution_count": 3,
   "id": "e9166265-865c-4446-ac34-49ba45ce9699",
   "metadata": {},
   "outputs": [],
   "source": [
    "import pandas as pd\n",
    "import numpy as np"
   ]
  },
  {
   "cell_type": "code",
   "execution_count": 4,
   "id": "0f3dc623-628b-41c6-8493-d179833f7720",
   "metadata": {},
   "outputs": [],
   "source": [
    "networks_metadata_path = \"../../data/networks/all/networks_metadata.csv\"\n",
    "parsed_geodata_path = \"../../data/networks/all/networks_unparsed_geodata.csv\"\n",
    "\n",
    "varnames = {\"BioClim_1\": \"Annual Mean Temperature\",\n",
    "\"BioClim_2\": \"Mean Diurnal Range (Mean of monthly (max temp - min temp))\",\n",
    "\"BioClim_3\": \"Isothermality (BioClim_2/BioClim_7) (×100)\",\n",
    "\"BioClim_4\": \"Temperature Seasonality (standard deviation ×100)\",\n",
    "\"BioClim_5\": \"Max Temperature of Warmest Month\",\n",
    "\"BioClim_6\": \"Min Temperature of Coldest Month\",\n",
    "\"BioClim_7\": \"Temperature Annual Range (BioClim_5-BioClim_6)\",\n",
    "\"BioClim_8\": \"Mean Temperature of Wettest Quarter\",\n",
    "\"BioClim_9\": \"Mean Temperature of Driest Quarter\",\n",
    "\"BioClim_10\": \"Mean Temperature of Warmest Quarter\",\n",
    "\"BioClim_11\": \"Mean Temperature of Coldest Quarter\",\n",
    "\"BioClim_12\": \"Annual Precipitation\",\n",
    "\"BioClim_13\": \"Precipitation of Wettest Month\",\n",
    "\"BioClim_14\": \"Precipitation of Driest Month\",\n",
    "\"BioClim_15\": \"Precipitation Seasonality (Coefficient of Variation)\",\n",
    "\"BioClim_16\": \"Precipitation of Wettest Quarter\",\n",
    "\"BioClim_17\": \"Precipitation of Driest Quarter\",\n",
    "\"BioClim_18\": \"Precipitation of Warmest Quarter\",\n",
    "\"BioClim_19\": \"Precipitation of Coldest Quarter\",\n",
    "\"species_richness\": \"species_richness\",\n",
    "\"EcoRegion_name\": \"EcoRegion_name\"}"
   ]
  },
  {
   "cell_type": "markdown",
   "id": "c0a64eb3-589a-49c5-a765-73abbb4647c6",
   "metadata": {},
   "source": [
    "## parse data"
   ]
  },
  {
   "cell_type": "code",
   "execution_count": 61,
   "id": "44a85654-3c4b-4d98-97bf-c300dc0f2d4a",
   "metadata": {},
   "outputs": [],
   "source": [
    "networks_metadata = pd.read_csv(networks_metadata_path)\n",
    "drop = [c for c in networks_metadata.columns if \"Unnmaed\" in c or c.startswith(\"geom\") or c.startswith(\"X\") or c in varnames.values()]\n",
    "networks_metadata = networks_metadata[[c for c in networks_metadata.columns if c not in drop and not \"Unnamed\" in c]]\n",
    "\n",
    "raw_geodata = pd.read_csv(parsed_geodata_path)"
   ]
  },
  {
   "cell_type": "code",
   "execution_count": 62,
   "id": "e384663d-a9ac-4c04-a71d-d4cf6371f7ac",
   "metadata": {},
   "outputs": [],
   "source": [
    "networks_metadata = networks_metadata.merge(raw_geodata[[\"Obs_ID\"] + list(varnames.keys())], left_on=\"ID\", right_on=\"Obs_ID\", how=\"left\")\n",
    "networks_metadata = networks_metadata.rename(columns=varnames)"
   ]
  },
  {
   "cell_type": "code",
   "execution_count": 63,
   "id": "3cbce421-23b7-41ea-94d2-6010d86ada38",
   "metadata": {},
   "outputs": [
    {
     "data": {
      "text/plain": [
       "Longitude                                                     0.506289\n",
       "Latitude                                                      0.506289\n",
       "Annual Mean Temperature                                       0.410901\n",
       "Mean Diurnal Range (Mean of monthly (max temp - min temp))    0.410901\n",
       "Isothermality (BioClim_2/BioClim_7) (×100)                    0.410901\n",
       "Temperature Seasonality (standard deviation ×100)             0.410901\n",
       "Max Temperature of Warmest Month                              0.410901\n",
       "Min Temperature of Coldest Month                              0.410901\n",
       "Temperature Annual Range (BioClim_5-BioClim_6)                0.410901\n",
       "Mean Temperature of Wettest Quarter                           0.410901\n",
       "Mean Temperature of Driest Quarter                            0.410901\n",
       "Mean Temperature of Warmest Quarter                           0.410901\n",
       "Mean Temperature of Coldest Quarter                           0.410901\n",
       "Annual Precipitation                                          0.410901\n",
       "Precipitation of Wettest Month                                0.410901\n",
       "Precipitation of Driest Month                                 0.410901\n",
       "Precipitation Seasonality (Coefficient of Variation)          0.410901\n",
       "Precipitation of Wettest Quarter                              0.410901\n",
       "Precipitation of Driest Quarter                               0.410901\n",
       "Precipitation of Warmest Quarter                              0.410901\n",
       "Precipitation of Coldest Quarter                              0.410901\n",
       "species_richness                                              0.410901\n",
       "EcoRegion_name                                                0.410901\n",
       "dtype: float64"
      ]
     },
     "execution_count": 63,
     "metadata": {},
     "output_type": "execute_result"
    }
   ],
   "source": [
    "networks_metadata[[\"Longitude\", \"Latitude\"]+list(varnames.values())].notna().sum() / networks_metadata.shape[0]"
   ]
  },
  {
   "cell_type": "code",
   "execution_count": 64,
   "id": "ece69196-3651-4f6e-abcf-345a751fdf68",
   "metadata": {},
   "outputs": [],
   "source": [
    "networks_metadata[\"coord\"] = networks_metadata.apply(lambda rec: f\"({np.round(rec.Longitude,3)},{np.round(rec.Latitude,3)})\", axis=1)\n",
    "coord_to_loc = networks_metadata.dropna(subset=[\"coord\", \"location\"]).set_index(\"coord\")[\"location\"].to_dict()\n",
    "networks_metadata.location = networks_metadata.apply(lambda rec: rec.location if pd.notna(rec.location) else coord_to_loc.get(rec.coord, np.nan), axis=1)\n",
    "networks_metadata = networks_metadata.drop([\"coord\"], axis=1)"
   ]
  },
  {
   "cell_type": "code",
   "execution_count": 70,
   "id": "bc448fab-3b3a-4ab6-98ad-f3d27f18d95f",
   "metadata": {},
   "outputs": [
    {
     "name": "stdout",
     "output_type": "stream",
     "text": [
      "# netwokrs with no location = 942\n",
      "# coordinates with no ecoregions but available location = 182\n",
      "# coordinates with no ecoregions = 17\n"
     ]
    }
   ],
   "source": [
    "print(f\"# netwokrs with no location = {networks_metadata.query('Longitude.isna() and Latitude.isna()').shape[0]:,}\")\n",
    "missing_ecoregions_data = networks_metadata.query(\"EcoRegion_name.isna() and Longitude.notna()\")[[\"Longitude\", \"Latitude\", \"location\", \"EcoRegion_name\"]]\n",
    "print(f\"# coordinates with no ecoregions but available location = {missing_ecoregions_data.shape[0]:,}\")\n",
    "missing_ecoregions_data = missing_ecoregions_data.drop_duplicates()\n",
    "print(f\"# coordinates with no ecoregions = {missing_ecoregions_data.shape[0]:,}\")"
   ]
  },
  {
   "cell_type": "code",
   "execution_count": 71,
   "id": "83b85215-c770-475b-8581-9880d25a54c7",
   "metadata": {},
   "outputs": [],
   "source": [
    "networks_metadata.to_csv(networks_metadata_path)"
   ]
  },
  {
   "cell_type": "markdown",
   "id": "2368e0a9-c9ac-4cb2-94c4-a8eb415099bf",
   "metadata": {
    "tags": []
   },
   "source": [
    "# manually completement the ecoregions of samples with missing ecoregion and available coordinates"
   ]
  },
  {
   "cell_type": "code",
   "execution_count": 190,
   "id": "1b19f592-49a0-4437-8b70-4d41e1926056",
   "metadata": {},
   "outputs": [],
   "source": [
    "# manual coplementation\n",
    "networks_metadata = pd.read_csv(networks_metadata_path)\n",
    "networks_metadata.loc[(networks_metadata.Longitude >= 124) & (networks_metadata.Longitude <= 125) & (networks_metadata.Latitude >= 1) & (networks_metadata.Latitude <= 2), \"location\"] = \"Desa/Dusun/Kelurahan Bunaken Kepulauan, Manado, Sulawesi Utara 95231, Bunaken Kepulauan Manado Indonesia\""
   ]
  },
  {
   "cell_type": "code",
   "execution_count": 192,
   "id": "3b960773-e521-4367-b19d-36cf1e18ba85",
   "metadata": {},
   "outputs": [],
   "source": [
    "# manual cxomplementation\n",
    "location_to_ecoregion = {\"Desa/Dusun/Kelurahan Bunaken Kepulauan, Manado, Sulawesi Utara 95231, Bunaken Kepulauan Manado Indonesia\": \"Wallacea\",\n",
    "                        \"Morne Seychellois National Park, Mahé\": \"Seychelles moist forests\",\n",
    "                        \"Black River Gorges National Park, Mauritius\": \"Madagascar and Indian Ocean Islands forests\",\n",
    "                        \"Denmark\": \"North Atlantic moist mixed forests\",\n",
    "                        \"Galapagos\": \"Galapagos Islands xeric scrub\"}\n",
    "networks_metadata.EcoRegion_name = networks_metadata.apply(lambda rec: rec.EcoRegion_name if pd.notna(rec.EcoRegion_name) else location_to_ecoregion.get(rec.location, np.nan), axis=1)"
   ]
  },
  {
   "cell_type": "code",
   "execution_count": 7,
   "id": "fdbad785-f701-4c2c-b1f0-aba37fb740ba",
   "metadata": {},
   "outputs": [],
   "source": [
    "networks_metadata.loc[436, \"location\"] = \"The western-most island of the Azores\"\n",
    "networks_metadata.loc[436, \"EcoRegion_name\"] = \"Macaronesia forests\"\n",
    "networks_metadata.loc[1485, \"location\"] = \"The western-most island of the Azores\"\n",
    "networks_metadata.loc[1485, \"EcoRegion_name\"] = \"Macaronesia forests\""
   ]
  },
  {
   "cell_type": "code",
   "execution_count": 45,
   "id": "42fb61a4-0be7-4b71-989e-b1b33a74b650",
   "metadata": {},
   "outputs": [],
   "source": [
    "networks_metadata.loc[networks_metadata.location == 'Black River Gorges National Park, Mauritius', 'EcoRegion'] = 30120\n",
    "networks_metadata.loc[networks_metadata.location == 'Black River Gorges National Park, Mauritius', 'EcoRegion_name'] = 'Mascarene forests'\n",
    "networks_metadata.loc[networks_metadata.EcoRegion_name == \"North Atlantic moist mixed forests\", 'EcoRegion'] = 80429\n",
    "networks_metadata.loc[networks_metadata.EcoRegion_name == 'Arctic tundra', 'EcoRegion'] = 51114"
   ]
  },
  {
   "cell_type": "code",
   "execution_count": 75,
   "id": "abfbdbed-d95f-4d86-9546-a3d6403550ce",
   "metadata": {},
   "outputs": [],
   "source": [
    "networks_metadata.set_index([\"Longitude\",\"Latitude\"], inplace=True)\n",
    "missing_ecoregions_data.set_index([\"Longitude\",\"Latitude\"], inplace=True)\n",
    "networks_metadata.fillna(missing_ecoregions_data.reindex(networks_metadata.index), inplace=True)\n",
    "networks_metadata.reset_index(inplace=True)"
   ]
  },
  {
   "cell_type": "code",
   "execution_count": 79,
   "id": "eecb92ec-7152-440e-a442-854ccd83658a",
   "metadata": {},
   "outputs": [
    {
     "name": "stdout",
     "output_type": "stream",
     "text": [
      "# netwokrs with no location = 942\n",
      "# coordinates with no ecoregions = 959\n"
     ]
    }
   ],
   "source": [
    "print(f\"# networks with no location = {networks_metadata.query('Longitude.isna() and Latitude.isna()').shape[0]:,}\")\n",
    "print(f\"# coordinates with no ecoregions = {networks_metadata.query('EcoRegion_name.isna()').shape[0]:,}\")"
   ]
  },
  {
   "cell_type": "code",
   "execution_count": 56,
   "id": "a083b86f-e321-4b2e-811e-a935e5ae1f2f",
   "metadata": {},
   "outputs": [
    {
     "data": {
      "text/plain": [
       "Longitude                                                     0.506289\n",
       "Latitude                                                      0.506289\n",
       "EcoRegion                                                     0.500000\n",
       "Annual Mean Temperature                                       0.493711\n",
       "Mean Diurnal Range (Mean of monthly (max temp - min temp))    0.493711\n",
       "Isothermality (BioClim_2/BioClim_7) (×100)                    0.493711\n",
       "Temperature Seasonality (standard deviation ×100)             0.493711\n",
       "Max Temperature of Warmest Month                              0.493711\n",
       "Min Temperature of Coldest Month                              0.493711\n",
       "Temperature Annual Range (BioClim_5-BioClim_6)                0.493711\n",
       "Mean Temperature of Wettest Quarter                           0.493711\n",
       "Mean Temperature of Driest Quarter                            0.493711\n",
       "Mean Temperature of Warmest Quarter                           0.493711\n",
       "Mean Temperature of Coldest Quarter                           0.493711\n",
       "Annual Precipitation                                          0.493711\n",
       "Precipitation of Wettest Month                                0.493711\n",
       "Precipitation of Driest Month                                 0.493711\n",
       "Precipitation Seasonality (Coefficient of Variation)          0.493711\n",
       "Precipitation of Wettest Quarter                              0.493711\n",
       "Precipitation of Driest Quarter                               0.493711\n",
       "Precipitation of Warmest Quarter                              0.493711\n",
       "Precipitation of Coldest Quarter                              0.493711\n",
       "species_richness                                              0.390461\n",
       "EcoRegion_name                                                0.506289\n",
       "dtype: float64"
      ]
     },
     "execution_count": 56,
     "metadata": {},
     "output_type": "execute_result"
    }
   ],
   "source": [
    "networks_metadata[[\"Longitude\", \"Latitude\", \"EcoRegion\"]+list(varnames.values())].notna().sum() / networks_metadata.shape[0]"
   ]
  },
  {
   "cell_type": "markdown",
   "id": "9ab64050-f921-4a95-aafb-e6c5cfe5c7a8",
   "metadata": {
    "tags": []
   },
   "source": [
    "# report geo stats on networks included in the analysis only"
   ]
  },
  {
   "cell_type": "code",
   "execution_count": 72,
   "id": "bc9a4e48-bedb-4745-aad3-44ab005e0dd4",
   "metadata": {},
   "outputs": [],
   "source": [
    "networks_metadata = pd.read_csv(networks_metadata_path)\n",
    "networks_metadata = networks_metadata[[c for c in networks_metadata.columns if \"Unnmamed\" not in c]]\n",
    "\n",
    "max_missing_threshold = 0.5\n",
    "min_classified_threshold = 5\n",
    "min_poly_threhold = 2\n",
    "min_di_threshold = 2\n",
    "\n",
    "networks_metadata[\"included_in_analysis\"] = networks_metadata.apply(lambda rec: rec.is_polyploid_missing_frac <= max_missing_threshold and \n",
    "                                                                    rec.num_classified >= min_classified_threshold and \n",
    "                                                                    rec.num_polyploids >= min_poly_threhold and \n",
    "                                                                    rec.num_diploids >= min_di_threshold, axis=1)"
   ]
  },
  {
   "cell_type": "code",
   "execution_count": 73,
   "id": "a5f8b127-5e04-405e-b2e1-9f65d425fa8a",
   "metadata": {},
   "outputs": [
    {
     "name": "stdout",
     "output_type": "stream",
     "text": [
      "# networks included in the binary analysis = 375\n",
      "# networks included in the weighted analysis = 357\n"
     ]
    }
   ],
   "source": [
    "analyzed_networks_metadata = networks_metadata.query(\"included_in_analysis\")\n",
    "weighted_analyzed_networks_metadata = analyzed_networks_metadata.loc[analyzed_networks_metadata.network_type == 'weighted'] \n",
    "binary_analyzed_networks_metadata = analyzed_networks_metadata.loc[analyzed_networks_metadata.network_type != 'weighted']\n",
    "print(f\"# networks included in the binary analysis = {binary_analyzed_networks_metadata.shape[0]:,}\")\n",
    "print(f\"# networks included in the weighted analysis = {weighted_analyzed_networks_metadata.shape[0]:,}\")"
   ]
  },
  {
   "cell_type": "code",
   "execution_count": 74,
   "id": "3df80227-d88a-4ac6-8c5f-880ecc639b8e",
   "metadata": {},
   "outputs": [
    {
     "name": "stdout",
     "output_type": "stream",
     "text": [
      "# weighted networks with no location = 196\n",
      "# binary networks with no location = 196\n",
      "# coordinates with no ecoregions = 0\n"
     ]
    }
   ],
   "source": [
    "print(f\"# weighted networks with no location = {weighted_analyzed_networks_metadata.query('Longitude.isna() and Latitude.isna()').shape[0]:,}\")\n",
    "print(f\"# binary networks with no location = {binary_analyzed_networks_metadata.query('Longitude.isna() and Latitude.isna()').shape[0]:,}\")\n",
    "print(f\"# coordinates with no ecoregions = {binary_analyzed_networks_metadata.query('Longitude.notna() and EcoRegion_name.isna()').shape[0]:,}\")"
   ]
  },
  {
   "cell_type": "markdown",
   "id": "545c975c-c180-49d1-b6db-8ddbd9a53523",
   "metadata": {
    "jp-MarkdownHeadingCollapsed": true,
    "tags": []
   },
   "source": [
    "## unite parsed data to all networks metadata"
   ]
  },
  {
   "cell_type": "code",
   "execution_count": null,
   "id": "9a3118bc-747d-4c14-9ec7-1071dc623a3a",
   "metadata": {},
   "outputs": [],
   "source": [
    "networks_metadata = pd.read_csv(networks_metadata_path)\n",
    "mangal_metadata = pd.read_csv(parsed_rmangal_metadata_path)"
   ]
  },
  {
   "cell_type": "code",
   "execution_count": null,
   "id": "f5516124-9a81-4eaa-934c-8e4a2fd23ca5",
   "metadata": {},
   "outputs": [],
   "source": [
    "mangal_networks_metadata = networks_metadata.query(\"source == 'mangal'\").merge(mangal_metadata, on=\"network_index\", how=\"left\")"
   ]
  },
  {
   "cell_type": "code",
   "execution_count": null,
   "id": "1fc12650-6b5d-4694-a8f9-c0f4c8c2315c",
   "metadata": {},
   "outputs": [],
   "source": [
    "mangal_networks_metadata = mangal_networks_metadata[[c for c in mangal_networks_metadata.columns if \"Unnamed\" not in c]]"
   ]
  },
  {
   "cell_type": "code",
   "execution_count": null,
   "id": "1905daef-ac0c-4f32-9125-286629938445",
   "metadata": {},
   "outputs": [],
   "source": [
    "for c in set(mangal_networks_metadata.columns)-set(networks_metadata.columns):\n",
    "    networks_metadata[c] = np.nan\n",
    "\n",
    "networks_metadata.set_index([\"network_type\", \"network_index\"], inplace=True)\n",
    "mangal_networks_metadata.set_index([\"network_type\", \"network_index\"], inplace=True)\n",
    "networks_metadata.update(mangal_networks_metadata)\n",
    "networks_metadata = networks_metadata[[c for c in networks_metadata.columns if \"Unnamed\" not in c]]\n",
    "networks_metadata.reset_index(inplace=True)"
   ]
  },
  {
   "cell_type": "code",
   "execution_count": null,
   "id": "a875f19a-9c15-4726-a1a4-89821c30c93f",
   "metadata": {},
   "outputs": [],
   "source": [
    "networks_metadata.to_csv(networks_metadata_path)"
   ]
  }
 ],
 "metadata": {
  "kernelspec": {
   "display_name": "Python 3 (ipykernel)",
   "language": "python",
   "name": "python3"
  },
  "language_info": {
   "codemirror_mode": {
    "name": "ipython",
    "version": 3
   },
   "file_extension": ".py",
   "mimetype": "text/x-python",
   "name": "python",
   "nbconvert_exporter": "python",
   "pygments_lexer": "ipython3",
   "version": "3.10.6"
  }
 },
 "nbformat": 4,
 "nbformat_minor": 5
}
