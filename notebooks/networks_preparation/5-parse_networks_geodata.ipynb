{
 "cells": [
  {
   "cell_type": "code",
   "execution_count": 22,
   "id": "e9166265-865c-4446-ac34-49ba45ce9699",
   "metadata": {},
   "outputs": [],
   "source": [
    "import pandas as pd\n",
    "import numpy as np"
   ]
  },
  {
   "cell_type": "code",
   "execution_count": 23,
   "id": "0f3dc623-628b-41c6-8493-d179833f7720",
   "metadata": {},
   "outputs": [],
   "source": [
    "networks_metadata_path = \"../../data/networks/all/networks_metadata.csv\"\n",
    "parsed_rmangal_metadata_path = \"../../data/networks/parsed_rmangal_networks_metadata.csv\"\n",
    "\n",
    "bioclimate_varnames = {\"BioClim_1\": \"Annual Mean Temperature\",\n",
    "\"BioClim_2\": \"Mean Diurnal Range (Mean of monthly (max temp - min temp))\",\n",
    "\"BioClim_3\": \"Isothermality (BioClim_2/BioClim_7) (×100)\",\n",
    "\"BioClim_4\": \"Temperature Seasonality (standard deviation ×100)\",\n",
    "\"BioClim_5\": \"Max Temperature of Warmest Month\",\n",
    "\"BioClim_6\": \"Min Temperature of Coldest Month\",\n",
    "\"BioClim_7\": \"Temperature Annual Range (BioClim_5-BioClim_6)\",\n",
    "\"BioClim_8\": \"Mean Temperature of Wettest Quarter\",\n",
    "\"BioClim_9\": \"Mean Temperature of Driest Quarter\",\n",
    "\"BioClim_10\": \"Mean Temperature of Warmest Quarter\",\n",
    "\"BioClim_11\": \"Mean Temperature of Coldest Quarter\",\n",
    "\"BioClim_12\": \"Annual Precipitation\",\n",
    "\"BioClim_13\": \"Precipitation of Wettest Month\",\n",
    "\"BioClim_14\": \"Precipitation of Driest Month\",\n",
    "\"BioClim_15\": \"Precipitation Seasonality (Coefficient of Variation)\",\n",
    "\"BioClim_16\": \"Precipitation of Wettest Quarter\",\n",
    "\"BioClim_17\": \"Precipitation of Driest Quarter\",\n",
    "\"BioClim_18\": \"Precipitation of Warmest Quarter\",\n",
    "\"BioClim_19\": \"Precipitation of Coldest Quarter\"}"
   ]
  },
  {
   "cell_type": "markdown",
   "id": "c0a64eb3-589a-49c5-a765-73abbb4647c6",
   "metadata": {},
   "source": [
    "## parse data"
   ]
  },
  {
   "cell_type": "code",
   "execution_count": 38,
   "id": "44a85654-3c4b-4d98-97bf-c300dc0f2d4a",
   "metadata": {},
   "outputs": [],
   "source": [
    "networks_metadata = pd.read_csv(networks_metadata_path)"
   ]
  },
  {
   "cell_type": "code",
   "execution_count": 39,
   "id": "49784af0-5088-4667-9fe5-e1b4674ec912",
   "metadata": {},
   "outputs": [],
   "source": [
    "networks_metadata = networks_metadata.rename(columns=bioclimate_varnames).drop([\"EcoRegion.y\"], axis=1).rename(columns={\"EcoRegion.x\":\"EcoRegion\"})"
   ]
  },
  {
   "cell_type": "code",
   "execution_count": 40,
   "id": "d742a4e2-34b2-494f-93ea-0b7df2e21bdf",
   "metadata": {},
   "outputs": [],
   "source": [
    "networks_metadata.to_csv(networks_metadata_path)"
   ]
  },
  {
   "cell_type": "code",
   "execution_count": 51,
   "id": "469ede50-a106-46d1-b317-8a3da605c6d4",
   "metadata": {},
   "outputs": [],
   "source": [
    "drop = ['X',\n",
    "'Mean.Diurnal.Range..Mean.of.monthly..max.temp...min.temp..',\n",
    "'Mean.Temperature.of.Driest.Quarter',\n",
    "'Mean.Temperature.of.Warmest.Quarter',\n",
    "'Isothermality..BioClim_2.BioClim_7....100.', \n",
    "'species_richness.x',\n",
    "'Precipitation.of.Warmest.Quarter', \n",
    "'Precipitation.of.Wettest.Month',\n",
    "'Obs_ID',\n",
    "'Precipitation.of.Driest.Month',\n",
    "'Mean.Temperature.of.Coldest.Quarter',\n",
    "'Temperature.Seasonality..standard.deviation..100.',\n",
    "'Precipitation.of.Coldest.Quarter', \n",
    "'Min.Temperature.of.Coldest.Month',\n",
    "'Mean.Temperature.of.Wettest.Quarter', \n",
    "'Annual.Precipitation',\n",
    "'Annual.Mean.Temperature', \n",
    "'Max.Temperature.of.Warmest.Month',\n",
    "'Precipitation.Seasonality..Coefficient.of.Variation.',\n",
    "'Precipitation.of.Wettest.Quarter', \n",
    "'Precipitation.of.Driest.Quarter',\n",
    "'Temperature.Annual.Range..BioClim_5.BioClim_6.', 'Unnamed: 0', 'ID', 'X.1', 'species_richness']\n",
    "\n",
    "networks_metadata = networks_metadata[[c for c in networks_metadata.columns if c not in drop]]"
   ]
  },
  {
   "cell_type": "code",
   "execution_count": 60,
   "id": "3cbce421-23b7-41ea-94d2-6010d86ada38",
   "metadata": {},
   "outputs": [],
   "source": [
    "# Get unique column names\n",
    "unique_columns = networks_metadata.columns.unique()\n",
    "\n",
    "# Create a new dataframe to store the unique columns\n",
    "networks_metadata_unique = pd.DataFrame()\n",
    "\n",
    "# Combine columns with the same name\n",
    "for col in unique_columns:\n",
    "    cols_to_combine = [c for c in networks_metadata.columns if c == col]\n",
    "    combined_col = networks_metadata[cols_to_combine].fillna(axis=1, method='ffill').iloc[:, -1]\n",
    "    networks_metadata_unique[col] = combined_col"
   ]
  },
  {
   "cell_type": "code",
   "execution_count": 69,
   "id": "9af60351-e35b-4afd-a4d7-438edb6406a8",
   "metadata": {},
   "outputs": [],
   "source": [
    "networks_metadata_unique[\"network_type\"] = networks_metadata_unique.processed_path.apply(lambda p: p.split(\"/\")[-2])"
   ]
  },
  {
   "cell_type": "code",
   "execution_count": 72,
   "id": "83b85215-c770-475b-8581-9880d25a54c7",
   "metadata": {},
   "outputs": [],
   "source": [
    "networks_metadata_unique.to_csv(networks_metadata_path)"
   ]
  },
  {
   "cell_type": "markdown",
   "id": "545c975c-c180-49d1-b6db-8ddbd9a53523",
   "metadata": {},
   "source": [
    "## unite parsed data to all networks metadata"
   ]
  },
  {
   "cell_type": "code",
   "execution_count": 31,
   "id": "9a3118bc-747d-4c14-9ec7-1071dc623a3a",
   "metadata": {},
   "outputs": [],
   "source": [
    "networks_metadata = pd.read_csv(networks_metadata_path)\n",
    "mangal_metadata = pd.read_csv(parsed_rmangal_metadata_path)"
   ]
  },
  {
   "cell_type": "code",
   "execution_count": 32,
   "id": "f5516124-9a81-4eaa-934c-8e4a2fd23ca5",
   "metadata": {},
   "outputs": [],
   "source": [
    "mangal_networks_metadata = networks_metadata.query(\"source == 'mangal'\").merge(mangal_metadata, on=\"network_index\", how=\"left\")"
   ]
  },
  {
   "cell_type": "code",
   "execution_count": 33,
   "id": "1fc12650-6b5d-4694-a8f9-c0f4c8c2315c",
   "metadata": {},
   "outputs": [],
   "source": [
    "mangal_networks_metadata = mangal_networks_metadata[[c for c in mangal_networks_metadata.columns if \"Unnamed\" not in c]]"
   ]
  },
  {
   "cell_type": "code",
   "execution_count": 34,
   "id": "1905daef-ac0c-4f32-9125-286629938445",
   "metadata": {},
   "outputs": [],
   "source": [
    "for c in set(mangal_networks_metadata.columns)-set(networks_metadata.columns):\n",
    "    networks_metadata[c] = np.nan\n",
    "\n",
    "networks_metadata.set_index([\"network_type\", \"network_index\"], inplace=True)\n",
    "mangal_networks_metadata.set_index([\"network_type\", \"network_index\"], inplace=True)\n",
    "networks_metadata.update(mangal_networks_metadata)\n",
    "networks_metadata = networks_metadata[[c for c in networks_metadata.columns if \"Unnamed\" not in c]]\n",
    "networks_metadata.reset_index(inplace=True)"
   ]
  },
  {
   "cell_type": "code",
   "execution_count": 35,
   "id": "a875f19a-9c15-4726-a1a4-89821c30c93f",
   "metadata": {},
   "outputs": [],
   "source": [
    "networks_metadata.to_csv(networks_metadata_path)"
   ]
  }
 ],
 "metadata": {
  "kernelspec": {
   "display_name": "Python 3 (ipykernel)",
   "language": "python",
   "name": "python3"
  },
  "language_info": {
   "codemirror_mode": {
    "name": "ipython",
    "version": 3
   },
   "file_extension": ".py",
   "mimetype": "text/x-python",
   "name": "python",
   "nbconvert_exporter": "python",
   "pygments_lexer": "ipython3",
   "version": "3.10.6"
  }
 },
 "nbformat": 4,
 "nbformat_minor": 5
}
