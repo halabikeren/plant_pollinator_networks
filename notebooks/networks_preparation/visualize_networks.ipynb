{
 "cells": [
  {
   "cell_type": "code",
   "execution_count": 1,
   "id": "89dd1a11-712b-4a55-97d1-346725c3a25b",
   "metadata": {},
   "outputs": [],
   "source": [
    "import pandas as pd\n",
    "import numpy as np\n",
    "import os\n",
    "import networkx as nx"
   ]
  },
  {
   "cell_type": "code",
   "execution_count": 12,
   "id": "466582ee-fefc-461e-b6c0-a04a3a5e1d58",
   "metadata": {},
   "outputs": [],
   "source": [
    "network_features_path = f\"../../data/features/network_features/binarized_weighted/features.csv\"\n",
    "species_features_path = f\"../../data/features/plant_features/binarized_weighted/features.csv\"\n",
    "networks_dir = f\"../../data/networks/all/binarized_weighted/\""
   ]
  },
  {
   "cell_type": "code",
   "execution_count": 25,
   "id": "150f9cf4-d70a-4bbd-b231-a2b6f7325381",
   "metadata": {},
   "outputs": [],
   "source": [
    "network_featrues = pd.read_csv(network_features_path)\n",
    "species_features = pd.read_csv(species_features_path)\n",
    "species_features = species_features.dropna(subset=[\"d\", \"betweenness\", \"closeness\"])"
   ]
  },
  {
   "cell_type": "code",
   "execution_count": 26,
   "id": "5f0b7fac-2455-42dc-b2a5-81e4702f75b1",
   "metadata": {},
   "outputs": [],
   "source": [
    "species_features[\"d_bin\"] = pd.cut(species_features.d, bins=10)\n",
    "d_bins = species_features[\"d_bin\"].drop_duplicates().sort_values().tolist()\n",
    "species_features_by_d_bin = species_features.groupby(\"d_bin\")"
   ]
  },
  {
   "cell_type": "code",
   "execution_count": 31,
   "id": "dd16d290-0668-4f4a-bd28-e4b7dc3e1844",
   "metadata": {},
   "outputs": [
    {
     "data": {
      "text/plain": [
       "network_id                    1\n",
       "d                       0.06009\n",
       "Plant         Berberis darwinii\n",
       "Name: 3, dtype: object"
      ]
     },
     "execution_count": 31,
     "metadata": {},
     "output_type": "execute_result"
    }
   ],
   "source": [
    "generalist_example = species_features_by_d_bin.get_group(d_bins[0]).iloc[0][[\"network_id\", \"d\", \"Plant\"]]\n",
    "generalist_example"
   ]
  },
  {
   "cell_type": "code",
   "execution_count": 32,
   "id": "69f02736-58d6-4db2-8df3-db660949b273",
   "metadata": {},
   "outputs": [
    {
     "data": {
      "text/plain": [
       "network_id                   2\n",
       "d                          1.0\n",
       "Plant         Cynanchum diemii\n",
       "Name: 15, dtype: object"
      ]
     },
     "execution_count": 32,
     "metadata": {},
     "output_type": "execute_result"
    }
   ],
   "source": [
    "specialist_example = species_features_by_d_bin.get_group(d_bins[-1]).iloc[0][[\"network_id\", \"d\", \"Plant\"]]\n",
    "specialist_example"
   ]
  },
  {
   "cell_type": "code",
   "execution_count": 33,
   "id": "e345ad2b-adfc-4680-b236-d0f9a407f15f",
   "metadata": {},
   "outputs": [],
   "source": [
    "generalist_example_network_path = f\"{networks_dir}/{generalist_example.network_id}.csv\"\n",
    "specialist_example_network_path = f\"{networks_dir}/{specialist_example.network_id}.csv\""
   ]
  },
  {
   "cell_type": "code",
   "execution_count": 62,
   "id": "741f65cb-32aa-4555-91e8-3751b6d158bb",
   "metadata": {},
   "outputs": [],
   "source": [
    "def parse_network(network_path: str):\n",
    "    \n",
    "    network = pd.read_csv(network_path).set_index(\"Plant\").astype(bool)\n",
    "    interacting_pairs = df.where(df).stack().index.set_names(['plant', 'pollinator']).tolist()\n",
    "    interacting_plants = [pair[0] for pair in interacting_pairs]\n",
    "    interacting_pollinators = [pair[1] for pair in interacting_pairs]\n",
    "    \n",
    "    B = nx.Graph()\n",
    "    B.add_nodes_from(interacting_pairs, bipartite=0)\n",
    "    B.add_nodes_from(interacting_pollinators, bipartite=1)\n",
    "    B.add_weighted_edges_from(\n",
    "        [(interacting_plants[i], interacting_pollinators[i], 1) for i in range(len(interacting_pairs))], \n",
    "        weight='weight')\n",
    "\n",
    "    print(B.edges(data=True))\n",
    "\n",
    "    pos = {node:[0, i] for i,node in enumerate(interacting_plants)}\n",
    "    pos.update({node:[1, i] for i,node in enumerate(interacting_pollinators)})\n",
    "    for p in pos:  # raise text positions\n",
    "        pos[p][1] += 0.25\n",
    "        \n",
    "    return B, pos"
   ]
  },
  {
   "cell_type": "code",
   "execution_count": 63,
   "id": "5dd8400c-5c9a-4257-ae40-9297712d742f",
   "metadata": {},
   "outputs": [
    {
     "name": "stdout",
     "output_type": "stream",
     "text": [
      "[('Colletidae', 'Aristotelia chilensis', {'weight': 1}), ('Colletidae', 'Schinus patagonicus', {'weight': 1}), ('Colletidae', 'Berberis darwinii', {'weight': 1}), ('Colletidae', 'Ribes magellanicum', {'weight': 1}), ('Halictidae', 'Aristotelia chilensis', {'weight': 1}), ('Halictidae', 'Alstroemeria aurea', {'weight': 1}), ('Halictidae', 'Schinus patagonicus', {'weight': 1}), ('Acroceridae', 'Alstroemeria aurea', {'weight': 1}), ('Andrenidae', 'Alstroemeria aurea', {'weight': 1}), ('Apidae', 'Alstroemeria aurea', {'weight': 1}), ('Apidae', 'Berberis darwinii', {'weight': 1}), ('Apidae', 'Vicia nigricans', {'weight': 1}), ('Apidae', 'Rosa eglanteria', {'weight': 1}), ('Apidae', 'Calceolaria crenatiflora', {'weight': 1}), ('Bombilidae', 'Alstroemeria aurea', {'weight': 1}), ('Bombilidae', 'Rosa eglanteria', {'weight': 1}), ('Buprestidae', 'Alstroemeria aurea', {'weight': 1}), ('Buprestidae', 'Mutisia decurrens', {'weight': 1}), ('Megachilidae', 'Alstroemeria aurea', {'weight': 1}), ('Nemestrinidae', 'Alstroemeria aurea', {'weight': 1}), ('Sphecidae', 'Alstroemeria aurea', {'weight': 1}), ('Syrphidae', 'Alstroemeria aurea', {'weight': 1}), ('Syrphidae', 'Schinus patagonicus', {'weight': 1}), ('Syrphidae', 'Rosa eglanteria', {'weight': 1}), ('Thomisidae', 'Alstroemeria aurea', {'weight': 1}), ('Vespidae', 'Alstroemeria aurea', {'weight': 1}), ('Vespidae', 'Schinus patagonicus', {'weight': 1}), ('Formicidae', 'Schinus patagonicus', {'weight': 1}), ('Lauxaniidae', 'Rosa eglanteria', {'weight': 1}), ('Torymidae', 'Cynanchum diemii', {'weight': 1})]\n"
     ]
    }
   ],
   "source": [
    "G, pos = parse_network(generalist_example_network_path)"
   ]
  },
  {
   "cell_type": "code",
   "execution_count": 66,
   "id": "db6f30ac-d2a9-4fa7-b1f0-5bb059985f4e",
   "metadata": {},
   "outputs": [
    {
     "data": {
      "text/plain": [
       "{'Aristotelia chilensis': [0, 1.25],\n",
       " 'Alstroemeria aurea': [0, 13.25],\n",
       " 'Schinus patagonicus': [0, 18.25],\n",
       " 'Berberis darwinii': [0, 20.25],\n",
       " 'Vicia nigricans': [0, 21.25],\n",
       " 'Rosa eglanteria': [0, 25.25],\n",
       " 'Cynanchum diemii': [0, 26.25],\n",
       " 'Ribes magellanicum': [0, 27.25],\n",
       " 'Mutisia decurrens': [0, 28.25],\n",
       " 'Calceolaria crenatiflora': [0, 29.25],\n",
       " 'Colletidae': [1, 27.25],\n",
       " 'Halictidae': [1, 16.25],\n",
       " 'Acroceridae': [1, 2.25],\n",
       " 'Andrenidae': [1, 3.25],\n",
       " 'Apidae': [1, 29.25],\n",
       " 'Bombilidae': [1, 23.25],\n",
       " 'Buprestidae': [1, 28.25],\n",
       " 'Megachilidae': [1, 8.25],\n",
       " 'Nemestrinidae': [1, 9.25],\n",
       " 'Sphecidae': [1, 10.25],\n",
       " 'Syrphidae': [1, 25.25],\n",
       " 'Thomisidae': [1, 12.25],\n",
       " 'Vespidae': [1, 18.25],\n",
       " 'Formicidae': [1, 15.25],\n",
       " 'Lauxaniidae': [1, 24.25],\n",
       " 'Torymidae': [1, 26.25]}"
      ]
     },
     "execution_count": 66,
     "metadata": {},
     "output_type": "execute_result"
    }
   ],
   "source": [
    "pos"
   ]
  },
  {
   "cell_type": "code",
   "execution_count": 65,
   "id": "6b1f8f98-7562-4051-a1f5-7226386c6b7b",
   "metadata": {},
   "outputs": [
    {
     "ename": "KeyError",
     "evalue": "('Aristotelia chilensis', 'Colletidae')",
     "output_type": "error",
     "traceback": [
      "\u001b[0;31m---------------------------------------------------------------------------\u001b[0m",
      "\u001b[0;31mKeyError\u001b[0m                                  Traceback (most recent call last)",
      "Cell \u001b[0;32mIn [65], line 1\u001b[0m\n\u001b[0;32m----> 1\u001b[0m \u001b[43mnx\u001b[49m\u001b[38;5;241;43m.\u001b[39;49m\u001b[43mdraw_networkx_labels\u001b[49m\u001b[43m(\u001b[49m\u001b[43mG\u001b[49m\u001b[43m,\u001b[49m\u001b[43m \u001b[49m\u001b[43mpos\u001b[49m\u001b[43m)\u001b[49m\n\u001b[1;32m      2\u001b[0m plt\u001b[38;5;241m.\u001b[39mshow()\n",
      "File \u001b[0;32m~/miniconda3/envs/ppn/lib/python3.10/site-packages/networkx/drawing/nx_pylab.py:985\u001b[0m, in \u001b[0;36mdraw_networkx_labels\u001b[0;34m(G, pos, labels, font_size, font_color, font_family, font_weight, alpha, bbox, horizontalalignment, verticalalignment, ax, clip_on)\u001b[0m\n\u001b[1;32m    983\u001b[0m text_items \u001b[38;5;241m=\u001b[39m {}  \u001b[38;5;66;03m# there is no text collection so we'll fake one\u001b[39;00m\n\u001b[1;32m    984\u001b[0m \u001b[38;5;28;01mfor\u001b[39;00m n, label \u001b[38;5;129;01min\u001b[39;00m labels\u001b[38;5;241m.\u001b[39mitems():\n\u001b[0;32m--> 985\u001b[0m     (x, y) \u001b[38;5;241m=\u001b[39m \u001b[43mpos\u001b[49m\u001b[43m[\u001b[49m\u001b[43mn\u001b[49m\u001b[43m]\u001b[49m\n\u001b[1;32m    986\u001b[0m     \u001b[38;5;28;01mif\u001b[39;00m \u001b[38;5;129;01mnot\u001b[39;00m \u001b[38;5;28misinstance\u001b[39m(label, \u001b[38;5;28mstr\u001b[39m):\n\u001b[1;32m    987\u001b[0m         label \u001b[38;5;241m=\u001b[39m \u001b[38;5;28mstr\u001b[39m(label)  \u001b[38;5;66;03m# this makes \"1\" and 1 labeled the same\u001b[39;00m\n",
      "\u001b[0;31mKeyError\u001b[0m: ('Aristotelia chilensis', 'Colletidae')"
     ]
    },
    {
     "data": {
      "image/png": "[encoded data removed]",
      "text/plain": [
       "<Figure size 640x480 with 1 Axes>"
      ]
     },
     "metadata": {},
     "output_type": "display_data"
    }
   ],
   "source": [
    "nx.draw_networkx_labels(G, pos)\n",
    "plt.show()"
   ]
  },
  {
   "cell_type": "code",
   "execution_count": null,
   "id": "7b6ac428-2692-48ee-8d97-581569780457",
   "metadata": {},
   "outputs": [],
   "source": []
  }
 ],
 "metadata": {
  "kernelspec": {
   "display_name": "Python 3 (ipykernel)",
   "language": "python",
   "name": "python3"
  },
  "language_info": {
   "codemirror_mode": {
    "name": "ipython",
    "version": 3
   },
   "file_extension": ".py",
   "mimetype": "text/x-python",
   "name": "python",
   "nbconvert_exporter": "python",
   "pygments_lexer": "ipython3",
   "version": "3.10.6"
  }
 },
 "nbformat": 4,
 "nbformat_minor": 5
}
