{
 "cells": [
  {
   "cell_type": "code",
   "execution_count": 1,
   "id": "7c14ed4a-d1ce-4722-8f40-47290a069bb1",
   "metadata": {},
   "outputs": [
    {
     "name": "stdout",
     "output_type": "stream",
     "text": [
      "INFO: Pandarallel will run on 10 workers.\n",
      "INFO: Pandarallel will use standard multiprocessing data transfer (pipe) to transfer data between the main process and workers.\n"
     ]
    }
   ],
   "source": [
    "import pandas as pd\n",
    "import numpy as np\n",
    "\n",
    "import warnings\n",
    "warnings.simplefilter(action='ignore', category=FutureWarning)\n",
    "warnings.simplefilter(action='ignore', category=pd.errors.PerformanceWarning)\n",
    "\n",
    "import os\n",
    "\n",
    "from fractions import Fraction\n",
    "import functools\n",
    "import math\n",
    "\n",
    "from Bio import Entrez\n",
    "Entrez.email = \"halabikeren@mail.tau.ac.il\"\n",
    "\n",
    "from pandarallel import pandarallel\n",
    "pandarallel.initialize(progress_bar=True, nb_workers=10, use_memory_fs=False)"
   ]
  },
  {
   "cell_type": "code",
   "execution_count": 19,
   "id": "a05c25d5-5dbc-4e98-a419-be826c9c3497",
   "metadata": {},
   "outputs": [],
   "source": [
    "networks_dir = \"../../data/networks/\"\n",
    "aggregated_networks_dir = f\"{networks_dir}/all/\"\n",
    "\n",
    "all_binary_networks_dir = f\"{aggregated_networks_dir}binary/\"\n",
    "os.makedirs(all_binary_networks_dir, exist_ok=True)\n",
    "\n",
    "all_weighted_networks_dir = f\"{aggregated_networks_dir}weighted/\"\n",
    "os.makedirs(all_weighted_networks_dir, exist_ok=True)\n",
    "\n",
    "all_binarized_weighted_networks_dir = f\"{aggregated_networks_dir}binarized_weighted/\"\n",
    "os.makedirs(all_binarized_weighted_networks_dir, exist_ok=True)\n",
    "\n",
    "sources = [\"iwdb\", \"literature\", \"mangal\", \"web_of_life\"]\n",
    "\n",
    "name_resolution_path = \"../../data/name_resolution/resolved_plant_names.csv\""
   ]
  },
  {
   "cell_type": "code",
   "execution_count": 3,
   "id": "478f2cd7-dc2f-459c-ad05-fd09cbae0841",
   "metadata": {},
   "outputs": [],
   "source": [
    "name_resolution = None\n",
    "if os.path.exists(name_resolution_path):\n",
    "    name_resolution = pd.read_csv(name_resolution_path)"
   ]
  },
  {
   "cell_type": "code",
   "execution_count": 4,
   "id": "a56294be-1421-4a6b-a88f-fa80bc86c4e6",
   "metadata": {},
   "outputs": [],
   "source": [
    "# # unzip dirs if neccessary\n",
    "# for source in sources:\n",
    "#     zip_path = f\"../../data/networks/{source}.zip\"\n",
    "#     if os.path.exists(zip_path):\n",
    "#         res = os.system(f\"cd ../../data/networks;unzip -o {source}.zip\")"
   ]
  },
  {
   "cell_type": "code",
   "execution_count": 44,
   "id": "c0cf370a-b336-4e4a-b618-977df63cc23b",
   "metadata": {},
   "outputs": [],
   "source": [
    "def is_network_legal(network: pd.DataFrame):\n",
    "    is_net_positive = np.all(network.set_index(\"Plant\").dropna() >= 0)\n",
    "    return is_net_positive\n",
    "\n",
    "def is_network_resolved(network: pd.DataFrame, name_resolution=name_resolution):\n",
    "    is_resolved=True\n",
    "    if type(name_resolution) == pd.DataFrame:\n",
    "        is_resolved = len(set(name_resolution.original_name.str.lower()) & set(network.Plant.str.lower())) > 0     \n",
    "    return is_resolved\n",
    "\n",
    "def is_binary(network: pd.DataFrame) -> bool:\n",
    "    cond1 = np.all(network.set_index(\"Plant\").fillna(0).to_numpy() % 1 == 0)\n",
    "    cond2 = np.all(network.set_index(\"Plant\").fillna(0).to_numpy() <= 1)\n",
    "    return cond1 and cond2\n",
    "\n",
    "def need_transpose(network: pd.DataFrame, output_path:str):\n",
    "    row_sp = network.Plant.tolist()\n",
    "    taxids = []\n",
    "    for sp in row_sp:\n",
    "        try:\n",
    "            taxid = Entrez.read(Entrez.esearch(term=sp, db=\"taxonomy\", retmode=\"xml\"))[\"IdList\"][0]\n",
    "            taxids.append(taxid)\n",
    "        except Exception as e:\n",
    "            continue\n",
    "        if len(taxids) > 1:\n",
    "            break\n",
    "    if len(taxids) == 0:\n",
    "        print(f\"could not extract taxids for the network in {output_path}\")\n",
    "        return False\n",
    "    try:\n",
    "        tax_data = list(Entrez.parse(Entrez.efetch(id=\",\".join(taxids), db=\"taxonomy\", retmode=\"xml\")))\n",
    "        tax_lineage_data = tax_data[0][\"LineageEx\"]\n",
    "        for item in tax_lineage_data:\n",
    "            if item[\"Rank\"] == \"kingdom\" and item[\"ScientificName\"] != \"Viridiplantae\":\n",
    "                return True\n",
    "    except:\n",
    "        return False\n",
    "    return False\n",
    "\n",
    "\n",
    "def processed_network(network_path: str, network_type: str, net_type_to_index: dict, unresolved_plant_names: set, network_index: int) -> list:\n",
    "        is_bin = network_type != \"weighted\"\n",
    "        try:\n",
    "            network = pd.read_csv(network_path)\n",
    "        except Exception as e:\n",
    "            print(f\"network {network_path} could not be read due to error {e}\")\n",
    "            return np.nan, np.nan, np.nan\n",
    "        is_legal = is_network_legal(network)\n",
    "        is_resolved = is_network_resolved(network)\n",
    "        if not is_legal:\n",
    "            return is_legal, is_resolved, np.nan\n",
    "        output_path = f\"{aggregated_networks_dir}{network_type}/{network_index}.csv\"\n",
    "        if os.path.exists(output_path):\n",
    "            return is_legal, is_resolved, output_path\n",
    "\n",
    "        network_columns = network.columns.tolist()\n",
    "        plant_colname = [col for col in network.columns.tolist() if network[col].dtype == object][0]\n",
    "        network.rename(columns={plant_colname: \"Plant\"}, inplace=True)\n",
    "        network = network.loc[~network.Plant.str.lower().isin([\"unknown\", \"total\", \"sorted_order\"])]\n",
    "        network.dropna(subset=[\"Plant\"], inplace=True)\n",
    "        if \"Abundance\" in network.columns:\n",
    "            network.drop([\"Abundance\"], axis=1, inplace=True)\n",
    "        network = network.query(\"not 'abundance' in Plant\")\n",
    "        if \"Number of flowers\" in network.columns:\n",
    "            network.drop([\"Number of flowers\"], axis=1, inplace=True)\n",
    "        for col in network.columns:\n",
    "            if col != \"Plant\":\n",
    "                network[col] = network[col].astype(np.float64)\n",
    "\n",
    "        if len(network.Plant.tolist()) > len(network.Plant.unique()):\n",
    "            network = network.groupby(\"Plant\").sum().reset_index()\n",
    "\n",
    "        if need_transpose(network, output_path):\n",
    "            # print(f\"need to transpose network {output_path}\")\n",
    "            network = network.rename(columns={\"Plant\": \"index\"}).set_index(\"index\").transpose().reset_index().rename(columns={\"index\":\"Plant\"})\n",
    "\n",
    "        orig_sum = network.set_index(\"Plant\").sum().sum()\n",
    "        network.set_index('Plant', inplace=True)\n",
    "        if not np.all(network.replace(np.nan, 0) % 1 == 0): # convert frequencies to numbers\n",
    "            print(f\"{output_path} required modification of interaction values to intger numbers\")\n",
    "            nums = pd.Series((network % 1).replace(0, np.nan).to_numpy().flatten()).dropna()\n",
    "            fracs = [Fraction(x).limit_denominator() for x in nums]\n",
    "            denoms = [f.denominator for f in fracs]\n",
    "            factor = functools.reduce(lambda a,b: a*b//math.gcd(a,b), denoms)\n",
    "            if factor > 10:\n",
    "                print(f\"warning, large scaling factor for {network_path}: {factor} so network will be binarized instead\")\n",
    "            try:\n",
    "                network = (network > 0).astype(int)\n",
    "            except Exception as e:\n",
    "                print(f\"could not transform network due to error {e}\")\n",
    "                return is_legal, is_resolved, np.nan\n",
    "            network.reset_index(inplace=True)\n",
    "        network.reset_index(inplace=True)\n",
    "        network.Plant = network.Plant.apply(lambda x: x.replace(\"_\", \" \"))\n",
    "\n",
    "        if \"cap.ata\" in network.Plant.tolist():\n",
    "            print(f\"network {network_path} with output path {output_path} has plant code names\")\n",
    "\n",
    "        network.fillna(0, inplace=True)\n",
    "\n",
    "        if  np.any(network.sum(axis=0) == 0):\n",
    "            network.set_index(\"Plant\", inplace=True)\n",
    "            network = network.loc[:,network.sum(axis=0)>0]\n",
    "            network.reset_index(inplace=True)\n",
    "\n",
    "        if np.any(network.sum(axis=1) == 0):\n",
    "            # print(f\"{output_path} - removing pollinators with no interactions from network\")\n",
    "            network.set_index(\"Plant\", inplace=True)\n",
    "            network = network.loc[network.sum(axis=1)>0]\n",
    "            network.reset_index(inplace=True)\n",
    "\n",
    "        network = np.rint(network.set_index(\"Plant\")).astype(np.int16).reset_index()\n",
    "\n",
    "        if network.set_index(\"Plant\").sum().sum() == 0:\n",
    "            print(f\"warning! network {network_path} has no interactions! original sum was {orig_sum}\")\n",
    "            \n",
    "        if np.any(network.set_index(\"Plant\") < 0):\n",
    "            print(f\"error! network {network_path} has negative interaction values!\")\n",
    "            return False, is_resolved, np.nan\n",
    "\n",
    "        network.to_csv(output_path, index=False)\n",
    "        net_type_to_index[network_type] += 1\n",
    "        unresolved_plant_names.update(set(network.Plant.str.lower().tolist()))\n",
    "        return is_legal, is_resolved, output_path"
   ]
  },
  {
   "cell_type": "code",
   "execution_count": 45,
   "id": "a5132999-8e83-4fa6-af0a-c64dc4ece29b",
   "metadata": {},
   "outputs": [
    {
     "name": "stdout",
     "output_type": "stream",
     "text": [
      "source       network_type      \n",
      "iwdb         binarized_weighted      8\n",
      "             binary                  2\n",
      "             weighted                8\n",
      "literature   binarized_weighted    188\n",
      "             binary                 44\n",
      "             weighted              188\n",
      "mangal       binarized_weighted    293\n",
      "             binary                 31\n",
      "             weighted              293\n",
      "web_of_life  binarized_weighted     49\n",
      "             binary                104\n",
      "             weighted               49\n",
      "Name: path, dtype: int64\n"
     ]
    }
   ],
   "source": [
    "net_type_to_index = {\"binary\": 0, \"weighted\": 0, \"binarized_weighted\": 0}\n",
    "network_metadata = []\n",
    "for source in sources:\n",
    "    binary_networks_paths = [f\"{networks_dir}/{source}/binary/{path}\" for path in os.listdir(f\"{networks_dir}/{source}/binary/\") if path.endswith(\".csv\") and \"reference\" not in path]\n",
    "    bin_df = pd.DataFrame({\"path\": binary_networks_paths})\n",
    "    bin_df[\"source\"] = source\n",
    "    bin_df[\"network_type\"] = \"binary\" \n",
    "    network_metadata.append(bin_df)\n",
    "    weighted_networks_paths = [f\"{networks_dir}/{source}/weighted/{path}\" for path in os.listdir(f\"{networks_dir}/{source}/weighted/\") if path.endswith(\".csv\") and \"reference\" not in path]\n",
    "    weighted_df = pd.DataFrame({\"path\": weighted_networks_paths})\n",
    "    weighted_df[\"source\"] = source\n",
    "    weighted_df[\"network_type\"] = \"weighted\" \n",
    "    network_metadata.append(weighted_df)\n",
    "    binarized_weighted_df = weighted_df.copy()\n",
    "    binarized_weighted_df[\"network_type\"] = \"binarized_weighted\"\n",
    "    network_metadata.append(binarized_weighted_df)\n",
    "network_metadata = pd.concat(network_metadata)\n",
    "print(network_metadata.groupby([\"source\", \"network_type\"]).path.count())"
   ]
  },
  {
   "cell_type": "code",
   "execution_count": 46,
   "id": "f27c93c4-8e2c-4c52-98e9-93942947c143",
   "metadata": {},
   "outputs": [],
   "source": [
    "network_metadata[\"network_index\"] = np.nan\n",
    "for nt in network_metadata.network_type.unique():\n",
    "    network_metadata.loc[network_metadata.network_type == nt, \"network_index\"] = range(network_metadata.loc[network_metadata.network_type == nt, \"network_index\"].shape[0])\n",
    "network_metadata.network_index= network_metadata.network_index.astype(\"int\")"
   ]
  },
  {
   "cell_type": "code",
   "execution_count": 47,
   "id": "ef206e9b-53bf-448d-ae7a-7d38e6edad6d",
   "metadata": {},
   "outputs": [
    {
     "data": {
      "application/vnd.jupyter.widget-view+json": {
       "model_id": "86229e2caea54e0bba9f8292690ed308",
       "version_major": 2,
       "version_minor": 0
      },
      "text/plain": [
       "VBox(children=(HBox(children=(IntProgress(value=0, description='0.00%', max=126), Label(value='0 / 126'))), HB…"
      ]
     },
     "metadata": {},
     "output_type": "display_data"
    },
    {
     "name": "stdout",
     "output_type": "stream",
     "text": [
      "error! network ../../data/networks//literature/weighted/10.1111_ele.13287_santiago_processed.csv has negative interaction values!\n",
      "error! network ../../data/networks//literature/weighted/10.1111_ele.13287_cruz_processed.csv has negative interaction values!\n",
      "error! network ../../data/networks//literature/weighted/10.1111_ele.13287_cruz_processed.csv has negative interaction values!\n",
      "error! network ../../data/networks//literature/weighted/10.1111_ele.13287_cristobal_processed.csv has negative interaction values!\n",
      "error! network ../../data/networks//literature/weighted/10.1111_ele.13287_cristobal_processed.csv has negative interaction values!\n",
      "error! network ../../data/networks//literature/weighted/10.1111_ele.13287_santiago_processed.csv has negative interaction values!\n"
     ]
    }
   ],
   "source": [
    "unresolved_plant_names = {\"dummy\"}\n",
    "network_metadata[[\"is_legal\", \"is_resolved\", \"processed_path\"]] = network_metadata.parallel_apply(lambda rec: processed_network(network_path=rec.path, \n",
    "                                                                                                                                network_type=rec.network_type,\n",
    "                                                                                                                                net_type_to_index=net_type_to_index, \n",
    "                                                                                                                                unresolved_plant_names=unresolved_plant_names,\n",
    "                                                                                                                                network_index=rec.network_index), \n",
    "                                                                                                  axis=1, \n",
    "                                                                                                  result_type=\"expand\") "
   ]
  },
  {
   "cell_type": "code",
   "execution_count": 50,
   "id": "0277a93b-bfb2-461c-b088-42503724cb5d",
   "metadata": {},
   "outputs": [
    {
     "data": {
      "application/vnd.jupyter.widget-view+json": {
       "model_id": "fdbf170295d94133a184fbaba270b2d7",
       "version_major": 2,
       "version_minor": 0
      },
      "text/plain": [
       "VBox(children=(HBox(children=(IntProgress(value=0, description='0.00%', max=126), Label(value='0 / 126'))), HB…"
      ]
     },
     "metadata": {},
     "output_type": "display_data"
    }
   ],
   "source": [
    "network_metadata[\"is_parsed_legal\"] = network_metadata.parallel_apply(lambda rec: is_network_legal(pd.read_csv(rec.processed_path)) if pd.notna(rec.processed_path) else False, axis=1)    "
   ]
  },
  {
   "cell_type": "code",
   "execution_count": 49,
   "id": "179537b4-f1ca-4078-8de9-7cd341d318a8",
   "metadata": {},
   "outputs": [],
   "source": [
    "net = pd.read_csv(\"../../data/networks//literature/weighted/10.1111_ele.13287_santiago_processed.csv\").set_index(\"Plant\")"
   ]
  },
  {
   "cell_type": "code",
   "execution_count": 58,
   "id": "5db5026d-d4d6-43e5-9a5a-76a2d30a8a08",
   "metadata": {},
   "outputs": [],
   "source": [
    "for i, row in network_metadata.loc[network_metadata.is_parsed_legal == False].iterrows():\n",
    "    net = pd.read_csv(row.path)\n",
    "    if np.all(net.set_index(\"Plant\") >= 0):\n",
    "        processed_path = f\"{aggregated_networks_dir}{row.network_type}/{row.network_index}.csv\"\n",
    "        net.to_csv(processed_path)\n",
    "        network_metadata.loc[network_metadata.path == row.path, \"processed_path\"] = processed_path\n",
    "        network_metadata.loc[network_metadata.path == row.path, \"is_legal\"] = True\n",
    "        network_metadata.loc[network_metadata.path == row.path, \"is_parsed_legal\"] = True"
   ]
  },
  {
   "cell_type": "code",
   "execution_count": 59,
   "id": "40df524d-3a73-4a2e-8dfc-868699c59d6e",
   "metadata": {},
   "outputs": [],
   "source": [
    "network_metadata.to_csv(f\"{aggregated_networks_dir}/networks_metadata.csv\")"
   ]
  },
  {
   "cell_type": "code",
   "execution_count": 64,
   "id": "102968fa-dca6-4061-aa4d-78e2a832209b",
   "metadata": {},
   "outputs": [
    {
     "name": "stdout",
     "output_type": "stream",
     "text": [
      "# unresolved plant names = 5390\n"
     ]
    }
   ],
   "source": [
    "unresolved_plant_names = []\n",
    "networks = {}\n",
    "for path in network_metadata.processed_path.tolist():\n",
    "    net = pd.read_csv(path)\n",
    "    networks[path] = net\n",
    "    unresolved_plant_names += net.Plant.str.lower().tolist()\n",
    "unresolved_plant_names = list(set(unresolved_plant_names))\n",
    "if 'dummy' in unresolved_plant_names:\n",
    "    unresolved_plant_names.remove('dummy')\n",
    "unresolved_plant_names = list(unresolved_plant_names)\n",
    "print(f\"# unresolved plant names = {len(unresolved_plant_names)}\")\n",
    "pd.DataFrame({\"Id\": list(range(1, len(unresolved_plant_names)+1)), \"Name\": unresolved_plant_names}).to_csv(f\"../../data/name_resolution/unresolved_plant_names.csv\", index=False)"
   ]
  },
  {
   "cell_type": "code",
   "execution_count": 65,
   "id": "236a5614-bc22-4757-956d-6636afc3741c",
   "metadata": {},
   "outputs": [],
   "source": [
    "network_stats = pd.DataFrame(columns=[\"network\", \"num_plants\", \"num_pollinators\"])\n",
    "network_stats[\"network\"] = pd.Series(networks.keys())\n",
    "network_stats[\"num_plants\"] = network_stats[\"network\"].apply(lambda path: networks[path].shape[0])\n",
    "network_stats[\"num_pollinators\"] = network_stats[\"network\"].apply(lambda path: networks[path].shape[1])"
   ]
  },
  {
   "cell_type": "code",
   "execution_count": 66,
   "id": "c147841b-92be-476e-becf-59316b45de3f",
   "metadata": {},
   "outputs": [
    {
     "data": {
      "text/plain": [
       "<AxesSubplot: ylabel='Frequency'>"
      ]
     },
     "execution_count": 66,
     "metadata": {},
     "output_type": "execute_result"
    },
    {
     "data": {
      "image/png": "[encoded data removed]",
      "text/plain": [
       "<Figure size 640x480 with 1 Axes>"
      ]
     },
     "metadata": {},
     "output_type": "display_data"
    }
   ],
   "source": [
    "network_stats.plot(kind='hist', bins=20, stacked=False, alpha=.5)"
   ]
  },
  {
   "cell_type": "code",
   "execution_count": 69,
   "id": "2883004f-0559-47c9-8232-c0accec9d46c",
   "metadata": {},
   "outputs": [
    {
     "data": {
      "text/html": [
       "<div>\n",
       "<style scoped>\n",
       "    .dataframe tbody tr th:only-of-type {\n",
       "        vertical-align: middle;\n",
       "    }\n",
       "\n",
       "    .dataframe tbody tr th {\n",
       "        vertical-align: top;\n",
       "    }\n",
       "\n",
       "    .dataframe thead th {\n",
       "        text-align: right;\n",
       "    }\n",
       "</style>\n",
       "<table border=\"1\" class=\"dataframe\">\n",
       "  <thead>\n",
       "    <tr style=\"text-align: right;\">\n",
       "      <th></th>\n",
       "      <th>network</th>\n",
       "      <th>num_plants</th>\n",
       "      <th>num_pollinators</th>\n",
       "      <th>num_total</th>\n",
       "      <th>mult_total</th>\n",
       "    </tr>\n",
       "  </thead>\n",
       "  <tbody>\n",
       "    <tr>\n",
       "      <th>1203</th>\n",
       "      <td>../../data/networks//all/weighted/536.csv</td>\n",
       "      <td>456</td>\n",
       "      <td>1045</td>\n",
       "      <td>1501</td>\n",
       "      <td>476520</td>\n",
       "    </tr>\n",
       "    <tr>\n",
       "      <th>1252</th>\n",
       "      <td>../../data/networks//all/binarized_weighted/53...</td>\n",
       "      <td>456</td>\n",
       "      <td>1045</td>\n",
       "      <td>1501</td>\n",
       "      <td>476520</td>\n",
       "    </tr>\n",
       "  </tbody>\n",
       "</table>\n",
       "</div>"
      ],
      "text/plain": [
       "                                                network  num_plants  \\\n",
       "1203          ../../data/networks//all/weighted/536.csv         456   \n",
       "1252  ../../data/networks//all/binarized_weighted/53...         456   \n",
       "\n",
       "      num_pollinators  num_total  mult_total  \n",
       "1203             1045       1501      476520  \n",
       "1252             1045       1501      476520  "
      ]
     },
     "execution_count": 69,
     "metadata": {},
     "output_type": "execute_result"
    }
   ],
   "source": [
    "network_stats[\"num_total\"] = network_stats.num_plants + network_stats.num_pollinators\n",
    "network_stats[\"mult_total\"] = network_stats.num_plants * network_stats.num_pollinators\n",
    "network_stats.loc[network_stats.num_total == network_stats.num_total.max()]"
   ]
  },
  {
   "cell_type": "code",
   "execution_count": 72,
   "id": "efa16011-7676-4651-8c75-02b745b01dab",
   "metadata": {},
   "outputs": [],
   "source": [
    "# remove unzipped dirs\n",
    "for source in sources:\n",
    "    src_dir = f\"{networks_dir}/{source}/\"\n",
    "    os.system(f\"rm -rf {src_dir}\")"
   ]
  }
 ],
 "metadata": {
  "kernelspec": {
   "display_name": "Python 3 (ipykernel)",
   "language": "python",
   "name": "python3"
  },
  "language_info": {
   "codemirror_mode": {
    "name": "ipython",
    "version": 3
   },
   "file_extension": ".py",
   "mimetype": "text/x-python",
   "name": "python",
   "nbconvert_exporter": "python",
   "pygments_lexer": "ipython3",
   "version": "3.10.6"
  }
 },
 "nbformat": 4,
 "nbformat_minor": 5
}
