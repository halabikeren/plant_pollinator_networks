{
 "cells": [
  {
   "cell_type": "code",
   "execution_count": 10,
   "id": "62974150-0aa4-4e0f-8066-0d360baf5827",
   "metadata": {},
   "outputs": [],
   "source": [
    "library(kgc)\n",
    "library(dplyr)\n",
    "library(tidyr)"
   ]
  },
  {
   "cell_type": "code",
   "execution_count": 11,
   "id": "1b0cff79-0699-45d1-af4b-c732e54d161c",
   "metadata": {},
   "outputs": [],
   "source": [
    "network_metadata_path = \"../../data/networks/networks_metadata.csv\""
   ]
  },
  {
   "cell_type": "code",
   "execution_count": 12,
   "id": "cf3002f3-fa14-43f3-8a29-8f9ebcd6a5d7",
   "metadata": {
    "scrolled": true
   },
   "outputs": [],
   "source": [
    "network_metadata = read.csv(network_metadata_path)\n",
    "relevant_network_data = drop_na(network_metadata, any_of(c(\"Longitude\", \"Latitude\")))\n",
    "relevant_network_data = relevant_network_data[, c(\"network_type\", \"network_index\", \"Longitude\", \"Latitude\")]"
   ]
  },
  {
   "cell_type": "code",
   "execution_count": 13,
   "id": "8a474ec7-d823-4496-a3a2-c333dcbc077b",
   "metadata": {},
   "outputs": [],
   "source": [
    "relevant_network_data = data.frame(relevant_network_data, rndCoord.lat = RoundCoordinates(relevant_network_data$Latitude), rndCoord.lon = RoundCoordinates(relevant_network_data$Longitude))"
   ]
  },
  {
   "cell_type": "code",
   "execution_count": 14,
   "id": "d60aa320-2ccc-4411-a046-ccd8be93dcf8",
   "metadata": {},
   "outputs": [],
   "source": [
    "relevant_network_data = data.frame(relevant_network_data,ClimateZ=LookupCZ(relevant_network_data))"
   ]
  },
  {
   "cell_type": "code",
   "execution_count": 15,
   "id": "3b7260a4-e8a0-4430-b57f-490a29e2a24b",
   "metadata": {},
   "outputs": [],
   "source": [
    "relevant_network_data <- data.frame(relevant_network_data, CZUncertainty(relevant_network_data))"
   ]
  },
  {
   "cell_type": "code",
   "execution_count": 16,
   "id": "e2d0c75f-949b-4398-acf9-a40315340e30",
   "metadata": {},
   "outputs": [],
   "source": [
    "relevant_network_data[relevant_network_data$ClimateZ == \"Climate Zone info missing\", c(\"ClimateZ\")] = NA"
   ]
  },
  {
   "cell_type": "code",
   "execution_count": 17,
   "id": "d39ec7ad-4aa6-4fad-8919-5a1db2f68034",
   "metadata": {},
   "outputs": [],
   "source": [
    "# categorization is devised from http://koeppen-geiger.vu-wien.ac.at/present.htm\n",
    "ClimateZ = c(equatorial = c(\"Af\", \"Am\", \"As\", \"Aw\"),\n",
    "             arid = c(\"BSh\", \"BSk\", \"BWh\", \"BWk\"),\n",
    "             warm_temprate = c(\"Cfc\", \"Cfb\", \"Csc\", \"Csb\", \"Cfa\", \"Csa\", \"Cwa\", \"Cwb\", \"Cwc\"),\n",
    "             boreal = c(\"Dwc\", \"Dwb\", \"Dsa\", \"Dsb\", \"Dfb\", \"Dfc\", \"Dsc\", \"Dwa\", \"Dfa\", \"Dwd\", \"Dfd\"),\n",
    "             polar = c(\"EF\", \"ET\"))\n",
    "clim_cat_data = data.frame(ClimateZ)\n",
    "clim_cat_data[\"climate_category\"] = rownames(clim_cat_data)\n",
    "clim_cat_data$climate_category = gsub(\"[0-9]*\",\"\",clim_cat_data$climate_category)\n",
    "rownames(clim_cat_data) = NULL"
   ]
  },
  {
   "cell_type": "code",
   "execution_count": 18,
   "id": "0cb78c8c-6197-4d76-a42e-032239e872a6",
   "metadata": {},
   "outputs": [],
   "source": [
    "relevant_network_data <- merge(relevant_network_data, clim_cat_data, by.x = \"ClimateZ\", \n",
    "             by.y = \"ClimateZ\", all.x = TRUE, all.y = FALSE)"
   ]
  },
  {
   "cell_type": "code",
   "execution_count": 19,
   "id": "412e8a27-81bc-42c7-87bd-28e886d1ae0a",
   "metadata": {},
   "outputs": [],
   "source": [
    "network_metadata = merge(network_metadata, relevant_network_data[, c(\"network_type\", \"network_index\", \"ClimateZ\", \"climate_category\")], by.x = c(\"network_type\", \"network_index\"), \n",
    "             by.y = c(\"network_type\", \"network_index\"), all.x = TRUE, all.y = FALSE)"
   ]
  },
  {
   "cell_type": "code",
   "execution_count": 23,
   "id": "dea088d6-2a95-432d-8ab3-f1e195543445",
   "metadata": {},
   "outputs": [
    {
     "data": {
      "text/html": [
       "<table class=\"dataframe\">\n",
       "<caption>A data.frame: 6 × 5</caption>\n",
       "<thead>\n",
       "\t<tr><th></th><th scope=col>network_type</th><th scope=col>network_index</th><th scope=col>Latitude</th><th scope=col>Longitude</th><th scope=col>climate_category</th></tr>\n",
       "\t<tr><th></th><th scope=col>&lt;chr&gt;</th><th scope=col>&lt;int&gt;</th><th scope=col>&lt;dbl&gt;</th><th scope=col>&lt;dbl&gt;</th><th scope=col>&lt;chr&gt;</th></tr>\n",
       "</thead>\n",
       "<tbody>\n",
       "\t<tr><th scope=row>1</th><td>binarized_weighted</td><td>13</td><td>48.40838</td><td>10.42863</td><td>warm_temprate</td></tr>\n",
       "\t<tr><th scope=row>2</th><td>binarized_weighted</td><td>14</td><td>48.40838</td><td>10.42863</td><td>warm_temprate</td></tr>\n",
       "\t<tr><th scope=row>3</th><td>binarized_weighted</td><td>15</td><td>48.40838</td><td>10.42863</td><td>warm_temprate</td></tr>\n",
       "\t<tr><th scope=row>4</th><td>binarized_weighted</td><td>16</td><td>48.40838</td><td>10.42863</td><td>warm_temprate</td></tr>\n",
       "\t<tr><th scope=row>5</th><td>binarized_weighted</td><td>17</td><td>48.40838</td><td>10.42863</td><td>warm_temprate</td></tr>\n",
       "\t<tr><th scope=row>6</th><td>binarized_weighted</td><td>18</td><td>48.40838</td><td>10.42863</td><td>warm_temprate</td></tr>\n",
       "</tbody>\n",
       "</table>\n"
      ],
      "text/latex": [
       "A data.frame: 6 × 5\n",
       "\\begin{tabular}{r|lllll}\n",
       "  & network\\_type & network\\_index & Latitude & Longitude & climate\\_category\\\\\n",
       "  & <chr> & <int> & <dbl> & <dbl> & <chr>\\\\\n",
       "\\hline\n",
       "\t1 & binarized\\_weighted & 13 & 48.40838 & 10.42863 & warm\\_temprate\\\\\n",
       "\t2 & binarized\\_weighted & 14 & 48.40838 & 10.42863 & warm\\_temprate\\\\\n",
       "\t3 & binarized\\_weighted & 15 & 48.40838 & 10.42863 & warm\\_temprate\\\\\n",
       "\t4 & binarized\\_weighted & 16 & 48.40838 & 10.42863 & warm\\_temprate\\\\\n",
       "\t5 & binarized\\_weighted & 17 & 48.40838 & 10.42863 & warm\\_temprate\\\\\n",
       "\t6 & binarized\\_weighted & 18 & 48.40838 & 10.42863 & warm\\_temprate\\\\\n",
       "\\end{tabular}\n"
      ],
      "text/markdown": [
       "\n",
       "A data.frame: 6 × 5\n",
       "\n",
       "| <!--/--> | network_type &lt;chr&gt; | network_index &lt;int&gt; | Latitude &lt;dbl&gt; | Longitude &lt;dbl&gt; | climate_category &lt;chr&gt; |\n",
       "|---|---|---|---|---|---|\n",
       "| 1 | binarized_weighted | 13 | 48.40838 | 10.42863 | warm_temprate |\n",
       "| 2 | binarized_weighted | 14 | 48.40838 | 10.42863 | warm_temprate |\n",
       "| 3 | binarized_weighted | 15 | 48.40838 | 10.42863 | warm_temprate |\n",
       "| 4 | binarized_weighted | 16 | 48.40838 | 10.42863 | warm_temprate |\n",
       "| 5 | binarized_weighted | 17 | 48.40838 | 10.42863 | warm_temprate |\n",
       "| 6 | binarized_weighted | 18 | 48.40838 | 10.42863 | warm_temprate |\n",
       "\n"
      ],
      "text/plain": [
       "  network_type       network_index Latitude Longitude climate_category\n",
       "1 binarized_weighted 13            48.40838 10.42863  warm_temprate   \n",
       "2 binarized_weighted 14            48.40838 10.42863  warm_temprate   \n",
       "3 binarized_weighted 15            48.40838 10.42863  warm_temprate   \n",
       "4 binarized_weighted 16            48.40838 10.42863  warm_temprate   \n",
       "5 binarized_weighted 17            48.40838 10.42863  warm_temprate   \n",
       "6 binarized_weighted 18            48.40838 10.42863  warm_temprate   "
      ]
     },
     "metadata": {},
     "output_type": "display_data"
    }
   ],
   "source": [
    "head(drop_na(network_metadata, any_of(c(\"Latitude\")))[, c(\"network_type\", \"network_index\", \"Latitude\", \"Longitude\", \"climate_category\")])"
   ]
  },
  {
   "cell_type": "code",
   "execution_count": 25,
   "id": "227e3712-19e0-428f-8deb-27fa5843e40c",
   "metadata": {},
   "outputs": [
    {
     "data": {
      "text/html": [
       "<style>\n",
       ".list-inline {list-style: none; margin:0; padding: 0}\n",
       ".list-inline>li {display: inline-block}\n",
       ".list-inline>li:not(:last-child)::after {content: \"\\00b7\"; padding: 0 .5ex}\n",
       "</style>\n",
       "<ol class=list-inline><li>NA</li><li>'warm_temprate'</li><li>'boreal'</li><li>'polar'</li><li>'arid'</li><li>'equatorial'</li></ol>\n"
      ],
      "text/latex": [
       "\\begin{enumerate*}\n",
       "\\item NA\n",
       "\\item 'warm\\_temprate'\n",
       "\\item 'boreal'\n",
       "\\item 'polar'\n",
       "\\item 'arid'\n",
       "\\item 'equatorial'\n",
       "\\end{enumerate*}\n"
      ],
      "text/markdown": [
       "1. NA\n",
       "2. 'warm_temprate'\n",
       "3. 'boreal'\n",
       "4. 'polar'\n",
       "5. 'arid'\n",
       "6. 'equatorial'\n",
       "\n",
       "\n"
      ],
      "text/plain": [
       "[1] NA              \"warm_temprate\" \"boreal\"        \"polar\"        \n",
       "[5] \"arid\"          \"equatorial\"   "
      ]
     },
     "metadata": {},
     "output_type": "display_data"
    }
   ],
   "source": [
    "unique(network_metadata$climate_category)"
   ]
  },
  {
   "cell_type": "code",
   "execution_count": 33,
   "id": "84280beb-184c-4091-8f8b-43a52362a328",
   "metadata": {},
   "outputs": [
    {
     "data": {
      "text/html": [
       "<table class=\"dataframe\">\n",
       "<caption>A data.frame: 12 × 2</caption>\n",
       "<thead>\n",
       "\t<tr><th></th><th scope=col>EcoRegion_name</th><th scope=col>ClimateZ</th></tr>\n",
       "\t<tr><th></th><th scope=col>&lt;chr&gt;</th><th scope=col>&lt;fct&gt;</th></tr>\n",
       "</thead>\n",
       "<tbody>\n",
       "\t<tr><th scope=row>1</th><td>                                            </td><td>NA</td></tr>\n",
       "\t<tr><th scope=row>203</th><td>mascarene forests                           </td><td>NA</td></tr>\n",
       "\t<tr><th scope=row>347</th><td>azores temperate mixed forests              </td><td>NA</td></tr>\n",
       "\t<tr><th scope=row>501</th><td>galapagos islands xeric scrub               </td><td>NA</td></tr>\n",
       "\t<tr><th scope=row>506</th><td>nihonkai montane deciduous forests          </td><td>NA</td></tr>\n",
       "\t<tr><th scope=row>771</th><td>sulawesi lowland rain forests               </td><td>NA</td></tr>\n",
       "\t<tr><th scope=row>791</th><td>talamancan montane forests                  </td><td>NA</td></tr>\n",
       "\t<tr><th scope=row>799</th><td>nansei islands subtropical evergreen forests</td><td>NA</td></tr>\n",
       "\t<tr><th scope=row>855</th><td>celtic broadleaf forests                    </td><td>NA</td></tr>\n",
       "\t<tr><th scope=row>895</th><td>serra do mar coastal forests                </td><td>NA</td></tr>\n",
       "\t<tr><th scope=row>1546</th><td>eastern australian temperate forests        </td><td>NA</td></tr>\n",
       "\t<tr><th scope=row>1550</th><td>valdivian temperate forests                 </td><td>NA</td></tr>\n",
       "</tbody>\n",
       "</table>\n"
      ],
      "text/latex": [
       "A data.frame: 12 × 2\n",
       "\\begin{tabular}{r|ll}\n",
       "  & EcoRegion\\_name & ClimateZ\\\\\n",
       "  & <chr> & <fct>\\\\\n",
       "\\hline\n",
       "\t1 &                                              & NA\\\\\n",
       "\t203 & mascarene forests                            & NA\\\\\n",
       "\t347 & azores temperate mixed forests               & NA\\\\\n",
       "\t501 & galapagos islands xeric scrub                & NA\\\\\n",
       "\t506 & nihonkai montane deciduous forests           & NA\\\\\n",
       "\t771 & sulawesi lowland rain forests                & NA\\\\\n",
       "\t791 & talamancan montane forests                   & NA\\\\\n",
       "\t799 & nansei islands subtropical evergreen forests & NA\\\\\n",
       "\t855 & celtic broadleaf forests                     & NA\\\\\n",
       "\t895 & serra do mar coastal forests                 & NA\\\\\n",
       "\t1546 & eastern australian temperate forests         & NA\\\\\n",
       "\t1550 & valdivian temperate forests                  & NA\\\\\n",
       "\\end{tabular}\n"
      ],
      "text/markdown": [
       "\n",
       "A data.frame: 12 × 2\n",
       "\n",
       "| <!--/--> | EcoRegion_name &lt;chr&gt; | ClimateZ &lt;fct&gt; |\n",
       "|---|---|---|\n",
       "| 1 | <!----> | NA |\n",
       "| 203 | mascarene forests                            | NA |\n",
       "| 347 | azores temperate mixed forests               | NA |\n",
       "| 501 | galapagos islands xeric scrub                | NA |\n",
       "| 506 | nihonkai montane deciduous forests           | NA |\n",
       "| 771 | sulawesi lowland rain forests                | NA |\n",
       "| 791 | talamancan montane forests                   | NA |\n",
       "| 799 | nansei islands subtropical evergreen forests | NA |\n",
       "| 855 | celtic broadleaf forests                     | NA |\n",
       "| 895 | serra do mar coastal forests                 | NA |\n",
       "| 1546 | eastern australian temperate forests         | NA |\n",
       "| 1550 | valdivian temperate forests                  | NA |\n",
       "\n"
      ],
      "text/plain": [
       "     EcoRegion_name                               ClimateZ\n",
       "1                                                 NA      \n",
       "203  mascarene forests                            NA      \n",
       "347  azores temperate mixed forests               NA      \n",
       "501  galapagos islands xeric scrub                NA      \n",
       "506  nihonkai montane deciduous forests           NA      \n",
       "771  sulawesi lowland rain forests                NA      \n",
       "791  talamancan montane forests                   NA      \n",
       "799  nansei islands subtropical evergreen forests NA      \n",
       "855  celtic broadleaf forests                     NA      \n",
       "895  serra do mar coastal forests                 NA      \n",
       "1546 eastern australian temperate forests         NA      \n",
       "1550 valdivian temperate forests                  NA      "
      ]
     },
     "metadata": {},
     "output_type": "display_data"
    }
   ],
   "source": [
    "debug = network_metadata[is.na(network_metadata$climate_category), c(\"EcoRegion_name\", \"ClimateZ\")] # \"Longitude\", \"Latitude\", \n",
    "debug = unique(debug)\n",
    "debug"
   ]
  },
  {
   "cell_type": "code",
   "execution_count": 24,
   "id": "00770ae1-31c5-4a08-95af-8bf61bcd4400",
   "metadata": {},
   "outputs": [],
   "source": [
    "write.csv(network_metadata, network_metadata_path)"
   ]
  }
 ],
 "metadata": {
  "kernelspec": {
   "display_name": "R",
   "language": "R",
   "name": "ir"
  },
  "language_info": {
   "codemirror_mode": "r",
   "file_extension": ".r",
   "mimetype": "text/x-r-source",
   "name": "R",
   "pygments_lexer": "r",
   "version": "4.2.3"
  }
 },
 "nbformat": 4,
 "nbformat_minor": 5
}
