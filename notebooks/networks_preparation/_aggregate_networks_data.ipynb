{
 "cells": [
  {
   "cell_type": "code",
   "execution_count": 1,
   "id": "7c14ed4a-d1ce-4722-8f40-47290a069bb1",
   "metadata": {},
   "outputs": [],
   "source": [
    "import pandas as pd\n",
    "import numpy as np\n",
    "\n",
    "import warnings\n",
    "warnings.simplefilter(action='ignore', category=FutureWarning)\n",
    "warnings.simplefilter(action='ignore', category=pd.errors.PerformanceWarning)\n",
    "\n",
    "import os\n",
    "\n",
    "from fractions import Fraction\n",
    "import functools\n",
    "import math\n",
    "\n",
    "from Bio import Entrez\n",
    "Entrez.email = \"halabikeren@mail.tau.ac.il\""
   ]
  },
  {
   "cell_type": "code",
   "execution_count": 2,
   "id": "a05c25d5-5dbc-4e98-a419-be826c9c3497",
   "metadata": {},
   "outputs": [],
   "source": [
    "agg_networks_dir = \"../../data/networks/all2/\"\n",
    "\n",
    "all_binary_networks_dir = f\"{agg_networks_dir}/binary/\"\n",
    "os.makedirs(all_binary_networks_dir, exist_ok=True)\n",
    "\n",
    "all_weighted_networks_dir = f\"{agg_networks_dir}/weighted/\"\n",
    "os.makedirs(all_weighted_networks_dir, exist_ok=True)\n",
    "\n",
    "sources = [\"iwdb\", \"literature\", \"mangal\", \"web_of_life\"]"
   ]
  },
  {
   "cell_type": "code",
   "execution_count": 3,
   "id": "a56294be-1421-4a6b-a88f-fa80bc86c4e6",
   "metadata": {},
   "outputs": [],
   "source": [
    "# unzip dirs if neccessary\n",
    "for source in sources:\n",
    "    zip_path = f\"../data/networks/{source}.zip\"\n",
    "    if os.path.exists(zip_path):\n",
    "        res = os.system(f\"cd ../../data/networks;unzip -o {source}.zip\")"
   ]
  },
  {
   "cell_type": "code",
   "execution_count": null,
   "id": "c0cf370a-b336-4e4a-b618-977df63cc23b",
   "metadata": {},
   "outputs": [
    {
     "name": "stdout",
     "output_type": "stream",
     "text": [
      "source = iwdb, #binary networks = 2, #weighted networks = 8\n"
     ]
    }
   ],
   "source": [
    "def is_binary(network: pd.DataFrame) -> bool:\n",
    "    cond1 = np.all(network.set_index(\"Plant\").fillna(0).to_numpy() % 1 == 0)\n",
    "    cond2 = np.all(network.set_index(\"Plant\").fillna(0).to_numpy() <= 1)\n",
    "    return cond1 and cond2\n",
    "\n",
    "def need_transpose(network: pd.DataFrame, output_path:str):\n",
    "    row_sp = network.Plant.tolist()\n",
    "    taxids = []\n",
    "    for sp in row_sp:\n",
    "        try:\n",
    "            taxid = Entrez.read(Entrez.esearch(term=sp, db=\"taxonomy\", retmode=\"xml\"))[\"IdList\"][0]\n",
    "            taxids.append(taxid)\n",
    "        except Exception as e:\n",
    "            continue\n",
    "        if len(taxids) > 1:\n",
    "            break\n",
    "    if len(taxids) == 0:\n",
    "        print(f\"could not extract taxids for the network in {output_path}\")\n",
    "        return False\n",
    "    try:\n",
    "        tax_data = list(Entrez.parse(Entrez.efetch(id=\",\".join(taxids), db=\"taxonomy\", retmode=\"xml\")))\n",
    "        tax_lineage_data = tax_data[0][\"LineageEx\"]\n",
    "        for item in tax_lineage_data:\n",
    "            if item[\"Rank\"] == \"kingdom\" and item[\"ScientificName\"] != \"Viridiplantae\":\n",
    "                return True\n",
    "    except:\n",
    "        return False\n",
    "    return False\n",
    "\n",
    "unresolved_plant_names, unresvoled_pollinator_names = [], []\n",
    "num_binary_networks, num_weigted_networks = 0, 0\n",
    "bin_i, weighted_i = 0, 0\n",
    "networks = dict()\n",
    "network_metadata = pd.DataFrame(columns=[\"orig_path\", \"network_type\", \"network_index\"])\n",
    "for source in sources:\n",
    "    binary_networks_paths = [f\"../../data/networks/{source}/binary/{path}\" for path in os.listdir(f\"../../data/networks/{source}/binary/\") if path.endswith(\".csv\") and \"reference\" not in path]\n",
    "    num_binary_networks += len(binary_networks_paths)\n",
    "    weighted_networks_paths = [f\"../../data/networks/{source}/weighted/{path}\" for path in os.listdir(f\"../../data/networks/{source}/weighted/\") if path.endswith(\".csv\") and \"reference\" not in path]\n",
    "    num_weigted_networks += len(weighted_networks_paths)\n",
    "    print(f\"source = {source}, #binary networks = {len(binary_networks_paths)}, #weighted networks = {len(weighted_networks_paths)}\")\n",
    "    for network_path in list(binary_networks_paths + weighted_networks_paths):\n",
    "        \n",
    "        network = pd.read_csv(network_path)\n",
    "        is_bin = is_binary(network)\n",
    "        if is_bin:\n",
    "            output_path = f\"{all_binary_networks_dir}{bin_i}.csv\"\n",
    "            bin_i += 1\n",
    "        else:\n",
    "            output_path = f\"{all_weighted_networks_dir}{weighted_i}.csv\"\n",
    "            weighted_i += 1\n",
    "        network_columns = network.columns.tolist()\n",
    "        plant_colname = [col for col in network.columns.tolist() if network[col].dtype == object][0]\n",
    "        network.rename(columns={plant_colname: \"Plant\"}, inplace=True)\n",
    "        network = network.loc[~network.Plant.str.lower().isin([\"unknown\", \"total\", \"sorted_order\"])]\n",
    "        network.dropna(subset=[\"Plant\"], inplace=True)\n",
    "        if \"Abundance\" in network.columns:\n",
    "            network.drop([\"Abundance\"], axis=1, inplace=True)\n",
    "        network = network.query(\"not 'abundance' in Plant\")\n",
    "        if \"Number of flowers\" in network.columns:\n",
    "            network.drop([\"Number of flowers\"], axis=1, inplace=True)\n",
    "        for col in network.columns:\n",
    "            if col != \"Plant\":\n",
    "                network[col] = network[col].astype(np.float64)\n",
    "                \n",
    "        if len(network.Plant.tolist()) > len(network.Plant.unique()):\n",
    "            network = network.groupby(\"Plant\").sum().reset_index()\n",
    "            \n",
    "        if need_transpose(network, output_path):\n",
    "            print(f\"need to transpose network {output_path}\")\n",
    "            network = network.rename(columns={\"Plant\": \"index\"}).set_index(\"index\").transpose().reset_index().rename(columns={\"index\":\"Plant\"})\n",
    "        \n",
    "        orig_sum = network.set_index(\"Plant\").sum().sum()\n",
    "        network.set_index('Plant', inplace=True)\n",
    "        if not np.all(network.replace(np.nan, 0) % 1 == 0): # convert frequencies to numbers\n",
    "            print(f\"{output_path} required modification of interaction values to intger numbers\")\n",
    "            nums = pd.Series((network % 1).replace(0, np.nan).to_numpy().flatten()).dropna()\n",
    "            fracs = [Fraction(x).limit_denominator() for x in nums]\n",
    "            denoms = [f.denominator for f in fracs]\n",
    "            factor = functools.reduce(lambda a,b: a*b//math.gcd(a,b), denoms)\n",
    "            if factor > 10:\n",
    "                print(f\"warning, large scaling factor for {network_path}: {factor}\")\n",
    "            try:\n",
    "                network = network * factor\n",
    "            except Exception as e:\n",
    "                print(f\"could not transform network due to error {e}\")\n",
    "                continue\n",
    "            network.reset_index(inplace=True)\n",
    "        network.reset_index(inplace=True)\n",
    "        network.Plant = network.Plant.apply(lambda x: x.replace(\"_\", \" \"))\n",
    "        \n",
    "        if \"cap.ata\" in network.Plant.tolist():\n",
    "            print(f\"network {network_path} with output path {output_path} has plant code names\")\n",
    "        \n",
    "        network.fillna(0, inplace=True)\n",
    "        \n",
    "        if  np.any(network.sum(axis=0) == 0):\n",
    "            network.set_index(\"Plant\", inplace=True)\n",
    "            network = network.loc[:,network.sum(axis=0)>0]\n",
    "            network.reset_index(inplace=True)\n",
    "            \n",
    "        if np.any(network.sum(axis=1) == 0):\n",
    "            print(f\"{output_path} - removing pollinators with no interactions from network\")\n",
    "            network.set_index(\"Plant\", inplace=True)\n",
    "            network = network.loc[network.sum(axis=1)>0]\n",
    "            network.reset_index(inplace=True)\n",
    "        \n",
    "        networks[os.path.basename(network_path)] = network\n",
    "        network = np.rint(network.set_index(\"Plant\")).astype(np.int16).reset_index()\n",
    "        \n",
    "        network_metadata = pd.concat([network_metadata, pd.DataFrame({\"orig_path\": [network_path],\n",
    "                                                                      \"network_type\": ['binary' if is_bin else 'weighted'],\n",
    "                                                                      \"network_index\": [bin_i if is_bin else weighted_i]})])\n",
    "        if network.set_index(\"Plant\").sum().sum() == 0:\n",
    "            print(f\"warning! network {network_path} has no interactions! original sum was {orig_sum}\")\n",
    "        \n",
    "        network.to_csv(output_path, index=False)\n",
    "        unresolved_plant_names += network.Plant.tolist()\n",
    "        unresvoled_pollinator_names += list(set(network.columns) - {\"Plant\"})\n",
    "\n",
    "network_metadata.to_csv(f\"{agg_networks_dir}/networks_metadata.csv\", index=False)\n",
    "print(f\"# binary networks = {bin_i}\\n# weighted networks = {weighted_i}\\n# networks = {bin_i + weighted_i}\")"
   ]
  },
  {
   "cell_type": "code",
   "execution_count": 4,
   "id": "102968fa-dca6-4061-aa4d-78e2a832209b",
   "metadata": {},
   "outputs": [
    {
     "name": "stdout",
     "output_type": "stream",
     "text": [
      "# unresolved plant names = 5319\n"
     ]
    }
   ],
   "source": [
    "unresolved_plant_names = list(set(unresolved_plant_names))\n",
    "print(f\"# unresolved plant names = {len(unresolved_plant_names)}\")\n",
    "pd.DataFrame({\"Id\": list(range(1, len(unresolved_plant_names)+1)), \"Name\": unresolved_plant_names}).to_csv(f\"../name_resolution/unresolved_plant_names.csv\", index=False)"
   ]
  },
  {
   "cell_type": "code",
   "execution_count": 5,
   "id": "6347a583-a853-4687-883f-2748a6ddb71b",
   "metadata": {},
   "outputs": [
    {
     "name": "stdout",
     "output_type": "stream",
     "text": [
      "# unresolved pollinator names = 14785\n"
     ]
    }
   ],
   "source": [
    "unresvoled_pollinator_names = list(set(unresvoled_pollinator_names))\n",
    "print(f\"# unresolved pollinator names = {len(unresvoled_pollinator_names)}\")\n",
    "pd.DataFrame({\"Id\": list(range(1, len(unresvoled_pollinator_names)+1)), \"Name\": unresvoled_pollinator_names}).to_csv(f\"../name_resolution/unresolved_pollinator_names.csv\", index=False)"
   ]
  },
  {
   "cell_type": "code",
   "execution_count": 6,
   "id": "236a5614-bc22-4757-956d-6636afc3741c",
   "metadata": {},
   "outputs": [],
   "source": [
    "network_stats = pd.DataFrame(columns=[\"network\", \"num_plants\", \"num_pollinators\"])\n",
    "network_stats[\"network\"] = pd.Series(networks.keys())\n",
    "network_stats[\"num_plants\"] = network_stats[\"network\"].apply(lambda path: networks[path].shape[0])\n",
    "network_stats[\"num_pollinators\"] = network_stats[\"network\"].apply(lambda path: networks[path].shape[1])"
   ]
  },
  {
   "cell_type": "code",
   "execution_count": 7,
   "id": "c147841b-92be-476e-becf-59316b45de3f",
   "metadata": {},
   "outputs": [
    {
     "data": {
      "text/plain": [
       "<AxesSubplot:ylabel='Frequency'>"
      ]
     },
     "execution_count": 7,
     "metadata": {},
     "output_type": "execute_result"
    },
    {
     "data": {
      "image/png": "[encoded data removed]",
      "text/plain": [
       "<Figure size 640x480 with 1 Axes>"
      ]
     },
     "metadata": {},
     "output_type": "display_data"
    }
   ],
   "source": [
    "network_stats.plot(kind='hist', bins=20, stacked=False, alpha=.5)"
   ]
  },
  {
   "cell_type": "code",
   "execution_count": 8,
   "id": "2883004f-0559-47c9-8232-c0accec9d46c",
   "metadata": {},
   "outputs": [
    {
     "data": {
      "text/html": [
       "<div>\n",
       "<style scoped>\n",
       "    .dataframe tbody tr th:only-of-type {\n",
       "        vertical-align: middle;\n",
       "    }\n",
       "\n",
       "    .dataframe tbody tr th {\n",
       "        vertical-align: top;\n",
       "    }\n",
       "\n",
       "    .dataframe thead th {\n",
       "        text-align: right;\n",
       "    }\n",
       "</style>\n",
       "<table border=\"1\" class=\"dataframe\">\n",
       "  <thead>\n",
       "    <tr style=\"text-align: right;\">\n",
       "      <th></th>\n",
       "      <th>network</th>\n",
       "      <th>num_plants</th>\n",
       "      <th>num_pollinators</th>\n",
       "      <th>num_total</th>\n",
       "      <th>mult_total</th>\n",
       "    </tr>\n",
       "  </thead>\n",
       "  <tbody>\n",
       "    <tr>\n",
       "      <th>717</th>\n",
       "      <td>M_PL_062.csv</td>\n",
       "      <td>456</td>\n",
       "      <td>1045</td>\n",
       "      <td>1501</td>\n",
       "      <td>476520</td>\n",
       "    </tr>\n",
       "  </tbody>\n",
       "</table>\n",
       "</div>"
      ],
      "text/plain": [
       "          network  num_plants  num_pollinators  num_total  mult_total\n",
       "717  M_PL_062.csv         456             1045       1501      476520"
      ]
     },
     "execution_count": 8,
     "metadata": {},
     "output_type": "execute_result"
    }
   ],
   "source": [
    "network_stats[\"num_total\"] = network_stats.num_plants + network_stats.num_pollinators\n",
    "network_stats[\"mult_total\"] = network_stats.num_plants * network_stats.num_pollinators\n",
    "metadata.loc[network_stats.num_total == network_stats.num_total.max()]"
   ]
  },
  {
   "cell_type": "code",
   "execution_count": null,
   "id": "efa16011-7676-4651-8c75-02b745b01dab",
   "metadata": {},
   "outputs": [],
   "source": [
    "# remove unzipped dirs\n",
    "for source in sources:\n",
    "    src_dir = f\"../data/networks/{source}/\"\n",
    "    os.remove(src_dir)"
   ]
  }
 ],
 "metadata": {
  "kernelspec": {
   "display_name": "Python 3 (ipykernel)",
   "language": "python",
   "name": "python3"
  },
  "language_info": {
   "codemirror_mode": {
    "name": "ipython",
    "version": 3
   },
   "file_extension": ".py",
   "mimetype": "text/x-python",
   "name": "python",
   "nbconvert_exporter": "python",
   "pygments_lexer": "ipython3",
   "version": "3.10.6"
  }
 },
 "nbformat": 4,
 "nbformat_minor": 5
}
