{
 "cells": [
  {
   "cell_type": "code",
   "execution_count": 1,
   "id": "f62565fe-9f8d-4ef3-a73a-c026ed56b543",
   "metadata": {},
   "outputs": [],
   "source": [
    "import pandas as pd\n",
    "import numpy as np\n",
    "import os"
   ]
  },
  {
   "cell_type": "code",
   "execution_count": 2,
   "id": "430b4acd-6575-4e5d-ac1e-47350b042378",
   "metadata": {},
   "outputs": [],
   "source": [
    "weighted_networks_dir = \"../data/networks/all/weighted/\"\n",
    "binarized_weighred_networks_dir = \"../data/networks/all/binarized_weighted/\""
   ]
  },
  {
   "cell_type": "code",
   "execution_count": 3,
   "id": "371394e5-b9f4-4c3c-a51c-5532ed498e63",
   "metadata": {},
   "outputs": [],
   "source": [
    "os.makedirs(binarized_weighred_networks_dir, exist_ok=True)"
   ]
  },
  {
   "cell_type": "code",
   "execution_count": 5,
   "id": "28682b78-5fbc-4d0d-b6f5-0e1a89e0b6d0",
   "metadata": {},
   "outputs": [],
   "source": [
    "for path in os.listdir(weighted_networks_dir):\n",
    "    if path.endswith(\".csv\"):\n",
    "        network = pd.read_csv(f\"{weighted_networks_dir}{path}\")\n",
    "        network.set_index(\"Plant\", inplace=True)\n",
    "        network = (network > 0).astype(np.int16)\n",
    "        network.reset_index(inplace=True)\n",
    "        network.to_csv(f\"{binarized_weighred_networks_dir}{path}\", index=False)"
   ]
  }
 ],
 "metadata": {
  "kernelspec": {
   "display_name": "Python 3 (ipykernel)",
   "language": "python",
   "name": "python3"
  },
  "language_info": {
   "codemirror_mode": {
    "name": "ipython",
    "version": 3
   },
   "file_extension": ".py",
   "mimetype": "text/x-python",
   "name": "python",
   "nbconvert_exporter": "python",
   "pygments_lexer": "ipython3",
   "version": "3.10.6"
  }
 },
 "nbformat": 4,
 "nbformat_minor": 5
}
