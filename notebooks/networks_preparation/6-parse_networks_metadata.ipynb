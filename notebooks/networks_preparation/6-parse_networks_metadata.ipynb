{
 "cells": [
  {
   "cell_type": "code",
   "execution_count": 101,
   "id": "e9166265-865c-4446-ac34-49ba45ce9699",
   "metadata": {},
   "outputs": [],
   "source": [
    "import pandas as pd\n",
    "import numpy as np\n",
    "import os\n",
    "import re\n",
    "\n",
    "pd.set_option('display.max_colwidth', None)\n",
    "\n",
    "from geopy.geocoders import Nominatim\n",
    "from geopy.geocoders import GoogleV3\n",
    "\n",
    "from time import sleep"
   ]
  },
  {
   "cell_type": "code",
   "execution_count": 102,
   "id": "0f3dc623-628b-41c6-8493-d179833f7720",
   "metadata": {},
   "outputs": [],
   "source": [
    "networks_metadata_path = \"../../data/networks/networks_metadata.csv\"\n",
    "parsed_geodata_path = \"../../data/networks/all/networks_unparsed_geodata.csv\"\n",
    "bioclim_data_path = \"../../data/networks/all/networks_bioclim_data.csv\"\n",
    "\n",
    "complementary_location_data_path = \"../../data/networks/metadata/complementary_location_data.csv\"\n",
    "oik_db_path = \"../../data/networks/metadata/OIK-07303_database.csv\"\n",
    "oik_loc_path = \"../../data/networks/metadata/OIK-07303_original_studies.xlsx\"\n",
    "oik_indices_path = \"../../data/networks/metadata/OIK_07303_network_indices.csv\"\n",
    "loc_to_ecoregion_for_mapping_path = \"../../data/networks/metadata/networks_for_loc_to_ecoregion_mapping_pre_r.csv\"\n",
    "loc_to_ecoregion_for_complementing_path = \"../../data/networks/metadata/networks_for_loc_to_ecoregion_mapping_post_r.csv\"\n",
    "\n",
    "ecoregion_ids_map_path = \"../../data/metadata/network_level/ecoregions.csv\"\n",
    "ecoregion_metadata_path_1 = \"../../data/metadata/network_level/ecoregions_metadata_rice_2019.xlsx\"\n",
    "ecoregion_metadata_path_2 = \"../../data/metadata/network_level/ecoregions_polyfreq_rice_2019.xlsx\"\n",
    "ecoregion_metadata_path_3 = \"../../data/metadata/network_level/ecoregions_data.csv\"\n",
    "\n",
    "varnames = {\"BioClim_1\": \"AnnualMeanTemperature\",\n",
    "\"BioClim_2\": \"MeanDiurnalTempRange\",\n",
    "\"BioClim_3\": \"Isothermality\",\n",
    "\"BioClim_4\": \"TemperatureSeasonality\",\n",
    "\"BioClim_5\": \"MaxTemperatureofWarmestMonth\",\n",
    "\"BioClim_6\": \"MinTemperatureofColdestMonth\",\n",
    "\"BioClim_7\": \"TemperatureAnnualRange\",\n",
    "\"BioClim_8\": \"MeanTemperatureofWettestQuarter\",\n",
    "\"BioClim_9\": \"MeanTemperatureofDriestQuarter\",\n",
    "\"BioClim_10\": \"MeanTemperatureofWarmestQuarter\",\n",
    "\"BioClim_11\": \"MeanTemperatureofColdestQuarter\",\n",
    "\"BioClim_12\": \"AnnualPrecipitation\",\n",
    "\"BioClim_13\": \"PrecipitationofWettestMonth\",\n",
    "\"BioClim_14\": \"PrecipitationofDriestMonth\",\n",
    "\"BioClim_15\": \"PrecipitationSeasonality\",\n",
    "\"BioClim_16\": \"PrecipitationofWettestQuarter\",\n",
    "\"BioClim_17\": \"PrecipitationofDriestQuarter\",\n",
    "\"BioClim_18\": \"PrecipitationofWarmestQuarter\",\n",
    "\"BioClim_19\": \"PrecipitationofColdestQuarter\",\n",
    "\"species_richness\": \"species_richness\",\n",
    "\"EcoRegion_name\": \"EcoRegion_name\",\n",
    "\"biome\": \"biome\",\n",
    "\"area\": \"area\"}\n",
    "\n",
    "ecoregion_metadata_colnames_map = {\"BIO1\": \"AnnualMeanTemperature\",\n",
    "\"BIO2\": \"MeanDiurnalTempRange\",\n",
    "\"BIO3\": \"Isothermality\",\n",
    "\"BIO4\": \"TemperatureSeasonality\",\n",
    "\"BIO5\": \"MaxTemperatureofWarmestMonth\",\n",
    "\"BIO6\": \"MinTemperatureofColdestMonth\",\n",
    "\"BIO7\": \"TemperatureAnnualRange\",\n",
    "\"BIO8\": \"MeanTemperatureofWettestQuarter\",\n",
    "\"BIO9\": \"MeanTemperatureofDriestQuarter\",\n",
    "\"BIO10\": \"MeanTemperatureofWarmestQuarter\",\n",
    "\"BIO11\": \"MeanTemperatureofColdestQuarter\",\n",
    "\"BIO12\": \"AnnualPrecipitation\",\n",
    "\"BIO13\": \"PrecipitationofWettestMonth\",\n",
    "\"BIO14\": \"PrecipitationofDriestMonth\",\n",
    "\"BIO15\": \"PrecipitationSeasonality\",\n",
    "\"BIO16\": \"PrecipitationofWettestQuarter\",\n",
    "\"BIO17\": \"PrecipitationofDriestQuarter\",\n",
    "\"BIO18\": \"PrecipitationofWarmestQuarter\",\n",
    "\"BIO19\": \"PrecipitationofColdestQuarter\",\n",
    "\"Paleo1\": \"AnnualMeanTemperatureatLGM\",\n",
    "\"Paleo2\": \"MeanDiurnalTempRangeatLGM\",\n",
    "\"Paleo3\": \"IsothermalityatLGM\",\n",
    "\"Paleo4\": \"TemperatureSeasonalityatLGM\",\n",
    "\"Paleo5\": \"MaxTemperatureofWarmestMonthatLGM\",\n",
    "\"Paleo6\": \"MinTemperatureofColdestMonthatLGM\",\n",
    "\"Paleo7\": \"TemperatureAnnualRangeatLGM\",\n",
    "\"Paleo8\": \"MeanTemperatureofWettestQuarteratLGM\",\n",
    "\"Paleo9\": \"MeanTemperatureofDriestQuarteratLGM\",\n",
    "\"Paleo10\": \"MeanTemperatureofWarmestQuarteratLGM\",\n",
    "\"Paleo11\": \"MeanTemperatureofColdestQuarteratLGM\",\n",
    "\"Paleo12\": \"AnnualPrecipitationatLGM\",\n",
    "\"Paleo13\": \"PrecipitationofWettestMonthatLGM\",\n",
    "\"Paleo14\": \"PrecipitationofDriestMonthatLGM\",\n",
    "\"Paleo15\": \"PrecipitationSeasonalityatLGM\",\n",
    "\"Paleo16\": \"PrecipitationofWettestQuarteratLGM\",\n",
    "\"Paleo17\": \"PrecipitationofDriestQuarteratLGM\",\n",
    "\"Paleo18\": \"PrecipitationofWarmestQuarteratLGM\",\n",
    "\"Paleo19\": \"PrecipitationofColdestQuarter\",\n",
    "\"Polyploid percent\": \"polyploid_percent\"}"
   ]
  },
  {
   "cell_type": "code",
   "execution_count": 112,
   "id": "b7c24234-6c62-4e51-bd9b-bbebe5bf057c",
   "metadata": {},
   "outputs": [],
   "source": [
    "networks_metadata = pd.read_csv(networks_metadata_path)"
   ]
  },
  {
   "cell_type": "markdown",
   "id": "159b3d2c-dac0-4a0f-93e6-ec25a2ffd110",
   "metadata": {
    "jp-MarkdownHeadingCollapsed": true,
    "tags": []
   },
   "source": [
    "# parse time data"
   ]
  },
  {
   "cell_type": "code",
   "execution_count": 429,
   "id": "1ca9713b-8eb2-42d4-b0ca-b1970e1fcf67",
   "metadata": {},
   "outputs": [],
   "source": [
    "# compte year of collection based on the reference - NOT NECESSALRITY ACCURATE\n",
    "def get_ref_year(ref: str) -> int:\n",
    "    if pd.isna(ref) or \"10.1111/oik.07303\" in ref:\n",
    "        return np.nan\n",
    "    year_matches = list(set([int(m) for m in re.findall(\"\\d{4}\", ref) if int(m) > 1900 and int(m) < 2023])) # assumption: there are no studies before 1900\n",
    "    if len(year_matches) == 0:\n",
    "        return np.nan\n",
    "    elif len(year_matches) == 1:\n",
    "        return year_matches[0]\n",
    "    # print(f\"multiple matches for {ref} = {year_matches}\")\n",
    "    return min(year_matches)\n",
    "        \n",
    "networks_metadata.loc[networks_metadata.reference_year.isna(), \"reference_year\"] = networks_metadata.reference.apply(get_ref_year)"
   ]
  },
  {
   "cell_type": "markdown",
   "id": "7b6ef1e4-5755-4da4-b8a2-329fc1249448",
   "metadata": {
    "jp-MarkdownHeadingCollapsed": true,
    "tags": []
   },
   "source": [
    "# check for duplicated networks"
   ]
  },
  {
   "cell_type": "code",
   "execution_count": 467,
   "id": "319b48a3-ffc0-41dc-9ef9-05597264dece",
   "metadata": {},
   "outputs": [
    {
     "name": "stdout",
     "output_type": "stream",
     "text": [
      "are there any weighted duplicated networks = False\n",
      "are there any binary duplicated networks = False\n"
     ]
    }
   ],
   "source": [
    "def get_duplicated_networks(network_type: str, network_ids: list):\n",
    "    duplicated_network_ids = []\n",
    "    if len(network_ids) <= 1 or type(network_ids) != list:\n",
    "        return duplicated_network_ids\n",
    "    networks_id_to_path = networks_metadata.loc[(networks_metadata.network_type == network_type) & (networks_metadata.network_index.isin(network_ids))].set_index(\"network_index\").processed_path.to_dict()\n",
    "    network_id_to_content = {}\n",
    "    for network_id in networks_id_to_path:\n",
    "        net = pd.read_csv(networks_id_to_path[network_id])\n",
    "        plants = set(net.Plant)\n",
    "        pollinators = set(net.columns)-{\"Plant\"}\n",
    "        network_id_to_content[network_id] = {\"plants\":plants, \"pollinators\":pollinators}\n",
    "    for i in range(len(network_ids)):\n",
    "        for j in range(i, len(network_ids)):\n",
    "            n1, n2 = network_ids[i], network_ids[j] \n",
    "            if network_id_to_content[n1][\"plants\"] == network_id_to_content[n2][\"plants\"] and network_id_to_content[n1][\"pollinators\"] == network_id_to_content[n2][\"pollinators\"]:\n",
    "                duplicated_network_ids.append((n1, n2))\n",
    "    return duplicated_network_ids\n",
    "\n",
    "# detect potentially duplicated networks by size\n",
    "w_dup_candidates = networks_metadata.loc[(~networks_metadata.mangal_duplicate_from_another_db) & (networks_metadata.network_type == \"weighted\")].groupby([\"num_plants\", \"num_pollinators\"]).network_index.apply(lambda network_ids: get_duplicated_networks(network_type=\"weighted\", network_ids=network_ids)).reset_index()\n",
    "w_dup_candidates[\"has_dups\"] = w_dup_candidates.network_index.apply(lambda n: len(n) > 0)\n",
    "print(f\"are there any weighted duplicated networks = {np.any(w_dup_candidates.has_dups)}\")\n",
    "\n",
    "b_dup_candidates = networks_metadata.loc[(~networks_metadata.mangal_duplicate_from_another_db) & (networks_metadata.network_type == \"binary\")].groupby([\"num_plants\", \"num_pollinators\"]).network_index.apply(lambda network_ids: get_duplicated_networks(network_type=\"binary\", network_ids=network_ids)).reset_index()\n",
    "b_dup_candidates[\"has_dups\"] = b_dup_candidates.network_index.apply(lambda n: len(n) > 0)\n",
    "print(f\"are there any binary duplicated networks = {np.any(b_dup_candidates.has_dups)}\")"
   ]
  },
  {
   "cell_type": "markdown",
   "id": "c0a64eb3-589a-49c5-a765-73abbb4647c6",
   "metadata": {
    "tags": []
   },
   "source": [
    "# parse existing data"
   ]
  },
  {
   "cell_type": "code",
   "execution_count": 63,
   "id": "44a85654-3c4b-4d98-97bf-c300dc0f2d4a",
   "metadata": {},
   "outputs": [],
   "source": [
    "drop = [c for c in networks_metadata.columns if \"Unnamed\" in c or c.startswith(\"geom\") or c.startswith(\"X\")]\n",
    "networks_metadata = networks_metadata[[c for c in networks_metadata.columns if c not in drop and not \"Unnamed\" in c]]\n",
    "\n",
    "raw_geodata = pd.read_csv(parsed_geodata_path).drop([\"EcoRegion_name.y\"], axis=1).rename(columns={\"EcoRegion_name.x\": \"EcoRegion_name\"}).rename(columns=varnames)\n",
    "area_biome_score = (raw_geodata.groupby([\"Obs_ID\", \"area\", \"biome\"])[[\"area\", \"biome\"]].size() / raw_geodata.groupby([\"Obs_ID\"])[\"area\"].count())\n",
    "raw_geodata[\"area_biome_score\"] = raw_geodata.apply(lambda rec: area_biome_score.loc[(rec.Obs_ID, rec.area, rec.biome)], axis=1)\n",
    "raw_geodata.sort_values(by=[\"area_biome_score\"], ascending=[False], inplace=True)\n",
    "raw_geodata.drop_duplicates(subset=list(set(raw_geodata.columns)-{\"area\", \"area_biome_score\", \"biome\", \"bio_source\", \"EcoRegion_name\"}), keep=\"first\", inplace=True)\n",
    "\n",
    "ecoregion_to_area = raw_geodata.set_index(\"EcoRegion\")[\"area\"].to_dict()\n",
    "ecoregion_to_biome = raw_geodata.set_index(\"EcoRegion\")[\"biome\"].to_dict()\n",
    "\n",
    "bioclim_data = pd.read_csv(bioclim_data_path).drop(['Unnamed: 0'], axis=1).rename(columns=varnames)\n",
    "raw_geodata = pd.concat([raw_geodata, bioclim_data.loc[~bioclim_data.Obs_ID.isin(raw_geodata.Obs_ID)]])\n",
    "all_rel_cols = set(raw_geodata.columns)-{\"Obs_ID\"}\n",
    "raw_geodata = raw_geodata.dropna(subset=list(all_rel_cols), how=\"all\")"
   ]
  },
  {
   "cell_type": "code",
   "execution_count": 64,
   "id": "323d2987-d839-4dbb-827c-fdc4fbb2e212",
   "metadata": {},
   "outputs": [],
   "source": [
    "networks_metadata.set_index(\"ID\", inplace=True)\n",
    "raw_geodata.set_index(\"Obs_ID\", inplace=True)\n",
    "networks_metadata.update(raw_geodata)\n",
    "networks_metadata.reset_index(inplace=True)\n",
    "raw_geodata.reset_index(inplace=True)"
   ]
  },
  {
   "cell_type": "code",
   "execution_count": 72,
   "id": "3cf32680-dbec-4153-8f23-714d8e7a2b12",
   "metadata": {},
   "outputs": [
    {
     "name": "stderr",
     "output_type": "stream",
     "text": [
      "/var/tmp/pbs.2128386.power9.tau.ac.il/ipykernel_151023/881550281.py:1: FutureWarning: Dropping of nuisance columns in DataFrame reductions (with 'numeric_only=None') is deprecated; in a future version this will raise TypeError.  Select only valid columns before calling the reduction.\n",
      "  raw_geodata.loc[raw_geodata.EcoRegion_name.str.lower().str.contains(\"valdivian\", na=False)].mean()\n"
     ]
    },
    {
     "data": {
      "text/plain": [
       "Obs_ID                               1266.473684\n",
       "AnnualMeanTemperature                   7.098685\n",
       "MeanDiurnalTempRange                   12.172551\n",
       "Isothermality                           2.209314\n",
       "TemperatureSeasonality               1247.789474\n",
       "MaxTemperatureofWarmestMonth          232.578947\n",
       "MinTemperatureofColdestMonth           36.578947\n",
       "TemperatureAnnualRange                 57.990111\n",
       "MeanTemperatureofWettestQuarter       570.736842\n",
       "MeanTemperatureofDriestQuarter        146.473684\n",
       "MeanTemperatureofWarmestQuarter       146.473684\n",
       "MeanTemperatureofColdestQuarter       536.789474\n",
       "AnnualPrecipitation                    10.507885\n",
       "PrecipitationofWettestMonth            49.663098\n",
       "PrecipitationofDriestMonth            404.907848\n",
       "PrecipitationSeasonality               19.227698\n",
       "PrecipitationofWettestQuarter          -1.951184\n",
       "PrecipitationofDriestQuarter           21.178882\n",
       "PrecipitationofWarmestQuarter           2.772807\n",
       "PrecipitationofColdestQuarter          12.172551\n",
       "biome                                   4.000000\n",
       "area                               226163.856365\n",
       "species_richness                      178.631579\n",
       "EcoRegion                           60404.000000\n",
       "area_biome_score                        0.666667\n",
       "dtype: float64"
      ]
     },
     "execution_count": 72,
     "metadata": {},
     "output_type": "execute_result"
    }
   ],
   "source": [
    "raw_geodata.loc[raw_geodata.EcoRegion_name.str.lower().str.contains(\"valdivian\", na=False)].mean()"
   ]
  },
  {
   "cell_type": "code",
   "execution_count": 65,
   "id": "244057b5-412c-4f5e-a770-f5675f38757c",
   "metadata": {},
   "outputs": [],
   "source": [
    "networks_metadata = networks_metadata.merge(raw_geodata[[\"Obs_ID\"] + list(all_rel_cols-set(networks_metadata.columns))], left_on=\"ID\", right_on=\"Obs_ID\", how=\"left\")\n",
    "networks_metadata = networks_metadata.drop([\"Obs_ID\"], axis=1)\n",
    "\n",
    "networks_metadata[\"area\"] = networks_metadata.apply(lambda rec: rec.area if pd.notna(rec.area) else ecoregion_to_area.get(rec.EcoRegion, np.nan), axis=1)\n",
    "networks_metadata[\"biome\"] = networks_metadata.apply(lambda rec: rec.biome if pd.notna(rec.biome) else ecoregion_to_biome.get(rec.EcoRegion, np.nan), axis=1)"
   ]
  },
  {
   "cell_type": "markdown",
   "id": "f2175890-8412-4722-a704-d3c794a302e6",
   "metadata": {},
   "source": [
    "### manually complement missing relevant geodata"
   ]
  },
  {
   "cell_type": "code",
   "execution_count": 84,
   "id": "d5ebec64-e71d-44d6-8756-e36f16701510",
   "metadata": {},
   "outputs": [],
   "source": [
    "raw_geodata_by_ecoregion = raw_geodata.drop([\"Obs_ID\"], axis=1).groupby(\"EcoRegion_name\").mean().reset_index()"
   ]
  },
  {
   "cell_type": "code",
   "execution_count": 98,
   "id": "83991a78-e27d-4340-a1d7-6dbc45fa7a34",
   "metadata": {},
   "outputs": [],
   "source": [
    "networks_metadata.loc[networks_metadata.path.str.contains(\"vazquez_and_simberloff_2002_Llao_Llao\"), \"EcoRegion_name\"] = \"Valdivian temperate forests\"\n",
    "networks_metadata.loc[networks_metadata.path.str.contains(\"vazquez_and_simberloff_2002_Cerro_Lopez\"), \"EcoRegion_name\"] = \"Valdivian temperate forests\"\n",
    "networks_metadata.loc[networks_metadata.path.str.contains(\"vazquez_and_simberloff_2002_Mascardi\"), \"EcoRegion_name\"] = \"Valdivian temperate forests\"\n",
    "networks_metadata.loc[networks_metadata.path.str.contains(\"1_Llao-Llao\"), \"EcoRegion_name\"] = \"Valdivian temperate forests\"\n",
    "networks_metadata.loc[networks_metadata.path.str.contains(\"vazquez_and_simberloff_2002_Quetrihue\"), \"EcoRegion_name\"] = \"Valdivian temperate forests\"\n",
    "networks_metadata.loc[networks_metadata.path.str.contains(\"mangal/weighted/952.csv\"), \"EcoRegion_name\"] = \"Alto Paraná Atlantic forests\"\n",
    "networks_metadata.loc[networks_metadata.path.str.contains(\"1_Challhuaco\"), \"EcoRegion_name\"] = \"Valdivian temperate forests\"\n",
    "networks_metadata.loc[networks_metadata.path.str.contains(\"1_CerroOtto\"), \"EcoRegion_name\"] = \"Valdivian temperate forests\"\n",
    "#\"vazquez_and_simberloff_2002_Safariland\" - couldn't find the ecoregion\n",
    "#\"vazquez_and_simberloff_2002_Arroyo_Goye\" - couldn't find the ecoregion\n",
    "for c in set(raw_geodata_by_ecoregion.columns)-{\"EcoRegion_name\"}:\n",
    "    d = raw_geodata_by_ecoregion.set_index(\"EcoRegion_name\")[c].to_dict()\n",
    "    networks_metadata.loc[(networks_metadata.EcoRegion_name.notna()) & (networks_metadata[c].isna()), c] = networks_metadata.EcoRegion_name.apply(lambda n: d.get(n, np.nan))"
   ]
  },
  {
   "cell_type": "code",
   "execution_count": 99,
   "id": "3cbce421-23b7-41ea-94d2-6010d86ada38",
   "metadata": {},
   "outputs": [
    {
     "data": {
      "text/plain": [
       "Longitude                          0.857232\n",
       "Latitude                           0.945376\n",
       "PrecipitationofWarmestQuarter      0.959032\n",
       "MaxTemperatureofWarmestMonth       0.959032\n",
       "AnnualPrecipitation                0.959032\n",
       "Isothermality                      0.959032\n",
       "MeanDiurnalTempRange               0.959032\n",
       "EcoRegion_name                     0.949100\n",
       "PrecipitationofDriestMonth         0.959032\n",
       "MeanTemperatureofColdestQuarter    0.959032\n",
       "PrecipitationofWettestQuarter      0.959032\n",
       "MeanTemperatureofWarmestQuarter    0.959032\n",
       "AnnualMeanTemperature              0.959032\n",
       "PrecipitationofWettestMonth        0.959032\n",
       "PrecipitationofDriestQuarter       0.959032\n",
       "MeanTemperatureofDriestQuarter     0.959032\n",
       "MinTemperatureofColdestMonth       0.959032\n",
       "PrecipitationofColdestQuarter      0.959032\n",
       "PrecipitationSeasonality           0.959032\n",
       "MeanTemperatureofWettestQuarter    0.959032\n",
       "TemperatureSeasonality             0.959032\n",
       "species_richness                   0.947238\n",
       "TemperatureAnnualRange             0.959032\n",
       "dtype: float64"
      ]
     },
     "execution_count": 99,
     "metadata": {},
     "output_type": "execute_result"
    }
   ],
   "source": [
    "networks_metadata[[\"Longitude\", \"Latitude\"]+list(set(varnames.values())-{\"area\", \"biome\"})].notna().sum() / networks_metadata.shape[0]"
   ]
  },
  {
   "cell_type": "code",
   "execution_count": 64,
   "id": "ece69196-3651-4f6e-abcf-345a751fdf68",
   "metadata": {},
   "outputs": [],
   "source": [
    "networks_metadata[\"coord\"] = networks_metadata.apply(lambda rec: f\"({np.round(rec.Longitude,3)},{np.round(rec.Latitude,3)})\", axis=1)\n",
    "coord_to_loc = networks_metadata.dropna(subset=[\"coord\", \"location\"]).set_index(\"coord\")[\"location\"].to_dict()\n",
    "networks_metadata.location = networks_metadata.apply(lambda rec: rec.location if pd.notna(rec.location) else coord_to_loc.get(rec.coord, np.nan), axis=1)\n",
    "networks_metadata = networks_metadata.drop([\"coord\"], axis=1)"
   ]
  },
  {
   "cell_type": "code",
   "execution_count": 70,
   "id": "bc448fab-3b3a-4ab6-98ad-f3d27f18d95f",
   "metadata": {},
   "outputs": [
    {
     "name": "stdout",
     "output_type": "stream",
     "text": [
      "# netwokrs with no location = 942\n",
      "# coordinates with no ecoregions but available location = 182\n",
      "# coordinates with no ecoregions = 17\n"
     ]
    }
   ],
   "source": [
    "print(f\"# netwokrs with no location = {networks_metadata.query('Longitude.isna() and Latitude.isna()').shape[0]:,}\")\n",
    "missing_ecoregions_data = networks_metadata.query(\"EcoRegion_name.isna() and Longitude.notna()\")[[\"Longitude\", \"Latitude\", \"location\", \"EcoRegion_name\"]]\n",
    "print(f\"# coordinates with no ecoregions but available location = {missing_ecoregions_data.shape[0]:,}\")\n",
    "missing_ecoregions_data = missing_ecoregions_data.drop_duplicates()\n",
    "print(f\"# coordinates with no ecoregions = {missing_ecoregions_data.shape[0]:,}\")"
   ]
  },
  {
   "cell_type": "code",
   "execution_count": 100,
   "id": "83b85215-c770-475b-8581-9880d25a54c7",
   "metadata": {},
   "outputs": [],
   "source": [
    "networks_metadata.to_csv(networks_metadata_path, index=False)"
   ]
  },
  {
   "cell_type": "markdown",
   "id": "2368e0a9-c9ac-4cb2-94c4-a8eb415099bf",
   "metadata": {
    "tags": []
   },
   "source": [
    "## manually completement the ecoregions of samples with missing ecoregion and available coordinates"
   ]
  },
  {
   "cell_type": "code",
   "execution_count": 190,
   "id": "1b19f592-49a0-4437-8b70-4d41e1926056",
   "metadata": {},
   "outputs": [],
   "source": [
    "# manual coplementation\n",
    "networks_metadata = pd.read_csv(networks_metadata_path)\n",
    "networks_metadata.loc[(networks_metadata.Longitude >= 124) & (networks_metadata.Longitude <= 125) & (networks_metadata.Latitude >= 1) & (networks_metadata.Latitude <= 2), \"location\"] = \"Desa/Dusun/Kelurahan Bunaken Kepulauan, Manado, Sulawesi Utara 95231, Bunaken Kepulauan Manado Indonesia\""
   ]
  },
  {
   "cell_type": "code",
   "execution_count": 192,
   "id": "3b960773-e521-4367-b19d-36cf1e18ba85",
   "metadata": {},
   "outputs": [],
   "source": [
    "# manual cxomplementation\n",
    "location_to_ecoregion = {\"Desa/Dusun/Kelurahan Bunaken Kepulauan, Manado, Sulawesi Utara 95231, Bunaken Kepulauan Manado Indonesia\": \"Wallacea\",\n",
    "                        \"Morne Seychellois National Park, Mahé\": \"Seychelles moist forests\",\n",
    "                        \"Black River Gorges National Park, Mauritius\": \"Madagascar and Indian Ocean Islands forests\",\n",
    "                        \"Denmark\": \"North Atlantic moist mixed forests\",\n",
    "                        \"Galapagos\": \"Galapagos Islands xeric scrub\"}\n",
    "networks_metadata.EcoRegion_name = networks_metadata.apply(lambda rec: rec.EcoRegion_name if pd.notna(rec.EcoRegion_name) else location_to_ecoregion.get(rec.location, np.nan), axis=1)"
   ]
  },
  {
   "cell_type": "code",
   "execution_count": 7,
   "id": "fdbad785-f701-4c2c-b1f0-aba37fb740ba",
   "metadata": {},
   "outputs": [],
   "source": [
    "networks_metadata.loc[436, \"location\"] = \"The western-most island of the Azores\"\n",
    "networks_metadata.loc[436, \"EcoRegion_name\"] = \"Macaronesia forests\"\n",
    "networks_metadata.loc[1485, \"location\"] = \"The western-most island of the Azores\"\n",
    "networks_metadata.loc[1485, \"EcoRegion_name\"] = \"Macaronesia forests\""
   ]
  },
  {
   "cell_type": "code",
   "execution_count": 45,
   "id": "42fb61a4-0be7-4b71-989e-b1b33a74b650",
   "metadata": {},
   "outputs": [],
   "source": [
    "networks_metadata.loc[networks_metadata.location == 'Black River Gorges National Park, Mauritius', 'EcoRegion'] = 30120\n",
    "networks_metadata.loc[networks_metadata.location == 'Black River Gorges National Park, Mauritius', 'EcoRegion_name'] = 'Mascarene forests'\n",
    "networks_metadata.loc[networks_metadata.EcoRegion_name == \"North Atlantic moist mixed forests\", 'EcoRegion'] = 80429\n",
    "networks_metadata.loc[networks_metadata.EcoRegion_name == 'Arctic tundra', 'EcoRegion'] = 51114"
   ]
  },
  {
   "cell_type": "code",
   "execution_count": 75,
   "id": "abfbdbed-d95f-4d86-9546-a3d6403550ce",
   "metadata": {},
   "outputs": [],
   "source": [
    "networks_metadata.set_index([\"Longitude\",\"Latitude\"], inplace=True)\n",
    "missing_ecoregions_data.set_index([\"Longitude\",\"Latitude\"], inplace=True)\n",
    "networks_metadata.fillna(missing_ecoregions_data.reindex(networks_metadata.index), inplace=True)\n",
    "networks_metadata.reset_index(inplace=True)"
   ]
  },
  {
   "cell_type": "code",
   "execution_count": 79,
   "id": "eecb92ec-7152-440e-a442-854ccd83658a",
   "metadata": {},
   "outputs": [
    {
     "name": "stdout",
     "output_type": "stream",
     "text": [
      "# netwokrs with no location = 942\n",
      "# coordinates with no ecoregions = 959\n"
     ]
    }
   ],
   "source": [
    "print(f\"# networks with no location = {networks_metadata.query('Longitude.isna() and Latitude.isna()').shape[0]:,}\")\n",
    "print(f\"# coordinates with no ecoregions = {networks_metadata.query('EcoRegion_name.isna()').shape[0]:,}\")"
   ]
  },
  {
   "cell_type": "code",
   "execution_count": 56,
   "id": "a083b86f-e321-4b2e-811e-a935e5ae1f2f",
   "metadata": {},
   "outputs": [
    {
     "data": {
      "text/plain": [
       "Longitude                                                     0.506289\n",
       "Latitude                                                      0.506289\n",
       "EcoRegion                                                     0.500000\n",
       "Annual Mean Temperature                                       0.493711\n",
       "Mean Diurnal Range (Mean of monthly (max temp - min temp))    0.493711\n",
       "Isothermality (BioClim_2/BioClim_7) (×100)                    0.493711\n",
       "Temperature Seasonality (standard deviation ×100)             0.493711\n",
       "Max Temperature of Warmest Month                              0.493711\n",
       "Min Temperature of Coldest Month                              0.493711\n",
       "Temperature Annual Range (BioClim_5-BioClim_6)                0.493711\n",
       "Mean Temperature of Wettest Quarter                           0.493711\n",
       "Mean Temperature of Driest Quarter                            0.493711\n",
       "Mean Temperature of Warmest Quarter                           0.493711\n",
       "Mean Temperature of Coldest Quarter                           0.493711\n",
       "Annual Precipitation                                          0.493711\n",
       "Precipitation of Wettest Month                                0.493711\n",
       "Precipitation of Driest Month                                 0.493711\n",
       "Precipitation Seasonality (Coefficient of Variation)          0.493711\n",
       "Precipitation of Wettest Quarter                              0.493711\n",
       "Precipitation of Driest Quarter                               0.493711\n",
       "Precipitation of Warmest Quarter                              0.493711\n",
       "Precipitation of Coldest Quarter                              0.493711\n",
       "species_richness                                              0.390461\n",
       "EcoRegion_name                                                0.506289\n",
       "dtype: float64"
      ]
     },
     "execution_count": 56,
     "metadata": {},
     "output_type": "execute_result"
    }
   ],
   "source": [
    "networks_metadata[[\"Longitude\", \"Latitude\", \"EcoRegion\"]+list(varnames.values())].notna().sum() / networks_metadata.shape[0]"
   ]
  },
  {
   "cell_type": "markdown",
   "id": "545c975c-c180-49d1-b6db-8ddbd9a53523",
   "metadata": {
    "jp-MarkdownHeadingCollapsed": true,
    "tags": []
   },
   "source": [
    "## unite parsed data to all networks metadata"
   ]
  },
  {
   "cell_type": "code",
   "execution_count": null,
   "id": "9a3118bc-747d-4c14-9ec7-1071dc623a3a",
   "metadata": {},
   "outputs": [],
   "source": [
    "networks_metadata = pd.read_csv(networks_metadata_path)\n",
    "mangal_metadata = pd.read_csv(parsed_rmangal_metadata_path)"
   ]
  },
  {
   "cell_type": "code",
   "execution_count": null,
   "id": "f5516124-9a81-4eaa-934c-8e4a2fd23ca5",
   "metadata": {},
   "outputs": [],
   "source": [
    "mangal_networks_metadata = networks_metadata.query(\"source == 'mangal'\").merge(mangal_metadata, on=\"network_index\", how=\"left\")"
   ]
  },
  {
   "cell_type": "code",
   "execution_count": null,
   "id": "1fc12650-6b5d-4694-a8f9-c0f4c8c2315c",
   "metadata": {},
   "outputs": [],
   "source": [
    "mangal_networks_metadata = mangal_networks_metadata[[c for c in mangal_networks_metadata.columns if \"Unnamed\" not in c]]"
   ]
  },
  {
   "cell_type": "code",
   "execution_count": null,
   "id": "1905daef-ac0c-4f32-9125-286629938445",
   "metadata": {},
   "outputs": [],
   "source": [
    "for c in set(mangal_networks_metadata.columns)-set(networks_metadata.columns):\n",
    "    networks_metadata[c] = np.nan\n",
    "\n",
    "networks_metadata.set_index([\"network_type\", \"network_index\"], inplace=True)\n",
    "mangal_networks_metadata.set_index([\"network_type\", \"network_index\"], inplace=True)\n",
    "networks_metadata.update(mangal_networks_metadata)\n",
    "networks_metadata = networks_metadata[[c for c in networks_metadata.columns if \"Unnamed\" not in c]]\n",
    "networks_metadata.reset_index(inplace=True)"
   ]
  },
  {
   "cell_type": "code",
   "execution_count": null,
   "id": "a875f19a-9c15-4726-a1a4-89821c30c93f",
   "metadata": {},
   "outputs": [],
   "source": [
    "networks_metadata.to_csv(networks_metadata_path)"
   ]
  },
  {
   "cell_type": "code",
   "execution_count": 4,
   "id": "dbb33a68-7b7f-4275-83f6-f66934c27cc9",
   "metadata": {},
   "outputs": [],
   "source": [
    "networks_metadata_to_complement = pd.read_csv(\"/groups/itay_mayrose/halabikeren/continue_tomorrow.csv\")"
   ]
  },
  {
   "cell_type": "code",
   "execution_count": 5,
   "id": "8da035b1-a000-4bf0-88df-8318c7c6d07b",
   "metadata": {},
   "outputs": [],
   "source": [
    "networks_metadata.set_index([\"network_type\", \"network_index\"], inplace=True)\n",
    "networks_metadata_to_complement.set_index([\"network_type\", \"network_index\"], inplace=True)\n",
    "networks_metadata.update(networks_metadata_to_complement)\n",
    "networks_metadata.reset_index(inplace=True)"
   ]
  },
  {
   "cell_type": "code",
   "execution_count": 10,
   "id": "a3bd503f-d7c8-4cc0-8d60-a3633e2d6fc5",
   "metadata": {},
   "outputs": [
    {
     "name": "stdout",
     "output_type": "stream",
     "text": [
      "locations with no mapping to ecoregion or longitude / latitude = 3\n"
     ]
    }
   ],
   "source": [
    "missing_locations = networks_metadata.query(\"location.notna() and Latitude.isna()\").location.dropna().unique().tolist()\n",
    "print(f\"locations with no mapping to ecoregion or longitude / latitude = {len(missing_locations):,}\")"
   ]
  },
  {
   "cell_type": "code",
   "execution_count": 34,
   "id": "74218b14-6077-45b5-985f-17131204b907",
   "metadata": {},
   "outputs": [],
   "source": [
    "location_to_ecoregion = {'dolomite Ozark glades in Missouri, USA': \"Central U.S. Interior Highlands\",\n",
    "                         'southern Germany within a radius of 50 km around the city of WÃ¼rzburg': \"Central European Mixed Forests\",\n",
    "                         'Germany located in the Schorfheide-Chorin (Sch), Hainich-DÃ¼n (Hai), and SchwÃ¤bische Alb (Alb)': \"Central European Mixed Forests\",\n",
    "                         'woodlands in Carlinville, Illinois': \"Central USA Plains and Prairies\",\n",
    "                         'Gallatin National Forest, Montana, USA (45Â°142N, 110Â°332W) in the Thompson Creek (6979 acres burned in 1991) and Wicked Creek (22,195 acres burned in 2007) wildfires': \"Northern Rockies\",\n",
    "                         'alpine tundra of the Beartooth Plateau located in the Custer and Shoshone National Forests of Carbon County, Montana and Park County, Wyoming, centered approximately at 45Â°002 N 109Â°252 W': \"Rocky Mountain Subalpine Zone\",\n",
    "                         'Tyson Research Center (38.524718N, \\x12 90.562494W), an 800-ha field station of Washington University of St. Louis that is located 40 km southwest from St. Louis, Missouri, USA': \"Eastern Temperate Forests\",\n",
    "                         'Nothofagus dombeyi forest in and around Nahuel Huapi National Park, Argentina.': \"Valdivian Rainforest\"}\n",
    "networks_metadata.loc[networks_metadata.EcoRegion_name.isna(), \"EcoRegion_name\"] = networks_metadata.location.apply(lambda loc: location_to_ecoregion.get(loc, np.nan))\n",
    "\n",
    "doi_to_ecoregion = {\"10.1111/ele.12821\": \"Central Valley\", \n",
    "                    \"10.1371/journal.pbio.0060031\": \"Valdivian Rainforest\"}\n",
    "\n",
    "networks_metadata.loc[networks_metadata.EcoRegion_name.isna(), \"EcoRegion_name\"] = networks_metadata.doi.apply(lambda doi: doi_to_ecoregion.get(doi, np.nan))"
   ]
  },
  {
   "cell_type": "code",
   "execution_count": 71,
   "id": "e9513fd7-56b7-43c3-a377-4c34e6b269b7",
   "metadata": {},
   "outputs": [],
   "source": [
    "networks_metadata.to_csv(networks_metadata_path, index=False)"
   ]
  },
  {
   "cell_type": "code",
   "execution_count": 71,
   "id": "ac8d5de6-670d-488e-85c3-15db07ba256a",
   "metadata": {},
   "outputs": [],
   "source": [
    "geolocator = Nominatim(user_agent=\"keren\", timeout=5)\n",
    "\n",
    "def get_coordinates(location: str)->list:\n",
    "    location_coord = geolocator.geocode(location)\n",
    "    sleep(2)\n",
    "    if location_coord:\n",
    "        return (location_coord.longitude, location_coord.latitude)   \n",
    "    return (np.nan, np.nan)\n",
    "\n",
    "\n",
    "sites = networks_metadata_to_complement.query(\"Latitude.isna()\").site.dropna().unique().tolist()\n",
    "print(f\"# sites = {len(sites):,}\")\n",
    "site_to_coord = {site: get_coordinates(site) for site in sites}\n",
    "networks_metadata_to_complement[[\"Longitude\", \"Latitude\"]] = networks_metadata_to_complement.apply(lambda rec: site_to_coord.get(rec.site, (np.nan, np.nan)) if pd.notna(rec.site) else (np.nan, np.nan), axis=1, result_type=\"expand\")"
   ]
  },
  {
   "cell_type": "code",
   "execution_count": 140,
   "id": "971966cb-4a47-40ae-ad2e-e820ae9370d4",
   "metadata": {},
   "outputs": [],
   "source": [
    "network_indices_map_path = \"../../data/networks/metadata/OIK_07303_network_indices.csv\"\n",
    "\n",
    "def get_network(df: pd.DataFrame) -> pd.DataFrame:\n",
    "    network = df.pivot_table(index='lower', columns='higher', values='freq', aggfunc='sum').fillna(0).reset_index().rename(columns={\"lower\": \"Plant\"}).set_index(\"Plant\")\n",
    "    return network\n",
    "   \n",
    "\n",
    "def get_net_index(rec: pd.Series) -> int:\n",
    "    match = networks_metadata_to_complement.loc[networks_metadata_to_complement.network_name.str.startswith(f\"{rec.study}_{rec.allSites}_{rec.sSite}\"), \"i\"]\n",
    "    if len(match) == 0:\n",
    "        return np.nan\n",
    "    return match.values[0]\n",
    "        \n",
    "    \n",
    "if \"net_oik_index\" not in set(complementary_networks_geodata.columns) and not os.path.exists(network_indices_map_path):\n",
    "\n",
    "    if not os.path.exists(network_indices_map_path):\n",
    "        my_networks = {row.i: pd.read_csv(row.processed_path) for _, row in networks_metadata_to_complement.iterrows()}\n",
    "        oik_networks_data = pd.read_csv(oik_db_path, encoding='latin-1').groupby([\"study\", \"allSites\", \"sSite\"])\n",
    "        oik_networks = {n: get_network(oik_networks_data.get_group(n)) for n in oik_networks_data.groups.keys()}\n",
    "\n",
    "        oik_net_name_to_i = {}\n",
    "        for oik_net_name in oik_networks:\n",
    "            oik_net = oik_networks[oik_net_name]\n",
    "            for i in my_networks:\n",
    "                net = my_networks[i].set_index(\"Plant\")\n",
    "                if set(oik_net.columns) == set(net.columns) and set(oik_net.index) == set(net.index):\n",
    "                    oik_net_name_to_i[oik_net_name] = i\n",
    "\n",
    "        oik_db = pd.read_csv(oik_db_path, encoding='latin-1')[[\"study\", \"allSites\", \"sSite\"]].drop_duplicates()\n",
    "        oik_db[\"net_oik_index\"] = oik_db.apply(get_net_index, axis=1)\n",
    "        oik_db.loc[oik_db.net_oik_index.isna(), \"net_oik_index\"] = oik_db.apply(lambda rec: oik_net_name_to_i.get((rec.study, rec.allSites, rec.sSite), np.nan), axis=1)\n",
    "        oik_db = oik_db.dropna(subset=[\"net_oik_index\"])\n",
    "        oik_db.net_oik_index = oik_db.net_oik_index.astype(int)\n",
    "        oik_db.to_csv(\"../../data/networks/metadata/OIK_07303_network_indices.csv\")\n",
    "    else:\n",
    "        oik_db = pd.read_csv(\"../../data/networks/metadata/OIK_07303_network_indices.csv\")\n",
    "    \n",
    "    if \"net_oik_index\" not in set(complementary_networks_geodata.columns):\n",
    "        complementary_networks_geodata = pd.read_csv(complementary_location_data_path, encoding='latin-1')\n",
    "        complementary_networks_geodata = complementary_networks_geodata.merge(oik_db, on=[\"study\", \"sSite\"], how=\"outer\")\n",
    "        complementary_networks_geodata.to_csv(complementary_location_data_path, index=False)\n",
    "    "
   ]
  },
  {
   "cell_type": "code",
   "execution_count": 229,
   "id": "3dfe35c3-ad22-4d57-9a77-90ed9cc89660",
   "metadata": {},
   "outputs": [],
   "source": [
    "complementary_networks_geodata = complementary_networks_geodata.dropna(subset=[\"net_oik_index\"])\n",
    "complementary_networks_geodata[\"network_name\"] = complementary_networks_geodata.study + \"_\" + complementary_networks_geodata.allSites + \"_\" + complementary_networks_geodata.sSite + \"_\" + complementary_networks_geodata.net_oik_index.astype(int).astype(str)\n",
    "complementary_networks_geodata[\"in_db\"] = complementary_networks_geodata.network_name.apply(lambda x: x in set(networks_metadata_to_complement.network_name))\n",
    "complementary_networks_geodata.loc[complementary_networks_geodata.in_db == False, \"network_name\"] = complementary_networks_geodata.net_oik_index.astype(int)\n",
    "complementary_networks_geodata.to_csv(complementary_location_data_path, index=False)"
   ]
  },
  {
   "cell_type": "code",
   "execution_count": 238,
   "id": "4d0ebec6-ff29-45f9-9f98-c1f6691b5dd4",
   "metadata": {},
   "outputs": [],
   "source": [
    "net_name_to_ssite = complementary_networks_geodata.set_index(\"network_name\")[\"sSite\"].to_dict()\n",
    "net_name_to_loc = complementary_networks_geodata.set_index(\"network_name\")[\"location\"].to_dict()\n",
    "networks_metadata_to_complement.location = networks_metadata_to_complement.network_name.apply(lambda x: net_name_to_loc.get(x, np.nan))\n",
    "networks_metadata_to_complement[\"site\"] = networks_metadata_to_complement.network_name.apply(lambda x: net_name_to_ssite.get(x, np.nan))"
   ]
  },
  {
   "cell_type": "markdown",
   "id": "5366e54e-675c-4951-b53c-b237b88130f8",
   "metadata": {
    "jp-MarkdownHeadingCollapsed": true,
    "tags": []
   },
   "source": [
    "# parse complementary data from Doi 10.1111/oik.07303"
   ]
  },
  {
   "cell_type": "code",
   "execution_count": 79,
   "id": "332dd649-90b8-4eaa-bd8f-84ee5f850c8b",
   "metadata": {},
   "outputs": [],
   "source": [
    "if not os.path.exists(loc_to_ecoregion_for_complementing_path):\n",
    "    cols_translator = {\"Data reference (DOI or URL)\": \"reference\", \"Country\": \"location\", \"approx.Latitude.of.study\": \"Latitude\", \"approx.Longitude.of.study\": \"Longitude\"}\n",
    "    oik_db = pd.read_csv(oik_db_path, encoding=\"latin1\")[[\"study\",\"cdate\",\"sSite\",\"allSites\"]].drop_duplicates()\n",
    "    oik_loc = pd.read_excel(oik_loc_path)\n",
    "    oik_db = oik_db.merge(oik_loc, left_on=\"study\", right_on=\"Study\", how=\"left\")\n",
    "    oik_indices = pd.read_csv(oik_indices_path)\n",
    "    oik_db = oik_db.merge(oik_indices, on=[\"study\",\"allSites\",\"sSite\"], how=\"left\").drop([\"cdate\"], axis=1).drop_duplicates()\n",
    "    oik_db = oik_db.rename(columns=cols_translator)\n",
    "\n",
    "    networks_metadata[\"net_oik_index\"] =  networks_metadata.apply(lambda rec: np.nan if rec.doi != \"10.1111/oik.07303\" else int(rec.path.split(\"_\")[-1].replace(\".csv\",\"\")), axis=1)\n",
    "    for c in cols_translator:\n",
    "        c = cols_translator[c]\n",
    "        d = oik_db.set_index(\"net_oik_index\")[c].to_dict()\n",
    "        networks_metadata[c] = networks_metadata.apply(lambda rec: rec[c] if pd.notna(rec[c]) else d.get(rec.net_oik_index, np.nan), axis=1)\n",
    "    networks_metadata = networks_metadata.drop_duplicates([\"network_type\", \"network_index\"])\n",
    "    \n",
    "    df_for_mapping_loc_to_ecoregion = networks_metadata.loc[networks_metadata.Longitude.notna() & networks_metadata.Latitude.notna() & networks_metadata.EcoRegion_name.isna()]\n",
    "    df_for_mapping_loc_to_ecoregion.to_csv(loc_to_ecoregion_for_mapping_path, index=False)"
   ]
  },
  {
   "cell_type": "code",
   "execution_count": 131,
   "id": "0927ad06-337a-4d7d-a648-a1bf83718748",
   "metadata": {},
   "outputs": [],
   "source": [
    "df_for_complementing_loc_to_ecoregion = pd.read_csv(loc_to_ecoregion_for_complementing_path)\n",
    "comp = df_for_mapping_loc_to_ecoregion.drop([\"EcoRegion\", \"EcoRegion_name\"], axis=1).merge(df_for_complementing_loc_to_ecoregion, left_on=\"ID\", right_on=\"Obs_ID\", how=\"left\")\n",
    "comp.set_index([\"network_type\", \"network_index\"], inplace=True)\n",
    "networks_metadata.set_index([\"network_type\", \"network_index\"], inplace=True)\n",
    "joint_cols =  set(networks_metadata.columns)&set(comp.columns)\n",
    "for c in joint_cols:\n",
    "    networks_metadata[c].fillna(value=comp.dropna(subset=[c])[c].to_dict(), inplace=True)\n",
    "networks_metadata.reset_index(inplace=True)"
   ]
  },
  {
   "cell_type": "code",
   "execution_count": 133,
   "id": "1ed5c4e1-2349-4ead-8023-996e134a27f1",
   "metadata": {},
   "outputs": [
    {
     "data": {
      "text/plain": [
       "EcoRegion         1133\n",
       "EcoRegion_name    1465\n",
       "Longitude         1321\n",
       "Latitude          1465\n",
       "dtype: int64"
      ]
     },
     "execution_count": 133,
     "metadata": {},
     "output_type": "execute_result"
    }
   ],
   "source": [
    "networks_metadata[[\"EcoRegion\", \"EcoRegion_name\", \"Longitude\", \"Latitude\"]].notna().sum()"
   ]
  },
  {
   "cell_type": "code",
   "execution_count": 134,
   "id": "a12a497d-4edb-4bc8-b339-2665d5e212a9",
   "metadata": {},
   "outputs": [],
   "source": [
    "networks_metadata.to_csv(networks_metadata_path, index=False)"
   ]
  },
  {
   "cell_type": "markdown",
   "id": "9ab64050-f921-4a95-aafb-e6c5cfe5c7a8",
   "metadata": {
    "jp-MarkdownHeadingCollapsed": true,
    "tags": []
   },
   "source": [
    "# report geo stats on networks included in the analysis only"
   ]
  },
  {
   "cell_type": "code",
   "execution_count": 135,
   "id": "bc9a4e48-bedb-4745-aad3-44ab005e0dd4",
   "metadata": {},
   "outputs": [],
   "source": [
    "networks_metadata = pd.read_csv(networks_metadata_path)\n",
    "networks_metadata = networks_metadata[[c for c in networks_metadata.columns if \"Unnmamed\" not in c]]\n",
    "\n",
    "max_missing_threshold = 0.5\n",
    "min_classified_threshold = 5\n",
    "min_poly_threhold = 2\n",
    "min_di_threshold = 2\n",
    "\n",
    "networks_metadata[\"included_in_analysis\"] = networks_metadata.apply(lambda rec: rec.is_polyploid_missing_frac <= max_missing_threshold and \n",
    "                                                                    rec.num_classified >= min_classified_threshold and \n",
    "                                                                    rec.num_polyploids >= min_poly_threhold and \n",
    "                                                                    rec.num_diploids >= min_di_threshold, axis=1)"
   ]
  },
  {
   "cell_type": "code",
   "execution_count": 136,
   "id": "a5f8b127-5e04-405e-b2e1-9f65d425fa8a",
   "metadata": {},
   "outputs": [
    {
     "name": "stdout",
     "output_type": "stream",
     "text": [
      "# networks included in the binary analysis = 305\n",
      "# networks included in the weighted analysis = 291\n"
     ]
    }
   ],
   "source": [
    "analyzed_networks_metadata = networks_metadata.query(\"included_in_analysis\")\n",
    "weighted_analyzed_networks_metadata = analyzed_networks_metadata.loc[analyzed_networks_metadata.network_type == 'weighted'] \n",
    "binary_analyzed_networks_metadata = analyzed_networks_metadata.loc[analyzed_networks_metadata.network_type != 'weighted']\n",
    "print(f\"# networks included in the binary analysis = {binary_analyzed_networks_metadata.shape[0]:,}\")\n",
    "print(f\"# networks included in the weighted analysis = {weighted_analyzed_networks_metadata.shape[0]:,}\")"
   ]
  },
  {
   "cell_type": "code",
   "execution_count": 137,
   "id": "3df80227-d88a-4ac6-8c5f-880ecc639b8e",
   "metadata": {},
   "outputs": [
    {
     "name": "stdout",
     "output_type": "stream",
     "text": [
      "# weighted networks with no location = 2\n",
      "# binary networks with no location = 2\n",
      "# coordinates with no ecoregions = 0\n"
     ]
    }
   ],
   "source": [
    "print(f\"# weighted networks with no location = {weighted_analyzed_networks_metadata.query('Longitude.isna() and Latitude.isna()').shape[0]:,}\")\n",
    "print(f\"# binary networks with no location = {binary_analyzed_networks_metadata.query('Longitude.isna() and Latitude.isna()').shape[0]:,}\")\n",
    "print(f\"# coordinates with no ecoregions = {binary_analyzed_networks_metadata.query('Longitude.notna() and EcoRegion_name.isna()').shape[0]:,}\")"
   ]
  },
  {
   "cell_type": "code",
   "execution_count": 138,
   "id": "6ab7185e-299a-4b01-afed-b53fd9564813",
   "metadata": {},
   "outputs": [
    {
     "data": {
      "text/plain": [
       "EcoRegion_name    0.903763\n",
       "EcoRegion         0.701419\n",
       "dtype: float64"
      ]
     },
     "execution_count": 138,
     "metadata": {},
     "output_type": "execute_result"
    }
   ],
   "source": [
    "networks_metadata.EcoRegion_name = networks_metadata.EcoRegion_name.str.lower()\n",
    "eco_name_to_id = networks_metadata.set_index(\"EcoRegion_name\")[\"EcoRegion\"].to_dict()\n",
    "networks_metadata.loc[networks_metadata.EcoRegion.isna(), \"EcoRegion\"] = networks_metadata.EcoRegion_name.apply(lambda x: eco_name_to_id.get(x, np.nan))\n",
    "networks_metadata[[\"EcoRegion_name\", \"EcoRegion\"]].notna().sum() /  networks_metadata.shape[0]  "
   ]
  },
  {
   "cell_type": "code",
   "execution_count": 139,
   "id": "7582e8e7-2b61-4c93-92be-dea94798ca83",
   "metadata": {},
   "outputs": [],
   "source": [
    "networks_metadata.to_csv(networks_metadata_path, index=False)"
   ]
  },
  {
   "cell_type": "code",
   "execution_count": 140,
   "id": "14af30f7-e2cb-46e0-84d1-430ff40901f6",
   "metadata": {},
   "outputs": [
    {
     "data": {
      "text/plain": [
       "array(['peninsular malaysian rain forests', 'macaronesia forests',\n",
       "       'north atlantic moist mixed forests',\n",
       "       'galapagos islands xeric scrub',\n",
       "       'central range montane rain forests', 'middle arctic tundra',\n",
       "       'central usa plains and prairies',\n",
       "       'central european mixed forests',\n",
       "       'northern rockies conifer forests',\n",
       "       'rocky mountain subalpine zone',\n",
       "       'eastern australian temperate forests',\n",
       "       'valdivian temperate forests'], dtype=object)"
      ]
     },
     "execution_count": 140,
     "metadata": {},
     "output_type": "execute_result"
    }
   ],
   "source": [
    "networks_metadata.loc[(networks_metadata.EcoRegion.isna()) & (networks_metadata.Longitude.notna())][[\"location\", \"EcoRegion_name\", \"EcoRegion\",  \"Longitude\", \"Latitude\"]].EcoRegion_name.dropna().unique()"
   ]
  },
  {
   "cell_type": "markdown",
   "id": "e829dc9a-a76c-4140-8485-92d3448426f0",
   "metadata": {},
   "source": [
    "# merge by ecoregion with networks metadata"
   ]
  },
  {
   "cell_type": "code",
   "execution_count": 10,
   "id": "71bc1622-ce54-4eec-8d04-e81a3118dd4b",
   "metadata": {},
   "outputs": [],
   "source": [
    "networks_metadata = pd.read_csv(networks_metadata_path)"
   ]
  },
  {
   "cell_type": "code",
   "execution_count": 16,
   "id": "512167d0-c65c-4472-9cdf-645136bc144c",
   "metadata": {},
   "outputs": [],
   "source": [
    "ecoregion_df = pd.read_csv(ecoregion_ids_map_path).drop_duplicates(\"eco_names\", keep=\"first\")\n",
    "ecoregion_df.eco_names = ecoregion_df.eco_names.str.lower() \n",
    "eco_id_to_name = ecoregion_df.set_index(\"eco_ids\")[\"eco_names\"].to_dict()\n",
    "eco_name_to_id = ecoregion_df.set_index(\"eco_names\")[\"eco_ids\"].to_dict()\n",
    "\n",
    "ecoregion_metadata_1 = pd.read_excel(ecoregion_metadata_path_1, header=6).rename(columns=ecoregion_metadata_colnames_map)\n",
    "ecoregion_metadata_1[\"ECO_NAME\"] = ecoregion_metadata_1['ECO ID'].apply(lambda n: eco_id_to_name.get(n, np.nan))\n",
    "ecoregion_metadata_1.set_index(\"ECO NAME\", inplace=True)\n",
    "\n",
    "ecoregion_metadata_2 = pd.read_excel(ecoregion_metadata_path_2, header=1)\n",
    "ecoregion_metadata_2[\"Ecoregion name\"] = ecoregion_metadata_2[\"Ecoregion name\"].str.lower() \n",
    "\n",
    "ecoregion_metadata_2.set_index(\"Ecoregion name\", inplace=True)"
   ]
  },
  {
   "cell_type": "code",
   "execution_count": 17,
   "id": "8b3ca39e-1081-4a94-97e8-1f1c40b1c95e",
   "metadata": {},
   "outputs": [],
   "source": [
    "ecoregionsd_net_name_to_format_name = {\"valdivian rainforest\": \"valdivian temperate forests\",\n",
    "                                       \"central valley\": \"california central valley grasslands\",\n",
    "                                       \"peninsular malaysian rain forests\": \"peninsular malaysian rain forests\",\n",
    "                                       \"north atlantic moist mixed forests\": \"north atlantic moist mixed forests\",\n",
    "                                         'central range montane rain forests': \"central range montane rain forests\",\n",
    "                                         'central range papuan montane rain forests': \"central range papuan montane rain forests\",\n",
    "                                         'arctic tundra': \"middle arctic tundra\",\n",
    "                                         'central u.s. interior highlands': \"central us forest-grasslands transition\",\n",
    "                                         'central european mixed forests': \"central european mixed forests\",\n",
    "                                         'northern rockies': \"northern rockies conifer forests\",\n",
    "                                         'eastern temperate forests': \"eastern australian temperate forests\"}\n",
    "networks_metadata.EcoRegion_name = networks_metadata.EcoRegion_name.replace(ecoregionsd_net_name_to_format_name)\n",
    "networks_metadata.EcoRegion = networks_metadata.EcoRegion.replace({'nan': np.nan}).apply(lambda n: str(int(n)) if pd.notna(n) else n) \n",
    "networks_metadata.loc[networks_metadata.EcoRegion.isna(), \"EcoRegion\"] = networks_metadata.EcoRegion_name.apply(lambda n: eco_name_to_id.get(n,np.nan))\n",
    "networks_metadata.EcoRegion_name = networks_metadata.EcoRegion_name.str.lower()"
   ]
  },
  {
   "cell_type": "code",
   "execution_count": 18,
   "id": "1f9b8da4-5096-449d-b72d-07700394afb2",
   "metadata": {},
   "outputs": [],
   "source": [
    "networks_metadata.set_index(\"EcoRegion_name\", inplace=True)\n",
    "networks_metadata.update(ecoregion_metadata_1)\n",
    "networks_metadata.update(ecoregion_metadata_2)\n",
    "networks_metadata.reset_index(inplace=True)"
   ]
  },
  {
   "cell_type": "code",
   "execution_count": 19,
   "id": "038d29b3-81c2-41a0-bd11-1f291b6e6e77",
   "metadata": {},
   "outputs": [],
   "source": [
    "networks_metadata.to_csv(networks_metadata_path, index=False)"
   ]
  },
  {
   "cell_type": "code",
   "execution_count": 20,
   "id": "0795c333-7150-42ae-9545-d9fbbb1307e2",
   "metadata": {},
   "outputs": [],
   "source": [
    "max_missing_threshold = 0.5\n",
    "min_classified_threshold = 5\n",
    "min_poly_threhold = 0\n",
    "min_di_threshold = 2\n",
    "\n",
    "networks_metadata = pd.read_csv(networks_metadata_path)\n",
    "networks_metadata[\"inlcuded_in_analysis\"] = networks_metadata.apply(lambda rec: rec.is_polyploid_missing_frac <= max_missing_threshold and rec.num_classified > min_classified_threshold and rec.num_polyploids >= min_poly_threhold and rec.num_diploids >= min_di_threshold, axis=1)"
   ]
  },
  {
   "cell_type": "code",
   "execution_count": 21,
   "id": "0c030e31-bc6b-4c23-aade-5c9f551635e0",
   "metadata": {},
   "outputs": [
    {
     "data": {
      "text/plain": [
       "EcoRegion_name                   1465\n",
       "EcoRegion                        1452\n",
       "Longitude                        1321\n",
       "Latitude                         1465\n",
       "Annual Mean Temperature          1331\n",
       "Climate_PC1                      1312\n",
       "Climate_PC2                      1312\n",
       "Climate_PC3                      1312\n",
       "network_size                     1621\n",
       "Species richness                 1312\n",
       "Perennial herb %                 1312\n",
       "Polyploid percent                1312\n",
       "highest_pollinator_rank_index    1531\n",
       "dtype: int64"
      ]
     },
     "execution_count": 21,
     "metadata": {},
     "output_type": "execute_result"
    }
   ],
   "source": [
    "networks_metadata[[\"EcoRegion_name\", \"EcoRegion\", \"Longitude\", \"Latitude\",\"Annual Mean Temperature\", \"Climate_PC1\", \"Climate_PC2\", \"Climate_PC3\",\"network_size\", \"Species richness\", 'Perennial herb %', \"Polyploid percent\",\"highest_pollinator_rank_index\"]].notna().sum()"
   ]
  },
  {
   "cell_type": "code",
   "execution_count": 22,
   "id": "53e0c0d4-dbb0-41fd-a13e-102fde80ab83",
   "metadata": {},
   "outputs": [
    {
     "data": {
      "text/plain": [
       "EcoRegion_name                   303\n",
       "EcoRegion                        302\n",
       "Longitude                        288\n",
       "Latitude                         303\n",
       "Climate_PC1                      276\n",
       "Climate_PC2                      276\n",
       "Climate_PC3                      276\n",
       "network_size                     305\n",
       "Species richness                 276\n",
       "Perennial herb %                 276\n",
       "Polyploid percent                276\n",
       "highest_pollinator_rank_index    305\n",
       "dtype: int64"
      ]
     },
     "execution_count": 22,
     "metadata": {},
     "output_type": "execute_result"
    }
   ],
   "source": [
    "networks_metadata.query(\"included_in_analysis and network_type != 'binarized_weighted'\")[[\"EcoRegion_name\", \"EcoRegion\", \"Longitude\", \"Latitude\",\"Climate_PC1\", \"Climate_PC2\", \"Climate_PC3\",\"network_size\", \"Species richness\", 'Perennial herb %', \"Polyploid percent\",\"highest_pollinator_rank_index\"]].notna().sum()"
   ]
  },
  {
   "cell_type": "code",
   "execution_count": 24,
   "id": "515bb8a7-ba74-4c1c-9f00-c22c85e6cac7",
   "metadata": {},
   "outputs": [],
   "source": [
    "networks_metadata.loc[networks_metadata['species_richness'].isna(), \"species_richness\"] = networks_metadata['Species richness']\n",
    "networks_metadata = networks_metadata.drop([\"Species richness\"], axis=1)"
   ]
  },
  {
   "cell_type": "markdown",
   "id": "b2dbf0cd-0b63-4b5e-90ed-8dce9225c7c3",
   "metadata": {},
   "source": [
    "## complement missing biome and area based on ecoregion, with a flag of low_accuracy"
   ]
  },
  {
   "cell_type": "code",
   "execution_count": 11,
   "id": "240f9b82-c30d-436d-bba8-87b45a453a9f",
   "metadata": {},
   "outputs": [],
   "source": [
    "ecoregions_area_data = pd.read_csv(ecoregion_metadata_path_3).drop([\"Unnamed: 0\"], axis=1).sort_values([\"ECO_ID\", \"BIOME\"]).drop_duplicates([\"ECO_ID\"]).set_index(\"ECO_ID\")\n",
    "ecoregion_to_area = ecoregions_area_data.AREA.to_dict() \n",
    "ecoregion_to_biome = ecoregions_area_data.BIOME.to_dict() \n",
    "networks_metadata[\"low_area_accuracy\"] = 0\n",
    "networks_metadata.loc[networks_metadata.area.isna() & networks_metadata.EcoRegion.notna(), \"low_area_accuracy\"] = 1\n",
    "networks_metadata.loc[networks_metadata.area.isna() & networks_metadata.EcoRegion.notna(), \"area\"] = networks_metadata.loc[networks_metadata.area.isna() & networks_metadata.EcoRegion.notna(), \"EcoRegion\"].apply(lambda e: ecoregion_to_area.get(int(e), np.nan))\n",
    "networks_metadata.loc[networks_metadata.area.isna() & networks_metadata.EcoRegion.notna(), \"biome\"] = networks_metadata.loc[networks_metadata.area.isna() & networks_metadata.EcoRegion.notna(), \"EcoRegion\"].apply(lambda e: ecoregion_to_biome.get(int(e), np.nan))"
   ]
  },
  {
   "cell_type": "code",
   "execution_count": 13,
   "id": "b78d9be5-10a4-4cc6-864f-c72de2d7c90b",
   "metadata": {},
   "outputs": [],
   "source": [
    "networks_metadata.to_csv(networks_metadata_path, index=False)"
   ]
  },
  {
   "cell_type": "code",
   "execution_count": null,
   "id": "3ff92420-3656-49d2-9265-85af941655e6",
   "metadata": {},
   "outputs": [],
   "source": []
  }
 ],
 "metadata": {
  "kernelspec": {
   "display_name": "Python 3 (ipykernel)",
   "language": "python",
   "name": "python3"
  },
  "language_info": {
   "codemirror_mode": {
    "name": "ipython",
    "version": 3
   },
   "file_extension": ".py",
   "mimetype": "text/x-python",
   "name": "python",
   "nbconvert_exporter": "python",
   "pygments_lexer": "ipython3",
   "version": "3.10.6"
  }
 },
 "nbformat": 4,
 "nbformat_minor": 5
}
