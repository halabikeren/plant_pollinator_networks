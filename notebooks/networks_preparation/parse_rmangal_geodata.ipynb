{
 "cells": [
  {
   "cell_type": "code",
   "execution_count": 1,
   "id": "e9166265-865c-4446-ac34-49ba45ce9699",
   "metadata": {},
   "outputs": [],
   "source": [
    "import pandas as pd\n",
    "import numpy as np"
   ]
  },
  {
   "cell_type": "code",
   "execution_count": 11,
   "id": "0f3dc623-628b-41c6-8493-d179833f7720",
   "metadata": {},
   "outputs": [],
   "source": [
    "rmangal_metadata_path = \"../../data/networks/all_rmangal_networks_metadata.csv\"\n",
    "network_global_to_rmangal_id_path = \"../../data/networks/all/networks_metadata.csv\"\n",
    "parsed_rmangal_metadata_path = \"../../data/networks/parsed_rmangal_networks_metadata.csv\"\n",
    "rmangal_geo_data_path = \"../../data/metadata/network_level/rmangal_networks_geodata.csv\"\n",
    "\n",
    "bioclimate_varnames = {\"BioClim_1\": \"Annual Mean Temperature\",\n",
    "\"BioClim_2\": \"Mean Diurnal Range (Mean of monthly (max temp - min temp))\",\n",
    "\"BioClim_3\": \"Isothermality (BioClim_2/BioClim_7) (×100)\",\n",
    "\"BioClim_4\": \"Temperature Seasonality (standard deviation ×100)\",\n",
    "\"BioClim_5\": \"Max Temperature of Warmest Month\",\n",
    "\"BioClim_6\": \"Min Temperature of Coldest Month\",\n",
    "\"BioClim_7\": \"Temperature Annual Range (BioClim_5-BioClim_6)\",\n",
    "\"BioClim_8\": \"Mean Temperature of Wettest Quarter\",\n",
    "\"BioClim_9\": \"Mean Temperature of Driest Quarter\",\n",
    "\"BioClim_10\": \"Mean Temperature of Warmest Quarter\",\n",
    "\"BioClim_11\": \"Mean Temperature of Coldest Quarter\",\n",
    "\"BioClim_12\": \"Annual Precipitation\",\n",
    "\"BioClim_13\": \"Precipitation of Wettest Month\",\n",
    "\"BioClim_14\": \"Precipitation of Driest Month\",\n",
    "\"BioClim_15\": \"Precipitation Seasonality (Coefficient of Variation)\",\n",
    "\"BioClim_16\": \"Precipitation of Wettest Quarter\",\n",
    "\"BioClim_17\": \"Precipitation of Driest Quarter\",\n",
    "\"BioClim_18\": \"Precipitation of Warmest Quarter\",\n",
    "\"BioClim_19\": \"Precipitation of Coldest Quarter\"}"
   ]
  },
  {
   "cell_type": "code",
   "execution_count": 24,
   "id": "44a85654-3c4b-4d98-97bf-c300dc0f2d4a",
   "metadata": {},
   "outputs": [],
   "source": [
    "rmangal_metadata = pd.read_csv(rmangal_metadata_path)\n",
    "network_global_to_rmangal_id = pd.read_csv(network_global_to_rmangal_id_path)"
   ]
  },
  {
   "cell_type": "code",
   "execution_count": 25,
   "id": "59ecb92b-92cd-4d6e-8e58-4b93b1537575",
   "metadata": {},
   "outputs": [],
   "source": [
    "rmangal_metadata.geom_lat = rmangal_metadata.geom_lat.apply(lambda x: np.mean([float(i.replace(\"c(\",\"\").replace(\")\",\"\")) for i in x.split(\",\")]) if type(x) is str else x)\n",
    "rmangal_metadata.geom_lon = rmangal_metadata.geom_lon.apply(lambda x: np.mean([float(i.replace(\"c(\",\"\").replace(\")\",\"\")) for i in x.split(\",\")]) if type(x) is str else x)"
   ]
  },
  {
   "cell_type": "code",
   "execution_count": 27,
   "id": "79c57057-8481-4a0d-a034-108a27240207",
   "metadata": {},
   "outputs": [],
   "source": [
    "rmangal_metadata = rmangal_metadata.dropna(subset=[\"geom_lat\", \"geom_lon\"]).rename(columns={\"network_id\": \"ID\",\n",
    "                                                                                            \"geom_lat\": \"Latitude\",\n",
    "                                                                                            \"geom_lon\": \"Longitude\"})"
   ]
  },
  {
   "cell_type": "code",
   "execution_count": 34,
   "id": "fb2e337f-61fd-4417-89a3-fe9662227abc",
   "metadata": {},
   "outputs": [],
   "source": [
    "network_global_to_rmangal_id = network_global_to_rmangal_id.loc[network_global_to_rmangal_id.orig_path.str.contains(\"mangal\")]\n",
    "network_global_to_rmangal_id[\"rmangal_id\"] = network_global_to_rmangal_id.orig_path.apply(lambda p: int(p.split(\"/\")[-1].replace(\".csv\",\"\")))"
   ]
  },
  {
   "cell_type": "code",
   "execution_count": 36,
   "id": "fad97085-fa63-45c7-ae18-04221a7ab503",
   "metadata": {},
   "outputs": [],
   "source": [
    "rmangal_metadata = rmangal_metadata.merge(network_global_to_rmangal_id[[\"network_index\",\"rmangal_id\"]], left_on=\"ID\", right_on=\"rmangal_id\").drop([\"rmangal_id\"], axis=1)"
   ]
  },
  {
   "cell_type": "code",
   "execution_count": 44,
   "id": "f3395fe3-0e0b-43ee-a3de-4b9bbbd14a54",
   "metadata": {},
   "outputs": [],
   "source": [
    "rmangal_metadata.to_csv(parsed_rmangal_metadata_path)"
   ]
  },
  {
   "cell_type": "code",
   "execution_count": 15,
   "id": "49784af0-5088-4667-9fe5-e1b4674ec912",
   "metadata": {},
   "outputs": [],
   "source": [
    "rmangal_metadata = pd.read_csv(parsed_rmangal_metadata_path)\n",
    "rmangal_geodata = pd.read_csv(rmangal_geo_data_path).rename(columns=bioclimate_varnames).drop([\"EcoRegion.y\"], axis=1).rename(columns={\"EcoRegion.x\":\"EcoRegion\"})"
   ]
  },
  {
   "cell_type": "code",
   "execution_count": 17,
   "id": "6f071ba2-d3a9-4d13-9a6f-ae52cab84736",
   "metadata": {},
   "outputs": [],
   "source": [
    "rmangal_metadata = rmangal_metadata.merge(rmangal_geodata, left_on=\"ID\", right_on=\"Obs_ID\", how=\"left\")"
   ]
  },
  {
   "cell_type": "code",
   "execution_count": 19,
   "id": "d742a4e2-34b2-494f-93ea-0b7df2e21bdf",
   "metadata": {},
   "outputs": [],
   "source": [
    "rmangal_metadata.to_csv(parsed_rmangal_metadata_path)"
   ]
  }
 ],
 "metadata": {
  "kernelspec": {
   "display_name": "Python 3 (ipykernel)",
   "language": "python",
   "name": "python3"
  },
  "language_info": {
   "codemirror_mode": {
    "name": "ipython",
    "version": 3
   },
   "file_extension": ".py",
   "mimetype": "text/x-python",
   "name": "python",
   "nbconvert_exporter": "python",
   "pygments_lexer": "ipython3",
   "version": "3.10.6"
  }
 },
 "nbformat": 4,
 "nbformat_minor": 5
}
