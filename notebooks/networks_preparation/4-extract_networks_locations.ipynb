{
 "cells": [
  {
   "cell_type": "code",
   "execution_count": 1,
   "id": "411aa7cf-25ea-40e5-8d97-64408077cad9",
   "metadata": {},
   "outputs": [
    {
     "name": "stderr",
     "output_type": "stream",
     "text": [
      "Skipping install of 'rmangal' from a github remote, the SHA1 (87df6fd8) has not changed since last install.\n",
      "  Use `force = TRUE` to force installation\n",
      "\n"
     ]
    }
   ],
   "source": [
    "remotes::install_github(\"ropensci/rmangal\")"
   ]
  },
  {
   "cell_type": "code",
   "execution_count": 2,
   "id": "99b56829-9d0f-47bf-b603-9c392369eba4",
   "metadata": {},
   "outputs": [
    {
     "name": "stderr",
     "output_type": "stream",
     "text": [
      "── \u001b[1mAttaching packages\u001b[22m ─────────────────────────────────────── tidyverse 1.3.2 ──\n",
      "\u001b[32m✔\u001b[39m \u001b[34mggplot2\u001b[39m 3.4.1     \u001b[32m✔\u001b[39m \u001b[34mpurrr  \u001b[39m 1.0.1\n",
      "\u001b[32m✔\u001b[39m \u001b[34mtibble \u001b[39m 3.2.1     \u001b[32m✔\u001b[39m \u001b[34mdplyr  \u001b[39m 1.1.1\n",
      "\u001b[32m✔\u001b[39m \u001b[34mtidyr  \u001b[39m 1.3.0     \u001b[32m✔\u001b[39m \u001b[34mstringr\u001b[39m 1.5.0\n",
      "\u001b[32m✔\u001b[39m \u001b[34mreadr  \u001b[39m 2.1.4     \u001b[32m✔\u001b[39m \u001b[34mforcats\u001b[39m 1.0.0\n",
      "── \u001b[1mConflicts\u001b[22m ────────────────────────────────────────── tidyverse_conflicts() ──\n",
      "\u001b[31m✖\u001b[39m \u001b[34mdplyr\u001b[39m::\u001b[32mfilter()\u001b[39m masks \u001b[34mstats\u001b[39m::filter()\n",
      "\u001b[31m✖\u001b[39m \u001b[34mdplyr\u001b[39m::\u001b[32mlag()\u001b[39m    masks \u001b[34mstats\u001b[39m::lag()\n",
      "\n",
      "Attaching package: ‘magrittr’\n",
      "\n",
      "\n",
      "The following object is masked from ‘package:purrr’:\n",
      "\n",
      "    set_names\n",
      "\n",
      "\n",
      "The following object is masked from ‘package:tidyr’:\n",
      "\n",
      "    extract\n",
      "\n",
      "\n",
      "Linking to GEOS 3.10.2, GDAL 3.5.0, PROJ 9.0.0; sf_use_s2() is TRUE\n",
      "\n",
      "Loading required package: sp\n",
      "\n",
      "\n",
      "Attaching package: ‘raster’\n",
      "\n",
      "\n",
      "The following object is masked from ‘package:dplyr’:\n",
      "\n",
      "    select\n",
      "\n",
      "\n"
     ]
    }
   ],
   "source": [
    "library(tidyverse)\n",
    "library(magrittr)\n",
    "library(dplyr)\n",
    "library(sf)\n",
    "library(rmangal)\n",
    "library(raster)"
   ]
  },
  {
   "cell_type": "code",
   "execution_count": 52,
   "id": "948b6439-2dbf-45e8-b09b-c8267310abc8",
   "metadata": {},
   "outputs": [],
   "source": [
    "networks_metadata_path = \"../../data/networks/all/networks_metadata.csv\"\n",
    "\n",
    "rmangal_observations_data_path = \"../../data/networks/metadata/parsed_rmangal_networks_metadata.csv\"\n",
    "rmangal_metadata_path = \"../../data/networks/metadata/all_rmangal_networks.csv\"\n",
    "\n",
    "ecoregion_polygon_data_path1 = \"../../data/networks/metadata/polygon/WWF/wwf_terr_ecos.shp\"\n",
    "ecoregion_polygon_data_path2 = \"../../data/networks/metadata/polygon/Ecoregions2017/Ecoregions2017.shp\"\n",
    "\n",
    "temp_input_for_bioclim_path = \"../../data/networks/all/geo_avail_networks_metadata.csv\"\n",
    "temp_output_for_bioclim_path = \"../../data/networks/all/geo_extracted_networks_metadata.csv\"\n",
    "bioclim_dir = \"../../data/networks/metadata/bioclimate/\"\n",
    "richness_data_path = \"../../data/networks/metadata/Richness_2021.tif\"\n",
    "rmangal_geodata_path = \"../../data/networks/rmangal_networks_geodata.csv\""
   ]
  },
  {
   "cell_type": "markdown",
   "id": "2bc4a331-fb22-47b3-a3ac-6d1da2a9d4cb",
   "metadata": {},
   "source": [
    "# get geodata for networks"
   ]
  },
  {
   "cell_type": "markdown",
   "id": "9afd90d0-13a7-4861-b66e-d2769f338142",
   "metadata": {
    "tags": []
   },
   "source": [
    "## Mangal"
   ]
  },
  {
   "cell_type": "code",
   "execution_count": 11,
   "id": "acb3c1a6-c3ad-4653-be69-9eaae57b0756",
   "metadata": {},
   "outputs": [],
   "source": [
    "if (!file.exists(rmangal_metadata_path))\n",
    "{\n",
    "    pollination_interactions<- search_interactions(type = \"mutualism\")\n",
    "    network_ids = unique(pollination_interactions$network_id)\n",
    "    length(network_ids)\n",
    "    \n",
    "    all_networks_data = data.frame()\n",
    "    network_metadata_dfs = list()\n",
    "    num_avail = 0\n",
    "    for (i in 1:length(network_ids)) #length(pollination_networks)\n",
    "    {\n",
    "      if (i %% 10 == 0) \n",
    "      {\n",
    "        print(i)\n",
    "        print(num_avail)\n",
    "      }\n",
    "      networks = search_networks(list(id=nth(network_ids,i)))  %>% get_collection\n",
    "      network = networks[[1]]\n",
    "      network_data = network$network[c(\"geom_lat\", \"geom_type\", \"geom_lon\")]\n",
    "      network_ref_data = network$reference\n",
    "      network_data = bind_cols(network_data, network_ref_data)\n",
    "      network_data[[\"network_id\"]] = nth(network_ids,i)\n",
    "      network_metadata_dfs[[i]] = network_data\n",
    "      if (! is.na(network_data$geom_lon))\n",
    "      {\n",
    "        num_avail = num_avail + 1\n",
    "      }\n",
    "    df = ldply(network_metadata_dfs, rbind)\n",
    "    df <- apply(df,2,as.character)\n",
    "    write.csv(df,rmangal_metadata_path)\n",
    "    }\n",
    "}"
   ]
  },
  {
   "cell_type": "code",
   "execution_count": 5,
   "id": "dfb0e711-d565-4d38-adae-f1ef2f92b9fa",
   "metadata": {},
   "outputs": [],
   "source": [
    "rmangal_metadata = read.csv(rmangal_metadata_path)"
   ]
  },
  {
   "cell_type": "code",
   "execution_count": 8,
   "id": "c8f16d9b-edae-40af-8e91-747069c335dc",
   "metadata": {},
   "outputs": [
    {
     "data": {
      "text/html": [
       "<table class=\"dataframe\">\n",
       "<caption>A data.frame: 6 × 5</caption>\n",
       "<thead>\n",
       "\t<tr><th></th><th scope=col>network_id</th><th scope=col>doi</th><th scope=col>paper_url</th><th scope=col>geom_lon</th><th scope=col>geom_lat</th></tr>\n",
       "\t<tr><th></th><th scope=col>&lt;int&gt;</th><th scope=col>&lt;chr&gt;</th><th scope=col>&lt;chr&gt;</th><th scope=col>&lt;chr&gt;</th><th scope=col>&lt;chr&gt;</th></tr>\n",
       "</thead>\n",
       "<tbody>\n",
       "\t<tr><th scope=row>6</th><td>1419</td><td>10.1111/ele.12821</td><td>https://onlinelibrary.wiley.com/doi/full/10.1111/ele.12821</td><td>NA</td><td>NA</td></tr>\n",
       "\t<tr><th scope=row>9</th><td> 952</td><td>NA               </td><td>null                                                      </td><td>NA</td><td>NA</td></tr>\n",
       "\t<tr><th scope=row>10</th><td>1420</td><td>10.1111/ele.12821</td><td>https://onlinelibrary.wiley.com/doi/full/10.1111/ele.12821</td><td>NA</td><td>NA</td></tr>\n",
       "\t<tr><th scope=row>19</th><td>1310</td><td>10.1111/ele.12821</td><td>https://onlinelibrary.wiley.com/doi/full/10.1111/ele.12821</td><td>NA</td><td>NA</td></tr>\n",
       "\t<tr><th scope=row>20</th><td>1311</td><td>10.1111/ele.12821</td><td>https://onlinelibrary.wiley.com/doi/full/10.1111/ele.12821</td><td>NA</td><td>NA</td></tr>\n",
       "\t<tr><th scope=row>21</th><td>1307</td><td>10.1111/ele.12821</td><td>https://onlinelibrary.wiley.com/doi/full/10.1111/ele.12821</td><td>NA</td><td>NA</td></tr>\n",
       "</tbody>\n",
       "</table>\n"
      ],
      "text/latex": [
       "A data.frame: 6 × 5\n",
       "\\begin{tabular}{r|lllll}\n",
       "  & network\\_id & doi & paper\\_url & geom\\_lon & geom\\_lat\\\\\n",
       "  & <int> & <chr> & <chr> & <chr> & <chr>\\\\\n",
       "\\hline\n",
       "\t6 & 1419 & 10.1111/ele.12821 & https://onlinelibrary.wiley.com/doi/full/10.1111/ele.12821 & NA & NA\\\\\n",
       "\t9 &  952 & NA                & null                                                       & NA & NA\\\\\n",
       "\t10 & 1420 & 10.1111/ele.12821 & https://onlinelibrary.wiley.com/doi/full/10.1111/ele.12821 & NA & NA\\\\\n",
       "\t19 & 1310 & 10.1111/ele.12821 & https://onlinelibrary.wiley.com/doi/full/10.1111/ele.12821 & NA & NA\\\\\n",
       "\t20 & 1311 & 10.1111/ele.12821 & https://onlinelibrary.wiley.com/doi/full/10.1111/ele.12821 & NA & NA\\\\\n",
       "\t21 & 1307 & 10.1111/ele.12821 & https://onlinelibrary.wiley.com/doi/full/10.1111/ele.12821 & NA & NA\\\\\n",
       "\\end{tabular}\n"
      ],
      "text/markdown": [
       "\n",
       "A data.frame: 6 × 5\n",
       "\n",
       "| <!--/--> | network_id &lt;int&gt; | doi &lt;chr&gt; | paper_url &lt;chr&gt; | geom_lon &lt;chr&gt; | geom_lat &lt;chr&gt; |\n",
       "|---|---|---|---|---|---|\n",
       "| 6 | 1419 | 10.1111/ele.12821 | https://onlinelibrary.wiley.com/doi/full/10.1111/ele.12821 | NA | NA |\n",
       "| 9 |  952 | NA                | null                                                       | NA | NA |\n",
       "| 10 | 1420 | 10.1111/ele.12821 | https://onlinelibrary.wiley.com/doi/full/10.1111/ele.12821 | NA | NA |\n",
       "| 19 | 1310 | 10.1111/ele.12821 | https://onlinelibrary.wiley.com/doi/full/10.1111/ele.12821 | NA | NA |\n",
       "| 20 | 1311 | 10.1111/ele.12821 | https://onlinelibrary.wiley.com/doi/full/10.1111/ele.12821 | NA | NA |\n",
       "| 21 | 1307 | 10.1111/ele.12821 | https://onlinelibrary.wiley.com/doi/full/10.1111/ele.12821 | NA | NA |\n",
       "\n"
      ],
      "text/plain": [
       "   network_id doi              \n",
       "6  1419       10.1111/ele.12821\n",
       "9   952       NA               \n",
       "10 1420       10.1111/ele.12821\n",
       "19 1310       10.1111/ele.12821\n",
       "20 1311       10.1111/ele.12821\n",
       "21 1307       10.1111/ele.12821\n",
       "   paper_url                                                  geom_lon geom_lat\n",
       "6  https://onlinelibrary.wiley.com/doi/full/10.1111/ele.12821 NA       NA      \n",
       "9  null                                                       NA       NA      \n",
       "10 https://onlinelibrary.wiley.com/doi/full/10.1111/ele.12821 NA       NA      \n",
       "19 https://onlinelibrary.wiley.com/doi/full/10.1111/ele.12821 NA       NA      \n",
       "20 https://onlinelibrary.wiley.com/doi/full/10.1111/ele.12821 NA       NA      \n",
       "21 https://onlinelibrary.wiley.com/doi/full/10.1111/ele.12821 NA       NA      "
      ]
     },
     "metadata": {},
     "output_type": "display_data"
    }
   ],
   "source": [
    "head(rmangal_metadata[is.na(rmangal_metadata$geom_lat), ][c(\"network_id\", \"doi\", \"paper_url\", \"geom_lon\", \"geom_lat\")])"
   ]
  },
  {
   "cell_type": "code",
   "execution_count": null,
   "id": "12d0c103-87cb-4514-883a-778829907798",
   "metadata": {},
   "outputs": [],
   "source": [
    "# merge rmangal_metadata to networks_metadata"
   ]
  },
  {
   "cell_type": "markdown",
   "id": "8a9e11e8-1c59-4614-94ac-6859ad3a70e4",
   "metadata": {
    "jp-MarkdownHeadingCollapsed": true,
    "tags": []
   },
   "source": [
    "# Web of life"
   ]
  },
  {
   "cell_type": "code",
   "execution_count": 88,
   "id": "edd0ecc5-8fa9-413f-a5fb-c9f82686ed61",
   "metadata": {},
   "outputs": [],
   "source": [
    "base_url <- \"https://www.web-of-life.es/\"\n",
    "networks_metadata = read.csv(networks_metadata_path)\n",
    "non_wol_networks_metadata = networks_metadata[networks_metadata$source != \"web_of_life\", ] \n",
    "wol_networks_metadata = networks_metadata[networks_metadata$source == \"web_of_life\", ][c('network_type','network_index','path','source','is_legal','is_resolved','processed_path','is_parsed_legal')]                                                                                      \n",
    "all_nw_info <- read.csv(paste0(base_url,\"get_network_info.php\"))"
   ]
  },
  {
   "cell_type": "code",
   "execution_count": 89,
   "id": "710fff27-4c0d-4737-a22d-68dedc0cde38",
   "metadata": {},
   "outputs": [],
   "source": [
    "get_name <- function(path)\n",
    "{\n",
    "    path_name = basename(path)\n",
    "    name = unlist(strsplit(path_name, \".\", fixed=TRUE))[1]\n",
    "    return (name)\n",
    "}"
   ]
  },
  {
   "cell_type": "code",
   "execution_count": 90,
   "id": "c886eab7-3604-4644-9bb3-b2cfc9a2daf1",
   "metadata": {},
   "outputs": [],
   "source": [
    "wol_networks_metadata$network_name = unlist(lapply(wol_networks_metadata$path,get_name))"
   ]
  },
  {
   "cell_type": "code",
   "execution_count": 91,
   "id": "52ca2d36-0820-4806-82b4-0fed199468f7",
   "metadata": {},
   "outputs": [],
   "source": [
    "all_nw_info$Latitude <- all_nw_info$latitude\n",
    "all_nw_info$Longitude <- all_nw_info$longitude\n",
    "\n",
    "drops <- c(\"network_type\",\"number_components\", \"is_weighted\", \"cell_values_description\", \"abundance_description\", \"latitude\", \"longitude\")\n",
    "all_nw_info = all_nw_info[ , !(names(all_nw_info) %in% drops)]"
   ]
  },
  {
   "cell_type": "code",
   "execution_count": 92,
   "id": "b5ed20bc-b326-49e6-bde6-d8c328295c95",
   "metadata": {},
   "outputs": [
    {
     "data": {
      "text/html": [
       "<style>\n",
       ".list-inline {list-style: none; margin:0; padding: 0}\n",
       ".list-inline>li {display: inline-block}\n",
       ".list-inline>li:not(:last-child)::after {content: \"\\00b7\"; padding: 0 .5ex}\n",
       "</style>\n",
       "<ol class=list-inline><li>'network_name'</li><li>'author'</li><li>'reference'</li><li>'location'</li><li>'location_address'</li><li>'country'</li><li>'Latitude'</li><li>'Longitude'</li></ol>\n"
      ],
      "text/latex": [
       "\\begin{enumerate*}\n",
       "\\item 'network\\_name'\n",
       "\\item 'author'\n",
       "\\item 'reference'\n",
       "\\item 'location'\n",
       "\\item 'location\\_address'\n",
       "\\item 'country'\n",
       "\\item 'Latitude'\n",
       "\\item 'Longitude'\n",
       "\\end{enumerate*}\n"
      ],
      "text/markdown": [
       "1. 'network_name'\n",
       "2. 'author'\n",
       "3. 'reference'\n",
       "4. 'location'\n",
       "5. 'location_address'\n",
       "6. 'country'\n",
       "7. 'Latitude'\n",
       "8. 'Longitude'\n",
       "\n",
       "\n"
      ],
      "text/plain": [
       "[1] \"network_name\"     \"author\"           \"reference\"        \"location\"        \n",
       "[5] \"location_address\" \"country\"          \"Latitude\"         \"Longitude\"       "
      ]
     },
     "metadata": {},
     "output_type": "display_data"
    }
   ],
   "source": [
    "colnames(all_nw_info)"
   ]
  },
  {
   "cell_type": "code",
   "execution_count": 93,
   "id": "375382e7-fc7b-4c08-94a6-47a8747408a8",
   "metadata": {},
   "outputs": [],
   "source": [
    "wol_networks_metadata <- left_join(wol_networks_metadata, all_nw_info, by = join_by(network_name == network_name))"
   ]
  },
  {
   "cell_type": "code",
   "execution_count": 94,
   "id": "7b4014b7-466c-41d0-b165-3ae294844026",
   "metadata": {},
   "outputs": [],
   "source": [
    "rest_networks_metdata =  networks_metadata[networks_metadata$source != \"web_of_life\", ]"
   ]
  },
  {
   "cell_type": "code",
   "execution_count": 104,
   "id": "4b4aa498-18e7-4f1e-85fb-e5a5b3babe7d",
   "metadata": {},
   "outputs": [],
   "source": [
    "networks_metadata = bind_rows(wol_networks_metadata, rest_networks_metdata)"
   ]
  },
  {
   "cell_type": "code",
   "execution_count": 106,
   "id": "fc8c5d38-a7bc-4d71-9c13-826354b410cf",
   "metadata": {},
   "outputs": [],
   "source": [
    "write.csv(networks_metadata, networks_metadata_path)"
   ]
  },
  {
   "cell_type": "markdown",
   "id": "6338f643-e125-4669-b921-dd671f4979cd",
   "metadata": {
    "tags": []
   },
   "source": [
    "# get bioclimate data for networks"
   ]
  },
  {
   "cell_type": "code",
   "execution_count": 34,
   "id": "dbb39488-0f40-4137-a776-1b86dcf86a4c",
   "metadata": {},
   "outputs": [],
   "source": [
    "networks_metadata = read.csv(networks_metadata_path)\n",
    "networks_metadata = networks_metadata %>% filter(!is.na(Latitude))\n",
    "networks_metadata = networks_metadata %>% filter(!is.na(Longitude))"
   ]
  },
  {
   "cell_type": "code",
   "execution_count": 35,
   "id": "6e03d866-b749-4f96-a50b-ff8c9d173ad2",
   "metadata": {},
   "outputs": [],
   "source": [
    "networks_metadata[\"ID\"] = c(1:dim(networks_metadata)[1])"
   ]
  },
  {
   "cell_type": "code",
   "execution_count": 6,
   "id": "1b4877f6-4d95-4ee0-9d4a-f047966b51c9",
   "metadata": {},
   "outputs": [],
   "source": [
    "write.csv(relevant_network_metadata, temp_input_for_bioclim_path)"
   ]
  },
  {
   "cell_type": "code",
   "execution_count": 38,
   "id": "e7661a9e-cf1d-4c5c-a8f6-5f9a8e46636c",
   "metadata": {},
   "outputs": [
    {
     "data": {
      "text/html": [
       "''"
      ],
      "text/latex": [
       "''"
      ],
      "text/markdown": [
       "''"
      ],
      "text/plain": [
       "[1] \"\""
      ]
     },
     "metadata": {},
     "output_type": "display_data"
    }
   ],
   "source": [
    "networks_metadata[1, c('path','Latitude','Longitude')]$Latitude"
   ]
  },
  {
   "cell_type": "markdown",
   "id": "fd1a3839-d70a-41cc-ae85-c23bfb1473e6",
   "metadata": {},
   "source": [
    "## run the following via windows (does not work in ppn conda env)"
   ]
  },
  {
   "cell_type": "code",
   "execution_count": 53,
   "id": "30d152c2-f535-483b-9095-6eeaa5168ad0",
   "metadata": {},
   "outputs": [
    {
     "name": "stderr",
     "output_type": "stream",
     "text": [
      "\u001b[1m\u001b[22mNew names:\n",
      "\u001b[36m•\u001b[39m `` -> `...1`\n",
      "\u001b[1mRows: \u001b[22m\u001b[34m157\u001b[39m \u001b[1mColumns: \u001b[22m\u001b[34m67\u001b[39m\n",
      "\u001b[36m──\u001b[39m \u001b[1mColumn specification\u001b[22m \u001b[36m────────────────────────────────────────────────────────\u001b[39m\n",
      "\u001b[1mDelimiter:\u001b[22m \",\"\n",
      "\u001b[31mchr\u001b[39m  (15): path, processed_path, network_type, source, doi, paper_url, data_...\n",
      "\u001b[32mdbl\u001b[39m  (38): ...1, Unnamed: 0.1, Unnamed: 0, network_index, EcoRegion, Annual ...\n",
      "\u001b[33mlgl\u001b[39m  (12): reference, location_address, country, is_legal, is_resolved, is_p...\n",
      "\u001b[34mdttm\u001b[39m  (2): created_at, updated_at\n",
      "\n",
      "\u001b[36mℹ\u001b[39m Use `spec()` to retrieve the full column specification for this data.\n",
      "\u001b[36mℹ\u001b[39m Specify the column types or set `show_col_types = FALSE` to quiet this message.\n"
     ]
    },
    {
     "name": "stdout",
     "output_type": "stream",
     "text": [
      "Reading layer `wwf_terr_ecos' from data source \n",
      "  `/groups/itay_mayrose/halabikeren/plant_pollinator_networks/data/networks/metadata/polygon/WWF/wwf_terr_ecos.shp' \n",
      "  using driver `ESRI Shapefile'\n",
      "Simple feature collection with 14458 features and 21 fields\n",
      "Geometry type: POLYGON\n",
      "Dimension:     XY\n",
      "Bounding box:  xmin: -180 ymin: -89.89197 xmax: 180 ymax: 83.62313\n",
      "Geodetic CRS:  WGS 84\n",
      "Reading layer `Ecoregions2017' from data source \n",
      "  `/groups/itay_mayrose/halabikeren/plant_pollinator_networks/data/networks/metadata/polygon/Ecoregions2017/Ecoregions2017.shp' \n",
      "  using driver `ESRI Shapefile'\n",
      "Simple feature collection with 847 features and 15 fields\n",
      "Geometry type: MULTIPOLYGON\n",
      "Dimension:     XY\n",
      "Bounding box:  xmin: -180 ymin: -89.89197 xmax: 180 ymax: 83.62313\n",
      "Geodetic CRS:  WGS 84\n"
     ]
    }
   ],
   "source": [
    "# Load the data -----------------------------------------------------------\n",
    "#--#Observation points (NEED columns \"ID\", \"Latitude\", \"Longitude\") #--# \n",
    "Observations = read_csv(networks_metadata_path)\n",
    "\n",
    "#--#Ecoregion Polygon #--# \n",
    "Ecoregion_Polygon_1 = st_read(ecoregion_polygon_data_path1)\n",
    "Ecoregion_Polygon_2 = st_read(ecoregion_polygon_data_path2)"
   ]
  },
  {
   "cell_type": "code",
   "execution_count": 54,
   "id": "76bc0388-3278-4810-a1ba-a8b74679540b",
   "metadata": {},
   "outputs": [],
   "source": [
    "#--#BioClim Data #--# \n",
    "my_path = bioclim_dir\n",
    "BioClim_list = list.files(path = my_path, \n",
    "                          pattern = \".tif$\", \n",
    "                          all.files = TRUE, \n",
    "                          full.names = FALSE)"
   ]
  },
  {
   "cell_type": "code",
   "execution_count": 55,
   "id": "3d71639a-b515-4d76-bc86-c1c6c77c3aac",
   "metadata": {},
   "outputs": [],
   "source": [
    "#Load rasters (Should create a list of 19)\n",
    "BioClim_Rasters = lapply(paste(my_path, \n",
    "                               BioClim_list,\n",
    "                               sep = \"\"),\n",
    "                         raster)\n",
    "  \n",
    "#--#Remover superfluous data #--# \n",
    "rm(my_path, BioClim_list)"
   ]
  },
  {
   "cell_type": "code",
   "execution_count": 56,
   "id": "6c495751-8b62-4565-a948-424ffcfcb758",
   "metadata": {},
   "outputs": [
    {
     "data": {
      "text/html": [
       "1526"
      ],
      "text/latex": [
       "1526"
      ],
      "text/markdown": [
       "1526"
      ],
      "text/plain": [
       "[1] 1526"
      ]
     },
     "metadata": {},
     "output_type": "display_data"
    }
   ],
   "source": [
    "#--#Regional Species Richness Data #--# \n",
    "Richness_Rasters = raster(richness_data_path)\n",
    "\n",
    "#To check that the rest of the polygons are good, you can do the following\n",
    "which(st_is_valid(Ecoregion_Polygon_1) != TRUE)"
   ]
  },
  {
   "cell_type": "code",
   "execution_count": 57,
   "id": "54b8f668-d3ab-46c5-af6f-7e2216fece29",
   "metadata": {},
   "outputs": [],
   "source": [
    "bad_polygons_2_vec = -1*c(which(st_is_valid(Ecoregion_Polygon_2) != TRUE))"
   ]
  },
  {
   "cell_type": "code",
   "execution_count": 58,
   "id": "6c7a56a0-9b93-47ac-8d1a-6ae30aa57b8d",
   "metadata": {},
   "outputs": [
    {
     "data": {
      "text/html": [],
      "text/latex": [],
      "text/markdown": [],
      "text/plain": [
       "integer(0)"
      ]
     },
     "metadata": {},
     "output_type": "display_data"
    }
   ],
   "source": [
    "# Prepare the Ecoregion Data ----------------------------------------------\n",
    "#For whatever region, the polygon in row 1526 is not good and will cause the whole thing to mess up.\n",
    "#But since your data probably doesn't care about this you can just remove it \n",
    "#Info about the bad polygon:\n",
    "  #OBJECT_ID = 1501\n",
    "  #ECO_ID = 60125\n",
    "  #ECO_NAME = Guianan moist forests\n",
    "  #You can see the location of the region here: https://dopa-explorer.jrc.ec.europa.eu/ecoregion/60125\n",
    "#Remove the bad polygon\n",
    "Ecoregion_Polygon_1 = Ecoregion_Polygon_1[-1526, ]\n",
    "\n",
    "#To check that the rest of the polygons are good, you can do the following\n",
    "which(st_is_valid(Ecoregion_Polygon_1) != TRUE)"
   ]
  },
  {
   "cell_type": "code",
   "execution_count": 59,
   "id": "f2b0f135-342c-4e66-9ca8-4bbee7e6a6e6",
   "metadata": {},
   "outputs": [
    {
     "data": {
      "text/html": [],
      "text/latex": [],
      "text/markdown": [],
      "text/plain": [
       "integer(0)"
      ]
     },
     "metadata": {},
     "output_type": "display_data"
    }
   ],
   "source": [
    "Ecoregion_Polygon_2 = Ecoregion_Polygon_2[bad_polygons_2_vec, ]\n",
    "                                          \n",
    "#To check that the rest of the polygons are good, you can do the following\n",
    "which(st_is_valid(Ecoregion_Polygon_2) != TRUE)"
   ]
  },
  {
   "cell_type": "code",
   "execution_count": 60,
   "id": "0a2313c7-52fd-4723-81f2-6e6390cd73be",
   "metadata": {},
   "outputs": [
    {
     "name": "stderr",
     "output_type": "stream",
     "text": [
      "Warning message in lapply(x[coords], as.numeric):\n",
      "“NAs introduced by coercion”\n",
      "Warning message in lapply(x[coords], as.numeric):\n",
      "“NAs introduced by coercion”\n"
     ]
    },
    {
     "ename": "ERROR",
     "evalue": "Error in st_as_sf.data.frame(., coords = c(\"Longitude\", \"Latitude\")): missing values in coordinates not allowed\n",
     "output_type": "error",
     "traceback": [
      "Error in st_as_sf.data.frame(., coords = c(\"Longitude\", \"Latitude\")): missing values in coordinates not allowed\nTraceback:\n",
      "1. Observations %>% st_as_sf(coords = c(\"Longitude\", \"Latitude\"))",
      "2. st_as_sf(., coords = c(\"Longitude\", \"Latitude\"))",
      "3. st_as_sf.data.frame(., coords = c(\"Longitude\", \"Latitude\"))",
      "4. stop(\"missing values in coordinates not allowed\")"
     ]
    }
   ],
   "source": [
    "# Prepare Observation Points ----------------------------------------------\n",
    "#Convert the Observation data to an SF object\n",
    "Observation_SF = Observations %>%\n",
    "                   st_as_sf(coords = c(\"Longitude\", \n",
    "                                       \"Latitude\"))"
   ]
  },
  {
   "cell_type": "code",
   "execution_count": 49,
   "id": "fb9d8626-4828-4e3e-98aa-d11dfb0b088f",
   "metadata": {},
   "outputs": [
    {
     "data": {
      "text/html": [
       "<table class=\"dataframe\">\n",
       "<caption>A tibble: 679 × 3</caption>\n",
       "<thead>\n",
       "\t<tr><th scope=col>path</th><th scope=col>Longitude</th><th scope=col>Latitude</th></tr>\n",
       "\t<tr><th scope=col>&lt;chr&gt;</th><th scope=col>&lt;chr&gt;</th><th scope=col>&lt;chr&gt;</th></tr>\n",
       "</thead>\n",
       "<tbody>\n",
       "\t<tr><td>../../data/networks//mangal/weighted/5129.csv</td><td>c(-106.252863, -106.252863, -107.9038794, -107.9038794, -106.252863)</td><td>c(39.150357, 37.933364, 37.933364, 39.150357, 39.150357)</td></tr>\n",
       "\t<tr><td>../../data/networks//mangal/weighted/1598.csv</td><td>-16.633333                                                          </td><td>28.216667                                               </td></tr>\n",
       "\t<tr><td>../../data/networks//mangal/weighted/5175.csv</td><td>c(-106.252863, -106.252863, -107.9038794, -107.9038794, -106.252863)</td><td>c(39.150357, 37.933364, 37.933364, 39.150357, 39.150357)</td></tr>\n",
       "\t<tr><td>../../data/networks//mangal/weighted/5015.csv</td><td>3.177                                                               </td><td>42.352                                                  </td></tr>\n",
       "\t<tr><td>../../data/networks//mangal/weighted/5149.csv</td><td>c(-106.252863, -106.252863, -107.9038794, -107.9038794, -106.252863)</td><td>c(39.150357, 37.933364, 37.933364, 39.150357, 39.150357)</td></tr>\n",
       "\t<tr><td>../../data/networks//mangal/weighted/5148.csv</td><td>c(-106.252863, -106.252863, -107.9038794, -107.9038794, -106.252863)</td><td>c(39.150357, 37.933364, 37.933364, 39.150357, 39.150357)</td></tr>\n",
       "\t<tr><td>../../data/networks//mangal/weighted/5174.csv</td><td>c(-106.252863, -106.252863, -107.9038794, -107.9038794, -106.252863)</td><td>c(39.150357, 37.933364, 37.933364, 39.150357, 39.150357)</td></tr>\n",
       "\t<tr><td>../../data/networks//mangal/weighted/5176.csv</td><td>c(-106.252863, -106.252863, -107.9038794, -107.9038794, -106.252863)</td><td>c(39.150357, 37.933364, 37.933364, 39.150357, 39.150357)</td></tr>\n",
       "\t<tr><td>../../data/networks//mangal/weighted/5189.csv</td><td>c(-106.252863, -106.252863, -107.9038794, -107.9038794, -106.252863)</td><td>c(39.150357, 37.933364, 37.933364, 39.150357, 39.150357)</td></tr>\n",
       "\t<tr><td>../../data/networks//mangal/weighted/5163.csv</td><td>c(-106.252863, -106.252863, -107.9038794, -107.9038794, -106.252863)</td><td>c(39.150357, 37.933364, 37.933364, 39.150357, 39.150357)</td></tr>\n",
       "\t<tr><td>../../data/networks//mangal/weighted/5177.csv</td><td>c(-106.252863, -106.252863, -107.9038794, -107.9038794, -106.252863)</td><td>c(39.150357, 37.933364, 37.933364, 39.150357, 39.150357)</td></tr>\n",
       "\t<tr><td>../../data/networks//mangal/weighted/5020.csv</td><td>3.297                                                               </td><td>42.323                                                  </td></tr>\n",
       "\t<tr><td>../../data/networks//mangal/weighted/5154.csv</td><td>c(-106.252863, -106.252863, -107.9038794, -107.9038794, -106.252863)</td><td>c(39.150357, 37.933364, 37.933364, 39.150357, 39.150357)</td></tr>\n",
       "\t<tr><td>../../data/networks//mangal/weighted/5182.csv</td><td>c(-106.252863, -106.252863, -107.9038794, -107.9038794, -106.252863)</td><td>c(39.150357, 37.933364, 37.933364, 39.150357, 39.150357)</td></tr>\n",
       "\t<tr><td>../../data/networks//mangal/weighted/909.csv </td><td>18.5                                                                </td><td>68.35                                                   </td></tr>\n",
       "\t<tr><td>../../data/networks//mangal/weighted/5194.csv</td><td>c(-106.252863, -106.252863, -107.9038794, -107.9038794, -106.252863)</td><td>c(39.150357, 37.933364, 37.933364, 39.150357, 39.150357)</td></tr>\n",
       "\t<tr><td>../../data/networks//mangal/weighted/5142.csv</td><td>c(-106.252863, -106.252863, -107.9038794, -107.9038794, -106.252863)</td><td>c(39.150357, 37.933364, 37.933364, 39.150357, 39.150357)</td></tr>\n",
       "\t<tr><td>../../data/networks//mangal/weighted/5181.csv</td><td>c(-106.252863, -106.252863, -107.9038794, -107.9038794, -106.252863)</td><td>c(39.150357, 37.933364, 37.933364, 39.150357, 39.150357)</td></tr>\n",
       "\t<tr><td>../../data/networks//mangal/weighted/5026.csv</td><td>3.231                                                               </td><td>42.3                                                    </td></tr>\n",
       "\t<tr><td>../../data/networks//mangal/weighted/5146.csv</td><td>c(-106.252863, -106.252863, -107.9038794, -107.9038794, -106.252863)</td><td>c(39.150357, 37.933364, 37.933364, 39.150357, 39.150357)</td></tr>\n",
       "\t<tr><td>../../data/networks//mangal/weighted/5147.csv</td><td>c(-106.252863, -106.252863, -107.9038794, -107.9038794, -106.252863)</td><td>c(39.150357, 37.933364, 37.933364, 39.150357, 39.150357)</td></tr>\n",
       "\t<tr><td>../../data/networks//mangal/weighted/5190.csv</td><td>c(-106.252863, -106.252863, -107.9038794, -107.9038794, -106.252863)</td><td>c(39.150357, 37.933364, 37.933364, 39.150357, 39.150357)</td></tr>\n",
       "\t<tr><td>../../data/networks//mangal/weighted/5184.csv</td><td>c(-106.252863, -106.252863, -107.9038794, -107.9038794, -106.252863)</td><td>c(39.150357, 37.933364, 37.933364, 39.150357, 39.150357)</td></tr>\n",
       "\t<tr><td>../../data/networks//mangal/weighted/5179.csv</td><td>c(-106.252863, -106.252863, -107.9038794, -107.9038794, -106.252863)</td><td>c(39.150357, 37.933364, 37.933364, 39.150357, 39.150357)</td></tr>\n",
       "\t<tr><td>../../data/networks//mangal/weighted/5144.csv</td><td>c(-106.252863, -106.252863, -107.9038794, -107.9038794, -106.252863)</td><td>c(39.150357, 37.933364, 37.933364, 39.150357, 39.150357)</td></tr>\n",
       "\t<tr><td>../../data/networks//mangal/weighted/5193.csv</td><td>c(-106.252863, -106.252863, -107.9038794, -107.9038794, -106.252863)</td><td>c(39.150357, 37.933364, 37.933364, 39.150357, 39.150357)</td></tr>\n",
       "\t<tr><td>../../data/networks//mangal/weighted/5133.csv</td><td>c(-106.252863, -106.252863, -107.9038794, -107.9038794, -106.252863)</td><td>c(39.150357, 37.933364, 37.933364, 39.150357, 39.150357)</td></tr>\n",
       "\t<tr><td>../../data/networks//mangal/binary/949.csv   </td><td>-70.266668                                                          </td><td>-33.283334                                              </td></tr>\n",
       "\t<tr><td>../../data/networks//mangal/binary/1676.csv  </td><td>124.752                                                             </td><td>1.606                                                   </td></tr>\n",
       "\t<tr><td>../../data/networks//mangal/binary/1073.csv  </td><td>124.752                                                             </td><td>1.606                                                   </td></tr>\n",
       "\t<tr><td>⋮</td><td>⋮</td><td>⋮</td></tr>\n",
       "\t<tr><td>../../data/networks//web_of_life/weighted/M_PL_009.csv   </td><td>18.5       </td><td>68.35     </td></tr>\n",
       "\t<tr><td>../../data/networks//web_of_life/weighted/M_PL_020.csv   </td><td>-71.3      </td><td>81.816667 </td></tr>\n",
       "\t<tr><td>../../data/networks//web_of_life/weighted/M_PL_072_01.csv</td><td>-58.358571 </td><td>-37.84201 </td></tr>\n",
       "\t<tr><td>../../data/networks//web_of_life/weighted/M_PL_036.csv   </td><td>-31.227222 </td><td>39.466667 </td></tr>\n",
       "\t<tr><td>../../data/networks//web_of_life/weighted/M_PL_022.csv   </td><td>-69.7      </td><td>-34.166667</td></tr>\n",
       "\t<tr><td>../../data/networks//web_of_life/weighted/M_PL_072_03.csv</td><td>-58.248473 </td><td>-37.757206</td></tr>\n",
       "\t<tr><td>../../data/networks//web_of_life/weighted/M_PL_034.csv   </td><td>-73.583333 </td><td>-42.0     </td></tr>\n",
       "\t<tr><td>../../data/networks//web_of_life/weighted/M_PL_008.csv   </td><td>-16.633333 </td><td>28.216667 </td></tr>\n",
       "\t<tr><td>../../data/networks//web_of_life/weighted/M_PL_072_02.csv</td><td>-58.231541 </td><td>-37.739033</td></tr>\n",
       "\t<tr><td>../../data/networks//web_of_life/weighted/M_PL_037.csv   </td><td>9.973652   </td><td>56.248737 </td></tr>\n",
       "\t<tr><td>../../data/networks//web_of_life/weighted/M_PL_023.csv   </td><td>-69.283333 </td><td>-33.0     </td></tr>\n",
       "\t<tr><td>../../data/networks//web_of_life/weighted/M_PL_005.csv   </td><td>-105.043821</td><td>38.841784 </td></tr>\n",
       "\t<tr><td>../../data/networks//web_of_life/weighted/M_PL_012.csv   </td><td>-17.248908 </td><td>28.127842 </td></tr>\n",
       "\t<tr><td>../../data/networks//web_of_life/weighted/M_PL_039.csv   </td><td>-16.605556 </td><td>28.268611 </td></tr>\n",
       "\t<tr><td>../../data/networks//web_of_life/weighted/M_PL_011.csv   </td><td>57.552152  </td><td>-20.348404</td></tr>\n",
       "\t<tr><td>../../data/networks//web_of_life/weighted/M_PL_010.csv   </td><td>-20.5      </td><td>74.5      </td></tr>\n",
       "\t<tr><td>../../data/networks//web_of_life/weighted/M_PL_014.csv   </td><td>-71.3      </td><td>81.816667 </td></tr>\n",
       "\t<tr><td>../../data/networks//web_of_life/weighted/M_PL_038.csv   </td><td>9.993652   </td><td>56.238737 </td></tr>\n",
       "\t<tr><td>../../data/networks//web_of_life/weighted/M_PL_028.csv   </td><td>171.78466  </td><td>-43.02823 </td></tr>\n",
       "\t<tr><td>../../data/networks//web_of_life/weighted/M_PL_072_09.csv</td><td>-58.284845 </td><td>-37.753358</td></tr>\n",
       "\t<tr><td>../../data/networks//web_of_life/weighted/M_PL_001.csv   </td><td>-70.266668 </td><td>-33.283334</td></tr>\n",
       "\t<tr><td>../../data/networks//web_of_life/weighted/M_PL_072_08.csv</td><td>-58.379999 </td><td>-37.875464</td></tr>\n",
       "\t<tr><td>../../data/networks//web_of_life/weighted/M_PL_015.csv   </td><td>23.635043  </td><td>38.014466 </td></tr>\n",
       "\t<tr><td>../../data/networks//web_of_life/weighted/M_PL_029.csv   </td><td>171.720224 </td><td>-43.099531</td></tr>\n",
       "\t<tr><td>../../data/networks//web_of_life/weighted/M_PL_003.csv   </td><td>-70.266668 </td><td>-33.283334</td></tr>\n",
       "\t<tr><td>../../data/networks//web_of_life/weighted/M_PL_002.csv   </td><td>-70.266668 </td><td>-33.283334</td></tr>\n",
       "\t<tr><td>../../data/networks//web_of_life/weighted/M_PL_016.csv   </td><td>-6.55      </td><td>37.016667 </td></tr>\n",
       "\t<tr><td>../../data/networks//web_of_life/weighted/M_PL_048.csv   </td><td>9.1        </td><td>56.1      </td></tr>\n",
       "\t<tr><td>../../data/networks//web_of_life/weighted/M_PL_062.csv   </td><td>-89.8968771</td><td>39.278958 </td></tr>\n",
       "\t<tr><td>../../data/networks//web_of_life/weighted/M_PL_049.csv   </td><td>10.216667  </td><td>56.066667 </td></tr>\n",
       "</tbody>\n",
       "</table>\n"
      ],
      "text/latex": [
       "A tibble: 679 × 3\n",
       "\\begin{tabular}{lll}\n",
       " path & Longitude & Latitude\\\\\n",
       " <chr> & <chr> & <chr>\\\\\n",
       "\\hline\n",
       "\t ../../data/networks//mangal/weighted/5129.csv & c(-106.252863, -106.252863, -107.9038794, -107.9038794, -106.252863) & c(39.150357, 37.933364, 37.933364, 39.150357, 39.150357)\\\\\n",
       "\t ../../data/networks//mangal/weighted/1598.csv & -16.633333                                                           & 28.216667                                               \\\\\n",
       "\t ../../data/networks//mangal/weighted/5175.csv & c(-106.252863, -106.252863, -107.9038794, -107.9038794, -106.252863) & c(39.150357, 37.933364, 37.933364, 39.150357, 39.150357)\\\\\n",
       "\t ../../data/networks//mangal/weighted/5015.csv & 3.177                                                                & 42.352                                                  \\\\\n",
       "\t ../../data/networks//mangal/weighted/5149.csv & c(-106.252863, -106.252863, -107.9038794, -107.9038794, -106.252863) & c(39.150357, 37.933364, 37.933364, 39.150357, 39.150357)\\\\\n",
       "\t ../../data/networks//mangal/weighted/5148.csv & c(-106.252863, -106.252863, -107.9038794, -107.9038794, -106.252863) & c(39.150357, 37.933364, 37.933364, 39.150357, 39.150357)\\\\\n",
       "\t ../../data/networks//mangal/weighted/5174.csv & c(-106.252863, -106.252863, -107.9038794, -107.9038794, -106.252863) & c(39.150357, 37.933364, 37.933364, 39.150357, 39.150357)\\\\\n",
       "\t ../../data/networks//mangal/weighted/5176.csv & c(-106.252863, -106.252863, -107.9038794, -107.9038794, -106.252863) & c(39.150357, 37.933364, 37.933364, 39.150357, 39.150357)\\\\\n",
       "\t ../../data/networks//mangal/weighted/5189.csv & c(-106.252863, -106.252863, -107.9038794, -107.9038794, -106.252863) & c(39.150357, 37.933364, 37.933364, 39.150357, 39.150357)\\\\\n",
       "\t ../../data/networks//mangal/weighted/5163.csv & c(-106.252863, -106.252863, -107.9038794, -107.9038794, -106.252863) & c(39.150357, 37.933364, 37.933364, 39.150357, 39.150357)\\\\\n",
       "\t ../../data/networks//mangal/weighted/5177.csv & c(-106.252863, -106.252863, -107.9038794, -107.9038794, -106.252863) & c(39.150357, 37.933364, 37.933364, 39.150357, 39.150357)\\\\\n",
       "\t ../../data/networks//mangal/weighted/5020.csv & 3.297                                                                & 42.323                                                  \\\\\n",
       "\t ../../data/networks//mangal/weighted/5154.csv & c(-106.252863, -106.252863, -107.9038794, -107.9038794, -106.252863) & c(39.150357, 37.933364, 37.933364, 39.150357, 39.150357)\\\\\n",
       "\t ../../data/networks//mangal/weighted/5182.csv & c(-106.252863, -106.252863, -107.9038794, -107.9038794, -106.252863) & c(39.150357, 37.933364, 37.933364, 39.150357, 39.150357)\\\\\n",
       "\t ../../data/networks//mangal/weighted/909.csv  & 18.5                                                                 & 68.35                                                   \\\\\n",
       "\t ../../data/networks//mangal/weighted/5194.csv & c(-106.252863, -106.252863, -107.9038794, -107.9038794, -106.252863) & c(39.150357, 37.933364, 37.933364, 39.150357, 39.150357)\\\\\n",
       "\t ../../data/networks//mangal/weighted/5142.csv & c(-106.252863, -106.252863, -107.9038794, -107.9038794, -106.252863) & c(39.150357, 37.933364, 37.933364, 39.150357, 39.150357)\\\\\n",
       "\t ../../data/networks//mangal/weighted/5181.csv & c(-106.252863, -106.252863, -107.9038794, -107.9038794, -106.252863) & c(39.150357, 37.933364, 37.933364, 39.150357, 39.150357)\\\\\n",
       "\t ../../data/networks//mangal/weighted/5026.csv & 3.231                                                                & 42.3                                                    \\\\\n",
       "\t ../../data/networks//mangal/weighted/5146.csv & c(-106.252863, -106.252863, -107.9038794, -107.9038794, -106.252863) & c(39.150357, 37.933364, 37.933364, 39.150357, 39.150357)\\\\\n",
       "\t ../../data/networks//mangal/weighted/5147.csv & c(-106.252863, -106.252863, -107.9038794, -107.9038794, -106.252863) & c(39.150357, 37.933364, 37.933364, 39.150357, 39.150357)\\\\\n",
       "\t ../../data/networks//mangal/weighted/5190.csv & c(-106.252863, -106.252863, -107.9038794, -107.9038794, -106.252863) & c(39.150357, 37.933364, 37.933364, 39.150357, 39.150357)\\\\\n",
       "\t ../../data/networks//mangal/weighted/5184.csv & c(-106.252863, -106.252863, -107.9038794, -107.9038794, -106.252863) & c(39.150357, 37.933364, 37.933364, 39.150357, 39.150357)\\\\\n",
       "\t ../../data/networks//mangal/weighted/5179.csv & c(-106.252863, -106.252863, -107.9038794, -107.9038794, -106.252863) & c(39.150357, 37.933364, 37.933364, 39.150357, 39.150357)\\\\\n",
       "\t ../../data/networks//mangal/weighted/5144.csv & c(-106.252863, -106.252863, -107.9038794, -107.9038794, -106.252863) & c(39.150357, 37.933364, 37.933364, 39.150357, 39.150357)\\\\\n",
       "\t ../../data/networks//mangal/weighted/5193.csv & c(-106.252863, -106.252863, -107.9038794, -107.9038794, -106.252863) & c(39.150357, 37.933364, 37.933364, 39.150357, 39.150357)\\\\\n",
       "\t ../../data/networks//mangal/weighted/5133.csv & c(-106.252863, -106.252863, -107.9038794, -107.9038794, -106.252863) & c(39.150357, 37.933364, 37.933364, 39.150357, 39.150357)\\\\\n",
       "\t ../../data/networks//mangal/binary/949.csv    & -70.266668                                                           & -33.283334                                              \\\\\n",
       "\t ../../data/networks//mangal/binary/1676.csv   & 124.752                                                              & 1.606                                                   \\\\\n",
       "\t ../../data/networks//mangal/binary/1073.csv   & 124.752                                                              & 1.606                                                   \\\\\n",
       "\t ⋮ & ⋮ & ⋮\\\\\n",
       "\t ../../data/networks//web\\_of\\_life/weighted/M\\_PL\\_009.csv    & 18.5        & 68.35     \\\\\n",
       "\t ../../data/networks//web\\_of\\_life/weighted/M\\_PL\\_020.csv    & -71.3       & 81.816667 \\\\\n",
       "\t ../../data/networks//web\\_of\\_life/weighted/M\\_PL\\_072\\_01.csv & -58.358571  & -37.84201 \\\\\n",
       "\t ../../data/networks//web\\_of\\_life/weighted/M\\_PL\\_036.csv    & -31.227222  & 39.466667 \\\\\n",
       "\t ../../data/networks//web\\_of\\_life/weighted/M\\_PL\\_022.csv    & -69.7       & -34.166667\\\\\n",
       "\t ../../data/networks//web\\_of\\_life/weighted/M\\_PL\\_072\\_03.csv & -58.248473  & -37.757206\\\\\n",
       "\t ../../data/networks//web\\_of\\_life/weighted/M\\_PL\\_034.csv    & -73.583333  & -42.0     \\\\\n",
       "\t ../../data/networks//web\\_of\\_life/weighted/M\\_PL\\_008.csv    & -16.633333  & 28.216667 \\\\\n",
       "\t ../../data/networks//web\\_of\\_life/weighted/M\\_PL\\_072\\_02.csv & -58.231541  & -37.739033\\\\\n",
       "\t ../../data/networks//web\\_of\\_life/weighted/M\\_PL\\_037.csv    & 9.973652    & 56.248737 \\\\\n",
       "\t ../../data/networks//web\\_of\\_life/weighted/M\\_PL\\_023.csv    & -69.283333  & -33.0     \\\\\n",
       "\t ../../data/networks//web\\_of\\_life/weighted/M\\_PL\\_005.csv    & -105.043821 & 38.841784 \\\\\n",
       "\t ../../data/networks//web\\_of\\_life/weighted/M\\_PL\\_012.csv    & -17.248908  & 28.127842 \\\\\n",
       "\t ../../data/networks//web\\_of\\_life/weighted/M\\_PL\\_039.csv    & -16.605556  & 28.268611 \\\\\n",
       "\t ../../data/networks//web\\_of\\_life/weighted/M\\_PL\\_011.csv    & 57.552152   & -20.348404\\\\\n",
       "\t ../../data/networks//web\\_of\\_life/weighted/M\\_PL\\_010.csv    & -20.5       & 74.5      \\\\\n",
       "\t ../../data/networks//web\\_of\\_life/weighted/M\\_PL\\_014.csv    & -71.3       & 81.816667 \\\\\n",
       "\t ../../data/networks//web\\_of\\_life/weighted/M\\_PL\\_038.csv    & 9.993652    & 56.238737 \\\\\n",
       "\t ../../data/networks//web\\_of\\_life/weighted/M\\_PL\\_028.csv    & 171.78466   & -43.02823 \\\\\n",
       "\t ../../data/networks//web\\_of\\_life/weighted/M\\_PL\\_072\\_09.csv & -58.284845  & -37.753358\\\\\n",
       "\t ../../data/networks//web\\_of\\_life/weighted/M\\_PL\\_001.csv    & -70.266668  & -33.283334\\\\\n",
       "\t ../../data/networks//web\\_of\\_life/weighted/M\\_PL\\_072\\_08.csv & -58.379999  & -37.875464\\\\\n",
       "\t ../../data/networks//web\\_of\\_life/weighted/M\\_PL\\_015.csv    & 23.635043   & 38.014466 \\\\\n",
       "\t ../../data/networks//web\\_of\\_life/weighted/M\\_PL\\_029.csv    & 171.720224  & -43.099531\\\\\n",
       "\t ../../data/networks//web\\_of\\_life/weighted/M\\_PL\\_003.csv    & -70.266668  & -33.283334\\\\\n",
       "\t ../../data/networks//web\\_of\\_life/weighted/M\\_PL\\_002.csv    & -70.266668  & -33.283334\\\\\n",
       "\t ../../data/networks//web\\_of\\_life/weighted/M\\_PL\\_016.csv    & -6.55       & 37.016667 \\\\\n",
       "\t ../../data/networks//web\\_of\\_life/weighted/M\\_PL\\_048.csv    & 9.1         & 56.1      \\\\\n",
       "\t ../../data/networks//web\\_of\\_life/weighted/M\\_PL\\_062.csv    & -89.8968771 & 39.278958 \\\\\n",
       "\t ../../data/networks//web\\_of\\_life/weighted/M\\_PL\\_049.csv    & 10.216667   & 56.066667 \\\\\n",
       "\\end{tabular}\n"
      ],
      "text/markdown": [
       "\n",
       "A tibble: 679 × 3\n",
       "\n",
       "| path &lt;chr&gt; | Longitude &lt;chr&gt; | Latitude &lt;chr&gt; |\n",
       "|---|---|---|\n",
       "| ../../data/networks//mangal/weighted/5129.csv | c(-106.252863, -106.252863, -107.9038794, -107.9038794, -106.252863) | c(39.150357, 37.933364, 37.933364, 39.150357, 39.150357) |\n",
       "| ../../data/networks//mangal/weighted/1598.csv | -16.633333                                                           | 28.216667                                                |\n",
       "| ../../data/networks//mangal/weighted/5175.csv | c(-106.252863, -106.252863, -107.9038794, -107.9038794, -106.252863) | c(39.150357, 37.933364, 37.933364, 39.150357, 39.150357) |\n",
       "| ../../data/networks//mangal/weighted/5015.csv | 3.177                                                                | 42.352                                                   |\n",
       "| ../../data/networks//mangal/weighted/5149.csv | c(-106.252863, -106.252863, -107.9038794, -107.9038794, -106.252863) | c(39.150357, 37.933364, 37.933364, 39.150357, 39.150357) |\n",
       "| ../../data/networks//mangal/weighted/5148.csv | c(-106.252863, -106.252863, -107.9038794, -107.9038794, -106.252863) | c(39.150357, 37.933364, 37.933364, 39.150357, 39.150357) |\n",
       "| ../../data/networks//mangal/weighted/5174.csv | c(-106.252863, -106.252863, -107.9038794, -107.9038794, -106.252863) | c(39.150357, 37.933364, 37.933364, 39.150357, 39.150357) |\n",
       "| ../../data/networks//mangal/weighted/5176.csv | c(-106.252863, -106.252863, -107.9038794, -107.9038794, -106.252863) | c(39.150357, 37.933364, 37.933364, 39.150357, 39.150357) |\n",
       "| ../../data/networks//mangal/weighted/5189.csv | c(-106.252863, -106.252863, -107.9038794, -107.9038794, -106.252863) | c(39.150357, 37.933364, 37.933364, 39.150357, 39.150357) |\n",
       "| ../../data/networks//mangal/weighted/5163.csv | c(-106.252863, -106.252863, -107.9038794, -107.9038794, -106.252863) | c(39.150357, 37.933364, 37.933364, 39.150357, 39.150357) |\n",
       "| ../../data/networks//mangal/weighted/5177.csv | c(-106.252863, -106.252863, -107.9038794, -107.9038794, -106.252863) | c(39.150357, 37.933364, 37.933364, 39.150357, 39.150357) |\n",
       "| ../../data/networks//mangal/weighted/5020.csv | 3.297                                                                | 42.323                                                   |\n",
       "| ../../data/networks//mangal/weighted/5154.csv | c(-106.252863, -106.252863, -107.9038794, -107.9038794, -106.252863) | c(39.150357, 37.933364, 37.933364, 39.150357, 39.150357) |\n",
       "| ../../data/networks//mangal/weighted/5182.csv | c(-106.252863, -106.252863, -107.9038794, -107.9038794, -106.252863) | c(39.150357, 37.933364, 37.933364, 39.150357, 39.150357) |\n",
       "| ../../data/networks//mangal/weighted/909.csv  | 18.5                                                                 | 68.35                                                    |\n",
       "| ../../data/networks//mangal/weighted/5194.csv | c(-106.252863, -106.252863, -107.9038794, -107.9038794, -106.252863) | c(39.150357, 37.933364, 37.933364, 39.150357, 39.150357) |\n",
       "| ../../data/networks//mangal/weighted/5142.csv | c(-106.252863, -106.252863, -107.9038794, -107.9038794, -106.252863) | c(39.150357, 37.933364, 37.933364, 39.150357, 39.150357) |\n",
       "| ../../data/networks//mangal/weighted/5181.csv | c(-106.252863, -106.252863, -107.9038794, -107.9038794, -106.252863) | c(39.150357, 37.933364, 37.933364, 39.150357, 39.150357) |\n",
       "| ../../data/networks//mangal/weighted/5026.csv | 3.231                                                                | 42.3                                                     |\n",
       "| ../../data/networks//mangal/weighted/5146.csv | c(-106.252863, -106.252863, -107.9038794, -107.9038794, -106.252863) | c(39.150357, 37.933364, 37.933364, 39.150357, 39.150357) |\n",
       "| ../../data/networks//mangal/weighted/5147.csv | c(-106.252863, -106.252863, -107.9038794, -107.9038794, -106.252863) | c(39.150357, 37.933364, 37.933364, 39.150357, 39.150357) |\n",
       "| ../../data/networks//mangal/weighted/5190.csv | c(-106.252863, -106.252863, -107.9038794, -107.9038794, -106.252863) | c(39.150357, 37.933364, 37.933364, 39.150357, 39.150357) |\n",
       "| ../../data/networks//mangal/weighted/5184.csv | c(-106.252863, -106.252863, -107.9038794, -107.9038794, -106.252863) | c(39.150357, 37.933364, 37.933364, 39.150357, 39.150357) |\n",
       "| ../../data/networks//mangal/weighted/5179.csv | c(-106.252863, -106.252863, -107.9038794, -107.9038794, -106.252863) | c(39.150357, 37.933364, 37.933364, 39.150357, 39.150357) |\n",
       "| ../../data/networks//mangal/weighted/5144.csv | c(-106.252863, -106.252863, -107.9038794, -107.9038794, -106.252863) | c(39.150357, 37.933364, 37.933364, 39.150357, 39.150357) |\n",
       "| ../../data/networks//mangal/weighted/5193.csv | c(-106.252863, -106.252863, -107.9038794, -107.9038794, -106.252863) | c(39.150357, 37.933364, 37.933364, 39.150357, 39.150357) |\n",
       "| ../../data/networks//mangal/weighted/5133.csv | c(-106.252863, -106.252863, -107.9038794, -107.9038794, -106.252863) | c(39.150357, 37.933364, 37.933364, 39.150357, 39.150357) |\n",
       "| ../../data/networks//mangal/binary/949.csv    | -70.266668                                                           | -33.283334                                               |\n",
       "| ../../data/networks//mangal/binary/1676.csv   | 124.752                                                              | 1.606                                                    |\n",
       "| ../../data/networks//mangal/binary/1073.csv   | 124.752                                                              | 1.606                                                    |\n",
       "| ⋮ | ⋮ | ⋮ |\n",
       "| ../../data/networks//web_of_life/weighted/M_PL_009.csv    | 18.5        | 68.35      |\n",
       "| ../../data/networks//web_of_life/weighted/M_PL_020.csv    | -71.3       | 81.816667  |\n",
       "| ../../data/networks//web_of_life/weighted/M_PL_072_01.csv | -58.358571  | -37.84201  |\n",
       "| ../../data/networks//web_of_life/weighted/M_PL_036.csv    | -31.227222  | 39.466667  |\n",
       "| ../../data/networks//web_of_life/weighted/M_PL_022.csv    | -69.7       | -34.166667 |\n",
       "| ../../data/networks//web_of_life/weighted/M_PL_072_03.csv | -58.248473  | -37.757206 |\n",
       "| ../../data/networks//web_of_life/weighted/M_PL_034.csv    | -73.583333  | -42.0      |\n",
       "| ../../data/networks//web_of_life/weighted/M_PL_008.csv    | -16.633333  | 28.216667  |\n",
       "| ../../data/networks//web_of_life/weighted/M_PL_072_02.csv | -58.231541  | -37.739033 |\n",
       "| ../../data/networks//web_of_life/weighted/M_PL_037.csv    | 9.973652    | 56.248737  |\n",
       "| ../../data/networks//web_of_life/weighted/M_PL_023.csv    | -69.283333  | -33.0      |\n",
       "| ../../data/networks//web_of_life/weighted/M_PL_005.csv    | -105.043821 | 38.841784  |\n",
       "| ../../data/networks//web_of_life/weighted/M_PL_012.csv    | -17.248908  | 28.127842  |\n",
       "| ../../data/networks//web_of_life/weighted/M_PL_039.csv    | -16.605556  | 28.268611  |\n",
       "| ../../data/networks//web_of_life/weighted/M_PL_011.csv    | 57.552152   | -20.348404 |\n",
       "| ../../data/networks//web_of_life/weighted/M_PL_010.csv    | -20.5       | 74.5       |\n",
       "| ../../data/networks//web_of_life/weighted/M_PL_014.csv    | -71.3       | 81.816667  |\n",
       "| ../../data/networks//web_of_life/weighted/M_PL_038.csv    | 9.993652    | 56.238737  |\n",
       "| ../../data/networks//web_of_life/weighted/M_PL_028.csv    | 171.78466   | -43.02823  |\n",
       "| ../../data/networks//web_of_life/weighted/M_PL_072_09.csv | -58.284845  | -37.753358 |\n",
       "| ../../data/networks//web_of_life/weighted/M_PL_001.csv    | -70.266668  | -33.283334 |\n",
       "| ../../data/networks//web_of_life/weighted/M_PL_072_08.csv | -58.379999  | -37.875464 |\n",
       "| ../../data/networks//web_of_life/weighted/M_PL_015.csv    | 23.635043   | 38.014466  |\n",
       "| ../../data/networks//web_of_life/weighted/M_PL_029.csv    | 171.720224  | -43.099531 |\n",
       "| ../../data/networks//web_of_life/weighted/M_PL_003.csv    | -70.266668  | -33.283334 |\n",
       "| ../../data/networks//web_of_life/weighted/M_PL_002.csv    | -70.266668  | -33.283334 |\n",
       "| ../../data/networks//web_of_life/weighted/M_PL_016.csv    | -6.55       | 37.016667  |\n",
       "| ../../data/networks//web_of_life/weighted/M_PL_048.csv    | 9.1         | 56.1       |\n",
       "| ../../data/networks//web_of_life/weighted/M_PL_062.csv    | -89.8968771 | 39.278958  |\n",
       "| ../../data/networks//web_of_life/weighted/M_PL_049.csv    | 10.216667   | 56.066667  |\n",
       "\n"
      ],
      "text/plain": [
       "    path                                                     \n",
       "1   ../../data/networks//mangal/weighted/5129.csv            \n",
       "2   ../../data/networks//mangal/weighted/1598.csv            \n",
       "3   ../../data/networks//mangal/weighted/5175.csv            \n",
       "4   ../../data/networks//mangal/weighted/5015.csv            \n",
       "5   ../../data/networks//mangal/weighted/5149.csv            \n",
       "6   ../../data/networks//mangal/weighted/5148.csv            \n",
       "7   ../../data/networks//mangal/weighted/5174.csv            \n",
       "8   ../../data/networks//mangal/weighted/5176.csv            \n",
       "9   ../../data/networks//mangal/weighted/5189.csv            \n",
       "10  ../../data/networks//mangal/weighted/5163.csv            \n",
       "11  ../../data/networks//mangal/weighted/5177.csv            \n",
       "12  ../../data/networks//mangal/weighted/5020.csv            \n",
       "13  ../../data/networks//mangal/weighted/5154.csv            \n",
       "14  ../../data/networks//mangal/weighted/5182.csv            \n",
       "15  ../../data/networks//mangal/weighted/909.csv             \n",
       "16  ../../data/networks//mangal/weighted/5194.csv            \n",
       "17  ../../data/networks//mangal/weighted/5142.csv            \n",
       "18  ../../data/networks//mangal/weighted/5181.csv            \n",
       "19  ../../data/networks//mangal/weighted/5026.csv            \n",
       "20  ../../data/networks//mangal/weighted/5146.csv            \n",
       "21  ../../data/networks//mangal/weighted/5147.csv            \n",
       "22  ../../data/networks//mangal/weighted/5190.csv            \n",
       "23  ../../data/networks//mangal/weighted/5184.csv            \n",
       "24  ../../data/networks//mangal/weighted/5179.csv            \n",
       "25  ../../data/networks//mangal/weighted/5144.csv            \n",
       "26  ../../data/networks//mangal/weighted/5193.csv            \n",
       "27  ../../data/networks//mangal/weighted/5133.csv            \n",
       "28  ../../data/networks//mangal/binary/949.csv               \n",
       "29  ../../data/networks//mangal/binary/1676.csv              \n",
       "30  ../../data/networks//mangal/binary/1073.csv              \n",
       "⋮   ⋮                                                        \n",
       "650 ../../data/networks//web_of_life/weighted/M_PL_009.csv   \n",
       "651 ../../data/networks//web_of_life/weighted/M_PL_020.csv   \n",
       "652 ../../data/networks//web_of_life/weighted/M_PL_072_01.csv\n",
       "653 ../../data/networks//web_of_life/weighted/M_PL_036.csv   \n",
       "654 ../../data/networks//web_of_life/weighted/M_PL_022.csv   \n",
       "655 ../../data/networks//web_of_life/weighted/M_PL_072_03.csv\n",
       "656 ../../data/networks//web_of_life/weighted/M_PL_034.csv   \n",
       "657 ../../data/networks//web_of_life/weighted/M_PL_008.csv   \n",
       "658 ../../data/networks//web_of_life/weighted/M_PL_072_02.csv\n",
       "659 ../../data/networks//web_of_life/weighted/M_PL_037.csv   \n",
       "660 ../../data/networks//web_of_life/weighted/M_PL_023.csv   \n",
       "661 ../../data/networks//web_of_life/weighted/M_PL_005.csv   \n",
       "662 ../../data/networks//web_of_life/weighted/M_PL_012.csv   \n",
       "663 ../../data/networks//web_of_life/weighted/M_PL_039.csv   \n",
       "664 ../../data/networks//web_of_life/weighted/M_PL_011.csv   \n",
       "665 ../../data/networks//web_of_life/weighted/M_PL_010.csv   \n",
       "666 ../../data/networks//web_of_life/weighted/M_PL_014.csv   \n",
       "667 ../../data/networks//web_of_life/weighted/M_PL_038.csv   \n",
       "668 ../../data/networks//web_of_life/weighted/M_PL_028.csv   \n",
       "669 ../../data/networks//web_of_life/weighted/M_PL_072_09.csv\n",
       "670 ../../data/networks//web_of_life/weighted/M_PL_001.csv   \n",
       "671 ../../data/networks//web_of_life/weighted/M_PL_072_08.csv\n",
       "672 ../../data/networks//web_of_life/weighted/M_PL_015.csv   \n",
       "673 ../../data/networks//web_of_life/weighted/M_PL_029.csv   \n",
       "674 ../../data/networks//web_of_life/weighted/M_PL_003.csv   \n",
       "675 ../../data/networks//web_of_life/weighted/M_PL_002.csv   \n",
       "676 ../../data/networks//web_of_life/weighted/M_PL_016.csv   \n",
       "677 ../../data/networks//web_of_life/weighted/M_PL_048.csv   \n",
       "678 ../../data/networks//web_of_life/weighted/M_PL_062.csv   \n",
       "679 ../../data/networks//web_of_life/weighted/M_PL_049.csv   \n",
       "    Longitude                                                           \n",
       "1   c(-106.252863, -106.252863, -107.9038794, -107.9038794, -106.252863)\n",
       "2   -16.633333                                                          \n",
       "3   c(-106.252863, -106.252863, -107.9038794, -107.9038794, -106.252863)\n",
       "4   3.177                                                               \n",
       "5   c(-106.252863, -106.252863, -107.9038794, -107.9038794, -106.252863)\n",
       "6   c(-106.252863, -106.252863, -107.9038794, -107.9038794, -106.252863)\n",
       "7   c(-106.252863, -106.252863, -107.9038794, -107.9038794, -106.252863)\n",
       "8   c(-106.252863, -106.252863, -107.9038794, -107.9038794, -106.252863)\n",
       "9   c(-106.252863, -106.252863, -107.9038794, -107.9038794, -106.252863)\n",
       "10  c(-106.252863, -106.252863, -107.9038794, -107.9038794, -106.252863)\n",
       "11  c(-106.252863, -106.252863, -107.9038794, -107.9038794, -106.252863)\n",
       "12  3.297                                                               \n",
       "13  c(-106.252863, -106.252863, -107.9038794, -107.9038794, -106.252863)\n",
       "14  c(-106.252863, -106.252863, -107.9038794, -107.9038794, -106.252863)\n",
       "15  18.5                                                                \n",
       "16  c(-106.252863, -106.252863, -107.9038794, -107.9038794, -106.252863)\n",
       "17  c(-106.252863, -106.252863, -107.9038794, -107.9038794, -106.252863)\n",
       "18  c(-106.252863, -106.252863, -107.9038794, -107.9038794, -106.252863)\n",
       "19  3.231                                                               \n",
       "20  c(-106.252863, -106.252863, -107.9038794, -107.9038794, -106.252863)\n",
       "21  c(-106.252863, -106.252863, -107.9038794, -107.9038794, -106.252863)\n",
       "22  c(-106.252863, -106.252863, -107.9038794, -107.9038794, -106.252863)\n",
       "23  c(-106.252863, -106.252863, -107.9038794, -107.9038794, -106.252863)\n",
       "24  c(-106.252863, -106.252863, -107.9038794, -107.9038794, -106.252863)\n",
       "25  c(-106.252863, -106.252863, -107.9038794, -107.9038794, -106.252863)\n",
       "26  c(-106.252863, -106.252863, -107.9038794, -107.9038794, -106.252863)\n",
       "27  c(-106.252863, -106.252863, -107.9038794, -107.9038794, -106.252863)\n",
       "28  -70.266668                                                          \n",
       "29  124.752                                                             \n",
       "30  124.752                                                             \n",
       "⋮   ⋮                                                                   \n",
       "650 18.5                                                                \n",
       "651 -71.3                                                               \n",
       "652 -58.358571                                                          \n",
       "653 -31.227222                                                          \n",
       "654 -69.7                                                               \n",
       "655 -58.248473                                                          \n",
       "656 -73.583333                                                          \n",
       "657 -16.633333                                                          \n",
       "658 -58.231541                                                          \n",
       "659 9.973652                                                            \n",
       "660 -69.283333                                                          \n",
       "661 -105.043821                                                         \n",
       "662 -17.248908                                                          \n",
       "663 -16.605556                                                          \n",
       "664 57.552152                                                           \n",
       "665 -20.5                                                               \n",
       "666 -71.3                                                               \n",
       "667 9.993652                                                            \n",
       "668 171.78466                                                           \n",
       "669 -58.284845                                                          \n",
       "670 -70.266668                                                          \n",
       "671 -58.379999                                                          \n",
       "672 23.635043                                                           \n",
       "673 171.720224                                                          \n",
       "674 -70.266668                                                          \n",
       "675 -70.266668                                                          \n",
       "676 -6.55                                                               \n",
       "677 9.1                                                                 \n",
       "678 -89.8968771                                                         \n",
       "679 10.216667                                                           \n",
       "    Latitude                                                \n",
       "1   c(39.150357, 37.933364, 37.933364, 39.150357, 39.150357)\n",
       "2   28.216667                                               \n",
       "3   c(39.150357, 37.933364, 37.933364, 39.150357, 39.150357)\n",
       "4   42.352                                                  \n",
       "5   c(39.150357, 37.933364, 37.933364, 39.150357, 39.150357)\n",
       "6   c(39.150357, 37.933364, 37.933364, 39.150357, 39.150357)\n",
       "7   c(39.150357, 37.933364, 37.933364, 39.150357, 39.150357)\n",
       "8   c(39.150357, 37.933364, 37.933364, 39.150357, 39.150357)\n",
       "9   c(39.150357, 37.933364, 37.933364, 39.150357, 39.150357)\n",
       "10  c(39.150357, 37.933364, 37.933364, 39.150357, 39.150357)\n",
       "11  c(39.150357, 37.933364, 37.933364, 39.150357, 39.150357)\n",
       "12  42.323                                                  \n",
       "13  c(39.150357, 37.933364, 37.933364, 39.150357, 39.150357)\n",
       "14  c(39.150357, 37.933364, 37.933364, 39.150357, 39.150357)\n",
       "15  68.35                                                   \n",
       "16  c(39.150357, 37.933364, 37.933364, 39.150357, 39.150357)\n",
       "17  c(39.150357, 37.933364, 37.933364, 39.150357, 39.150357)\n",
       "18  c(39.150357, 37.933364, 37.933364, 39.150357, 39.150357)\n",
       "19  42.3                                                    \n",
       "20  c(39.150357, 37.933364, 37.933364, 39.150357, 39.150357)\n",
       "21  c(39.150357, 37.933364, 37.933364, 39.150357, 39.150357)\n",
       "22  c(39.150357, 37.933364, 37.933364, 39.150357, 39.150357)\n",
       "23  c(39.150357, 37.933364, 37.933364, 39.150357, 39.150357)\n",
       "24  c(39.150357, 37.933364, 37.933364, 39.150357, 39.150357)\n",
       "25  c(39.150357, 37.933364, 37.933364, 39.150357, 39.150357)\n",
       "26  c(39.150357, 37.933364, 37.933364, 39.150357, 39.150357)\n",
       "27  c(39.150357, 37.933364, 37.933364, 39.150357, 39.150357)\n",
       "28  -33.283334                                              \n",
       "29  1.606                                                   \n",
       "30  1.606                                                   \n",
       "⋮   ⋮                                                       \n",
       "650 68.35                                                   \n",
       "651 81.816667                                               \n",
       "652 -37.84201                                               \n",
       "653 39.466667                                               \n",
       "654 -34.166667                                              \n",
       "655 -37.757206                                              \n",
       "656 -42.0                                                   \n",
       "657 28.216667                                               \n",
       "658 -37.739033                                              \n",
       "659 56.248737                                               \n",
       "660 -33.0                                                   \n",
       "661 38.841784                                               \n",
       "662 28.127842                                               \n",
       "663 28.268611                                               \n",
       "664 -20.348404                                              \n",
       "665 74.5                                                    \n",
       "666 81.816667                                               \n",
       "667 56.238737                                               \n",
       "668 -43.02823                                               \n",
       "669 -37.753358                                              \n",
       "670 -33.283334                                              \n",
       "671 -37.875464                                              \n",
       "672 38.014466                                               \n",
       "673 -43.099531                                              \n",
       "674 -33.283334                                              \n",
       "675 -33.283334                                              \n",
       "676 37.016667                                               \n",
       "677 56.1                                                    \n",
       "678 39.278958                                               \n",
       "679 56.066667                                               "
      ]
     },
     "metadata": {},
     "output_type": "display_data"
    }
   ],
   "source": [
    "Observations[, c(\"path\", \"Longitude\", \"Latitude\")]"
   ]
  },
  {
   "cell_type": "code",
   "execution_count": null,
   "id": "963da866-859e-4de0-b320-0b949db37cee",
   "metadata": {},
   "outputs": [],
   "source": [
    "#Give the observations the coordinate system it is referenced in (#This is dataset specific, if from GBIF use this number)\n",
    "st_crs(Observation_SF) = 4326 \n",
    "  \n",
    "#Set the coordinate system of the observations to be the same as the Polygona\n",
    "Observation_SF_1 = st_transform(Observation_SF,\n",
    "                          crs = st_crs(Ecoregion_Polygon_1))\n",
    "\n",
    "Observation_SF_2 = st_transform(Observation_SF,\n",
    "                          crs = st_crs(Ecoregion_Polygon_2))"
   ]
  },
  {
   "cell_type": "code",
   "execution_count": null,
   "id": "9437de11-ed1c-4f0a-843e-2ea9560dcce4",
   "metadata": {},
   "outputs": [],
   "source": [
    "# Intersect Points and Polygon --------------------------------------------\n",
    "#NOTE THAT DEPENDING ON YOUR DATA NOT ALL POINTS MAY INTERSECT WITH AN ECOREGION\n",
    "#Determine which polygon each point is in\n",
    "sf_use_s2(FALSE)\n",
    "Intersection_Data = as.data.frame(st_intersects(Observation_SF, Ecoregion_Polygon))\n",
    "\n",
    "#Convert the row.ID to the observation ID\n",
    "Intersection_Data$Obs_ID = Observations$ID[Intersection_Data$row.id]\n",
    "  \n",
    "#Convert the col.ID to the ecoregion ID\n",
    "Intersection_Data$EcoRegion = Ecoregion_Polygon$ECO_ID[Intersection_Data$col.id]"
   ]
  },
  {
   "cell_type": "code",
   "execution_count": null,
   "id": "73a4087c-0221-439d-aa84-3140407b91b6",
   "metadata": {},
   "outputs": [],
   "source": [
    "# Intersect Points and BioClim Rasters ------------------------------------\n",
    "#Determine the raster values of each point (I do this individually to make sure no errors occur)\n",
    "\n",
    "#Create a holder\n",
    "BioClim_data = as.data.frame(matrix(nrow = nrow(Observations),\n",
    "                                    ncol = length(BioClim_Rasters) +1))\n",
    "\n",
    "#Set the column names\n",
    "colnames(BioClim_data) = c(\"Obs_ID\",\n",
    "                            paste(\"BioClim_\",\n",
    "                                1:19,\n",
    "                                sep = \"\"))\n",
    "  \n",
    "#Set the observation ID\n",
    "BioClim_data$Obs_ID = Observations$ID\n",
    "  \n",
    "#Go through each raster\n",
    "for (i in 1:length(BioClim_Rasters)) \n",
    "{\n",
    "  #Extract values and place in holder\n",
    "  BioClim_data[, i+1] = extract(BioClim_Rasters[[1]], Observation_SF)\n",
    "}\n",
    "  \n",
    "\n",
    "#Add the data to the Intersection_Data for those whose ID match\n",
    "Complete_Data = merge(Intersection_Data[, c(\"Obs_ID\", \"EcoRegion\")], \n",
    "                      BioClim_data,\n",
    "                      by.x = \"Obs_ID\",\n",
    "                      by.y = \"Obs_ID\")\n",
    "```\n",
    "\n",
    "```{r}\n",
    "#Create a holder\n",
    "richness_data = as.data.frame(matrix(nrow = nrow(Observations),\n",
    "                                    ncol = length(Richness_Rasters) +1))\n",
    "\n",
    "#Set the column names\n",
    "colnames(richness_data) = c(\"Obs_ID\",\n",
    "                            \"species_richness\")\n",
    "\n",
    "#Set the observation ID\n",
    "richness_data$Obs_ID = Observations$ID\n",
    "  \n",
    "#Go through each raster\n",
    "richness_data[[\"species_richness\"]] = extract(Richness_Rasters, Observation_SF)\n",
    "  \n",
    "\n",
    "#Add the data to the Intersection_Data for those whose ID match\n",
    "Richness_Complete_Data = merge(Intersection_Data[, c(\"Obs_ID\", \"EcoRegion\")], \n",
    "                      richness_data,\n",
    "                      by.x = \"Obs_ID\",\n",
    "                      by.y = \"Obs_ID\")\n",
    "Richness_Complete_Data <- Richness_Complete_Data[c(\"Obs_ID\", \"EcoRegion\", \"species_richness\")]"
   ]
  },
  {
   "cell_type": "code",
   "execution_count": 135,
   "id": "5c5bcf06-119c-4585-8038-d01ddf0a61c2",
   "metadata": {},
   "outputs": [],
   "source": [
    "library(tidyverse)\n",
    "full_data = merge(Complete_Data, \n",
    "                  Richness_Complete_Data,\n",
    "                  by.x = \"Obs_ID\",\n",
    "                  by.y = \"Obs_ID\")\n",
    "write_csv(full_data, temp_output_for_bioclim_path)"
   ]
  },
  {
   "cell_type": "markdown",
   "id": "27f86e2f-a62c-43cc-b171-1b545a6ed99d",
   "metadata": {},
   "source": [
    "## back in linux - unite data from out_temp_input_for_bioclim_path back to networks metadata"
   ]
  },
  {
   "cell_type": "code",
   "execution_count": 147,
   "id": "ead4db76-7b94-488f-b71c-736853656939",
   "metadata": {},
   "outputs": [
    {
     "name": "stderr",
     "output_type": "stream",
     "text": [
      "\u001b[1mRows: \u001b[22m\u001b[34m384\u001b[39m \u001b[1mColumns: \u001b[22m\u001b[34m23\u001b[39m\n",
      "\u001b[36m──\u001b[39m \u001b[1mColumn specification\u001b[22m \u001b[36m────────────────────────────────────────────────────────\u001b[39m\n",
      "\u001b[1mDelimiter:\u001b[22m \",\"\n",
      "\u001b[32mdbl\u001b[39m (23): Obs_ID, EcoRegion.x, BioClim_1, BioClim_2, BioClim_3, BioClim_4, B...\n",
      "\n",
      "\u001b[36mℹ\u001b[39m Use `spec()` to retrieve the full column specification for this data.\n",
      "\u001b[36mℹ\u001b[39m Specify the column types or set `show_col_types = FALSE` to quiet this message.\n"
     ]
    }
   ],
   "source": [
    "bioclim_out_data = read_csv(temp_output_for_bioclim_path)"
   ]
  },
  {
   "cell_type": "code",
   "execution_count": 149,
   "id": "1ecd1882-741e-498a-b1a8-99d2cb834332",
   "metadata": {},
   "outputs": [],
   "source": [
    "relevant_network_metadata = merge(relevant_network_metadata, bioclim_out_data, by.x='ID', by.y = \"Obs_ID\", all.x=TRUE)"
   ]
  },
  {
   "cell_type": "code",
   "execution_count": 162,
   "id": "b434f41f-1d45-481a-b19d-0662a298cf88",
   "metadata": {},
   "outputs": [],
   "source": [
    "drop = c(\"X\", \"ID\", \"network_name\")\n",
    "relevant_network_metadata = relevant_network_metadata[, !(names(relevant_network_metadata) %in% drops)]"
   ]
  },
  {
   "cell_type": "code",
   "execution_count": 161,
   "id": "70cfec51-1402-46db-abf1-069f71305f47",
   "metadata": {},
   "outputs": [],
   "source": [
    "rest_networks_metadata = networks_metadata[is.na(networks_metadata$Latitude) | is.na(networks_metadata$Longitude), ]\n",
    "drop = c(\"X\", \"ID\", \"network_name\")\n",
    "rest_networks_metadata = rest_networks_metadata[ , !(names(rest_networks_metadata) %in% drops)]"
   ]
  },
  {
   "cell_type": "code",
   "execution_count": 167,
   "id": "5be51605-ff5f-4fb9-b8b3-39da06f596d8",
   "metadata": {},
   "outputs": [],
   "source": [
    "networks_metadata = bind_rows(relevant_network_metadata, rest_networks_metadata)"
   ]
  },
  {
   "cell_type": "code",
   "execution_count": 170,
   "id": "6ca66a9d-7bb1-4604-a246-d2034d319fbd",
   "metadata": {},
   "outputs": [],
   "source": [
    "write.csv(networks_metadata, networks_metadata_path)"
   ]
  }
 ],
 "metadata": {
  "kernelspec": {
   "display_name": "R",
   "language": "R",
   "name": "ir"
  },
  "language_info": {
   "codemirror_mode": "r",
   "file_extension": ".r",
   "mimetype": "text/x-r-source",
   "name": "R",
   "pygments_lexer": "r",
   "version": "4.1.3"
  }
 },
 "nbformat": 4,
 "nbformat_minor": 5
}
