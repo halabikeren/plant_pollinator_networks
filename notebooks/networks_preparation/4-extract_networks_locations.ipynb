{
 "cells": [
  {
   "cell_type": "code",
   "execution_count": 1,
   "id": "411aa7cf-25ea-40e5-8d97-64408077cad9",
   "metadata": {},
   "outputs": [
    {
     "name": "stderr",
     "output_type": "stream",
     "text": [
      "Skipping install of 'rmangal' from a github remote, the SHA1 (87df6fd8) has not changed since last install.\n",
      "  Use `force = TRUE` to force installation\n",
      "\n"
     ]
    }
   ],
   "source": [
    "remotes::install_github(\"ropensci/rmangal\")"
   ]
  },
  {
   "cell_type": "code",
   "execution_count": 2,
   "id": "99b56829-9d0f-47bf-b603-9c392369eba4",
   "metadata": {},
   "outputs": [
    {
     "name": "stderr",
     "output_type": "stream",
     "text": [
      "── \u001b[1mAttaching packages\u001b[22m ─────────────────────────────────────── tidyverse 1.3.2 ──\n",
      "\u001b[32m✔\u001b[39m \u001b[34mggplot2\u001b[39m 3.4.1     \u001b[32m✔\u001b[39m \u001b[34mpurrr  \u001b[39m 1.0.1\n",
      "\u001b[32m✔\u001b[39m \u001b[34mtibble \u001b[39m 3.2.1     \u001b[32m✔\u001b[39m \u001b[34mdplyr  \u001b[39m 1.1.1\n",
      "\u001b[32m✔\u001b[39m \u001b[34mtidyr  \u001b[39m 1.3.0     \u001b[32m✔\u001b[39m \u001b[34mstringr\u001b[39m 1.5.0\n",
      "\u001b[32m✔\u001b[39m \u001b[34mreadr  \u001b[39m 2.1.4     \u001b[32m✔\u001b[39m \u001b[34mforcats\u001b[39m 1.0.0\n",
      "── \u001b[1mConflicts\u001b[22m ────────────────────────────────────────── tidyverse_conflicts() ──\n",
      "\u001b[31m✖\u001b[39m \u001b[34mdplyr\u001b[39m::\u001b[32mfilter()\u001b[39m masks \u001b[34mstats\u001b[39m::filter()\n",
      "\u001b[31m✖\u001b[39m \u001b[34mdplyr\u001b[39m::\u001b[32mlag()\u001b[39m    masks \u001b[34mstats\u001b[39m::lag()\n",
      "\n",
      "Attaching package: ‘magrittr’\n",
      "\n",
      "\n",
      "The following object is masked from ‘package:purrr’:\n",
      "\n",
      "    set_names\n",
      "\n",
      "\n",
      "The following object is masked from ‘package:tidyr’:\n",
      "\n",
      "    extract\n",
      "\n",
      "\n",
      "Linking to GEOS 3.10.2, GDAL 3.5.0, PROJ 9.0.0; sf_use_s2() is TRUE\n",
      "\n",
      "Loading required package: sp\n",
      "\n",
      "\n",
      "Attaching package: ‘raster’\n",
      "\n",
      "\n",
      "The following object is masked from ‘package:dplyr’:\n",
      "\n",
      "    select\n",
      "\n",
      "\n"
     ]
    }
   ],
   "source": [
    "library(tidyverse)\n",
    "library(magrittr)\n",
    "library(dplyr)\n",
    "library(sf)\n",
    "library(rmangal)\n",
    "library(raster)"
   ]
  },
  {
   "cell_type": "code",
   "execution_count": 52,
   "id": "948b6439-2dbf-45e8-b09b-c8267310abc8",
   "metadata": {},
   "outputs": [],
   "source": [
    "networks_metadata_path = \"../../data/networks/all/networks_metadata.csv\"\n",
    "\n",
    "rmangal_observations_data_path = \"../../data/networks/metadata/parsed_rmangal_networks_metadata.csv\"\n",
    "rmangal_metadata_path = \"../../data/networks/metadata/all_rmangal_networks.csv\"\n",
    "\n",
    "ecoregion_polygon_data_path1 = \"../../data/networks/metadata/polygon/WWF/wwf_terr_ecos.shp\"\n",
    "ecoregion_polygon_data_path2 = \"../../data/networks/metadata/polygon/Ecoregions2017/Ecoregions2017.shp\"\n",
    "\n",
    "temp_input_for_bioclim_path = \"../../data/networks/all/geo_avail_networks_metadata.csv\"\n",
    "temp_output_for_bioclim_path = \"../../data/networks/all/geo_extracted_networks_metadata.csv\"\n",
    "bioclim_dir = \"../../data/networks/metadata/bioclimate/\"\n",
    "richness_data_path = \"../../data/networks/metadata/Richness_2021.tif\"\n",
    "rmangal_geodata_path = \"../../data/networks/rmangal_networks_geodata.csv\""
   ]
  },
  {
   "cell_type": "markdown",
   "id": "9afd90d0-13a7-4861-b66e-d2769f338142",
   "metadata": {
    "tags": []
   },
   "source": [
    "# Mangal"
   ]
  },
  {
   "cell_type": "code",
   "execution_count": 11,
   "id": "acb3c1a6-c3ad-4653-be69-9eaae57b0756",
   "metadata": {},
   "outputs": [],
   "source": [
    "if (!file.exists(rmangal_metadata_path))\n",
    "{\n",
    "    pollination_interactions<- search_interactions(type = \"mutualism\")\n",
    "    network_ids = unique(pollination_interactions$network_id)\n",
    "    length(network_ids)\n",
    "    \n",
    "    all_networks_data = data.frame()\n",
    "    network_metadata_dfs = list()\n",
    "    num_avail = 0\n",
    "    for (i in 1:length(network_ids)) #length(pollination_networks)\n",
    "    {\n",
    "      if (i %% 10 == 0) \n",
    "      {\n",
    "        print(i)\n",
    "        print(num_avail)\n",
    "      }\n",
    "      networks = search_networks(list(id=nth(network_ids,i)))  %>% get_collection\n",
    "      network = networks[[1]]\n",
    "      network_data = network$network[c(\"geom_lat\", \"geom_type\", \"geom_lon\")]\n",
    "      network_ref_data = network$reference\n",
    "      network_data = bind_cols(network_data, network_ref_data)\n",
    "      network_data[[\"network_id\"]] = nth(network_ids,i)\n",
    "      network_metadata_dfs[[i]] = network_data\n",
    "      if (! is.na(network_data$geom_lon))\n",
    "      {\n",
    "        num_avail = num_avail + 1\n",
    "      }\n",
    "    df = ldply(network_metadata_dfs, rbind)\n",
    "    df <- apply(df,2,as.character)\n",
    "    write.csv(df,rmangal_metadata_path)\n",
    "    }\n",
    "}"
   ]
  },
  {
   "cell_type": "code",
   "execution_count": 5,
   "id": "dfb0e711-d565-4d38-adae-f1ef2f92b9fa",
   "metadata": {},
   "outputs": [],
   "source": [
    "rmangal_metadata = read.csv(rmangal_metadata_path)"
   ]
  },
  {
   "cell_type": "code",
   "execution_count": 8,
   "id": "c8f16d9b-edae-40af-8e91-747069c335dc",
   "metadata": {},
   "outputs": [
    {
     "data": {
      "text/html": [
       "<table class=\"dataframe\">\n",
       "<caption>A data.frame: 6 × 5</caption>\n",
       "<thead>\n",
       "\t<tr><th></th><th scope=col>network_id</th><th scope=col>doi</th><th scope=col>paper_url</th><th scope=col>geom_lon</th><th scope=col>geom_lat</th></tr>\n",
       "\t<tr><th></th><th scope=col>&lt;int&gt;</th><th scope=col>&lt;chr&gt;</th><th scope=col>&lt;chr&gt;</th><th scope=col>&lt;chr&gt;</th><th scope=col>&lt;chr&gt;</th></tr>\n",
       "</thead>\n",
       "<tbody>\n",
       "\t<tr><th scope=row>6</th><td>1419</td><td>10.1111/ele.12821</td><td>https://onlinelibrary.wiley.com/doi/full/10.1111/ele.12821</td><td>NA</td><td>NA</td></tr>\n",
       "\t<tr><th scope=row>9</th><td> 952</td><td>NA               </td><td>null                                                      </td><td>NA</td><td>NA</td></tr>\n",
       "\t<tr><th scope=row>10</th><td>1420</td><td>10.1111/ele.12821</td><td>https://onlinelibrary.wiley.com/doi/full/10.1111/ele.12821</td><td>NA</td><td>NA</td></tr>\n",
       "\t<tr><th scope=row>19</th><td>1310</td><td>10.1111/ele.12821</td><td>https://onlinelibrary.wiley.com/doi/full/10.1111/ele.12821</td><td>NA</td><td>NA</td></tr>\n",
       "\t<tr><th scope=row>20</th><td>1311</td><td>10.1111/ele.12821</td><td>https://onlinelibrary.wiley.com/doi/full/10.1111/ele.12821</td><td>NA</td><td>NA</td></tr>\n",
       "\t<tr><th scope=row>21</th><td>1307</td><td>10.1111/ele.12821</td><td>https://onlinelibrary.wiley.com/doi/full/10.1111/ele.12821</td><td>NA</td><td>NA</td></tr>\n",
       "</tbody>\n",
       "</table>\n"
      ],
      "text/latex": [
       "A data.frame: 6 × 5\n",
       "\\begin{tabular}{r|lllll}\n",
       "  & network\\_id & doi & paper\\_url & geom\\_lon & geom\\_lat\\\\\n",
       "  & <int> & <chr> & <chr> & <chr> & <chr>\\\\\n",
       "\\hline\n",
       "\t6 & 1419 & 10.1111/ele.12821 & https://onlinelibrary.wiley.com/doi/full/10.1111/ele.12821 & NA & NA\\\\\n",
       "\t9 &  952 & NA                & null                                                       & NA & NA\\\\\n",
       "\t10 & 1420 & 10.1111/ele.12821 & https://onlinelibrary.wiley.com/doi/full/10.1111/ele.12821 & NA & NA\\\\\n",
       "\t19 & 1310 & 10.1111/ele.12821 & https://onlinelibrary.wiley.com/doi/full/10.1111/ele.12821 & NA & NA\\\\\n",
       "\t20 & 1311 & 10.1111/ele.12821 & https://onlinelibrary.wiley.com/doi/full/10.1111/ele.12821 & NA & NA\\\\\n",
       "\t21 & 1307 & 10.1111/ele.12821 & https://onlinelibrary.wiley.com/doi/full/10.1111/ele.12821 & NA & NA\\\\\n",
       "\\end{tabular}\n"
      ],
      "text/markdown": [
       "\n",
       "A data.frame: 6 × 5\n",
       "\n",
       "| <!--/--> | network_id &lt;int&gt; | doi &lt;chr&gt; | paper_url &lt;chr&gt; | geom_lon &lt;chr&gt; | geom_lat &lt;chr&gt; |\n",
       "|---|---|---|---|---|---|\n",
       "| 6 | 1419 | 10.1111/ele.12821 | https://onlinelibrary.wiley.com/doi/full/10.1111/ele.12821 | NA | NA |\n",
       "| 9 |  952 | NA                | null                                                       | NA | NA |\n",
       "| 10 | 1420 | 10.1111/ele.12821 | https://onlinelibrary.wiley.com/doi/full/10.1111/ele.12821 | NA | NA |\n",
       "| 19 | 1310 | 10.1111/ele.12821 | https://onlinelibrary.wiley.com/doi/full/10.1111/ele.12821 | NA | NA |\n",
       "| 20 | 1311 | 10.1111/ele.12821 | https://onlinelibrary.wiley.com/doi/full/10.1111/ele.12821 | NA | NA |\n",
       "| 21 | 1307 | 10.1111/ele.12821 | https://onlinelibrary.wiley.com/doi/full/10.1111/ele.12821 | NA | NA |\n",
       "\n"
      ],
      "text/plain": [
       "   network_id doi              \n",
       "6  1419       10.1111/ele.12821\n",
       "9   952       NA               \n",
       "10 1420       10.1111/ele.12821\n",
       "19 1310       10.1111/ele.12821\n",
       "20 1311       10.1111/ele.12821\n",
       "21 1307       10.1111/ele.12821\n",
       "   paper_url                                                  geom_lon geom_lat\n",
       "6  https://onlinelibrary.wiley.com/doi/full/10.1111/ele.12821 NA       NA      \n",
       "9  null                                                       NA       NA      \n",
       "10 https://onlinelibrary.wiley.com/doi/full/10.1111/ele.12821 NA       NA      \n",
       "19 https://onlinelibrary.wiley.com/doi/full/10.1111/ele.12821 NA       NA      \n",
       "20 https://onlinelibrary.wiley.com/doi/full/10.1111/ele.12821 NA       NA      \n",
       "21 https://onlinelibrary.wiley.com/doi/full/10.1111/ele.12821 NA       NA      "
      ]
     },
     "metadata": {},
     "output_type": "display_data"
    }
   ],
   "source": [
    "head(rmangal_metadata[is.na(rmangal_metadata$geom_lat), ][c(\"network_id\", \"doi\", \"paper_url\", \"geom_lon\", \"geom_lat\")])"
   ]
  },
  {
   "cell_type": "code",
   "execution_count": null,
   "id": "12d0c103-87cb-4514-883a-778829907798",
   "metadata": {},
   "outputs": [],
   "source": [
    "# merge rmangal_metadata to networks_metadata"
   ]
  },
  {
   "cell_type": "markdown",
   "id": "8a9e11e8-1c59-4614-94ac-6859ad3a70e4",
   "metadata": {
    "jp-MarkdownHeadingCollapsed": true,
    "tags": []
   },
   "source": [
    "# Web of life"
   ]
  },
  {
   "cell_type": "code",
   "execution_count": 88,
   "id": "edd0ecc5-8fa9-413f-a5fb-c9f82686ed61",
   "metadata": {},
   "outputs": [],
   "source": [
    "base_url <- \"https://www.web-of-life.es/\"\n",
    "networks_metadata = read.csv(networks_metadata_path)\n",
    "non_wol_networks_metadata = networks_metadata[networks_metadata$source != \"web_of_life\", ] \n",
    "wol_networks_metadata = networks_metadata[networks_metadata$source == \"web_of_life\", ][c('network_type','network_index','path','source','is_legal','is_resolved','processed_path','is_parsed_legal')]                                                                                      \n",
    "all_nw_info <- read.csv(paste0(base_url,\"get_network_info.php\"))"
   ]
  },
  {
   "cell_type": "code",
   "execution_count": 89,
   "id": "710fff27-4c0d-4737-a22d-68dedc0cde38",
   "metadata": {},
   "outputs": [],
   "source": [
    "get_name <- function(path)\n",
    "{\n",
    "    path_name = basename(path)\n",
    "    name = unlist(strsplit(path_name, \".\", fixed=TRUE))[1]\n",
    "    return (name)\n",
    "}"
   ]
  },
  {
   "cell_type": "code",
   "execution_count": 90,
   "id": "c886eab7-3604-4644-9bb3-b2cfc9a2daf1",
   "metadata": {},
   "outputs": [],
   "source": [
    "wol_networks_metadata$network_name = unlist(lapply(wol_networks_metadata$path,get_name))"
   ]
  },
  {
   "cell_type": "code",
   "execution_count": 91,
   "id": "52ca2d36-0820-4806-82b4-0fed199468f7",
   "metadata": {},
   "outputs": [],
   "source": [
    "all_nw_info$Latitude <- all_nw_info$latitude\n",
    "all_nw_info$Longitude <- all_nw_info$longitude\n",
    "\n",
    "drops <- c(\"network_type\",\"number_components\", \"is_weighted\", \"cell_values_description\", \"abundance_description\", \"latitude\", \"longitude\")\n",
    "all_nw_info = all_nw_info[ , !(names(all_nw_info) %in% drops)]"
   ]
  },
  {
   "cell_type": "code",
   "execution_count": 92,
   "id": "b5ed20bc-b326-49e6-bde6-d8c328295c95",
   "metadata": {},
   "outputs": [
    {
     "data": {
      "text/html": [
       "<style>\n",
       ".list-inline {list-style: none; margin:0; padding: 0}\n",
       ".list-inline>li {display: inline-block}\n",
       ".list-inline>li:not(:last-child)::after {content: \"\\00b7\"; padding: 0 .5ex}\n",
       "</style>\n",
       "<ol class=list-inline><li>'network_name'</li><li>'author'</li><li>'reference'</li><li>'location'</li><li>'location_address'</li><li>'country'</li><li>'Latitude'</li><li>'Longitude'</li></ol>\n"
      ],
      "text/latex": [
       "\\begin{enumerate*}\n",
       "\\item 'network\\_name'\n",
       "\\item 'author'\n",
       "\\item 'reference'\n",
       "\\item 'location'\n",
       "\\item 'location\\_address'\n",
       "\\item 'country'\n",
       "\\item 'Latitude'\n",
       "\\item 'Longitude'\n",
       "\\end{enumerate*}\n"
      ],
      "text/markdown": [
       "1. 'network_name'\n",
       "2. 'author'\n",
       "3. 'reference'\n",
       "4. 'location'\n",
       "5. 'location_address'\n",
       "6. 'country'\n",
       "7. 'Latitude'\n",
       "8. 'Longitude'\n",
       "\n",
       "\n"
      ],
      "text/plain": [
       "[1] \"network_name\"     \"author\"           \"reference\"        \"location\"        \n",
       "[5] \"location_address\" \"country\"          \"Latitude\"         \"Longitude\"       "
      ]
     },
     "metadata": {},
     "output_type": "display_data"
    }
   ],
   "source": [
    "colnames(all_nw_info)"
   ]
  },
  {
   "cell_type": "code",
   "execution_count": 93,
   "id": "375382e7-fc7b-4c08-94a6-47a8747408a8",
   "metadata": {},
   "outputs": [],
   "source": [
    "wol_networks_metadata <- left_join(wol_networks_metadata, all_nw_info, by = join_by(network_name == network_name))"
   ]
  },
  {
   "cell_type": "code",
   "execution_count": 94,
   "id": "7b4014b7-466c-41d0-b165-3ae294844026",
   "metadata": {},
   "outputs": [],
   "source": [
    "rest_networks_metdata =  networks_metadata[networks_metadata$source != \"web_of_life\", ]"
   ]
  },
  {
   "cell_type": "code",
   "execution_count": 104,
   "id": "4b4aa498-18e7-4f1e-85fb-e5a5b3babe7d",
   "metadata": {},
   "outputs": [],
   "source": [
    "networks_metadata = bind_rows(wol_networks_metadata, rest_networks_metdata)"
   ]
  },
  {
   "cell_type": "code",
   "execution_count": 106,
   "id": "fc8c5d38-a7bc-4d71-9c13-826354b410cf",
   "metadata": {},
   "outputs": [],
   "source": [
    "write.csv(networks_metadata, networks_metadata_path)"
   ]
  }
 ],
 "metadata": {
  "kernelspec": {
   "display_name": "R",
   "language": "R",
   "name": "ir"
  },
  "language_info": {
   "codemirror_mode": "r",
   "file_extension": ".r",
   "mimetype": "text/x-r-source",
   "name": "R",
   "pygments_lexer": "r",
   "version": "4.2.3"
  }
 },
 "nbformat": 4,
 "nbformat_minor": 5
}
