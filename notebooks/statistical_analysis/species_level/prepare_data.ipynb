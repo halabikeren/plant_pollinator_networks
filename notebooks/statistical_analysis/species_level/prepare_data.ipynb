{
 "cells": [
  {
   "cell_type": "code",
   "execution_count": 4,
   "id": "71f68d96-3ab3-4d72-9757-76e2668d8858",
   "metadata": {},
   "outputs": [
    {
     "name": "stdout",
     "output_type": "stream",
     "text": [
      "INFO: Pandarallel will run on 20 workers.\n",
      "INFO: Pandarallel will use Memory file system to transfer data between the main process and workers.\n"
     ]
    }
   ],
   "source": [
    "import pandas as pd\n",
    "import numpy as np\n",
    "from ete3 import Tree\n",
    "from pandarallel import pandarallel\n",
    "pandarallel.initialize(progress_bar=True)"
   ]
  },
  {
   "cell_type": "code",
   "execution_count": 5,
   "id": "d72e092c-a920-4540-a922-e4aa6b8323dd",
   "metadata": {},
   "outputs": [],
   "source": [
    "do_weighted = True\n",
    "\n",
    "relevant_features = [\"partner.diversity\", # shanon diversity\n",
    "                     \"d\", # speciality index d',\n",
    "                     \"weighted.betweenness\", # centrality,\n",
    "                     \"proportional.generality\"] # generality\n",
    "\n",
    "allmb_tree_path = \"../../../data/trees/ALLMB.tre\"\n",
    "networks_dir = \"../../../data/networks/all/\"\n",
    "species_features_paths = {\"binary\": \"../../../data/features/plant_features/binary/features_with_classification.csv\",\n",
    "                          \"binarized_weighted\": \"../../../data/features/plant_features/binarized_weighted/features_with_classification.csv\",\n",
    "                          \"weighted\": \"../../../data/features/plant_features/weighted/features_with_classification.csv\"}\n",
    "classification_path = \"../../../data/ploidy_classification/plant_classification.csv\"\n",
    "ploidb_path = \"../../../data/ploidy_classification/ploidb_by_genus_without_missing.csv\"\n",
    "\n",
    "processed_data_path = f\"../../../data/statistical_analysis/species_level/processed_features_with_ploidy_classification_on_{'un' if not do_weighted else ''}weighted_networks.csv\"\n",
    "processed_tree_path = f\"../../../data/statistical_analysis/species_level/species_tree_on_{'un' if not do_weighted else ''}weighted_networks.nwk\"\n",
    "species_list_path = f\"../../../data/statistical_analysis/species_level/species_list_{'un' if not do_weighted else ''}weighted_analysis.csv\""
   ]
  },
  {
   "cell_type": "markdown",
   "id": "667b62b3-eb01-4169-b2f7-f3be9ae52cde",
   "metadata": {},
   "source": [
    "# process data"
   ]
  },
  {
   "cell_type": "code",
   "execution_count": 6,
   "id": "3f136e5c-5c02-48cd-aa80-a02539cc9166",
   "metadata": {},
   "outputs": [],
   "source": [
    "allmb_tree = Tree(allmb_tree_path, format=1)\n",
    "for leaf in allmb_tree.get_leaves():\n",
    "    leaf.name = leaf.name.lower().replace(\"_\", \" \")"
   ]
  },
  {
   "cell_type": "code",
   "execution_count": 7,
   "id": "7b0751bb-5e4e-4990-a5db-7aaab84b22ca",
   "metadata": {},
   "outputs": [
    {
     "name": "stderr",
     "output_type": "stream",
     "text": [
      "/tmp/ipykernel_16868/1754513997.py:9: FutureWarning: The default value of regex will change from True to False in a future version.\n",
      "  features.network = features.network.str.replace(\".csv\", \"\").astype(int)\n"
     ]
    }
   ],
   "source": [
    "relevant_columns = [\"original_name\", \"network\"] + relevant_features\n",
    "weighted_data = pd.read_csv(species_features_paths[\"weighted\"])[relevant_columns]\n",
    "weighted_data[\"network_type\"] = \"weighted\"\n",
    "binarized_weighted_data = pd.read_csv(species_features_paths[\"binarized_weighted\"])[relevant_columns]\n",
    "binarized_weighted_data[\"network_type\"] = \"binarized_weighted\"\n",
    "binary_data = pd.read_csv(species_features_paths[\"weighted\"])[relevant_columns]\n",
    "binary_data[\"network_data\"] = \"binary\"               \n",
    "features = pd.concat([weighted_data,binarized_weighted_data,binary_data])\n",
    "features.network = features.network.str.replace(\".csv\", \"\").astype(int)"
   ]
  },
  {
   "cell_type": "code",
   "execution_count": 8,
   "id": "8e65a3ad-5747-4176-9caf-2ea18febcad9",
   "metadata": {},
   "outputs": [],
   "source": [
    "classification = pd.read_csv(classification_path).rename(columns={\"conservative_is_polyploid_by_resolved\": \"is_polyploid\"})"
   ]
  },
  {
   "cell_type": "code",
   "execution_count": 9,
   "id": "161aff8e-7fcf-4828-80a8-17578102acfb",
   "metadata": {},
   "outputs": [],
   "source": [
    "features_with_classification = features.merge(classification[[\"original_name\", \"resolved_name\", \"is_polyploid\"]], on=\"original_name\", how=\"left\")\n",
    "features_with_classification.set_index(\"original_name\", inplace=True)\n",
    "features_with_classification[\"is_polyploid\"].fillna(classification.set_index(\"original_name\")[\"conservative_is_polyploid_by_original\"].to_dict(), inplace=True)\n",
    "features_with_classification.reset_index(inplace=True)"
   ]
  },
  {
   "cell_type": "code",
   "execution_count": 10,
   "id": "fff595ff-b287-4545-8e36-2b23e849a86e",
   "metadata": {},
   "outputs": [
    {
     "data": {
      "text/plain": [
       "is_polyploid\n",
       "0.0    25.201146\n",
       "1.0    22.928686\n",
       "NaN    51.870168\n",
       "Name: original_name, dtype: float64"
      ]
     },
     "execution_count": 10,
     "metadata": {},
     "output_type": "execute_result"
    }
   ],
   "source": [
    "features_with_classification.groupby(\"is_polyploid\", dropna=False)[\"original_name\"].count() / features_with_classification.shape[0]*100"
   ]
  },
  {
   "cell_type": "code",
   "execution_count": 11,
   "id": "4d28b2be-5756-4641-975a-edcddae910c2",
   "metadata": {},
   "outputs": [],
   "source": [
    "clean_features_with_classification = features_with_classification.dropna(subset=relevant_features+[\"is_polyploid\"], how=\"any\", axis=0)"
   ]
  },
  {
   "cell_type": "code",
   "execution_count": 12,
   "id": "8067880e-6323-4569-9ac0-a2207ef4875e",
   "metadata": {},
   "outputs": [
    {
     "data": {
      "text/plain": [
       "is_polyploid\n",
       "0.0    52.403139\n",
       "1.0    47.596861\n",
       "Name: original_name, dtype: float64"
      ]
     },
     "execution_count": 12,
     "metadata": {},
     "output_type": "execute_result"
    }
   ],
   "source": [
    "clean_features_with_classification.groupby(\"is_polyploid\", dropna=False)[\"original_name\"].count() / clean_features_with_classification.shape[0]*100"
   ]
  },
  {
   "cell_type": "code",
   "execution_count": 13,
   "id": "0ea2fc31-4b50-4147-8b05-f0e2295f2c73",
   "metadata": {},
   "outputs": [],
   "source": [
    "# missing_classifications = features_with_classification.loc[features_with_classification.is_polyploid.isna()].original_name.unique().tolist()"
   ]
  },
  {
   "cell_type": "code",
   "execution_count": 14,
   "id": "c2fee636-79be-4d48-ae7f-e80d2bcf5081",
   "metadata": {},
   "outputs": [],
   "source": [
    "# # ask itay: maybe if we use less strict thresholds we will get more classifications\n",
    "# ploidb = pd.read_csv(ploidb_path)\n",
    "# ploidb.loc[ploidb.Taxon.isin(missing_classifications)][[\"Taxon\", \"Ploidy inference\", \"Ploidy transitions frequency\"]]"
   ]
  },
  {
   "cell_type": "code",
   "execution_count": 15,
   "id": "890800ec-7f9d-417b-bfec-5e21adaed153",
   "metadata": {},
   "outputs": [
    {
     "name": "stdout",
     "output_type": "stream",
     "text": [
      "# species from networks = 1,188\n",
      "# species in tree = 356,305\n"
     ]
    }
   ],
   "source": [
    "print(f\"# species from networks = {len(clean_features_with_classification.original_name.unique()):,}\")\n",
    "print(f\"# species in tree = {len(allmb_tree.get_leaf_names()):,}\")"
   ]
  },
  {
   "cell_type": "markdown",
   "id": "382977a2-5721-4a63-b1ba-388a29acaa68",
   "metadata": {},
   "source": [
    "## add network size data"
   ]
  },
  {
   "cell_type": "code",
   "execution_count": 16,
   "id": "3a53439b-8d63-4841-809c-6e81f932984f",
   "metadata": {},
   "outputs": [],
   "source": [
    "if do_weighted:\n",
    "    clean_features_with_classification = clean_features_with_classification.loc[clean_features_with_classification.network_type == \"weighted\"]\n",
    "else:\n",
    "    clean_features_with_classification = clean_features_with_classification.loc[clean_features_with_classification.network_type != \"weighted\"]"
   ]
  },
  {
   "cell_type": "code",
   "execution_count": 17,
   "id": "1879ea8e-9624-4aa9-8502-5ae60d522aa6",
   "metadata": {},
   "outputs": [
    {
     "data": {
      "application/vnd.jupyter.widget-view+json": {
       "model_id": "cb1864b1078a4004a42e06503cc6deb6",
       "version_major": 2,
       "version_minor": 0
      },
      "text/plain": [
       "VBox(children=(HBox(children=(IntProgress(value=0, description='0.00%', max=22), Label(value='0 / 22'))), HBox…"
      ]
     },
     "metadata": {},
     "output_type": "display_data"
    }
   ],
   "source": [
    "def get_network_size(net_path):\n",
    "    try:\n",
    "        net = pd.read_csv(net_path).set_index(\"Plant\")\n",
    "        num_plants = net.shape[0]\n",
    "        num_pollinators = net.shape[1]\n",
    "        return num_plants, num_pollinators\n",
    "    except:\n",
    "        return np.nan, np.nan\n",
    "\n",
    "network_to_size = clean_features_with_classification[[\"network_type\", \"network\"]].drop_duplicates()\n",
    "network_to_size[[\"num_network_plants\", \"num_network_pollinators\"]] = network_to_size.parallel_apply(lambda record: get_network_size(f\"{networks_dir}{record.network_type}/{record.network}.csv\"), axis=1, result_type=\"expand\") \n",
    "    \n",
    "clean_features_with_classification = clean_features_with_classification.merge(network_to_size, on=[\"network_type\", \"network\"], how=\"left\")"
   ]
  },
  {
   "cell_type": "code",
   "execution_count": 18,
   "id": "6e5515a6-a6f3-47cc-a892-d543901796e2",
   "metadata": {},
   "outputs": [
    {
     "name": "stdout",
     "output_type": "stream",
     "text": [
      "# species from networks for analysis = 1026\n"
     ]
    },
    {
     "name": "stderr",
     "output_type": "stream",
     "text": [
      "/tmp/ipykernel_16868/4156360445.py:4: SettingWithCopyWarning: \n",
      "A value is trying to be set on a copy of a slice from a DataFrame.\n",
      "Try using .loc[row_indexer,col_indexer] = value instead\n",
      "\n",
      "See the caveats in the documentation: https://pandas.pydata.org/pandas-docs/stable/user_guide/indexing.html#returning-a-view-versus-a-copy\n",
      "  final_features_with_classification[\"mapped_name\"] = final_features_with_classification.apply(lambda record: record.original_name if record.original_name in tree_names else record.resolved_name, axis=1)\n"
     ]
    }
   ],
   "source": [
    "tree_names = set(allmb_tree.get_leaf_names())\n",
    "final_features_with_classification = clean_features_with_classification.loc[clean_features_with_classification.original_name.isin(tree_names) |\n",
    "                                                                            clean_features_with_classification.resolved_name.isin(tree_names)]\n",
    "final_features_with_classification[\"mapped_name\"] = final_features_with_classification.apply(lambda record: record.original_name if record.original_name in tree_names else record.resolved_name, axis=1)\n",
    "print(f\"# species from networks for analysis = {len(final_features_with_classification.mapped_name.unique()):}\")"
   ]
  },
  {
   "cell_type": "code",
   "execution_count": 19,
   "id": "afbebb4a-7a89-4619-b21a-cca59b23c4e8",
   "metadata": {},
   "outputs": [
    {
     "name": "stdout",
     "output_type": "stream",
     "text": [
      "# species in tree = 1,026\n"
     ]
    }
   ],
   "source": [
    "pruned_allmb_tree = allmb_tree.copy()\n",
    "pruned_allmb_tree.prune(final_features_with_classification.mapped_name.unique().tolist(), preserve_branch_length=True)\n",
    "print(f\"# species in tree = {len(pruned_allmb_tree.get_leaf_names()):,}\")"
   ]
  },
  {
   "cell_type": "code",
   "execution_count": 20,
   "id": "41d5a602-8092-4b31-a4b7-90ee5d061063",
   "metadata": {},
   "outputs": [
    {
     "name": "stderr",
     "output_type": "stream",
     "text": [
      "/tmp/ipykernel_16868/4258440952.py:1: SettingWithCopyWarning: \n",
      "A value is trying to be set on a copy of a slice from a DataFrame.\n",
      "Try using .loc[row_indexer,col_indexer] = value instead\n",
      "\n",
      "See the caveats in the documentation: https://pandas.pydata.org/pandas-docs/stable/user_guide/indexing.html#returning-a-view-versus-a-copy\n",
      "  final_features_with_classification[\"mapped_name\"] = final_features_with_classification[\"mapped_name\"].str.replace(\" \", \"_\")\n",
      "/tmp/ipykernel_16868/4258440952.py:2: SettingWithCopyWarning: \n",
      "A value is trying to be set on a copy of a slice from a DataFrame.\n",
      "Try using .loc[row_indexer,col_indexer] = value instead\n",
      "\n",
      "See the caveats in the documentation: https://pandas.pydata.org/pandas-docs/stable/user_guide/indexing.html#returning-a-view-versus-a-copy\n",
      "  final_features_with_classification[\"sample_id\"] = final_features_with_classification[\"mapped_name\"] + \"_\" + final_features_with_classification[\"network_type\"] + \"_\" + final_features_with_classification[\"network\"].astype(\"str\")\n"
     ]
    }
   ],
   "source": [
    "final_features_with_classification[\"mapped_name\"] = final_features_with_classification[\"mapped_name\"].str.replace(\" \", \"_\")\n",
    "final_features_with_classification[\"sample_id\"] = final_features_with_classification[\"mapped_name\"] + \"_\" + final_features_with_classification[\"network_type\"] + \"_\" + final_features_with_classification[\"network\"].astype(\"str\")"
   ]
  },
  {
   "cell_type": "code",
   "execution_count": 21,
   "id": "bea8e245-0dda-481e-a65d-c4b8b183223b",
   "metadata": {},
   "outputs": [
    {
     "name": "stderr",
     "output_type": "stream",
     "text": [
      "/tmp/ipykernel_16868/1547168379.py:1: SettingWithCopyWarning: \n",
      "A value is trying to be set on a copy of a slice from a DataFrame.\n",
      "Try using .loc[row_indexer,col_indexer] = value instead\n",
      "\n",
      "See the caveats in the documentation: https://pandas.pydata.org/pandas-docs/stable/user_guide/indexing.html#returning-a-view-versus-a-copy\n",
      "  final_features_with_classification.sample_id = final_features_with_classification.sample_id.str.replace(\" \", \"_\")\n"
     ]
    }
   ],
   "source": [
    "final_features_with_classification.sample_id = final_features_with_classification.sample_id.str.replace(\" \", \"_\")\n",
    "for l in pruned_allmb_tree.get_leaves():\n",
    "    l.name = l.name.replace(\" \", \"_\")"
   ]
  },
  {
   "cell_type": "code",
   "execution_count": 22,
   "id": "8ea7b04a-8df8-4efa-8566-fd5904d8e43e",
   "metadata": {},
   "outputs": [],
   "source": [
    "final_features_with_classification = final_features_with_classification.drop_duplicates(\"sample_id\")"
   ]
  },
  {
   "cell_type": "code",
   "execution_count": 23,
   "id": "3f7c8370-17cf-46e0-82ba-4f1296f442ed",
   "metadata": {},
   "outputs": [],
   "source": [
    "assert(len(final_features_with_classification.sample_id.unique().tolist()) == final_features_with_classification.shape[0])"
   ]
  },
  {
   "cell_type": "code",
   "execution_count": 24,
   "id": "8358aa8c-04f0-4017-8e89-ca03118b50e0",
   "metadata": {},
   "outputs": [
    {
     "name": "stdout",
     "output_type": "stream",
     "text": [
      "# added nodes = 3,470\n"
     ]
    }
   ],
   "source": [
    "# add bushes under each leaf\n",
    "num_added_nodes =0\n",
    "tree_leaves = pruned_allmb_tree.get_leaves()\n",
    "for leaf in tree_leaves:\n",
    "    children_names = final_features_with_classification.query(f\"mapped_name == '{leaf.name}'\").sample_id.tolist()\n",
    "    if len(children_names) > 0:\n",
    "        for child_name in children_names:\n",
    "            leaf.add_child(name=child_name, dist=0.00001)\n",
    "        num_added_nodes += len(children_names)\n",
    "    else:\n",
    "        print(f\"no child for leaf {leaf.name}\")\n",
    "        leaf.dist = leaf.dist + 0.00001\n",
    "    \n",
    "print(f\"# added nodes = {num_added_nodes:,}\")"
   ]
  },
  {
   "cell_type": "code",
   "execution_count": 25,
   "id": "e99fb475-ae61-430c-b4af-afe9947030aa",
   "metadata": {},
   "outputs": [
    {
     "name": "stdout",
     "output_type": "stream",
     "text": [
      "# samples in data = 3,470\n",
      "# leaves in tree = 3,470\n"
     ]
    }
   ],
   "source": [
    "print(f\"# samples in data = {final_features_with_classification.shape[0]:,}\")\n",
    "print(f\"# leaves in tree = {len(pruned_allmb_tree.get_leaf_names()):,}\")"
   ]
  },
  {
   "cell_type": "code",
   "execution_count": 26,
   "id": "23c60ded-5dc5-4fff-8f25-1434447f84a4",
   "metadata": {},
   "outputs": [],
   "source": [
    "final_features_with_classification[\"network_id\"] = final_features_with_classification.network_type.astype(str) + \"_\" + final_features_with_classification.network.astype(str)"
   ]
  },
  {
   "cell_type": "code",
   "execution_count": 27,
   "id": "5d663dcf-330a-490b-b8e7-17c21e1f1e5e",
   "metadata": {},
   "outputs": [],
   "source": [
    "final_features_with_classification.to_csv(processed_data_path)\n",
    "pruned_allmb_tree.write(outfile=processed_tree_path)"
   ]
  },
  {
   "cell_type": "code",
   "execution_count": 28,
   "id": "89332213-a733-4b13-b645-572eeaf716ce",
   "metadata": {},
   "outputs": [],
   "source": [
    "species = final_features_with_classification.mapped_name.str.replace(\"_\",\" \").unique()\n",
    "pd.Series(species).to_csv(species_list_path)"
   ]
  },
  {
   "cell_type": "code",
   "execution_count": null,
   "id": "23e8076c-0393-460e-9e6f-88deb2a4f5ee",
   "metadata": {},
   "outputs": [],
   "source": []
  }
 ],
 "metadata": {
  "kernelspec": {
   "display_name": "Python 3 (ipykernel)",
   "language": "python",
   "name": "python3"
  },
  "language_info": {
   "codemirror_mode": {
    "name": "ipython",
    "version": 3
   },
   "file_extension": ".py",
   "mimetype": "text/x-python",
   "name": "python",
   "nbconvert_exporter": "python",
   "pygments_lexer": "ipython3",
   "version": "3.10.6"
  }
 },
 "nbformat": 4,
 "nbformat_minor": 5
}
