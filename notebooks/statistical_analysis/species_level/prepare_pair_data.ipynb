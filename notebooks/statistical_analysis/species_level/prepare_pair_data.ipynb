{
 "cells": [
  {
   "cell_type": "code",
   "execution_count": 1,
   "id": "d69fc93b-58c0-4e6b-beb8-b80a014091c8",
   "metadata": {},
   "outputs": [
    {
     "name": "stdout",
     "output_type": "stream",
     "text": [
      "INFO: Pandarallel will run on 20 workers.\n",
      "INFO: Pandarallel will use Memory file system to transfer data between the main process and workers.\n"
     ]
    }
   ],
   "source": [
    "import numpy as np\n",
    "import pandas as pd\n",
    "import os\n",
    "from ete3 import Tree\n",
    "\n",
    "from pandarallel import pandarallel\n",
    "pandarallel.initialize(progress_bar=True)\n",
    "\n",
    "import matplotlib.pyplot as plt\n",
    "import seaborn as sns"
   ]
  },
  {
   "cell_type": "code",
   "execution_count": 8,
   "id": "74f3a583-bd6a-43c7-b049-8fa2d0007ecc",
   "metadata": {},
   "outputs": [],
   "source": [
    "do_weighted = True\n",
    "networks_dir = \"../../../data/networks/all/\"\n",
    "network_types = [\"binary\", \"weighted\", \"binarized_weighted\"]\n",
    "\n",
    "relevant_features = {\"standardized_partner.diversity\": \"Shannon diversity\",\n",
    "                     \"standardized_d\": \"Specialization index d'\",\n",
    "                     \"standardized_normalised.degree\": \"Normalized degree\",\n",
    "                     \"standardized_weighted.betweenness\":  \"Betweeness\",\n",
    "                     \"standardized_weighted.closeness\": \"Closeness\",\n",
    "                     \"standardized_hubbiness_score\": \"Hub score\"}\n",
    "classification_db_path = \"../../../data/name_resolution/rankedlineage.dmp\"\n",
    "name_resolution_path = \"../../../data/name_resolution/resolved_plant_names.csv\"\n",
    "tree_path = f\"../../../data/statistical_analysis/species_level/unique_species_tree_on_{'un' if not do_weighted else ''}weighted_networks.nwk\"\n",
    "species_features_path = f\"../../../data/statistical_analysis/species_level/processed_features_with_ploidy_classification_on_{'un' if not do_weighted else ''}weighted_networks.csv\""
   ]
  },
  {
   "cell_type": "code",
   "execution_count": 42,
   "id": "b416ee02-67d4-41fb-80c0-e5238a8fdf2b",
   "metadata": {},
   "outputs": [],
   "source": [
    "species_tree = Tree(tree_path)\n",
    "species_features = pd.read_csv(species_features_path)"
   ]
  },
  {
   "cell_type": "code",
   "execution_count": 43,
   "id": "ba404798-7635-4c96-beda-9cccf1a2e7d4",
   "metadata": {},
   "outputs": [],
   "source": [
    "species_to_ploidy = species_features.set_index(\"mapped_name\")[\"is_polyploid\"]"
   ]
  },
  {
   "cell_type": "code",
   "execution_count": 44,
   "id": "191ec111-8780-4fd3-9786-87390829420b",
   "metadata": {},
   "outputs": [],
   "source": [
    "for leaf in species_tree.get_leaves():\n",
    "    leaf.add_feature(\"is_polyploid\", species_to_ploidy.get(leaf.name, np.nan))"
   ]
  },
  {
   "cell_type": "code",
   "execution_count": 45,
   "id": "6784d7bd-e13e-4c40-acfa-6371ad1a7653",
   "metadata": {},
   "outputs": [
    {
     "data": {
      "application/vnd.jupyter.widget-view+json": {
       "model_id": "700b51b555254fae884a6decb28328f3",
       "version_major": 2,
       "version_minor": 0
      },
      "text/plain": [
       "VBox(children=(HBox(children=(IntProgress(value=0, description='0.00%', max=186), Label(value='0 / 186'))), HB…"
      ]
     },
     "metadata": {},
     "output_type": "display_data"
    }
   ],
   "source": [
    "species_features[\"network_path\"] = species_features.parallel_apply(lambda rec: f\"{networks_dir}{rec.network_type}/{rec.network}.csv\", axis=1)"
   ]
  },
  {
   "cell_type": "code",
   "execution_count": 46,
   "id": "7e9d5405-9480-4056-9de4-18460d70e61c",
   "metadata": {},
   "outputs": [],
   "source": [
    "species_features_by_network = species_features.groupby([\"network\", \"network_type\", \"network_id\", \"network_path\"])"
   ]
  },
  {
   "cell_type": "code",
   "execution_count": 47,
   "id": "96841e7d-922a-45e7-8861-589c18b9e6a2",
   "metadata": {},
   "outputs": [
    {
     "data": {
      "application/vnd.jupyter.widget-view+json": {
       "model_id": "41beb380f3324f4fa4b32696be04e4a4",
       "version_major": 2,
       "version_minor": 0
      },
      "text/plain": [
       "VBox(children=(HBox(children=(IntProgress(value=0, description='0.00%', max=23), Label(value='0 / 23'))), HBox…"
      ]
     },
     "metadata": {},
     "output_type": "display_data"
    }
   ],
   "source": [
    "def get_nearest_pd_neighbors(network_df: pd.DataFrame) -> list:\n",
    "    network_plants = network_df.mapped_name.tolist()\n",
    "    network_polyploids = network_df.loc[network_df.is_polyploid == 1].mapped_name.tolist()\n",
    "    network_diploids = network_df.loc[network_df.is_polyploid == 0].mapped_name.tolist()\n",
    "    if len(network_polyploids) == 0 or len(network_diploids) == 0:\n",
    "        return []\n",
    "    network_pairs = []\n",
    "    for polyploid in network_polyploids:\n",
    "        min_diploid, min_dist = np.nan, float(\"inf\")\n",
    "        for diploid in network_diploids:\n",
    "            dist = species_tree.get_distance(polyploid, diploid)\n",
    "            if dist < min_dist:\n",
    "                min_dist=dist\n",
    "                min_diploid=diploid\n",
    "        network_pairs.append((polyploid, min_diploid))\n",
    "    return network_pairs\n",
    "    \n",
    "nearest_network_pd_pairs = species_features_by_network.parallel_apply(get_nearest_pd_neighbors)"
   ]
  },
  {
   "cell_type": "code",
   "execution_count": 48,
   "id": "186c11e8-b298-4dd1-8d48-d81c075a072e",
   "metadata": {},
   "outputs": [
    {
     "data": {
      "application/vnd.jupyter.widget-view+json": {
       "model_id": "d6b8b048683d4e82b5adea3d6575f664",
       "version_major": 2,
       "version_minor": 0
      },
      "text/plain": [
       "VBox(children=(HBox(children=(IntProgress(value=0, description='0.00%', max=23), Label(value='0 / 23'))), HBox…"
      ]
     },
     "metadata": {},
     "output_type": "display_data"
    }
   ],
   "source": [
    "def get_nearest_dd_neighbors(network_df: pd.DataFrame) -> list:\n",
    "    network_plants = network_df.mapped_name.tolist()\n",
    "    network_diploids = network_df.loc[network_df.is_polyploid == 0].mapped_name.tolist()\n",
    "    network_pairs = []\n",
    "    for i in range(len(network_diploids)-1):\n",
    "        min_diploid, min_dist = np.nan, float(\"inf\")\n",
    "        for j in range(i+1, len(network_diploids)):\n",
    "            dist = species_tree.get_distance(network_diploids[i], network_diploids[j])\n",
    "            if dist < min_dist:\n",
    "                min_dist=dist\n",
    "                min_diploid=network_diploids[j]\n",
    "        network_pairs.append((network_diploids[i], min_diploid))\n",
    "    return network_pairs\n",
    "\n",
    "nearest_network_dd_pairs = species_features_by_network.parallel_apply(get_nearest_dd_neighbors)"
   ]
  },
  {
   "cell_type": "code",
   "execution_count": 49,
   "id": "00b3db22-105f-4dd5-b9fc-42e98a00d79b",
   "metadata": {},
   "outputs": [],
   "source": [
    "nearest_network_pd_pairs = nearest_network_pd_pairs.reset_index().rename(columns={0: \"pair\"})\n",
    "nearest_network_pd_pairs[\"pair_type\"] = \"pd\"\n",
    "nearest_network_dd_pairs = nearest_network_dd_pairs.reset_index().rename(columns={0: \"pair\"})\n",
    "nearest_network_dd_pairs[\"pair_type\"] = \"dd\"\n",
    "\n",
    "nearest_network_pairs = pd.concat([nearest_network_pd_pairs, nearest_network_dd_pairs])"
   ]
  },
  {
   "cell_type": "code",
   "execution_count": 50,
   "id": "d21a3766-26b3-4d06-a4dd-791014ef739f",
   "metadata": {},
   "outputs": [],
   "source": [
    "nearest_network_pairs = nearest_network_pairs.explode(\"pair\")"
   ]
  },
  {
   "cell_type": "code",
   "execution_count": 51,
   "id": "7ad9385c-a932-4a0b-973a-e2072e763398",
   "metadata": {},
   "outputs": [],
   "source": [
    "nearest_network_pairs = nearest_network_pairs.loc[nearest_network_pairs.pair.notna()]"
   ]
  },
  {
   "cell_type": "code",
   "execution_count": 52,
   "id": "bd07a948-8f87-4c7c-947e-151948e6f936",
   "metadata": {},
   "outputs": [
    {
     "data": {
      "application/vnd.jupyter.widget-view+json": {
       "model_id": "bbd340d86494426f8f8566e90cfaa869",
       "version_major": 2,
       "version_minor": 0
      },
      "text/plain": [
       "VBox(children=(HBox(children=(IntProgress(value=0, description='0.00%', max=161), Label(value='0 / 161'))), HB…"
      ]
     },
     "metadata": {},
     "output_type": "display_data"
    }
   ],
   "source": [
    "def get_paired_diff(pair: tuple, network_id: str) -> float:\n",
    "    try:\n",
    "        pair_data = species_features.loc[(species_features.network_id == network_id) &\n",
    "                                         (species_features.mapped_name.isin(list(pair)))].set_index(\"mapped_name\")[list(relevant_features.keys())].transpose()\n",
    "        pd_diffs = abs(pair_data[pair[0]]-pair_data[pair[1]])\n",
    "    except Exception as e:\n",
    "        print(f\"error= {e}\\nnetwork_id={network_id}\\npair={pair}\")\n",
    "        return np.nan\n",
    "    return list(pd_diffs)\n",
    "\n",
    "nearest_network_pairs[[f\"{f}_diff\" for f in relevant_features]] = nearest_network_pairs.parallel_apply(lambda record: get_paired_diff(pair=record.pair, network_id=record.network_id), result_type=\"expand\", axis=1)"
   ]
  },
  {
   "cell_type": "code",
   "execution_count": 53,
   "id": "0fcfc576-8954-4505-a274-b04db9352110",
   "metadata": {},
   "outputs": [
    {
     "data": {
      "application/vnd.jupyter.widget-view+json": {
       "model_id": "1e3e304a802e4abd9bf579815643cb09",
       "version_major": 2,
       "version_minor": 0
      },
      "text/plain": [
       "VBox(children=(HBox(children=(IntProgress(value=0, description='0.00%', max=161), Label(value='0 / 161'))), HB…"
      ]
     },
     "metadata": {},
     "output_type": "display_data"
    }
   ],
   "source": [
    "nearest_network_pairs[\"phylogenetic_dist\"] = nearest_network_pairs.pair.parallel_apply(lambda pair: species_tree.get_distance(pair[0], pair[1]))"
   ]
  },
  {
   "cell_type": "code",
   "execution_count": 54,
   "id": "608a32d8-a192-433b-977d-46eee161e39e",
   "metadata": {},
   "outputs": [
    {
     "name": "stderr",
     "output_type": "stream",
     "text": [
      "/tmp/ipykernel_38912/1813281087.py:1: DtypeWarning: Columns (4,6,8,10,12,14,16,18) have mixed types. Specify dtype option on import or set low_memory=False.\n",
      "  classification_db = pd.read_csv(classification_db_path, sep=\"\\t\")\n",
      "/tmp/ipykernel_38912/1813281087.py:5: SettingWithCopyWarning: \n",
      "A value is trying to be set on a copy of a slice from a DataFrame.\n",
      "Try using .loc[row_indexer,col_indexer] = value instead\n",
      "\n",
      "See the caveats in the documentation: https://pandas.pydata.org/pandas-docs/stable/user_guide/indexing.html#returning-a-view-versus-a-copy\n",
      "  classification_db[c] = classification_db[c].apply(lambda s: s.lower() if type(s) == str else s)\n"
     ]
    }
   ],
   "source": [
    "classification_db = pd.read_csv(classification_db_path, sep=\"\\t\")\n",
    "classification_db = classification_db[[c for c in classification_db.columns if \"|\" not in c]]\n",
    "classification_db.columns = [\"tax_id\",\"tax_name\",\"species\",\"genus\",\"family\",\"order\",\"class\",\"phylum\",\"kingdom\",\"superkingdom\"]\n",
    "for c in set(classification_db.columns)-{\"tax_id\"}:\n",
    "    classification_db[c] = classification_db[c].apply(lambda s: s.lower() if type(s) == str else s)"
   ]
  },
  {
   "cell_type": "code",
   "execution_count": 55,
   "id": "17851340-e8d0-4aaf-8597-5edfb9b06901",
   "metadata": {},
   "outputs": [],
   "source": [
    "name_resolution = pd.read_csv(name_resolution_path)\n",
    "orig_to_resolved = name_resolution.dropna(subset=[\"resolved_name\"]).set_index(\"original_name\")[\"resolved_name\"].to_dict()"
   ]
  },
  {
   "cell_type": "code",
   "execution_count": 56,
   "id": "104e3595-1c79-4726-b9a0-5a7e1c51c9a8",
   "metadata": {},
   "outputs": [],
   "source": [
    "nearest_network_pairs = nearest_network_pairs.loc[nearest_network_pairs.pair.notna()]"
   ]
  },
  {
   "cell_type": "code",
   "execution_count": 57,
   "id": "0a8aaaf8-8658-4e47-84f9-56bb46c5106a",
   "metadata": {},
   "outputs": [],
   "source": [
    "nearest_network_pairs = nearest_network_pairs.loc[~nearest_network_pairs.pair.str.contains(\"nan,\", na=False)]\n",
    "nearest_network_pairs = nearest_network_pairs.loc[~nearest_network_pairs.pair.str.contains(\",nan\", na=False)]"
   ]
  },
  {
   "cell_type": "code",
   "execution_count": 58,
   "id": "1b8155b3-e294-42b3-b943-344a2a713366",
   "metadata": {},
   "outputs": [
    {
     "data": {
      "application/vnd.jupyter.widget-view+json": {
       "model_id": "d3e8df9ee6e64cd9801321a1f2eb8ef8",
       "version_major": 2,
       "version_minor": 0
      },
      "text/plain": [
       "VBox(children=(HBox(children=(IntProgress(value=0, description='0.00%', max=161), Label(value='0 / 161'))), HB…"
      ]
     },
     "metadata": {},
     "output_type": "display_data"
    }
   ],
   "source": [
    "def get_resolved_pair(pair: tuple) -> tuple:\n",
    "    try:\n",
    "        member1 = orig_to_resolved.get(pair[0].replace(\"_\",\" \"), np.nan)\n",
    "        member2 = orig_to_resolved.get(pair[1].replace(\"_\",\" \"), np.nan)\n",
    "        return (member1, member2)\n",
    "    except Exception as e:\n",
    "        return np.nan\n",
    "\n",
    "nearest_network_pairs[\"resolved_pair\"] = nearest_network_pairs.pair.parallel_apply(get_resolved_pair)"
   ]
  },
  {
   "cell_type": "code",
   "execution_count": 59,
   "id": "9b3020f0-9bef-4b0e-9652-8fc7983594f6",
   "metadata": {},
   "outputs": [],
   "source": [
    "increasing_taxonomic_levels = [\"species\",\"genus\",\"family\",\"order\",\"class\",\"phylum\",\"kingdom\",\"superkingdom\"]\n",
    "\n",
    "def get_shared_taxonomic_level(pd_pair: tuple) -> str:\n",
    "    if np.nan in pd_pair:\n",
    "        return np.nan\n",
    "    classification_data = classification_db.loc[classification_db.tax_name.isin([item.replace(\"_\", \" \") for item in pd_pair if type(item) == str])]\n",
    "    if classification_data.shape[0] < 2:\n",
    "        return np.nan\n",
    "    for level in increasing_taxonomic_levels:\n",
    "        level_data = classification_data[level].dropna().unique()\n",
    "        if len(level_data) == 1:\n",
    "            return level\n",
    "    return np.nan"
   ]
  },
  {
   "cell_type": "code",
   "execution_count": 60,
   "id": "80b5529c-7e75-4940-ac17-3b814b01c521",
   "metadata": {},
   "outputs": [
    {
     "data": {
      "application/vnd.jupyter.widget-view+json": {
       "model_id": "c47b44d729034501b8323a25e896ec08",
       "version_major": 2,
       "version_minor": 0
      },
      "text/plain": [
       "VBox(children=(HBox(children=(IntProgress(value=0, description='0.00%', max=161), Label(value='0 / 161'))), HB…"
      ]
     },
     "metadata": {},
     "output_type": "display_data"
    }
   ],
   "source": [
    "nearest_network_pairs[\"shared_taxonomic_level\"] = nearest_network_pairs.resolved_pair.parallel_apply(get_shared_taxonomic_level)"
   ]
  },
  {
   "cell_type": "code",
   "execution_count": 61,
   "id": "583c952e-c324-4cb5-b559-44e358e838bf",
   "metadata": {},
   "outputs": [
    {
     "data": {
      "application/vnd.jupyter.widget-view+json": {
       "model_id": "1334b8f82ba243e29b4a178d8e17f506",
       "version_major": 2,
       "version_minor": 0
      },
      "text/plain": [
       "VBox(children=(HBox(children=(IntProgress(value=0, description='0.00%', max=20), Label(value='0 / 20'))), HBox…"
      ]
     },
     "metadata": {},
     "output_type": "display_data"
    }
   ],
   "source": [
    "nearest_network_pairs.loc[nearest_network_pairs.shared_taxonomic_level.isna(), \"shared_taxonomic_level\"] = nearest_network_pairs.loc[nearest_network_pairs.shared_taxonomic_level.isna(), \"pair\"].parallel_apply(get_shared_taxonomic_level)"
   ]
  },
  {
   "cell_type": "code",
   "execution_count": 62,
   "id": "d3fb9789-1db0-4693-a71b-f8f1540d6715",
   "metadata": {},
   "outputs": [],
   "source": [
    "relevant_nearest_network_pairs = nearest_network_pairs.loc[nearest_network_pairs.shared_taxonomic_level.isin(increasing_taxonomic_levels[:increasing_taxonomic_levels.index(\"family\")+1])]"
   ]
  },
  {
   "cell_type": "code",
   "execution_count": 63,
   "id": "05d80405-2586-4901-ab6f-05e32b52ec13",
   "metadata": {},
   "outputs": [
    {
     "name": "stdout",
     "output_type": "stream",
     "text": [
      "# pairs = 3,205\n",
      "# pairs in the same family or below = 39.5% (1,266)\n"
     ]
    }
   ],
   "source": [
    "print(f\"# pairs = {nearest_network_pairs.shape[0]:,}\")\n",
    "print(f\"# pairs in the same family or below = {np.round(relevant_nearest_network_pairs.shape[0] / nearest_network_pairs.shape[0]*100, 2)}% ({relevant_nearest_network_pairs.shape[0]:,})\")"
   ]
  },
  {
   "cell_type": "code",
   "execution_count": 64,
   "id": "08df2e91-cca0-42e4-b849-18ac4e8a09aa",
   "metadata": {},
   "outputs": [
    {
     "data": {
      "text/html": [
       "<div>\n",
       "<style scoped>\n",
       "    .dataframe tbody tr th:only-of-type {\n",
       "        vertical-align: middle;\n",
       "    }\n",
       "\n",
       "    .dataframe tbody tr th {\n",
       "        vertical-align: top;\n",
       "    }\n",
       "\n",
       "    .dataframe thead th {\n",
       "        text-align: right;\n",
       "    }\n",
       "</style>\n",
       "<table border=\"1\" class=\"dataframe\">\n",
       "  <thead>\n",
       "    <tr style=\"text-align: right;\">\n",
       "      <th></th>\n",
       "      <th>pair</th>\n",
       "      <th>repeats</th>\n",
       "    </tr>\n",
       "  </thead>\n",
       "  <tbody>\n",
       "    <tr>\n",
       "      <th>0</th>\n",
       "      <td>(trifolium_repens, trifolium_pratense)</td>\n",
       "      <td>48</td>\n",
       "    </tr>\n",
       "    <tr>\n",
       "      <th>1</th>\n",
       "      <td>(lotus_corniculatus, trifolium_pratense)</td>\n",
       "      <td>27</td>\n",
       "    </tr>\n",
       "    <tr>\n",
       "      <th>2</th>\n",
       "      <td>(heliomeris_multiflora, erigeron_speciosus)</td>\n",
       "      <td>27</td>\n",
       "    </tr>\n",
       "    <tr>\n",
       "      <th>3</th>\n",
       "      <td>(erigeron_speciosus, heterotheca_villosa)</td>\n",
       "      <td>20</td>\n",
       "    </tr>\n",
       "    <tr>\n",
       "      <th>4</th>\n",
       "      <td>(carduus_pycnocephalus, centaurea_solstitialis)</td>\n",
       "      <td>19</td>\n",
       "    </tr>\n",
       "    <tr>\n",
       "      <th>...</th>\n",
       "      <td>...</td>\n",
       "      <td>...</td>\n",
       "    </tr>\n",
       "    <tr>\n",
       "      <th>651</th>\n",
       "      <td>(erigeron_annuus, coreopsis_lanceolata)</td>\n",
       "      <td>1</td>\n",
       "    </tr>\n",
       "    <tr>\n",
       "      <th>652</th>\n",
       "      <td>(elsholtzia_densa, origanum_vulgare)</td>\n",
       "      <td>1</td>\n",
       "    </tr>\n",
       "    <tr>\n",
       "      <th>653</th>\n",
       "      <td>(echium_aculeatum, echium_plantagineum)</td>\n",
       "      <td>1</td>\n",
       "    </tr>\n",
       "    <tr>\n",
       "      <th>654</th>\n",
       "      <td>(echium_aculeatum, echium_bonnetii)</td>\n",
       "      <td>1</td>\n",
       "    </tr>\n",
       "    <tr>\n",
       "      <th>655</th>\n",
       "      <td>(vriesea_erythrodactylon, vriesea_incurvata)</td>\n",
       "      <td>1</td>\n",
       "    </tr>\n",
       "  </tbody>\n",
       "</table>\n",
       "<p>656 rows × 2 columns</p>\n",
       "</div>"
      ],
      "text/plain": [
       "                                                pair  repeats\n",
       "0             (trifolium_repens, trifolium_pratense)       48\n",
       "1           (lotus_corniculatus, trifolium_pratense)       27\n",
       "2        (heliomeris_multiflora, erigeron_speciosus)       27\n",
       "3          (erigeron_speciosus, heterotheca_villosa)       20\n",
       "4    (carduus_pycnocephalus, centaurea_solstitialis)       19\n",
       "..                                               ...      ...\n",
       "651          (erigeron_annuus, coreopsis_lanceolata)        1\n",
       "652             (elsholtzia_densa, origanum_vulgare)        1\n",
       "653          (echium_aculeatum, echium_plantagineum)        1\n",
       "654              (echium_aculeatum, echium_bonnetii)        1\n",
       "655     (vriesea_erythrodactylon, vriesea_incurvata)        1\n",
       "\n",
       "[656 rows x 2 columns]"
      ]
     },
     "execution_count": 64,
     "metadata": {},
     "output_type": "execute_result"
    }
   ],
   "source": [
    "repeated_pairs = relevant_nearest_network_pairs.groupby(\"pair\")[\"network_id\"].count().sort_values(ascending=False).reset_index().rename(columns={\"network_id\": \"repeats\"})\n",
    "repeated_pairs"
   ]
  },
  {
   "cell_type": "code",
   "execution_count": 65,
   "id": "a56d33c8-30d6-4ffd-8889-e79e48f7e1f9",
   "metadata": {},
   "outputs": [
    {
     "data": {
      "application/vnd.jupyter.widget-view+json": {
       "model_id": "ca39254ae3804dbba3f673936fb22dbf",
       "version_major": 2,
       "version_minor": 0
      },
      "text/plain": [
       "VBox(children=(HBox(children=(IntProgress(value=0, description='0.00%', max=64), Label(value='0 / 64'))), HBox…"
      ]
     },
     "metadata": {},
     "output_type": "display_data"
    },
    {
     "name": "stderr",
     "output_type": "stream",
     "text": [
      "/tmp/ipykernel_38912/3730873135.py:1: SettingWithCopyWarning: \n",
      "A value is trying to be set on a copy of a slice from a DataFrame.\n",
      "Try using .loc[row_indexer,col_indexer] = value instead\n",
      "\n",
      "See the caveats in the documentation: https://pandas.pydata.org/pandas-docs/stable/user_guide/indexing.html#returning-a-view-versus-a-copy\n",
      "  relevant_nearest_network_pairs[[\"member1\", \"member2\"]] = relevant_nearest_network_pairs.parallel_apply(lambda x: [item.capitalize().replace(\"_\", \" \") for item in x.pair], axis=1, result_type=\"expand\")\n",
      "/tmp/ipykernel_38912/3730873135.py:1: SettingWithCopyWarning: \n",
      "A value is trying to be set on a copy of a slice from a DataFrame.\n",
      "Try using .loc[row_indexer,col_indexer] = value instead\n",
      "\n",
      "See the caveats in the documentation: https://pandas.pydata.org/pandas-docs/stable/user_guide/indexing.html#returning-a-view-versus-a-copy\n",
      "  relevant_nearest_network_pairs[[\"member1\", \"member2\"]] = relevant_nearest_network_pairs.parallel_apply(lambda x: [item.capitalize().replace(\"_\", \" \") for item in x.pair], axis=1, result_type=\"expand\")\n"
     ]
    }
   ],
   "source": [
    "relevant_nearest_network_pairs[[\"member1\", \"member2\"]] = relevant_nearest_network_pairs.parallel_apply(lambda x: [item.capitalize().replace(\"_\", \" \") for item in x.pair], axis=1, result_type=\"expand\")"
   ]
  },
  {
   "cell_type": "code",
   "execution_count": 66,
   "id": "95391f92-83e9-46d6-9e22-f1efdf9b69f9",
   "metadata": {},
   "outputs": [],
   "source": [
    "relevant_nearest_network_pairs.to_csv(f\"../../../data/statistical_analysis/species_level/pair_data_on_{'un' if not do_weighted else ''}weighted_networks.csv\")"
   ]
  },
  {
   "cell_type": "markdown",
   "id": "bb9e56fc-8c77-42a6-a197-a75570c04d06",
   "metadata": {},
   "source": [
    "# show pd pair type differences"
   ]
  },
  {
   "cell_type": "code",
   "execution_count": 9,
   "id": "9ff2ebf6-d4e5-411b-830b-b0c58e94ab1c",
   "metadata": {},
   "outputs": [],
   "source": [
    "relevant_nearest_network_pairs = pd.read_csv(f\"../../../data/statistical_analysis/species_level/pair_data_on_{'un' if not do_weighted else ''}weighted_networks.csv\")"
   ]
  },
  {
   "cell_type": "code",
   "execution_count": 10,
   "id": "4524cdaa-d242-4976-bb99-2500bb2ea8cb",
   "metadata": {},
   "outputs": [
    {
     "data": {
      "image/png": "[encoded data removed]",
      "text/plain": [
       "<Figure size 1500x1500 with 9 Axes>"
      ]
     },
     "metadata": {},
     "output_type": "display_data"
    }
   ],
   "source": [
    "fontsize=16\n",
    "import matplotlib \n",
    "matplotlib.rc('xtick', labelsize=fontsize) \n",
    "matplotlib.rc('ytick', labelsize=fontsize)\n",
    "matplotlib.rcParams.update({'font.size': fontsize})\n",
    "\n",
    "fig, axes = plt.subplots(nrows=3, ncols=3, figsize=(3*5,3*5))\n",
    "\n",
    "\n",
    "relevant_features_cols = list(relevant_features.keys())\n",
    "\n",
    "for i in range(len(relevant_features_cols)):\n",
    "    f = relevant_features_cols[i]\n",
    "    ax = axes[i//3][i % 3]\n",
    "    sns.boxplot(data=relevant_nearest_network_pairs, x='pair_type', y=f\"{f}_diff\", ax=ax)\n",
    "    ax.set_ylabel(f\"{relevant_features[f]}\")\n",
    "    ax.set_xlabel(\"Pair type\")\n",
    "    ax.set_ylim((-0.1,1))\n",
    "\n",
    "ax = axes[2][1]\n",
    "sns.boxplot(data=relevant_nearest_network_pairs, x='pair_type', y=f\"horn_index\", ax=ax)\n",
    "ax.set_ylabel(f\"Morista-Horn index\")\n",
    "ax.set_xlabel(\"Pair type\")\n",
    "ax.set_ylim((-0.1,1.1))\n",
    "\n",
    "axes[2,0].set_axis_off()\n",
    "axes[2,2].set_axis_off()\n",
    "\n",
    "\n",
    "fig.tight_layout()\n",
    "fig.savefig(f\"../../../data/figures/fig3_{'binary' if not do_weighted else 'weighted'}.jpeg\")"
   ]
  },
  {
   "cell_type": "code",
   "execution_count": null,
   "id": "e44f8dda-c384-490e-a004-42df372f2e99",
   "metadata": {},
   "outputs": [],
   "source": []
  }
 ],
 "metadata": {
  "kernelspec": {
   "display_name": "Python 3 (ipykernel)",
   "language": "python",
   "name": "python3"
  },
  "language_info": {
   "codemirror_mode": {
    "name": "ipython",
    "version": 3
   },
   "file_extension": ".py",
   "mimetype": "text/x-python",
   "name": "python",
   "nbconvert_exporter": "python",
   "pygments_lexer": "ipython3",
   "version": "3.10.6"
  }
 },
 "nbformat": 4,
 "nbformat_minor": 5
}
