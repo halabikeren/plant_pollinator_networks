{
 "cells": [
  {
   "cell_type": "code",
   "execution_count": 1,
   "id": "ee4f03a3-615b-49a5-a53a-bcae260f0b40",
   "metadata": {
    "tags": []
   },
   "outputs": [
    {
     "name": "stdout",
     "output_type": "stream",
     "text": [
      "INFO: Pandarallel will run on 40 workers.\n",
      "INFO: Pandarallel will use standard multiprocessing data transfer (pipe) to transfer data between the main process and workers.\n"
     ]
    }
   ],
   "source": [
    "import warnings\n",
    "warnings.simplefilter(action='ignore', category=FutureWarning)\n",
    "import pandas as pd\n",
    "import numpy as np\n",
    "import os\n",
    "import sys\n",
    "sys.path.append(\"../../../code/statistical_analysis/extinction_analysis/\")\n",
    "from simulator import Simulator, ExtinctionOrder\n",
    "\n",
    "from pandarallel import pandarallel\n",
    "pandarallel.initialize(progress_bar=True, nb_workers=40, use_memory_fs=False)\n",
    "\n",
    "import seaborn as sns\n",
    "\n",
    "import matplotlib.pyplot as plt\n",
    "\n",
    "import warnings\n",
    "warnings.filterwarnings(\"ignore\")\n",
    "\n",
    "from sklearn.metrics import auc"
   ]
  },
  {
   "cell_type": "code",
   "execution_count": 26,
   "id": "9f182801-aa68-43d3-aa2f-be04f82bee0c",
   "metadata": {},
   "outputs": [
    {
     "name": "stdout",
     "output_type": "stream",
     "text": [
      "# networks for extinction analysis =  121\n"
     ]
    }
   ],
   "source": [
    "sim_type = 'diploids_first'\n",
    "rewiring_prob = 0\n",
    "sim_num=100\n",
    "do_weighted = True\n",
    "min_class_members = 5\n",
    "relevant_network_types = [\"weighted\"] if do_weighted else [\"binary\", \"binarized_weighted\"]\n",
    "\n",
    "working_dir = f\"../../../data/statistical_analysis/extinction_analysis/rewiring_prob_{rewiring_prob}\"\n",
    "os.makedirs(working_dir, exist_ok=True)\n",
    "\n",
    "networks_metadata_path = \"../../../data/networks/networks_metadata.csv\"\n",
    "net_data = pd.read_csv(networks_metadata_path)\n",
    "net_data = net_data.loc[net_data.network_type.isin(relevant_network_types)]\n",
    "net_data = net_data.loc[net_data.included_in_analysis == True]\n",
    "net_data = net_data.loc[(net_data.num_polyploids >= min_class_members) & (net_data.num_diploids >= min_class_members)] # must have at least one species of each ploidy level to be able to execute simulations at all orders\n",
    "network_paths = net_data.processed_path_full\n",
    "print(f\"# networks for extinction analysis =  {len(network_paths)}\")\n",
    "\n",
    "extinction_simluations_output_path = f\"{working_dir}/rewiring_prob_{rewiring_prob}_united_{sim_type}_order_extinction_simulations.csv\"\n",
    "weighted_features_data = \"../../../data/features/plant/weighted/features_with_classification.csv\"\n",
    "\n",
    "\n",
    "networks = dict()\n",
    "for nt in relevant_network_types:\n",
    "    networks[nt] = {\"networks\": f\"../../../data/networks/all/{nt}/\",\n",
    "                    \"data\": f\"../../../data/ploidy_classification/plant_classification.csv\",\n",
    "                    \"paths\": net_data.query(f\"network_type == '{nt}'\").processed_path_full.tolist()}"
   ]
  },
  {
   "cell_type": "markdown",
   "id": "ca1d87c1-c2e7-46bd-85cc-40d451291d0b",
   "metadata": {
    "tags": []
   },
   "source": [
    "# conduct extinction simulations across all networks with "
   ]
  },
  {
   "cell_type": "code",
   "execution_count": 31,
   "id": "aec597c9-2339-4bab-aaaf-5a6a04b6509d",
   "metadata": {},
   "outputs": [
    {
     "name": "stdout",
     "output_type": "stream",
     "text": [
      "# tasks =  121\n"
     ]
    },
    {
     "data": {
      "application/vnd.jupyter.widget-view+json": {
       "model_id": "cd4c8f699346460896609eba24c8eb1b",
       "version_major": 2,
       "version_minor": 0
      },
      "text/plain": [
       "VBox(children=(HBox(children=(IntProgress(value=0, description='0.00%', max=4), Label(value='0 / 4'))), HBox(c…"
      ]
     },
     "metadata": {},
     "output_type": "display_data"
    }
   ],
   "source": [
    "simulators = {}\n",
    "extinction_simulations = None\n",
    "if not os.path.exists(extinction_simluations_output_path):\n",
    "    inputs_for_exec = pd.DataFrame(columns=[\"network_path\", \"classifications_path\", \"rate_range\", \"num_sim\", \"output_path\"])\n",
    "    for _type in networks:\n",
    "        output_dir = f\"{working_dir}/{_type}/{sim_type}/\"\n",
    "        os.makedirs(output_dir, exist_ok=True)\n",
    "        classification_path = networks[_type][\"data\"]\n",
    "        paths = networks[_type][\"paths\"]\n",
    "        for path in paths:\n",
    "            if path == \".ipynb_checkpoints\":\n",
    "                continue\n",
    "            network_path = path\n",
    "            output_path = f\"{output_dir}{os.path.basename(path)}\"\n",
    "            if not os.path.exists(output_path):\n",
    "                inputs_for_exec = pd.concat([inputs_for_exec, pd.DataFrame({\"network_path\": [network_path],\n",
    "                                                                            \"output_path\": [output_path],\n",
    "                                                                            \"network_type\": [_type],\n",
    "                                                               \"num_sim\": [sim_num]})])\n",
    "        simulators[_type] = Simulator(classification_path=classification_path,\n",
    "                                      ext_order = ExtinctionOrder.random if sim_type == 'random' else (ExtinctionOrder.polyploids_first if sim_type == \"polyploids_first\" else ExtinctionOrder.diploids_first),\n",
    "                                      rewiring_flag = True,\n",
    "                                      rewiring_probability = rewiring_prob)\n",
    "        \n",
    "    print(f\"# tasks =  {inputs_for_exec.shape[0]:,}\")         \n",
    "    if inputs_for_exec.shape[0] > 0:\n",
    "        inputs_for_exec.parallel_apply(lambda record: simulators[record.network_type].write_simulations(network_path=record.network_path,\n",
    "                                                                                                        output_path=record.output_path,\n",
    "                                                                                                        nsim=record.num_sim), axis=1)\n",
    "else:\n",
    "    extinction_simulations = pd.read_csv(extinction_simluations_output_path)"
   ]
  },
  {
   "cell_type": "code",
   "execution_count": 32,
   "id": "9034bffd-6ff6-47f6-be23-843481030739",
   "metadata": {},
   "outputs": [
    {
     "name": "stdout",
     "output_type": "stream",
     "text": [
      "# datasets with simulations for networks of type weighted\n"
     ]
    }
   ],
   "source": [
    "if extinction_simulations is None:\n",
    "    extinction_simulations = []\n",
    "    for _type in networks:\n",
    "        networks_dir = networks[_type][\"networks\"]\n",
    "        output_dir = f\"{working_dir}/{_type}/{sim_type}/\"\n",
    "        datasets_simulations = []\n",
    "        for path in os.listdir(output_dir):\n",
    "            try:\n",
    "                network_index = int(path.split(\"_\")[-1].replace(\".csv\",\"\"))\n",
    "                simulations = pd.read_csv(f\"{output_dir}/{path}\")\n",
    "                simulations[\"network\"] = network_index\n",
    "                datasets_simulations.append(simulations)\n",
    "            except Exception as e:\n",
    "                pass\n",
    "        print(f\"# datasets with simulations for networks of type {_type}\")\n",
    "        all_simulations = pd.concat(datasets_simulations)\n",
    "        all_simulations[\"network_type\"] = _type\n",
    "        extinction_simulations.append(all_simulations)\n",
    "    extinction_simulations = pd.concat(extinction_simulations)\n",
    "    extinction_simulations.to_csv(extinction_simluations_output_path)"
   ]
  },
  {
   "cell_type": "code",
   "execution_count": 33,
   "id": "101f892f-2463-4617-a8eb-6758229fc381",
   "metadata": {},
   "outputs": [],
   "source": [
    "extinction_simulations = extinction_simulations[[c for c in extinction_simulations.columns if not c.startswith(\"Unnamed\")]]"
   ]
  },
  {
   "cell_type": "markdown",
   "id": "b84a29f0-3e6e-4b12-bf15-bbd4e4d16796",
   "metadata": {},
   "source": [
    "## process data"
   ]
  },
  {
   "cell_type": "code",
   "execution_count": 34,
   "id": "df290f69-4214-43f4-92e1-4fec9be40d5d",
   "metadata": {},
   "outputs": [],
   "source": [
    "extinction_simulations.sort_values([\"network_type\", \"network\", \"simulation_index\", \"primary_iteration\", \"cascade_iteration\"], inplace=True)"
   ]
  },
  {
   "cell_type": "code",
   "execution_count": 35,
   "id": "cd1970b7-353b-4867-8e4b-f7e0a3fca119",
   "metadata": {},
   "outputs": [],
   "source": [
    "network_to_stats = []\n",
    "for _type in networks:\n",
    "    paths = networks[_type][\"paths\"]\n",
    "    for path in paths:\n",
    "        network_path = path\n",
    "        network_id = int(os.path.basename(path.replace(\".csv\", \"\")))\n",
    "        network = pd.read_csv(network_path)\n",
    "        network = network.rename(columns={\"Unnamed: 0\": \"Plant\"}).set_index(\"Plant\")\n",
    "        plants = set(network.index)\n",
    "        pollinators = set(network.columns)-{\"Plant\"}\n",
    "        network_to_stats.append(pd.DataFrame({\"network_type\": [_type],\n",
    "                                              \"network_id\": [network_id],\n",
    "                                              \"plants\": [plants],\n",
    "                                              \"nplants\": [len(plants)],\n",
    "                                              \"pollinators\": [pollinators],\n",
    "                                              \"npollinators\": [len(pollinators)]}))\n",
    "network_to_stats = pd.concat(network_to_stats)"
   ]
  },
  {
   "cell_type": "code",
   "execution_count": 36,
   "id": "f7f6f75c-dabb-491a-9f95-4e3330429707",
   "metadata": {},
   "outputs": [
    {
     "data": {
      "application/vnd.jupyter.widget-view+json": {
       "model_id": "3777fa02f10c43c0aabe8a49f8b3ec08",
       "version_major": 2,
       "version_minor": 0
      },
      "text/plain": [
       "VBox(children=(HBox(children=(IntProgress(value=0, description='0.00%', max=303), Label(value='0 / 303'))), HB…"
      ]
     },
     "metadata": {},
     "output_type": "display_data"
    }
   ],
   "source": [
    "def process_extinction_simulation(df: pd.DataFrame) -> pd.DataFrame:\n",
    "    net_stats = network_to_stats.loc[(network_to_stats.network_type == df.network_type.values[0]) & (network_to_stats.network_id == df.network.values[0])]\n",
    "    n_plants = net_stats.nplants.values[0]\n",
    "    n_pollinators = net_stats.npollinators.values[0]\n",
    "    network_size = n_plants+n_pollinators\n",
    "    if not df.shape[0]-1 <= network_size:\n",
    "        print(f\"in {df.network_type.values[0]} network {df.network.values[0]} with {n_plants} plants and {n_pollinators} pollinators, {df.shape[0]} extinctions were simulated\")\n",
    "        return df\n",
    "    n_plants_extinct = df.loc[df.extinction_level == \"plant\"]\n",
    "    n_pollinators_extinct = df.loc[df.extinction_level == \"pollinator\"]\n",
    "    n_plants_series, n_pollinators_series = [], []\n",
    "    for i, row in df.iterrows():\n",
    "        n_plants = n_plants-(1 if row.extinction_level == \"plant\" else 0)\n",
    "        n_pollinators = n_pollinators-(1 if row.extinction_level == \"pollinator\" else 0)\n",
    "        if n_plants < 0 or n_pollinators < 0:\n",
    "            raise ValueError(f\"more extinctions than species with {n_plants} plants and {n_pollinators} pollinators for simulation {df.simulation_index.values[0]} of network {all_networks_path}{df.network_type.values[0]}/{df.network.values[0]}.csv\")\n",
    "            # return pd.DataFrame(columns=df.columns)\n",
    "            \n",
    "        assert(n_pollinators >= 0)\n",
    "        n_plants_series.append(n_plants)\n",
    "        n_pollinators_series.append(n_pollinators)\n",
    "    df[\"n_plants\"] = n_plants_series\n",
    "    df[\"n_pollinators\"] = n_pollinators_series\n",
    "    df[\"prop_primary_extinctions\"] = 1-(df[\"n_plants\"]/net_stats.nplants.values[0])\n",
    "    df[\"prop_secondary_extinctions\"] = 1-(df[\"n_pollinators\"]/net_stats.npollinators.values[0])\n",
    "    return df\n",
    "\n",
    "extinction_data = extinction_simulations.groupby([\"network_type\", \"network\", \"simulation_index\"]).parallel_apply(process_extinction_simulation)"
   ]
  },
  {
   "cell_type": "code",
   "execution_count": 37,
   "id": "eeaa6c7a-d0f7-4020-82dc-1af0f9f26990",
   "metadata": {},
   "outputs": [],
   "source": [
    "extinction_data = extinction_data.reset_index(drop=True)"
   ]
  },
  {
   "cell_type": "code",
   "execution_count": 38,
   "id": "318111ed-31f0-4ba7-832b-e20558df67a4",
   "metadata": {},
   "outputs": [],
   "source": [
    "extinction_data = extinction_data[[\"network_type\", \"network\", \"simulation_index\", \n",
    "                                   \"primary_iteration\", \"cascade_iteration\", \n",
    "                                   \"extinction_type\", \"extinction_level\", \"extinct_taxon\",\n",
    "                                   \"n_plants\", \"n_pollinators\", \n",
    "                                   \"prop_primary_extinctions\", \"prop_secondary_extinctions\"]]"
   ]
  },
  {
   "cell_type": "code",
   "execution_count": 39,
   "id": "dd42e0db-59fd-4389-b869-3d122654f2f4",
   "metadata": {},
   "outputs": [],
   "source": [
    "extinction_data[\"prop_secondary_survival\"] = 1-extinction_data.prop_secondary_extinctions"
   ]
  },
  {
   "cell_type": "code",
   "execution_count": 40,
   "id": "a9f22acf-8661-44f2-bebd-f230a9a2c8bb",
   "metadata": {},
   "outputs": [],
   "source": [
    "extinction_data.to_csv(extinction_simluations_output_path)"
   ]
  },
  {
   "cell_type": "code",
   "execution_count": null,
   "id": "54327036-4ec0-4f72-886e-bae6b4b0c201",
   "metadata": {},
   "outputs": [],
   "source": [
    "for _type in networks:\n",
    "    output_dir = f\"{working_dir}/{_type}/{sim_type}/\"\n",
    "    os.system(f\"rm -rf {output_dir}\")"
   ]
  },
  {
   "cell_type": "code",
   "execution_count": null,
   "id": "9b4c405e-a5a9-476d-8532-4496a7f428b5",
   "metadata": {},
   "outputs": [],
   "source": []
  }
 ],
 "metadata": {
  "kernelspec": {
   "display_name": "Python 3 (ipykernel)",
   "language": "python",
   "name": "python3"
  },
  "language_info": {
   "codemirror_mode": {
    "name": "ipython",
    "version": 3
   },
   "file_extension": ".py",
   "mimetype": "text/x-python",
   "name": "python",
   "nbconvert_exporter": "python",
   "pygments_lexer": "ipython3",
   "version": "3.10.6"
  }
 },
 "nbformat": 4,
 "nbformat_minor": 5
}
