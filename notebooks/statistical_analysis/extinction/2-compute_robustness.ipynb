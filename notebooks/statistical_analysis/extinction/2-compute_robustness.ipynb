{
 "cells": [
  {
   "cell_type": "code",
   "execution_count": 1,
   "id": "ee4f03a3-615b-49a5-a53a-bcae260f0b40",
   "metadata": {
    "tags": []
   },
   "outputs": [
    {
     "name": "stdout",
     "output_type": "stream",
     "text": [
      "INFO: Pandarallel will run on 40 workers.\n",
      "INFO: Pandarallel will use standard multiprocessing data transfer (pipe) to transfer data between the main process and workers.\n"
     ]
    }
   ],
   "source": [
    "import warnings\n",
    "warnings.simplefilter(action='ignore', category=FutureWarning)\n",
    "import pandas as pd\n",
    "import numpy as np\n",
    "import os\n",
    "import sys\n",
    "sys.path.append(\"../../../code/statistical_analysis/extinction_analysis/\")\n",
    "from simulator import Simulator, ExtinctionOrder\n",
    "\n",
    "from pandarallel import pandarallel\n",
    "pandarallel.initialize(progress_bar=True, nb_workers=40, use_memory_fs=False)\n",
    "\n",
    "import seaborn as sns\n",
    "\n",
    "import matplotlib.pyplot as plt\n",
    "\n",
    "import warnings\n",
    "warnings.filterwarnings(\"ignore\")\n",
    "\n",
    "from sklearn.metrics import auc\n",
    "import seaborn as sns\n",
    "import scipy.stats as stats"
   ]
  },
  {
   "cell_type": "code",
   "execution_count": 2,
   "id": "9f182801-aa68-43d3-aa2f-be04f82bee0c",
   "metadata": {},
   "outputs": [],
   "source": [
    "rewiring_prob=0.5\n",
    "sim_num=100\n",
    "\n",
    "\n",
    "sim_types= [\"random\", \"polyploids_first\", \"diploids_first\"]\n",
    "working_dir = f\"../../../data/statistical_analysis/extinction_analysis/rewiring_prob_{rewiring_prob}/\"\n",
    "extinction_simluations_output_path = {sim_type: f\"{working_dir}/rewiring_prob_{rewiring_prob}_united_{sim_type}_order_extinction_simulations.csv\" for sim_type in sim_types}\n",
    "weighted_features_data = \"../../../data/features/plant/weighted/features_with_classification.csv\"\n",
    "binary_features_data = \"../../../data/features/plant/binary/features_with_classification.csv\"\n",
    "binarized_features_data = \"../../../data/features/plant/binarized_weighted/features_with_classification.csv\"\n",
    "num_poly_threshold = 2\n",
    "num_di_threshold = 2\n",
    "\n",
    "all_networks_path = \"../../../data/networks/all/\"\n",
    "binary_networks_path = f\"{all_networks_path}binary/\"\n",
    "weighted_networks_path = f\"{all_networks_path}weighted/\"\n",
    "binarized_networks_path = f\"{all_networks_path}binarized_weighted/\"\n",
    "\n",
    "networks = {'weighted': {'networks': weighted_networks_path, 'data': weighted_features_data},\n",
    "            'binary': {'networks': binary_networks_path, 'data': binary_features_data},\n",
    "            'binarized_weighted': {'networks': binarized_networks_path, 'data': binarized_features_data}}\n",
    "\n",
    "networks_classification_data_paths = [\"../../../data/statistical_analysis/network_level/processed_features_with_ploidy_classification_on_unweighted_networks.csv\",\n",
    "                                     \"../../../data/statistical_analysis/network_level/processed_features_with_ploidy_classification_on_weighted_networks.csv\"]\n",
    "robustness_data_path = f\"{working_dir}robustness_data.csv\"\n",
    "aggregated_robustness_data_path = f\"../../../data/statistical_analysis/extinction_analysis/rewiring_prob_{rewiring_prob}_aggregated_robustness_data.csv\""
   ]
  },
  {
   "cell_type": "code",
   "execution_count": 3,
   "id": "413e5528-ae48-47ea-bb2e-a0b7196e114e",
   "metadata": {},
   "outputs": [],
   "source": [
    "first_poly_extinction_data = pd.read_csv(extinction_simluations_output_path[\"polyploids_first\"])\n",
    "first_di_extinction_data = pd.read_csv(extinction_simluations_output_path[\"diploids_first\"])\n",
    "random_extinction_data = pd.read_csv(extinction_simluations_output_path[\"random\"])"
   ]
  },
  {
   "cell_type": "code",
   "execution_count": 4,
   "id": "f9b63082-3b0e-4427-8604-6b0375b0de32",
   "metadata": {},
   "outputs": [],
   "source": [
    "def get_robustness_measures(df: pd.DataFrame) -> pd.Series:\n",
    "    return df.groupby([\"network_type\", \"network\", \"simulation_index\"]).parallel_apply(lambda df: auc(df.prop_primary_extinctions, df.prop_secondary_survival))"
   ]
  },
  {
   "cell_type": "code",
   "execution_count": 5,
   "id": "a294fe04-fb6c-4bd9-a09d-53b374aa03df",
   "metadata": {},
   "outputs": [
    {
     "data": {
      "application/vnd.jupyter.widget-view+json": {
       "model_id": "ae45996b7fb84938bf45b96e3e5bdfcd",
       "version_major": 2,
       "version_minor": 0
      },
      "text/plain": [
       "VBox(children=(HBox(children=(IntProgress(value=0, description='0.00%', max=3143), Label(value='0 / 3143'))), …"
      ]
     },
     "metadata": {},
     "output_type": "display_data"
    }
   ],
   "source": [
    "first_poly_robustness_values = get_robustness_measures(df=first_poly_extinction_data)"
   ]
  },
  {
   "cell_type": "code",
   "execution_count": 6,
   "id": "ddbb6103-ee5b-4e00-a8e6-546954d312d3",
   "metadata": {},
   "outputs": [
    {
     "data": {
      "application/vnd.jupyter.widget-view+json": {
       "model_id": "79271e1d4fff4f76900d07ebc38ce737",
       "version_major": 2,
       "version_minor": 0
      },
      "text/plain": [
       "VBox(children=(HBox(children=(IntProgress(value=0, description='0.00%', max=3143), Label(value='0 / 3143'))), …"
      ]
     },
     "metadata": {},
     "output_type": "display_data"
    }
   ],
   "source": [
    "first_di_robustness_values = get_robustness_measures(df=first_di_extinction_data)"
   ]
  },
  {
   "cell_type": "code",
   "execution_count": 7,
   "id": "9962c694-ff15-4ba5-bf7c-5613fc6e0e54",
   "metadata": {},
   "outputs": [
    {
     "data": {
      "application/vnd.jupyter.widget-view+json": {
       "model_id": "626fa1eaa5a946efa02292405ad65d73",
       "version_major": 2,
       "version_minor": 0
      },
      "text/plain": [
       "VBox(children=(HBox(children=(IntProgress(value=0, description='0.00%', max=3143), Label(value='0 / 3143'))), …"
      ]
     },
     "metadata": {},
     "output_type": "display_data"
    }
   ],
   "source": [
    "random_robustness_values = get_robustness_measures(df=random_extinction_data)"
   ]
  },
  {
   "cell_type": "code",
   "execution_count": 8,
   "id": "8e60b200-75b0-427b-a30f-76a6a4f5a53c",
   "metadata": {},
   "outputs": [],
   "source": [
    "first_poly_robustness_values = first_poly_robustness_values.to_frame().sort_index().rename(columns={0: \"first_poly_robustness\"})\n",
    "first_di_robustness_values = first_di_robustness_values.to_frame().sort_index().rename(columns={0: \"first_di_robustness\"})\n",
    "random_robustness_values = random_robustness_values.to_frame().sort_index().rename(columns={0: \"random_robustness\"})"
   ]
  },
  {
   "cell_type": "code",
   "execution_count": 9,
   "id": "1a178b17-eb22-48df-b469-6c71d0b4d603",
   "metadata": {},
   "outputs": [],
   "source": [
    "robustness_values = first_poly_robustness_values.join(random_robustness_values)\n",
    "robustness_values = robustness_values.join(first_di_robustness_values)"
   ]
  },
  {
   "cell_type": "code",
   "execution_count": 10,
   "id": "8169ca1e-0335-4f59-ad4d-aef4fe78bcac",
   "metadata": {},
   "outputs": [],
   "source": [
    "robustness_values = robustness_values.reset_index()"
   ]
  },
  {
   "cell_type": "code",
   "execution_count": 11,
   "id": "17600317-bd98-4439-8d23-84f71c8cab49",
   "metadata": {},
   "outputs": [],
   "source": [
    "networks_classification_data = pd.concat([pd.read_csv(path) for path in networks_classification_data_paths])"
   ]
  },
  {
   "cell_type": "code",
   "execution_count": 12,
   "id": "bfab7066-4665-4b9b-8b12-29872467b3e7",
   "metadata": {},
   "outputs": [],
   "source": [
    "networks_classification_data.network_id = networks_classification_data.network_id.apply(lambda x: int(x.split(\"_\")[0]))"
   ]
  },
  {
   "cell_type": "code",
   "execution_count": 13,
   "id": "7252cbb5-b329-4693-9432-a590304e6935",
   "metadata": {},
   "outputs": [],
   "source": [
    "robustness_values = robustness_values.rename(columns={\"network\": \"network_id\"})"
   ]
  },
  {
   "cell_type": "code",
   "execution_count": 14,
   "id": "4835acd7-3054-40cb-bb93-5b69674234a4",
   "metadata": {},
   "outputs": [],
   "source": [
    "# add % polyploids\n",
    "robustness_values = robustness_values.merge(networks_classification_data[[\"network_type\", \"network_id\", \"network_size\", \"pd\",\n",
    "                                                                          \"is_polyploid_poly_frac\", \"is_polyploid_missing_frac\",\n",
    "                                                                          \"num_polyploids\", \"num_diploids\", \"num_classified\"]], on=[\"network_type\", \"network_id\"])"
   ]
  },
  {
   "cell_type": "code",
   "execution_count": 16,
   "id": "e6aa9d5a-aba5-49b2-a22c-6c36f9299a77",
   "metadata": {},
   "outputs": [
    {
     "data": {
      "text/plain": [
       "network_type                 0.0\n",
       "network_id                   0.0\n",
       "simulation_index             0.0\n",
       "first_poly_robustness        0.0\n",
       "random_robustness            0.0\n",
       "first_di_robustness          0.0\n",
       "network_size                 0.0\n",
       "pd                           0.0\n",
       "is_polyploid_poly_frac       0.0\n",
       "is_polyploid_missing_frac    0.0\n",
       "num_polyploids               0.0\n",
       "num_diploids                 0.0\n",
       "num_classified               0.0\n",
       "dtype: float64"
      ]
     },
     "execution_count": 16,
     "metadata": {},
     "output_type": "execute_result"
    }
   ],
   "source": [
    "robustness_values.isna().sum() / robustness_values.shape[0]"
   ]
  },
  {
   "cell_type": "code",
   "execution_count": 17,
   "id": "10a3aeab-0886-45fc-94e6-50309011adfa",
   "metadata": {},
   "outputs": [],
   "source": [
    "robustness_values.to_csv(robustness_data_path)"
   ]
  },
  {
   "cell_type": "code",
   "execution_count": 18,
   "id": "d295f6bf-bf87-41d9-9125-b3a7f0811f71",
   "metadata": {},
   "outputs": [],
   "source": [
    "agg_robustness_values = robustness_values.dropna().groupby([\"network_type\", \"network_id\"])[[\"first_poly_robustness\", \"first_di_robustness\", \"random_robustness\",\n",
    "                                                                                           \"is_polyploid_poly_frac\", \"is_polyploid_missing_frac\", \n",
    "                                                                                            \"num_polyploids\", \"num_diploids\", \"num_classified\",\n",
    "                                                                                            \"pd\", \"network_size\"]].mean()"
   ]
  },
  {
   "cell_type": "code",
   "execution_count": 19,
   "id": "a04fd71d-15c6-48ac-8cb8-0aeaec79d11e",
   "metadata": {},
   "outputs": [],
   "source": [
    "agg_robustness_values.reset_index().to_csv(aggregated_robustness_data_path)"
   ]
  },
  {
   "cell_type": "code",
   "execution_count": 20,
   "id": "a3e6e55a-f3bc-4820-ac37-2a78dc310866",
   "metadata": {},
   "outputs": [],
   "source": [
    "assert(min(robustness_values.first_poly_robustness) >= 0)\n",
    "assert(min(robustness_values.first_di_robustness) >= 0)\n",
    "assert(min(robustness_values.random_robustness) >= 0)\n",
    "\n",
    "assert(max(robustness_values.first_poly_robustness) <= 1)\n",
    "assert(max(robustness_values.first_di_robustness) <= 1)\n",
    "assert(max(robustness_values.random_robustness) <= 1)"
   ]
  },
  {
   "cell_type": "code",
   "execution_count": 21,
   "id": "4d9f99e6-6b3e-410c-b7a7-26438cd90be6",
   "metadata": {},
   "outputs": [
    {
     "data": {
      "text/html": [
       "<div>\n",
       "<style scoped>\n",
       "    .dataframe tbody tr th:only-of-type {\n",
       "        vertical-align: middle;\n",
       "    }\n",
       "\n",
       "    .dataframe tbody tr th {\n",
       "        vertical-align: top;\n",
       "    }\n",
       "\n",
       "    .dataframe thead th {\n",
       "        text-align: right;\n",
       "    }\n",
       "</style>\n",
       "<table border=\"1\" class=\"dataframe\">\n",
       "  <thead>\n",
       "    <tr style=\"text-align: right;\">\n",
       "      <th></th>\n",
       "      <th>Unnamed: 0</th>\n",
       "      <th>network_type</th>\n",
       "      <th>network</th>\n",
       "      <th>simulation_index</th>\n",
       "      <th>primary_iteration</th>\n",
       "      <th>cascade_iteration</th>\n",
       "      <th>extinction_type</th>\n",
       "      <th>extinction_level</th>\n",
       "      <th>extinct_taxon</th>\n",
       "      <th>n_plants</th>\n",
       "      <th>n_pollinators</th>\n",
       "      <th>prop_primary_extinctions</th>\n",
       "      <th>prop_secondary_extinctions</th>\n",
       "      <th>prop_secondary_survival</th>\n",
       "    </tr>\n",
       "  </thead>\n",
       "  <tbody>\n",
       "    <tr>\n",
       "      <th>0</th>\n",
       "      <td>0</td>\n",
       "      <td>binarized_weighted</td>\n",
       "      <td>0</td>\n",
       "      <td>0</td>\n",
       "      <td>1</td>\n",
       "      <td>1</td>\n",
       "      <td>primary</td>\n",
       "      <td>plant</td>\n",
       "      <td>Aristotelia chilensis</td>\n",
       "      <td>9</td>\n",
       "      <td>19</td>\n",
       "      <td>0.1</td>\n",
       "      <td>0.000000</td>\n",
       "      <td>1.000000</td>\n",
       "    </tr>\n",
       "    <tr>\n",
       "      <th>1</th>\n",
       "      <td>1</td>\n",
       "      <td>binarized_weighted</td>\n",
       "      <td>0</td>\n",
       "      <td>0</td>\n",
       "      <td>2</td>\n",
       "      <td>1</td>\n",
       "      <td>primary</td>\n",
       "      <td>plant</td>\n",
       "      <td>Vicia nigricans</td>\n",
       "      <td>8</td>\n",
       "      <td>19</td>\n",
       "      <td>0.2</td>\n",
       "      <td>0.000000</td>\n",
       "      <td>1.000000</td>\n",
       "    </tr>\n",
       "    <tr>\n",
       "      <th>2</th>\n",
       "      <td>2</td>\n",
       "      <td>binarized_weighted</td>\n",
       "      <td>0</td>\n",
       "      <td>0</td>\n",
       "      <td>3</td>\n",
       "      <td>1</td>\n",
       "      <td>primary</td>\n",
       "      <td>plant</td>\n",
       "      <td>Mutisia decurrens</td>\n",
       "      <td>7</td>\n",
       "      <td>19</td>\n",
       "      <td>0.3</td>\n",
       "      <td>0.000000</td>\n",
       "      <td>1.000000</td>\n",
       "    </tr>\n",
       "    <tr>\n",
       "      <th>3</th>\n",
       "      <td>3</td>\n",
       "      <td>binarized_weighted</td>\n",
       "      <td>0</td>\n",
       "      <td>0</td>\n",
       "      <td>3</td>\n",
       "      <td>2</td>\n",
       "      <td>secondary</td>\n",
       "      <td>pollinator</td>\n",
       "      <td>Lauxaniidae</td>\n",
       "      <td>7</td>\n",
       "      <td>18</td>\n",
       "      <td>0.3</td>\n",
       "      <td>0.052632</td>\n",
       "      <td>0.947368</td>\n",
       "    </tr>\n",
       "    <tr>\n",
       "      <th>4</th>\n",
       "      <td>4</td>\n",
       "      <td>binarized_weighted</td>\n",
       "      <td>0</td>\n",
       "      <td>0</td>\n",
       "      <td>4</td>\n",
       "      <td>1</td>\n",
       "      <td>primary</td>\n",
       "      <td>plant</td>\n",
       "      <td>Tristerix corymbosus</td>\n",
       "      <td>6</td>\n",
       "      <td>18</td>\n",
       "      <td>0.4</td>\n",
       "      <td>0.052632</td>\n",
       "      <td>0.947368</td>\n",
       "    </tr>\n",
       "  </tbody>\n",
       "</table>\n",
       "</div>"
      ],
      "text/plain": [
       "   Unnamed: 0        network_type  network  simulation_index  \\\n",
       "0           0  binarized_weighted        0                 0   \n",
       "1           1  binarized_weighted        0                 0   \n",
       "2           2  binarized_weighted        0                 0   \n",
       "3           3  binarized_weighted        0                 0   \n",
       "4           4  binarized_weighted        0                 0   \n",
       "\n",
       "   primary_iteration  cascade_iteration extinction_type extinction_level  \\\n",
       "0                  1                  1         primary            plant   \n",
       "1                  2                  1         primary            plant   \n",
       "2                  3                  1         primary            plant   \n",
       "3                  3                  2       secondary       pollinator   \n",
       "4                  4                  1         primary            plant   \n",
       "\n",
       "           extinct_taxon  n_plants  n_pollinators  prop_primary_extinctions  \\\n",
       "0  Aristotelia chilensis         9             19                       0.1   \n",
       "1        Vicia nigricans         8             19                       0.2   \n",
       "2      Mutisia decurrens         7             19                       0.3   \n",
       "3            Lauxaniidae         7             18                       0.3   \n",
       "4   Tristerix corymbosus         6             18                       0.4   \n",
       "\n",
       "   prop_secondary_extinctions  prop_secondary_survival  \n",
       "0                    0.000000                 1.000000  \n",
       "1                    0.000000                 1.000000  \n",
       "2                    0.000000                 1.000000  \n",
       "3                    0.052632                 0.947368  \n",
       "4                    0.052632                 0.947368  "
      ]
     },
     "execution_count": 21,
     "metadata": {},
     "output_type": "execute_result"
    }
   ],
   "source": [
    "first_di_extinction_data.head()"
   ]
  },
  {
   "cell_type": "code",
   "execution_count": 22,
   "id": "d1c5e368-e6e3-45e8-9e66-93b99a375583",
   "metadata": {},
   "outputs": [
    {
     "data": {
      "image/png": "[encoded data removed]",
      "text/plain": [
       "<Figure size 500x500 with 1 Axes>"
      ]
     },
     "metadata": {},
     "output_type": "display_data"
    }
   ],
   "source": [
    "import matplotlib.pyplot as plt\n",
    "import seaborn as sns\n",
    "plt.rcParams[\"patch.force_edgecolor\"] = False\n",
    "fontsize = 42\n",
    "poly_color = \"gold\" #\"tab:orange\" # yellow, pink, blue\n",
    "di_color = \"tab:blue\"\n",
    "random_color = \"hotpink\" #\"tab:grey\"\n",
    "alpha = 0.42\n",
    "\n",
    "\n",
    "fig, ax = plt.subplots(nrows=1, ncols=1, figsize=(5, 5))\n",
    "\n",
    "sns.histplot(agg_robustness_values.random_robustness, label=\"Random order\", color=random_color, ax=ax, stat=\"probability\", alpha=alpha, linewidth=0)\n",
    "sns.histplot(agg_robustness_values.first_poly_robustness, label=\"Polyploids first\", color=poly_color, ax=ax, stat=\"probability\", alpha=alpha, linewidth=0)\n",
    "sns.histplot(agg_robustness_values.first_di_robustness, label=\"Diploids first\", ax=ax, color=di_color, stat=\"probability\", alpha=alpha, linewidth=0)\n",
    "\n",
    "ax.set_xlabel(\"Robustness\")\n",
    "\n",
    "ax.legend()\n",
    "\n",
    "fig.savefig(f\"../../../data/figures/fig5_rewiring_prob_{rewiring_prob}.jpeg\")"
   ]
  }
 ],
 "metadata": {
  "kernelspec": {
   "display_name": "Python 3 (ipykernel)",
   "language": "python",
   "name": "python3"
  },
  "language_info": {
   "codemirror_mode": {
    "name": "ipython",
    "version": 3
   },
   "file_extension": ".py",
   "mimetype": "text/x-python",
   "name": "python",
   "nbconvert_exporter": "python",
   "pygments_lexer": "ipython3",
   "version": "3.10.6"
  }
 },
 "nbformat": 4,
 "nbformat_minor": 5
}
