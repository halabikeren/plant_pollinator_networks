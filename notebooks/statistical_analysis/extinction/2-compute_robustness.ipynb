{
 "cells": [
  {
   "cell_type": "code",
   "execution_count": 1,
   "id": "ee4f03a3-615b-49a5-a53a-bcae260f0b40",
   "metadata": {
    "tags": []
   },
   "outputs": [
    {
     "name": "stdout",
     "output_type": "stream",
     "text": [
      "INFO: Pandarallel will run on 40 workers.\n",
      "INFO: Pandarallel will use standard multiprocessing data transfer (pipe) to transfer data between the main process and workers.\n"
     ]
    }
   ],
   "source": [
    "import warnings\n",
    "warnings.simplefilter(action='ignore', category=FutureWarning)\n",
    "import pandas as pd\n",
    "import numpy as np\n",
    "import os\n",
    "import sys\n",
    "from collections import defaultdict\n",
    "sys.path.append(\"../../../code/statistical_analysis/extinction_analysis/\")\n",
    "from simulator import Simulator, ExtinctionOrder\n",
    "\n",
    "from pandarallel import pandarallel\n",
    "pandarallel.initialize(progress_bar=True, nb_workers=40, use_memory_fs=False)\n",
    "\n",
    "import seaborn as sns\n",
    "\n",
    "import matplotlib.pyplot as plt\n",
    "\n",
    "import warnings\n",
    "warnings.filterwarnings(\"ignore\")\n",
    "\n",
    "from sklearn.metrics import auc\n",
    "import seaborn as sns\n",
    "import scipy.stats as stats"
   ]
  },
  {
   "cell_type": "code",
   "execution_count": 2,
   "id": "9f182801-aa68-43d3-aa2f-be04f82bee0c",
   "metadata": {},
   "outputs": [],
   "source": [
    "working_dir = f\"../../../data/statistical_analysis/extinction_analysis/\"\n",
    "do_weighted = True\n",
    "weighted_str = f\"{'un' if not do_weighted else ''}weighted\"\n",
    "\n",
    "order_to_outdir = {\"polyploids_first\": f\"{working_dir}full_polyploids_first_extinction_on_{weighted_str}_networks/\",\n",
    "                   \"diploids_first\": f\"{working_dir}full_diploids_first_extinction_on_{weighted_str}_networks/\",\n",
    "                   \"random\": f\"{working_dir}full_random_extinction_on_{weighted_str}_networks/\"}\n",
    "networks_metadata_path = \"../../../data/networks/networks_metadata.csv\"\n",
    "\n",
    "robustness_data_path = f\"{working_dir}robustness_data.csv\""
   ]
  },
  {
   "cell_type": "code",
   "execution_count": 3,
   "id": "413e5528-ae48-47ea-bb2e-a0b7196e114e",
   "metadata": {},
   "outputs": [
    {
     "data": {
      "application/vnd.jupyter.widget-view+json": {
       "model_id": "d02a4718e0974c90bea651bae867a53d",
       "version_major": 2,
       "version_minor": 0
      },
      "text/plain": [
       "VBox(children=(HBox(children=(IntProgress(value=0, description='0.00%', max=19781), Label(value='0 / 19781')))…"
      ]
     },
     "metadata": {},
     "output_type": "display_data"
    },
    {
     "data": {
      "application/vnd.jupyter.widget-view+json": {
       "model_id": "fed1726b7c794964aa2d4a1a65bfff1c",
       "version_major": 2,
       "version_minor": 0
      },
      "text/plain": [
       "VBox(children=(HBox(children=(IntProgress(value=0, description='0.00%', max=19898), Label(value='0 / 19898')))…"
      ]
     },
     "metadata": {},
     "output_type": "display_data"
    },
    {
     "data": {
      "application/vnd.jupyter.widget-view+json": {
       "model_id": "8d0e770b69a04ca487d56a8fffa010c7",
       "version_major": 2,
       "version_minor": 0
      },
      "text/plain": [
       "VBox(children=(HBox(children=(IntProgress(value=0, description='0.00%', max=19873), Label(value='0 / 19873')))…"
      ]
     },
     "metadata": {},
     "output_type": "display_data"
    }
   ],
   "source": [
    "def get_network_id(path):\n",
    "    components = path.split(\"/\")\n",
    "    nt = components[-2]\n",
    "    ni = int(components[-1].replace(\".csv\",\"\"))\n",
    "    return nt,ni\n",
    "\n",
    "non_mono_networks = defaultdict(list)\n",
    "order_to_data = {}\n",
    "for order in order_to_outdir:\n",
    "    outdir = order_to_outdir[order]\n",
    "    data = pd.concat([pd.read_csv(f\"{outdir}{p}\") for p in os.listdir(outdir) if p.endswith(\".csv\")])\n",
    "    data[[\"network_type\", \"network_index\"]] = data.parallel_apply(lambda rec: get_network_id(rec.network_path), axis=1, result_type=\"expand\")\n",
    "    data = data.sort_values([\"network_type\", \"network_index\", \"simulation_ind\", \"global_iter\"])\n",
    "    agg_data_by_net = data.groupby([\"network_type\", \"network_index\", \"simulation_ind\"])\n",
    "    \n",
    "    for group in agg_data_by_net.groups.keys():\n",
    "        group_data = agg_data_by_net.get_group(group)\n",
    "        x_data, y_data = group_data.p_extinct_row, group_data.p_remaining_col\n",
    "        if not (x_data.round(2).is_monotonic_increasing) or not (y_data.round(2).is_monotonic_decreasing):\n",
    "            non_mono_networks[order].append(group)\n",
    "\n",
    "    order_to_data[order] = data"
   ]
  },
  {
   "cell_type": "code",
   "execution_count": 4,
   "id": "f478e876-d3c8-42c5-b6c9-98e13c0d5454",
   "metadata": {},
   "outputs": [
    {
     "data": {
      "text/plain": [
       "set()"
      ]
     },
     "execution_count": 4,
     "metadata": {},
     "output_type": "execute_result"
    }
   ],
   "source": [
    "for order in non_mono_networks:\n",
    "    print(order, len(non_mono_networks[order]))\n",
    "set(non_mono_networks[\"polyploids_first\"])&set(non_mono_networks[\"diploids_first\"])&set(non_mono_networks[\"random\"])"
   ]
  },
  {
   "cell_type": "code",
   "execution_count": 5,
   "id": "a294fe04-fb6c-4bd9-a09d-53b374aa03df",
   "metadata": {},
   "outputs": [
    {
     "data": {
      "application/vnd.jupyter.widget-view+json": {
       "model_id": "18a960acf35b4cb3894a4c00a6117b55",
       "version_major": 2,
       "version_minor": 0
      },
      "text/plain": [
       "VBox(children=(HBox(children=(IntProgress(value=0, description='0.00%', max=765), Label(value='0 / 765'))), HB…"
      ]
     },
     "metadata": {},
     "output_type": "display_data"
    },
    {
     "data": {
      "application/vnd.jupyter.widget-view+json": {
       "model_id": "6e4d0e89a5cd46b18e300ac259604fc4",
       "version_major": 2,
       "version_minor": 0
      },
      "text/plain": [
       "VBox(children=(HBox(children=(IntProgress(value=0, description='0.00%', max=765), Label(value='0 / 765'))), HB…"
      ]
     },
     "metadata": {},
     "output_type": "display_data"
    },
    {
     "data": {
      "application/vnd.jupyter.widget-view+json": {
       "model_id": "62351208bfa6490d8044c500778fdffb",
       "version_major": 2,
       "version_minor": 0
      },
      "text/plain": [
       "VBox(children=(HBox(children=(IntProgress(value=0, description='0.00%', max=765), Label(value='0 / 765'))), HB…"
      ]
     },
     "metadata": {},
     "output_type": "display_data"
    }
   ],
   "source": [
    "def get_robustness_measures(df: pd.DataFrame) -> pd.Series:\n",
    "    robustness_df = df.groupby([\"network_type\", \"network_index\", \"simulation_ind\"]).parallel_apply(lambda df: auc(df.p_extinct_row, df.p_remaining_col)).reset_index().rename(columns={0: \"robustness\"})\n",
    "    robustness_df[\"num_cascades\"] = df.groupby([\"network_type\", \"network_index\", \"simulation_ind\"]).cascade_ind.apply(lambda l: len(set(l))).values\n",
    "    return robustness_df\n",
    "\n",
    "order_to_robustness_data = {}\n",
    "order_to_agg_robustness_data = {}\n",
    "for order in order_to_data:\n",
    "    robustness_data = get_robustness_measures(df=order_to_data[order])\n",
    "    order_to_robustness_data[order] = robustness_data\n",
    "    agg_robustness_df = robustness_data.groupby([\"network_type\", \"network_index\"]).robustness.mean().reset_index().rename(columns={\"robustness\": f\"{order}_robustness\"})\n",
    "    order_to_agg_robustness_data[order] = agg_robustness_df\n",
    "\n",
    "joined_robustness_data = (order_to_agg_robustness_data[\"polyploids_first\"].merge(order_to_agg_robustness_data[\"diploids_first\"], \n",
    "                                                                             on=[\"network_type\", \"network_index\"])).merge(order_to_agg_robustness_data[\"random\"],  \n",
    "                                                                                                                          on=[\"network_type\", \"network_index\"])\n",
    "\n",
    "# assert legality of robustness values\n",
    "for col in joined_robustness_data.columns:\n",
    "    if \"robustness\" in col:\n",
    "        assert(min(joined_robustness_data[col]) >= 0)\n",
    "        assert(max(joined_robustness_data[col]) <= 1)"
   ]
  },
  {
   "cell_type": "code",
   "execution_count": 6,
   "id": "17600317-bd98-4439-8d23-84f71c8cab49",
   "metadata": {},
   "outputs": [
    {
     "data": {
      "text/plain": [
       "network_type                   0.00000\n",
       "network_index                  0.00000\n",
       "polyploids_first_robustness    0.00000\n",
       "diploids_first_robustness      0.00000\n",
       "random_robustness              0.00000\n",
       "num_plants                     0.00000\n",
       "num_pollinators                0.00000\n",
       "num_polyploids                 0.00000\n",
       "num_diploids                   0.00000\n",
       "num_classified                 0.00000\n",
       "pd                             0.75817\n",
       "is_polyploid_poly_frac         0.00000\n",
       "is_polyploid_missing_frac      0.00000\n",
       "dtype: float64"
      ]
     },
     "execution_count": 6,
     "metadata": {},
     "output_type": "execute_result"
    }
   ],
   "source": [
    "networks_metadata = pd.read_csv(networks_metadata_path)[[\"network_type\", \"network_index\", \"num_plants\", \"num_pollinators\",\n",
    "                                                          \"num_polyploids\", \"num_diploids\", \"num_classified\",\n",
    "                                                         \"pd\", \"is_polyploid_poly_frac\", \"is_polyploid_missing_frac\"]]\n",
    "final_robustness_data = joined_robustness_data.merge(networks_metadata, on=[\"network_type\", \"network_index\"], how=\"left\")\n",
    "final_robustness_data.to_csv(robustness_data_path)\n",
    "final_robustness_data.isna().sum() / final_robustness_data.shape[0]"
   ]
  },
  {
   "cell_type": "code",
   "execution_count": 7,
   "id": "d1c5e368-e6e3-45e8-9e66-93b99a375583",
   "metadata": {},
   "outputs": [
    {
     "name": "stdout",
     "output_type": "stream",
     "text": [
      "# networks for plotting = 306\n"
     ]
    },
    {
     "data": {
      "text/plain": [
       "<matplotlib.legend.Legend at 0x7f83e5afc910>"
      ]
     },
     "execution_count": 7,
     "metadata": {},
     "output_type": "execute_result"
    },
    {
     "data": {
      "image/png": "[encoded data removed]",
      "text/plain": [
       "<Figure size 500x500 with 1 Axes>"
      ]
     },
     "metadata": {},
     "output_type": "display_data"
    }
   ],
   "source": [
    "import matplotlib.pyplot as plt\n",
    "import seaborn as sns\n",
    "plt.rcParams[\"patch.force_edgecolor\"] = False\n",
    "fontsize = 42\n",
    "poly_color = \"gold\" #\"tab:orange\" # yellow, pink, blue\n",
    "di_color = \"tab:blue\"\n",
    "random_color = \"hotpink\" #\"tab:grey\"\n",
    "alpha = 0.42\n",
    "\n",
    "\n",
    "fig, ax = plt.subplots(nrows=1, ncols=1, figsize=(5, 5))\n",
    "\n",
    "plot_data = final_robustness_data\n",
    "print(f\"# networks for plotting = {plot_data.shape[0]:,}\")\n",
    "sns.histplot(plot_data.random_robustness, label=\"Random order\", color=random_color, ax=ax, stat=\"probability\", alpha=alpha, linewidth=0)\n",
    "sns.histplot(plot_data.polyploids_first_robustness, label=\"Polyploids first\", color=poly_color, ax=ax, stat=\"probability\", alpha=alpha, linewidth=0)\n",
    "sns.histplot(plot_data.diploids_first_robustness, label=\"Diploids first\", ax=ax, color=di_color, stat=\"probability\", alpha=alpha, linewidth=0)\n",
    "\n",
    "ax.set_xlabel(\"Robustness\")\n",
    "\n",
    "ax.legend()\n",
    "\n",
    "# fig.savefig(f\"../../../data/figures/fig5.svg\")"
   ]
  },
  {
   "cell_type": "code",
   "execution_count": 9,
   "id": "ffab7e56-59be-416c-bc5f-c24dd9833ab3",
   "metadata": {},
   "outputs": [
    {
     "data": {
      "image/png": "[encoded data removed]",
      "text/plain": [
       "<Figure size 500x500 with 1 Axes>"
      ]
     },
     "metadata": {},
     "output_type": "display_data"
    }
   ],
   "source": [
    "import matplotlib.pyplot as plt\n",
    "import seaborn as sns\n",
    "plt.rcParams[\"patch.force_edgecolor\"] = False\n",
    "fontsize = 42\n",
    "poly_color = \"darkorange\" #\"tab:orange\" # yellow, pink, blue\n",
    "di_color = \"tab:blue\"\n",
    "random_color = \"black\" #\"tab:grey\"\n",
    "alpha = 0.5\n",
    "min_num_class_members = 5 #10\n",
    "\n",
    "plot_data = final_robustness_data.loc[(final_robustness_data.num_polyploids > min_num_class_members)&(final_robustness_data.num_diploids > min_num_class_members)]\n",
    "fig, ax = plt.subplots(nrows=1, ncols=1, figsize=(5, 5))\n",
    "\n",
    "sns.histplot(plot_data.random_robustness, label=\"Random order\", color=random_color, ax=ax, stat=\"probability\", alpha=alpha, linewidth=0)\n",
    "sns.histplot(plot_data.polyploids_first_robustness, label=\"Polyploids first\", color=poly_color, ax=ax, stat=\"probability\", alpha=alpha, linewidth=0)\n",
    "sns.histplot(plot_data.diploids_first_robustness, label=\"Diploids first\", ax=ax, color=di_color, stat=\"probability\", alpha=alpha, linewidth=0)\n",
    "ax.legend()\n",
    "ax.set_xlabel(\"Mean robustness across 100 simulations\")\n",
    "fig.tight_layout()\n",
    "\n",
    "fig.savefig(f\"../../../data/figures/fig5.jpeg\")"
   ]
  }
 ],
 "metadata": {
  "kernelspec": {
   "display_name": "Python 3 (ipykernel)",
   "language": "python",
   "name": "python3"
  },
  "language_info": {
   "codemirror_mode": {
    "name": "ipython",
    "version": 3
   },
   "file_extension": ".py",
   "mimetype": "text/x-python",
   "name": "python",
   "nbconvert_exporter": "python",
   "pygments_lexer": "ipython3",
   "version": "3.10.6"
  }
 },
 "nbformat": 4,
 "nbformat_minor": 5
}
