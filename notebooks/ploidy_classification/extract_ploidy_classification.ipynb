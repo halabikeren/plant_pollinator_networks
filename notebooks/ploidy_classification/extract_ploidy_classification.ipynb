{
 "cells": [
  {
   "cell_type": "code",
   "execution_count": 1,
   "id": "27b6b65e-9638-4b90-942a-03fc2af80096",
   "metadata": {},
   "outputs": [
    {
     "name": "stdout",
     "output_type": "stream",
     "text": [
      "INFO: Pandarallel will run on 20 workers.\n",
      "INFO: Pandarallel will use Memory file system to transfer data between the main process and workers.\n"
     ]
    }
   ],
   "source": [
    "import pandas as pd\n",
    "import numpy as np\n",
    "import os\n",
    "import sys\n",
    "sys.path.append(\"../../code/data_processing/name_resolution/\")\n",
    "from resolved_names_curator import ResolvedNamesCurator\n",
    "\n",
    "import matplotlib.pyplot as plt\n",
    "from ete3 import Tree\n",
    "\n",
    "from pandarallel import pandarallel\n",
    "pandarallel.initialize(progress_bar=True)"
   ]
  },
  {
   "cell_type": "code",
   "execution_count": 2,
   "id": "dcd2995d-5fa1-4709-ad6c-3a8e1039c9c7",
   "metadata": {},
   "outputs": [],
   "source": [
    "polyploidy_threshold = 0.75\n",
    "diploidy_threshold = 0.25\n",
    "\n",
    "ploidb_path = f\"/groups/itay_mayrose/halabikeren/PloiDB/chromevol/database/ploidb_by_genus_without_missing.csv\"\n",
    "qdb_path = \"/groups/itay_mayrose/halabikeren/PloiDB/chromevol/results/cvalues_db.csv\"\n",
    "\n",
    "unresolved_plant_names_path = f\"../../data/name_resolution/unresolved_plant_names.csv\"\n",
    "resolved_plant_names_path = f\"../../data/name_resolution/resolved_plant_names.csv\"\n",
    "resolved_pollinator_names_path = f\"../../data/name_resolution/resolved_pollinator_names.csv\"\n",
    "\n",
    "tree_path = \"../../data/trees/ALLMB.tre\"\n",
    "ccdb_path = \"/groups/itay_mayrose/halabikeren/PloiDB/ccdb/all_data_with_ALLMB_mapped_names.csv\"\n",
    "classification_data_path = \"/groups/itay_mayrose/halabikeren/PloiDB/trees/wfo_classification_data.csv\"\n",
    "missing_names_path = \"/groups/itay_mayrose/halabikeren/PloiDB/trees/names_to_add_for_ppn_project.csv\"\n",
    "\n",
    "networks_types = [\"weighted\", \"binary\", \"binarized_weighted\"]\n",
    "all_networks_dir = \"/groups/itay_mayrose/halabikeren/plant_pollinator_networks/networks/all/\"\n",
    "\n",
    "plant_classification_path = f\"../../data/ploidy_classification/plant_classification.csv\"\n",
    "network_classification_path = f\"../../data/ploidy_classification/network_classification.csv\"\n",
    "\n",
    "all_networks_dir = \"../../data/networks/all/\""
   ]
  },
  {
   "cell_type": "markdown",
   "id": "5dccac57-a0d9-451d-99d0-c3e3cc8ad056",
   "metadata": {
    "jp-MarkdownHeadingCollapsed": true,
    "tags": []
   },
   "source": [
    "# Examine coverage in kew-DB"
   ]
  },
  {
   "cell_type": "code",
   "execution_count": null,
   "id": "600e3115-cdc9-462d-81b6-ebade6fc7335",
   "metadata": {},
   "outputs": [],
   "source": [
    "kew_db = pd.read_csv(qdb_path)\n",
    "resolved_names = pd.read_csv(resolved_plant_names_path)"
   ]
  },
  {
   "cell_type": "code",
   "execution_count": null,
   "id": "2acc9e25-a6c1-4099-b6e2-2d48af927f9e",
   "metadata": {},
   "outputs": [],
   "source": [
    "kew_db[\"taxon\"] = (kew_db[\"Genus\"] + \" \" + kew_db[\"Species\"] + kew_db[\"Subspecies\"].replace({np.nan: \"\"})).str.lower()"
   ]
  },
  {
   "cell_type": "code",
   "execution_count": null,
   "id": "1d3e19ef-e867-4e62-a178-5353ec68ea0a",
   "metadata": {},
   "outputs": [],
   "source": [
    "kew_db[\"is_polyploid\"] = kew_db[\"Ploidy Level (x)\"].apply(lambda l: np.nan if l == \"-\" else int(int(l) > 2))\n",
    "kew_db = kew_db.dropna(subset=[\"is_polyploid\"]).drop_duplicates(subset=[\"taxon\"])\n",
    "kew_db.shape[0]"
   ]
  },
  {
   "cell_type": "code",
   "execution_count": null,
   "id": "aba7817e-fdc9-4a57-90b4-59da55be68a8",
   "metadata": {},
   "outputs": [],
   "source": [
    "kew_based_classification = resolved_names\n",
    "kew_based_classification[\"is_polyploid\"] = np.nan\n",
    "kew_based_classification.set_index(\"resolved_name\", inplace=True)\n",
    "kew_based_classification[\"is_polyploid\"].fillna(value=kew_db.set_index(\"taxon\")[\"is_polyploid\"].to_dict(), inplace=True)\n",
    "kew_based_classification.reset_index(inplace=True)\n",
    "kew_based_classification.set_index(\"original_name\", inplace=True)                                                \n",
    "kew_based_classification[\"is_polyploid\"].fillna(value=kew_db.set_index(\"taxon\")[\"is_polyploid\"].to_dict(), inplace=True)\n",
    "kew_db.reset_index(inplace=True)\n",
    "kew_based_classification.reset_index(inplace=True)"
   ]
  },
  {
   "cell_type": "code",
   "execution_count": null,
   "id": "bcaa72d4-72bf-440b-9b4f-1da1d2c9e1f3",
   "metadata": {},
   "outputs": [],
   "source": [
    "kew_based_classification = kew_based_classification.drop_duplicates(subset=[\"original_name\"])"
   ]
  },
  {
   "cell_type": "code",
   "execution_count": null,
   "id": "946ade7b-e627-45fd-ac5b-94c0ee41871b",
   "metadata": {},
   "outputs": [],
   "source": [
    "kew_based_classification.notna().sum()"
   ]
  },
  {
   "cell_type": "code",
   "execution_count": null,
   "id": "e33e6892-dba9-4cb5-8137-49d7171eb6ce",
   "metadata": {},
   "outputs": [],
   "source": [
    "kew_based_classification.notna().sum() / kew_based_classification.shape[0] * 100"
   ]
  },
  {
   "cell_type": "code",
   "execution_count": 10,
   "id": "43c32dc5-7c77-427d-9a01-28a53120657f",
   "metadata": {},
   "outputs": [
    {
     "data": {
      "text/plain": [
       "399"
      ]
     },
     "execution_count": 10,
     "metadata": {},
     "output_type": "execute_result"
    }
   ],
   "source": [
    "len(set(kew_db.set_index(\"taxon\")[\"is_polyploid\"].to_dict().keys()) & set(resolved_names.original_name))"
   ]
  },
  {
   "cell_type": "code",
   "execution_count": 11,
   "id": "87637b1c-ef32-46ad-87eb-71f34edad685",
   "metadata": {},
   "outputs": [
    {
     "data": {
      "text/plain": [
       "369"
      ]
     },
     "execution_count": 11,
     "metadata": {},
     "output_type": "execute_result"
    }
   ],
   "source": [
    "len(set(kew_db.set_index(\"taxon\")[\"is_polyploid\"].to_dict().keys()) & set(resolved_names.resolved_name))"
   ]
  },
  {
   "cell_type": "markdown",
   "id": "facc5abe-231c-4b4f-9482-d9a259be620c",
   "metadata": {
    "tags": []
   },
   "source": [
    "# Extract classification at plant species level"
   ]
  },
  {
   "cell_type": "code",
   "execution_count": 3,
   "id": "925d9292-8806-4700-8ba8-7c4b92865266",
   "metadata": {},
   "outputs": [],
   "source": [
    "plant_classification_df = pd.read_csv(resolved_plant_names_path)[[\"original_name\",\"matched_name\", \"resolved_name\"]]\n",
    "plant_classification_df.original_name = plant_classification_df.original_name.str.lower()\n",
    "plant_classification_df.matched_name = plant_classification_df.matched_name.str.lower()\n",
    "plant_classification_df.resolved_name = plant_classification_df.resolved_name.str.lower()\n",
    "\n",
    "ploidy_df = pd.read_csv(ploidb_path)\n",
    "ploidy_df[\"Ploidy inference\"] = ploidy_df[\"Ploidy transitions frequency\"].apply(lambda f: 1 if f >= polyploidy_threshold else (0 if f < diploidy_threshold else np.nan))\n",
    "convervative_classification_data = ploidy_df.set_index(\"Taxon\")[\"Ploidy inference\"].to_dict()\n",
    "convervative_age_data = ploidy_df.set_index(\"Taxon\")[\"Ploidy age\"].to_dict()\n",
    "\n",
    "\n",
    "plant_classification_df.set_index(\"original_name\", inplace=True)\n",
    "plant_classification_df[\"is_polyploid_by_original\"] = np.nan\n",
    "plant_classification_df[\"polyploid_age_by_original\"] = np.nan\n",
    "plant_classification_df[\"is_polyploid_by_original\"].fillna(value=convervative_classification_data, inplace=True)\n",
    "plant_classification_df[\"polyploid_age_by_original\"].fillna(value=convervative_age_data, inplace=True)\n",
    "plant_classification_df.reset_index(inplace=True)\n",
    "\n",
    "plant_classification_df.set_index(\"matched_name\", inplace=True)\n",
    "plant_classification_df[\"is_polyploid_by_matched\"] = np.nan\n",
    "plant_classification_df[\"polyploid_age_by_matched\"] = np.nan\n",
    "plant_classification_df[\"is_polyploid_by_matched\"].fillna(value=convervative_classification_data, inplace=True)\n",
    "plant_classification_df[\"polyploid_age_by_matched\"].fillna(value=convervative_age_data, inplace=True)\n",
    "plant_classification_df.reset_index(inplace=True)\n",
    "\n",
    "plant_classification_df.set_index(\"resolved_name\", inplace=True)\n",
    "plant_classification_df[\"is_polyploid_by_resolved\"] = np.nan\n",
    "plant_classification_df[\"polyploid_age_by_resolved\"] = np.nan\n",
    "plant_classification_df[\"is_polyploid_by_resolved\"].fillna(value=convervative_classification_data, inplace=True)\n",
    "plant_classification_df[\"polyploid_age_by_resolved\"].fillna(value=convervative_age_data, inplace=True)\n",
    "plant_classification_df.reset_index(inplace=True)"
   ]
  },
  {
   "cell_type": "code",
   "execution_count": 4,
   "id": "d5383802-e09a-459f-ad34-c6ff363deba6",
   "metadata": {},
   "outputs": [],
   "source": [
    "plant_classification_df[\"is_polyploid\"] = plant_classification_df[[\"is_polyploid_by_original\",\n",
    "                                                                                \"is_polyploid_by_matched\",\n",
    "                                                                                \"is_polyploid_by_resolved\"]].apply(lambda labels: np.nan if len(labels.dropna())==0 else labels.dropna()[0], axis=1) \n",
    "\n",
    "plant_classification_df[\"polyploid_age\"] = plant_classification_df[[\"polyploid_age_by_original\",\n",
    "                                                                                \"polyploid_age_by_matched\",\n",
    "                                                                                \"polyploid_age_by_resolved\"]].apply(lambda labels: np.nan if len(labels.dropna())==0 else labels.dropna()[0], axis=1) "
   ]
  },
  {
   "cell_type": "code",
   "execution_count": 5,
   "id": "67aa0203-a8dc-4144-ad5a-02ce85851a18",
   "metadata": {},
   "outputs": [
    {
     "name": "stdout",
     "output_type": "stream",
     "text": [
      "% classified by original name = 31.09% (1,626)\n",
      "% classified by matched name = 0.0% (0)\n",
      "% classified by resolved name = 32.83% (1,717)\n",
      "% classified by any name = 34.47% (1,803)\n"
     ]
    }
   ],
   "source": [
    "print(f\"% classified by original name = {np.round(plant_classification_df.dropna(subset=['is_polyploid_by_original']).shape[0]/plant_classification_df.shape[0]*100, 2)}% ({plant_classification_df.dropna(subset=['is_polyploid_by_original']).shape[0]:,})\")\n",
    "\n",
    "print(f\"% classified by matched name = {np.round(plant_classification_df.dropna(subset=['is_polyploid_by_matched']).shape[0]/plant_classification_df.shape[0]*100, 2)}% ({plant_classification_df.dropna(subset=['is_polyploid_by_matched']).shape[0]:,})\")\n",
    "\n",
    "print(f\"% classified by resolved name = {np.round(plant_classification_df.dropna(subset=['is_polyploid_by_resolved']).shape[0]/plant_classification_df.shape[0]*100, 2)}% ({plant_classification_df.dropna(subset=['is_polyploid_by_resolved']).shape[0]:,})\")\n",
    "\n",
    "print(f\"% classified by any name = {np.round(plant_classification_df.dropna(subset=['is_polyploid']).shape[0]/plant_classification_df.shape[0]*100, 2)}% ({plant_classification_df.dropna(subset=['is_polyploid']).shape[0]:,})\")"
   ]
  },
  {
   "cell_type": "code",
   "execution_count": 6,
   "id": "b6709eb6-4554-4d05-b1a8-186d8dfcb2ec",
   "metadata": {},
   "outputs": [],
   "source": [
    "avail_plant_classification_df = plant_classification_df.query(\"is_polyploid.notna()\")\n",
    "avail_plant_classification_df.to_csv(plant_classification_path, index=False)"
   ]
  },
  {
   "cell_type": "markdown",
   "id": "b81af1c8-33ea-47e3-a9bc-0047fda04bcd",
   "metadata": {
    "tags": []
   },
   "source": [
    "# assign ploidy ages to diploid taxa"
   ]
  },
  {
   "cell_type": "code",
   "execution_count": 7,
   "id": "1cd20655-7e9f-485a-80c8-220d04d90b7e",
   "metadata": {},
   "outputs": [],
   "source": [
    "plant_classification = pd.read_csv(plant_classification_path)"
   ]
  },
  {
   "cell_type": "code",
   "execution_count": 8,
   "id": "9852ecb9-ac57-420f-b794-887133cccbae",
   "metadata": {},
   "outputs": [
    {
     "name": "stdout",
     "output_type": "stream",
     "text": [
      "# diploids for which ploidy age classification is required = 1\n"
     ]
    }
   ],
   "source": [
    "diploids_for_age_classification = plant_classification.query(\"polyploid_age.isna() and is_polyploid.notna()\")\n",
    "print(f\"# diploids for which ploidy age classification is required = {diploids_for_age_classification.shape[0]:,}\")"
   ]
  },
  {
   "cell_type": "code",
   "execution_count": 9,
   "id": "2f157509-5d9d-4515-af79-81ff879826c8",
   "metadata": {},
   "outputs": [
    {
     "data": {
      "text/plain": [
       "<AxesSubplot: >"
      ]
     },
     "execution_count": 9,
     "metadata": {},
     "output_type": "execute_result"
    },
    {
     "data": {
      "image/png": "[encoded data removed]",
      "text/plain": [
       "<Figure size 640x480 with 1 Axes>"
      ]
     },
     "metadata": {},
     "output_type": "display_data"
    }
   ],
   "source": [
    "plant_classification.polyploid_age.hist()"
   ]
  },
  {
   "cell_type": "code",
   "execution_count": 10,
   "id": "e6c37372-15de-4449-adbb-37cce24bb609",
   "metadata": {},
   "outputs": [
    {
     "data": {
      "text/plain": [
       "1"
      ]
     },
     "execution_count": 10,
     "metadata": {},
     "output_type": "execute_result"
    }
   ],
   "source": [
    "plant_classification.polyploid_age.isna().sum()"
   ]
  },
  {
   "cell_type": "markdown",
   "id": "b034733f-8c56-4f1f-836c-84156eb0fc94",
   "metadata": {
    "tags": []
   },
   "source": [
    "# report ploidy classification stats"
   ]
  },
  {
   "cell_type": "code",
   "execution_count": 11,
   "id": "92a36d6a-46b2-41cf-84ec-64d8fbf5f9c5",
   "metadata": {},
   "outputs": [
    {
     "name": "stdout",
     "output_type": "stream",
     "text": [
      "by resolved names\n",
      "% polyploids = 34.89% (629)\n",
      "% diploids = 60.34% (1,088)\n",
      "% undetermined = 4.77% (86)\n"
     ]
    }
   ],
   "source": [
    "print(f\"by resolved names\")\n",
    "debug = pd.read_csv(plant_classification_path)\n",
    "print(f\"% polyploids = {np.round(debug.loc[debug.is_polyploid_by_resolved == 1].shape[0]/debug.shape[0]*100,2)}% ({debug.loc[debug.is_polyploid_by_resolved == 1].shape[0]:,})\")\n",
    "print(f\"% diploids = {np.round(debug.loc[debug.is_polyploid_by_resolved == 0].shape[0]/debug.shape[0]*100,2)}% ({debug.loc[debug.is_polyploid_by_resolved == 0].shape[0]:,})\")\n",
    "print(f\"% undetermined = {np.round(debug.loc[debug.is_polyploid_by_resolved.isna()].shape[0]/debug.shape[0]*100,2)}% ({debug.loc[debug.is_polyploid_by_resolved.isna()].shape[0]:,})\")"
   ]
  },
  {
   "cell_type": "code",
   "execution_count": 12,
   "id": "c940e334-a5ad-4bd6-a985-02157060b543",
   "metadata": {},
   "outputs": [
    {
     "name": "stdout",
     "output_type": "stream",
     "text": [
      "by original names\n",
      "% polyploids = 33.67% (607)\n",
      "% diploids = 56.52% (1,019)\n",
      "% undetermined = 9.82% (177)\n"
     ]
    }
   ],
   "source": [
    "print(f\"by original names\")\n",
    "print(f\"% polyploids = {np.round(debug.loc[debug.is_polyploid_by_original == 1].shape[0]/debug.shape[0]*100,2)}% ({debug.loc[debug.is_polyploid_by_original == 1].shape[0]:,})\")\n",
    "print(f\"% diploids = {np.round(debug.loc[debug.is_polyploid_by_original == 0].shape[0]/debug.shape[0]*100,2)}% ({debug.loc[debug.is_polyploid_by_original == 0].shape[0]:,})\")\n",
    "print(f\"% undetermined = {np.round(debug.loc[debug.is_polyploid_by_original.isna()].shape[0]/debug.shape[0]*100,2)}% ({debug.loc[debug.is_polyploid_by_original.isna()].shape[0]:,})\")"
   ]
  },
  {
   "cell_type": "code",
   "execution_count": 13,
   "id": "0a0f240a-22fa-40b4-ae0e-b4ba009de991",
   "metadata": {},
   "outputs": [],
   "source": [
    "species_names_dfs = []\n",
    "for networks_type in networks_types:\n",
    "    networks_dir = f\"../../data/networks/all/{networks_type}/\"\n",
    "    for path in os.listdir(networks_dir):\n",
    "        if path.endswith(\".csv\"):\n",
    "            try:\n",
    "                network_path = f\"{networks_dir}{path}\"\n",
    "                network = pd.read_csv(network_path)\n",
    "                if not \"Plant\" in network.columns:\n",
    "                    network = network.rename(columns={\"Unnamed: 0\": \"Plant\"})\n",
    "                    network.to_csv(network_path)\n",
    "                network_species = pd.DataFrame(columns=[\"network_type\", \"network_id\", \"original_name\"])\n",
    "                network_species[\"original_name\"] = network.Plant.tolist()\n",
    "                network_species[\"network_type\"] = networks_type\n",
    "                network_species[\"network_id\"] = int(path.replace(\".csv\", \"\"))\n",
    "                species_names_dfs.append(network_species)\n",
    "            except Exception as e:\n",
    "                print(f\"error {e} for {path}\")\n",
    "                continue\n",
    "features_by_network = pd.concat(species_names_dfs)\n",
    "features_by_network.original_name = features_by_network.original_name.str.lower()\n",
    "features_by_network.original_name = features_by_network.original_name.apply(lambda name: name.replace(\"_\", \" \"))\n",
    "features_by_network = features_by_network.merge(plant_classification_df[[\"original_name\", \"is_polyploid\", \"polyploid_age\"]], on=\"original_name\", how=\"left\")"
   ]
  },
  {
   "cell_type": "code",
   "execution_count": 14,
   "id": "4dd13395-c9fa-4952-bb94-b5f3c597074f",
   "metadata": {},
   "outputs": [
    {
     "name": "stderr",
     "output_type": "stream",
     "text": [
      "/tmp/ipykernel_12632/2653682608.py:4: RuntimeWarning: invalid value encountered in long_scalars\n",
      "  return poly/(di+poly)\n"
     ]
    }
   ],
   "source": [
    "def get_poly_frac(labels):\n",
    "    poly = (labels == 1).sum()\n",
    "    di = (labels == 0).sum()\n",
    "    return poly/(di+poly)\n",
    "\n",
    "def get_missing_frac(labels):\n",
    "    missing = (labels.isna()).sum()\n",
    "    return missing/len(labels)         \n",
    "\n",
    "network_classification = features_by_network.groupby([\"network_type\", \"network_id\"]).agg({\"is_polyploid\": [get_poly_frac, get_missing_frac]}).reset_index()\n",
    "network_classification.columns = [f\"{c[0]}{c[1].replace('get','')}\" for c in network_classification.columns]\n",
    "\n",
    "network_classification = network_classification.fillna(0)"
   ]
  },
  {
   "cell_type": "code",
   "execution_count": 15,
   "id": "8352df84-d5d1-41d4-88af-3585002c97bc",
   "metadata": {},
   "outputs": [],
   "source": [
    "network_classification.to_csv(network_classification_path, index=False)"
   ]
  },
  {
   "cell_type": "markdown",
   "id": "f8e7f970-eff2-4343-be1b-e512c659f31c",
   "metadata": {},
   "source": [
    "# fill network coverage as metadata"
   ]
  },
  {
   "cell_type": "code",
   "execution_count": 16,
   "id": "f81b1aaf-62d3-42e6-9366-e112cff61487",
   "metadata": {},
   "outputs": [],
   "source": [
    "network_classification = pd.read_csv(network_classification_path)\n",
    "plant_classification = pd.read_csv(plant_classification_path)"
   ]
  },
  {
   "cell_type": "code",
   "execution_count": 17,
   "id": "23ebfd54-b7f5-4fef-a4fd-2f6488b3c868",
   "metadata": {},
   "outputs": [
    {
     "data": {
      "application/vnd.jupyter.widget-view+json": {
       "model_id": "5466405e3b094129ac218bb545987d1e",
       "version_major": 2,
       "version_minor": 0
      },
      "text/plain": [
       "VBox(children=(HBox(children=(IntProgress(value=0, description='0.00%', max=82), Label(value='0 / 82'))), HBox…"
      ]
     },
     "metadata": {},
     "output_type": "display_data"
    }
   ],
   "source": [
    "def get_network_stats(rec: pd.Series) -> list:\n",
    "    network_path = f\"{all_networks_dir}{rec.network_type}/{rec.network_id}.csv\"\n",
    "    network = pd.read_csv(network_path)\n",
    "    plants = network.Plant.str.lower().unique().tolist()\n",
    "    n_plants = len(plants)\n",
    "    n_resolved = len(plant_classification.loc[(plant_classification.original_name.isin(plants)) & (plant_classification.resolved_name.notna())].original_name.unique())\n",
    "    n_classified = len(plant_classification.loc[(plant_classification.original_name.isin(plants)) & (plant_classification.is_polyploid_by_resolved.notna())].original_name.unique())\n",
    "    n_polyploids = len(plant_classification.loc[(plant_classification.original_name.isin(plants)) & (plant_classification.is_polyploid_by_resolved == 1)].original_name.unique())\n",
    "    n_diploids = len(plant_classification.loc[(plant_classification.original_name.isin(plants)) & (plant_classification.is_polyploid_by_resolved == 0)].original_name.unique())\n",
    "    return n_plants, n_resolved, n_classified, n_polyploids, n_diploids\n",
    "\n",
    "network_classification[[\"num_plants\", \"num_resolved\", \"num_classified\", \"num_polyploids\", \"num_diploids\"]] = network_classification.parallel_apply(get_network_stats, axis=1, result_type=\"expand\")"
   ]
  },
  {
   "cell_type": "code",
   "execution_count": 18,
   "id": "275228d0-8343-47a3-a7d4-e46cf9148f29",
   "metadata": {},
   "outputs": [],
   "source": [
    "network_classification.to_csv(network_classification_path)"
   ]
  },
  {
   "cell_type": "code",
   "execution_count": 19,
   "id": "ece87b52-cdd8-4121-841d-d5bbff5560db",
   "metadata": {},
   "outputs": [
    {
     "name": "stdout",
     "output_type": "stream",
     "text": [
      "% polyploids = 36.63% (629)\n",
      "% diploids = 63.37% (1088)\n"
     ]
    }
   ],
   "source": [
    "print(f\"% polyploids = {np.round(plant_classification.loc[plant_classification.is_polyploid_by_resolved == 1].shape[0] / plant_classification.loc[plant_classification.is_polyploid_by_resolved.notna()].shape[0]*100,2)}% ({plant_classification.loc[plant_classification.is_polyploid_by_resolved == 1].shape[0]})\")\n",
    "print(f\"% diploids = {np.round(plant_classification.loc[plant_classification.is_polyploid_by_resolved == 0].shape[0] / plant_classification.loc[plant_classification.is_polyploid_by_resolved.notna()].shape[0]*100,2)}% ({plant_classification.loc[plant_classification.is_polyploid_by_resolved == 0].shape[0]})\")"
   ]
  },
  {
   "cell_type": "code",
   "execution_count": 20,
   "id": "dc5879cd-d197-48e0-bced-e2e52f9d316d",
   "metadata": {},
   "outputs": [
    {
     "name": "stdout",
     "output_type": "stream",
     "text": [
      "mean % of polyploids across networks = 42.48%\n"
     ]
    }
   ],
   "source": [
    "print(f\"mean % of polyploids across networks = {np.round(network_classification.is_polyploid_poly_frac.mean()*100,2)}%\")"
   ]
  },
  {
   "cell_type": "code",
   "execution_count": 21,
   "id": "983d234c-3243-4119-9129-514566e59fdb",
   "metadata": {},
   "outputs": [
    {
     "data": {
      "text/plain": [
       "<AxesSubplot: >"
      ]
     },
     "execution_count": 21,
     "metadata": {},
     "output_type": "execute_result"
    },
    {
     "data": {
      "image/png": "[encoded data removed]",
      "text/plain": [
       "<Figure size 640x480 with 1 Axes>"
      ]
     },
     "metadata": {},
     "output_type": "display_data"
    }
   ],
   "source": [
    "network_classification.is_polyploid_poly_frac.hist()"
   ]
  },
  {
   "cell_type": "code",
   "execution_count": 24,
   "id": "68676a93-26aa-4217-be72-86b3100ddd02",
   "metadata": {},
   "outputs": [
    {
     "name": "stderr",
     "output_type": "stream",
     "text": [
      "/tmp/ipykernel_12632/2962338041.py:2: DtypeWarning: Columns (8,9,10,11,12,13,15,16,17,18,19,20,35,37,39,40,41,63,98) have mixed types. Specify dtype option on import or set low_memory=False.\n",
      "  networks_metadata = pd.read_csv(networks_metadata_path)\n"
     ]
    }
   ],
   "source": [
    "networks_metadata_path = f\"{all_networks_dir}/networks_metadata.csv\"\n",
    "networks_metadata = pd.read_csv(networks_metadata_path)\n",
    "if \"Unnamed: 0\" in networks_metadata.columns:\n",
    "    networks_metadata.drop([\"Unnamed: 0\"], axis=1)\n",
    "networks_metadata = networks_metadata.drop_duplicates()\n",
    "networks_metadata.set_index([\"network_type\", \"network_index\"], inplace=True)\n",
    "network_classification[\"is_polyploid_poly_frac\"] = network_classification[\"is_polyploid_poly_frac\"]\n",
    "network_classification[\"is_polyploid_missing_frac\"] = network_classification[\"is_polyploid_missing_frac\"]\n",
    "network_classification.set_index([\"network_type\", \"network_id\"], inplace=True)\n",
    "networks_metadata.fillna(network_classification.reindex(networks_metadata.index), inplace=True)\n",
    "networks_metadata.reset_index(inplace=True)\n",
    "network_classification.reset_index(inplace=True)"
   ]
  },
  {
   "cell_type": "code",
   "execution_count": 25,
   "id": "0a763692-8da9-4d6f-b563-dfbd23817944",
   "metadata": {},
   "outputs": [],
   "source": [
    "networks_metadata.sort_values([\"network_type\", \"network_index\"], inplace=True)\n",
    "networks_metadata.to_csv(networks_metadata_path)"
   ]
  },
  {
   "cell_type": "markdown",
   "id": "eee3cb63-d0ef-443a-a7ac-64284d3296e8",
   "metadata": {
    "jp-MarkdownHeadingCollapsed": true,
    "tags": []
   },
   "source": [
    "# debug missing values"
   ]
  },
  {
   "cell_type": "code",
   "execution_count": 20,
   "id": "2cfbb0db-aedb-417f-adb8-06087703c61c",
   "metadata": {},
   "outputs": [],
   "source": [
    "suspects = plant_classification_df.query(\"is_polyploid.isna() and resolved_name.isna()\").original_name.tolist()"
   ]
  },
  {
   "cell_type": "code",
   "execution_count": 21,
   "id": "a6e7bea6-aa69-4558-9de2-77b00d150fc9",
   "metadata": {},
   "outputs": [
    {
     "ename": "KeyError",
     "evalue": "'network'",
     "output_type": "error",
     "traceback": [
      "\u001b[0;31m---------------------------------------------------------------------------\u001b[0m",
      "\u001b[0;31mKeyError\u001b[0m                                  Traceback (most recent call last)",
      "File \u001b[0;32m~/miniconda3/envs/ppn/lib/python3.10/site-packages/pandas/core/indexes/base.py:3621\u001b[0m, in \u001b[0;36mIndex.get_loc\u001b[0;34m(self, key, method, tolerance)\u001b[0m\n\u001b[1;32m   3620\u001b[0m \u001b[38;5;28;01mtry\u001b[39;00m:\n\u001b[0;32m-> 3621\u001b[0m     \u001b[38;5;28;01mreturn\u001b[39;00m \u001b[38;5;28;43mself\u001b[39;49m\u001b[38;5;241;43m.\u001b[39;49m\u001b[43m_engine\u001b[49m\u001b[38;5;241;43m.\u001b[39;49m\u001b[43mget_loc\u001b[49m\u001b[43m(\u001b[49m\u001b[43mcasted_key\u001b[49m\u001b[43m)\u001b[49m\n\u001b[1;32m   3622\u001b[0m \u001b[38;5;28;01mexcept\u001b[39;00m \u001b[38;5;167;01mKeyError\u001b[39;00m \u001b[38;5;28;01mas\u001b[39;00m err:\n",
      "File \u001b[0;32m~/miniconda3/envs/ppn/lib/python3.10/site-packages/pandas/_libs/index.pyx:136\u001b[0m, in \u001b[0;36mpandas._libs.index.IndexEngine.get_loc\u001b[0;34m()\u001b[0m\n",
      "File \u001b[0;32m~/miniconda3/envs/ppn/lib/python3.10/site-packages/pandas/_libs/index.pyx:163\u001b[0m, in \u001b[0;36mpandas._libs.index.IndexEngine.get_loc\u001b[0;34m()\u001b[0m\n",
      "File \u001b[0;32mpandas/_libs/hashtable_class_helper.pxi:5198\u001b[0m, in \u001b[0;36mpandas._libs.hashtable.PyObjectHashTable.get_item\u001b[0;34m()\u001b[0m\n",
      "File \u001b[0;32mpandas/_libs/hashtable_class_helper.pxi:5206\u001b[0m, in \u001b[0;36mpandas._libs.hashtable.PyObjectHashTable.get_item\u001b[0;34m()\u001b[0m\n",
      "\u001b[0;31mKeyError\u001b[0m: 'network'",
      "\nThe above exception was the direct cause of the following exception:\n",
      "\u001b[0;31mKeyError\u001b[0m                                  Traceback (most recent call last)",
      "Cell \u001b[0;32mIn [21], line 15\u001b[0m\n\u001b[1;32m     13\u001b[0m df \u001b[38;5;241m=\u001b[39m pd\u001b[38;5;241m.\u001b[39mread_csv(path)\n\u001b[1;32m     14\u001b[0m relevant_bad_networks \u001b[38;5;241m=\u001b[39m \u001b[38;5;28mset\u001b[39m(bad_networks\u001b[38;5;241m.\u001b[39mquery(\u001b[38;5;124mf\u001b[39m\u001b[38;5;124m\"\u001b[39m\u001b[38;5;124mnetwork_type == \u001b[39m\u001b[38;5;124m'\u001b[39m\u001b[38;5;132;01m{\u001b[39;00mnetwork_type\u001b[38;5;132;01m}\u001b[39;00m\u001b[38;5;124m'\u001b[39m\u001b[38;5;124m\"\u001b[39m)\u001b[38;5;241m.\u001b[39mnetwork_id\u001b[38;5;241m.\u001b[39mtolist())\n\u001b[0;32m---> 15\u001b[0m df[flag_name] \u001b[38;5;241m=\u001b[39m \u001b[43mdf\u001b[49m\u001b[43m[\u001b[49m\u001b[38;5;124;43m\"\u001b[39;49m\u001b[38;5;124;43mnetwork\u001b[39;49m\u001b[38;5;124;43m\"\u001b[39;49m\u001b[43m]\u001b[49m\u001b[38;5;241m.\u001b[39mapply(\u001b[38;5;28;01mlambda\u001b[39;00m i: \u001b[38;5;241m1\u001b[39m \u001b[38;5;28;01mif\u001b[39;00m i \u001b[38;5;129;01min\u001b[39;00m relevant_bad_networks \u001b[38;5;28;01melse\u001b[39;00m \u001b[38;5;241m0\u001b[39m)\n\u001b[1;32m     16\u001b[0m df\u001b[38;5;241m.\u001b[39mto_csv(path, index\u001b[38;5;241m=\u001b[39m\u001b[38;5;28;01mFalse\u001b[39;00m)\n",
      "File \u001b[0;32m~/miniconda3/envs/ppn/lib/python3.10/site-packages/pandas/core/frame.py:3505\u001b[0m, in \u001b[0;36mDataFrame.__getitem__\u001b[0;34m(self, key)\u001b[0m\n\u001b[1;32m   3503\u001b[0m \u001b[38;5;28;01mif\u001b[39;00m \u001b[38;5;28mself\u001b[39m\u001b[38;5;241m.\u001b[39mcolumns\u001b[38;5;241m.\u001b[39mnlevels \u001b[38;5;241m>\u001b[39m \u001b[38;5;241m1\u001b[39m:\n\u001b[1;32m   3504\u001b[0m     \u001b[38;5;28;01mreturn\u001b[39;00m \u001b[38;5;28mself\u001b[39m\u001b[38;5;241m.\u001b[39m_getitem_multilevel(key)\n\u001b[0;32m-> 3505\u001b[0m indexer \u001b[38;5;241m=\u001b[39m \u001b[38;5;28;43mself\u001b[39;49m\u001b[38;5;241;43m.\u001b[39;49m\u001b[43mcolumns\u001b[49m\u001b[38;5;241;43m.\u001b[39;49m\u001b[43mget_loc\u001b[49m\u001b[43m(\u001b[49m\u001b[43mkey\u001b[49m\u001b[43m)\u001b[49m\n\u001b[1;32m   3506\u001b[0m \u001b[38;5;28;01mif\u001b[39;00m is_integer(indexer):\n\u001b[1;32m   3507\u001b[0m     indexer \u001b[38;5;241m=\u001b[39m [indexer]\n",
      "File \u001b[0;32m~/miniconda3/envs/ppn/lib/python3.10/site-packages/pandas/core/indexes/base.py:3623\u001b[0m, in \u001b[0;36mIndex.get_loc\u001b[0;34m(self, key, method, tolerance)\u001b[0m\n\u001b[1;32m   3621\u001b[0m     \u001b[38;5;28;01mreturn\u001b[39;00m \u001b[38;5;28mself\u001b[39m\u001b[38;5;241m.\u001b[39m_engine\u001b[38;5;241m.\u001b[39mget_loc(casted_key)\n\u001b[1;32m   3622\u001b[0m \u001b[38;5;28;01mexcept\u001b[39;00m \u001b[38;5;167;01mKeyError\u001b[39;00m \u001b[38;5;28;01mas\u001b[39;00m err:\n\u001b[0;32m-> 3623\u001b[0m     \u001b[38;5;28;01mraise\u001b[39;00m \u001b[38;5;167;01mKeyError\u001b[39;00m(key) \u001b[38;5;28;01mfrom\u001b[39;00m \u001b[38;5;21;01merr\u001b[39;00m\n\u001b[1;32m   3624\u001b[0m \u001b[38;5;28;01mexcept\u001b[39;00m \u001b[38;5;167;01mTypeError\u001b[39;00m:\n\u001b[1;32m   3625\u001b[0m     \u001b[38;5;66;03m# If we have a listlike key, _check_indexing_error will raise\u001b[39;00m\n\u001b[1;32m   3626\u001b[0m     \u001b[38;5;66;03m#  InvalidIndexError. Otherwise we fall through and re-raise\u001b[39;00m\n\u001b[1;32m   3627\u001b[0m     \u001b[38;5;66;03m#  the TypeError.\u001b[39;00m\n\u001b[1;32m   3628\u001b[0m     \u001b[38;5;28mself\u001b[39m\u001b[38;5;241m.\u001b[39m_check_indexing_error(key)\n",
      "\u001b[0;31mKeyError\u001b[0m: 'network'"
     ]
    }
   ],
   "source": [
    "bad_networks = features_by_network.loc[(features_by_network.original_name.isin(suspects)) & (~features_by_network.original_name.str.contains(\" \"))].drop_duplicates([\"network_type\",\"network_id\"])\n",
    "bad_networks = bad_networks.merge(network_classification, on=[\"network_type\", \"network_id\"], how=\"left\").query(\"is_polyploid_missing_frac < 1\")[[\"network_id\", \"network_type\"]]\n",
    "\n",
    "# flag bad networks from features data\n",
    "flag_name = \"multiple_plant_taxonomic_levels\"\n",
    "features_dir=\"../../data/features/\"\n",
    "features_types = [\"plant\", \"network\"]\n",
    "networks_types = [\"binary\", \"weighted\", \"binarized_weighted\"]\n",
    "for feature_type in features_types:\n",
    "    for network_type in  networks_types:\n",
    "        path = f\"{features_dir}/{feature_type}/{network_type}/features.csv\"\n",
    "        if os.path.exists(path):\n",
    "            df = pd.read_csv(path)\n",
    "            relevant_bad_networks = set(bad_networks.query(f\"network_type == '{network_type}'\").network_id.tolist())\n",
    "            df[flag_name] = df[\"network\"].apply(lambda i: 1 if i in relevant_bad_networks else 0)\n",
    "            df.to_csv(path, index=False)"
   ]
  },
  {
   "cell_type": "code",
   "execution_count": 22,
   "id": "e36043c7-9af4-41fd-853d-6cf92839977a",
   "metadata": {},
   "outputs": [
    {
     "name": "stdout",
     "output_type": "stream",
     "text": [
      "\n",
      "\n",
      "feature type = plant\n",
      "network_type = binary\n",
      "# records = 4,608\n",
      "# classified records = 775\n",
      "\n",
      "\n",
      "feature type = plant\n",
      "network_type = weighted\n",
      "# records = 8,944\n",
      "# classified records = 4,801\n",
      "\n",
      "\n",
      "feature type = plant\n",
      "network_type = binarized_weighted\n",
      "# records = 9,005\n",
      "# classified records = 4,803\n",
      "\n",
      "\n",
      "feature type = network\n",
      "network_type = binary\n",
      "# records = 177\n",
      "# classified records = 177\n",
      "\n",
      "\n",
      "\n",
      "feature type = network\n",
      "network_type = weighted\n",
      "# records = 531\n",
      "# classified records = 531\n",
      "\n",
      "\n",
      "\n",
      "feature type = network\n",
      "network_type = binarized_weighted\n",
      "# records = 534\n",
      "# classified records = 534\n",
      "\n"
     ]
    }
   ],
   "source": [
    "# update classification of features data\n",
    "name_to_is_poly = plant_classification_df.set_index(\"original_name\")[\"is_polyploid\"].to_dict()\n",
    "features_types = [\"plant\", \"network\"]\n",
    "networks_types = [\"binary\", \"weighted\", \"binarized_weighted\"]\n",
    "all_features_dir=\"../../data/features/\"\n",
    "\n",
    "features_data = {}\n",
    "\n",
    "for feature_type in features_types:\n",
    "    features_data[feature_type] = {}\n",
    "    for network_type in  networks_types:\n",
    "        print(f\"\\n\\nfeature type = {feature_type}\")\n",
    "        print(f\"network_type = {network_type}\")\n",
    "        features_df = pd.read_csv(f\"{all_features_dir}{feature_type}/{network_type}/features.csv\")\n",
    "        print(f\"# records = {features_df.shape[0]:,}\")\n",
    "        if feature_type == \"plant\":\n",
    "            features_df[\"original_name\"] = features_df.Plant.str.lower()\n",
    "            features_df[\"is_polyploid\"] = features_df[\"original_name\"].apply(lambda n: name_to_is_poly.get(n, np.nan))\n",
    "            features_df.loc[features_df.is_polyploid.isna(), \"is_polyploid\"] = features_df.original_name.apply(lambda n: name_to_is_poly.get(\" \".join(n.split(\" \")[:2]), np.nan))\n",
    "\n",
    "            print(f\"# classified records = {features_df.is_polyploid.notna().sum():,}\")\n",
    "        else:\n",
    "            network_query_type = \"binary\" if network_type==\"binary\" else \"weighted\"\n",
    "            class_df = network_classification.query(f\"network_type == '{network_query_type}'\")\n",
    "            features_df[\"network_id\"] = features_df[\"network\"].apply(lambda n: int(n.replace(\".csv\",\"\")) if type(n) == str else n)\n",
    "            features_df = features_df.merge(class_df[[\"network_id\", \"is_polyploid_poly_frac\", \"is_polyploid_missing_frac\"]],\n",
    "                                            on=\"network_id\",\n",
    "                                            how=\"left\").rename(columns={\"is_polyploid_poly_frac\": \"is_polyploid_poly_frac\",\n",
    "                                                                        \"is_polyploid_missing_frac\": \"is_polyploid_missing_frac\"})\n",
    "            print(f\"# classified records = {features_df.is_polyploid_poly_frac.notna().sum():,}\\n\")\n",
    "            features_data[feature_type][network_type] = features_df\n",
    "        features_df.to_csv(f\"{all_features_dir}/{feature_type}/{network_type}/features_with_classification.csv\", index=False)\n",
    "                                                    "
   ]
  },
  {
   "cell_type": "code",
   "execution_count": 23,
   "id": "79592bec-57c1-4445-8e4a-9541a33d7579",
   "metadata": {},
   "outputs": [],
   "source": [
    "# add classification to network features files\n",
    "network_features_dir = \"../../data/features/network/\"\n",
    "network_types = [\"binary\", \"weighted\", \"binarized_weighted\"]\n",
    "for net_type in network_types:\n",
    "    out_path = f\"{network_features_dir}{net_type}/features.csv\"\n",
    "    relevant_network_classification_data = network_classification.loc[network_classification.network_type == net_type.replace(\"binarized_\",\"\")]\n",
    "    df = pd.read_csv(out_path)\n",
    "    df.network = df.network.apply(lambda n: int(n.replace('.csv','')) if type(n) == str else n)\n",
    "    df = df.merge(relevant_network_classification_data, left_on=\"network\", right_on=\"network_id\", how=\"left\")\n",
    "    df.to_csv(f\"{network_features_dir}{net_type}/features_with_classification.csv\", index=False)"
   ]
  },
  {
   "cell_type": "code",
   "execution_count": 24,
   "id": "25a8d481-b4cf-4247-81ec-628432781d32",
   "metadata": {},
   "outputs": [
    {
     "name": "stdout",
     "output_type": "stream",
     "text": [
      "# networks with no ploidy classification = 178\n",
      "# networks with some ploidy classification = 723\n",
      "# networks with ploidy classification availablity above 70% = 286\n"
     ]
    }
   ],
   "source": [
    "print(f\"# networks with no ploidy classification = {network_classification.loc[network_classification.is_polyploid_missing_frac == 1].shape[0]:,}\")\n",
    "print(f\"# networks with some ploidy classification = {network_classification.loc[network_classification.is_polyploid_missing_frac < 1].shape[0]:,}\")\n",
    "print(f\"# networks with ploidy classification availablity above 70% = {network_classification.loc[network_classification.is_polyploid_missing_frac <= 0.3].shape[0]:,}\")"
   ]
  },
  {
   "cell_type": "code",
   "execution_count": 25,
   "id": "1b4a07d2-c348-4748-a1fc-8ae939c893e5",
   "metadata": {},
   "outputs": [
    {
     "data": {
      "text/plain": [
       "network_type\n",
       "binary       80\n",
       "weighted    643\n",
       "Name: network_id, dtype: int64"
      ]
     },
     "execution_count": 25,
     "metadata": {},
     "output_type": "execute_result"
    }
   ],
   "source": [
    "network_classification.loc[network_classification.is_polyploid_missing_frac < 1].groupby(\"network_type\")[\"network_id\"].count()"
   ]
  },
  {
   "cell_type": "code",
   "execution_count": 26,
   "id": "56d3ec07-4039-4dd9-830a-269de18563cb",
   "metadata": {},
   "outputs": [
    {
     "data": {
      "image/png": "[encoded data removed]",
      "text/plain": [
       "<Figure size 2000x1000 with 2 Axes>"
      ]
     },
     "metadata": {},
     "output_type": "display_data"
    }
   ],
   "source": [
    "import seaborn as sns\n",
    "plt.rcParams['patch.linewidth'] = 0\n",
    "fontsize = 24\n",
    "\n",
    "max_missing_threshold = 0.5\n",
    "min_classified_threshold = 5\n",
    "min_poly_threhold = 2\n",
    "min_di_threshold = 2\n",
    "\n",
    "network_level_classification = pd.read_csv(network_classification_path)\n",
    "filtered_network_level_classification = network_level_classification.loc[(network_level_classification.is_polyploid_missing_frac <= max_missing_threshold) & \n",
    "                                                                        (network_level_classification.num_classified >= min_classified_threshold) & \n",
    "                                                                        (network_level_classification.num_polyploids >= min_poly_threhold) &\n",
    "                                                                        (network_level_classification.num_diploids >= min_di_threshold)]\n",
    "\n",
    "fig, axes = plt.subplots(nrows=1, ncols=2, figsize=(20,10))\n",
    "\n",
    "ax = axes[0]\n",
    "sns.histplot(data=network_level_classification, \n",
    "             x=\"is_polyploid_poly_frac\", \n",
    "             label=\"Polyploids\",\n",
    "             color=sns.color_palette()[1],\n",
    "             ax=ax)\n",
    "\n",
    "sns.histplot(data=network_level_classification, \n",
    "             x=\"is_polyploid_missing_frac\", \n",
    "             label=\"Missinig classificiation\",\n",
    "             color=\"grey\",\n",
    "             ax=ax)\n",
    "ax.set_title(\"(a)\", loc=\"left\", fontsize=fontsize)\n",
    "ax.set_ylabel(\"# Networks\", fontsize=fontsize)\n",
    "ax.set_xlabel(\"Plants frequency\", fontsize=fontsize)\n",
    "ax.tick_params(axis='both', which='major', labelsize=16)\n",
    "ax.tick_params(axis='both', which='minor', labelsize=16)\n",
    "\n",
    "ax = axes[1]\n",
    "sns.histplot(data=filtered_network_level_classification, \n",
    "             x=\"is_polyploid_poly_frac\", \n",
    "             label=\"Polyploids\",\n",
    "             color=sns.color_palette()[1],\n",
    "             ax=ax)\n",
    "\n",
    "sns.histplot(data=filtered_network_level_classification, \n",
    "             x=\"is_polyploid_missing_frac\", \n",
    "             label=\"Missinig classificiation\",\n",
    "             color=\"grey\",\n",
    "             ax=ax)\n",
    "ax.set_title(\"(b)\", loc=\"left\", fontsize=fontsize)\n",
    "\n",
    "ax.legend(fontsize=fontsize)\n",
    "ax.set_ylabel(\"# Networks\", fontsize=fontsize)\n",
    "ax.set_xlabel(\"Plants frequency\", fontsize=fontsize)\n",
    "ax.tick_params(axis='both', which='major', labelsize=16)\n",
    "ax.tick_params(axis='both', which='minor', labelsize=16)\n",
    "\n",
    "fig.tight_layout()\n",
    "fig.savefig(\"../../data/figures/figS1.jpeg\")"
   ]
  },
  {
   "cell_type": "code",
   "execution_count": 27,
   "id": "6b40cc35-da22-4402-bf2a-04b848171f3c",
   "metadata": {},
   "outputs": [],
   "source": [
    "network_classification[\"path\"] = network_classification.apply(lambda rec: f\"../../data/networks/all/{rec.network_type}/{rec.network_id}.csv\", axis=1)\n",
    "network_classification[\"num_pollinators\"] = network_classification.path.apply(lambda path: pd.read_csv(path).shape[1]-1)"
   ]
  },
  {
   "cell_type": "code",
   "execution_count": 28,
   "id": "7b665a5c-5787-4cb3-b6b5-2ab1874f18b8",
   "metadata": {},
   "outputs": [],
   "source": [
    "network_classification.to_csv(network_classification_path)"
   ]
  },
  {
   "cell_type": "code",
   "execution_count": 29,
   "id": "4f8eba81-78ad-481d-ba90-fd81b259a05d",
   "metadata": {},
   "outputs": [
    {
     "name": "stdout",
     "output_type": "stream",
     "text": [
      "# networks for analysis = 723\n",
      "# plant vertices in networks for analysis = 11,341\n",
      "# resolved plants in networks for analysis = 6,200\n",
      "# classified plants in networks for analysis = 6,160\n",
      "# diploid plants in networks for analysis = 3,400\n",
      "# polyploid plants in networks for analysis = 2,760\n",
      "# pollinator vertices = 30,112\n"
     ]
    }
   ],
   "source": [
    "networks_for_analysis = network_classification.loc[network_classification.is_polyploid_missing_frac < 1]\n",
    "print(f\"# networks for analysis = {networks_for_analysis.shape[0]:,}\")\n",
    "print(f\"# plant vertices in networks for analysis = {networks_for_analysis.num_plants.sum():,}\")\n",
    "print(f\"# resolved plants in networks for analysis = {networks_for_analysis.num_resolved.sum():,}\")\n",
    "print(f\"# classified plants in networks for analysis = {networks_for_analysis.num_classified.sum():,}\")\n",
    "print(f\"# diploid plants in networks for analysis = {networks_for_analysis.num_diploids.sum():,}\")\n",
    "print(f\"# polyploid plants in networks for analysis = {networks_for_analysis.num_polyploids.sum():,}\")\n",
    "print(f\"# pollinator vertices = {networks_for_analysis.num_pollinators.sum():,}\")"
   ]
  },
  {
   "cell_type": "code",
   "execution_count": 30,
   "id": "6e28a1f7-4662-4ff8-831b-66bcd29e2f37",
   "metadata": {},
   "outputs": [
    {
     "name": "stdout",
     "output_type": "stream",
     "text": [
      "# plants = 11,341, # unique plants = 3,926\n",
      "# pollinators = 30,112, # unique pollinators = 12,336\n"
     ]
    }
   ],
   "source": [
    "plants, pollinators = [], []\n",
    "for path in networks_for_analysis[\"path\"].values:\n",
    "    net = pd.read_csv(path)\n",
    "    if \"Plant\" not in net.columns:\n",
    "        net = net.rename(columns={\"Unnamed: 0\": \"Plant\"})\n",
    "    plants += net.Plant.str.capitalize().tolist()\n",
    "    pollinators += net.set_index(\"Plant\").columns.tolist()\n",
    "print(f\"# plants = {len(plants):,}, # unique plants = {len(set(plants)):,}\")\n",
    "print(f\"# pollinators = {len(pollinators):,}, # unique pollinators = {len(set(pollinators)):,}\")"
   ]
  },
  {
   "cell_type": "code",
   "execution_count": 31,
   "id": "2123f466-7224-4154-b1f1-c8a71413e96c",
   "metadata": {},
   "outputs": [],
   "source": [
    "plants = list(set(plants))\n",
    "pollinators = list(set(pollinators))\n",
    "\n",
    "resolved_plants_data = pd.read_csv(resolved_plant_names_path)\n",
    "resolved_pollinator_data = pd.read_csv(resolved_pollinator_names_path)"
   ]
  },
  {
   "cell_type": "code",
   "execution_count": 32,
   "id": "c26b3583-7cc2-48d4-a0fe-3cc9b79d3678",
   "metadata": {},
   "outputs": [
    {
     "name": "stdout",
     "output_type": "stream",
     "text": [
      "# resolved plants = 3,533, # classified plants = 1,665\n",
      "# resolved pollinators = 5,962\n"
     ]
    }
   ],
   "source": [
    "resolved_plants = resolved_plants_data.loc[resolved_plants_data.original_name.str.capitalize().isin(plants)].original_name.unique().tolist()\n",
    "classified_plants = plant_classification.loc[plant_classification.original_name.isin(resolved_plants)].dropna(subset=[\"is_polyploid_by_resolved\"]).original_name.unique().tolist()\n",
    "resolved_pollinators = resolved_pollinator_data.loc[resolved_pollinator_data.original_name.str.capitalize().isin(pollinators)].original_name.unique().tolist()\n",
    "\n",
    "print(f\"# resolved plants = {len(resolved_plants):,}, # classified plants = {len(classified_plants):,}\")\n",
    "print(f\"# resolved pollinators = {len(resolved_pollinators):,}\")"
   ]
  },
  {
   "cell_type": "code",
   "execution_count": null,
   "id": "332578a5-f302-405f-b408-a2b6e47fb8d9",
   "metadata": {},
   "outputs": [],
   "source": []
  }
 ],
 "metadata": {
  "kernelspec": {
   "display_name": "Python 3 (ipykernel)",
   "language": "python",
   "name": "python3"
  },
  "language_info": {
   "codemirror_mode": {
    "name": "ipython",
    "version": 3
   },
   "file_extension": ".py",
   "mimetype": "text/x-python",
   "name": "python",
   "nbconvert_exporter": "python",
   "pygments_lexer": "ipython3",
   "version": "3.10.6"
  }
 },
 "nbformat": 4,
 "nbformat_minor": 5
}
