{
 "cells": [
  {
   "cell_type": "code",
   "execution_count": 1,
   "id": "27b6b65e-9638-4b90-942a-03fc2af80096",
   "metadata": {},
   "outputs": [
    {
     "name": "stdout",
     "output_type": "stream",
     "text": [
      "INFO: Pandarallel will run on 20 workers.\n",
      "INFO: Pandarallel will use Memory file system to transfer data between the main process and workers.\n"
     ]
    }
   ],
   "source": [
    "import pandas as pd\n",
    "import numpy as np\n",
    "import os\n",
    "import sys\n",
    "sys.path.append(\"../../code/data_processing/name_resolution/\")\n",
    "from resolved_names_curator import ResolvedNamesCurator\n",
    "\n",
    "import matplotlib.pyplot as plt\n",
    "from ete3 import Tree\n",
    "\n",
    "from pandarallel import pandarallel\n",
    "pandarallel.initialize(progress_bar=True)"
   ]
  },
  {
   "cell_type": "code",
   "execution_count": 2,
   "id": "dcd2995d-5fa1-4709-ad6c-3a8e1039c9c7",
   "metadata": {},
   "outputs": [],
   "source": [
    "polyploidy_threshold = 0.75\n",
    "diploidy_threshold = 0.25\n",
    "\n",
    "ploidb_path = f\"/groups/itay_mayrose/halabikeren/PloiDB/chromevol/database/ploidb_by_genus_without_missing.csv\"\n",
    "qdb_path = \"/groups/itay_mayrose/halabikeren/PloiDB/chromevol/results/cvalues_db.csv\"\n",
    "\n",
    "unresolved_plant_names_path = f\"../../data/name_resolution/unresolved_plant_names.csv\"\n",
    "resolved_plant_names_path = f\"../../data/name_resolution/plant_nr_rwfo/processed_resolved_plant_names.csv\"\n",
    "resolved_pollinator_names_path = f\"../../data/name_resolution/resolved_pollinator_names.csv\"\n",
    "\n",
    "tree_path = \"../../data/trees/ALLMB.tre\"\n",
    "ccdb_path = \"/groups/itay_mayrose/halabikeren/PloiDB/ccdb/all_data_with_ALLMB_mapped_names.csv\"\n",
    "classification_data_path = \"/groups/itay_mayrose/halabikeren/PloiDB/trees/wfo_classification_data.csv\"\n",
    "missing_names_path = \"/groups/itay_mayrose/halabikeren/PloiDB/trees/names_to_add_for_ppn_project.csv\"\n",
    "\n",
    "networks_types = [\"weighted\", \"binary\", \"binarized_weighted\"]\n",
    "all_networks_dir = \"/groups/itay_mayrose/halabikeren/plant_pollinator_networks/networks/all/\"\n",
    "\n",
    "plant_classification_path = f\"../../data/ploidy_classification/plant_classification.csv\"\n",
    "network_classification_path = f\"../../data/ploidy_classification/network_classification.csv\"\n",
    "\n",
    "all_networks_dir = \"../../data/networks/all/\"\n",
    "networks_metadata_path = f\"../../data/networks/networks_metadata.csv\""
   ]
  },
  {
   "cell_type": "markdown",
   "id": "5dccac57-a0d9-451d-99d0-c3e3cc8ad056",
   "metadata": {
    "jp-MarkdownHeadingCollapsed": true,
    "tags": []
   },
   "source": [
    "# Examine coverage in kew-DB"
   ]
  },
  {
   "cell_type": "code",
   "execution_count": null,
   "id": "600e3115-cdc9-462d-81b6-ebade6fc7335",
   "metadata": {},
   "outputs": [],
   "source": [
    "kew_db = pd.read_csv(qdb_path)\n",
    "resolved_names = pd.read_csv(resolved_plant_names_path)"
   ]
  },
  {
   "cell_type": "code",
   "execution_count": null,
   "id": "2acc9e25-a6c1-4099-b6e2-2d48af927f9e",
   "metadata": {},
   "outputs": [],
   "source": [
    "kew_db[\"taxon\"] = (kew_db[\"Genus\"] + \" \" + kew_db[\"Species\"] + kew_db[\"Subspecies\"].replace({np.nan: \"\"})).str.lower()"
   ]
  },
  {
   "cell_type": "code",
   "execution_count": null,
   "id": "1d3e19ef-e867-4e62-a178-5353ec68ea0a",
   "metadata": {},
   "outputs": [],
   "source": [
    "kew_db[\"is_polyploid\"] = kew_db[\"Ploidy Level (x)\"].apply(lambda l: np.nan if l == \"-\" else int(int(l) > 2))\n",
    "kew_db = kew_db.dropna(subset=[\"is_polyploid\"]).drop_duplicates(subset=[\"taxon\"])\n",
    "kew_db.shape[0]"
   ]
  },
  {
   "cell_type": "code",
   "execution_count": null,
   "id": "aba7817e-fdc9-4a57-90b4-59da55be68a8",
   "metadata": {},
   "outputs": [],
   "source": [
    "kew_based_classification = resolved_names\n",
    "kew_based_classification[\"is_polyploid\"] = np.nan\n",
    "kew_based_classification.set_index(\"resolved_name\", inplace=True)\n",
    "kew_based_classification[\"is_polyploid\"].fillna(value=kew_db.set_index(\"taxon\")[\"is_polyploid\"].to_dict(), inplace=True)\n",
    "kew_based_classification.reset_index(inplace=True)\n",
    "kew_based_classification.set_index(\"original_name\", inplace=True)                                                \n",
    "kew_based_classification[\"is_polyploid\"].fillna(value=kew_db.set_index(\"taxon\")[\"is_polyploid\"].to_dict(), inplace=True)\n",
    "kew_db.reset_index(inplace=True)\n",
    "kew_based_classification.reset_index(inplace=True)"
   ]
  },
  {
   "cell_type": "code",
   "execution_count": null,
   "id": "bcaa72d4-72bf-440b-9b4f-1da1d2c9e1f3",
   "metadata": {},
   "outputs": [],
   "source": [
    "kew_based_classification = kew_based_classification.drop_duplicates(subset=[\"original_name\"])"
   ]
  },
  {
   "cell_type": "code",
   "execution_count": null,
   "id": "946ade7b-e627-45fd-ac5b-94c0ee41871b",
   "metadata": {},
   "outputs": [],
   "source": [
    "kew_based_classification.notna().sum()"
   ]
  },
  {
   "cell_type": "code",
   "execution_count": null,
   "id": "e33e6892-dba9-4cb5-8137-49d7171eb6ce",
   "metadata": {},
   "outputs": [],
   "source": [
    "kew_based_classification.notna().sum() / kew_based_classification.shape[0] * 100"
   ]
  },
  {
   "cell_type": "code",
   "execution_count": 10,
   "id": "43c32dc5-7c77-427d-9a01-28a53120657f",
   "metadata": {},
   "outputs": [
    {
     "data": {
      "text/plain": [
       "399"
      ]
     },
     "execution_count": 10,
     "metadata": {},
     "output_type": "execute_result"
    }
   ],
   "source": [
    "len(set(kew_db.set_index(\"taxon\")[\"is_polyploid\"].to_dict().keys()) & set(resolved_names.original_name))"
   ]
  },
  {
   "cell_type": "code",
   "execution_count": 11,
   "id": "87637b1c-ef32-46ad-87eb-71f34edad685",
   "metadata": {},
   "outputs": [
    {
     "data": {
      "text/plain": [
       "369"
      ]
     },
     "execution_count": 11,
     "metadata": {},
     "output_type": "execute_result"
    }
   ],
   "source": [
    "len(set(kew_db.set_index(\"taxon\")[\"is_polyploid\"].to_dict().keys()) & set(resolved_names.resolved_name))"
   ]
  },
  {
   "cell_type": "markdown",
   "id": "facc5abe-231c-4b4f-9482-d9a259be620c",
   "metadata": {
    "tags": []
   },
   "source": [
    "# Extract classification at plant species level"
   ]
  },
  {
   "cell_type": "code",
   "execution_count": 11,
   "id": "925d9292-8806-4700-8ba8-7c4b92865266",
   "metadata": {},
   "outputs": [],
   "source": [
    "plant_classification_df = pd.read_csv(resolved_plant_names_path)[[\"original_name\",\"matched_name\", \"resolved_name\", \"ploidb_name\"]]\n",
    "for c in plant_classification_df.columns:\n",
    "    plant_classification_df[c] = plant_classification_df[c].str.lower()\n",
    "\n",
    "ploidy_df = pd.read_csv(ploidb_path)\n",
    "ploidy_df[\"Ploidy inference\"] = ploidy_df[\"Ploidy transitions frequency\"].apply(lambda f: 1 if f >= polyploidy_threshold else (0 if f < diploidy_threshold else np.nan))\n",
    "\n",
    "plant_classification_df = plant_classification_df.merge(ploidy_df[[\"Taxon\", \"Genus\", \"Family\", \"Ploidy inference\", \"Ploidy age\"]], left_on=\"ploidb_name\", right_on=\"Taxon\", how=\"left\")\n",
    "plant_classification_df = plant_classification_df.rename(columns={\"Ploidy inference\": \"is_polyploid\", \"Ploidy age\": \"polyploid_age\"}).drop([\"Taxon\"], axis=1)\n",
    "plant_classification_df.to_csv(plant_classification_path, index=False)"
   ]
  },
  {
   "cell_type": "code",
   "execution_count": 12,
   "id": "67aa0203-a8dc-4144-ad5a-02ce85851a18",
   "metadata": {},
   "outputs": [
    {
     "name": "stdout",
     "output_type": "stream",
     "text": [
      "% classified = 41.63% (2,227)\n"
     ]
    }
   ],
   "source": [
    "print(f\"% classified = {np.round(plant_classification_df.dropna(subset=['is_polyploid']).shape[0]/plant_classification_df.shape[0]*100, 2)}% ({plant_classification_df.dropna(subset=['is_polyploid']).shape[0]:,})\")"
   ]
  },
  {
   "cell_type": "code",
   "execution_count": 25,
   "id": "8c6a17a0-a48a-46c4-804c-bfa643cb88c4",
   "metadata": {},
   "outputs": [
    {
     "data": {
      "text/plain": [
       "<AxesSubplot: >"
      ]
     },
     "execution_count": 25,
     "metadata": {},
     "output_type": "execute_result"
    },
    {
     "data": {
      "image/png": "[encoded data removed]",
      "text/plain": [
       "<Figure size 640x480 with 1 Axes>"
      ]
     },
     "metadata": {},
     "output_type": "display_data"
    }
   ],
   "source": [
    "family_to_classified = plant_classification_df.dropna(subset=[\"is_polyploid\"]).groupby(\"Family\").ploidb_name.count().sort_values(ascending=False)\n",
    "family_to_classified[family_to_classified < 200].hist()"
   ]
  },
  {
   "cell_type": "code",
   "execution_count": 5,
   "id": "11598f54-fcc7-405a-b1ca-824b71565780",
   "metadata": {},
   "outputs": [],
   "source": [
    "missing_names = plant_classification_df.loc[plant_classification_df.is_polyploid.isna()].ploidb_name.drop_duplicates().dropna().tolist()\n",
    "avail_names = plant_classification_df.loc[plant_classification_df.is_polyploid.notna()].ploidb_name.drop_duplicates().dropna().tolist()"
   ]
  },
  {
   "cell_type": "markdown",
   "id": "b81af1c8-33ea-47e3-a9bc-0047fda04bcd",
   "metadata": {
    "tags": []
   },
   "source": [
    "# assign ploidy ages to diploid taxa"
   ]
  },
  {
   "cell_type": "code",
   "execution_count": 6,
   "id": "1cd20655-7e9f-485a-80c8-220d04d90b7e",
   "metadata": {},
   "outputs": [],
   "source": [
    "plant_classification = pd.read_csv(plant_classification_path)"
   ]
  },
  {
   "cell_type": "code",
   "execution_count": 15,
   "id": "0359c2fc-6196-4e9a-b945-454635082ec2",
   "metadata": {},
   "outputs": [
    {
     "data": {
      "text/html": [
       "<div>\n",
       "<style scoped>\n",
       "    .dataframe tbody tr th:only-of-type {\n",
       "        vertical-align: middle;\n",
       "    }\n",
       "\n",
       "    .dataframe tbody tr th {\n",
       "        vertical-align: top;\n",
       "    }\n",
       "\n",
       "    .dataframe thead th {\n",
       "        text-align: right;\n",
       "    }\n",
       "</style>\n",
       "<table border=\"1\" class=\"dataframe\">\n",
       "  <thead>\n",
       "    <tr style=\"text-align: right;\">\n",
       "      <th></th>\n",
       "      <th>ploidb_name</th>\n",
       "      <th>original_name</th>\n",
       "      <th>matched_name</th>\n",
       "      <th>resolved_name</th>\n",
       "      <th>is_polyploid</th>\n",
       "      <th>polyploid_age</th>\n",
       "    </tr>\n",
       "  </thead>\n",
       "  <tbody>\n",
       "    <tr>\n",
       "      <th>42</th>\n",
       "      <td>sinningia verticillata</td>\n",
       "      <td>sinningia douglasii</td>\n",
       "      <td>NaN</td>\n",
       "      <td>sinningia douglasii</td>\n",
       "      <td>0.0</td>\n",
       "      <td>9.198317</td>\n",
       "    </tr>\n",
       "    <tr>\n",
       "      <th>113</th>\n",
       "      <td>tillandsia venusta</td>\n",
       "      <td>tillandsia gardneri</td>\n",
       "      <td>NaN</td>\n",
       "      <td>tillandsia gardneri</td>\n",
       "      <td>0.0</td>\n",
       "      <td>103.854830</td>\n",
       "    </tr>\n",
       "    <tr>\n",
       "      <th>365</th>\n",
       "      <td>wedelia fruticosa</td>\n",
       "      <td>wedelia calycina</td>\n",
       "      <td>NaN</td>\n",
       "      <td>wedelia calycina</td>\n",
       "      <td>0.0</td>\n",
       "      <td>2.035702</td>\n",
       "    </tr>\n",
       "    <tr>\n",
       "      <th>399</th>\n",
       "      <td>passiflora foetida</td>\n",
       "      <td>passiflora foetida l.</td>\n",
       "      <td>passiflora foetida var. arida</td>\n",
       "      <td>passiflora arida</td>\n",
       "      <td>1.0</td>\n",
       "      <td>6.277480</td>\n",
       "    </tr>\n",
       "    <tr>\n",
       "      <th>468</th>\n",
       "      <td>diospyros glaucifolia</td>\n",
       "      <td>diospyrus japonica</td>\n",
       "      <td>NaN</td>\n",
       "      <td>diospyros japonica</td>\n",
       "      <td>0.0</td>\n",
       "      <td>94.772475</td>\n",
       "    </tr>\n",
       "    <tr>\n",
       "      <th>...</th>\n",
       "      <td>...</td>\n",
       "      <td>...</td>\n",
       "      <td>...</td>\n",
       "      <td>...</td>\n",
       "      <td>...</td>\n",
       "      <td>...</td>\n",
       "    </tr>\n",
       "    <tr>\n",
       "      <th>5213</th>\n",
       "      <td>cordia polycephala</td>\n",
       "      <td>cordia corymbosa</td>\n",
       "      <td>cordia corymbosa</td>\n",
       "      <td>varronia polycephala</td>\n",
       "      <td>0.0</td>\n",
       "      <td>74.715914</td>\n",
       "    </tr>\n",
       "    <tr>\n",
       "      <th>5216</th>\n",
       "      <td>vitex trifolia subsp. litoralis</td>\n",
       "      <td>vitex rotundifolia</td>\n",
       "      <td>vitex rotundifolia</td>\n",
       "      <td>NaN</td>\n",
       "      <td>0.0</td>\n",
       "      <td>2.627097</td>\n",
       "    </tr>\n",
       "    <tr>\n",
       "      <th>5261</th>\n",
       "      <td>filipendula glaberrima</td>\n",
       "      <td>filipendula multifuga</td>\n",
       "      <td>NaN</td>\n",
       "      <td>filipendula multijuga</td>\n",
       "      <td>0.0</td>\n",
       "      <td>124.405486</td>\n",
       "    </tr>\n",
       "    <tr>\n",
       "      <th>5278</th>\n",
       "      <td>cornus kousa subsp. chinensis</td>\n",
       "      <td>benthamidia japonica</td>\n",
       "      <td>benthamidia japonica</td>\n",
       "      <td>cornus kousa</td>\n",
       "      <td>0.0</td>\n",
       "      <td>101.023554</td>\n",
       "    </tr>\n",
       "    <tr>\n",
       "      <th>5348</th>\n",
       "      <td>tillandsia monadelpha</td>\n",
       "      <td>tillandsia geminifolia</td>\n",
       "      <td>tillandsia graminifolia</td>\n",
       "      <td>lemeltonia monadelpha</td>\n",
       "      <td>0.0</td>\n",
       "      <td>103.854830</td>\n",
       "    </tr>\n",
       "  </tbody>\n",
       "</table>\n",
       "<p>129 rows × 6 columns</p>\n",
       "</div>"
      ],
      "text/plain": [
       "                          ploidb_name           original_name  \\\n",
       "42             sinningia verticillata     sinningia douglasii   \n",
       "113                tillandsia venusta     tillandsia gardneri   \n",
       "365                 wedelia fruticosa        wedelia calycina   \n",
       "399                passiflora foetida   passiflora foetida l.   \n",
       "468             diospyros glaucifolia      diospyrus japonica   \n",
       "...                               ...                     ...   \n",
       "5213               cordia polycephala        cordia corymbosa   \n",
       "5216  vitex trifolia subsp. litoralis      vitex rotundifolia   \n",
       "5261           filipendula glaberrima   filipendula multifuga   \n",
       "5278    cornus kousa subsp. chinensis    benthamidia japonica   \n",
       "5348            tillandsia monadelpha  tillandsia geminifolia   \n",
       "\n",
       "                       matched_name          resolved_name  is_polyploid  \\\n",
       "42                              NaN    sinningia douglasii           0.0   \n",
       "113                             NaN    tillandsia gardneri           0.0   \n",
       "365                             NaN       wedelia calycina           0.0   \n",
       "399   passiflora foetida var. arida       passiflora arida           1.0   \n",
       "468                             NaN     diospyros japonica           0.0   \n",
       "...                             ...                    ...           ...   \n",
       "5213               cordia corymbosa   varronia polycephala           0.0   \n",
       "5216             vitex rotundifolia                    NaN           0.0   \n",
       "5261                            NaN  filipendula multijuga           0.0   \n",
       "5278           benthamidia japonica           cornus kousa           0.0   \n",
       "5348        tillandsia graminifolia  lemeltonia monadelpha           0.0   \n",
       "\n",
       "      polyploid_age  \n",
       "42         9.198317  \n",
       "113      103.854830  \n",
       "365        2.035702  \n",
       "399        6.277480  \n",
       "468       94.772475  \n",
       "...             ...  \n",
       "5213      74.715914  \n",
       "5216       2.627097  \n",
       "5261     124.405486  \n",
       "5278     101.023554  \n",
       "5348     103.854830  \n",
       "\n",
       "[129 rows x 6 columns]"
      ]
     },
     "execution_count": 15,
     "metadata": {},
     "output_type": "execute_result"
    }
   ],
   "source": [
    "plant_classification.loc[(plant_classification.ploidb_name != plant_classification.resolved_name) & (plant_classification.ploidb_name != plant_classification.original_name)].dropna(subset=[\"is_polyploid\"])"
   ]
  },
  {
   "cell_type": "code",
   "execution_count": 9,
   "id": "9852ecb9-ac57-420f-b794-887133cccbae",
   "metadata": {},
   "outputs": [
    {
     "name": "stdout",
     "output_type": "stream",
     "text": [
      "# diploids for which ploidy age classification is required = 1\n"
     ]
    }
   ],
   "source": [
    "diploids_for_age_classification = plant_classification.query(\"polyploid_age.isna() and is_polyploid.notna()\")\n",
    "print(f\"# diploids for which ploidy age classification is required = {diploids_for_age_classification.shape[0]:,}\")"
   ]
  },
  {
   "cell_type": "code",
   "execution_count": 10,
   "id": "2f157509-5d9d-4515-af79-81ff879826c8",
   "metadata": {},
   "outputs": [
    {
     "data": {
      "text/plain": [
       "<AxesSubplot: >"
      ]
     },
     "execution_count": 10,
     "metadata": {},
     "output_type": "execute_result"
    },
    {
     "data": {
      "image/png": "[encoded data removed]",
      "text/plain": [
       "<Figure size 640x480 with 1 Axes>"
      ]
     },
     "metadata": {},
     "output_type": "display_data"
    }
   ],
   "source": [
    "plant_classification.polyploid_age.hist()"
   ]
  },
  {
   "cell_type": "markdown",
   "id": "b034733f-8c56-4f1f-836c-84156eb0fc94",
   "metadata": {
    "tags": []
   },
   "source": [
    "# report ploidy classification stats"
   ]
  },
  {
   "cell_type": "code",
   "execution_count": 11,
   "id": "c940e334-a5ad-4bd6-a985-02157060b543",
   "metadata": {},
   "outputs": [
    {
     "name": "stdout",
     "output_type": "stream",
     "text": [
      "% polyploids = 15.37% (822)\n",
      "% diploids = 26.27% (1,405)\n",
      "% undetermined = 58.37% (3,122)\n"
     ]
    }
   ],
   "source": [
    "print(f\"% polyploids = {np.round(plant_classification.loc[plant_classification.is_polyploid == 1].shape[0]/plant_classification.shape[0]*100,2)}% ({plant_classification.loc[plant_classification.is_polyploid == 1].shape[0]:,})\")\n",
    "print(f\"% diploids = {np.round(plant_classification.loc[plant_classification.is_polyploid == 0].shape[0]/plant_classification.shape[0]*100,2)}% ({plant_classification.loc[plant_classification.is_polyploid == 0].shape[0]:,})\")\n",
    "print(f\"% undetermined = {np.round(plant_classification.loc[plant_classification.is_polyploid.isna()].shape[0]/plant_classification.shape[0]*100,2)}% ({plant_classification.loc[plant_classification.is_polyploid.isna()].shape[0]:,})\")"
   ]
  },
  {
   "cell_type": "code",
   "execution_count": 16,
   "id": "0a0f240a-22fa-40b4-ae0e-b4ba009de991",
   "metadata": {},
   "outputs": [],
   "source": [
    "species_names_dfs = []\n",
    "for networks_type in networks_types:\n",
    "    networks_dir = f\"../../data/networks/all/{networks_type}/\"\n",
    "    for path in os.listdir(networks_dir):\n",
    "        if path.endswith(\".csv\"):\n",
    "            try:\n",
    "                network_path = f\"{networks_dir}{path}\"\n",
    "                network = pd.read_csv(network_path)\n",
    "                if not \"Plant\" in network.columns:\n",
    "                    network = network.rename(columns={\"Unnamed: 0\": \"Plant\"})\n",
    "                    network.to_csv(network_path)\n",
    "                network_species = pd.DataFrame(columns=[\"network_type\", \"network_id\", \"original_name\"])\n",
    "                network_species[\"original_name\"] = network.Plant.tolist()\n",
    "                network_species[\"network_type\"] = networks_type\n",
    "                network_species[\"network_id\"] = int(path.replace(\".csv\", \"\"))\n",
    "                species_names_dfs.append(network_species)\n",
    "            except Exception as e:\n",
    "                print(f\"error {e} for {path}\")\n",
    "                continue\n",
    "features_by_network = pd.concat(species_names_dfs)\n",
    "features_by_network.original_name = features_by_network.original_name.str.lower()\n",
    "features_by_network.original_name = features_by_network.original_name.apply(lambda name: name.replace(\"_\", \" \"))\n",
    "features_by_network = features_by_network.merge(plant_classification_df[[\"original_name\", \"is_polyploid\", \"polyploid_age\"]], on=\"original_name\", how=\"left\")"
   ]
  },
  {
   "cell_type": "code",
   "execution_count": 17,
   "id": "4dd13395-c9fa-4952-bb94-b5f3c597074f",
   "metadata": {},
   "outputs": [
    {
     "name": "stderr",
     "output_type": "stream",
     "text": [
      "/tmp/ipykernel_35324/2653682608.py:4: RuntimeWarning: invalid value encountered in long_scalars\n",
      "  return poly/(di+poly)\n"
     ]
    }
   ],
   "source": [
    "def get_poly_frac(labels):\n",
    "    poly = (labels == 1).sum()\n",
    "    di = (labels == 0).sum()\n",
    "    return poly/(di+poly)\n",
    "\n",
    "def get_missing_frac(labels):\n",
    "    missing = (labels.isna()).sum()\n",
    "    return missing/len(labels)         \n",
    "\n",
    "network_classification = features_by_network.groupby([\"network_type\", \"network_id\"]).agg({\"is_polyploid\": [get_poly_frac, get_missing_frac]}).reset_index()\n",
    "network_classification.columns = [f\"{c[0]}{c[1].replace('get','')}\" for c in network_classification.columns]\n",
    "\n",
    "network_classification = network_classification.fillna(0)"
   ]
  },
  {
   "cell_type": "code",
   "execution_count": 18,
   "id": "8352df84-d5d1-41d4-88af-3585002c97bc",
   "metadata": {},
   "outputs": [],
   "source": [
    "network_classification.to_csv(network_classification_path, index=False)"
   ]
  },
  {
   "cell_type": "markdown",
   "id": "f8e7f970-eff2-4343-be1b-e512c659f31c",
   "metadata": {
    "tags": []
   },
   "source": [
    "# fill network coverage as metadata"
   ]
  },
  {
   "cell_type": "code",
   "execution_count": 19,
   "id": "f81b1aaf-62d3-42e6-9366-e112cff61487",
   "metadata": {},
   "outputs": [],
   "source": [
    "network_classification = pd.read_csv(network_classification_path)\n",
    "plant_classification = pd.read_csv(plant_classification_path)"
   ]
  },
  {
   "cell_type": "code",
   "execution_count": 20,
   "id": "23ebfd54-b7f5-4fef-a4fd-2f6488b3c868",
   "metadata": {},
   "outputs": [
    {
     "data": {
      "application/vnd.jupyter.widget-view+json": {
       "model_id": "1a13b2d735c94dc2a3f24f5eebc84157",
       "version_major": 2,
       "version_minor": 0
      },
      "text/plain": [
       "VBox(children=(HBox(children=(IntProgress(value=0, description='0.00%', max=82), Label(value='0 / 82'))), HBox…"
      ]
     },
     "metadata": {},
     "output_type": "display_data"
    }
   ],
   "source": [
    "def get_network_stats(rec: pd.Series) -> list:\n",
    "    network_path = f\"{all_networks_dir}{rec.network_type}/{rec.network_id}.csv\"\n",
    "    network = pd.read_csv(network_path)\n",
    "    plants = network.Plant.str.lower().unique().tolist()\n",
    "    n_plants = len(plants)\n",
    "    n_resolved = len(plant_classification.loc[(plant_classification.original_name.isin(plants)) & (plant_classification.resolved_name.notna())].original_name.unique())\n",
    "    n_classified = len(plant_classification.loc[(plant_classification.original_name.isin(plants)) & (plant_classification.is_polyploid.notna())].original_name.unique())\n",
    "    n_polyploids = len(plant_classification.loc[(plant_classification.original_name.isin(plants)) & (plant_classification.is_polyploid == 1)].original_name.unique())\n",
    "    n_diploids = len(plant_classification.loc[(plant_classification.original_name.isin(plants)) & (plant_classification.is_polyploid == 0)].original_name.unique())\n",
    "    return n_plants, n_resolved, n_classified, n_polyploids, n_diploids\n",
    "\n",
    "network_classification[[\"num_plants\", \"num_resolved\", \"num_classified\", \"num_polyploids\", \"num_diploids\"]] = network_classification.parallel_apply(get_network_stats, axis=1, result_type=\"expand\")"
   ]
  },
  {
   "cell_type": "code",
   "execution_count": 21,
   "id": "275228d0-8343-47a3-a7d4-e46cf9148f29",
   "metadata": {},
   "outputs": [],
   "source": [
    "network_classification = network_classification.rename(columns={\"network_id\": \"network_index\"})\n",
    "network_classification.to_csv(network_classification_path)"
   ]
  },
  {
   "cell_type": "code",
   "execution_count": 22,
   "id": "ece87b52-cdd8-4121-841d-d5bbff5560db",
   "metadata": {},
   "outputs": [
    {
     "name": "stdout",
     "output_type": "stream",
     "text": [
      "% polyploids = 36.91% (822)\n",
      "% diploids = 63.09% (1405)\n"
     ]
    }
   ],
   "source": [
    "print(f\"% polyploids = {np.round(plant_classification.loc[plant_classification.is_polyploid == 1].shape[0] / plant_classification.loc[plant_classification.is_polyploid.notna()].shape[0]*100,2)}% ({plant_classification.loc[plant_classification.is_polyploid == 1].shape[0]})\")\n",
    "print(f\"% diploids = {np.round(plant_classification.loc[plant_classification.is_polyploid == 0].shape[0] / plant_classification.loc[plant_classification.is_polyploid.notna()].shape[0]*100,2)}% ({plant_classification.loc[plant_classification.is_polyploid == 0].shape[0]})\")"
   ]
  },
  {
   "cell_type": "code",
   "execution_count": 23,
   "id": "dc5879cd-d197-48e0-bced-e2e52f9d316d",
   "metadata": {},
   "outputs": [
    {
     "name": "stdout",
     "output_type": "stream",
     "text": [
      "mean % of polyploids across networks = 43.58%\n"
     ]
    }
   ],
   "source": [
    "print(f\"mean % of polyploids across networks = {np.round(network_classification.is_polyploid_poly_frac.mean()*100,2)}%\")"
   ]
  },
  {
   "cell_type": "code",
   "execution_count": 24,
   "id": "b8d0ef64-4eff-48e8-9419-df85cbbe7900",
   "metadata": {},
   "outputs": [
    {
     "data": {
      "text/plain": [
       "<AxesSubplot: >"
      ]
     },
     "execution_count": 24,
     "metadata": {},
     "output_type": "execute_result"
    },
    {
     "data": {
      "image/png": "[encoded data removed]",
      "text/plain": [
       "<Figure size 640x480 with 1 Axes>"
      ]
     },
     "metadata": {},
     "output_type": "display_data"
    }
   ],
   "source": [
    "network_classification.loc[network_classification.is_polyploid_missing_frac <= 0.5].is_polyploid_poly_frac.hist()"
   ]
  },
  {
   "cell_type": "code",
   "execution_count": 25,
   "id": "f60d90e6-3d93-4636-804a-28ee0d2498f3",
   "metadata": {},
   "outputs": [
    {
     "name": "stderr",
     "output_type": "stream",
     "text": [
      "/tmp/ipykernel_35324/2271092960.py:4: FutureWarning: Passing 'suffixes' which cause duplicate columns {'Unnamed: 0_x'} in the result is deprecated and will raise a MergeError in a future version.\n",
      "  networks_metadata = networks_metadata.merge(network_classification, on=[\"network_type\", \"network_index\"], how=\"left\")\n"
     ]
    }
   ],
   "source": [
    "networks_metadata = pd.read_csv(networks_metadata_path)\n",
    "network_classification = pd.read_csv(network_classification_path)\n",
    "networks_metadata = networks_metadata[[c for c in networks_metadata.columns if c not in ['is_polyploid_missing_frac', 'is_polyploid_poly_frac', 'num_classified']]]\n",
    "networks_metadata = networks_metadata.merge(network_classification, on=[\"network_type\", \"network_index\"], how=\"left\")\n",
    "networks_metadata.to_csv(networks_metadata_path, index=False)"
   ]
  },
  {
   "cell_type": "code",
   "execution_count": 26,
   "id": "92e118c1-ff1a-471d-b2bb-d46ea68638ec",
   "metadata": {},
   "outputs": [
    {
     "data": {
      "text/html": [
       "<div>\n",
       "<style scoped>\n",
       "    .dataframe tbody tr th:only-of-type {\n",
       "        vertical-align: middle;\n",
       "    }\n",
       "\n",
       "    .dataframe tbody tr th {\n",
       "        vertical-align: top;\n",
       "    }\n",
       "\n",
       "    .dataframe thead th {\n",
       "        text-align: right;\n",
       "    }\n",
       "</style>\n",
       "<table border=\"1\" class=\"dataframe\">\n",
       "  <thead>\n",
       "    <tr style=\"text-align: right;\">\n",
       "      <th></th>\n",
       "      <th>num_pollinators</th>\n",
       "      <th>num_plants.1</th>\n",
       "      <th>num_resolved.1</th>\n",
       "      <th>num_polyploids.1</th>\n",
       "      <th>num_diploids.1</th>\n",
       "      <th>num_plants</th>\n",
       "      <th>num_resolved</th>\n",
       "      <th>num_classified</th>\n",
       "      <th>num_polyploids</th>\n",
       "      <th>num_diploids</th>\n",
       "    </tr>\n",
       "  </thead>\n",
       "  <tbody>\n",
       "    <tr>\n",
       "      <th>0</th>\n",
       "      <td>11</td>\n",
       "      <td>8</td>\n",
       "      <td>8</td>\n",
       "      <td>0</td>\n",
       "      <td>1</td>\n",
       "      <td>8</td>\n",
       "      <td>8</td>\n",
       "      <td>2</td>\n",
       "      <td>0</td>\n",
       "      <td>2</td>\n",
       "    </tr>\n",
       "    <tr>\n",
       "      <th>1</th>\n",
       "      <td>25</td>\n",
       "      <td>51</td>\n",
       "      <td>43</td>\n",
       "      <td>7</td>\n",
       "      <td>16</td>\n",
       "      <td>51</td>\n",
       "      <td>43</td>\n",
       "      <td>17</td>\n",
       "      <td>3</td>\n",
       "      <td>14</td>\n",
       "    </tr>\n",
       "    <tr>\n",
       "      <th>2</th>\n",
       "      <td>77</td>\n",
       "      <td>15</td>\n",
       "      <td>0</td>\n",
       "      <td>0</td>\n",
       "      <td>0</td>\n",
       "      <td>15</td>\n",
       "      <td>0</td>\n",
       "      <td>0</td>\n",
       "      <td>0</td>\n",
       "      <td>0</td>\n",
       "    </tr>\n",
       "    <tr>\n",
       "      <th>3</th>\n",
       "      <td>96</td>\n",
       "      <td>68</td>\n",
       "      <td>0</td>\n",
       "      <td>0</td>\n",
       "      <td>0</td>\n",
       "      <td>68</td>\n",
       "      <td>0</td>\n",
       "      <td>0</td>\n",
       "      <td>0</td>\n",
       "      <td>0</td>\n",
       "    </tr>\n",
       "    <tr>\n",
       "      <th>4</th>\n",
       "      <td>23</td>\n",
       "      <td>14</td>\n",
       "      <td>0</td>\n",
       "      <td>0</td>\n",
       "      <td>0</td>\n",
       "      <td>14</td>\n",
       "      <td>0</td>\n",
       "      <td>0</td>\n",
       "      <td>0</td>\n",
       "      <td>0</td>\n",
       "    </tr>\n",
       "    <tr>\n",
       "      <th>...</th>\n",
       "      <td>...</td>\n",
       "      <td>...</td>\n",
       "      <td>...</td>\n",
       "      <td>...</td>\n",
       "      <td>...</td>\n",
       "      <td>...</td>\n",
       "      <td>...</td>\n",
       "      <td>...</td>\n",
       "      <td>...</td>\n",
       "      <td>...</td>\n",
       "    </tr>\n",
       "    <tr>\n",
       "      <th>1625</th>\n",
       "      <td>17</td>\n",
       "      <td>5</td>\n",
       "      <td>5</td>\n",
       "      <td>0</td>\n",
       "      <td>1</td>\n",
       "      <td>5</td>\n",
       "      <td>5</td>\n",
       "      <td>0</td>\n",
       "      <td>0</td>\n",
       "      <td>0</td>\n",
       "    </tr>\n",
       "    <tr>\n",
       "      <th>1626</th>\n",
       "      <td>14</td>\n",
       "      <td>6</td>\n",
       "      <td>6</td>\n",
       "      <td>0</td>\n",
       "      <td>2</td>\n",
       "      <td>6</td>\n",
       "      <td>6</td>\n",
       "      <td>1</td>\n",
       "      <td>0</td>\n",
       "      <td>1</td>\n",
       "    </tr>\n",
       "    <tr>\n",
       "      <th>1627</th>\n",
       "      <td>18</td>\n",
       "      <td>8</td>\n",
       "      <td>8</td>\n",
       "      <td>2</td>\n",
       "      <td>2</td>\n",
       "      <td>8</td>\n",
       "      <td>8</td>\n",
       "      <td>2</td>\n",
       "      <td>1</td>\n",
       "      <td>1</td>\n",
       "    </tr>\n",
       "    <tr>\n",
       "      <th>1628</th>\n",
       "      <td>12</td>\n",
       "      <td>5</td>\n",
       "      <td>5</td>\n",
       "      <td>0</td>\n",
       "      <td>1</td>\n",
       "      <td>5</td>\n",
       "      <td>5</td>\n",
       "      <td>0</td>\n",
       "      <td>0</td>\n",
       "      <td>0</td>\n",
       "    </tr>\n",
       "    <tr>\n",
       "      <th>1629</th>\n",
       "      <td>18</td>\n",
       "      <td>6</td>\n",
       "      <td>6</td>\n",
       "      <td>0</td>\n",
       "      <td>2</td>\n",
       "      <td>6</td>\n",
       "      <td>6</td>\n",
       "      <td>0</td>\n",
       "      <td>0</td>\n",
       "      <td>0</td>\n",
       "    </tr>\n",
       "  </tbody>\n",
       "</table>\n",
       "<p>1630 rows × 10 columns</p>\n",
       "</div>"
      ],
      "text/plain": [
       "      num_pollinators  num_plants.1  num_resolved.1  num_polyploids.1  \\\n",
       "0                  11             8               8                 0   \n",
       "1                  25            51              43                 7   \n",
       "2                  77            15               0                 0   \n",
       "3                  96            68               0                 0   \n",
       "4                  23            14               0                 0   \n",
       "...               ...           ...             ...               ...   \n",
       "1625               17             5               5                 0   \n",
       "1626               14             6               6                 0   \n",
       "1627               18             8               8                 2   \n",
       "1628               12             5               5                 0   \n",
       "1629               18             6               6                 0   \n",
       "\n",
       "      num_diploids.1  num_plants  num_resolved  num_classified  \\\n",
       "0                  1           8             8               2   \n",
       "1                 16          51            43              17   \n",
       "2                  0          15             0               0   \n",
       "3                  0          68             0               0   \n",
       "4                  0          14             0               0   \n",
       "...              ...         ...           ...             ...   \n",
       "1625               1           5             5               0   \n",
       "1626               2           6             6               1   \n",
       "1627               2           8             8               2   \n",
       "1628               1           5             5               0   \n",
       "1629               2           6             6               0   \n",
       "\n",
       "      num_polyploids  num_diploids  \n",
       "0                  0             2  \n",
       "1                  3            14  \n",
       "2                  0             0  \n",
       "3                  0             0  \n",
       "4                  0             0  \n",
       "...              ...           ...  \n",
       "1625               0             0  \n",
       "1626               0             1  \n",
       "1627               1             1  \n",
       "1628               0             0  \n",
       "1629               0             0  \n",
       "\n",
       "[1630 rows x 10 columns]"
      ]
     },
     "execution_count": 26,
     "metadata": {},
     "output_type": "execute_result"
    }
   ],
   "source": [
    "networks_metadata = networks_metadata.drop([\"num_plants_x\",\"num_resolved_x\", \"num_polyploids_x\", \"num_diploids_x\"], axis=1).rename(columns={c: c.replace(\"_y\", \"\") for c in networks_metadata.columns if c.endswith(\"_y\")})\n",
    "networks_metadata.filter(like=\"num\")"
   ]
  },
  {
   "cell_type": "code",
   "execution_count": 27,
   "id": "f3f3df03-e331-485b-b8e6-8f2ea72d08a1",
   "metadata": {},
   "outputs": [],
   "source": [
    "networks_metadata[\"included_in_analysis\"] = networks_metadata.apply(lambda rec: rec.num_classified >= 5 and\n",
    "                                                                    rec.num_pollinators >= 5 and\n",
    "                                                                    rec.is_polyploid_missing_frac <= 0.5 and\n",
    "                                                                    pd.notna(rec.AnnualPrecipitation) and\n",
    "                                                                    pd.notna(rec.frac_sc), axis=1)\n",
    "networks_metadata.to_csv(networks_metadata_path, index=False)"
   ]
  },
  {
   "cell_type": "code",
   "execution_count": 28,
   "id": "63f135f5-6e96-4dac-90ab-be1050eed3e4",
   "metadata": {},
   "outputs": [
    {
     "data": {
      "text/plain": [
       "Text(0.5, 1.0, 'distribution of %PP across 775 included in the analysis')"
      ]
     },
     "execution_count": 28,
     "metadata": {},
     "output_type": "execute_result"
    },
    {
     "data": {
      "image/png": "[encoded data removed]",
      "text/plain": [
       "<Figure size 640x480 with 1 Axes>"
      ]
     },
     "metadata": {},
     "output_type": "display_data"
    }
   ],
   "source": [
    "networks_metadata.loc[(networks_metadata.included_in_analysis)].is_polyploid_poly_frac.hist()\n",
    "plt.title(f\"distribution of %PP across {networks_metadata.loc[networks_metadata.included_in_analysis].shape[0]:,} included in the analysis\")"
   ]
  },
  {
   "cell_type": "code",
   "execution_count": null,
   "id": "6f6d4c1f-67fd-4f23-876d-da291fc4ea01",
   "metadata": {},
   "outputs": [],
   "source": []
  }
 ],
 "metadata": {
  "kernelspec": {
   "display_name": "Python 3 (ipykernel)",
   "language": "python",
   "name": "python3"
  },
  "language_info": {
   "codemirror_mode": {
    "name": "ipython",
    "version": 3
   },
   "file_extension": ".py",
   "mimetype": "text/x-python",
   "name": "python",
   "nbconvert_exporter": "python",
   "pygments_lexer": "ipython3",
   "version": "3.10.6"
  }
 },
 "nbformat": 4,
 "nbformat_minor": 5
}
