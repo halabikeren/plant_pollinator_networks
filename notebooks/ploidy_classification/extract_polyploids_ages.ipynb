{
 "cells": [
  {
   "cell_type": "code",
   "execution_count": 1,
   "id": "b31f9374-1746-4aee-8402-9e4ce06d045e",
   "metadata": {},
   "outputs": [
    {
     "name": "stdout",
     "output_type": "stream",
     "text": [
      "INFO: Pandarallel will run on 20 workers.\n",
      "INFO: Pandarallel will use Memory file system to transfer data between the main process and workers.\n"
     ]
    }
   ],
   "source": [
    "import pandas as pd\n",
    "import numpy as np\n",
    "import os\n",
    "from ete3 import Tree\n",
    "\n",
    "from pandarallel import pandarallel\n",
    "pandarallel.initialize(progress_bar=True)"
   ]
  },
  {
   "cell_type": "code",
   "execution_count": 2,
   "id": "44c4bc97-3dae-4b54-920a-eb687ddecac1",
   "metadata": {},
   "outputs": [],
   "source": [
    "ploidb_path = \"/groups/itay_mayrose/halabikeren/PloiDB/chromevol/results/with_model_weighting/ploidb_by_genus_without_missing.csv\"\n",
    "species_path = ploidb_path # \"/groups/itay_mayrose/halabikeren/plant_pollinator_networks/data/name_resolution/resolved_plant_names.csv\"\n",
    "ploidb_pipeline_dir = \"/groups/itay_mayrose/halabikeren/PloiDB/chromevol/with_model_weighting/by_genus_on_unresolved_ALLMB_and_unresolved_ccdb/\""
   ]
  },
  {
   "cell_type": "code",
   "execution_count": 3,
   "id": "840bc122-2456-4515-b8d0-ce94575549ad",
   "metadata": {},
   "outputs": [],
   "source": [
    "ploidb = pd.read_csv(ploidb_path)\n",
    "ploidb = ploidb[[c for c in ploidb.columns if \"Unnamed\" not in c]]"
   ]
  },
  {
   "cell_type": "code",
   "execution_count": 4,
   "id": "0430dd67-be21-4c02-bd2c-466cee504d92",
   "metadata": {},
   "outputs": [],
   "source": [
    "if species_path == ploidb_path:\n",
    "    species_df = ploidb\n",
    "else:\n",
    "    species_df = pd.read_csv(species_path)\n",
    "    species_df = species_df.dropna(subset=[\"resolved_name\"]).merge(ploidb, left_on=\"resolved_name\", right_on=\"Taxon\", how=\"left\")"
   ]
  },
  {
   "cell_type": "code",
   "execution_count": 5,
   "id": "9953e9f1-c034-4231-a971-9d8b2201dd36",
   "metadata": {},
   "outputs": [],
   "source": [
    "species_df_by_genus = species_df.groupby(\"Genus\")\n",
    "genera = list(species_df_by_genus.groups.keys())"
   ]
  },
  {
   "cell_type": "code",
   "execution_count": 12,
   "id": "2fee94fe-8650-4673-bcb4-48cb0b4f3e23",
   "metadata": {},
   "outputs": [],
   "source": [
    "def get_polyloidy_age(genus_df: pd.DataFrame) -> float:\n",
    "    genus_df[\"polyploid_age\"] = np.nan\n",
    "    genus = genus_df.Genus.str.lower().values[0]\n",
    "    genus_tree_path = f\"{ploidb_pipeline_dir}{genus}/chromevol/model_selection/gain_loss/MLAncestralReconstruction.tree\"\n",
    "    genus_tree = Tree(genus_tree_path, format=1)\n",
    "    polyploidy_ages_path = f\"{ploidb_pipeline_dir}{genus}/chromevol/observed_polyploidization_events.csv\"\n",
    "    if not os.path.exists(polyploidy_ages_path):\n",
    "        return genus_df\n",
    "    try:\n",
    "        polyploidy_ages = pd.read_csv(polyploidy_ages_path)\n",
    "    except Exception as e:\n",
    "        print(f\"failed to read ploidy ages data from {polyploidy_ages_path} due to error {e}\")\n",
    "        return genus_df\n",
    "    polyploidy_ages = polyploidy_ages.loc[polyploidy_ages.event_type.isin([\"DUPLICATION\", \"DEMI-DUPLICATION\", \"BASE-NUMBER\"])]\n",
    "    polyploids_to_age = polyploidy_ages.groupby(\"branch_child_name\")[\"age\"].max().to_dict() # age is measured by distance from leaves (time=0) so higher value means order. we want to measure the polyploid age according to the age of the first polyploidization event leading to it\n",
    "    for node in genus_tree.traverse(\"preorder\"):\n",
    "        node_name = \"-\".join(node.name.split(\"-\")[:-1])\n",
    "        if node_name in polyploids_to_age:\n",
    "            descendents = [\"-\".join(l.split(\"-\")[:-1]) for l in node.get_leaf_names()]\n",
    "            genus_df.loc[(genus_df.Taxon.isin(descendents)) & (genus_df.polyploid_age.isna()), \"polyploid_age\"] = polyploids_to_age[node_name]\n",
    "     \n",
    "    return genus_df"
   ]
  },
  {
   "cell_type": "code",
   "execution_count": 13,
   "id": "d7632ac4-fdd0-49a8-b362-480e0f66c87a",
   "metadata": {},
   "outputs": [
    {
     "name": "stderr",
     "output_type": "stream",
     "text": [
      "/tmp/ipykernel_10858/1169179207.py:10: DtypeWarning: Columns (9,10) have mixed types. Specify dtype option on import or set low_memory=False.\n",
      "  polyploidy_ages = pd.read_csv(polyploidy_ages_path)\n",
      "/tmp/ipykernel_10858/1169179207.py:10: DtypeWarning: Columns (0) have mixed types. Specify dtype option on import or set low_memory=False.\n",
      "  polyploidy_ages = pd.read_csv(polyploidy_ages_path)\n"
     ]
    },
    {
     "name": "stdout",
     "output_type": "stream",
     "text": [
      "failed to read ploidy ages data from /groups/itay_mayrose/halabikeren/PloiDB/chromevol/with_model_weighting/by_genus_on_unresolved_ALLMB_and_unresolved_ccdb/suaeda/chromevol/observed_polyploidization_events.csv due to error Error tokenizing data. C error: Expected 12 fields in line 73, saw 24\n",
      "\n"
     ]
    }
   ],
   "source": [
    "species_df_with_ploidy_ages = pd.concat([species_df.groupby(\"Genus\").apply(get_polyloidy_age)])"
   ]
  },
  {
   "cell_type": "code",
   "execution_count": null,
   "id": "d3585253-65e4-412d-9588-8069d00b769e",
   "metadata": {},
   "outputs": [],
   "source": [
    "species_df_with_ploidy_ages.to_csv(\""
   ]
  }
 ],
 "metadata": {
  "kernelspec": {
   "display_name": "Python 3 (ipykernel)",
   "language": "python",
   "name": "python3"
  },
  "language_info": {
   "codemirror_mode": {
    "name": "ipython",
    "version": 3
   },
   "file_extension": ".py",
   "mimetype": "text/x-python",
   "name": "python",
   "nbconvert_exporter": "python",
   "pygments_lexer": "ipython3",
   "version": "3.10.6"
  }
 },
 "nbformat": 4,
 "nbformat_minor": 5
}
