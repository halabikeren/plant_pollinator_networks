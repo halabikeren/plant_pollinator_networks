{
 "cells": [
  {
   "cell_type": "code",
   "execution_count": 13,
   "id": "385bc282-295a-4a9f-bf43-2a6e2c77e490",
   "metadata": {},
   "outputs": [
    {
     "name": "stdout",
     "output_type": "stream",
     "text": [
      "INFO: Pandarallel will run on 30 workers.\n",
      "INFO: Pandarallel will use standard multiprocessing data transfer (pipe) to transfer data between the main process and workers.\n"
     ]
    }
   ],
   "source": [
    "from ete3 import Tree\n",
    "import pandas as pd\n",
    "import numpy as np\n",
    "import itertools\n",
    "import os\n",
    "from collections import defaultdict, Counter\n",
    "\n",
    "from tqdm import tqdm\n",
    "tqdm.pandas()\n",
    "\n",
    "from pandarallel import pandarallel\n",
    "pandarallel.initialize(progress_bar=True, nb_workers=30, use_memory_fs=False)"
   ]
  },
  {
   "cell_type": "code",
   "execution_count": 146,
   "id": "769d3eb5-9fa6-4f06-bf0d-2a784f149323",
   "metadata": {},
   "outputs": [],
   "source": [
    "unresolved_plant_names_path = \"../data/name_resolution/unresolved_plant_names.csv\"\n",
    "resolved_plant_names_path = \"../data/name_resolution/resolved_plant_names.csv\"\n",
    "tree_path = f\"../data/trees/resolved_ALLMB_name_resolution_on_none_with_added_ccdb_names.nwk\"\n",
    "families_mrcas_path = \"../data/trees/optimal_ALLMB_roots_for_family_partition.csv\"\n",
    "\n",
    "expended_tree_path = f\"../data/trees/ALLMB_expanded_by_unresolved_names.tre\"\n",
    "mrca_backbone_path = f\"../data/trees/families_mrca_backbone_tree.nwk\"\n",
    "ott_family_trees_dir = \"../data/trees/OTT/ott_family_trees/\"\n",
    "ploidb_family_trees_dir = \"../../PloiDB/chromevol/with_model_weighting/by_family_on_unresolved_ALLMB_and_unresolved_ccdb/\"\n",
    "mrca_based_tree_path = \"../data/trees/families_mrca_based_tree.nwk\"\n",
    "sp_to_fam_path = \"../data/trees/species_family_classification.csv\""
   ]
  },
  {
   "cell_type": "code",
   "execution_count": 15,
   "id": "402df797-ef31-4e6f-8a2e-1b4adc9d41c3",
   "metadata": {},
   "outputs": [],
   "source": [
    "def process_tree(tree_path: str) -> Tree:\n",
    "    tree = Tree(tree_path, format=1)\n",
    "    for leaf in tree.get_leaves():\n",
    "        leaf.name = leaf.name.replace(\"_\",\" \").lower()\n",
    "    return tree\n",
    "\n",
    "tree = process_tree(tree_path)"
   ]
  },
  {
   "cell_type": "code",
   "execution_count": 17,
   "id": "676b23b9-a836-427e-a228-42341f90316c",
   "metadata": {},
   "outputs": [
    {
     "name": "stdout",
     "output_type": "stream",
     "text": [
      "# unresolved_plant_names = 5,297\n",
      "# resolved_plant_names = 3,874\n"
     ]
    }
   ],
   "source": [
    "unresolved_plant_names = pd.read_csv(unresolved_plant_names_path).Name.dropna().str.lower().unique().tolist()\n",
    "resolved_plant_names = pd.read_csv(resolved_plant_names_path).resolved_name.dropna().str.lower().unique().tolist()\n",
    "plant_names = resolved_plant_names if resolve_plant_names else unresolved_plant_names\n",
    "\n",
    "print(f\"# unresolved_plant_names = {len(unresolved_plant_names):,}\")\n",
    "print(f\"# resolved_plant_names = {len(resolved_plant_names):,}\")"
   ]
  },
  {
   "cell_type": "code",
   "execution_count": 18,
   "id": "470bf60c-fb85-4cbd-be7c-c2202cf5826b",
   "metadata": {},
   "outputs": [
    {
     "name": "stdout",
     "output_type": "stream",
     "text": [
      "# unresolved plant names that are present in the tree = 1,887\n",
      "# resolved plant names that are present in the tree = 1,970\n"
     ]
    }
   ],
   "source": [
    "tree_names = set(tree.get_leaf_names())\n",
    "\n",
    "unresolved_plant_names_in_tree = list(tree_names.intersection(set(unresolved_plant_names)))\n",
    "resolved_plant_names_in_tree = list(tree_names.intersection(set(resolved_plant_names)))\n",
    "plant_names_in_tree = resolved_plant_names_in_tree if resolve_plant_names else unresolved_plant_names_in_tree\n",
    "\n",
    "unresolved_plant_names_not_in_tree = list(set(unresolved_plant_names)-set(unresolved_plant_names_in_tree))\n",
    "resolved_plant_names_not_in_tree = list(set(resolved_plant_names)-set(resolved_plant_names_in_tree))\n",
    "plant_names_not_in_tree = resolved_plant_names_not_in_tree if resolve_plant_names else unresolved_plant_names_not_in_tree\n",
    "\n",
    "print(f\"# unresolved plant names that are present in the tree = {len(unresolved_plant_names_in_tree):,}\")\n",
    "print(f\"# resolved plant names that are present in the tree = {len(resolved_plant_names_in_tree):,}\")"
   ]
  },
  {
   "cell_type": "code",
   "execution_count": 19,
   "id": "b102fac0-f0de-48a2-bdce-4cb53bde968f",
   "metadata": {},
   "outputs": [
    {
     "name": "stdout",
     "output_type": "stream",
     "text": [
      "# out of 3,410 missing unresolved names in the tree, 2,463 can be added to the tree as direct children of their genus ancestor\n",
      "# out of 1,904 missing resolved names in the tree, 1,652 can be added to the tree as direct children of their genus ancestor\n"
     ]
    }
   ],
   "source": [
    "# compute names that can be added to the tree ad direct children of their genus ancestor\n",
    "tree_genera = set([name.split(\" \")[0] for name in tree.get_leaf_names()])\n",
    "names_genera = set([name.split(\" \")[0] for name in plant_names])\n",
    "\n",
    "unresolved_missing_names_that_can_be_added = [name for name in unresolved_plant_names_not_in_tree if name.split(\" \")[0] in tree_genera]\n",
    "resolved_missing_names_that_can_be_added = [name for name in resolved_plant_names_not_in_tree if name.split(\" \")[0] in tree_genera]\n",
    "\n",
    "print(f\"# out of {len(unresolved_plant_names_not_in_tree):,} missing unresolved names in the tree, {len(unresolved_missing_names_that_can_be_added):,} can be added to the tree as direct children of their genus ancestor\")\n",
    "print(f\"# out of {len(resolved_plant_names_not_in_tree):,} missing resolved names in the tree, {len(resolved_missing_names_that_can_be_added):,} can be added to the tree as direct children of their genus ancestor\")"
   ]
  },
  {
   "cell_type": "code",
   "execution_count": 22,
   "id": "dfa6723b-90dc-4bd8-8828-a889cfe220f5",
   "metadata": {},
   "outputs": [
    {
     "name": "stdout",
     "output_type": "stream",
     "text": [
      "# names that will be added to the tree = 2,463\n",
      "# genera to add direct children to 1,187\n",
      "computing lca per genus across 1,187 genera\n",
      "adding missing species under lca per genus across 1,187 genera\n",
      "# leafs in new tree = 4,350\n"
     ]
    }
   ],
   "source": [
    "tree_with_addition = tree.copy()\n",
    "names_to_keep = [name for name in tree.get_leaf_names() if name.split(\" \")[0] in names_genera]\n",
    "tree_with_addition.prune(names_to_keep, preserve_branch_length=True)\n",
    "\n",
    "names_to_add_to_tree = resolved_missing_names_that_can_be_added if resolve_plant_names else unresolved_missing_names_that_can_be_added \n",
    "print(f\"# names that will be added to the tree = {len(names_to_add_to_tree):,}\")\n",
    "\n",
    "genus_to_names_to_add = defaultdict(list)\n",
    "for name in names_to_add_to_tree:\n",
    "    genus = name.split(\" \")[0]\n",
    "    if genus in tree_genera:\n",
    "        genus_to_names_to_add[genus].append(name)\n",
    "print(f\"# genera to add direct children to {len(genus_to_names_to_add):,}\")\n",
    "\n",
    "genus_to_tree_names = defaultdict(list)\n",
    "for leaf_name in tree_with_addition.get_leaf_names():\n",
    "    genus = leaf_name.split(\" \")[0]\n",
    "    genus_to_tree_names[genus].append(leaf_name)\n",
    "\n",
    "print(f\"computing lca per genus across {len(genus_to_names_to_add):,} genera\")\n",
    "genus_to_ancestor = dict()\n",
    "for genus in genus_to_names_to_add:\n",
    "    if genus in tree_genera:\n",
    "        genus_names = genus_to_tree_names[genus]\n",
    "        assert(len(genus_names) > 0)\n",
    "        if len(genus_names) == 1:\n",
    "            genus_to_ancestor[genus] = tree_with_addition.search_nodes(name=genus_names[0])[0].up\n",
    "            continue\n",
    "        try:\n",
    "            genus_to_ancestor[genus] = tree_with_addition.get_common_ancestor(genus_names)\n",
    "        except Exception as e:\n",
    "            print(f\"could not find the ancestor of genus {genus} spannig species {','.join(genus_names)} due to error {e}\")\n",
    "\n",
    "print(f\"adding missing species under lca per genus across {len(genus_to_ancestor):,} genera\")\n",
    "for genus in genus_to_ancestor:\n",
    "    ancestor = genus_to_ancestor[genus]\n",
    "    names = set(genus_to_names_to_add[genus]) - set(ancestor.get_leaf_names())\n",
    "    time_to_leaf = ancestor.get_distance(ancestor.get_leaf_names()[0])\n",
    "    for name in names:\n",
    "        leaf = ancestor.add_child(name=name, dist=time_to_leaf)\n",
    "\n",
    "plant_names_for_tree = plant_names_in_tree + names_to_add_to_tree\n",
    "tree_with_addition.prune(plant_names_for_tree, preserve_branch_length=True)\n",
    "\n",
    "print(f\"# leafs in new tree = {len(tree_with_addition.get_leaf_names()):,}\")\n",
    "tree_with_addition.write(outfile=expended_tree_path)"
   ]
  },
  {
   "cell_type": "code",
   "execution_count": 23,
   "id": "b76d9bf4-0082-46ac-9076-88621d1396c5",
   "metadata": {},
   "outputs": [],
   "source": [
    "tree_with_addition = Tree(expended_tree_path)\n",
    "names_counter = Counter(tree_with_addition.get_leaf_names())\n",
    "duplicated_names = [name for name in names_counter if names_counter[name] > 1]"
   ]
  },
  {
   "cell_type": "code",
   "execution_count": 25,
   "id": "315833b9-baec-45d4-b7f0-193f27b25407",
   "metadata": {},
   "outputs": [],
   "source": [
    "name_to_leaves = {name: [l for l in tree_with_addition.get_leaves() if l.name == name] for name in duplicated_names}\n",
    "name_to_anc = {}\n",
    "for name in name_to_leaves:\n",
    "    leaves = name_to_leaves[name]\n",
    "    anc = tree_with_addition.get_common_ancestor(leaves)\n",
    "    name_to_anc[name] = anc\n",
    "    if len(anc.get_leaves()) > len(leaves):\n",
    "        # remove the less resolved leaf appearances\n",
    "        leaf_to_nsiblings = {leaf: len(leaf.up.get_children()) for leaf in leaves}\n",
    "        leaves.sort(key = lambda n: leaf_to_nsiblings[n])\n",
    "        best_leaf = leaves[0]\n",
    "        for leaf in leaves:\n",
    "            if leaf != best_leaf:\n",
    "                leaf.detach()\n",
    "            \n",
    "    else:\n",
    "        anc.name = name\n",
    "        anc.dist = anc.dist + anc.get_leaves()[0].dist\n",
    "        for leaf in anc.get_leaves():\n",
    "            leaf.detach()"
   ]
  },
  {
   "cell_type": "code",
   "execution_count": 26,
   "id": "f1aba617-1ba9-467f-9d7a-581409be88c1",
   "metadata": {},
   "outputs": [],
   "source": [
    "names_counter = Counter(tree_with_addition.get_leaf_names())\n",
    "duplicated_names = [name for name in names_counter if names_counter[name] > 1]\n",
    "assert(len(duplicated_names) == 0)"
   ]
  },
  {
   "cell_type": "code",
   "execution_count": 27,
   "id": "b7158dc4-32f1-4412-8b6a-0093d1135f70",
   "metadata": {},
   "outputs": [],
   "source": [
    "tree_with_addition.write(outfile=expended_tree_path)"
   ]
  },
  {
   "cell_type": "markdown",
   "id": "e6183fc3-f3ef-4077-8e80-2722565068ac",
   "metadata": {},
   "source": [
    "# alternative - build a tree from the MRCAs trees"
   ]
  },
  {
   "cell_type": "markdown",
   "id": "5c507c69-0535-4679-91e5-4ac71995d79a",
   "metadata": {},
   "source": [
    "## construct the mrca backbone"
   ]
  },
  {
   "cell_type": "code",
   "execution_count": 127,
   "id": "d5cf7045-c2b4-4162-98be-940fe23b1961",
   "metadata": {},
   "outputs": [],
   "source": [
    "tree = Tree(tree_path, format=1)\n",
    "families_mrcas = pd.read_csv(families_mrcas_path)"
   ]
  },
  {
   "cell_type": "code",
   "execution_count": 128,
   "id": "bbd4e113-889c-4409-ab12-18c7353c2fc9",
   "metadata": {},
   "outputs": [],
   "source": [
    "mrca_node_to_family = families_mrcas.set_index(\"node\")[\"family\"].to_dict()"
   ]
  },
  {
   "cell_type": "code",
   "execution_count": 129,
   "id": "bc22500b-ae83-432e-a3f4-58c9592106c0",
   "metadata": {},
   "outputs": [
    {
     "name": "stdout",
     "output_type": "stream",
     "text": [
      "mrca node N4116 of family polygalaceae is absent from the tree\n",
      "mrca node N63 of family cabombaceae is absent from the tree\n"
     ]
    }
   ],
   "source": [
    "mrca_tree = tree.copy()\n",
    "for name in mrca_node_to_family:\n",
    "    try:\n",
    "        node = mrca_tree.search_nodes(name=name)[0]\n",
    "        for child in node.get_children():\n",
    "            if child.name in mrca_node_to_family:\n",
    "                raiseValueError(f\"child node of {node.name} corresponding to family {mrca_node_to_family[name]} has a child node {child.name} that is the mrca of family {mrca_node_to_family[child.name]}\")\n",
    "            child.detach()\n",
    "        node.name = mrca_node_to_family[name]\n",
    "    except:\n",
    "        print(f\"mrca node {name} of family {mrca_node_to_family[name]} is absent from the tree\")"
   ]
  },
  {
   "cell_type": "code",
   "execution_count": 130,
   "id": "b884f148-046e-4bbf-b032-4862824531a7",
   "metadata": {},
   "outputs": [],
   "source": [
    "families = set(mrca_node_to_family.values())\n",
    "leaves_to_remove =  [l for l in mrca_tree.get_leaves() if l.name not in families]\n",
    "while len(leaves_to_remove) > 0:\n",
    "    for leaf in leaves_to_remove:\n",
    "        leaf.detach()\n",
    "    leaves_to_remove = [l for l in mrca_tree.get_leaves() if \" \" in l.name]"
   ]
  },
  {
   "cell_type": "code",
   "execution_count": 131,
   "id": "f74db561-bb8b-4b12-877b-7cbc581ef73a",
   "metadata": {},
   "outputs": [],
   "source": [
    "for lname in set(mrca_tree.get_leaf_names())-families:\n",
    "    l = tree.search_nodes(name=lname)[0]\n",
    "    l.detach()"
   ]
  },
  {
   "cell_type": "code",
   "execution_count": 132,
   "id": "847b9d76-404f-4e36-b9ab-afe282daa10c",
   "metadata": {},
   "outputs": [],
   "source": [
    "mrca_tree.write(outfile=mrca_backbone_path, format=1)"
   ]
  },
  {
   "cell_type": "markdown",
   "id": "f76c97a6-d2a3-4cb8-98cd-4a1c6680e711",
   "metadata": {},
   "source": [
    "## attach to each mrca the family tree given from ott"
   ]
  },
  {
   "cell_type": "code",
   "execution_count": 133,
   "id": "6f298152-1b09-4a7a-a8f9-f1fbe548f697",
   "metadata": {},
   "outputs": [
    {
     "name": "stdout",
     "output_type": "stream",
     "text": [
      "# families with no ott trees = 116 out of 317\n",
      "# for 81 families, ploidb trees weren't found either, suggesting that there are only few members of the family in the tree (less that 5) and so they will be excluded anyway\n"
     ]
    }
   ],
   "source": [
    "missing_ott_families = []\n",
    "missing_families = []\n",
    "family_to_tree_path = {}\n",
    "for leaf in mrca_tree.get_leaves():\n",
    "    family = leaf.name.lower()\n",
    "    family_tree_path = f\"{ott_family_trees_dir}{family}/tree.nwk\"\n",
    "    if not os.path.exists(family_tree_path):\n",
    "        missing_ott_families.append(family)\n",
    "        family_tree_path = f\"{ploidb_family_trees_dir}{family}/tree.nwk\"\n",
    "        if not os.path.exists(family_tree_path):\n",
    "            missing_families.append(family)\n",
    "            continue\n",
    "    family_to_tree_path[family] = family_tree_path\n",
    "        \n",
    "print(f\"# families with no ott trees = {len(missing_ott_families)} out of {len(families)}\")\n",
    "print(f\"# for {len(missing_families)} families, ploidb trees weren't found either, suggesting that there are only few members of the family in the tree (less that 5) and so they will be excluded anyway\")\n",
    "\n",
    "missing_families = set(missing_families)\n",
    "for family_node in mrca_tree.get_leaves():\n",
    "    if family_node.name in missing_families:\n",
    "        family_node.detach()"
   ]
  },
  {
   "cell_type": "code",
   "execution_count": 134,
   "id": "c1f292bc-5f1b-4edc-ae74-1ff5b8da6cb6",
   "metadata": {},
   "outputs": [
    {
     "data": {
      "text/plain": [
       "['ochnaceae',\n",
       " 'linaceae',\n",
       " 'euphorbiaceae',\n",
       " 'chrysobalanaceae',\n",
       " 'dichapetalaceae',\n",
       " 'rhizophoraceae',\n",
       " 'erythroxylaceae',\n",
       " 'phyllanthaceae',\n",
       " 'malpighiaceae',\n",
       " 'elatinaceae']"
      ]
     },
     "execution_count": 134,
     "metadata": {},
     "output_type": "execute_result"
    }
   ],
   "source": [
    "mrca_tree.get_leaf_names()[:10]"
   ]
  },
  {
   "cell_type": "code",
   "execution_count": 135,
   "id": "e0fb33eb-2214-4a74-a2f4-09e75ae8c726",
   "metadata": {},
   "outputs": [],
   "source": [
    "for family_node in mrca_tree.get_leaves():\n",
    "    family = family_node.name\n",
    "    try:\n",
    "        family_tree = Tree(family_to_tree_path[family])\n",
    "        family_node.add_child(family_tree, dist=0)\n",
    "    except:\n",
    "        family_node.detach()"
   ]
  },
  {
   "cell_type": "code",
   "execution_count": 137,
   "id": "bfe3def5-b250-4852-b5e6-9daab2ab7f9a",
   "metadata": {},
   "outputs": [],
   "source": [
    "mrca_tree.write(outfile=mrca_based_tree_path)"
   ]
  },
  {
   "cell_type": "code",
   "execution_count": 144,
   "id": "e0de173f-207a-4879-9ca4-5723b4b0211e",
   "metadata": {},
   "outputs": [],
   "source": [
    "sp_to_family = {}\n",
    "for family in families:\n",
    "    try:\n",
    "        family_mrca = mrca_tree.search_nodes(name=family)[0]\n",
    "        for leaf in family_mrca.get_leaves():\n",
    "            sp_to_family[leaf.name] = family\n",
    "    except:\n",
    "        continue"
   ]
  },
  {
   "cell_type": "code",
   "execution_count": 147,
   "id": "8195f138-fea0-4af7-a986-dfa7d53bfc02",
   "metadata": {},
   "outputs": [],
   "source": [
    "pd.Series(sp_to_family).reset_index().rename(columns={\"index\":\"Plant\", 0: \"Family\"}).to_csv(sp_to_fam_path, index=False)"
   ]
  },
  {
   "cell_type": "code",
   "execution_count": null,
   "id": "c83a7f61-b36a-4109-98cf-abffa002a418",
   "metadata": {},
   "outputs": [],
   "source": []
  }
 ],
 "metadata": {
  "kernelspec": {
   "display_name": "Python 3 (ipykernel)",
   "language": "python",
   "name": "python3"
  },
  "language_info": {
   "codemirror_mode": {
    "name": "ipython",
    "version": 3
   },
   "file_extension": ".py",
   "mimetype": "text/x-python",
   "name": "python",
   "nbconvert_exporter": "python",
   "pygments_lexer": "ipython3",
   "version": "3.10.6"
  }
 },
 "nbformat": 4,
 "nbformat_minor": 5
}
