{
 "cells": [
  {
   "cell_type": "code",
   "execution_count": 1,
   "metadata": {},
   "outputs": [],
   "source": [
    "import pandas as pd\n",
    "import numpy as np\n",
    "import matplotlib.pyplot as plt"
   ]
  },
  {
   "cell_type": "code",
   "execution_count": 2,
   "metadata": {},
   "outputs": [],
   "source": [
    "all_networks_edgelists = pd.read_csv(\"All_networks_edgelists_named.csv\")"
   ]
  },
  {
   "cell_type": "code",
   "execution_count": 3,
   "metadata": {},
   "outputs": [
    {
     "data": {
      "text/html": [
       "<div>\n",
       "<style scoped>\n",
       "    .dataframe tbody tr th:only-of-type {\n",
       "        vertical-align: middle;\n",
       "    }\n",
       "\n",
       "    .dataframe tbody tr th {\n",
       "        vertical-align: top;\n",
       "    }\n",
       "\n",
       "    .dataframe thead th {\n",
       "        text-align: right;\n",
       "    }\n",
       "</style>\n",
       "<table border=\"1\" class=\"dataframe\">\n",
       "  <thead>\n",
       "    <tr style=\"text-align: right;\">\n",
       "      <th></th>\n",
       "      <th>Unnamed: 0</th>\n",
       "      <th>source</th>\n",
       "      <th>network_type</th>\n",
       "      <th>network_path</th>\n",
       "      <th>Plant</th>\n",
       "      <th>matched_name</th>\n",
       "      <th>genus</th>\n",
       "      <th>family</th>\n",
       "      <th>Pollinator</th>\n",
       "      <th>Value</th>\n",
       "    </tr>\n",
       "  </thead>\n",
       "  <tbody>\n",
       "    <tr>\n",
       "      <th>0</th>\n",
       "      <td>0</td>\n",
       "      <td>iwdb</td>\n",
       "      <td>binary</td>\n",
       "      <td>/Users/noa/Workspace/networks/iwdb/binary/sant...</td>\n",
       "      <td>ziziphus cotinifolia reiss.</td>\n",
       "      <td>ziziphus cotinifolia</td>\n",
       "      <td>ziziphus</td>\n",
       "      <td>rhamnaceae</td>\n",
       "      <td>Polybia ignobilis</td>\n",
       "      <td>1.0</td>\n",
       "    </tr>\n",
       "    <tr>\n",
       "      <th>1</th>\n",
       "      <td>1</td>\n",
       "      <td>iwdb</td>\n",
       "      <td>binary</td>\n",
       "      <td>/Users/noa/Workspace/networks/iwdb/binary/sant...</td>\n",
       "      <td>caesalpinia pyramidalis tul.</td>\n",
       "      <td>cenostigma pyramidale (tul.) gagnon &amp; g.p.lewis</td>\n",
       "      <td>cenostigma</td>\n",
       "      <td>fabaceae</td>\n",
       "      <td>Polybia ignobilis</td>\n",
       "      <td>1.0</td>\n",
       "    </tr>\n",
       "    <tr>\n",
       "      <th>2</th>\n",
       "      <td>2</td>\n",
       "      <td>iwdb</td>\n",
       "      <td>binary</td>\n",
       "      <td>/Users/noa/Workspace/networks/iwdb/binary/sant...</td>\n",
       "      <td>erythroxylon catingae plowman</td>\n",
       "      <td>erythroxylum caatingae</td>\n",
       "      <td>erythroxylum</td>\n",
       "      <td>erythroxylaceae</td>\n",
       "      <td>Polybia ignobilis</td>\n",
       "      <td>1.0</td>\n",
       "    </tr>\n",
       "    <tr>\n",
       "      <th>3</th>\n",
       "      <td>3</td>\n",
       "      <td>iwdb</td>\n",
       "      <td>binary</td>\n",
       "      <td>/Users/noa/Workspace/networks/iwdb/binary/sant...</td>\n",
       "      <td>senna spectabilis (dc.) i. &amp; b.</td>\n",
       "      <td>senna spectabilis</td>\n",
       "      <td>senna</td>\n",
       "      <td>fabaceae</td>\n",
       "      <td>Polybia ignobilis</td>\n",
       "      <td>1.0</td>\n",
       "    </tr>\n",
       "    <tr>\n",
       "      <th>4</th>\n",
       "      <td>4</td>\n",
       "      <td>iwdb</td>\n",
       "      <td>binary</td>\n",
       "      <td>/Users/noa/Workspace/networks/iwdb/binary/sant...</td>\n",
       "      <td>sidastrum paniculatum (l.) fryxell</td>\n",
       "      <td>sidastrum paniculatum</td>\n",
       "      <td>sidastrum</td>\n",
       "      <td>malvaceae</td>\n",
       "      <td>Polybia ignobilis</td>\n",
       "      <td>1.0</td>\n",
       "    </tr>\n",
       "  </tbody>\n",
       "</table>\n",
       "</div>"
      ],
      "text/plain": [
       "   Unnamed: 0 source network_type  \\\n",
       "0           0   iwdb       binary   \n",
       "1           1   iwdb       binary   \n",
       "2           2   iwdb       binary   \n",
       "3           3   iwdb       binary   \n",
       "4           4   iwdb       binary   \n",
       "\n",
       "                                        network_path  \\\n",
       "0  /Users/noa/Workspace/networks/iwdb/binary/sant...   \n",
       "1  /Users/noa/Workspace/networks/iwdb/binary/sant...   \n",
       "2  /Users/noa/Workspace/networks/iwdb/binary/sant...   \n",
       "3  /Users/noa/Workspace/networks/iwdb/binary/sant...   \n",
       "4  /Users/noa/Workspace/networks/iwdb/binary/sant...   \n",
       "\n",
       "                                Plant  \\\n",
       "0         ziziphus cotinifolia reiss.   \n",
       "1        caesalpinia pyramidalis tul.   \n",
       "2       erythroxylon catingae plowman   \n",
       "3     senna spectabilis (dc.) i. & b.   \n",
       "4  sidastrum paniculatum (l.) fryxell   \n",
       "\n",
       "                                      matched_name         genus  \\\n",
       "0                             ziziphus cotinifolia      ziziphus   \n",
       "1  cenostigma pyramidale (tul.) gagnon & g.p.lewis    cenostigma   \n",
       "2                           erythroxylum caatingae  erythroxylum   \n",
       "3                                senna spectabilis         senna   \n",
       "4                            sidastrum paniculatum     sidastrum   \n",
       "\n",
       "            family         Pollinator  Value  \n",
       "0       rhamnaceae  Polybia ignobilis    1.0  \n",
       "1         fabaceae  Polybia ignobilis    1.0  \n",
       "2  erythroxylaceae  Polybia ignobilis    1.0  \n",
       "3         fabaceae  Polybia ignobilis    1.0  \n",
       "4        malvaceae  Polybia ignobilis    1.0  "
      ]
     },
     "execution_count": 3,
     "metadata": {},
     "output_type": "execute_result"
    }
   ],
   "source": [
    "all_networks_edgelists.head(5)"
   ]
  },
  {
   "cell_type": "code",
   "execution_count": 7,
   "metadata": {},
   "outputs": [
    {
     "name": "stdout",
     "output_type": "stream",
     "text": [
      "source\n",
      "mangal         324\n",
      "web_of_life    153\n",
      "literature      55\n",
      "iwdb            10\n",
      "Name: network_path, dtype: int64\n",
      "\n",
      "########\n",
      "\n",
      "network_type\n",
      "weighted    362\n",
      "binary      180\n",
      "Name: network_path, dtype: int64\n",
      "\n",
      "########\n",
      "\n",
      "Number of distinct plants: 4511 ,Percentage of known plants: 0.6931944136555087\n",
      "\n",
      "Plant                       matched_name              \n",
      "lasioglossum incompletum    lasioglossum incompletum      130\n",
      "halictus tripartitus        halictus tripartitus          128\n",
      "toxomerus marginatus        toxomerus marginatus          107\n",
      "halictus ligatus            halictus ligatus              102\n",
      "eupeodes fumipennis         eupeodes fumipennis            89\n",
      "paragus haemorrhous         paragus haemorrhous            82\n",
      "syritta pipiens             syritta pipiens                66\n",
      "nephrosperma vanhoutteanum  nephrosperma vanhoutteanum     65\n",
      "platycheirus stegnus        platycheilus                   62\n",
      "eupeodes volucris           eupeodes volucris              61\n",
      "Name: network_path, dtype: int64\n",
      "\n",
      "########\n",
      "\n",
      "genus\n",
      "unknown          230\n",
      "halictus         131\n",
      "lasioglossum     131\n",
      "toxomerus        107\n",
      "eupeodes          98\n",
      "sphaerophoria     83\n",
      "paragus           82\n",
      "syritta           81\n",
      "megachile         78\n",
      "erythroxylum      76\n",
      "Name: network_path, dtype: int64\n",
      "\n",
      "########\n",
      "\n",
      "Number of pollinators: 11649\n",
      "\n",
      "Pollinator\n",
      "Apis mellifera          192\n",
      "Convolvulus arvensis    115\n",
      "Brassica sp.            104\n",
      "Ornidia obesa            80\n",
      "Lasioglossum mahense     78\n",
      "bombus_bifarius          64\n",
      "Picris echioides         62\n",
      "lasioglossum_spp         58\n",
      "Musca domestica          55\n",
      "Hemipyrellia germana     55\n",
      "Name: network_path, dtype: int64\n"
     ]
    }
   ],
   "source": [
    "sources = all_networks_edgelists.groupby(\"source\")[\"network_path\"].nunique().sort_values(ascending = False)\n",
    "print(sources)\n",
    "print(\"\\n########\\n\")\n",
    "network_types = all_networks_edgelists.groupby(\"network_type\")[\"network_path\"].nunique().sort_values(ascending = False)\n",
    "print(network_types)\n",
    "print(\"\\n########\\n\")\n",
    "unique_plants_count = all_networks_edgelists.groupby([\"Plant\",\"matched_name\"])[\"network_path\"].nunique().sort_values(ascending = False)\n",
    "print(f\"Number of distinct plants: {len(unique_plants_count.index)} ,Percentage of known plants: {np.mean(unique_plants_count.reset_index()['matched_name']!='unknown')}\\n\")\n",
    "print(unique_plants_count.head(10))\n",
    "print(\"\\n########\\n\")\n",
    "genus = all_networks_edgelists.groupby(\"genus\")[\"network_path\"].nunique().sort_values(ascending = False)\n",
    "print(genus.head(10))\n",
    "print(\"\\n########\\n\")\n",
    "unique_pollinators_count = all_networks_edgelists.groupby([\"Pollinator\"])[\"network_path\"].nunique().sort_values(ascending = False)\n",
    "print(f\"Number of pollinators: {len(unique_pollinators_count.index)}\\n\")\n",
    "print(unique_pollinators_count.head(10))\n",
    "\n",
    "    \n"
   ]
  },
  {
   "cell_type": "code",
   "execution_count": 5,
   "metadata": {},
   "outputs": [],
   "source": [
    "all_networks_edgelists[\"is_plant_unknown\"] = all_networks_edgelists[\"matched_name\"] == \"unknown\"\n",
    "plants_per_network = all_networks_edgelists[[\"network_path\",\"matched_name\",\"is_plant_unknown\"]].drop_duplicates()\n",
    "pct_unknown_plants_per_network = plants_per_network.groupby(\"network_path\").mean(\"is_plant_unknown\")\n",
    "per_network_statistics = all_networks_edgelists.groupby(\"network_path\").agg(pollinators = (\"Pollinator\",\"nunique\"),\n",
    "                                                                           plants = (\"Plant\",\"nunique\"),\n",
    "                                                                            interactions = (\"Value\",\"count\"),\n",
    "                                                                            total_visits = (\"Value\",\"sum\")\n",
    "                                                                           )"
   ]
  },
  {
   "cell_type": "code",
   "execution_count": 6,
   "metadata": {},
   "outputs": [
    {
     "data": {
      "image/png": "[encoded data removed]",
      "text/plain": [
       "<Figure size 432x288 with 1 Axes>"
      ]
     },
     "metadata": {
      "needs_background": "light"
     },
     "output_type": "display_data"
    },
    {
     "data": {
      "image/png": "[encoded data removed]",
      "text/plain": [
       "<Figure size 432x288 with 1 Axes>"
      ]
     },
     "metadata": {
      "needs_background": "light"
     },
     "output_type": "display_data"
    },
    {
     "data": {
      "image/png": "[encoded data removed]",
      "text/plain": [
       "<Figure size 432x288 with 1 Axes>"
      ]
     },
     "metadata": {
      "needs_background": "light"
     },
     "output_type": "display_data"
    },
    {
     "data": {
      "image/png": "[encoded data removed]",
      "text/plain": [
       "<Figure size 432x288 with 1 Axes>"
      ]
     },
     "metadata": {
      "needs_background": "light"
     },
     "output_type": "display_data"
    }
   ],
   "source": [
    "plt.hist(pct_unknown_plants_per_network[\"is_plant_unknown\"],color = \"purple\", bins = 100 )\n",
    "plt.title('Percentage of unknown plants')\n",
    "plt.show()\n",
    "\n",
    "plt.hist(per_network_statistics[\"pollinators\"], color = \"red\", bins = 100)\n",
    "plt.title('Pollinators histogram')\n",
    "plt.show()\n",
    "\n",
    "plt.hist(per_network_statistics[\"plants\"], color = \"blue\", bins = 100)\n",
    "plt.title('plants')\n",
    "plt.show()\n",
    "\n",
    "plt.hist(per_network_statistics[\"interactions\"], color = \"green\", bins = 100)\n",
    "plt.title('interactions')\n",
    "plt.show()"
   ]
  },
  {
   "cell_type": "code",
   "execution_count": null,
   "metadata": {},
   "outputs": [],
   "source": []
  }
 ],
 "metadata": {
  "kernelspec": {
   "display_name": "Python 3",
   "language": "python",
   "name": "python3"
  },
  "language_info": {
   "codemirror_mode": {
    "name": "ipython",
    "version": 3
   },
   "file_extension": ".py",
   "mimetype": "text/x-python",
   "name": "python",
   "nbconvert_exporter": "python",
   "pygments_lexer": "ipython3",
   "version": "3.8.5"
  }
 },
 "nbformat": 4,
 "nbformat_minor": 4
}
