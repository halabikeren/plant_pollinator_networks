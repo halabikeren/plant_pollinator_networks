{
 "cells": [
  {
   "cell_type": "code",
   "execution_count": 14,
   "metadata": {
    "tags": []
   },
   "outputs": [],
   "source": [
    "import os\n",
    "import pandas as pd\n",
    "import numpy as np\n",
    "import re\n",
    "from typing import Tuple"
   ]
  },
  {
   "cell_type": "code",
   "execution_count": null,
   "metadata": {},
   "outputs": [],
   "source": [
    "networks_dir = \"/groups/itay_mayrose/halabikeren/plant_pollinator_networks/networks/web_of_life/\"\n",
    "exotic_species_path = \"../raw_CSVs/exotic_species.csv\""
   ]
  },
  {
   "cell_type": "code",
   "execution_count": 9,
   "metadata": {},
   "outputs": [],
   "source": [
    "exotic_species = pd.read_csv(exotic_species_path)"
   ]
  },
  {
   "cell_type": "code",
   "execution_count": 23,
   "metadata": {},
   "outputs": [],
   "source": [
    "def get_split(record: pd.Series) -> Tuple[str, str]:\n",
    "    row = record.values[0]\n",
    "    row_components = row.split(\" \")\n",
    "    return \" \".join(row_components[:2]), \" \".join(row_components[2:])\n",
    "    \n",
    "exotic_species[[\"species\", \"location\"]] = exotic_species.apply(get_split, axis=1, result_type=\"expand\")\n",
    "exotic_species.drop(\"Species\", inplace=True, axis=1)"
   ]
  },
  {
   "cell_type": "code",
   "execution_count": 44,
   "metadata": {},
   "outputs": [],
   "source": [
    "exotic_species_to_location = exotic_species.set_index(\"species\")[\"location\"].to_dict()"
   ]
  },
  {
   "cell_type": "code",
   "execution_count": 39,
   "metadata": {},
   "outputs": [],
   "source": [
    "def correction_location(location: str):\n",
    "    correction = {\"UK\": \"United Kingdom\", \"USA\": \"United States\"}\n",
    "    if location.upper() == location:\n",
    "        return correction[location]\n",
    "    return location\n",
    "\n",
    "network_metadata = pd.concat([pd.read_csv(f\"{networks_dir}/binary/references.csv\"), \n",
    "                              pd.read_csv(f\"{networks_dir}/weighted/references.csv\")])\n",
    "network_metadata[\"location\"] = network_metadata['Locality of Study'].apply(lambda row: correction_location(row.split(\",\")[-1].strip())) "
   ]
  },
  {
   "cell_type": "code",
   "execution_count": 42,
   "metadata": {},
   "outputs": [],
   "source": [
    "network_id_to_location = network_metadata.set_index(\"ID\")[\"location\"].to_dict()"
   ]
  },
  {
   "cell_type": "code",
   "execution_count": 58,
   "metadata": {},
   "outputs": [],
   "source": [
    "network_index_regex = re.compile(\"M_PL_(\\d*)_*\\d*.csv\")\n",
    "networks_paths = [f\"{networks_dir}/binary/{path}\" for path in os.listdir(f\"{networks_dir}/binary\") if path.startswith(\"M_PL\") and int(network_index_regex.search(path).group(1)) <= 59] + \\\n",
    "                 [f\"{networks_dir}/weighted/{path}\" for path in os.listdir(f\"{networks_dir}/weighted\") if path.startswith(\"M_PL\") and int(network_index_regex.search(path).group(1)) <= 59]\n",
    "networks = {os.path.basename(path): pd.read_csv(path) for path in networks_paths}\n",
    "for filename in networks:\n",
    "    networks[filename][\"is_exotic\"] = networks[filename].index.map(lambda name: True if filename in network_id_to_location and \n",
    "                                                                      name in exotic_species_to_location and\n",
    "                                                                      network_id_to_location[filename] == exotic_species_to_location[name]\n",
    "                                                                  else False)"
   ]
  },
  {
   "cell_type": "code",
   "execution_count": 60,
   "metadata": {},
   "outputs": [
    {
     "data": {
      "text/plain": [
       "0"
      ]
     },
     "execution_count": 60,
     "metadata": {},
     "output_type": "execute_result"
    }
   ],
   "source": [
    "networks_with_exotic_species = [network_id for network_id in networks if np.any(networks[network_id][\"is_exotic\"])]\n",
    "len(networks_with_exotic_species)"
   ]
  },
  {
   "cell_type": "code",
   "execution_count": null,
   "metadata": {},
   "outputs": [],
   "source": []
  }
 ],
 "metadata": {
  "kernelspec": {
   "display_name": "Python 3 (ipykernel)",
   "language": "python",
   "name": "python3"
  },
  "language_info": {
   "codemirror_mode": {
    "name": "ipython",
    "version": 3
   },
   "file_extension": ".py",
   "mimetype": "text/x-python",
   "name": "python",
   "nbconvert_exporter": "python",
   "pygments_lexer": "ipython3",
   "version": "3.10.4"
  }
 },
 "nbformat": 4,
 "nbformat_minor": 4
}