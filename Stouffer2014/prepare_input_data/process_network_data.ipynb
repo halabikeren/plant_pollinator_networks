{
 "cells": [
  {
   "cell_type": "code",
   "execution_count": 1,
   "metadata": {
    "tags": []
   },
   "outputs": [],
   "source": [
    "import os\n",
    "import pandas as pd\n",
    "import numpy as np\n",
    "import re\n",
    "from typing import Tuple, Optional"
   ]
  },
  {
   "cell_type": "code",
   "execution_count": 2,
   "metadata": {},
   "outputs": [],
   "source": [
    "networks_dir = \"/groups/itay_mayrose/halabikeren/plant_pollinator_networks/networks/web_of_life/\"\n",
    "exotic_species_path = \"../raw_CSVs/exotic_species.csv\"\n",
    "processed_networks_dir = \"/groups/itay_mayrose/halabikeren/tmp/plant_pollinator_inter/Stouffer2014/raw_CSVs/networks/\""
   ]
  },
  {
   "cell_type": "code",
   "execution_count": 3,
   "metadata": {},
   "outputs": [],
   "source": [
    "exotic_species = pd.read_csv(exotic_species_path)\n",
    "def get_split(record: pd.Series) -> Tuple[str, str]:\n",
    "    row = record.values[0]\n",
    "    row_components = row.split(\" \")\n",
    "    return \" \".join(row_components[:2]), \" \".join(row_components[2:])\n",
    "    \n",
    "exotic_species[[\"species\", \"location\"]] = exotic_species.apply(get_split, axis=1, result_type=\"expand\")\n",
    "exotic_species.drop(\"Species\", inplace=True, axis=1)\n",
    "exotic_species['location'] = exotic_species['location'].apply(lambda loc: \" \".join(loc.split(\" \")[:-1]).lower().split(\"(\")[0].replace(\"islands\", \"\"))\n",
    "exotic_species.species = exotic_species.species.str.lower()"
   ]
  },
  {
   "cell_type": "code",
   "execution_count": 4,
   "metadata": {},
   "outputs": [],
   "source": [
    "exotic_species_names = list(exotic_species.species.unique())"
   ]
  },
  {
   "cell_type": "code",
   "execution_count": 5,
   "metadata": {},
   "outputs": [],
   "source": [
    "exotic_species_to_location = exotic_species.set_index(\"species\")[\"location\"].to_dict()"
   ]
  },
  {
   "cell_type": "code",
   "execution_count": 6,
   "metadata": {},
   "outputs": [],
   "source": [
    "def correction_location(location: str):\n",
    "    correction = {\"UK\": \"United Kingdom\", \"USA\": \"United States\", \"England\": \"United Kingdom\"}\n",
    "    if location in correction:\n",
    "        return correction[location]\n",
    "    return location\n",
    "\n",
    "network_metadata = pd.concat([pd.read_csv(f\"{networks_dir}/binary/references.csv\"), \n",
    "                              pd.read_csv(f\"{networks_dir}/weighted/references.csv\")])\n",
    "network_metadata[\"location\"] = network_metadata['Locality of Study'].apply(lambda row: correction_location(row.split(\",\")[-1].strip()).lower()) "
   ]
  },
  {
   "cell_type": "code",
   "execution_count": 7,
   "metadata": {},
   "outputs": [
    {
     "data": {
      "text/html": [
       "<div>\n",
       "<style scoped>\n",
       "    .dataframe tbody tr th:only-of-type {\n",
       "        vertical-align: middle;\n",
       "    }\n",
       "\n",
       "    .dataframe tbody tr th {\n",
       "        vertical-align: top;\n",
       "    }\n",
       "\n",
       "    .dataframe thead th {\n",
       "        text-align: right;\n",
       "    }\n",
       "</style>\n",
       "<table border=\"1\" class=\"dataframe\">\n",
       "  <thead>\n",
       "    <tr style=\"text-align: right;\">\n",
       "      <th></th>\n",
       "      <th>ID</th>\n",
       "      <th>Species</th>\n",
       "      <th>Interactions</th>\n",
       "      <th>Connectance</th>\n",
       "      <th>Type of interactions</th>\n",
       "      <th>Type of data</th>\n",
       "      <th>Reference</th>\n",
       "      <th>Locality of Study</th>\n",
       "      <th>Latitude</th>\n",
       "      <th>Longitude</th>\n",
       "      <th>location</th>\n",
       "    </tr>\n",
       "  </thead>\n",
       "  <tbody>\n",
       "    <tr>\n",
       "      <th>0</th>\n",
       "      <td>M_PL_004</td>\n",
       "      <td>114</td>\n",
       "      <td>167</td>\n",
       "      <td>NaN</td>\n",
       "      <td>Pollination</td>\n",
       "      <td>1</td>\n",
       "      <td>Barrett, S. C. H., and K. Helenurm. 1987. The ...</td>\n",
       "      <td>Central New Brunswick, Canada</td>\n",
       "      <td>46.553731</td>\n",
       "      <td>-66.071245</td>\n",
       "      <td>canada</td>\n",
       "    </tr>\n",
       "    <tr>\n",
       "      <th>1</th>\n",
       "      <td>M_PL_006</td>\n",
       "      <td>78</td>\n",
       "      <td>146</td>\n",
       "      <td>NaN</td>\n",
       "      <td>Pollination</td>\n",
       "      <td>1</td>\n",
       "      <td>Dicks, LV, Corbet, SA and Pywell, RF 2002. Com...</td>\n",
       "      <td>Hickling, Norfolk, UK</td>\n",
       "      <td>52.762395</td>\n",
       "      <td>1.575532</td>\n",
       "      <td>united kingdom</td>\n",
       "    </tr>\n",
       "    <tr>\n",
       "      <th>2</th>\n",
       "      <td>M_PL_007</td>\n",
       "      <td>52</td>\n",
       "      <td>85</td>\n",
       "      <td>NaN</td>\n",
       "      <td>Pollination</td>\n",
       "      <td>1</td>\n",
       "      <td>Dicks, LV, Corbet, SA and Pywell, RF 2002. Com...</td>\n",
       "      <td>Shelfanger, Norfolk, UK</td>\n",
       "      <td>52.413173</td>\n",
       "      <td>1.097873</td>\n",
       "      <td>united kingdom</td>\n",
       "    </tr>\n",
       "    <tr>\n",
       "      <th>3</th>\n",
       "      <td>M_PL_013</td>\n",
       "      <td>65</td>\n",
       "      <td>103</td>\n",
       "      <td>NaN</td>\n",
       "      <td>Pollination</td>\n",
       "      <td>1</td>\n",
       "      <td>Ollerton, J., S. D. Johnson, L. Cranmer, and S...</td>\n",
       "      <td>KwaZulu-Natal region, South Africa</td>\n",
       "      <td>-29.616667</td>\n",
       "      <td>30.133333</td>\n",
       "      <td>south africa</td>\n",
       "    </tr>\n",
       "    <tr>\n",
       "      <th>4</th>\n",
       "      <td>M_PL_017</td>\n",
       "      <td>104</td>\n",
       "      <td>299</td>\n",
       "      <td>NaN</td>\n",
       "      <td>Pollination</td>\n",
       "      <td>1</td>\n",
       "      <td>Memmott J. 1999. The structure of a plant-poll...</td>\n",
       "      <td>Bristol, England</td>\n",
       "      <td>51.574994</td>\n",
       "      <td>-2.589902</td>\n",
       "      <td>united kingdom</td>\n",
       "    </tr>\n",
       "  </tbody>\n",
       "</table>\n",
       "</div>"
      ],
      "text/plain": [
       "         ID  Species  Interactions  Connectance Type of interactions  \\\n",
       "0  M_PL_004      114           167          NaN          Pollination   \n",
       "1  M_PL_006       78           146          NaN          Pollination   \n",
       "2  M_PL_007       52            85          NaN          Pollination   \n",
       "3  M_PL_013       65           103          NaN          Pollination   \n",
       "4  M_PL_017      104           299          NaN          Pollination   \n",
       "\n",
       "   Type of data                                          Reference  \\\n",
       "0             1  Barrett, S. C. H., and K. Helenurm. 1987. The ...   \n",
       "1             1  Dicks, LV, Corbet, SA and Pywell, RF 2002. Com...   \n",
       "2             1  Dicks, LV, Corbet, SA and Pywell, RF 2002. Com...   \n",
       "3             1  Ollerton, J., S. D. Johnson, L. Cranmer, and S...   \n",
       "4             1  Memmott J. 1999. The structure of a plant-poll...   \n",
       "\n",
       "                    Locality of Study   Latitude  Longitude        location  \n",
       "0       Central New Brunswick, Canada  46.553731 -66.071245          canada  \n",
       "1               Hickling, Norfolk, UK  52.762395   1.575532  united kingdom  \n",
       "2             Shelfanger, Norfolk, UK  52.413173   1.097873  united kingdom  \n",
       "3  KwaZulu-Natal region, South Africa -29.616667  30.133333    south africa  \n",
       "4                    Bristol, England  51.574994  -2.589902  united kingdom  "
      ]
     },
     "execution_count": 7,
     "metadata": {},
     "output_type": "execute_result"
    }
   ],
   "source": [
    "network_metadata.head()"
   ]
  },
  {
   "cell_type": "code",
   "execution_count": 8,
   "metadata": {},
   "outputs": [],
   "source": [
    "network_id_to_location = network_metadata.set_index(\"ID\")[\"location\"].to_dict()"
   ]
  },
  {
   "cell_type": "code",
   "execution_count": 9,
   "metadata": {},
   "outputs": [
    {
     "name": "stdout",
     "output_type": "stream",
     "text": [
      "exotic species are present in newtwork M_PL_044.csv\n",
      "exotic species are present in newtwork M_PL_055.csv\n",
      "exotic species are present in newtwork M_PL_057.csv\n",
      "exotic species are present in newtwork M_PL_054.csv\n",
      "exotic species are present in newtwork M_PL_019.csv\n",
      "exotic species are present in newtwork M_PL_006.csv\n",
      "exotic species are present in newtwork M_PL_007.csv\n",
      "exotic species are present in newtwork M_PL_017.csv\n",
      "exotic species are present in newtwork M_PL_058.csv\n",
      "exotic species are present in newtwork M_PL_047.csv\n",
      "exotic species are present in newtwork M_PL_042.csv\n",
      "exotic species are present in newtwork M_PL_046.csv\n",
      "exotic species are present in newtwork M_PL_043.csv\n",
      "exotic species are present in newtwork M_PL_026.csv\n",
      "exotic species are present in newtwork M_PL_018.csv\n",
      "exotic species are present in newtwork M_PL_021.csv\n",
      "exotic species are present in newtwork M_PL_036.csv\n",
      "exotic species are present in newtwork M_PL_037.csv\n",
      "exotic species are present in newtwork M_PL_005.csv\n",
      "exotic species are present in newtwork M_PL_039.csv\n",
      "exotic species are present in newtwork M_PL_011.csv\n",
      "exotic species are present in newtwork M_PL_028.csv\n",
      "exotic species are present in newtwork M_PL_015.csv\n",
      "exotic species are present in newtwork M_PL_029.csv\n",
      "exotic species are present in newtwork M_PL_048.csv\n",
      "exotic species are present in newtwork M_PL_049.csv\n"
     ]
    }
   ],
   "source": [
    "def is_exotic(name: str, network_location: Optional[str], species_location: Optional[str]) -> bool:\n",
    "    if pd.isna(network_location):\n",
    "        # print(f\"error! network location is missing\")\n",
    "        return False\n",
    "    if pd.isna(species_location):\n",
    "        # print(f\"species {name} is not exotic anywhere\")\n",
    "        return False\n",
    "    # print(f\"network_location={network_location}, species_location={species_location}\")\n",
    "    res = True if species_location in network_location else False\n",
    "    return res\n",
    "    \n",
    "\n",
    "network_index_regex = re.compile(\"M_PL_(\\d*)_*\\d*.csv\")\n",
    "networks_paths = [f\"{networks_dir}/binary/{path}\" for path in os.listdir(f\"{networks_dir}/binary\") if path.startswith(\"M_PL\") and int(network_index_regex.search(path).group(1)) <= 59] + \\\n",
    "                 [f\"{networks_dir}/weighted/{path}\" for path in os.listdir(f\"{networks_dir}/weighted\") if path.startswith(\"M_PL\") and int(network_index_regex.search(path).group(1)) <= 59]\n",
    "networks = {os.path.basename(path): pd.read_csv(path).rename(columns={\"Unnamed: 0\": \"plant_name\"}) for path in networks_paths}\n",
    "for filename in networks:\n",
    "    networks[filename].plant_name = networks[filename].plant_name.str.lower()\n",
    "    if np.any(networks[filename].plant_name.isin(exotic_species_names)):\n",
    "        print(f\"exotic species are present in newtwork {filename}\")\n",
    "    networks[filename][\"is_exotic\"] = networks[filename].plant_name.apply(lambda name: is_exotic(name, network_id_to_location.get(filename.replace(\".csv\",\"\"), np.nan), exotic_species_to_location.get(name, np.nan)))\n",
    "    networks[filename].to_csv(f\"{processed_networks_dir}{filename}\")"
   ]
  },
  {
   "cell_type": "code",
   "execution_count": 10,
   "metadata": {},
   "outputs": [
    {
     "data": {
      "text/plain": [
       "17"
      ]
     },
     "execution_count": 10,
     "metadata": {},
     "output_type": "execute_result"
    }
   ],
   "source": [
    "networks_with_exotic_species = [network_id for network_id in networks if np.any(networks[network_id][\"is_exotic\"])]\n",
    "len(networks_with_exotic_species)"
   ]
  },
  {
   "cell_type": "code",
   "execution_count": 31,
   "metadata": {},
   "outputs": [],
   "source": [
    "network_to_class = {network: np.any(networks[network][\"is_exotic\"]) for network in networks}\n",
    "network_classification = pd.DataFrame.from_dict(network_to_class, orient=\"index\").reset_index().rename(columns={\"index\": \"network\", 0: \"is_exotic\"})\n",
    "network_classification.to_csv(\"network_classification.csv\", index=False)"
   ]
  },
  {
   "cell_type": "code",
   "execution_count": null,
   "metadata": {},
   "outputs": [],
   "source": []
  }
 ],
 "metadata": {
  "kernelspec": {
   "display_name": "Python 3 (ipykernel)",
   "language": "python",
   "name": "python3"
  },
  "language_info": {
   "codemirror_mode": {
    "name": "ipython",
    "version": 3
   },
   "file_extension": ".py",
   "mimetype": "text/x-python",
   "name": "python",
   "nbconvert_exporter": "python",
   "pygments_lexer": "ipython3",
   "version": "3.10.4"
  }
 },
 "nbformat": 4,
 "nbformat_minor": 4
}