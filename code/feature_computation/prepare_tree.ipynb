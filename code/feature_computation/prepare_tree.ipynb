{
 "cells": [
  {
   "cell_type": "code",
   "execution_count": 1,
   "id": "385bc282-295a-4a9f-bf43-2a6e2c77e490",
   "metadata": {},
   "outputs": [
    {
     "name": "stderr",
     "output_type": "stream",
     "text": [
      "/groups/itay_mayrose/halabikeren/miniconda3/envs/ppn/lib/python3.10/site-packages/ete3-3.1.2-py3.7.egg/ete3/evol/parser/codemlparser.py:221: SyntaxWarning: \"is\" with a literal. Did you mean \"==\"?\n",
      "/groups/itay_mayrose/halabikeren/miniconda3/envs/ppn/lib/python3.10/site-packages/ete3-3.1.2-py3.7.egg/ete3/evol/parser/codemlparser.py:221: SyntaxWarning: \"is\" with a literal. Did you mean \"==\"?\n"
     ]
    },
    {
     "name": "stdout",
     "output_type": "stream",
     "text": [
      "INFO: Pandarallel will run on 30 workers.\n",
      "INFO: Pandarallel will use standard multiprocessing data transfer (pipe) to transfer data between the main process and workers.\n"
     ]
    }
   ],
   "source": [
    "from ete3 import Tree\n",
    "import pandas as pd\n",
    "import numpy as np\n",
    "import itertools\n",
    "import os\n",
    "from collections import defaultdict\n",
    "\n",
    "from tqdm import tqdm\n",
    "tqdm.pandas()\n",
    "\n",
    "from pandarallel import pandarallel\n",
    "pandarallel.initialize(progress_bar=True, nb_workers=30, use_memory_fs=False)"
   ]
  },
  {
   "cell_type": "code",
   "execution_count": 17,
   "id": "769d3eb5-9fa6-4f06-bf0d-2a784f149323",
   "metadata": {},
   "outputs": [],
   "source": [
    "tree_name = \"ALLMB\" # or \"ALLOTB\"\n",
    "resolve_plant_names = False\n",
    "\n",
    "unresolved_plant_names_path = \"/groups/itay_mayrose/halabikeren/plant_pollinator_networks/name_resolution/unresolved_plant_names.csv\"\n",
    "resolved_plant_names_path = \"/groups/itay_mayrose/halabikeren/plant_pollinator_networks/name_resolution/resolved_plant_names.csv\"\n",
    "tree_path = f\"/groups/itay_mayrose/halabikeren/plant_pollinator_networks/trees/{tree_name}.tre\"\n",
    "\n",
    "expended_tree_path = f\"/groups/itay_mayrose/halabikeren/plant_pollinator_networks/trees/{tree_name}_expanded_by_{'resolved' if resolve_plant_names else 'unresolved'}_names.tre\""
   ]
  },
  {
   "cell_type": "code",
   "execution_count": 18,
   "id": "402df797-ef31-4e6f-8a2e-1b4adc9d41c3",
   "metadata": {},
   "outputs": [],
   "source": [
    "def process_tree(tree_path: str) -> Tree:\n",
    "    tree = Tree(tree_path, format=1)\n",
    "    for leaf in tree.get_leaves():\n",
    "        leaf.name = leaf.name.replace(\"_\",\" \").lower()\n",
    "    return tree\n",
    "\n",
    "tree = process_tree(tree_path)"
   ]
  },
  {
   "cell_type": "code",
   "execution_count": 19,
   "id": "676b23b9-a836-427e-a228-42341f90316c",
   "metadata": {},
   "outputs": [
    {
     "name": "stdout",
     "output_type": "stream",
     "text": [
      "# unresolved_plant_names = 5,322\n",
      "# resolved_plant_names = 3,556\n"
     ]
    }
   ],
   "source": [
    "unresolved_plant_names = pd.read_csv(unresolved_plant_names_path).Name.dropna().str.lower().unique().tolist()\n",
    "resolved_plant_names = pd.read_csv(resolved_plant_names_path).resolved_name.dropna().str.lower().unique().tolist()\n",
    "plant_names = resolved_plant_names if resolve_plant_names else unresolved_plant_names\n",
    "\n",
    "print(f\"# unresolved_plant_names = {len(unresolved_plant_names):,}\")\n",
    "print(f\"# resolved_plant_names = {len(resolved_plant_names):,}\")"
   ]
  },
  {
   "cell_type": "code",
   "execution_count": 20,
   "id": "470bf60c-fb85-4cbd-be7c-c2202cf5826b",
   "metadata": {},
   "outputs": [
    {
     "name": "stdout",
     "output_type": "stream",
     "text": [
      "# unresolved plant names that are present in the tree = 2,373\n",
      "# resolved plant names that are present in the tree = 2,544\n"
     ]
    }
   ],
   "source": [
    "tree_names = set(tree.get_leaf_names())\n",
    "\n",
    "unresolved_plant_names_in_tree = list(tree_names.intersection(set(unresolved_plant_names)))\n",
    "resolved_plant_names_in_tree = list(tree_names.intersection(set(resolved_plant_names)))\n",
    "plant_names_in_tree = resolved_plant_names_in_tree if resolve_plant_names else unresolved_plant_names_in_tree\n",
    "\n",
    "unresolved_plant_names_not_in_tree = list(set(unresolved_plant_names)-set(unresolved_plant_names_in_tree))\n",
    "resolved_plant_names_not_in_tree = list(set(resolved_plant_names)-set(resolved_plant_names_in_tree))\n",
    "plant_names_not_in_tree = resolved_plant_names_not_in_tree if resolve_plant_names else unresolved_plant_names_not_in_tree\n",
    "\n",
    "print(f\"# unresolved plant names that are present in the tree = {len(unresolved_plant_names_in_tree):,}\")\n",
    "print(f\"# resolved plant names that are present in the tree = {len(resolved_plant_names_in_tree):,}\")"
   ]
  },
  {
   "cell_type": "code",
   "execution_count": 21,
   "id": "b102fac0-f0de-48a2-bdce-4cb53bde968f",
   "metadata": {},
   "outputs": [
    {
     "name": "stdout",
     "output_type": "stream",
     "text": [
      "# out of 2,949 missing unresolved names in the tree, 2,264 can be added to the tree as direct children of their genus ancestor\n",
      "# out of 1,012 missing resolved names in the tree, 949 can be added to the tree as direct children of their genus ancestor\n"
     ]
    }
   ],
   "source": [
    "# compute names that can be added to the tree ad direct children of their genus ancestor\n",
    "tree_genera = set([name.split(\" \")[0] for name in tree.get_leaf_names()])\n",
    "names_genera = set([name.split(\" \")[0] for name in plant_names])\n",
    "\n",
    "unresolved_missing_names_that_can_be_added = [name for name in unresolved_plant_names_not_in_tree if name.split(\" \")[0] in tree_genera]\n",
    "resolved_missing_names_that_can_be_added = [name for name in resolved_plant_names_not_in_tree if name.split(\" \")[0] in tree_genera]\n",
    "\n",
    "print(f\"# out of {len(unresolved_plant_names_not_in_tree):,} missing unresolved names in the tree, {len(unresolved_missing_names_that_can_be_added):,} can be added to the tree as direct children of their genus ancestor\")\n",
    "print(f\"# out of {len(resolved_plant_names_not_in_tree):,} missing resolved names in the tree, {len(resolved_missing_names_that_can_be_added):,} can be added to the tree as direct children of their genus ancestor\")"
   ]
  },
  {
   "cell_type": "code",
   "execution_count": 23,
   "id": "dfa6723b-90dc-4bd8-8828-a889cfe220f5",
   "metadata": {},
   "outputs": [
    {
     "name": "stdout",
     "output_type": "stream",
     "text": [
      "# names that will be added to the tree = 2,264\n",
      "# genera to add direct children to 1,282\n",
      "computing lca per genus across 1,282 genera\n",
      "adding missing species under lca per genus across 1,282 genera\n",
      "# leafs in new tree = 4,637\n"
     ]
    }
   ],
   "source": [
    "tree_with_addition = tree.copy()\n",
    "names_to_keep = [name for name in tree.get_leaf_names() if name.split(\" \")[0] in names_genera]\n",
    "tree_with_addition.prune(names_to_keep, preserve_branch_length=True)\n",
    "\n",
    "names_to_add_to_tree = resolved_missing_names_that_can_be_added if resolve_plant_names else unresolved_missing_names_that_can_be_added \n",
    "print(f\"# names that will be added to the tree = {len(names_to_add_to_tree):,}\")\n",
    "\n",
    "genus_to_names_to_add = defaultdict(list)\n",
    "for name in names_to_add_to_tree:\n",
    "    genus = name.split(\" \")[0]\n",
    "    if genus in tree_genera:\n",
    "        genus_to_names_to_add[genus].append(name)\n",
    "print(f\"# genera to add direct children to {len(genus_to_names_to_add):,}\")\n",
    "\n",
    "genus_to_tree_names = defaultdict(list)\n",
    "for leaf_name in tree_with_addition.get_leaf_names():\n",
    "    genus = leaf_name.split(\" \")[0]\n",
    "    genus_to_tree_names[genus].append(leaf_name)\n",
    "\n",
    "print(f\"computing lca per genus across {len(genus_to_names_to_add):,} genera\")\n",
    "genus_to_ancestor = dict()\n",
    "for genus in genus_to_names_to_add:\n",
    "    if genus in tree_genera:\n",
    "        genus_names = genus_to_tree_names[genus]\n",
    "        assert(len(genus_names) > 0)\n",
    "        if len(genus_names) == 1:\n",
    "            genus_to_ancestor[genus] = tree_with_addition.search_nodes(name=genus_names[0])[0].up\n",
    "            continue\n",
    "        try:\n",
    "            genus_to_ancestor[genus] = tree_with_addition.get_common_ancestor(genus_names)\n",
    "        except Exception as e:\n",
    "            print(f\"could not find the ancestor of genus {genus} spannig species {','.join(genus_names)} due to error {e}\")\n",
    "\n",
    "print(f\"adding missing species under lca per genus across {len(genus_to_ancestor):,} genera\")\n",
    "for genus in genus_to_ancestor:\n",
    "    ancestor = genus_to_ancestor[genus]\n",
    "    names = set(genus_to_names_to_add[genus]) - set(ancestor.get_leaf_names())\n",
    "    time_to_leaf = ancestor.get_distance(ancestor.get_leaf_names()[0])\n",
    "    for name in names:\n",
    "        leaf = ancestor.add_child(name=name, dist=time_to_leaf)\n",
    "\n",
    "plant_names_for_tree = plant_names_in_tree + names_to_add_to_tree\n",
    "tree_with_addition.prune(plant_names_for_tree, preserve_branch_length=True)\n",
    "\n",
    "print(f\"# leafs in new tree = {len(tree_with_addition.get_leaf_names()):,}\")\n",
    "tree_with_addition.write(outfile=expended_tree_path)"
   ]
  }
 ],
 "metadata": {
  "kernelspec": {
   "display_name": "Python 3 (ipykernel)",
   "language": "python",
   "name": "python3"
  },
  "language_info": {
   "codemirror_mode": {
    "name": "ipython",
    "version": 3
   },
   "file_extension": ".py",
   "mimetype": "text/x-python",
   "name": "python",
   "nbconvert_exporter": "python",
   "pygments_lexer": "ipython3",
   "version": "3.10.4"
  }
 },
 "nbformat": 4,
 "nbformat_minor": 5
}
